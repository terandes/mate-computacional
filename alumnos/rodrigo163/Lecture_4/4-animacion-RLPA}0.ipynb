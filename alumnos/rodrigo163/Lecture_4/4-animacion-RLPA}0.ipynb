{
 "metadata": {
  "name": "",
  "signature": "sha256:81c1d2c845afe0da6886980a036cfc09c52da3236a5da6330a099334264a2f4e"
 },
 "nbformat": 3,
 "nbformat_minor": 0,
 "worksheets": [
  {
   "cells": [
    {
     "cell_type": "heading",
     "level": 1,
     "metadata": {},
     "source": [
      "Animaci\u00f3n"
     ]
    },
    {
     "cell_type": "markdown",
     "metadata": {},
     "source": [
      "<div class=\"alert alert-info\">\n",
      "**NOTA**: El codigo de esta secci\u00f3n est\u00e1 basado en el trabajo de [Jake Vanderplas](http://nbviewer.ipython.org/url/jakevdp.github.io/downloads/notebooks/AnimationEmbedding.ipynb)\n",
      "</div>"
     ]
    },
    {
     "cell_type": "markdown",
     "metadata": {},
     "source": [
      "<div class=\"alert alert-danger\">\n",
      "**NOTA** Para que las animaciones puedan ser mostradas es necesario instalar el paquete ` libav-tools` usando (desde la cuenta de `root`) el comando `apt-get install libav-tools`. Esto instalar\u00e1 el programa `ffmpeg`, que en nuestra versi\u00f3n de Ubuntu es `avconv` (ver detalles [aqu\u00ed](http://askubuntu.com/questions/432542/is-ffmpeg-missing-from-the-official-repositories-in-14-04)).\n",
      "</div>"
     ]
    },
    {
     "cell_type": "code",
     "collapsed": false,
     "input": [
      "%pylab inline"
     ],
     "language": "python",
     "metadata": {},
     "outputs": [
      {
       "output_type": "stream",
       "stream": "stdout",
       "text": [
        "Populating the interactive namespace from numpy and matplotlib\n"
       ]
      }
     ],
     "prompt_number": 20
    },
    {
     "cell_type": "markdown",
     "metadata": {},
     "source": [
      "B\u00e1sicamente lo que hace el c\u00f3digo siguiente (funci\u00f3n `anim_to_html`), es crear un archivo temporal con la animaci\u00f3n en formato `mp4` y devolver una cadena de c\u00f3digo `html`. La funci\u00f3n siguiente `display_animation` lo muestra usando las capacidades de algunos navegadores (no todos los navegadores soportan `mp4`) usando etiquetas de `HTML5`."
     ]
    },
    {
     "cell_type": "code",
     "collapsed": false,
     "input": [
      "from tempfile import NamedTemporaryFile\n",
      "\n",
      "VIDEO_TAG = \"\"\"<video controls>\n",
      " <source src=\"data:video/x-m4v;base64,{0}\" type=\"video/mp4\">\n",
      " Tu navegador no soporta este formato de v\u00eddeo.\n",
      "</video>\"\"\"\n",
      "\n",
      "def anim_to_html(anim):\n",
      "    if not hasattr(anim, '_encoded_video'):\n",
      "        with NamedTemporaryFile(suffix='.mp4') as f:\n",
      "            anim.save(f.name, writer='avconv', fps=20, extra_args=['-vcodec', 'libx264'])\n",
      "            video = open(f.name, \"rb\").read()\n",
      "        anim._encoded_video = video.encode(\"base64\")\n",
      "    \n",
      "    return VIDEO_TAG.format(anim._encoded_video)"
     ],
     "language": "python",
     "metadata": {},
     "outputs": [],
     "prompt_number": 22
    },
    {
     "cell_type": "code",
     "collapsed": false,
     "input": [
      "from IPython.display import HTML\n",
      "\n",
      "def display_animation(anim):\n",
      "    plt.close(anim._fig)\n",
      "    return HTML(anim_to_html(anim))"
     ],
     "language": "python",
     "metadata": {},
     "outputs": [],
     "prompt_number": 23
    },
    {
     "cell_type": "markdown",
     "metadata": {},
     "source": [
      "El paquete (**animation**)[http://matplotlib.org/api/animation_api.html] crea una secuencia de im\u00e1genes. Para funcionar, requiere que definamos las funciones `init` (inicializa) y `animate` (crea cada _frame_ de la secuencia)."
     ]
    },
    {
     "cell_type": "code",
     "collapsed": false,
     "input": [
      "from matplotlib import animation\n",
      "\n",
      "# Figura, ejes y el elemento plot que vamos a animar\n",
      "fig = plt.figure()\n",
      "ax = plt.axes(xlim=(0, 2), ylim=(-2, 2))\n",
      "line, = ax.plot([], [], lw=2)"
     ],
     "language": "python",
     "metadata": {},
     "outputs": [
      {
       "metadata": {},
       "output_type": "display_data",
       "png": "[encoded data removed]",
       "text": [
        "<matplotlib.figure.Figure at 0x7f7609cc2e50>"
       ]
      }
     ],
     "prompt_number": 24
    },
    {
     "cell_type": "code",
     "collapsed": false,
     "input": [
      "# Dibujamos el fondo de cada fragmento\n",
      "def init():\n",
      "    line.set_data([], [])\n",
      "    return line,"
     ],
     "language": "python",
     "metadata": {},
     "outputs": [],
     "prompt_number": 25
    },
    {
     "cell_type": "code",
     "collapsed": false,
     "input": [
      "# Funci\u00f3n de animaci\u00f3n, se llama secuencialmente\n",
      "def animate(i):\n",
      "    x = np.linspace(0, 2, 1000)\n",
      "    y = np.sin(2 * np.pi * (x - 0.01 * i))\n",
      "    line.set_data(x, y)\n",
      "    return line,"
     ],
     "language": "python",
     "metadata": {},
     "outputs": [],
     "prompt_number": 26
    },
    {
     "cell_type": "code",
     "collapsed": false,
     "input": [
      "# Para detalles de los par\u00e1metros de la funcion: http://matplotlib.org/api/animation_api.html?highlight=funcanimation\n",
      "anim = animation.FuncAnimation(fig, animate, init_func=init, frames=10, interval=20, blit=True)"
     ],
     "language": "python",
     "metadata": {},
     "outputs": [],
     "prompt_number": 27
    },
    {
     "cell_type": "code",
     "collapsed": false,
     "input": [
      "# call our new function to display the animation\n",
      "display_animation(anim)"
     ],
     "language": "python",
     "metadata": {},
     "outputs": [
      {
       "html": [
        "<video controls>\n",
        " <source src=\"data:video/x-m4v;base64,AAAAIGZ0eXBpc29tAAACAGlzb21pc28yYXZjMW1wNDEAAAAIZnJlZQAAH65tZGF0AAACrgYF//+q\n",
        "3EXpvebZSLeWLNgg2SPu73gyNjQgLSBjb3JlIDE0MiByMjM4OSA5NTZjOGQ4IC0gSC4yNjQvTVBF\n",
        "Ry00IEFWQyBjb2RlYyAtIENvcHlsZWZ0IDIwMDMtMjAxNCAtIGh0dHA6Ly93d3cudmlkZW9sYW4u\n",
        "b3JnL3gyNjQuaHRtbCAtIG9wdGlvbnM6IGNhYmFjPTEgcmVmPTMgZGVibG9jaz0xOjA6MCBhbmFs\n",
        "eXNlPTB4MzoweDExMyBtZT1oZXggc3VibWU9NyBwc3k9MSBwc3lfcmQ9MS4wMDowLjAwIG1peGVk\n",
        "X3JlZj0xIG1lX3JhbmdlPTE2IGNocm9tYV9tZT0xIHRyZWxsaXM9MSA4eDhkY3Q9MSBjcW09MCBk\n",
        "ZWFkem9uZT0yMSwxMSBmYXN0X3Bza2lwPTEgY2hyb21hX3FwX29mZnNldD0tMiB0aHJlYWRzPTYg\n",
        "bG9va2FoZWFkX3RocmVhZHM9MSBzbGljZWRfdGhyZWFkcz0wIG5yPTAgZGVjaW1hdGU9MSBpbnRl\n",
        "cmxhY2VkPTAgYmx1cmF5X2NvbXBhdD0wIGNvbnN0cmFpbmVkX2ludHJhPTAgYmZyYW1lcz0zIGJf\n",
        "cHlyYW1pZD0yIGJfYWRhcHQ9MSBiX2JpYXM9MCBkaXJlY3Q9MSB3ZWlnaHRiPTEgb3Blbl9nb3A9\n",
        "MCB3ZWlnaHRwPTIga2V5aW50PTI1MCBrZXlpbnRfbWluPTIwIHNjZW5lY3V0PTQwIGludHJhX3Jl\n",
        "ZnJlc2g9MCByY19sb29rYWhlYWQ9NDAgcmM9Y3JmIG1idHJlZT0xIGNyZj0yMy4wIHFjb21wPTAu\n",
        "NjAgcXBtaW49MCBxcG1heD02OSBxcHN0ZXA9NCBpcF9yYXRpbz0xLjI1IGFxPTE6MS4wMACAAAAR\n",
        "1GWIhAA7//73Tr8Cm0WXagOSVwr2yqQmWblSawHypgAAAwAAEbCGP8qf8VhmAIb0BgzHUxZkkyyp\n",
        "3u2JNhs+V0tlxLDzH9GebhxZX8bDVJuTS15L6mRNZ2M8QiMfLbZT+0DcPkEHAladYSwa4jpwvD2I\n",
        "jLqewZhltwud6dnnGTGzoc77kUbXVKcJRM+Ie87riqXq84GmIcMQUvH1lP3lJxoUbHL6W4E9AocJ\n",
        "miPphBr3+sOLtBdpf8g2A6q7BEDDY831k1KeZz8Sc0YpBRiwVhlZn/zxwwFuI9t4MnoS1UaHxkjb\n",
        "ZweZbgG1ORUEJb/+7libXLKdMlQSaVFGtaRQ5TetV86e7Uhzk/973pt9ghnh4h8ggj8Sw1UBGJ3r\n",
        "jqQsyZTsegsc2s7v4yy7uQ2u9grWEjIjKxKEwtkYMikKwO90ytA7LGG9PmmKjR0X8pgDsLdP3TYf\n",
        "BeA04Y6V/1WdBwzI6pSgF3kVzPVAD+0lHu0KA77Yq8lAOWYAAgTYmVydKi5FIh0cnqyDV5oswD4i\n",
        "RHQZACWF6g16sigLSeW19MSv5zvAjBAGUIgxyMaelwrDErxVccFc0iymaZ7mKSIz+sSGQFACtM3w\n",
        "cR7HrP54c2JHJWe64ujkBN8eXSP6wUTlqo5f+6JQEM3vF8PlVrsSxUaJb6j0ZT3wL/x8pLAv/dVi\n",
        "mgN7IslDEqsNVGEmKqqvtsURO3gQ6T0jx4pWO7IsAc8L35Df+Hqk2i4K5RewT73gKb9aS9R+NPPW\n",
        "RZWpwf2cYU5kaV/vU6DZ+c1fvIBOSXvAP8jJIoDp6YnO3E/fvaePBgpDFTe37l5ceLMhEgTSfpZk\n",
        "7kSyRQfGve4erU72MBJIYiw2YQAHVQ6fxb1YblFi4gTrsqtjbGZgM0gQ/VtA80DyHIGudDpJ7SA5\n",
        "xGNtQkLw4WLyDJXqdFSvax/QP91cfuWeY7VdT/oH0wlS++jlpmJQX+l3/PAQOixS6amW5tsvqyEu\n",
        "Uz8Sl0nfSF6ZKqe5YjhuAuwk3wrweIZnLGIj8ToHV00CyrFNqSRl9RAXKaA8yPIYeWQn05MkgPbM\n",
        "rKJTx9Mr92T4cRxmzJesr4sIacFjyU52RlTlU/tMS1X43Atf9bsNnFEJWOgDcH57lFpG6N10gmdm\n",
        "4QAvdONyr3XBsFJCcY0bmW809cw+Tj/uBuyluoz6YenxMWWTwxISc8PYMUJcTQO9O9y2rpUve7Eq\n",
        "8mFahwla1ANANZ2Y5Ol1FWfOprQk8t+dBRcHfd4fmXjk16rgJO1ZJhUq0lhlv38AejKIQvMlq/Yv\n",
        "FiPlAt2rn1T5CqBCYSM5X+grR3FT21zETA3MqbrzBxQtSCo/BwEV1eC3M8f0/82vYDIZPryetLWx\n",
        "7WMaNZXipKPGaKKi92MsdLqwJVH4xcYKab2Nt6rVm6YHgTj5mdR6VrTLzAXHPZCDZzYN3loYudxf\n",
        "h9CqjH0QlAtcqjZ3G9PNDAYlGvobQjftIcZkIvuRSZWBpi7Zjn7Ws1hyXrwWyxVgTbg6CdT7mwVl\n",
        "gJZJrhXx5lIwQkgx7o3MRGEBcFEDkN+QZ2i4hBGFfpQM25NFPjnqMWiaMQs1MTFPn0oiSsokCg81\n",
        "h2Iv8+kbhU1K/1ZlOpJD6ay6so3wE66YGB0pdzXR9VsMGqP3iRqr7DYAPWM9mkqIQAdz69YbfVwV\n",
        "NpZKCTW6wCHdTiQ0Kl/0QAW64NlX2l0N7QkuHnaGwUnCWoBCDtwekC3+aQ14SWgzady3dAULx9WI\n",
        "J4+Fl3Jy/eQN0IBpIEVQJBfBw6o70Rq06wp1py3ZMgq2vFBDKpp1gCExfTwdKNhgQ1b6R04l+yBE\n",
        "BVPV+dExc2jIHm9OnE3AyNEkVEHAz1dXAHM/ihbjsSqnQozVHJKFeqh8lhhfqUdvgvdokM0rNDWS\n",
        "ahjJ3sTCr5Jr7unZWip2whVwwChios/93mKouBIg1lRhuKxXQ8sIV1eJJ0vPfbOFmgBNvuZEKel9\n",
        "0Lud6WzVonVk7VQlxMo39GdrJCd+lbAAFjAg01azjjo/6SDhW6fxMwRtQdKCf7UhVSbK7pu6Wdes\n",
        "U4+3pzpo61T3wdvFsSXPw+BzDbyORpPejwZRMwTxnX6vZqZKbb2Us00YRyPgASewlGKLXfI3WwKS\n",
        "usAn8kxbc6fpMJGwu+4HuhFiFo8WfQ9jEFW+vio7QtuLLHG7kLIy9KWuYgKPgDFZ4wSJHBRO6FwG\n",
        "0T29nkajCvWgEJ4ME/joCaWn4PqdW6CPfx/IKjQDQSSzqxpy1nvmSCqzx9tvHjGRN/BoaQ2dH/BC\n",
        "m0cpzQcwzABbP2AQyhh57JsHWyjCyfuU1/eC4aJdss4Qk0Rm1qHCpB8p7y3dyIBV/WYJfxstmSxg\n",
        "seKqP/lEJI2m2VSEe52C0kco1pjwJUo1SlCPVjZQnbWRI9VGr7ZC5hWphMDnN/UT6v8qowzeHe3D\n",
        "VKyZrOD69so9q6XR3vyE/hSlGPJMWpzXTVLUu2DBZdf0zNScHpWttRWxAlPVyNQdJ8hgF+T4MxcG\n",
        "wNBYKQzHZWv4QzlZDVQrGnBhRVJpz0b5HhxemSnOZAzI3oBUW+CbiAp5WUYYSXxt8cMTpp5mme1L\n",
        "juhLNKsZAB6Pmb/uDDeW88fdKoSggPhIT6Y6ibIc4IL5F7qNusfsmfdtmykn/s35JlUU9+xPdiD5\n",
        "R8ochfen7ho0be9+pX9UHFmIfnlRb047xvb9Lm9DLOZUWVn87Phk82aso0CPyPrE6hAalVswDKHR\n",
        "PHLosF10/FyjXIUUHl90gg9JGcUD+9Adghp4nstJXSJUyMe8Di9DwZfXpkacZx+rnfEuv1XswTxr\n",
        "h7vQTB6hOkGdBEGTqNxJSWRV3Qd8MsO/fp+v4TjHdbEoqFAd2+R1G8Nzc55jCaEVOWAx4w13BGzp\n",
        "Stz+5cikme7MHuxBgQfWUO60hT6RUcvCSFTQaEswAnS8nO9amQgnRqLRM3CP8nkvh/iwlB7OtLCq\n",
        "RMyzzs23AOF2UY/LLAt/n2kJCvMjUvhh0NnQISVH01s/Hc4O3wd5J9SeL4R9KTe/maPMEMG4FxW0\n",
        "3K7McB2DZrYB42r05B5sQBStTwRYC53PS/A6hMbcttuMXaAQ4W26KsLw4B1psqg7+Wl9UTcWFcn4\n",
        "XEuWSQjX/tmn0w4DniH20Yxc9xbMLt9mhJIzivtpS9O/JULgLJAmZVE28s3YAzqY6MoB/Q++1f23\n",
        "e/hGmOmMZDWzi4dyceraVYh8esIFwCdPZkaxr/8alAdP6U+j28VR5l2qVfI2Pf3AfqYY//hm7gko\n",
        "Aicz+nkHxa1K1fXfmLDNX3kMsNGOki0KJQuvIPMfS5H1DBBGcCLNFWOFqzIFlJNku0A61unxwzrU\n",
        "hgCiRCH0C5EYwKkUerZ0YEXqDvLJL3XY4J4/xCDzuJfwcn+mbLNm4ymFAoGEKC7/gKO2HyEIATJd\n",
        "XWvWOfDgUYLMrugYQw1hwW67PgSDUQF73QwM0Rz/h1q4DYAs6hoBWOM+npCqDQMwD3TD5YTv9AJG\n",
        "2VNjh/I+78FqFqXeBIn76tIYxqlBS38If/tLXt9DyGssEXM+nkSWC987N0U64APiB2UfGP11PCtE\n",
        "ECD65fH2Y+Cmzt6g7fyztqZQ3hZQWIk1Hi0EQQO8pg6G4MGaOONzvKtE1V90xfT9w/OzmKvhsjSz\n",
        "3NUskaZ9Vyqaz4fY3JZUGaAW+xoFyrN9amcpj4CL4oHBBkOQn/a1M4v5eooREfo7urnIXzFGwEXh\n",
        "ax0fpU2uLGTokIMYNKrsyNyJCyzSVnCbOKap+f5p8RAKwn6aHxyhChDDft2Xb09S10ArKbzdYlqP\n",
        "0kdINyF0oNAbsjHkx8nvFxe0RKPQuioKlagpyJvCvgJAluVgrJO9EEArFtDJx3yp1njlHQw6W9cR\n",
        "bCFErRS3dZSPdaL0FPgbI+HztSCwa1ueguUdQYWObzuOdJh89PT/gwHBAvl/3zs21AjCyM8mSCVz\n",
        "27mjUW9veCIwOfV+FL3ejMb/NNyG4ZZ0JW8Yrbo0ISNONFl77oB36sq3NmpGYiCBLcwZa6J/clCs\n",
        "NhQO6HsKf/tAy8qWHz23lM+hWcnZlWj4ZPRBFswMZ2/DcmIRn5/GsBl7wKA/m2Lv3jMW7t2DfjUM\n",
        "YQBQNTojXCV53p6fkFFA0gCeOAcOWohf9XTL1ohDZHHCjC/hPBB6ESW3ubM+D/5ESWFhe0vbDOUz\n",
        "4FAXTUm5GigYEIILWhgJy78ENRjLDcjjBHZZRdt7BaiMJLpoLSnhgP1/N9JaChcNXTTBuLJLCUkE\n",
        "fyqwpupGs5u3qChjaOwf0/B0Tq9g7nL9vQQPbhL09udX/BQHB8rIbFxoOn8b4+2dwoudwLIatENF\n",
        "C8TPm9rC//PX1d9/6el/M78V9rQxDSvRhDxQNm6j4XdPVdO6XSsWj1WS7FpM7rmo6o6tK+F8uQ2a\n",
        "FJsXGPsSgyebv5z28qLPwqxkmr3mZ3nX5bJjOXXhotwreLDgTcO1IgiyJSj6sAT5awVuCH1Twb/F\n",
        "Tji/+XGgDHqu4uH32BE/Pfxkm0eG5P/mbLxguXaWVj5XVjUxKDm+p0QSl65E3QdBr1OFvnHgU6Vh\n",
        "y4Ugxn5ZAaczJzNicmETrWFgm7KzOhxZzcyzhKmFI6CXjfmjr6ddFUNsrHleTdEZEFd5FLeDTWUN\n",
        "mVR7k3Ns/mgcmv2oXAZSPAakXrOYhiaKTeon79VL1garH/PausQG6EtOoZQd2jZeCJZYj7rsnL8D\n",
        "M8m25HIxwrGKBQIp0/Fs7qbrlvJkC4b0B6SPj82zHH3cn+cVxnNV7YJkDukghNo6U0EqSA6HnKkd\n",
        "ZajB/1cX0xeriwLPAbPX9AAVKRUcGbNDfPDGGrB8iV2m8W1oCPgPoAsxWzt/+29MGQyZFQG0MKnY\n",
        "kUurH+EdgUepP926Ol5bsbbqxhX/oSGfhNazRRH1IhmJcfKdBh3wyNeeczInx7Lsoq/HhM5FaxbK\n",
        "KzHhNc6ehJDnGOxw07p0tEGDceVpbVwdS55nCFW++zqFkPJuL7M347l4VtCPdFCwOKYzTwU3UC9h\n",
        "d1L+9w1wPA+wiatojqQ0VHkpZTiWF5UjqTwqqxWN/RRn1Df2cugN542VMmOmsdvzEYx98X2N3uN9\n",
        "uCM1m9idls7qm48AEEB1S1fLSB0cQXbg0RhVpIBvVu7G7GzXGU77kXY2utSYRl7NNOljxOI2Or+m\n",
        "tIFbnsamU0Afy1d5UI+mZKyXOqW+a1Is2phUTdYWBw4DpD8+uN5OzIpIm1zBXZT0GUhs469z0ntq\n",
        "Wtypei7/vOvW2rYezNm6/Nopj3vbtmyo0CcPhzPr8AcSn0RRU/0qMZZdERcr4cfAVZ6o3QCvLNvP\n",
        "JY3YZgdPxHjbK5BG6c7WKVKO5sKiFgH4Go/ykNf2g6FSfewdo9EH9Z/NCxTlywWizRWI3xVEZj1G\n",
        "q9pOQgVLEu5bzmjF0W7mnEYjt9LD/i4zxlTHkVE0H8DwkPK3Jvot2N43la0CTwl23NX7HM1IrFy1\n",
        "Op2IzWyvaKYx76kkC9ZkAW6y7FXXVv7YAwLpE5dV4vUcFGH+hok8ZStG7kRA0AQsL2tcdmMjjvgH\n",
        "bajfB+PtU3SVGvdYhu4BGP4OHOj0i3GGoHr2EfoAlNDSOaTz4rb3HHyqdWeye3VD7T3C1+mecV4T\n",
        "dOzFu512e1kQaw3oVXVrhqYMxX63q4l4HXZR8y9GIlZa+W1kR2/uD4a3rudWIsGbouXKBMtOsOOi\n",
        "j2bUTseaL8bFaiQBabsW+h81WUjU4tSkKzSkIzJcdhQ1bFevFL4EL8FsYC4T/AUj7PofIfmDB+kA\n",
        "GLNnFXzCZiSj+eKYMp0GeAlN4PMxYm2jbedGXNloK4f8vLhfa++Nw2XPQmk86kYtUoFVfG6VXyQU\n",
        "H4QZsFn/urw5p3WXH1YODwsJIyMPC/kbUYvuKs5eGOxdl7Mpa6jYfz/8QhoSPf97m1SacZ4x92JG\n",
        "4SQsOVcHK/zLWSzCEcqDIbIFbsJJBpq3AgDR8Q8AX9mzScpId6862COKmDML9l5BUzaXGdOwD/Z7\n",
        "9elwmxerLXiaB2SuWoDm3RGu4EpzKR74Zu0tylneFTsw8nM/G9emWG43+tltYDy0zzUqroeyzIAA\n",
        "AAQcETEAAAL6QZojbEO//qmWAJA64YoL/nnlDJtYACVn9l5H1AyoZDI7iODeNVVnlcaoE5ZX8+Mr\n",
        "qCeAMmGul9M97smfp/ZhS6Pyu78Kft29jIpZP18aygSTQPZmc/uYMtpnq6+Gi+ipZmt3C0jB20a3\n",
        "wWaj0ChzKONZgxXKE0GVJjR4mxOx22THagnpZVImoleMelSxm3Of/KQf+dAMzCAmBeAwZJNRoUBV\n",
        "YvjrSX4eBaS9gGXwKawv2yGGXW/wDFthM2ms7vQ272PSKjk496MKadBmj63TSL+PxMWeqICxCtrJ\n",
        "+zg2OflD5eqAyBrWiV13DJU7wKtD4atAhmefW2sFreZjg+L8nY+9q6ijLSGOFKEZR3opXu6gcb+J\n",
        "JwvYDsIvdSSx1eCSNu7DX121xqMVINqA/xGhVJYdyzuOlLzlT6zRRWHMyWgj4YiKGlamylPUN8Xa\n",
        "A7jO7Mt1iSk+yCCfsRuxsO7UI8dzZQNDd6scg4t5c1W9qYm7PIIi9NsG9F5BpGtRYH0yhwqgImId\n",
        "SE4hLZfTRtmEsnMJSR7AhhWRUf03WMg4AQRqvXCN56DmhEDO9dzoNedaZ7qWne0fBdehiPW7GWHn\n",
        "JnuFTxi/epKIgs7CYEGJFE0+xCnOq2dxts8eKynMV1vWtQb647Pub3tKdhSOBfn3oa4n5nNjq59G\n",
        "kBLM2NtmO7YQBjEeSC4T/cNhWW3prx1+DJwhdO6S4HgQMOkPTz+lmKhhj8B3bhgW94ioOAPYyIN3\n",
        "Vb+t00ZZQhHjeWMvA+EkBjM2wr84rAzhlrz/a08T2uI2rneQx5xKIwI9+80fseLkDBJpP7iU2Lm/\n",
        "iS3lbzDvU4nJ5N6vuLqWVFG0pg6Hlz7mB2thdhfozhTe7xlgd9nBcsUR9o4gYWmchR2Yi9xDyNX6\n",
        "914xuayBXy1lvsjY4fVXMqAbtzI2/U19cMjaLLFsH2fge+21vDZey1CO97sZvXljQbqdMMKQZCun\n",
        "TpdgMCINOTLTJPanfarAEhNKs18KWUJvzq7Q/cRUAAAAy0GeQniFfwE2vLYi+LcnkcNAelEJsznj\n",
        "AC15GDBQ1U8AzVzAAAAFqKWZxJ1Sj97bnE+xq1gtKGoI4M+wcATQN45Y+Eoagu5Bqnz03jYXiCZ7\n",
        "d0jNMtk2hBUgxippTGlL/pb6ZlUh2mMaL05D19II/YV6g+rc+fvbFAJyO8p3zuPOpS3rV+BJ+mWD\n",
        "CyOtuBwHH8ghC593793KZtDcOFAeCg2O1sfs8obXlyDDesD4m639OvF/Q841RMCjKz1uvHritZK3\n",
        "Mo6BiXXQJMIrAAABCwGeYXRCvwBUEyFPn5QcS2TlLZfHMyfeYSOwTNuPPx22Go/k6AEr4lb9aBYz\n",
        "w16bCIusW6roRdG31MsnnMd0EG7yXQO0RKF920255h7gd82Z8gXXICRnkoExLymkGh3MsDqbcLhO\n",
        "K5FXvlTdKYTD2w77dJEb8wJCHtJN8P/YqsZfgFyoQM4dPeREZH/kbkvcDqmsJ2teamKStL4h3rOC\n",
        "9bBzslr6rqmbPotTkI3+OfRlWYmt7kQtRk1SN/uVjW8CRzKgy9L4hzOGcK29RAmftxHvvD6IyS/C\n",
        "iZPab5tFt54FwAxpdZJsdE3BsRjMErYIg4PLV1raVDx/Sk8WGZS2NaOct5q2Vv5h4IcKCAAAAR9B\n",
        "mmZJqEFomUwIb//+p4QANLfY08ons1cWs1JQCmsYnxzytRGm8rGr4zSnsvFX6dqR6Dk5g1BKRD+f\n",
        "uV27lZ1l7nopaZfW14gzDTj0CwgLWXettz4AJk0/9tGY54NzSmm1iIZqZzaSSe4KS3qKIsR3LHxE\n",
        "fWZSeCJJfrBnURcARp1pH5D46FV56prkwzvcBthSfzyTXPpuyXXTByPCBFvwFVqKuy4ZrusyT2GJ\n",
        "jDX1iug7mSOBBUZe6bO3nPaM9uUq/CNI+vnWOIfrI5zyHWVz+EA0jX5Tne5X/+iocSv98UnUZB2e\n",
        "7Ty1ZYYeG9rW4N5GIqDEXC223dhVeo/tR27ruDO93X87H4mJesLkPFHL4aMx1vXTN1WpmjolX88L\n",
        "oQAAAT9BnoVCFf8BNlYl+1azmD5uj1eB76/CrYAS5n/ffIXTCJHJAnIcrYVPLtl6KylSUxj8kfup\n",
        "nBBWY1Q+YQXwiTpeH8cZQft6WieSx6v3+VmuJqCrXAiZbe3DP4thbJWXIoSM/9+p0p34cDFW2e8l\n",
        "Jv6SRZQK9yGyPjRb3c/Rynu4mewSl8cCZGyaApsA6wPfY0Tr9dkVlbX6Lg3+WE1WNTe0Oe30pNz1\n",
        "VlbXo8EnQq0E2umt0gtchmR8w6WiJeJ+Di80dVehRbmuP5SmQYrYk4qCpisODXVGyFcEHhq/NsHf\n",
        "JJA5/3/CsA1rdHMi/habXasYgfLUM3qp0IdIIo9DVHv++xvy2S9W8G86bInSBxAC8sx/hqzwRQoD\n",
        "lc2BIAAABbERNj2EjFErDZQAAQOOxCFsHX1EzeVLgYtcnCa6quqRAAAAvQGepGkQrwBUEyFPn3o4\n",
        "DesBOrJAB+8nvDx8n9OZYKtJq2/FppLMUOsQCT9MlN042XS4OrTuKr7LxvGRlGrmdOQuS8hzl/qn\n",
        "C/P1SDzsYbl/JcwEXFyseVh6rspQl3vVrmY9kHdDiUyBL4snXM85MgdSfG1JNjqQsQCSccTdvu7Z\n",
        "vdRUHewIdyyVeNXI1DctBHtIaOYzg7S45FlyrBQ+fas8kIeSyAiIz3zPOKHeEp8y1LczEU3lIGaI\n",
        "1IZG5QAAAOpBmqlJqEFsmUwIV//+OEADI2E7hjRxaX3l5K65KqgoekYLOn28kaqFj+NIEggl3W6O\n",
        "F3xl1FrGDED2VNcXmvawLgmLn+IrLQ9MaIlWwAmmcNokpB8oUoU6Ov3ZLyK90OWzcQLM+dFmyTxq\n",
        "V3avEPkFofZRsHbbLlfA4Vbw0xPSSpUNld/ddLvEEG6DE4sTxl70HlWwlZW3DKR+1wMEW0TCKbyE\n",
        "Wuuu9EdYafb5dhisbAHMuQeZf2dPOVJAeFIKnfWBlNOBP+nZiZCtiLPV2/ruHCYmHVnnHVBa1Guh\n",
        "5dLc2evnjhu2+Ym2AqkAAAE7QZ7IQhX/ATZWJftWs5g+bo7IWYW8zLBzGrZ3j+dlwsj+gw60AJNI\n",
        "vTjnYRmXvecJIW4AhmUVIexQt4vjj7GeYkReKGsI+quS5zPm+KQSUQ5v7gyIaq0x62m7fWnBKIi6\n",
        "5HMtrIoafDGnTKKhvgLWnE8LL96mFPl0Cec+T4VcQQ1xXmfHhW13pjh5Ri9eYcGF2Gn1VI6O21GN\n",
        "VL5XFM3O3bnXy1Q18LL3etP5tIEsMGovLeA2fhTuz5SJsjiwP5eKC/gjZlfEGyVrhSGIHiNt2Orm\n",
        "LIsqeUFhc6oQSfXlt8x4qq+jD5305qkzrtAg9WEB4JGxtjPUfQ94gnuAjlSfwNkE6rhtqlVAxAAm\n",
        "3QaGdwFA8wS2iVdGh0PqXhi03tNdqIEPnNKV5MEQGAhwNg7FvBoEXzOIPugWKGLGAAAA6AGe52kQ\n",
        "rwBUEyISsfyNJpx4G5crVsTNuJ71tKMx5aDOxNvN2js9gBJZbOHfzGk3freW4KcYwRLseT8OlWCa\n",
        "7yIYeUUqgU6MFuZ2wngFPQvUJeM+rR0E7nAT/ovlCfmt0y59QRBHXfxX0Puvltonfe+tcwFMLTlx\n",
        "A8anY0dBfcn22iM7KYj+BflqR5ffoMtgJfsDp/gKAZ7Q+tIQodWejpZHsNQBW/VEQqQeGVxVQkeC\n",
        "J2f4Kq4e/WD0QY+yI/xW+Azwq8yCaxi7qBKH23OJIzHKIGaXRaB4HBDjk9N25dhIuGcN1LX+SsAA\n",
        "AAPEbW9vdgAAAGxtdmhkAAAAAAAAAAAAAAAAAAAD6AAAAfQAAQAAAQAAAAAAAAAAAAAAAAEAAAAA\n",
        "AAAAAAAAAAAAAAABAAAAAAAAAAAAAAAAAABAAAAAAAAAAAAAAAAAAAAAAAAAAAAAAAAAAAAAAAAA\n",
        "AgAAABhpb2RzAAAAABCAgIAHAE/////+/wAAAth0cmFrAAAAXHRraGQAAAAPAAAAAAAAAAAAAAAB\n",
        "AAAAAAAAAfQAAAAAAAAAAAAAAAAAAAAAAAEAAAAAAAAAAAAAAAAAAAABAAAAAAAAAAAAAAAAAABA\n",
        "AAAAAbAAAAEgAAAAAAAkZWR0cwAAABxlbHN0AAAAAAAAAAEAAAH0AAAAAgABAAAAAAJQbWRpYQAA\n",
        "ACBtZGhkAAAAAAAAAAAAAAAAAAAAFAAAAApVxAAAAAAALWhkbHIAAAAAAAAAAHZpZGUAAAAAAAAA\n",
        "AAAAAABWaWRlb0hhbmRsZXIAAAAB+21pbmYAAAAUdm1oZAAAAAEAAAAAAAAAAAAAACRkaW5mAAAA\n",
        "HGRyZWYAAAAAAAAAAQAAAAx1cmwgAAAAAQAAAbtzdGJsAAAAl3N0c2QAAAAAAAAAAQAAAIdhdmMx\n",
        "AAAAAAAAAAEAAAAAAAAAAAAAAAAAAAAAAbABIABIAAAASAAAAAAAAAABAAAAAAAAAAAAAAAAAAAA\n",
        "AAAAAAAAAAAAAAAAAAAAAAAAGP//AAAAMWF2Y0MBZAAV/+EAGGdkABWs2UGwloQAAAMABAAAAwCg\n",
        "PFi2WAEABmjr48siwAAAABhzdHRzAAAAAAAAAAEAAAAKAAAAAQAAABRzdHNzAAAAAAAAAAEAAAAB\n",
        "AAAAYGN0dHMAAAAAAAAACgAAAAEAAAACAAAAAQAAAAQAAAABAAAAAgAAAAEAAAAAAAAAAQAAAAQA\n",
        "AAABAAAAAgAAAAEAAAAAAAAAAQAAAAQAAAABAAAAAgAAAAEAAAAAAAAAHHN0c2MAAAAAAAAAAQAA\n",
        "AAEAAAABAAAAAQAAADxzdHN6AAAAAAAAAAAAAAAKAAAUigAAAv4AAADPAAABDwAAASMAAAFDAAAA\n",
        "wQAAAO4AAAE/AAAA7AAAADhzdGNvAAAAAAAAAAoAAAAwAAAUugAAF7gAABiHAAAZlgAAGrkAABv8\n",
        "AAAcvQAAHasAAB7qAAAAYHVkdGEAAABYbWV0YQAAAAAAAAAhaGRscgAAAAAAAAAAbWRpcmFwcGwA\n",
        "AAAAAAAAAAAAAAAraWxzdAAAACOpdG9vAAAAG2RhdGEAAAABAAAAAExhdmY1NC4yMC40\n",
        "\" type=\"video/mp4\">\n",
        " Tu navegador no soporta este formato de v\u00eddeo.\n",
        "</video>"
       ],
       "metadata": {},
       "output_type": "pyout",
       "prompt_number": 28,
       "text": [
        "<IPython.core.display.HTML at 0x7f7609cc2750>"
       ]
      }
     ],
     "prompt_number": 28
    },
    {
     "cell_type": "markdown",
     "metadata": {},
     "source": [
      "<div class=\"alert alert-info\">\n",
      "**Ejercicio**: Discute con tus compa\u00f1eros, cu\u00e1l ser\u00eda el metodo `animate` si quisieramos dibujar una pelota lanzada en tiro parab\u00f3lico.\n",
      "</div>"
     ]
    },
    {
     "cell_type": "code",
     "collapsed": false,
     "input": [
      "def animate(t):\n",
      "    x = \n",
      "    y = \n",
      "    line.set_data(x, y)\n",
      "    return line,"
     ],
     "language": "python",
     "metadata": {},
     "outputs": []
    }
   ],
   "metadata": {}
  }
 ]
}