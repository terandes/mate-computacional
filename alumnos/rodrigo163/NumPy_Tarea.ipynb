{
 "metadata": {
  "name": "",
  "signature": "sha256:e4f4e3685424d93693fb5639caaed3c12bd9d5ea6a069bbad77bdd06ef6b9901"
 },
 "nbformat": 3,
 "nbformat_minor": 0,
 "worksheets": [
  {
   "cells": [
    {
     "cell_type": "heading",
     "level": 1,
     "metadata": {},
     "source": [
      "Ejercicios de NumPy"
     ]
    },
    {
     "cell_type": "code",
     "collapsed": false,
     "input": [
      "%matplotlib inline\n",
      "import numpy as np\n",
      "import matplotlib as plt"
     ],
     "language": "python",
     "metadata": {},
     "outputs": [],
     "prompt_number": 55
    },
    {
     "cell_type": "heading",
     "level": 2,
     "metadata": {},
     "source": [
      "Pregunta 1"
     ]
    },
    {
     "cell_type": "markdown",
     "metadata": {},
     "source": [
      "Crea los siguientes arreglos con los tipos correctos.\n",
      "Un arreglo de 5\u00d75 cuya diagonal sean [2.0,3.0,4.0,5.0]\n",
      "Un arreglo de 4\u00d74 cuyo \u00faltimo rengl\u00f3n sea [1,2,3,4] y el resto sean 0."
     ]
    },
    {
     "cell_type": "code",
     "collapsed": false,
     "input": [
      "np.diag([2.0,3.0,4.0,5.0])"
     ],
     "language": "python",
     "metadata": {},
     "outputs": [
      {
       "metadata": {},
       "output_type": "pyout",
       "prompt_number": 56,
       "text": [
        "array([[ 2.,  0.,  0.,  0.],\n",
        "       [ 0.,  3.,  0.,  0.],\n",
        "       [ 0.,  0.,  4.,  0.],\n",
        "       [ 0.,  0.,  0.,  5.]])"
       ]
      }
     ],
     "prompt_number": 56
    },
    {
     "cell_type": "code",
     "collapsed": false,
     "input": [
      "arreglo=np.zeros((4,4))\n",
      "arreglo[3,:]=[1,2,3,4]\n",
      "arreglo"
     ],
     "language": "python",
     "metadata": {},
     "outputs": [
      {
       "metadata": {},
       "output_type": "pyout",
       "prompt_number": 57,
       "text": [
        "array([[ 0.,  0.,  0.,  0.],\n",
        "       [ 0.,  0.,  0.,  0.],\n",
        "       [ 0.,  0.,  0.,  0.],\n",
        "       [ 1.,  2.,  3.,  4.]])"
       ]
      }
     ],
     "prompt_number": 57
    },
    {
     "cell_type": "heading",
     "level": 2,
     "metadata": {},
     "source": [
      "Pregunta 2"
     ]
    },
    {
     "cell_type": "markdown",
     "metadata": {},
     "source": [
      "(a) Crea un arreglo de booleanos de shape (100,), con todos sus elementos True. El \u00edndice representa el n\u00famero.\n",
      "\n",
      "(b) \"Tacha\" los elementos 0 y 1.\n",
      "\n",
      "(c) Para cada entero subsiguiente, tacha sus m\u00faltiplos. Una manera de hacerlo es el c\u00f3digo que se muestra. Explica que hace el c\u00f3digo, sobretodo explica que hace el slicing.\n",
      "\n",
      "(d) Mira la documentacion de np.nonzero para imprimir todos los n\u00fameros primos.\n",
      "\n",
      "(e) Encapsula lo que acabamos de hacer en una funci\u00f3n llamada criba_eratostenes, que reciba como argumento maximo el cual representa el tama\u00f1o del array. Muestra el resultado para maximo = {10, 100, 200}, usando un for."
     ]
    },
    {
     "cell_type": "code",
     "collapsed": false,
     "input": [
      "def criba_eratostenes(ultimo):\n",
      "    assert (ultimo>=2),'no son suficientes n\u00fameros'\n",
      "    \n",
      "    bool_arr = np.ones((ultimo,), dtype=bool)\n",
      "    \n",
      "    bool_arr[[0,1]]=False\n",
      "    \n",
      "    for i in range(2, int(np.sqrt(len(bool_arr))) + 1):\n",
      "        if bool_arr[i]: \n",
      "           bool_arr[i*i::i] = False \n",
      "    \n",
      "    return bool_arr"
     ],
     "language": "python",
     "metadata": {},
     "outputs": [],
     "prompt_number": 58
    },
    {
     "cell_type": "code",
     "collapsed": false,
     "input": [
      "for i in [10,100,200]:\n",
      "    print np.nonzero(criba_eratostenes(i))"
     ],
     "language": "python",
     "metadata": {},
     "outputs": [
      {
       "output_type": "stream",
       "stream": "stdout",
       "text": [
        "(array([2, 3, 5, 7]),)\n",
        "(array([ 2,  3,  5,  7, 11, 13, 17, 19, 23, 29, 31, 37, 41, 43, 47, 53, 59,\n",
        "       61, 67, 71, 73, 79, 83, 89, 97]),)\n",
        "(array([  2,   3,   5,   7,  11,  13,  17,  19,  23,  29,  31,  37,  41,\n",
        "        43,  47,  53,  59,  61,  67,  71,  73,  79,  83,  89,  97, 101,\n",
        "       103, 107, 109, 113, 127, 131, 137, 139, 149, 151, 157, 163, 167,\n",
        "       173, 179, 181, 191, 193, 197, 199]),)\n"
       ]
      }
     ],
     "prompt_number": 59
    },
    {
     "cell_type": "heading",
     "level": 2,
     "metadata": {},
     "source": [
      "Pregunta 3"
     ]
    },
    {
     "cell_type": "markdown",
     "metadata": {},
     "source": [
      "Crea un cubo rubik, partiendo de un arreglo de ceros y usando slicing dibuja cada una de las caras como si estuviera resuelto (cada colo un entero a partir del 1). Muestra con indexing que est\u00e1 resuelto (es decir, imprime las seis caras). \u00bfCu\u00e1ntos elementos del arreglo quedaron en 0?"
     ]
    },
    {
     "cell_type": "code",
     "collapsed": false,
     "input": [
      "rubik=np.zeros((6,3,3))\n",
      "for i in range(6):\n",
      "    rubik[i,...]=i+1\n",
      "rubik"
     ],
     "language": "python",
     "metadata": {},
     "outputs": [
      {
       "metadata": {},
       "output_type": "pyout",
       "prompt_number": 60,
       "text": [
        "array([[[ 1.,  1.,  1.],\n",
        "        [ 1.,  1.,  1.],\n",
        "        [ 1.,  1.,  1.]],\n",
        "\n",
        "       [[ 2.,  2.,  2.],\n",
        "        [ 2.,  2.,  2.],\n",
        "        [ 2.,  2.,  2.]],\n",
        "\n",
        "       [[ 3.,  3.,  3.],\n",
        "        [ 3.,  3.,  3.],\n",
        "        [ 3.,  3.,  3.]],\n",
        "\n",
        "       [[ 4.,  4.,  4.],\n",
        "        [ 4.,  4.,  4.],\n",
        "        [ 4.,  4.,  4.]],\n",
        "\n",
        "       [[ 5.,  5.,  5.],\n",
        "        [ 5.,  5.,  5.],\n",
        "        [ 5.,  5.,  5.]],\n",
        "\n",
        "       [[ 6.,  6.,  6.],\n",
        "        [ 6.,  6.,  6.],\n",
        "        [ 6.,  6.,  6.]]])"
       ]
      }
     ],
     "prompt_number": 60
    },
    {
     "cell_type": "code",
     "collapsed": false,
     "input": [
      "#vemos que no hay ning\u00fan cero en el arreglo del cubo rubik"
     ],
     "language": "python",
     "metadata": {},
     "outputs": [],
     "prompt_number": 61
    },
    {
     "cell_type": "heading",
     "level": 2,
     "metadata": {},
     "source": [
      "Pregunta 4"
     ]
    },
    {
     "cell_type": "markdown",
     "metadata": {},
     "source": [
      "El Sudoku es un pasatiempo que consiste en un arreglo 9\u00d79 de celdas, con d\u00edgitos del 1 al 9, de tal manera que no se repiten valores en cada columna, cada rengl\u00f3n y en cada subarreglo de 3\u00d73.\n",
      "\n",
      "(a) Crea una funci\u00f3n llamada correcto que reciba un array 1d de tama\u00f1o 9 e indique si est\u00e1 completo o no (i.e. incluye los n\u00fameros del 1 al 9.\n",
      "\n",
      "(b) Crea una funci\u00f3n llamada descomponer3x3 que reciba un array de enteros de 9\u00d79 y lo separe en sus 9 subarreglos 3\u00d73.\n",
      "\n",
      "(c) Crea la funci\u00f3n esSolucion que recibe un array de 9\u00d79 y devuelve si es o no soluci\u00f3n del sudoku."
     ]
    },
    {
     "cell_type": "code",
     "collapsed": false,
     "input": [
      "muestra=np.arange(1,10)"
     ],
     "language": "python",
     "metadata": {},
     "outputs": [],
     "prompt_number": 62
    },
    {
     "cell_type": "code",
     "collapsed": false,
     "input": [
      "def correcto(arr1d):\n",
      "    \n",
      "    assert (arr1d.shape)==(9,) ,'El arreglo no es de dimensi\u00f3n 9'\n",
      "    arr1d=np.unique(arr1d)\n",
      "    for i in range (9):\n",
      "        if arr1d[i] != i + 1:\n",
      "            return False\n",
      "    return True    \n"
     ],
     "language": "python",
     "metadata": {},
     "outputs": [],
     "prompt_number": 76
    },
    {
     "cell_type": "code",
     "collapsed": false,
     "input": [
      "def descomponer3x3(arr):\n",
      "    assert arr.shape==(9,9), 'El arreglo no es de dimensi\u00f3n 9x9'\n",
      "    arr=arr.reshape((3,3))"
     ],
     "language": "python",
     "metadata": {},
     "outputs": [],
     "prompt_number": 77
    },
    {
     "cell_type": "code",
     "collapsed": false,
     "input": [],
     "language": "python",
     "metadata": {},
     "outputs": []
    }
   ],
   "metadata": {}
  }
 ]
}