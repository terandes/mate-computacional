{
 "metadata": {
  "name": "",
  "signature": "sha256:e7fc94041bd547c31fc6bdf6e2326ae56700769b6850e6ad12340c54c79040ae"
 },
 "nbformat": 3,
 "nbformat_minor": 0,
 "worksheets": [
  {
   "cells": [
    {
     "cell_type": "heading",
     "level": 1,
     "metadata": {},
     "source": [
      "Aritm\u00e9tica de punto flotante"
     ]
    },
    {
     "cell_type": "code",
     "collapsed": false,
     "input": [
      "from math import *"
     ],
     "language": "python",
     "metadata": {},
     "outputs": [],
     "prompt_number": 1
    },
    {
     "cell_type": "code",
     "collapsed": false,
     "input": [
      "def decimal_a_binario(n):\n",
      "    resultado=''\n",
      "    while (n/2)!=0:\n",
      "        resultado=str(n%2) + resultado \n",
      "        n=n/2\n",
      "    return str(n) + resultado\n",
      "decimal_a_binario(30)"
     ],
     "language": "python",
     "metadata": {},
     "outputs": [
      {
       "metadata": {},
       "output_type": "pyout",
       "prompt_number": 8,
       "text": [
        "'11110'"
       ]
      }
     ],
     "prompt_number": 8
    }
   ],
   "metadata": {}
  }
 ]
}