{
 "metadata": {
  "name": "",
  "signature": "sha256:87a55c996b1c442e9973eeebdd81ec722bc0b87dc65bce328c7ac0411377d7fe"
 },
 "nbformat": 3,
 "nbformat_minor": 0,
 "worksheets": [
  {
   "cells": [
    {
     "cell_type": "heading",
     "level": 1,
     "metadata": {},
     "source": [
      "Limitaciones de la computadora: Aritm\u00e9tica de punto flotante"
     ]
    },
    {
     "cell_type": "markdown",
     "metadata": {},
     "source": [
      "En la clase pasada revisamos los tipos de datos num\u00e9ricos que soporta `python`. En particular `float`,   `integer` y `complex`. Pero todos ellos, al ser expresados en la computadora, pierden algunas de sus propiedades matem\u00e1ticas *puras*, por as\u00ed decirlo. En esta pl\u00e1tica veremos las limitaciones de la representaci\u00f3n matem\u00e1tica en objetos reales."
     ]
    },
    {
     "cell_type": "heading",
     "level": 2,
     "metadata": {},
     "source": [
      "Enteros"
     ]
    },
    {
     "cell_type": "markdown",
     "metadata": {},
     "source": [
      "Matem\u00e1ticamente los **enteros** son un conjunto *infinito*  $ \\mathbb{Z} =\\{\\ldots, -3,-2,-1,0,1,2,3,\\ldots\\}$. Por otro lado la computadora es de tama\u00f1o *finito*, por lo cual es imposible representar todos esos n\u00fameros en la computadora. En la computadora los **enteros** o `integers` o `ints` son s\u00f3lo un subconjunto finito de los **enteros**."
     ]
    },
    {
     "cell_type": "markdown",
     "metadata": {},
     "source": [
      "El tipo `int` se representa en 4-bytes, es decir en $32$ bits. (**Ejercicio**: \u00bfPor qu\u00e9?). El n\u00famero m\u00e1ximo (a nivel CPU) est\u00e1 dado por $2^{32}$."
     ]
    },
    {
     "cell_type": "code",
     "collapsed": false,
     "input": [
      "2**32"
     ],
     "language": "python",
     "metadata": {},
     "outputs": []
    },
    {
     "cell_type": "markdown",
     "metadata": {},
     "source": [
      "Pero ya que queremos representar tanto los positivos como los negativos:"
     ]
    },
    {
     "cell_type": "code",
     "collapsed": false,
     "input": [
      "[-2**32/2, 2**32/2] "
     ],
     "language": "python",
     "metadata": {},
     "outputs": []
    },
    {
     "cell_type": "markdown",
     "metadata": {},
     "source": [
      "El valor exacto del l\u00edmite superior en tu computadora lo puedes obtener mediante:"
     ]
    },
    {
     "cell_type": "code",
     "collapsed": false,
     "input": [
      "import sys\n",
      "sys.maxint"
     ],
     "language": "python",
     "metadata": {},
     "outputs": []
    },
    {
     "cell_type": "markdown",
     "metadata": {},
     "source": [
      "\u00bfPor qu\u00e9 crees que es diferente? \u00bfTiene que ver con la arquitectura de tu **CPU**? \u00bfEs de $64$ bits? \u00bfEntonces cu\u00e1ntos bytes se ocupan para representar un entero?"
     ]
    },
    {
     "cell_type": "markdown",
     "metadata": {},
     "source": [
      "Por otra parte, `python` puede utilizar enteros sin l\u00edmite de precisi\u00f3n: `long integers`. Estos se distinguen por una `L` al final del n\u00famero:"
     ]
    },
    {
     "cell_type": "code",
     "collapsed": false,
     "input": [
      "x = 1\n",
      "print x\n",
      "type(x)"
     ],
     "language": "python",
     "metadata": {},
     "outputs": []
    },
    {
     "cell_type": "code",
     "collapsed": false,
     "input": [
      "x = 1L\n",
      "print x\n",
      "type(x)"
     ],
     "language": "python",
     "metadata": {},
     "outputs": []
    },
    {
     "cell_type": "markdown",
     "metadata": {},
     "source": [
      "Desde `python 2.7` autom\u00e1ticamente convierte los `int` en `long`:"
     ]
    },
    {
     "cell_type": "code",
     "collapsed": false,
     "input": [
      "x = 10000000\n",
      "type(x)"
     ],
     "language": "python",
     "metadata": {},
     "outputs": []
    },
    {
     "cell_type": "code",
     "collapsed": false,
     "input": [
      "type(x*x*x)"
     ],
     "language": "python",
     "metadata": {},
     "outputs": []
    },
    {
     "cell_type": "markdown",
     "metadata": {},
     "source": [
      "El l\u00edmite encontrado con `sys.maxint` s\u00f3lo aplica a los enteros, y marca la conversi\u00f3n a tipo `long`:"
     ]
    },
    {
     "cell_type": "code",
     "collapsed": false,
     "input": [
      "type(sys.maxint)"
     ],
     "language": "python",
     "metadata": {},
     "outputs": []
    },
    {
     "cell_type": "code",
     "collapsed": false,
     "input": [
      "type(sys.maxint + 1)"
     ],
     "language": "python",
     "metadata": {},
     "outputs": []
    },
    {
     "cell_type": "markdown",
     "metadata": {},
     "source": [
      "La \u00fanica limitante podr\u00eda parecer ser la cantidad de memoria que tengas en tu computadora (o el tiempo que tengas para que esperar que se generen los n\u00fameros...)"
     ]
    },
    {
     "cell_type": "heading",
     "level": 3,
     "metadata": {},
     "source": [
      "Representaci\u00f3n binaria"
     ]
    },
    {
     "cell_type": "markdown",
     "metadata": {},
     "source": [
      "En python, para obtener la representaci\u00f3n de un n\u00famero en binario usamos la funci\u00f3n `bin`"
     ]
    },
    {
     "cell_type": "code",
     "collapsed": false,
     "input": [
      "bin(123)"
     ],
     "language": "python",
     "metadata": {},
     "outputs": []
    },
    {
     "cell_type": "markdown",
     "metadata": {},
     "source": [
      "<div class=\"alert alert-info\">\n",
      "**Ejercicio** Genera una tabla del 0 al 255 con su representaci\u00f3n en binario y en decimal. Observa como usamos el `print` para formatear el texto de salida. Usa la ayuda de ipython para entender que hacen los s\u00edmbolos `%d` y `%s`.  \u00bfCu\u00e1ntos caracteres necesitas?\n",
      "</div>"
     ]
    },
    {
     "cell_type": "code",
     "collapsed": false,
     "input": [
      "for i in range(0,256,1):\n",
      "    print str(i)+' ' + bin(i)"
     ],
     "language": "python",
     "metadata": {},
     "outputs": []
    },
    {
     "cell_type": "code",
     "collapsed": false,
     "input": [
      "for i in xrange(0,5):\n",
      "    print \"%d \\t %s\" % (i, bin(i))"
     ],
     "language": "python",
     "metadata": {},
     "outputs": []
    },
    {
     "cell_type": "markdown",
     "metadata": {},
     "source": [
      "<div class=\"alert alert-info\">\n",
      "**Ejercicio**: Revisa la documentaci\u00f3n de `print` y completa con ceros a la izquierda la salida, para que todos tengan la misma cantidad de caracteres. A esto se le llama _padding_.\n",
      "</div>"
     ]
    },
    {
     "cell_type": "heading",
     "level": 2,
     "metadata": {},
     "source": [
      "Flotantes"
     ]
    },
    {
     "cell_type": "markdown",
     "metadata": {},
     "source": [
      "El mismo problema de *finitud* se presenta con los flotantes (que tratan de emular a los reales, $\\mathbb{R}$. "
     ]
    },
    {
     "cell_type": "markdown",
     "metadata": {},
     "source": [
      "Recordemos que los decimales (_flotantes_) que son **racionales** ($\\mathbb{Q}$) se pueden representar como la suma de fracciones en base $10$: "
     ]
    },
    {
     "cell_type": "markdown",
     "metadata": {},
     "source": [
      "`0.125` $\\equiv \\frac{1}{10} + \\frac{2}{100} + \\frac{5}{1000}$"
     ]
    },
    {
     "cell_type": "markdown",
     "metadata": {},
     "source": [
      "Obviamente, adem\u00e1s de los racionales, quisieramos representar, los irracionales, pero a\u00fan en notaci\u00f3n decimal esto conduce a perdida de _precisi\u00f3n_ \u00bfQu\u00e9 es mejor para representar $\\frac{1}{3}$ \u00bf`0.3` o `0.33` o `0.3333`?"
     ]
    },
    {
     "cell_type": "markdown",
     "metadata": {},
     "source": [
      "En base $2$ los flotantes se representan igual:"
     ]
    },
    {
     "cell_type": "markdown",
     "metadata": {},
     "source": [
      "`0.001`$\\equiv \\frac{0}{2} + \\frac{0}{4} + \\frac{1}{8}$"
     ]
    },
    {
     "cell_type": "code",
     "collapsed": false,
     "input": [
      "bin(0.125)"
     ],
     "language": "python",
     "metadata": {},
     "outputs": []
    },
    {
     "cell_type": "code",
     "collapsed": false,
     "input": [
      "float.hex(0.125)"
     ],
     "language": "python",
     "metadata": {},
     "outputs": []
    },
    {
     "cell_type": "markdown",
     "metadata": {},
     "source": [
      "El problema de representatividad del $\\frac{1}{3}$ se da con el  $\\frac{1}{10}$:"
     ]
    },
    {
     "cell_type": "code",
     "collapsed": false,
     "input": [
      "0.1"
     ],
     "language": "python",
     "metadata": {},
     "outputs": []
    },
    {
     "cell_type": "code",
     "collapsed": false,
     "input": [
      "0.1+0.2"
     ],
     "language": "python",
     "metadata": {},
     "outputs": []
    },
    {
     "cell_type": "markdown",
     "metadata": {},
     "source": [
      "Ahora observa lo que sigue, trata de adivinar el resultado antes de ejecutarlo, y luego trata de explicar el resultado"
     ]
    },
    {
     "cell_type": "code",
     "collapsed": false,
     "input": [
      "round(2.675,2)"
     ],
     "language": "python",
     "metadata": {},
     "outputs": []
    },
    {
     "cell_type": "code",
     "collapsed": false,
     "input": [
      "from decimal import Decimal\n",
      "Decimal(2.675)\n"
     ],
     "language": "python",
     "metadata": {},
     "outputs": []
    },
    {
     "cell_type": "code",
     "collapsed": false,
     "input": [
      "Decimal(0.1)"
     ],
     "language": "python",
     "metadata": {},
     "outputs": []
    },
    {
     "cell_type": "code",
     "collapsed": false,
     "input": [
      "Decimal(0.2)"
     ],
     "language": "python",
     "metadata": {},
     "outputs": []
    },
    {
     "cell_type": "code",
     "collapsed": false,
     "input": [
      "Decimal(0.1)+Decimal(0.2)"
     ],
     "language": "python",
     "metadata": {},
     "outputs": []
    },
    {
     "cell_type": "code",
     "collapsed": false,
     "input": [
      "Decimal(1./3)"
     ],
     "language": "python",
     "metadata": {},
     "outputs": []
    },
    {
     "cell_type": "heading",
     "level": 3,
     "metadata": {},
     "source": [
      "\u00bfC\u00f3mo representarlos?"
     ]
    },
    {
     "cell_type": "markdown",
     "metadata": {},
     "source": [
      "<div class=\"alert alert-warning\">\n",
      "Ver las notas que acompa\u00f1an este lecture\n",
      "</div>"
     ]
    },
    {
     "cell_type": "heading",
     "level": 4,
     "metadata": {},
     "source": [
      "IEEE-754"
     ]
    },
    {
     "cell_type": "markdown",
     "metadata": {},
     "source": [
      "El est\u00e1ndar [**IEEE-754**](http://en.wikipedia.org/wiki/Floating_point) para el caso de $64$ bits, divide los $8$ bytes como sigue\n",
      "- 1 bit para el signo $s$\n",
      "- 11 bits para el exponente $e$\n",
      "- 52 bits para la mantisa $m$, tambi\u00e9n conocida como _precisi\u00f3n_, $p$."
     ]
    },
    {
     "cell_type": "markdown",
     "metadata": {},
     "source": [
      "<div class=\"alert alert-info\">\n",
      "**Ejercicio** Leer el resumen del est\u00e1ndar en el link de arriba. Disc\u00fatelo en clase \u00bfTe parece la mejor opci\u00f3n? LEER EL ART DE WIKI\n",
      "</div>"
     ]
    },
    {
     "cell_type": "markdown",
     "metadata": {},
     "source": [
      "<div class=\"alert alert-info\">\n",
      "**Ejercicio** Demuestra con el est\u00e1ndar la representaci\u00f3n binaria de `0.125`.\n",
      "</div>"
     ]
    },
    {
     "cell_type": "code",
     "collapsed": false,
     "input": [
      "#(-1)**s * 2**(e-1023) * 1.f\n",
      "#signo 0\n",
      "#e 11111111100\n",
      "#mantisa 0000...000\n",
      "#--> 1 * 2^-3 * 1.0\n"
     ],
     "language": "python",
     "metadata": {},
     "outputs": []
    },
    {
     "cell_type": "markdown",
     "metadata": {},
     "source": [
      "<div class=\"alert alert-info\">\n",
      "**Ejercicio** \u00bfCu\u00e1l es el n\u00famero flotante m\u00e1s grande y m\u00e1s peque\u00f1o que se puede representar? \u00bfCu\u00e1ntos flotantes caben en tu computadora en RAM (sup\u00f3n que no hay nada m\u00e1s ocupando el RAM)? \u00bfY en disco?\n",
      "</div>"
     ]
    },
    {
     "cell_type": "code",
     "collapsed": false,
     "input": [
      "# 1G=10^9 bytes\n",
      "# 1T=10^12 bytes\n",
      "# 512K=512*10^3 bytes como el apolo."
     ],
     "language": "python",
     "metadata": {},
     "outputs": []
    },
    {
     "cell_type": "markdown",
     "metadata": {},
     "source": [
      "<div class=\"alert alert-info\">\n",
      "**Ejercicio** \u00bfCu\u00e1ntos bytes se requieren para representar un n\u00famero complejo $\\mathbb{C}$? \u00bfEn 32 y en 64 bits?\u00bfCu\u00e1les ser\u00e1n sus limitaciones?\n",
      "</div>"
     ]
    },
    {
     "cell_type": "markdown",
     "metadata": {},
     "source": [
      "Otro problema de la perdida de precisi\u00f3n es el siguiente:"
     ]
    },
    {
     "cell_type": "code",
     "collapsed": false,
     "input": [
      "suma = 0.0\n",
      "for x in range(10):\n",
      "    suma += 0.1\n",
      "suma"
     ],
     "language": "python",
     "metadata": {},
     "outputs": []
    },
    {
     "cell_type": "markdown",
     "metadata": {},
     "source": [
      "Que no es tan grave, hasta que se usa de la siguiente manera: lo siguiente es un error com\u00fan (observa la demostraci\u00f3n en el pizarr\u00f3n) :"
     ]
    },
    {
     "cell_type": "raw",
     "metadata": {},
     "source": [
      "x = 0.0\n",
      "while not x == 1.0:\n",
      "    x = x + 0.1\n",
      "    print(\"x=%19.17g\" % (x))"
     ]
    },
    {
     "cell_type": "markdown",
     "metadata": {},
     "source": [
      "No poner flotantes en comparaciones booleanas!"
     ]
    },
    {
     "cell_type": "markdown",
     "metadata": {},
     "source": [
      "La salida de los primeros 15 es la siguiente:"
     ]
    },
    {
     "cell_type": "code",
     "collapsed": false,
     "input": [
      "x = 0.0\n",
      "for i in xrange(0,15):\n",
      "    x = x + 0.1\n",
      "    print(\"x=%19.17g\" % (x))"
     ],
     "language": "python",
     "metadata": {},
     "outputs": []
    },
    {
     "cell_type": "markdown",
     "metadata": {},
     "source": [
      "<div class=\"alert alert-info\">\n",
      "**Ejercicio**:\u00bfQu\u00e9 ense\u00f1anza puedes sacar de esto?\n",
      "</div>"
     ]
    },
    {
     "cell_type": "markdown",
     "metadata": {},
     "source": [
      "Existe una manera (entre varias) de resolver el problema:"
     ]
    },
    {
     "cell_type": "code",
     "collapsed": false,
     "input": [
      "x = 0.0\n",
      "while abs(x -1.0) > 1e-8:\n",
      "    x = x + 0.1\n",
      "    print (\"x=%19.17g\" % (x))"
     ],
     "language": "python",
     "metadata": {},
     "outputs": []
    },
    {
     "cell_type": "markdown",
     "metadata": {},
     "source": [
      "<div class=\"alert alert-info\">\n",
      "**Ejercicio:** Explica el c\u00f3digo.\n",
      "</div>"
     ]
    },
    {
     "cell_type": "markdown",
     "metadata": {},
     "source": [
      "El valor absoluto con la condici\u00f3n son la mejor forma de detener un for con flotantes. "
     ]
    },
    {
     "cell_type": "heading",
     "level": 1,
     "metadata": {},
     "source": [
      "Volviendo a los enteros..."
     ]
    },
    {
     "cell_type": "markdown",
     "metadata": {},
     "source": [
      "Es importante notar que los **enteros** son de precisi\u00f3n arbitraria en `python`, pero los **flotantes** no. Observa el siguiente ejemplo, con n\u00fameros flotantes, obtenemos un `inf` (ya que nos pasamos del m\u00e1ximo exponente posible de acuerdo a la **IEEE 754**):"
     ]
    },
    {
     "cell_type": "code",
     "collapsed": false,
     "input": [
      "x = 1e200\n",
      "x"
     ],
     "language": "python",
     "metadata": {},
     "outputs": []
    },
    {
     "cell_type": "code",
     "collapsed": false,
     "input": [
      "type(x)"
     ],
     "language": "python",
     "metadata": {},
     "outputs": []
    },
    {
     "cell_type": "code",
     "collapsed": false,
     "input": [
      "y = x*x\n",
      "y"
     ],
     "language": "python",
     "metadata": {},
     "outputs": []
    },
    {
     "cell_type": "code",
     "collapsed": false,
     "input": [
      "type(y)"
     ],
     "language": "python",
     "metadata": {},
     "outputs": []
    },
    {
     "cell_type": "markdown",
     "metadata": {},
     "source": [
      "En cambio, usando enteros:"
     ]
    },
    {
     "cell_type": "code",
     "collapsed": false,
     "input": [
      "x = 10**200\n",
      "x"
     ],
     "language": "python",
     "metadata": {},
     "outputs": []
    },
    {
     "cell_type": "code",
     "collapsed": false,
     "input": [
      "type(x)"
     ],
     "language": "python",
     "metadata": {},
     "outputs": []
    },
    {
     "cell_type": "code",
     "collapsed": false,
     "input": [
      "y = x*x\n",
      "y"
     ],
     "language": "python",
     "metadata": {},
     "outputs": []
    },
    {
     "cell_type": "code",
     "collapsed": false,
     "input": [
      "type(y)"
     ],
     "language": "python",
     "metadata": {},
     "outputs": []
    },
    {
     "cell_type": "markdown",
     "metadata": {},
     "source": [
      "Es muy importante no hacer nada que cambie esto a un n\u00famero flotante:"
     ]
    },
    {
     "cell_type": "code",
     "collapsed": false,
     "input": [
      "(x+0.4)*x"
     ],
     "language": "python",
     "metadata": {},
     "outputs": []
    },
    {
     "cell_type": "code",
     "collapsed": false,
     "input": [
      "x*x+0.4"
     ],
     "language": "python",
     "metadata": {},
     "outputs": []
    },
    {
     "cell_type": "heading",
     "level": 1,
     "metadata": {},
     "source": [
      "C\u00e1lculo simb\u00f3lico"
     ]
    },
    {
     "cell_type": "markdown",
     "metadata": {},
     "source": [
      "Es posible realizar c\u00e1lculo simb\u00f3lico en python (justo como en **Mathematica** o **Maple**) usando el paquete `sympy`. El c\u00f3digo siguiente es para imprimir a $\\LaTeX$ la salida de las instrucciones."
     ]
    },
    {
     "cell_type": "code",
     "collapsed": false,
     "input": [
      "from sympy.interactive import printing\n",
      "printing.init_printing(use_latex=True)"
     ],
     "language": "python",
     "metadata": {},
     "outputs": []
    },
    {
     "cell_type": "markdown",
     "metadata": {},
     "source": [
      "En las celdas que siguen, observa el diferente uso de `import` y `from` \u00bfCu\u00e1l es su funci\u00f3n? "
     ]
    },
    {
     "cell_type": "code",
     "collapsed": false,
     "input": [
      "from sympy import Symbol\n",
      "x = Symbol('x')"
     ],
     "language": "python",
     "metadata": {},
     "outputs": []
    },
    {
     "cell_type": "code",
     "collapsed": false,
     "input": [
      "x"
     ],
     "language": "python",
     "metadata": {},
     "outputs": []
    },
    {
     "cell_type": "code",
     "collapsed": false,
     "input": [
      "type(x)"
     ],
     "language": "python",
     "metadata": {},
     "outputs": []
    },
    {
     "cell_type": "code",
     "collapsed": false,
     "input": [
      "y = Symbol('y')"
     ],
     "language": "python",
     "metadata": {},
     "outputs": []
    },
    {
     "cell_type": "code",
     "collapsed": false,
     "input": [
      "2*x - x"
     ],
     "language": "python",
     "metadata": {},
     "outputs": []
    },
    {
     "cell_type": "code",
     "collapsed": false,
     "input": [
      "x +y +x  - 10*y*x"
     ],
     "language": "python",
     "metadata": {},
     "outputs": []
    },
    {
     "cell_type": "code",
     "collapsed": false,
     "input": [
      "import sympy as sym\n",
      "x,y,z = sym.symbols('x,y,z')\n",
      "x + 2*y + 3*z -x"
     ],
     "language": "python",
     "metadata": {},
     "outputs": []
    },
    {
     "cell_type": "markdown",
     "metadata": {},
     "source": [
      "`Sympy` tambi\u00e9n puede representar tipos num\u00e9ricos: `Rational` y `Real`"
     ]
    },
    {
     "cell_type": "code",
     "collapsed": false,
     "input": [
      "a = sym.Rational(1,10)\n",
      "a"
     ],
     "language": "python",
     "metadata": {},
     "outputs": []
    },
    {
     "cell_type": "code",
     "collapsed": false,
     "input": [
      "b = sym.Rational(45,67)"
     ],
     "language": "python",
     "metadata": {},
     "outputs": []
    },
    {
     "cell_type": "code",
     "collapsed": false,
     "input": [
      "c = a*b\n",
      "c"
     ],
     "language": "python",
     "metadata": {},
     "outputs": []
    },
    {
     "cell_type": "code",
     "collapsed": false,
     "input": [
      "d = a-b\n",
      "d"
     ],
     "language": "python",
     "metadata": {},
     "outputs": []
    },
    {
     "cell_type": "code",
     "collapsed": false,
     "input": [
      "e = a+b\n",
      "e"
     ],
     "language": "python",
     "metadata": {},
     "outputs": []
    },
    {
     "cell_type": "code",
     "collapsed": false,
     "input": [
      "float(c)"
     ],
     "language": "python",
     "metadata": {},
     "outputs": []
    },
    {
     "cell_type": "code",
     "collapsed": false,
     "input": [
      "c"
     ],
     "language": "python",
     "metadata": {},
     "outputs": []
    },
    {
     "cell_type": "markdown",
     "metadata": {},
     "source": [
      "Es posible usar el siguiente m\u00e9todo para indicarle a python cu\u00e1ntos decimales calcular (aunque no necesariamente se van a usar todos al guardarlo en memoria)."
     ]
    },
    {
     "cell_type": "code",
     "collapsed": false,
     "input": [
      "c.evalf()"
     ],
     "language": "python",
     "metadata": {},
     "outputs": []
    },
    {
     "cell_type": "code",
     "collapsed": false,
     "input": [
      "c.evalf(30)"
     ],
     "language": "python",
     "metadata": {},
     "outputs": []
    },
    {
     "cell_type": "code",
     "collapsed": false,
     "input": [
      "from sympy import *"
     ],
     "language": "python",
     "metadata": {},
     "outputs": []
    },
    {
     "cell_type": "code",
     "collapsed": false,
     "input": [
      "diff(sin(x), x)"
     ],
     "language": "python",
     "metadata": {},
     "outputs": []
    },
    {
     "cell_type": "code",
     "collapsed": false,
     "input": [
      "diff(sin(x), y)"
     ],
     "language": "python",
     "metadata": {},
     "outputs": []
    },
    {
     "cell_type": "code",
     "collapsed": false,
     "input": [
      "diff(10+3*x+4*x**2+45*x*y, x)"
     ],
     "language": "python",
     "metadata": {},
     "outputs": []
    },
    {
     "cell_type": "code",
     "collapsed": false,
     "input": [
      "diff(10+3*x+4*x**2+45*x*y, x).subs(x, 1)"
     ],
     "language": "python",
     "metadata": {},
     "outputs": []
    },
    {
     "cell_type": "code",
     "collapsed": false,
     "input": [
      "diff(10+3*x+4*x**2+45*x*y, x,y)"
     ],
     "language": "python",
     "metadata": {},
     "outputs": []
    },
    {
     "cell_type": "code",
     "collapsed": false,
     "input": [
      "diff(10+3*x+4*x**2+45*x*y, x,x)"
     ],
     "language": "python",
     "metadata": {},
     "outputs": []
    },
    {
     "cell_type": "code",
     "collapsed": false,
     "input": [
      "integrate(x**2 + sin(x), x)"
     ],
     "language": "python",
     "metadata": {},
     "outputs": []
    },
    {
     "cell_type": "code",
     "collapsed": false,
     "input": [
      "integrate(x**2 + sin(x), (x, 0, 1))"
     ],
     "language": "python",
     "metadata": {},
     "outputs": []
    },
    {
     "cell_type": "markdown",
     "metadata": {},
     "source": [
      "<div class=\"alert alert-info\">\n",
      "**Ejercicio:** Resuelva simb\u00f3licamente lo siguiente: Se lanza una pelota al aire con una velocidad $v_0$ a un \u00e1ngulo $\\theta$. La gravedad es $g$. \n",
      "- \u00bfCu\u00e1l es la altura m\u00e1xima? \n",
      "- \u00bfCu\u00e1l es la distancia m\u00e1xima?\n",
      "- \u00bfCu\u00e1l es el tiempo de vuelo?\n",
      "- De una respuesta num\u00e9rica, cuando $v_0 = 10 \\frac{m}{s}$ y $\\theta=\\pi/2$.\n",
      "</div>"
     ]
    },
    {
     "cell_type": "markdown",
     "metadata": {},
     "source": [
      "`Sympy` tambi\u00e9n permite resolver ecuaciones diferenciales ordinarias (**ODE**, en ingl\u00e9s), usando la funci\u00f3n `dsolve`. "
     ]
    },
    {
     "cell_type": "code",
     "collapsed": false,
     "input": [
      "dsolve??"
     ],
     "language": "python",
     "metadata": {},
     "outputs": []
    },
    {
     "cell_type": "code",
     "collapsed": false,
     "input": [
      "Function?"
     ],
     "language": "python",
     "metadata": {},
     "outputs": []
    },
    {
     "cell_type": "code",
     "collapsed": false,
     "input": [
      "Derivative?"
     ],
     "language": "python",
     "metadata": {},
     "outputs": []
    },
    {
     "cell_type": "code",
     "collapsed": false,
     "input": [
      "y = Function('y')\n",
      "x = Symbol('x')\n",
      "y_ = Derivative(y(x), x)"
     ],
     "language": "python",
     "metadata": {},
     "outputs": []
    },
    {
     "cell_type": "code",
     "collapsed": false,
     "input": [
      "ode = y_ + 10*y(x) + 3*y(x)**2\n",
      "ode"
     ],
     "language": "python",
     "metadata": {},
     "outputs": []
    },
    {
     "cell_type": "code",
     "collapsed": false,
     "input": [
      "sol = dsolve(ode, y(x))\n",
      "sol"
     ],
     "language": "python",
     "metadata": {},
     "outputs": []
    },
    {
     "cell_type": "code",
     "collapsed": false,
     "input": [
      "type(sol)"
     ],
     "language": "python",
     "metadata": {},
     "outputs": []
    },
    {
     "cell_type": "markdown",
     "metadata": {},
     "source": [
      "<div class=\"alert alert-danger\">\n",
      "Que el tipo sea `Equality` ser\u00e1 muy importante cuando querr\u00e1mos graficar. Manten este hecho en mente.\n",
      "</div>"
     ]
    },
    {
     "cell_type": "code",
     "collapsed": false,
     "input": [
      "sol.rhs"
     ],
     "language": "python",
     "metadata": {},
     "outputs": []
    },
    {
     "cell_type": "markdown",
     "metadata": {},
     "source": [
      "<div class=\"alert alert-info\">\n",
      "**Ejercicio** \n",
      "- Demuestra que $y_1 = e^t$ y $y_2 = t e^t$ son soluciones de la **ODE** $y^{''} -2y^{'} + y = 0$. No uses `dsolve`. Recuerda que tienes que definir los *s\u00edmbolos* $y$ y $t$.\n",
      "- Ahora resuelve usando `dsolve`. Recuerda definir la funci\u00f3n.\n",
      "</div>"
     ]
    },
    {
     "cell_type": "markdown",
     "metadata": {},
     "source": [
      "Regularmente al resolver problemas cient\u00edficos es necesario utilizar aproximaciones en forma de series. `Sympy` tambi\u00e9n puede hacerlas."
     ]
    },
    {
     "cell_type": "code",
     "collapsed": false,
     "input": [
      "sin(x).series(x,0)"
     ],
     "language": "python",
     "metadata": {},
     "outputs": []
    },
    {
     "cell_type": "code",
     "collapsed": false,
     "input": [
      "(exp(x)**2*cos(x)/sin(x)**3).series(x,0)"
     ],
     "language": "python",
     "metadata": {},
     "outputs": []
    },
    {
     "cell_type": "markdown",
     "metadata": {},
     "source": [
      "Por \u00faltimo \u00bfRecuerdas el problema con los flotantes? Pues con `Sympy` se puede resolver."
     ]
    },
    {
     "cell_type": "code",
     "collapsed": false,
     "input": [
      "dx = Rational(1,10)"
     ],
     "language": "python",
     "metadata": {},
     "outputs": []
    },
    {
     "cell_type": "code",
     "collapsed": false,
     "input": [
      "x = 0"
     ],
     "language": "python",
     "metadata": {},
     "outputs": []
    },
    {
     "cell_type": "code",
     "collapsed": false,
     "input": [
      "while x != 1.0:\n",
      "    x = x+dx\n",
      "    print \"x=%4s = %3.1f\" % (x, x.evalf())"
     ],
     "language": "python",
     "metadata": {},
     "outputs": []
    },
    {
     "cell_type": "markdown",
     "metadata": {},
     "source": [
      "Pero hacer estos c\u00e1lculos de manera simb\u00f3lica es mucho m\u00e1s lento que hacerlo de forma numerica:"
     ]
    },
    {
     "cell_type": "code",
     "collapsed": false,
     "input": [
      "dx_symbolic = Rational(1,10)\n",
      "\n",
      "def bucle_sympy(n):\n",
      "    x = 0\n",
      "    for i in xrange(n):\n",
      "        x = x + dx_symbolic\n",
      "    return x"
     ],
     "language": "python",
     "metadata": {},
     "outputs": []
    },
    {
     "cell_type": "code",
     "collapsed": false,
     "input": [
      "dx = 0.1\n",
      "def bucle_float(n):\n",
      "    x = 0\n",
      "    for i in xrange(n):\n",
      "        x = x + dx\n",
      "    return x"
     ],
     "language": "python",
     "metadata": {},
     "outputs": []
    },
    {
     "cell_type": "code",
     "collapsed": false,
     "input": [
      "n = 100000"
     ],
     "language": "python",
     "metadata": {},
     "outputs": []
    },
    {
     "cell_type": "code",
     "collapsed": false,
     "input": [
      "%timeit bucle_sympy(n)"
     ],
     "language": "python",
     "metadata": {},
     "outputs": []
    },
    {
     "cell_type": "code",
     "collapsed": false,
     "input": [
      "%timeit bucle_float(n)"
     ],
     "language": "python",
     "metadata": {},
     "outputs": []
    },
    {
     "cell_type": "markdown",
     "metadata": {},
     "source": [
      "Ejercicios de las notas"
     ]
    },
    {
     "cell_type": "code",
     "collapsed": false,
     "input": [
      "def decimal_a_binario8b(n):\n",
      "    resultado=0\n",
      "    b=1\n",
      "    assert(n>= -128 and n<=127),'OVERFLOW'\n",
      "    if n<0:\n",
      "        n=256+n\n",
      "    while n>0:\n",
      "        if n%2==1:\n",
      "            resultado=resultado+b\n",
      "        b=b*10\n",
      "        n=n/2\n",
      "    print resultado"
     ],
     "language": "python",
     "metadata": {},
     "outputs": []
    },
    {
     "cell_type": "code",
     "collapsed": false,
     "input": [
      "def binario_a_decimal(n):\n",
      "    n=str(n)\n",
      "    n=n[::-1] #para voltear el orden de los elementos en un string\n",
      "    numero=0\n",
      "    for i in range(1,len(n)+1): #el +1 porque python est\u00e1 indexado en 0\n",
      "        posicion=len(n)-i\n",
      "        numero=int(n[posicion])*(2**posicion)+numero\n",
      "    print numero"
     ],
     "language": "python",
     "metadata": {},
     "outputs": []
    }
   ],
   "metadata": {}
  }
 ]
}