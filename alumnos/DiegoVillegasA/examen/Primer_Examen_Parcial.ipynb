{
 "metadata": {
  "name": "",
  "signature": "sha256:b367918a3ff532dfe342d8bf93af52221a25723d2be5f2c235a1e6df9cb0145a"
 },
 "nbformat": 3,
 "nbformat_minor": 0,
 "worksheets": [
  {
   "cells": [
    {
     "cell_type": "heading",
     "level": 1,
     "metadata": {},
     "source": [
      "Examen Parcial"
     ]
    },
    {
     "cell_type": "heading",
     "level": 6,
     "metadata": {},
     "source": [
      "5 de marzo, 2015"
     ]
    },
    {
     "cell_type": "heading",
     "level": 2,
     "metadata": {},
     "source": [
      "Instrucciones"
     ]
    },
    {
     "cell_type": "markdown",
     "metadata": {},
     "source": [
      "- Crea una carpeta en tu directorio llamada `examen`.\n",
      "- Copia este examen a esa carpeta reci\u00e9n creada.\n",
      "- Copia los archivos con extensi\u00f3n `.m` de la misma manera."
     ]
    },
    {
     "cell_type": "heading",
     "level": 3,
     "metadata": {},
     "source": [
      "Definiciones"
     ]
    },
    {
     "cell_type": "markdown",
     "metadata": {},
     "source": [
      "- **Precisi\u00f3n** es el n\u00famero m\u00e1ximo de _bits_ diferentes de cero que es representable.\n",
      "- **Rango** es la diferencia entre el n\u00famero m\u00e1s negativo representable y el n\u00famero m\u00e1s positivo representable.\n",
      "- **Resoluci\u00f3n** es la magnitud m\u00e1s preque\u00f1a diferente de cero representable.\n",
      "- **Exactitud** es la magnitud e la m\u00e1xima diferencia entre el valor real y su representaci\u00f3n."
     ]
    },
    {
     "cell_type": "markdown",
     "metadata": {},
     "source": [
      "- Un n\u00famero $x$ en _single precision_ en el est\u00e1ndar **IEEE 754** se escribe:"
     ]
    },
    {
     "cell_type": "markdown",
     "metadata": {},
     "source": [
      "$$\n",
      "x = s 1.mmm \\ldots mmm \\times 2^{mmm \\ldots mmm}\n",
      "$$"
     ]
    },
    {
     "cell_type": "markdown",
     "metadata": {},
     "source": [
      "con un _bias_ de "
     ]
    },
    {
     "cell_type": "heading",
     "level": 1,
     "metadata": {},
     "source": [
      "Parte escrita"
     ]
    },
    {
     "cell_type": "heading",
     "level": 2,
     "metadata": {},
     "source": [
      "Problema 1"
     ]
    },
    {
     "cell_type": "markdown",
     "metadata": {},
     "source": [
      "* Escribir los siguientes n\u00fameros reales de manera _normalizada_"
     ]
    },
    {
     "cell_type": "markdown",
     "metadata": {},
     "source": [
      "    - $123.45$\n",
      "    - $6.3789 \\times 10^{5}$\n",
      "    - $5432.1987 \\times 10^{3}$\n",
      "    - $6.02 \\times 10^{23}$\n",
      "    - $0.000001$\n",
      "    - $1.0$"
     ]
    },
    {
     "cell_type": "heading",
     "level": 2,
     "metadata": {},
     "source": [
      "Problema 2"
     ]
    },
    {
     "cell_type": "markdown",
     "metadata": {},
     "source": [
      "- Escriba los siguientes n\u00fameros en su expansi\u00f3n en base $2$ y calcule su valor en base $10$ (suponga que no est\u00e1n signados)"
     ]
    },
    {
     "cell_type": "markdown",
     "metadata": {},
     "source": [
      "    - `1101`\n",
      "    - `11010`\n",
      "    - `00110011`"
     ]
    },
    {
     "cell_type": "heading",
     "level": 2,
     "metadata": {},
     "source": [
      "Problema 3"
     ]
    },
    {
     "cell_type": "markdown",
     "metadata": {},
     "source": [
      "- Escribe de forma normalizada a $y = + 1000.100111$ ."
     ]
    },
    {
     "cell_type": "markdown",
     "metadata": {},
     "source": [
      "- Escribe el mismo n\u00famero en formato **IEEE 754** en _single precision_."
     ]
    },
    {
     "cell_type": "markdown",
     "metadata": {},
     "source": [
      "- Escribe los siguientes n\u00fameros en el est\u00e1ndar **IEEE 754** a _double precision_"
     ]
    },
    {
     "cell_type": "markdown",
     "metadata": {},
     "source": [
      "- `1.0`\n",
      "- `1.5`\n",
      "- `-1.5`"
     ]
    },
    {
     "cell_type": "markdown",
     "metadata": {},
     "source": [
      "- \u00bfQu\u00e9 n\u00famero representa el siguiente flotante **IEEE 754** _double precision_?"
     ]
    },
    {
     "cell_type": "markdown",
     "metadata": {},
     "source": [
      "- `1 1000 0010 111 1000 0000 0000 0000 0000`"
     ]
    },
    {
     "cell_type": "heading",
     "level": 2,
     "metadata": {},
     "source": [
      "Problema 4"
     ]
    },
    {
     "cell_type": "markdown",
     "metadata": {},
     "source": [
      "* Representa $1$ en lo siguiente:\n",
      "\n",
      "    - En 8 bits con signo\n",
      "    - En 8 bits sin signo\n",
      "    - En 16 bits sin signo\n",
      "    - En 32 bits en el est\u00e1ndar **IEEE 754**\n",
      "    - En 64 bits en el est\u00e1ndar **IEEE 754**"
     ]
    },
    {
     "cell_type": "markdown",
     "metadata": {},
     "source": [
      "* Las siguientes dos cadenas binarias"
     ]
    },
    {
     "cell_type": "markdown",
     "metadata": {},
     "source": [
      "    - `0000 0000 0010 1010`\n",
      "    - `1000 0000 0010 1010`"
     ]
    },
    {
     "cell_type": "markdown",
     "metadata": {},
     "source": [
      "\u00bfQu\u00e9 n\u00famero representan s\u00ed ...\n",
      "\n",
      "    - ... son 16 bits sin signo?\n",
      "    - ... son 16 bits con signo?\n",
      "    - ... 2 cadenas de 8 bits sin signo?\n",
      "    - ... 2 cadenas de 8 bits con signo?"
     ]
    },
    {
     "cell_type": "heading",
     "level": 2,
     "metadata": {},
     "source": [
      "Problema 5"
     ]
    },
    {
     "cell_type": "heading",
     "level": 3,
     "metadata": {},
     "source": [
      "El mundo del Nintendo: 8 bits"
     ]
    },
    {
     "cell_type": "markdown",
     "metadata": {},
     "source": [
      "Supongamos que vamos a trabajar con `8 bits`"
     ]
    },
    {
     "cell_type": "markdown",
     "metadata": {},
     "source": [
      "$$\n",
      "x = \\pm 1.mmmm \\times 2^{bbb}\n",
      "$$"
     ]
    },
    {
     "cell_type": "markdown",
     "metadata": {},
     "source": [
      "donde el _bias_ $= 3$."
     ]
    },
    {
     "cell_type": "markdown",
     "metadata": {},
     "source": [
      "- \u00bfCu\u00e1l es el rango? \n",
      "- \u00bfCu\u00e1l es la precisi\u00f3n?\n",
      "- \u00bfCu\u00e1l es la resoluci\u00f3n?\n",
      "- \u00bfCu\u00e1ntos b\u00ednades hay?\n",
      "- \u00bfCu\u00e1ntos n\u00fameros por b\u00ednade hay?"
     ]
    },
    {
     "cell_type": "heading",
     "level": 1,
     "metadata": {},
     "source": [
      "Computadora"
     ]
    },
    {
     "cell_type": "heading",
     "level": 2,
     "metadata": {},
     "source": [
      "Problema 6"
     ]
    },
    {
     "cell_type": "heading",
     "level": 2,
     "metadata": {},
     "source": [
      "El mundo de Nintendo: 8 bits"
     ]
    },
    {
     "cell_type": "markdown",
     "metadata": {},
     "source": [
      "* Crea un programa en `python` o `GNU Octave` imprima todos los n\u00fameros que se pueden almacenar en `8 bits` (ver ejercicio anterior). "
     ]
    },
    {
     "cell_type": "markdown",
     "metadata": {},
     "source": [
      "La tabla debe de tener el siguiente formato:"
     ]
    },
    {
     "cell_type": "markdown",
     "metadata": {},
     "source": [
      "| representaci\u00f3n almacenada | real | flotante |\n",
      "|---------------------------|------|----------|"
     ]
    },
    {
     "cell_type": "markdown",
     "metadata": {},
     "source": [
      "* Grafica el n\u00famero de d\u00edgitos en un `b\u00ednade` usando un histograma."
     ]
    },
    {
     "cell_type": "markdown",
     "metadata": {},
     "source": [
      "* Grafica en un histograma la **densidad** de d\u00edgitos que existen por cada entero."
     ]
    },
    {
     "cell_type": "code",
     "collapsed": false,
     "input": [
      "import numpy as np"
     ],
     "language": "python",
     "metadata": {},
     "outputs": [],
     "prompt_number": 74
    },
    {
     "cell_type": "code",
     "collapsed": false,
     "input": [
      "def binaDec(n):\n",
      "    decimal = 0\n",
      "    for digito in str(n):\n",
      "        decimal = decimal*2 + int(digito)\n",
      "    print decimal"
     ],
     "language": "python",
     "metadata": {},
     "outputs": [],
     "prompt_number": 75
    },
    {
     "cell_type": "code",
     "collapsed": false,
     "input": [
      "def ochobits():\n",
      "    ochos = np.zeros(8)\n",
      "    \n",
      "    for j in range(0,7):\n",
      "        for i in range(0,8-j):\n",
      "            ochos[j]=1\n",
      "            ochos[i+j]=1\n",
      "\n",
      "            e = float(ochos[1])*4+float(ochos[2])*2+float(ochos[3])\n",
      "            f = float(ochos[4])*8+float(ochos[5])*4+float(ochos[6])*2+float(ochos[7])\n",
      "            \n",
      "            #Intent\u00e9 convertir el representado a n\u00famero a trav\u00e9s de las f\u00f3rmulas de arriba.\n",
      "            #No otorgan el valor esperado\n",
      "            \n",
      "            print \"%12s\\t%12s\\t%12s\"% (ochos,(-1)*(1.0+f)**e,\"(1.0+f)**e\")\n",
      "            ochos[i+j]=0\n",
      "            \n",
      "            "
     ],
     "language": "python",
     "metadata": {},
     "outputs": [],
     "prompt_number": 123
    },
    {
     "cell_type": "code",
     "collapsed": false,
     "input": [
      "ochobits() #Representar\u00eda todos los negativos"
     ],
     "language": "python",
     "metadata": {},
     "outputs": [
      {
       "output_type": "stream",
       "stream": "stdout",
       "text": [
        "[ 1.  0.  0.  0.  0.  0.  0.  0.]\t        -1.0\t  (1.0+f)**e\n",
        "[ 1.  1.  0.  0.  0.  0.  0.  0.]\t        -1.0\t  (1.0+f)**e\n",
        "[ 1.  0.  1.  0.  0.  0.  0.  0.]\t        -1.0\t  (1.0+f)**e\n",
        "[ 1.  0.  0.  1.  0.  0.  0.  0.]\t        -1.0\t  (1.0+f)**e\n",
        "[ 1.  0.  0.  0.  1.  0.  0.  0.]\t        -1.0\t  (1.0+f)**e\n",
        "[ 1.  0.  0.  0.  0.  1.  0.  0.]\t        -1.0\t  (1.0+f)**e\n",
        "[ 1.  0.  0.  0.  0.  0.  1.  0.]\t        -1.0\t  (1.0+f)**e\n",
        "[ 1.  0.  0.  0.  0.  0.  0.  1.]\t        -1.0\t  (1.0+f)**e\n",
        "[ 1.  1.  0.  0.  0.  0.  0.  0.]\t        -1.0\t  (1.0+f)**e\n",
        "[ 1.  1.  1.  0.  0.  0.  0.  0.]\t        -1.0\t  (1.0+f)**e\n",
        "[ 1.  1.  0.  1.  0.  0.  0.  0.]\t        -1.0\t  (1.0+f)**e\n",
        "[ 1.  1.  0.  0.  1.  0.  0.  0.]\t     -6561.0\t  (1.0+f)**e\n",
        "[ 1.  1.  0.  0.  0.  1.  0.  0.]\t      -625.0\t  (1.0+f)**e\n",
        "[ 1.  1.  0.  0.  0.  0.  1.  0.]\t       -81.0\t  (1.0+f)**e\n",
        "[ 1.  1.  0.  0.  0.  0.  0.  1.]\t       -16.0\t  (1.0+f)**e\n",
        "[ 1.  1.  1.  0.  0.  0.  0.  0.]\t        -1.0\t  (1.0+f)**e\n",
        "[ 1.  1.  1.  1.  0.  0.  0.  0.]\t        -1.0\t  (1.0+f)**e\n",
        "[ 1.  1.  1.  0.  1.  0.  0.  0.]\t   -531441.0\t  (1.0+f)**e\n",
        "[ 1.  1.  1.  0.  0.  1.  0.  0.]\t    -15625.0\t  (1.0+f)**e\n",
        "[ 1.  1.  1.  0.  0.  0.  1.  0.]\t      -729.0\t  (1.0+f)**e\n",
        "[ 1.  1.  1.  0.  0.  0.  0.  1.]\t       -64.0\t  (1.0+f)**e\n",
        "[ 1.  1.  1.  1.  0.  0.  0.  0.]\t        -1.0\t  (1.0+f)**e\n",
        "[ 1.  1.  1.  1.  1.  0.  0.  0.]\t  -4782969.0\t  (1.0+f)**e\n",
        "[ 1.  1.  1.  1.  0.  1.  0.  0.]\t    -78125.0\t  (1.0+f)**e\n",
        "[ 1.  1.  1.  1.  0.  0.  1.  0.]\t     -2187.0\t  (1.0+f)**e\n",
        "[ 1.  1.  1.  1.  0.  0.  0.  1.]\t      -128.0\t  (1.0+f)**e\n",
        "[ 1.  1.  1.  1.  1.  0.  0.  0.]\t  -4782969.0\t  (1.0+f)**e\n",
        "[ 1.  1.  1.  1.  1.  1.  0.  0.]\t -62748517.0\t  (1.0+f)**e\n",
        "[ 1.  1.  1.  1.  1.  0.  1.  0.]\t -19487171.0\t  (1.0+f)**e\n",
        "[ 1.  1.  1.  1.  1.  0.  0.  1.]\t -10000000.0\t  (1.0+f)**e\n",
        "[ 1.  1.  1.  1.  1.  1.  0.  0.]\t -62748517.0\t  (1.0+f)**e\n",
        "[ 1.  1.  1.  1.  1.  1.  1.  0.]\t-170859375.0\t  (1.0+f)**e\n",
        "[ 1.  1.  1.  1.  1.  1.  0.  1.]\t-105413504.0\t  (1.0+f)**e\n",
        "[ 1.  1.  1.  1.  1.  1.  1.  0.]\t-170859375.0\t  (1.0+f)**e\n",
        "[ 1.  1.  1.  1.  1.  1.  1.  1.]\t-268435456.0\t  (1.0+f)**e\n"
       ]
      }
     ],
     "prompt_number": 124
    },
    {
     "cell_type": "code",
     "collapsed": false,
     "input": [
      "def ochobits2():\n",
      "    ochos = np.zeros(8)\n",
      "\n",
      "    for i in range(0,7):\n",
      "        ochos[i+1]=1\n",
      "        e = float(ochos[1])*4+float(ochos[2])*2+float(ochos[3])\n",
      "        f = float(ochos[4])*8+float(ochos[5])*4+float(ochos[6])*2+float(ochos[7])\n",
      "            \n",
      "            #Intent\u00e9 convertir el representado a n\u00famero a trav\u00e9s de las f\u00f3rmulas de arriba.\n",
      "            #No otorgan el valor esperado\n",
      "            \n",
      "        print \"%12s\\t%12s\\t%12s\"% (ochos,(1.0+f)**e,\"(1.0+f)**e\")\n",
      "        ochos[i+1]=0\n",
      "    \n",
      "    e = 0\n",
      "    f = 0\n",
      "    for k in range(1,7):\n",
      "        for l in range(0,8-k):\n",
      "            ochos[k]=1\n",
      "            ochos[l+k]=1\n",
      "            e = float(ochos[1])*4+float(ochos[2])*2+float(ochos[3])\n",
      "            f = float(ochos[4])*8+float(ochos[5])*4+float(ochos[6])*2+float(ochos[7])\n",
      "            \n",
      "            print \"%12s\\t%12s\\t%12s\"% (ochos,(1.0+f)**e,\"(1.0+f)**e\")\n",
      "            ochos[l+k]=0\n",
      "    "
     ],
     "language": "python",
     "metadata": {},
     "outputs": [],
     "prompt_number": 125
    },
    {
     "cell_type": "code",
     "collapsed": false,
     "input": [
      "ochobits2() #Representar\u00eda todos los positivos (no s\u00e9 por qu\u00e9 no funcionan juntas)"
     ],
     "language": "python",
     "metadata": {},
     "outputs": [
      {
       "output_type": "stream",
       "stream": "stdout",
       "text": [
        "[ 0.  1.  0.  0.  0.  0.  0.  0.]\t         1.0\t  (1.0+f)**e\n",
        "[ 0.  0.  1.  0.  0.  0.  0.  0.]\t         1.0\t  (1.0+f)**e\n",
        "[ 0.  0.  0.  1.  0.  0.  0.  0.]\t         1.0\t  (1.0+f)**e\n",
        "[ 0.  0.  0.  0.  1.  0.  0.  0.]\t         1.0\t  (1.0+f)**e\n",
        "[ 0.  0.  0.  0.  0.  1.  0.  0.]\t         1.0\t  (1.0+f)**e\n",
        "[ 0.  0.  0.  0.  0.  0.  1.  0.]\t         1.0\t  (1.0+f)**e\n",
        "[ 0.  0.  0.  0.  0.  0.  0.  1.]\t         1.0\t  (1.0+f)**e\n",
        "[ 0.  1.  0.  0.  0.  0.  0.  0.]\t         1.0\t  (1.0+f)**e\n",
        "[ 0.  1.  1.  0.  0.  0.  0.  0.]\t         1.0\t  (1.0+f)**e\n",
        "[ 0.  1.  0.  1.  0.  0.  0.  0.]\t         1.0\t  (1.0+f)**e\n",
        "[ 0.  1.  0.  0.  1.  0.  0.  0.]\t      6561.0\t  (1.0+f)**e\n",
        "[ 0.  1.  0.  0.  0.  1.  0.  0.]\t       625.0\t  (1.0+f)**e\n",
        "[ 0.  1.  0.  0.  0.  0.  1.  0.]\t        81.0\t  (1.0+f)**e\n",
        "[ 0.  1.  0.  0.  0.  0.  0.  1.]\t        16.0\t  (1.0+f)**e\n",
        "[ 0.  1.  1.  0.  0.  0.  0.  0.]\t         1.0\t  (1.0+f)**e\n",
        "[ 0.  1.  1.  1.  0.  0.  0.  0.]\t         1.0\t  (1.0+f)**e\n",
        "[ 0.  1.  1.  0.  1.  0.  0.  0.]\t    531441.0\t  (1.0+f)**e\n",
        "[ 0.  1.  1.  0.  0.  1.  0.  0.]\t     15625.0\t  (1.0+f)**e\n",
        "[ 0.  1.  1.  0.  0.  0.  1.  0.]\t       729.0\t  (1.0+f)**e\n",
        "[ 0.  1.  1.  0.  0.  0.  0.  1.]\t        64.0\t  (1.0+f)**e\n",
        "[ 0.  1.  1.  1.  0.  0.  0.  0.]\t         1.0\t  (1.0+f)**e\n",
        "[ 0.  1.  1.  1.  1.  0.  0.  0.]\t   4782969.0\t  (1.0+f)**e\n",
        "[ 0.  1.  1.  1.  0.  1.  0.  0.]\t     78125.0\t  (1.0+f)**e\n",
        "[ 0.  1.  1.  1.  0.  0.  1.  0.]\t      2187.0\t  (1.0+f)**e\n",
        "[ 0.  1.  1.  1.  0.  0.  0.  1.]\t       128.0\t  (1.0+f)**e\n",
        "[ 0.  1.  1.  1.  1.  0.  0.  0.]\t   4782969.0\t  (1.0+f)**e\n",
        "[ 0.  1.  1.  1.  1.  1.  0.  0.]\t  62748517.0\t  (1.0+f)**e\n",
        "[ 0.  1.  1.  1.  1.  0.  1.  0.]\t  19487171.0\t  (1.0+f)**e"
       ]
      },
      {
       "output_type": "stream",
       "stream": "stdout",
       "text": [
        "\n",
        "[ 0.  1.  1.  1.  1.  0.  0.  1.]\t  10000000.0\t  (1.0+f)**e\n",
        "[ 0.  1.  1.  1.  1.  1.  0.  0.]\t  62748517.0\t  (1.0+f)**e\n",
        "[ 0.  1.  1.  1.  1.  1.  1.  0.]\t 170859375.0\t  (1.0+f)**e\n",
        "[ 0.  1.  1.  1.  1.  1.  0.  1.]\t 105413504.0\t  (1.0+f)**e\n",
        "[ 0.  1.  1.  1.  1.  1.  1.  0.]\t 170859375.0\t  (1.0+f)**e\n",
        "[ 0.  1.  1.  1.  1.  1.  1.  1.]\t 268435456.0\t  (1.0+f)**e\n"
       ]
      }
     ],
     "prompt_number": 126
    },
    {
     "cell_type": "heading",
     "level": 2,
     "metadata": {},
     "source": [
      "Problema 7"
     ]
    },
    {
     "cell_type": "markdown",
     "metadata": {},
     "source": [
      "Observa el c\u00f3digo de `GNU Octave` siguiente:"
     ]
    },
    {
     "cell_type": "code",
     "collapsed": false,
     "input": [
      "!cat strange_floats_sp.m"
     ],
     "language": "python",
     "metadata": {},
     "outputs": [
      {
       "output_type": "stream",
       "stream": "stdout",
       "text": [
        "x = single(77777.0)\r\n",
        "y = single(7.0)\r\n",
        "inv_y = 1.0 / y\r\n",
        "\r\n",
        "z = x / y\r\n",
        "z1 = x * inv_y\r\n",
        "\r\n",
        "if (z != z1)\r\n",
        "  sprintf(\"%1.3f != %1.3f\", z, z1)\r\n",
        "  sprintf(\"%1.30f != %1.30f\", z, z1)\r\n",
        "else\r\n",
        "  sprintf(\"%1.3f == %1.3f\", z, z1)\r\n",
        "  sprintf(\"%1.30f == %1.30f\", z, z1)\r\n",
        "endif\r\n"
       ]
      }
     ],
     "prompt_number": 10
    },
    {
     "cell_type": "markdown",
     "metadata": {},
     "source": [
      "- \u00bfQu\u00e9 hace este c\u00f3digo?\n",
      "- Abre el programa `GNU Octave` y ejec\u00fatalo en la consola. \u00bfResult\u00f3 lo que esperabas?\n",
      "- `z`,  `z1` \u00bfSon `SP` o `DP`?"
     ]
    },
    {
     "cell_type": "markdown",
     "metadata": {},
     "source": [
      "<div class=\"alert alert-info\">\n",
      "**NOTA** `single` en `GNU Octave` y `Matlab` es la instrucci\u00f3n para indicarle al programa que trabaje en _single precision_.\n",
      "</div>"
     ]
    },
    {
     "cell_type": "markdown",
     "metadata": {},
     "source": [
      "<div class=\"alert alert-info\">\n",
      "**NOTA** Para ejecutar un _script_ en `GNU Octave` solo debes de teclear su nombre (obvio si lo tienes en tu carpeta)\n",
      "</div>"
     ]
    },
    {
     "cell_type": "markdown",
     "metadata": {},
     "source": [
      "a) El programa calcula de dos formas distintas el cociente de x entre y. Estas dos formas distintas tendr\u00e1n un resultado diferente pues se notar\u00e1 la falta de precisi\u00f3n en los c\u00e1culos con n\u00fameros de m\u00e1quina. Despu\u00e9s, si en efecto son diferentes, imprime que son diferentes y si son iguales imprime que son iguales y las dos variables."
     ]
    },
    {
     "cell_type": "markdown",
     "metadata": {},
     "source": [
      "b) Al correr el c\u00f3digo en octave, en efecto, mostr\u00f3 la primera condicional. Mostr\u00f3 que eran diferentes. Esto refleja el problema de precisi\u00f3n pues algebr\u00e1icamente deber\u00edan representar lo mismo."
     ]
    },
    {
     "cell_type": "markdown",
     "metadata": {},
     "source": [
      "c) Si est\u00e1s trabajando con dos n\u00fameros de SP, las operaciones entre \u00e9stos deber\u00edan resultar n\u00famero de SP"
     ]
    },
    {
     "cell_type": "markdown",
     "metadata": {},
     "source": [
      "- Comp\u00e1ralo con el _script_ `strange_floats_dp.m` \u00bfPor qu\u00e9 es la diferencia? Explica la salida de ambos programas."
     ]
    },
    {
     "cell_type": "markdown",
     "metadata": {},
     "source": [
      "d) El c\u00f3digo ahora reacciona de otra forma, muestra que las soluciones son las mismas."
     ]
    },
    {
     "cell_type": "code",
     "collapsed": false,
     "input": [
      "!octave strange_floats_dp.m"
     ],
     "language": "python",
     "metadata": {},
     "outputs": [
      {
       "output_type": "stream",
       "stream": "stdout",
       "text": [
        "GNU Octave, version 3.8.1\r\n",
        "Copyright (C) 2014 John W. Eaton and others.\r\n",
        "This is free software; see the source code for copying conditions.\r\n",
        "There is ABSOLUTELY NO WARRANTY; not even for MERCHANTABILITY or\r\n",
        "FITNESS FOR A PARTICULAR PURPOSE.  For details, type 'warranty'.\r\n",
        "\r\n",
        "Octave was configured for \"x86_64-pc-linux-gnu\".\r\n",
        "\r\n",
        "Additional information about Octave is available at http://www.octave.org.\r\n",
        "\r\n",
        "Please contribute if you find this software useful.\r\n",
        "For more information, visit http://www.octave.org/get-involved.html\r\n",
        "\r\n",
        "Read http://www.octave.org/bugs.html to learn how to submit bug reports.\r\n",
        "For information about changes from previous versions, type 'news'.\r\n",
        "\r\n"
       ]
      },
      {
       "output_type": "stream",
       "stream": "stdout",
       "text": [
        "x =  77777\r\n",
        "y =  7\r\n",
        "inv_y =  0.14286\r\n",
        "z =  11111\r\n",
        "z1 =  11111\r\n",
        "ans = 11111.000 == 11111.000\r\n",
        "ans = 11111.000000000000000000000000000000 == 11111.000000000000000000000000000000\r\n"
       ]
      }
     ],
     "prompt_number": 4
    },
    {
     "cell_type": "markdown",
     "metadata": {},
     "source": [
      "- `z`,  `z1` \u00bfSon `SP` o `DP`?"
     ]
    },
    {
     "cell_type": "markdown",
     "metadata": {},
     "source": [
      "e) Debido a que ahora s\u00ed mostr\u00f3 que, en efecto, eran iguales. Me aventurar\u00e9 a decir que no son SP ni DP sino symbol."
     ]
    },
    {
     "cell_type": "heading",
     "level": 2,
     "metadata": {},
     "source": [
      "Problema 8"
     ]
    },
    {
     "cell_type": "markdown",
     "metadata": {},
     "source": [
      "La _varianza_ de $n$ datos se define como"
     ]
    },
    {
     "cell_type": "heading",
     "level": 3,
     "metadata": {},
     "source": [
      "$$\n",
      "\n",
      "s_n^2 = \\frac{1}{n - 1} \\sum^n_{i=1} (x_i - \\bar{x})^2\n",
      "\n",
      "$$"
     ]
    },
    {
     "cell_type": "markdown",
     "metadata": {},
     "source": [
      "$$\n",
      "\\bar{x} = \\frac{1}{n} \\sum^n_{i = 1} x_i\n",
      "$$"
     ]
    },
    {
     "cell_type": "markdown",
     "metadata": {},
     "source": [
      "Esta definici\u00f3n es poco eficiente ya que requiere dos pasadas a los datos para calcular la _varianza_."
     ]
    },
    {
     "cell_type": "markdown",
     "metadata": {},
     "source": [
      "* Crea una funci\u00f3n an\u00f3nima en `numpy` o `GNU/Octave` que reproduzca este algoritmo."
     ]
    },
    {
     "cell_type": "code",
     "collapsed": false,
     "input": [
      "def varianza(arr):\n",
      "    cont1=0\n",
      "    cont2=0\n",
      "    for i in range(0,len(arr)):\n",
      "        cont1 += float(arr[i])\n",
      "    \n",
      "    x= (1.0/len(arr))*cont1\n",
      "        \n",
      "    for j in range(0,len(arr)):\n",
      "        cont2 += (float(arr[i])-x)**2\n",
      "        \n",
      "    print (1.0/(len(arr)-1))*cont2"
     ],
     "language": "python",
     "metadata": {},
     "outputs": [],
     "prompt_number": 183
    },
    {
     "cell_type": "code",
     "collapsed": false,
     "input": [
      "arr= np.arange(3)\n",
      "varianza(arr)"
     ],
     "language": "python",
     "metadata": {},
     "outputs": [
      {
       "output_type": "stream",
       "stream": "stdout",
       "text": [
        "1.5\n"
       ]
      }
     ],
     "prompt_number": 184
    },
    {
     "cell_type": "markdown",
     "metadata": {},
     "source": [
      "En los libros de texto se recomienda (o se reescribe) la definici\u00f3n de la siguiente manera:"
     ]
    },
    {
     "cell_type": "markdown",
     "metadata": {},
     "source": [
      "$$\n",
      "s_n^2 = \\frac{1}{n-1} \\left( \\sum^n_{i=1} x_i^2 -  \\frac{1}{n}\\left(\\sum^n_{i=1} x_i\\right)^2\\right)\n",
      "$$"
     ]
    },
    {
     "cell_type": "markdown",
     "metadata": {},
     "source": [
      "El cual es m\u00e1s eficiente computacionalmente hablando"
     ]
    },
    {
     "cell_type": "markdown",
     "metadata": {},
     "source": [
      "* Crea un programa en `numpy` o `GNU/Octave` que reproduzca este algoritmo."
     ]
    },
    {
     "cell_type": "code",
     "collapsed": false,
     "input": [
      "def varianza2(arr):\n",
      "    contador1=0\n",
      "    contador2=0\n",
      "    for i in range(0,len(arr)):\n",
      "        contador1 += arr[i]**2        \n",
      "    for j in range(0,len(arr)):\n",
      "        contador2 += arr[j]       \n",
      "        \n",
      "    print (1.0/(len(arr)-1))*(contador1 - (1.0/len(arr))*((contador2)**2))"
     ],
     "language": "python",
     "metadata": {},
     "outputs": [],
     "prompt_number": 189
    },
    {
     "cell_type": "code",
     "collapsed": false,
     "input": [
      "varianza2(arr)"
     ],
     "language": "python",
     "metadata": {},
     "outputs": [
      {
       "output_type": "stream",
       "stream": "stdout",
       "text": [
        "1.0\n"
       ]
      }
     ],
     "prompt_number": 190
    },
    {
     "cell_type": "markdown",
     "metadata": {},
     "source": [
      "* Sean los datos $10000, 10001, 10002$, Realiza el c\u00e1lculo a mano y comp\u00e1ralo con los dos algoritmos. Expl\u00edca las diferencias y el posible error."
     ]
    },
    {
     "cell_type": "code",
     "collapsed": false,
     "input": [
      "datos = np.array([1000,1001,1002])\n",
      "varianza(datos)"
     ],
     "language": "python",
     "metadata": {},
     "outputs": [
      {
       "output_type": "stream",
       "stream": "stdout",
       "text": [
        "1.5\n"
       ]
      }
     ],
     "prompt_number": 191
    },
    {
     "cell_type": "code",
     "collapsed": false,
     "input": [
      "varianza2(datos)"
     ],
     "language": "python",
     "metadata": {},
     "outputs": [
      {
       "output_type": "stream",
       "stream": "stdout",
       "text": [
        "1.0\n"
       ]
      }
     ],
     "prompt_number": 283
    },
    {
     "cell_type": "markdown",
     "metadata": {},
     "source": [
      "La diferencia se debe a que en la primera opci\u00f3n de calcularlo existen m\u00e1s operaciones de multiplicaciones dentro de las sumatorias. Adem\u00e1s, cuando tienes una sumatoria dentro de una sumatoria, las cuales est\u00e1n llenas de multiplicaciones, los decimales que revasan el l\u00edmite de la m\u00e1quina van invadiendo los que s\u00ed son relevantes. Debido a esto, terminamos resolviendo un problema diferente."
     ]
    },
    {
     "cell_type": "heading",
     "level": 2,
     "metadata": {},
     "source": [
      "Problema 9"
     ]
    },
    {
     "cell_type": "markdown",
     "metadata": {},
     "source": [
      "* Carga la funci\u00f3n `factorial` definida en el archivo `factorial.py`"
     ]
    },
    {
     "cell_type": "code",
     "collapsed": false,
     "input": [
      "import math"
     ],
     "language": "python",
     "metadata": {},
     "outputs": [],
     "prompt_number": 193
    },
    {
     "cell_type": "code",
     "collapsed": false,
     "input": [
      "math.factorial(5)"
     ],
     "language": "python",
     "metadata": {},
     "outputs": [
      {
       "metadata": {},
       "output_type": "pyout",
       "prompt_number": 194,
       "text": [
        "120"
       ]
      }
     ],
     "prompt_number": 194
    },
    {
     "cell_type": "markdown",
     "metadata": {},
     "source": [
      "La serie de Maclaurin es un caso especial de la serie de Taylor de una funci\u00f3n $f$ alrededor de $0$"
     ]
    },
    {
     "cell_type": "markdown",
     "metadata": {},
     "source": [
      "$$\n",
      "f(x) = f(0) + f'(0) + \\frac{f''(0)}{2!} + \\ldots = \\sum^\\infty_{i=0}\\frac{1}{n\\!}f^{(n)}(0)\n",
      "$$"
     ]
    },
    {
     "cell_type": "markdown",
     "metadata": {},
     "source": [
      "En particular, la funci\u00f3n exponencial tiene la siguiente forma:"
     ]
    },
    {
     "cell_type": "markdown",
     "metadata": {},
     "source": [
      "$$\n",
      "e^x = 1 + x + \\frac{x^2}{2} + \\ldots = \\sum^\\infty_{i=0} \\frac{x^i}{i\\!}\n",
      "$$"
     ]
    },
    {
     "cell_type": "markdown",
     "metadata": {},
     "source": [
      "* Usando la funci\u00f3n `factorial` crea la funci\u00f3n `exp_maclaurin(x,n)`, que imprima lo siguiente:"
     ]
    },
    {
     "cell_type": "markdown",
     "metadata": {},
     "source": [
      "    print \"%12s\\t%12s\\t%12s\\t%12s\\t%20s\\t%20s\" % (\"i\", \"x\", \"x^i\", \"factorial(i)\", \"x^i/factorial(i)\", \"suma\")"
     ]
    },
    {
     "cell_type": "code",
     "collapsed": false,
     "input": [
      "def exp_maclaurin(x,n):\n",
      "    cont1=1\n",
      "    for i in range(1,n):\n",
      "        cont1 += (x**i)/float(i)\n",
      "        \n",
      "    print \"%12s\\t%12s\\t%12s\\t%12s\\t%20s\\t%20s\" % (i,float(x),float(x**i),math.factorial(i),(float(x**i))/math.factorial(i),cont1)"
     ],
     "language": "python",
     "metadata": {},
     "outputs": [],
     "prompt_number": 304
    },
    {
     "cell_type": "code",
     "collapsed": false,
     "input": [
      "exp_maclaurin(0,20)"
     ],
     "language": "python",
     "metadata": {},
     "outputs": [
      {
       "output_type": "stream",
       "stream": "stdout",
       "text": [
        "          19\t         0.0\t         0.0\t121645100408832000\t                 0.0\t                 1.0\n"
       ]
      }
     ],
     "prompt_number": 305
    },
    {
     "cell_type": "markdown",
     "metadata": {},
     "source": [
      "* Usando la funci\u00f3n `np.exp` calcula `0`, `1`, `5.5` y `-5.5`"
     ]
    },
    {
     "cell_type": "code",
     "collapsed": false,
     "input": [
      "np.exp(0)"
     ],
     "language": "python",
     "metadata": {},
     "outputs": [
      {
       "metadata": {},
       "output_type": "pyout",
       "prompt_number": 306,
       "text": [
        "1.0"
       ]
      }
     ],
     "prompt_number": 306
    },
    {
     "cell_type": "code",
     "collapsed": false,
     "input": [
      "np.exp(1)"
     ],
     "language": "python",
     "metadata": {},
     "outputs": [
      {
       "metadata": {},
       "output_type": "pyout",
       "prompt_number": 307,
       "text": [
        "2.7182818284590451"
       ]
      }
     ],
     "prompt_number": 307
    },
    {
     "cell_type": "code",
     "collapsed": false,
     "input": [
      "np.exp(5.5)"
     ],
     "language": "python",
     "metadata": {},
     "outputs": [
      {
       "metadata": {},
       "output_type": "pyout",
       "prompt_number": 308,
       "text": [
        "244.69193226422038"
       ]
      }
     ],
     "prompt_number": 308
    },
    {
     "cell_type": "code",
     "collapsed": false,
     "input": [
      "np.exp(-5.5)"
     ],
     "language": "python",
     "metadata": {},
     "outputs": [
      {
       "metadata": {},
       "output_type": "pyout",
       "prompt_number": 309,
       "text": [
        "0.0040867714384640666"
       ]
      }
     ],
     "prompt_number": 309
    },
    {
     "cell_type": "markdown",
     "metadata": {},
     "source": [
      "* Usando tu funci\u00f3n, calcula los mismos valores a orden 20 \u00bfEn cu\u00e1l falla? \u00bfPor qu\u00e9 crees que sea?"
     ]
    },
    {
     "cell_type": "code",
     "collapsed": false,
     "input": [
      "exp_maclaurin(0,20)"
     ],
     "language": "python",
     "metadata": {},
     "outputs": [
      {
       "output_type": "stream",
       "stream": "stdout",
       "text": [
        "          19\t         0.0\t         0.0\t121645100408832000\t                 0.0\t                 1.0\n"
       ]
      }
     ],
     "prompt_number": 310
    },
    {
     "cell_type": "code",
     "collapsed": false,
     "input": [
      "exp_maclaurin(1,20)"
     ],
     "language": "python",
     "metadata": {},
     "outputs": [
      {
       "output_type": "stream",
       "stream": "stdout",
       "text": [
        "          19\t         1.0\t         1.0\t121645100408832000\t   8.22063524662e-18\t       4.54773965714\n"
       ]
      }
     ],
     "prompt_number": 311
    },
    {
     "cell_type": "code",
     "collapsed": false,
     "input": [
      "exp_maclaurin(5.5,20)"
     ],
     "language": "python",
     "metadata": {},
     "outputs": [
      {
       "output_type": "stream",
       "stream": "stdout",
       "text": [
        "          19\t         5.5\t1.16651707551e+14\t121645100408832000\t   0.000958951138671\t   7.59908129954e+12\n"
       ]
      }
     ],
     "prompt_number": 312
    },
    {
     "cell_type": "code",
     "collapsed": false,
     "input": [
      "exp_maclaurin(-5.5,20)"
     ],
     "language": "python",
     "metadata": {},
     "outputs": [
      {
       "output_type": "stream",
       "stream": "stdout",
       "text": [
        "          19\t        -5.5\t-1.16651707551e+14\t121645100408832000\t  -0.000958951138671\t  -5.15139484886e+12\n"
       ]
      }
     ],
     "prompt_number": 313
    },
    {
     "cell_type": "markdown",
     "metadata": {},
     "source": [
      "* \u00bfC\u00f3mo resolver\u00edas este problema? Implementa tu soluci\u00f3n."
     ]
    },
    {
     "cell_type": "markdown",
     "metadata": {},
     "source": [
      "<div class=\"alert alert-info\">\n",
      "**HINT** Recuerda las leyes de los exponentes\n",
      "</div>"
     ]
    },
    {
     "cell_type": "markdown",
     "metadata": {},
     "source": [
      "Se me ocurre factorizar la x para reducir el error ocasionado con los decimales. El factorizar la x es equivalente a que se resuelva de \"adentro hacia afuera\" (pues es una funci\u00f3n telesc\u00f3pica).\n",
      "\n",
      "No se me ocurre c\u00f3mo hacer un programa recursivo o repetitivo pero para mostrar mi idea lo har\u00e9 con orden 7 con x=1 y tendr\u00edan que dar algo parecido a nuestro querido n\u00famero e:"
     ]
    },
    {
     "cell_type": "code",
     "collapsed": false,
     "input": [
      "def exponencial_orden7(x):\n",
      "    return 1+x*(1 + x*(1.0/2 + x*(1.0/3 + x*(1.0/4 + x*(1.0/5 + float(x)/6)))))"
     ],
     "language": "python",
     "metadata": {},
     "outputs": [],
     "prompt_number": 298
    },
    {
     "cell_type": "code",
     "collapsed": false,
     "input": [
      "exponencial_orden7(1)"
     ],
     "language": "python",
     "metadata": {},
     "outputs": [
      {
       "metadata": {},
       "output_type": "pyout",
       "prompt_number": 301,
       "text": [
        "3.45"
       ]
      }
     ],
     "prompt_number": 301
    },
    {
     "cell_type": "markdown",
     "metadata": {},
     "source": [
      "Sigue estando lejos del 2.7128... pero est\u00e1 m\u00e1s cerca de lo que el programa me ofreci\u00f3"
     ]
    },
    {
     "cell_type": "heading",
     "level": 2,
     "metadata": {},
     "source": [
      "Problema 10"
     ]
    },
    {
     "cell_type": "markdown",
     "metadata": {},
     "source": [
      "- \u00bfQu\u00e9 pasa si usas 16 bits, 32 bits o 64 bits?\n",
      "- Implementa el **problema 8** usando el otro lenguaje que no usaste \u00bfEl resultado es diferente? "
     ]
    }
   ],
   "metadata": {}
  }
 ]
}