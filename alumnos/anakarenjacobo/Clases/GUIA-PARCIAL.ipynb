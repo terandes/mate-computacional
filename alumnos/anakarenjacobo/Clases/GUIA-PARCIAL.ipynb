{
 "metadata": {
  "name": "",
  "signature": "sha256:7d17948ba1cb37e863fb6b410f25c5e471dc82496dcafb229d79b32073133325"
 },
 "nbformat": 3,
 "nbformat_minor": 0,
 "worksheets": [
  {
   "cells": [
    {
     "cell_type": "code",
     "collapsed": false,
     "input": [
      "#LECTURA 2"
     ],
     "language": "python",
     "metadata": {},
     "outputs": [],
     "prompt_number": 1
    },
    {
     "cell_type": "code",
     "collapsed": false,
     "input": [
      "\"\"\" ciertas cosas que hay que importar para poder usar\"\"\"\n",
      "\n",
      "from IPython.display import display\n",
      "\"\"\"esta sirve para: \"\"\"\n",
      "from IPython.display import Image\n",
      "\"\"\" esta sirve para\"\"\"\n",
      "from IPython.html.widgets import interact, fixed\n",
      "from IPython.html import widgets\n",
      "\"\"\"esta sirve para:hacer una grafica de valores(interacat) y para dejar fijo un numero(fixed)\"\"\"\n",
      "import numpy as np\n",
      "import matplotlib.pyplot as plt\n",
      "\"\"\" esta sirve para:numpy es para la biblioteca matematica, y el plot para graficar\"\"\"\n",
      "#para usar funciones de matematicas no basicas se necesitan importar"
     ],
     "language": "python",
     "metadata": {},
     "outputs": [
      {
       "metadata": {},
       "output_type": "pyout",
       "prompt_number": 2,
       "text": [
        "' esta sirve para:numpy es para la biblioteca matematica, y el plot para graficar'"
       ]
      }
     ],
     "prompt_number": 2
    },
    {
     "cell_type": "code",
     "collapsed": false,
     "input": [
      "\"\"\" si no sabes usar alguna funcion debes usar el ___?\"\"\"\n",
      "str?\n",
      "int?"
     ],
     "language": "python",
     "metadata": {},
     "outputs": [],
     "prompt_number": 3
    },
    {
     "cell_type": "code",
     "collapsed": false,
     "input": [
      "\"\"\"ASIGNACIONES DE NUMEROS Y CADENAS\"\"\"\n",
      "x=1\n",
      "y= u'hola'\n",
      "print x,y"
     ],
     "language": "python",
     "metadata": {},
     "outputs": [
      {
       "output_type": "stream",
       "stream": "stdout",
       "text": [
        "1 hola\n"
       ]
      }
     ],
     "prompt_number": 4
    },
    {
     "cell_type": "code",
     "collapsed": false,
     "input": [
      "\"\"\" para ver las funciones que puedes hacer con una cadena o con una variable se pone el nombre de la variable\n",
      "y un punto (x.)\"\"\"    "
     ],
     "language": "python",
     "metadata": {},
     "outputs": [
      {
       "metadata": {},
       "output_type": "pyout",
       "prompt_number": 5,
       "text": [
        "' para ver las funciones que puedes hacer con una cadena o con una variable se pone el nombre de la variable\\ny un punto (x.)'"
       ]
      }
     ],
     "prompt_number": 5
    },
    {
     "cell_type": "code",
     "collapsed": false,
     "input": [
      "# LISTAS "
     ],
     "language": "python",
     "metadata": {},
     "outputs": [],
     "prompt_number": 6
    },
    {
     "cell_type": "code",
     "collapsed": false,
     "input": [
      "lista = [1,2,3,4,5]\n",
      "lista"
     ],
     "language": "python",
     "metadata": {},
     "outputs": [
      {
       "metadata": {},
       "output_type": "pyout",
       "prompt_number": 7,
       "text": [
        "[1, 2, 3, 4, 5]"
       ]
      }
     ],
     "prompt_number": 7
    },
    {
     "cell_type": "code",
     "collapsed": false,
     "input": [
      "lista[3]"
     ],
     "language": "python",
     "metadata": {},
     "outputs": [
      {
       "metadata": {},
       "output_type": "pyout",
       "prompt_number": 8,
       "text": [
        "4"
       ]
      }
     ],
     "prompt_number": 8
    },
    {
     "cell_type": "code",
     "collapsed": false,
     "input": [
      "lista[-1]"
     ],
     "language": "python",
     "metadata": {},
     "outputs": [
      {
       "metadata": {},
       "output_type": "pyout",
       "prompt_number": 9,
       "text": [
        "5"
       ]
      }
     ],
     "prompt_number": 9
    },
    {
     "cell_type": "code",
     "collapsed": false,
     "input": [
      "lista[2:]"
     ],
     "language": "python",
     "metadata": {},
     "outputs": [
      {
       "metadata": {},
       "output_type": "pyout",
       "prompt_number": 10,
       "text": [
        "[3, 4, 5]"
       ]
      }
     ],
     "prompt_number": 10
    },
    {
     "cell_type": "code",
     "collapsed": false,
     "input": [
      "lista[3:5]"
     ],
     "language": "python",
     "metadata": {},
     "outputs": [
      {
       "metadata": {},
       "output_type": "pyout",
       "prompt_number": 11,
       "text": [
        "[4, 5]"
       ]
      }
     ],
     "prompt_number": 11
    },
    {
     "cell_type": "code",
     "collapsed": false,
     "input": [
      "lista[:4]"
     ],
     "language": "python",
     "metadata": {},
     "outputs": [
      {
       "metadata": {},
       "output_type": "pyout",
       "prompt_number": 12,
       "text": [
        "[1, 2, 3, 4]"
       ]
      }
     ],
     "prompt_number": 12
    },
    {
     "cell_type": "code",
     "collapsed": false,
     "input": [
      "n=6"
     ],
     "language": "python",
     "metadata": {},
     "outputs": [],
     "prompt_number": 13
    },
    {
     "cell_type": "code",
     "collapsed": false,
     "input": [
      "lista.append(n)\n",
      "lista"
     ],
     "language": "python",
     "metadata": {},
     "outputs": [
      {
       "metadata": {},
       "output_type": "pyout",
       "prompt_number": 14,
       "text": [
        "[1, 2, 3, 4, 5, 6]"
       ]
      }
     ],
     "prompt_number": 14
    },
    {
     "cell_type": "code",
     "collapsed": false,
     "input": [
      "lista.remove(6)\n",
      "lista"
     ],
     "language": "python",
     "metadata": {},
     "outputs": [
      {
       "metadata": {},
       "output_type": "pyout",
       "prompt_number": 15,
       "text": [
        "[1, 2, 3, 4, 5]"
       ]
      }
     ],
     "prompt_number": 15
    },
    {
     "cell_type": "code",
     "collapsed": false,
     "input": [
      "\"\"\" quita el ultimo elemento de la lista\"\"\"\n",
      "lista.pop()"
     ],
     "language": "python",
     "metadata": {},
     "outputs": [
      {
       "metadata": {},
       "output_type": "pyout",
       "prompt_number": 16,
       "text": [
        "5"
       ]
      }
     ],
     "prompt_number": 16
    },
    {
     "cell_type": "code",
     "collapsed": false,
     "input": [
      "#LECTURA 3"
     ],
     "language": "python",
     "metadata": {},
     "outputs": [],
     "prompt_number": 17
    },
    {
     "cell_type": "code",
     "collapsed": false,
     "input": [
      "# el problema de la computadora es que pierde mucha precision"
     ],
     "language": "python",
     "metadata": {},
     "outputs": [],
     "prompt_number": 18
    },
    {
     "cell_type": "code",
     "collapsed": false,
     "input": [
      "\"\"\"convertir un numero a binario\"\"\"\n",
      "bin(1)"
     ],
     "language": "python",
     "metadata": {},
     "outputs": [
      {
       "metadata": {},
       "output_type": "pyout",
       "prompt_number": 19,
       "text": [
        "'0b1'"
       ]
      }
     ],
     "prompt_number": 19
    },
    {
     "cell_type": "code",
     "collapsed": false,
     "input": [
      "from decimal import Decimal"
     ],
     "language": "python",
     "metadata": {},
     "outputs": [],
     "prompt_number": 20
    },
    {
     "cell_type": "code",
     "collapsed": false,
     "input": [
      "Decimal(2.675)"
     ],
     "language": "python",
     "metadata": {},
     "outputs": [
      {
       "metadata": {},
       "output_type": "pyout",
       "prompt_number": 21,
       "text": [
        "Decimal('2.67499999999999982236431605997495353221893310546875')"
       ]
      }
     ],
     "prompt_number": 21
    },
    {
     "cell_type": "code",
     "collapsed": false,
     "input": [
      "\"\"\" para generar una tabla se necesita utilizar un for\"\"\"\n",
      "for i in xrange(0,5):\n",
      "    print \"%d \\t %s\" % (i, bin(i))\n",
      "    \"\"\"el %d\\t%s\" es para que se genere en forma de tabla\"\"\""
     ],
     "language": "python",
     "metadata": {},
     "outputs": [
      {
       "output_type": "stream",
       "stream": "stdout",
       "text": [
        "0 \t 0b0\n",
        "1 \t 0b1\n",
        "2 \t 0b10\n",
        "3 \t 0b11\n",
        "4 \t 0b100\n"
       ]
      }
     ],
     "prompt_number": 22
    },
    {
     "cell_type": "code",
     "collapsed": false,
     "input": [
      "##calculo simbolico \n",
      "from sympy.interactive import printing\n",
      "printing.init_printing(use_latex=True)"
     ],
     "language": "python",
     "metadata": {},
     "outputs": [],
     "prompt_number": 23
    },
    {
     "cell_type": "code",
     "collapsed": false,
     "input": [
      "\"\"\"para el calculo simbolico se necesita importar las variables\"\"\"\n",
      "from sympy import Symbol\n",
      "x = Symbol('x')\n",
      "x"
     ],
     "language": "python",
     "metadata": {},
     "outputs": [
      {
       "latex": [
        "$$x$$"
       ],
       "metadata": {},
       "output_type": "pyout",
       "png": "[encoded data removed]",
       "prompt_number": 24,
       "text": [
        "x"
       ]
      }
     ],
     "prompt_number": 24
    },
    {
     "cell_type": "code",
     "collapsed": false,
     "input": [
      "# con los numeros racionales se pueden hacer todas las operaciones siempre y cuando esten bien definidas\n",
      "\"\"\" tambien se puedn representar los tipos numericos racionales y reales\"\"\"\n",
      "import sympy as sym\n",
      "a = sym.Rational(1,10)\n",
      "a\n"
     ],
     "language": "python",
     "metadata": {},
     "outputs": [
      {
       "latex": [
        "$$\\frac{1}{10}$$"
       ],
       "metadata": {},
       "output_type": "pyout",
       "png": "[encoded data removed]",
       "prompt_number": 25,
       "text": [
        "1/10"
       ]
      }
     ],
     "prompt_number": 25
    },
    {
     "cell_type": "code",
     "collapsed": false,
     "input": [
      "\"\"\" para convertir nuevamente ese numero a numero flotante se usa:\"\"\"\n",
      "float(a)\n",
      "\"\"\"para volver a convertirlo a numero racional solo se pone la letra nuevamente\"\"\""
     ],
     "language": "python",
     "metadata": {},
     "outputs": [
      {
       "metadata": {},
       "output_type": "pyout",
       "prompt_number": 26,
       "text": [
        "'para volver a convertirlo a numero racional solo se pone la letra nuevamente'"
       ]
      }
     ],
     "prompt_number": 26
    },
    {
     "cell_type": "code",
     "collapsed": false,
     "input": [
      "\"\"\" si se quiere tener un numero exacto de decimales se pueden solicitar con la siguiente funcion:\"\"\"\n",
      "a.evalf()"
     ],
     "language": "python",
     "metadata": {},
     "outputs": [
      {
       "latex": [
        "$$0.1$$"
       ],
       "metadata": {},
       "output_type": "pyout",
       "png": "[encoded data removed]",
       "prompt_number": 27,
       "text": [
        "0.100000000000000"
       ]
      }
     ],
     "prompt_number": 27
    },
    {
     "cell_type": "code",
     "collapsed": false,
     "input": [
      "\"\"\"para hacer operaciones matematicas se tienen que importar los simbolos\"\"\"\n",
      "from sympy import *"
     ],
     "language": "python",
     "metadata": {},
     "outputs": [],
     "prompt_number": 28
    },
    {
     "cell_type": "code",
     "collapsed": false,
     "input": [
      "\"\"\" con ayhuda de sympy se pueden hacer calculos matematicos como:\n",
      "diff\n",
      "integrate \n",
      "\"\"\""
     ],
     "language": "python",
     "metadata": {},
     "outputs": [
      {
       "metadata": {},
       "output_type": "pyout",
       "prompt_number": 29,
       "text": [
        "' con ayhuda de sympy se pueden hacer calculos matematicos como:\\ndiff\\nintegrate \\n'"
       ]
      }
     ],
     "prompt_number": 29
    },
    {
     "cell_type": "code",
     "collapsed": false,
     "input": [
      "\"\"\"\n",
      "FALTA LA NOTA DE PUNTO FLOTANTE\n",
      "\"\"\""
     ],
     "language": "python",
     "metadata": {},
     "outputs": [
      {
       "metadata": {},
       "output_type": "pyout",
       "prompt_number": 30,
       "text": [
        "'\\nFALTA LA NOTA DE PUNTO FLOTANTE\\n'"
       ]
      }
     ],
     "prompt_number": 30
    },
    {
     "cell_type": "code",
     "collapsed": false,
     "input": [
      "# LECTURA 4"
     ],
     "language": "python",
     "metadata": {},
     "outputs": [],
     "prompt_number": 31
    },
    {
     "cell_type": "code",
     "collapsed": false,
     "input": [
      "\"\"\" INTRODUCCION A NUMPY\n",
      "        librerio de python para computacion cientifica\"\"\""
     ],
     "language": "python",
     "metadata": {},
     "outputs": [
      {
       "metadata": {},
       "output_type": "pyout",
       "prompt_number": 32,
       "text": [
        "' INTRODUCCION A NUMPY\\n        librerio de python para computacion cientifica'"
       ]
      }
     ],
     "prompt_number": 32
    },
    {
     "cell_type": "code",
     "collapsed": false,
     "input": [
      "\"\"\"Para poder usar numpy se necesita importarlo:\"\"\"\n",
      "import numpy as np"
     ],
     "language": "python",
     "metadata": {},
     "outputs": [],
     "prompt_number": 33
    },
    {
     "cell_type": "code",
     "collapsed": false,
     "input": [
      "\"\"\"los arreglos\"\"\"\n",
      "# una lista se hace de la misma forma usando []\n",
      "lista= [1,2,3,4,5]\n",
      "lista"
     ],
     "language": "python",
     "metadata": {},
     "outputs": [
      {
       "output_type": "stream",
       "stream": "stderr",
       "text": [
        "c:\\Anaconda\\lib\\site-packages\\IPython\\core\\formatters.py:239: FormatterWarning: Exception in image/png formatter: \n",
        "\\begin{bmatrix}1, & 2, & 3, & 4, & 5\\end{bmatrix}\n",
        "^\n",
        "Unknown symbol: \\begin (at char 0), (line:1, col:1)\n",
        "  FormatterWarning,\n"
       ]
      },
      {
       "latex": [
        "$$\\begin{bmatrix}1, & 2, & 3, & 4, & 5\\end{bmatrix}$$"
       ],
       "metadata": {},
       "output_type": "pyout",
       "prompt_number": 34,
       "text": [
        "[1, 2, 3, 4, 5]"
       ]
      }
     ],
     "prompt_number": 34
    },
    {
     "cell_type": "code",
     "collapsed": false,
     "input": [
      "#para hacerlo un arreglo se utiliza la funcion:\n",
      "arreglo = np.array([1,2,3,4,5])\n",
      "arreglo"
     ],
     "language": "python",
     "metadata": {},
     "outputs": [
      {
       "metadata": {},
       "output_type": "pyout",
       "prompt_number": 35,
       "text": [
        "array([1, 2, 3, 4, 5])"
       ]
      }
     ],
     "prompt_number": 35
    },
    {
     "cell_type": "code",
     "collapsed": false,
     "input": [
      "#recorrer una lista como ya habiamos visto es lo mismo que recorrer el arreglo\n",
      "arreglo[1:4] # despues de la posicion 1 hasta la posicion 4"
     ],
     "language": "python",
     "metadata": {},
     "outputs": [
      {
       "metadata": {},
       "output_type": "pyout",
       "prompt_number": 36,
       "text": [
        "array([2, 3, 4])"
       ]
      }
     ],
     "prompt_number": 36
    },
    {
     "cell_type": "code",
     "collapsed": false,
     "input": [
      "#los arreglos no pueden teneer varios tipos de datos"
     ],
     "language": "python",
     "metadata": {},
     "outputs": [],
     "prompt_number": 37
    },
    {
     "cell_type": "code",
     "collapsed": false,
     "input": [
      "arreglo.dtype"
     ],
     "language": "python",
     "metadata": {},
     "outputs": [
      {
       "metadata": {},
       "output_type": "pyout",
       "prompt_number": 38,
       "text": [
        "dtype('int32')"
       ]
      }
     ],
     "prompt_number": 38
    },
    {
     "cell_type": "code",
     "collapsed": false,
     "input": [
      "arreglo[-3]#te dice el utlimo (el que tu seleccionas) elemento "
     ],
     "language": "python",
     "metadata": {},
     "outputs": [
      {
       "latex": [
        "$$3$$"
       ],
       "metadata": {},
       "output_type": "pyout",
       "png": "[encoded data removed]",
       "prompt_number": 39,
       "text": [
        "3"
       ]
      }
     ],
     "prompt_number": 39
    },
    {
     "cell_type": "code",
     "collapsed": false,
     "input": [
      "arreglo [-3]= 1.334565432345 # sustituyendo el valor de esa posicion"
     ],
     "language": "python",
     "metadata": {},
     "outputs": [],
     "prompt_number": 40
    },
    {
     "cell_type": "code",
     "collapsed": false,
     "input": [
      "arreglo # nos damos cuenta que como todos son enteros cambia el numero pero lo deja la parte entera"
     ],
     "language": "python",
     "metadata": {},
     "outputs": [
      {
       "metadata": {},
       "output_type": "pyout",
       "prompt_number": 41,
       "text": [
        "array([1, 2, 1, 4, 5])"
       ]
      }
     ],
     "prompt_number": 41
    },
    {
     "cell_type": "code",
     "collapsed": false,
     "input": [
      "#funciones de los arreglos\n",
      "arr1=np.array([1,2,3]) # enumeras los elemntos\n",
      "arr2=np.arange(10,21)# escoges un rango \n",
      "arr3=np.zeros(5)# un arreglo de 5 ceros\n",
      "arr4=np.linspace(0,1,10) # del 1 al 10 \n",
      "arr5=np.logspace(0,1,10)# no entiendo como los escoge pero los rendodea\n",
      "arr2d=np.zeros((5,5))\n",
      "tres=np.zeros((5,5,5))"
     ],
     "language": "python",
     "metadata": {},
     "outputs": [],
     "prompt_number": 42
    },
    {
     "cell_type": "code",
     "collapsed": false,
     "input": [
      "arr2d"
     ],
     "language": "python",
     "metadata": {},
     "outputs": [
      {
       "metadata": {},
       "output_type": "pyout",
       "prompt_number": 43,
       "text": [
        "array([[ 0.,  0.,  0.,  0.,  0.],\n",
        "       [ 0.,  0.,  0.,  0.,  0.],\n",
        "       [ 0.,  0.,  0.,  0.,  0.],\n",
        "       [ 0.,  0.,  0.,  0.,  0.],\n",
        "       [ 0.,  0.,  0.,  0.,  0.]])"
       ]
      }
     ],
     "prompt_number": 43
    },
    {
     "cell_type": "code",
     "collapsed": false,
     "input": [
      "\"\"\" si quieres poner puros unos en vez de ceros se puede hacer de la siguiente forma:\"\"\"\n",
      "arr2d.astype(int)+1"
     ],
     "language": "python",
     "metadata": {},
     "outputs": [
      {
       "metadata": {},
       "output_type": "pyout",
       "prompt_number": 44,
       "text": [
        "array([[1, 1, 1, 1, 1],\n",
        "       [1, 1, 1, 1, 1],\n",
        "       [1, 1, 1, 1, 1],\n",
        "       [1, 1, 1, 1, 1],\n",
        "       [1, 1, 1, 1, 1]])"
       ]
      }
     ],
     "prompt_number": 44
    },
    {
     "cell_type": "code",
     "collapsed": false,
     "input": [
      "# para poner puros unos en la diagonal hay dos formas\n",
      "arre= np.eye(4)\n",
      "arre1=np.diag((1,1,1,1))"
     ],
     "language": "python",
     "metadata": {},
     "outputs": [],
     "prompt_number": 45
    },
    {
     "cell_type": "code",
     "collapsed": false,
     "input": [
      "np.random.rand(3)# son numeros escogidos randomly"
     ],
     "language": "python",
     "metadata": {},
     "outputs": [
      {
       "metadata": {},
       "output_type": "pyout",
       "prompt_number": 46,
       "text": [
        "array([ 0.92526474,  0.07874403,  0.24917492])"
       ]
      }
     ],
     "prompt_number": 46
    },
    {
     "cell_type": "code",
     "collapsed": false,
     "input": [
      "\"\"\"COMO USAR EL RESHAPE\"\"\"\n",
      "arre2=np.arange(100)\n",
      "arre3d=arre2.reshape((5,5,4))# el primer numero me dice la cantidad de areglos, el segundo cuantos renglones son el y el tercero cuantas columnas\n",
      "arre3d"
     ],
     "language": "python",
     "metadata": {},
     "outputs": [
      {
       "metadata": {},
       "output_type": "pyout",
       "prompt_number": 47,
       "text": [
        "array([[[ 0,  1,  2,  3],\n",
        "        [ 4,  5,  6,  7],\n",
        "        [ 8,  9, 10, 11],\n",
        "        [12, 13, 14, 15],\n",
        "        [16, 17, 18, 19]],\n",
        "\n",
        "       [[20, 21, 22, 23],\n",
        "        [24, 25, 26, 27],\n",
        "        [28, 29, 30, 31],\n",
        "        [32, 33, 34, 35],\n",
        "        [36, 37, 38, 39]],\n",
        "\n",
        "       [[40, 41, 42, 43],\n",
        "        [44, 45, 46, 47],\n",
        "        [48, 49, 50, 51],\n",
        "        [52, 53, 54, 55],\n",
        "        [56, 57, 58, 59]],\n",
        "\n",
        "       [[60, 61, 62, 63],\n",
        "        [64, 65, 66, 67],\n",
        "        [68, 69, 70, 71],\n",
        "        [72, 73, 74, 75],\n",
        "        [76, 77, 78, 79]],\n",
        "\n",
        "       [[80, 81, 82, 83],\n",
        "        [84, 85, 86, 87],\n",
        "        [88, 89, 90, 91],\n",
        "        [92, 93, 94, 95],\n",
        "        [96, 97, 98, 99]]])"
       ]
      }
     ],
     "prompt_number": 47
    },
    {
     "cell_type": "code",
     "collapsed": false,
     "input": [
      "\"\"\"#algunas propiedades de estos arrglos son}:\n",
      "arre3d.ndim #saber la dimension en este caso es tres porque tienes ((5,5,4))\n",
      "arre3d.shape #te dice la forma en la que la dividiste\"\"\""
     ],
     "language": "python",
     "metadata": {},
     "outputs": [
      {
       "metadata": {},
       "output_type": "pyout",
       "prompt_number": 48,
       "text": [
        "'#algunas propiedades de estos arrglos son}:\\narre3d.ndim #saber la dimension en este caso es tres porque tienes ((5,5,4))\\narre3d.shape #te dice la forma en la que la dividiste'"
       ]
      }
     ],
     "prompt_number": 48
    },
    {
     "cell_type": "code",
     "collapsed": false,
     "input": [
      "#aplanar sirve para quitar los areglos y ponerlas todos en uno\n",
      "arreg=np.zeros((4,4,4,4))\n",
      "arr_plano=arreg.ravel()\n",
      "arr_plano"
     ],
     "language": "python",
     "metadata": {},
     "outputs": [
      {
       "metadata": {},
       "output_type": "pyout",
       "prompt_number": 49,
       "text": [
        "array([ 0.,  0.,  0.,  0.,  0.,  0.,  0.,  0.,  0.,  0.,  0.,  0.,  0.,\n",
        "        0.,  0.,  0.,  0.,  0.,  0.,  0.,  0.,  0.,  0.,  0.,  0.,  0.,\n",
        "        0.,  0.,  0.,  0.,  0.,  0.,  0.,  0.,  0.,  0.,  0.,  0.,  0.,\n",
        "        0.,  0.,  0.,  0.,  0.,  0.,  0.,  0.,  0.,  0.,  0.,  0.,  0.,\n",
        "        0.,  0.,  0.,  0.,  0.,  0.,  0.,  0.,  0.,  0.,  0.,  0.,  0.,\n",
        "        0.,  0.,  0.,  0.,  0.,  0.,  0.,  0.,  0.,  0.,  0.,  0.,  0.,\n",
        "        0.,  0.,  0.,  0.,  0.,  0.,  0.,  0.,  0.,  0.,  0.,  0.,  0.,\n",
        "        0.,  0.,  0.,  0.,  0.,  0.,  0.,  0.,  0.,  0.,  0.,  0.,  0.,\n",
        "        0.,  0.,  0.,  0.,  0.,  0.,  0.,  0.,  0.,  0.,  0.,  0.,  0.,\n",
        "        0.,  0.,  0.,  0.,  0.,  0.,  0.,  0.,  0.,  0.,  0.,  0.,  0.,\n",
        "        0.,  0.,  0.,  0.,  0.,  0.,  0.,  0.,  0.,  0.,  0.,  0.,  0.,\n",
        "        0.,  0.,  0.,  0.,  0.,  0.,  0.,  0.,  0.,  0.,  0.,  0.,  0.,\n",
        "        0.,  0.,  0.,  0.,  0.,  0.,  0.,  0.,  0.,  0.,  0.,  0.,  0.,\n",
        "        0.,  0.,  0.,  0.,  0.,  0.,  0.,  0.,  0.,  0.,  0.,  0.,  0.,\n",
        "        0.,  0.,  0.,  0.,  0.,  0.,  0.,  0.,  0.,  0.,  0.,  0.,  0.,\n",
        "        0.,  0.,  0.,  0.,  0.,  0.,  0.,  0.,  0.,  0.,  0.,  0.,  0.,\n",
        "        0.,  0.,  0.,  0.,  0.,  0.,  0.,  0.,  0.,  0.,  0.,  0.,  0.,\n",
        "        0.,  0.,  0.,  0.,  0.,  0.,  0.,  0.,  0.,  0.,  0.,  0.,  0.,\n",
        "        0.,  0.,  0.,  0.,  0.,  0.,  0.,  0.,  0.,  0.,  0.,  0.,  0.,\n",
        "        0.,  0.,  0.,  0.,  0.,  0.,  0.,  0.,  0.])"
       ]
      }
     ],
     "prompt_number": 49
    },
    {
     "cell_type": "code",
     "collapsed": false,
     "input": [
      "#BROADCASTING "
     ],
     "language": "python",
     "metadata": {},
     "outputs": [],
     "prompt_number": 50
    },
    {
     "cell_type": "code",
     "collapsed": false,
     "input": [
      "\"\"\"estamos definiendo un arreglo al cual se le puede aplicar ciertas funciones\"\"\"\n",
      "data =np.array([1,2,3,4,5])\n",
      "data"
     ],
     "language": "python",
     "metadata": {},
     "outputs": [
      {
       "metadata": {},
       "output_type": "pyout",
       "prompt_number": 51,
       "text": [
        "array([1, 2, 3, 4, 5])"
       ]
      }
     ],
     "prompt_number": 51
    },
    {
     "cell_type": "code",
     "collapsed": false,
     "input": [
      "data+1"
     ],
     "language": "python",
     "metadata": {},
     "outputs": [
      {
       "metadata": {},
       "output_type": "pyout",
       "prompt_number": 52,
       "text": [
        "array([2, 3, 4, 5, 6])"
       ]
      }
     ],
     "prompt_number": 52
    },
    {
     "cell_type": "code",
     "collapsed": false,
     "input": [
      "data*2"
     ],
     "language": "python",
     "metadata": {},
     "outputs": [
      {
       "metadata": {},
       "output_type": "pyout",
       "prompt_number": 53,
       "text": [
        "array([ 2,  4,  6,  8, 10])"
       ]
      }
     ],
     "prompt_number": 53
    },
    {
     "cell_type": "code",
     "collapsed": false,
     "input": [
      "data**2"
     ],
     "language": "python",
     "metadata": {},
     "outputs": [
      {
       "metadata": {},
       "output_type": "pyout",
       "prompt_number": 54,
       "text": [
        "array([ 1,  4,  9, 16, 25])"
       ]
      }
     ],
     "prompt_number": 54
    },
    {
     "cell_type": "code",
     "collapsed": false,
     "input": [
      "#TRANSPONER"
     ],
     "language": "python",
     "metadata": {},
     "outputs": [],
     "prompt_number": 55
    },
    {
     "cell_type": "code",
     "collapsed": false,
     "input": [
      "ar=np.arange(15).reshape((3,5))\n",
      "ar"
     ],
     "language": "python",
     "metadata": {},
     "outputs": [
      {
       "metadata": {},
       "output_type": "pyout",
       "prompt_number": 56,
       "text": [
        "array([[ 0,  1,  2,  3,  4],\n",
        "       [ 5,  6,  7,  8,  9],\n",
        "       [10, 11, 12, 13, 14]])"
       ]
      }
     ],
     "prompt_number": 56
    },
    {
     "cell_type": "code",
     "collapsed": false,
     "input": [
      "ar.T #transpone el arreglo de dos dimensiones"
     ],
     "language": "python",
     "metadata": {},
     "outputs": [
      {
       "metadata": {},
       "output_type": "pyout",
       "prompt_number": 57,
       "text": [
        "array([[ 0,  5, 10],\n",
        "       [ 1,  6, 11],\n",
        "       [ 2,  7, 12],\n",
        "       [ 3,  8, 13],\n",
        "       [ 4,  9, 14]])"
       ]
      }
     ],
     "prompt_number": 57
    },
    {
     "cell_type": "code",
     "collapsed": false,
     "input": [
      "#si queremos trasnponer de mas dimensiones lo que hacemos es:\n",
      "ar1 = np.arange(15).reshape((1,3,5))\n",
      "ar1.transpose((1,2,0)).shape# el 0,1,2 nos indica la posicion de reshape"
     ],
     "language": "python",
     "metadata": {},
     "outputs": [
      {
       "output_type": "stream",
       "stream": "stderr",
       "text": [
        "c:\\Anaconda\\lib\\site-packages\\IPython\\core\\formatters.py:239: FormatterWarning: Exception in image/png formatter: \n",
        "\\begin{pmatrix}3, & 5, & 1\\end{pmatrix}\n",
        "^\n",
        "Unknown symbol: \\begin (at char 0), (line:1, col:1)\n",
        "  FormatterWarning,\n"
       ]
      },
      {
       "latex": [
        "$$\\begin{pmatrix}3, & 5, & 1\\end{pmatrix}$$"
       ],
       "metadata": {},
       "output_type": "pyout",
       "prompt_number": 58,
       "text": [
        "(3, 5, 1)"
       ]
      }
     ],
     "prompt_number": 58
    },
    {
     "cell_type": "code",
     "collapsed": false,
     "input": [
      "#SLLICING E INDEXADO"
     ],
     "language": "python",
     "metadata": {},
     "outputs": [],
     "prompt_number": 59
    },
    {
     "cell_type": "code",
     "collapsed": false,
     "input": [
      "# el slicing devuelve una vista, si modificas el array original\n",
      "#la vista tambien se ve modificado"
     ],
     "language": "python",
     "metadata": {},
     "outputs": [],
     "prompt_number": 60
    },
    {
     "cell_type": "code",
     "collapsed": false,
     "input": [
      "ar2 = np.arange(10,25) # solo estamos creando un arreglo\n",
      "ar2"
     ],
     "language": "python",
     "metadata": {},
     "outputs": [
      {
       "metadata": {},
       "output_type": "pyout",
       "prompt_number": 61,
       "text": [
        "array([10, 11, 12, 13, 14, 15, 16, 17, 18, 19, 20, 21, 22, 23, 24])"
       ]
      }
     ],
     "prompt_number": 61
    },
    {
     "cell_type": "code",
     "collapsed": false,
     "input": [
      "ar2_slice = ar2[2:6] # posicion 2 hasta la 5\n",
      "ar2_slice"
     ],
     "language": "python",
     "metadata": {},
     "outputs": [
      {
       "metadata": {},
       "output_type": "pyout",
       "prompt_number": 62,
       "text": [
        "array([12, 13, 14, 15])"
       ]
      }
     ],
     "prompt_number": 62
    },
    {
     "cell_type": "code",
     "collapsed": false,
     "input": [
      "ar2_slice[3]=0 #cambias el slicing y este afecta al arreglo\n",
      "ar2_slice"
     ],
     "language": "python",
     "metadata": {},
     "outputs": [
      {
       "metadata": {},
       "output_type": "pyout",
       "prompt_number": 63,
       "text": [
        "array([12, 13, 14,  0])"
       ]
      }
     ],
     "prompt_number": 63
    },
    {
     "cell_type": "code",
     "collapsed": false,
     "input": [
      "ar2 # vemos que el 0 tambien se guarda en el arreglo aunque se hizo en el slicing "
     ],
     "language": "python",
     "metadata": {},
     "outputs": [
      {
       "metadata": {},
       "output_type": "pyout",
       "prompt_number": 64,
       "text": [
        "array([10, 11, 12, 13, 14,  0, 16, 17, 18, 19, 20, 21, 22, 23, 24])"
       ]
      }
     ],
     "prompt_number": 64
    },
    {
     "cell_type": "code",
     "collapsed": false,
     "input": [
      "#Multidimensional"
     ],
     "language": "python",
     "metadata": {},
     "outputs": [],
     "prompt_number": 65
    },
    {
     "cell_type": "code",
     "collapsed": false,
     "input": [
      "ar3=np.arange(9)# crea un arreglo\n",
      "ar3.shape=(3,3)# forma de 3x3 # sabemos que la dimension es 2 (.ndim)\n",
      "ar3"
     ],
     "language": "python",
     "metadata": {},
     "outputs": [
      {
       "metadata": {},
       "output_type": "pyout",
       "prompt_number": 66,
       "text": [
        "array([[0, 1, 2],\n",
        "       [3, 4, 5],\n",
        "       [6, 7, 8]])"
       ]
      }
     ],
     "prompt_number": 66
    },
    {
     "cell_type": "code",
     "collapsed": false,
     "input": [
      "ar3[2] # el renglon de posicion 2 (empieza en 0)"
     ],
     "language": "python",
     "metadata": {},
     "outputs": [
      {
       "metadata": {},
       "output_type": "pyout",
       "prompt_number": 67,
       "text": [
        "array([6, 7, 8])"
       ]
      }
     ],
     "prompt_number": 67
    },
    {
     "cell_type": "code",
     "collapsed": false,
     "input": [
      "ar3[1][1] # el numero que se encuentra en la columna 1 renglon 1 (empieza en 0)"
     ],
     "language": "python",
     "metadata": {},
     "outputs": [
      {
       "latex": [
        "$$4$$"
       ],
       "metadata": {},
       "output_type": "pyout",
       "png": "[encoded data removed]",
       "prompt_number": 68,
       "text": [
        "4"
       ]
      }
     ],
     "prompt_number": 68
    },
    {
     "cell_type": "code",
     "collapsed": false,
     "input": [
      "ar3[1:] #imprime del la posicion 1 en adelante\n",
      "ar3[:2]# todo antes de la posicion 2\n",
      "ar3[:1,:2] # primer numero - renglones antes del 1 segundo numero- columnas antes del 2\n",
      "ar3[1,] # imprime el renglon \n",
      "ar3[:,2:] # todos los rengloes interseccion columnas "
     ],
     "language": "python",
     "metadata": {},
     "outputs": [
      {
       "metadata": {},
       "output_type": "pyout",
       "prompt_number": 69,
       "text": [
        "array([[2],\n",
        "       [5],\n",
        "       [8]])"
       ]
      }
     ],
     "prompt_number": 69
    },
    {
     "cell_type": "code",
     "collapsed": false,
     "input": [
      "#index"
     ],
     "language": "python",
     "metadata": {},
     "outputs": [],
     "prompt_number": 70
    },
    {
     "cell_type": "code",
     "collapsed": false,
     "input": [
      "index =ar3>2\n",
      "index"
     ],
     "language": "python",
     "metadata": {},
     "outputs": [
      {
       "metadata": {},
       "output_type": "pyout",
       "prompt_number": 71,
       "text": [
        "array([[False, False, False],\n",
        "       [ True,  True,  True],\n",
        "       [ True,  True,  True]], dtype=bool)"
       ]
      }
     ],
     "prompt_number": 71
    },
    {
     "cell_type": "code",
     "collapsed": false,
     "input": [
      "ar4=ar3[index]\n",
      "ar4"
     ],
     "language": "python",
     "metadata": {},
     "outputs": [
      {
       "metadata": {},
       "output_type": "pyout",
       "prompt_number": 72,
       "text": [
        "array([3, 4, 5, 6, 7, 8])"
       ]
      }
     ],
     "prompt_number": 72
    },
    {
     "cell_type": "code",
     "collapsed": false,
     "input": [
      "ar3"
     ],
     "language": "python",
     "metadata": {},
     "outputs": [
      {
       "metadata": {},
       "output_type": "pyout",
       "prompt_number": 73,
       "text": [
        "array([[0, 1, 2],\n",
        "       [3, 4, 5],\n",
        "       [6, 7, 8]])"
       ]
      }
     ],
     "prompt_number": 73
    },
    {
     "cell_type": "code",
     "collapsed": false,
     "input": [
      "#fancy indexing "
     ],
     "language": "python",
     "metadata": {},
     "outputs": [],
     "prompt_number": 74
    },
    {
     "cell_type": "code",
     "collapsed": false,
     "input": [
      "ar3[[0,0,-1]]"
     ],
     "language": "python",
     "metadata": {},
     "outputs": [
      {
       "metadata": {},
       "output_type": "pyout",
       "prompt_number": 75,
       "text": [
        "array([[0, 1, 2],\n",
        "       [0, 1, 2],\n",
        "       [6, 7, 8]])"
       ]
      }
     ],
     "prompt_number": 75
    },
    {
     "cell_type": "code",
     "collapsed": false,
     "input": [
      "#funciones universales: realizan operaciones elemento por elemneto\n",
      "#np.aqrt\n",
      "#np.sign\n",
      "#np.isfinite\n",
      "#np.add\n",
      "#np.multiply"
     ],
     "language": "python",
     "metadata": {},
     "outputs": [],
     "prompt_number": 76
    },
    {
     "cell_type": "code",
     "collapsed": false,
     "input": [
      "#AGREGACIONES: operaciones a lo largo de un eje"
     ],
     "language": "python",
     "metadata": {},
     "outputs": [],
     "prompt_number": 77
    },
    {
     "cell_type": "code",
     "collapsed": false,
     "input": [
      "#MATPLOTLIB"
     ],
     "language": "python",
     "metadata": {},
     "outputs": [],
     "prompt_number": 78
    },
    {
     "cell_type": "code",
     "collapsed": false,
     "input": [
      "%matplotlib inline\n",
      "import numpy as np\n",
      "import matplotlib.pyplot as plt"
     ],
     "language": "python",
     "metadata": {},
     "outputs": [],
     "prompt_number": 79
    },
    {
     "cell_type": "code",
     "collapsed": false,
     "input": [
      "X = np.linspace(-np.pi, np.pi, 256, endpoint=True)\n",
      "C, S = np.cos(X), np.sin(X)\n",
      "plt.plot(X,C);\n",
      "plt.plot(X,S);"
     ],
     "language": "python",
     "metadata": {},
     "outputs": [
      {
       "metadata": {},
       "output_type": "display_data",
       "png": "[encoded data removed]",
       "text": [
        "<matplotlib.figure.Figure at 0x6f00450>"
       ]
      }
     ],
     "prompt_number": 81
    },
    {
     "cell_type": "code",
     "collapsed": false,
     "input": [
      "# Crea una figura de 8x6 pulgadas, con 80 puntos por pulgada (dots per inch = dpi)\n",
      "plt.figure(figsize=(8, 6), dpi=80)\n",
      "\n",
      "# Crea un subplot en una malla de 1x1.\n",
      "plt.subplot(1, 1, 1)\n",
      "\n",
      "# Dibuja el coseno en azul, con una l\u00ednea cont\u00ednua.\n",
      "plt.plot(X, C, color=\"blue\", linewidth=1.0, linestyle=\"-\")\n",
      "\n",
      "# Dibuja el seno en verde, con una l\u00ednea cont\u00ednua, con un ancho de 1 p\u00edxel.\n",
      "plt.plot(X, S, color=\"green\", linewidth=1.0, linestyle=\"-\")\n",
      "\n",
      "# Los l\u00edmites de x\n",
      "plt.xlim(-4.0, 4.0)\n",
      "\n",
      "# Marcas ('ticks') del eje x\n",
      "plt.xticks(np.linspace(-4, 4, 9, endpoint=True))\n",
      "\n",
      "# Lo mismo para y, l\u00edmites primero\n",
      "plt.ylim(-1.0, 1.0)\n",
      "\n",
      "# ticks\n",
      "plt.yticks(np.linspace(-1, 1, 5, endpoint=True))"
     ],
     "language": "python",
     "metadata": {},
     "outputs": [
      {
       "metadata": {},
       "output_type": "pyout",
       "prompt_number": 82,
       "text": [
        "([<matplotlib.axis.YTick at 0x7129150>,\n",
        "  <matplotlib.axis.YTick at 0x711a390>,\n",
        "  <matplotlib.axis.YTick at 0x709b7f0>,\n",
        "  <matplotlib.axis.YTick at 0x709ba90>,\n",
        "  <matplotlib.axis.YTick at 0x709bd30>],\n",
        " <a list of 5 Text yticklabel objects>)"
       ]
      },
      {
       "metadata": {},
       "output_type": "display_data",
       "png": "[encoded data removed]",
       "text": [
        "<matplotlib.figure.Figure at 0x6fc7f90>"
       ]
      }
     ],
     "prompt_number": 82
    },
    {
     "cell_type": "code",
     "collapsed": false,
     "input": [
      "# Crea una figura de 8x6 pulgadas, con 80 puntos por pulgada (dots per inch = dpi)\n",
      "plt.figure(figsize=(8, 6), dpi=80)\n",
      "\n",
      "# Crea un subplot en una malla de 1x1.\n",
      "plt.subplot(1, 1, 1)\n",
      "\n",
      "plt.plot(X, C, color=\"blue\", linewidth=2.5, linestyle=\"-\", label=\"cosine\")\n",
      "plt.plot(X, S, color=\"red\",  linewidth=2.5, linestyle=\"-\", label=\"sine\")\n",
      "\n",
      "plt.legend(loc='upper left')"
     ],
     "language": "python",
     "metadata": {},
     "outputs": [
      {
       "metadata": {},
       "output_type": "pyout",
       "prompt_number": 84,
       "text": [
        "<matplotlib.legend.Legend at 0x72fa290>"
       ]
      },
      {
       "metadata": {},
       "output_type": "display_data",
       "png": "[encoded data removed]",
       "text": [
        "<matplotlib.figure.Figure at 0x70921f0>"
       ]
      }
     ],
     "prompt_number": 84
    },
    {
     "cell_type": "code",
     "collapsed": false,
     "input": [],
     "language": "python",
     "metadata": {},
     "outputs": []
    }
   ],
   "metadata": {}
  }
 ]
}