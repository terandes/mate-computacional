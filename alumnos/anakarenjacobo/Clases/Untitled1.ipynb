{
 "metadata": {
  "name": "",
  "signature": "sha256:1784fa0e152be7997bf12b5cb7ba19af96421c531116f1fd0ff192d809ed83db"
 },
 "nbformat": 3,
 "nbformat_minor": 0,
 "worksheets": []
}