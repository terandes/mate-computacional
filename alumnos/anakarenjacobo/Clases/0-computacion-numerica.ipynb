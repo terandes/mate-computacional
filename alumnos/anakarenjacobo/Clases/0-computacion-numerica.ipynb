{
 "metadata": {
  "name": "",
  "signature": "sha256:d66df1c70fe1778304e99972112cdf0ddb5aafb421535a60b16e4111e171dde8"
 },
 "nbformat": 3,
 "nbformat_minor": 0,
 "worksheets": [
  {
   "cells": [
    {
     "cell_type": "code",
     "collapsed": false,
     "input": [
      "x= 10000000\n",
      "type(x)"
     ],
     "language": "python",
     "metadata": {},
     "outputs": [
      {
       "metadata": {},
       "output_type": "pyout",
       "prompt_number": 5,
       "text": [
        "int"
       ]
      }
     ],
     "prompt_number": 5
    },
    {
     "cell_type": "code",
     "collapsed": false,
     "input": [
      "import sys\n",
      "sys.maxint"
     ],
     "language": "python",
     "metadata": {},
     "outputs": [
      {
       "metadata": {},
       "output_type": "pyout",
       "prompt_number": 7,
       "text": [
        "2147483647"
       ]
      }
     ],
     "prompt_number": 7
    },
    {
     "cell_type": "code",
     "collapsed": false,
     "input": [
      "type(x*x*x)"
     ],
     "language": "python",
     "metadata": {},
     "outputs": [
      {
       "metadata": {},
       "output_type": "pyout",
       "prompt_number": 6,
       "text": [
        "long"
       ]
      }
     ],
     "prompt_number": 6
    },
    {
     "cell_type": "code",
     "collapsed": false,
     "input": [
      "type(sys.maxint)"
     ],
     "language": "python",
     "metadata": {},
     "outputs": [
      {
       "metadata": {},
       "output_type": "pyout",
       "prompt_number": 8,
       "text": [
        "int"
       ]
      }
     ],
     "prompt_number": 8
    },
    {
     "cell_type": "code",
     "collapsed": false,
     "input": [
      "type(sys.maxint +1)"
     ],
     "language": "python",
     "metadata": {},
     "outputs": [
      {
       "metadata": {},
       "output_type": "pyout",
       "prompt_number": 9,
       "text": [
        "long"
       ]
      }
     ],
     "prompt_number": 9
    },
    {
     "cell_type": "code",
     "collapsed": false,
     "input": [
      "bin(123)"
     ],
     "language": "python",
     "metadata": {},
     "outputs": [
      {
       "metadata": {},
       "output_type": "pyout",
       "prompt_number": 10,
       "text": [
        "'0b1111011'"
       ]
      }
     ],
     "prompt_number": 10
    },
    {
     "cell_type": "code",
     "collapsed": false,
     "input": [
      "type(bin)"
     ],
     "language": "python",
     "metadata": {},
     "outputs": [
      {
       "metadata": {},
       "output_type": "pyout",
       "prompt_number": 11,
       "text": [
        "builtin_function_or_method"
       ]
      }
     ],
     "prompt_number": 11
    },
    {
     "cell_type": "code",
     "collapsed": false,
     "input": [
      "for i in range (0,255):\n",
      "    print(i,bin(i))"
     ],
     "language": "python",
     "metadata": {},
     "outputs": [
      {
       "output_type": "stream",
       "stream": "stdout",
       "text": [
        "(0, '0b0')\n",
        "(1, '0b1')\n",
        "(2, '0b10')\n",
        "(3, '0b11')\n",
        "(4, '0b100')\n",
        "(5, '0b101')\n",
        "(6, '0b110')\n",
        "(7, '0b111')\n",
        "(8, '0b1000')\n",
        "(9, '0b1001')\n",
        "(10, '0b1010')\n",
        "(11, '0b1011')\n",
        "(12, '0b1100')\n",
        "(13, '0b1101')\n",
        "(14, '0b1110')\n",
        "(15, '0b1111')\n",
        "(16, '0b10000')\n",
        "(17, '0b10001')\n",
        "(18, '0b10010')\n",
        "(19, '0b10011')\n",
        "(20, '0b10100')\n",
        "(21, '0b10101')\n",
        "(22, '0b10110')\n",
        "(23, '0b10111')\n",
        "(24, '0b11000')\n",
        "(25, '0b11001')\n",
        "(26, '0b11010')\n",
        "(27, '0b11011')\n",
        "(28, '0b11100')\n",
        "(29, '0b11101')\n",
        "(30, '0b11110')\n",
        "(31, '0b11111')\n",
        "(32, '0b100000')\n",
        "(33, '0b100001')\n",
        "(34, '0b100010')\n",
        "(35, '0b100011')\n",
        "(36, '0b100100')\n",
        "(37, '0b100101')\n",
        "(38, '0b100110')\n",
        "(39, '0b100111')\n",
        "(40, '0b101000')\n",
        "(41, '0b101001')\n",
        "(42, '0b101010')\n",
        "(43, '0b101011')\n",
        "(44, '0b101100')\n",
        "(45, '0b101101')\n",
        "(46, '0b101110')\n",
        "(47, '0b101111')\n",
        "(48, '0b110000')\n",
        "(49, '0b110001')\n",
        "(50, '0b110010')\n",
        "(51, '0b110011')\n",
        "(52, '0b110100')\n",
        "(53, '0b110101')\n",
        "(54, '0b110110')\n",
        "(55, '0b110111')\n",
        "(56, '0b111000')\n",
        "(57, '0b111001')\n",
        "(58, '0b111010')\n",
        "(59, '0b111011')\n",
        "(60, '0b111100')\n",
        "(61, '0b111101')\n",
        "(62, '0b111110')\n",
        "(63, '0b111111')\n",
        "(64, '0b1000000')\n",
        "(65, '0b1000001')\n",
        "(66, '0b1000010')\n",
        "(67, '0b1000011')\n",
        "(68, '0b1000100')\n",
        "(69, '0b1000101')\n",
        "(70, '0b1000110')\n",
        "(71, '0b1000111')\n",
        "(72, '0b1001000')\n",
        "(73, '0b1001001')\n",
        "(74, '0b1001010')\n",
        "(75, '0b1001011')\n",
        "(76, '0b1001100')\n",
        "(77, '0b1001101')\n",
        "(78, '0b1001110')\n",
        "(79, '0b1001111')\n",
        "(80, '0b1010000')\n",
        "(81, '0b1010001')\n",
        "(82, '0b1010010')\n",
        "(83, '0b1010011')\n",
        "(84, '0b1010100')\n",
        "(85, '0b1010101')\n",
        "(86, '0b1010110')\n",
        "(87, '0b1010111')\n",
        "(88, '0b1011000')\n",
        "(89, '0b1011001')\n",
        "(90, '0b1011010')\n",
        "(91, '0b1011011')\n",
        "(92, '0b1011100')\n",
        "(93, '0b1011101')\n",
        "(94, '0b1011110')\n",
        "(95, '0b1011111')\n",
        "(96, '0b1100000')\n",
        "(97, '0b1100001')\n",
        "(98, '0b1100010')\n",
        "(99, '0b1100011')\n",
        "(100, '0b1100100')\n",
        "(101, '0b1100101')\n",
        "(102, '0b1100110')\n",
        "(103, '0b1100111')\n",
        "(104, '0b1101000')\n",
        "(105, '0b1101001')\n",
        "(106, '0b1101010')\n",
        "(107, '0b1101011')\n",
        "(108, '0b1101100')\n",
        "(109, '0b1101101')\n",
        "(110, '0b1101110')\n",
        "(111, '0b1101111')\n",
        "(112, '0b1110000')\n",
        "(113, '0b1110001')\n",
        "(114, '0b1110010')\n",
        "(115, '0b1110011')\n",
        "(116, '0b1110100')\n",
        "(117, '0b1110101')\n",
        "(118, '0b1110110')\n",
        "(119, '0b1110111')\n",
        "(120, '0b1111000')\n",
        "(121, '0b1111001')\n",
        "(122, '0b1111010')\n",
        "(123, '0b1111011')\n",
        "(124, '0b1111100')\n",
        "(125, '0b1111101')\n",
        "(126, '0b1111110')\n",
        "(127, '0b1111111')\n",
        "(128, '0b10000000')\n",
        "(129, '0b10000001')\n",
        "(130, '0b10000010')\n",
        "(131, '0b10000011')\n",
        "(132, '0b10000100')\n",
        "(133, '0b10000101')\n",
        "(134, '0b10000110')\n",
        "(135, '0b10000111')\n",
        "(136, '0b10001000')\n",
        "(137, '0b10001001')\n",
        "(138, '0b10001010')\n",
        "(139, '0b10001011')\n",
        "(140, '0b10001100')\n",
        "(141, '0b10001101')\n",
        "(142, '0b10001110')\n",
        "(143, '0b10001111')\n",
        "(144, '0b10010000')\n",
        "(145, '0b10010001')\n",
        "(146, '0b10010010')\n",
        "(147, '0b10010011')\n",
        "(148, '0b10010100')\n",
        "(149, '0b10010101')\n",
        "(150, '0b10010110')\n",
        "(151, '0b10010111')\n",
        "(152, '0b10011000')\n",
        "(153, '0b10011001')\n",
        "(154, '0b10011010')\n",
        "(155, '0b10011011')\n",
        "(156, '0b10011100')\n",
        "(157, '0b10011101')\n",
        "(158, '0b10011110')\n",
        "(159, '0b10011111')\n",
        "(160, '0b10100000')\n",
        "(161, '0b10100001')\n",
        "(162, '0b10100010')\n",
        "(163, '0b10100011')\n",
        "(164, '0b10100100')\n",
        "(165, '0b10100101')\n",
        "(166, '0b10100110')\n",
        "(167, '0b10100111')\n",
        "(168, '0b10101000')\n",
        "(169, '0b10101001')\n",
        "(170, '0b10101010')\n",
        "(171, '0b10101011')\n",
        "(172, '0b10101100')\n",
        "(173, '0b10101101')\n",
        "(174, '0b10101110')\n",
        "(175, '0b10101111')\n",
        "(176, '0b10110000')\n",
        "(177, '0b10110001')\n",
        "(178, '0b10110010')\n",
        "(179, '0b10110011')\n",
        "(180, '0b10110100')\n",
        "(181, '0b10110101')\n",
        "(182, '0b10110110')\n",
        "(183, '0b10110111')\n",
        "(184, '0b10111000')\n",
        "(185, '0b10111001')\n",
        "(186, '0b10111010')\n",
        "(187, '0b10111011')\n",
        "(188, '0b10111100')\n",
        "(189, '0b10111101')\n",
        "(190, '0b10111110')\n",
        "(191, '0b10111111')\n",
        "(192, '0b11000000')\n",
        "(193, '0b11000001')\n",
        "(194, '0b11000010')\n",
        "(195, '0b11000011')\n",
        "(196, '0b11000100')\n",
        "(197, '0b11000101')\n",
        "(198, '0b11000110')\n",
        "(199, '0b11000111')\n",
        "(200, '0b11001000')\n",
        "(201, '0b11001001')\n",
        "(202, '0b11001010')\n",
        "(203, '0b11001011')\n",
        "(204, '0b11001100')\n",
        "(205, '0b11001101')\n",
        "(206, '0b11001110')\n",
        "(207, '0b11001111')\n",
        "(208, '0b11010000')\n",
        "(209, '0b11010001')\n",
        "(210, '0b11010010')\n",
        "(211, '0b11010011')\n",
        "(212, '0b11010100')\n",
        "(213, '0b11010101')\n",
        "(214, '0b11010110')\n",
        "(215, '0b11010111')\n",
        "(216, '0b11011000')\n",
        "(217, '0b11011001')\n",
        "(218, '0b11011010')\n",
        "(219, '0b11011011')\n",
        "(220, '0b11011100')\n",
        "(221, '0b11011101')\n",
        "(222, '0b11011110')\n",
        "(223, '0b11011111')\n",
        "(224, '0b11100000')\n",
        "(225, '0b11100001')\n",
        "(226, '0b11100010')\n",
        "(227, '0b11100011')\n",
        "(228, '0b11100100')\n",
        "(229, '0b11100101')\n",
        "(230, '0b11100110')\n",
        "(231, '0b11100111')\n",
        "(232, '0b11101000')\n",
        "(233, '0b11101001')\n",
        "(234, '0b11101010')\n",
        "(235, '0b11101011')\n",
        "(236, '0b11101100')\n",
        "(237, '0b11101101')\n",
        "(238, '0b11101110')\n",
        "(239, '0b11101111')\n",
        "(240, '0b11110000')\n",
        "(241, '0b11110001')\n",
        "(242, '0b11110010')\n",
        "(243, '0b11110011')\n",
        "(244, '0b11110100')\n",
        "(245, '0b11110101')\n",
        "(246, '0b11110110')\n",
        "(247, '0b11110111')\n",
        "(248, '0b11111000')\n",
        "(249, '0b11111001')\n",
        "(250, '0b11111010')\n",
        "(251, '0b11111011')\n",
        "(252, '0b11111100')\n",
        "(253, '0b11111101')\n",
        "(254, '0b11111110')\n"
       ]
      }
     ],
     "prompt_number": 13
    },
    {
     "cell_type": "code",
     "collapsed": false,
     "input": [
      "bin (0.125)"
     ],
     "language": "python",
     "metadata": {},
     "outputs": [
      {
       "ename": "TypeError",
       "evalue": "'float' object cannot be interpreted as an index",
       "output_type": "pyerr",
       "traceback": [
        "\u001b[1;31m---------------------------------------------------------------------------\u001b[0m\n\u001b[1;31mTypeError\u001b[0m                                 Traceback (most recent call last)",
        "\u001b[1;32m<ipython-input-15-39629776c73a>\u001b[0m in \u001b[0;36m<module>\u001b[1;34m()\u001b[0m\n\u001b[1;32m----> 1\u001b[1;33m \u001b[0mbin\u001b[0m \u001b[1;33m(\u001b[0m\u001b[1;36m0.125\u001b[0m\u001b[1;33m)\u001b[0m\u001b[1;33m\u001b[0m\u001b[0m\n\u001b[0m",
        "\u001b[1;31mTypeError\u001b[0m: 'float' object cannot be interpreted as an index"
       ]
      }
     ],
     "prompt_number": 15
    },
    {
     "cell_type": "code",
     "collapsed": false,
     "input": [
      "float.hex(0.125)"
     ],
     "language": "python",
     "metadata": {},
     "outputs": [
      {
       "metadata": {},
       "output_type": "pyout",
       "prompt_number": 16,
       "text": [
        "'0x1.0000000000000p-3'"
       ]
      }
     ],
     "prompt_number": 16
    },
    {
     "cell_type": "code",
     "collapsed": false,
     "input": [
      "0.1\n"
     ],
     "language": "python",
     "metadata": {},
     "outputs": [
      {
       "metadata": {},
       "output_type": "pyout",
       "prompt_number": 17,
       "text": [
        "0.1"
       ]
      }
     ],
     "prompt_number": 17
    },
    {
     "cell_type": "code",
     "collapsed": false,
     "input": [
      "0.1+0.2"
     ],
     "language": "python",
     "metadata": {},
     "outputs": [
      {
       "metadata": {},
       "output_type": "pyout",
       "prompt_number": 18,
       "text": [
        "0.30000000000000004"
       ]
      }
     ],
     "prompt_number": 18
    },
    {
     "cell_type": "code",
     "collapsed": false,
     "input": [
      "round(2.675,2)"
     ],
     "language": "python",
     "metadata": {},
     "outputs": [
      {
       "metadata": {},
       "output_type": "pyout",
       "prompt_number": 19,
       "text": [
        "2.67"
       ]
      }
     ],
     "prompt_number": 19
    },
    {
     "cell_type": "code",
     "collapsed": false,
     "input": [
      "from decimal import Decimal\n",
      "Decimal(2.675)"
     ],
     "language": "python",
     "metadata": {},
     "outputs": [
      {
       "metadata": {},
       "output_type": "pyout",
       "prompt_number": 20,
       "text": [
        "Decimal('2.67499999999999982236431605997495353221893310546875')"
       ]
      }
     ],
     "prompt_number": 20
    },
    {
     "cell_type": "code",
     "collapsed": false,
     "input": [
      "Decimal(.1)"
     ],
     "language": "python",
     "metadata": {},
     "outputs": [
      {
       "metadata": {},
       "output_type": "pyout",
       "prompt_number": 21,
       "text": [
        "Decimal('0.1000000000000000055511151231257827021181583404541015625')"
       ]
      }
     ],
     "prompt_number": 21
    },
    {
     "cell_type": "code",
     "collapsed": false,
     "input": [
      "Decimal(0.2)"
     ],
     "language": "python",
     "metadata": {},
     "outputs": [
      {
       "metadata": {},
       "output_type": "pyout",
       "prompt_number": 22,
       "text": [
        "Decimal('0.200000000000000011102230246251565404236316680908203125')"
       ]
      }
     ],
     "prompt_number": 22
    },
    {
     "cell_type": "code",
     "collapsed": false,
     "input": [
      "Decimal(0.1)+Decimal(0.2)"
     ],
     "language": "python",
     "metadata": {},
     "outputs": [
      {
       "metadata": {},
       "output_type": "pyout",
       "prompt_number": 23,
       "text": [
        "Decimal('0.3000000000000000166533453694')"
       ]
      }
     ],
     "prompt_number": 23
    },
    {
     "cell_type": "code",
     "collapsed": false,
     "input": [
      "suma=0.0\n",
      "for x in range(10):\n",
      "    suma+=0.1\n",
      "suma"
     ],
     "language": "python",
     "metadata": {},
     "outputs": [
      {
       "metadata": {},
       "output_type": "pyout",
       "prompt_number": 24,
       "text": [
        "0.9999999999999999"
       ]
      }
     ],
     "prompt_number": 24
    },
    {
     "cell_type": "code",
     "collapsed": false,
     "input": [
      "x=1e200\n",
      "x"
     ],
     "language": "python",
     "metadata": {},
     "outputs": [
      {
       "metadata": {},
       "output_type": "pyout",
       "prompt_number": 31,
       "text": [
        "1e+200"
       ]
      }
     ],
     "prompt_number": 31
    },
    {
     "cell_type": "code",
     "collapsed": false,
     "input": [
      "type(x)"
     ],
     "language": "python",
     "metadata": {},
     "outputs": [
      {
       "metadata": {},
       "output_type": "pyout",
       "prompt_number": 32,
       "text": [
        "float"
       ]
      }
     ],
     "prompt_number": 32
    },
    {
     "cell_type": "code",
     "collapsed": false,
     "input": [
      "y=x*x\n",
      "y"
     ],
     "language": "python",
     "metadata": {},
     "outputs": [
      {
       "metadata": {},
       "output_type": "pyout",
       "prompt_number": 33,
       "text": [
        "inf"
       ]
      }
     ],
     "prompt_number": 33
    },
    {
     "cell_type": "code",
     "collapsed": false,
     "input": [
      "\"\"\"\n",
      "para saber cual es el numero mas grande que puedo tneer se usa la formula\n",
      "-1^s*2^(e-1023)*1.f\n",
      "la s debe de ser 0\n",
      "la f tiene que tener uno en todos los lugares\n",
      "e todos los unos \n",
      "\"\"\""
     ],
     "language": "python",
     "metadata": {},
     "outputs": [
      {
       "metadata": {},
       "output_type": "pyout",
       "prompt_number": 29,
       "text": [
        "'\\npara saber cual es el numero mas grande que puedo tneer se usa la formula\\n-1^s*2^(e-1023)*1.f\\nla s debe de ser 0\\nla f tiene que tener uno en todos los lugares\\ne todos los unos \\n'"
       ]
      }
     ],
     "prompt_number": 29
    },
    {
     "cell_type": "code",
     "collapsed": false,
     "input": [
      "\"\"\"\n",
      "CALCULO SIMBOLICO \n",
      "\"\"\""
     ],
     "language": "python",
     "metadata": {},
     "outputs": [
      {
       "metadata": {},
       "output_type": "pyout",
       "prompt_number": 34,
       "text": [
        "'\\nCALCULO SIMBOLICO \\n'"
       ]
      }
     ],
     "prompt_number": 34
    },
    {
     "cell_type": "code",
     "collapsed": false,
     "input": [
      "from sympy.interactive import printing\n",
      "printing.init_printing(use_latex=True)\n",
      "\"\"\"\n",
      "LATEX para que las graficas se vean bien \n",
      "\"\"\""
     ],
     "language": "python",
     "metadata": {},
     "outputs": [
      {
       "metadata": {},
       "output_type": "pyout",
       "prompt_number": 36,
       "text": [
        "'\\nLATEX para que las graficas se vean bien \\n'"
       ]
      }
     ],
     "prompt_number": 36
    },
    {
     "cell_type": "code",
     "collapsed": false,
     "input": [
      "from sympy import Symbol\n",
      "x=Symbol('x')"
     ],
     "language": "python",
     "metadata": {},
     "outputs": [],
     "prompt_number": 38
    },
    {
     "cell_type": "code",
     "collapsed": false,
     "input": [
      "x"
     ],
     "language": "python",
     "metadata": {},
     "outputs": [
      {
       "latex": [
        "$$x$$"
       ],
       "metadata": {},
       "output_type": "pyout",
       "png": "[encoded data removed]",
       "prompt_number": 39,
       "text": [
        "x"
       ]
      }
     ],
     "prompt_number": 39
    },
    {
     "cell_type": "code",
     "collapsed": false,
     "input": [
      "type(x)"
     ],
     "language": "python",
     "metadata": {},
     "outputs": [
      {
       "metadata": {},
       "output_type": "pyout",
       "prompt_number": 40,
       "text": [
        "sympy.core.symbol.Symbol"
       ]
      }
     ],
     "prompt_number": 40
    },
    {
     "cell_type": "code",
     "collapsed": false,
     "input": [
      "y= Symbol('y')"
     ],
     "language": "python",
     "metadata": {},
     "outputs": [],
     "prompt_number": 41
    },
    {
     "cell_type": "code",
     "collapsed": false,
     "input": [
      "2*x-x"
     ],
     "language": "python",
     "metadata": {},
     "outputs": [
      {
       "latex": [
        "$$x$$"
       ],
       "metadata": {},
       "output_type": "pyout",
       "png": "[encoded data removed]",
       "prompt_number": 42,
       "text": [
        "x"
       ]
      }
     ],
     "prompt_number": 42
    },
    {
     "cell_type": "code",
     "collapsed": false,
     "input": [
      "x+y+x-10*y*x"
     ],
     "language": "python",
     "metadata": {},
     "outputs": [
      {
       "latex": [
        "$$- 10 x y + 2 x + y$$"
       ],
       "metadata": {},
       "output_type": "pyout",
       "png": "[encoded data removed]",
       "prompt_number": 43,
       "text": [
        "-10\u22c5x\u22c5y + 2\u22c5x + y"
       ]
      }
     ],
     "prompt_number": 43
    },
    {
     "cell_type": "code",
     "collapsed": false,
     "input": [
      "import sympy as sym\n",
      "x,y,z =sym.symbols('x,y,z')\n",
      "x+2*y+3*z-x"
     ],
     "language": "python",
     "metadata": {},
     "outputs": [
      {
       "latex": [
        "$$2 y + 3 z$$"
       ],
       "metadata": {},
       "output_type": "pyout",
       "png": "[encoded data removed]",
       "prompt_number": 44,
       "text": [
        "2\u22c5y + 3\u22c5z"
       ]
      }
     ],
     "prompt_number": 44
    },
    {
     "cell_type": "code",
     "collapsed": false,
     "input": [
      "a=sym.Rational(1,10)\n",
      "a"
     ],
     "language": "python",
     "metadata": {},
     "outputs": [
      {
       "latex": [
        "$$\\frac{1}{10}$$"
       ],
       "metadata": {},
       "output_type": "pyout",
       "png": "[encoded data removed]",
       "prompt_number": 46,
       "text": [
        "1/10"
       ]
      }
     ],
     "prompt_number": 46
    },
    {
     "cell_type": "code",
     "collapsed": false,
     "input": [
      "b=sym.Rational(45,67)"
     ],
     "language": "python",
     "metadata": {},
     "outputs": [],
     "prompt_number": 47
    },
    {
     "cell_type": "code",
     "collapsed": false,
     "input": [
      "c=a*b\n",
      "c"
     ],
     "language": "python",
     "metadata": {},
     "outputs": [
      {
       "latex": [
        "$$\\frac{9}{134}$$"
       ],
       "metadata": {},
       "output_type": "pyout",
       "png": "[encoded data removed]",
       "prompt_number": 48,
       "text": [
        "9/134"
       ]
      }
     ],
     "prompt_number": 48
    },
    {
     "cell_type": "code",
     "collapsed": false,
     "input": [
      "d=a-b\n",
      "d"
     ],
     "language": "python",
     "metadata": {},
     "outputs": [
      {
       "latex": [
        "$$- \\frac{383}{670}$$"
       ],
       "metadata": {},
       "output_type": "pyout",
       "png": "[encoded data removed]",
       "prompt_number": 49,
       "text": [
        "-383 \n",
        "\u2500\u2500\u2500\u2500\u2500\n",
        " 670 "
       ]
      }
     ],
     "prompt_number": 49
    },
    {
     "cell_type": "code",
     "collapsed": false,
     "input": [
      "e=a+b\n",
      "e"
     ],
     "language": "python",
     "metadata": {},
     "outputs": [
      {
       "latex": [
        "$$\\frac{517}{670}$$"
       ],
       "metadata": {},
       "output_type": "pyout",
       "png": "[encoded data removed]",
       "prompt_number": 50,
       "text": [
        "517\n",
        "\u2500\u2500\u2500\n",
        "670"
       ]
      }
     ],
     "prompt_number": 50
    },
    {
     "cell_type": "code",
     "collapsed": false,
     "input": [
      "float(c)"
     ],
     "language": "python",
     "metadata": {},
     "outputs": [
      {
       "latex": [
        "$$0.0671641791045$$"
       ],
       "metadata": {},
       "output_type": "pyout",
       "png": "[encoded data removed]",
       "prompt_number": 52,
       "text": [
        "0.0671641791045"
       ]
      }
     ],
     "prompt_number": 52
    },
    {
     "cell_type": "code",
     "collapsed": false,
     "input": [
      "c"
     ],
     "language": "python",
     "metadata": {},
     "outputs": [
      {
       "latex": [
        "$$\\frac{9}{134}$$"
       ],
       "metadata": {},
       "output_type": "pyout",
       "png": "[encoded data removed]",
       "prompt_number": 53,
       "text": [
        "9/134"
       ]
      }
     ],
     "prompt_number": 53
    },
    {
     "cell_type": "code",
     "collapsed": false,
     "input": [
      "c.evalf()"
     ],
     "language": "python",
     "metadata": {},
     "outputs": [
      {
       "latex": [
        "$$0.0671641791044776$$"
       ],
       "metadata": {},
       "output_type": "pyout",
       "png": "[encoded data removed]",
       "prompt_number": 54,
       "text": [
        "0.0671641791044776"
       ]
      }
     ],
     "prompt_number": 54
    },
    {
     "cell_type": "code",
     "collapsed": false,
     "input": [
      "c.evalf(30)"
     ],
     "language": "python",
     "metadata": {},
     "outputs": [
      {
       "latex": [
        "$$0.0671641791044776119402985074627$$"
       ],
       "metadata": {},
       "output_type": "pyout",
       "png": "[encoded data removed]",
       "prompt_number": 55,
       "text": [
        "0.0671641791044776119402985074627"
       ]
      }
     ],
     "prompt_number": 55
    },
    {
     "cell_type": "code",
     "collapsed": false,
     "input": [
      "from sympy import *"
     ],
     "language": "python",
     "metadata": {},
     "outputs": [],
     "prompt_number": 56
    },
    {
     "cell_type": "code",
     "collapsed": false,
     "input": [
      "diff(sin(x),x)"
     ],
     "language": "python",
     "metadata": {},
     "outputs": [
      {
       "latex": [
        "$$\\cos{\\left (x \\right )}$$"
       ],
       "metadata": {},
       "output_type": "pyout",
       "png": "[encoded data removed]",
       "prompt_number": 57,
       "text": [
        "cos(x)"
       ]
      }
     ],
     "prompt_number": 57
    },
    {
     "cell_type": "code",
     "collapsed": false,
     "input": [
      "dx =Rational(1,10)"
     ],
     "language": "python",
     "metadata": {},
     "outputs": [],
     "prompt_number": 58
    },
    {
     "cell_type": "code",
     "collapsed": false,
     "input": [
      "x=0"
     ],
     "language": "python",
     "metadata": {},
     "outputs": [],
     "prompt_number": 59
    },
    {
     "cell_type": "code",
     "collapsed": false,
     "input": [
      "while x!=1.0:\n",
      "    x=x+dx\n",
      "    print \"x=%4s=%3.1f\" %(x,x.evalf())"
     ],
     "language": "python",
     "metadata": {},
     "outputs": [
      {
       "output_type": "stream",
       "stream": "stdout",
       "text": [
        "x=1/10=0.1\n",
        "x= 1/5=0.2"
       ]
      },
      {
       "output_type": "stream",
       "stream": "stdout",
       "text": [
        "\n",
        "x=3/10=0.3\n",
        "x= 2/5=0.4\n",
        "x= 1/2=0.5\n",
        "x= 3/5=0.6\n",
        "x=7/10=0.7\n",
        "x= 4/5=0.8\n",
        "x=9/10=0.9\n",
        "x=   1=1.0\n"
       ]
      }
     ],
     "prompt_number": 60
    },
    {
     "cell_type": "code",
     "collapsed": false,
     "input": [
      "dx_symbolic =Rational(1,10)\n",
      "def bucle_sympy(n):\n",
      "    x=0\n",
      "    for i in xrange(n):\n",
      "        x=x+dx_symbolic\n",
      "    return x"
     ],
     "language": "python",
     "metadata": {},
     "outputs": [],
     "prompt_number": 62
    },
    {
     "cell_type": "code",
     "collapsed": false,
     "input": [
      "n=100000"
     ],
     "language": "python",
     "metadata": {},
     "outputs": [],
     "prompt_number": 63
    },
    {
     "cell_type": "code",
     "collapsed": false,
     "input": [
      "%timeit bucle_sympy(n)"
     ],
     "language": "python",
     "metadata": {},
     "outputs": [
      {
       "output_type": "stream",
       "stream": "stdout",
       "text": [
        "1 loops, best of 3: 849 ms per loop\n"
       ]
      }
     ],
     "prompt_number": 64
    },
    {
     "cell_type": "code",
     "collapsed": false,
     "input": [],
     "language": "python",
     "metadata": {},
     "outputs": []
    }
   ],
   "metadata": {}
  }
 ]
}