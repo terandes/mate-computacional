{
 "metadata": {
  "name": "",
  "signature": "sha256:1d6672f771a92cdb728a5f13755b7ac7fa7a69c4c8bb24bdc325a763466329ab"
 },
 "nbformat": 3,
 "nbformat_minor": 0,
 "worksheets": [
  {
   "cells": [
    {
     "cell_type": "code",
     "collapsed": false,
     "input": [
      "%%file transformaciones.py\n",
      "from math import sin, cos\n",
      "def coor_cartesianas(r,theta,phi):\n",
      "    \"\"\"\n",
      "    devuelve las coordenadas a (x,y,z) apartir de las coordenadas esfericas \n",
      "    \"\"\"\n",
      "    x=r*sin(phi)*cos(theta)\n",
      "    y=r*sin(phi)*sin(theta)\n",
      "    z=r*cos(phi)\n",
      "    return x,y,z    "
     ],
     "language": "python",
     "metadata": {},
     "outputs": [
      {
       "output_type": "stream",
       "stream": "stdout",
       "text": [
        "Writing transformaciones.py\n"
       ]
      }
     ],
     "prompt_number": 3
    },
    {
     "cell_type": "code",
     "collapsed": false,
     "input": [
      "from IPython.html.widgets import interact, fixed\n",
      "from math import pi\n",
      "from esfericas import coor_cartesianas\n",
      "interact(coor_cartesianas, r=10,theta=pi,phi=2*pi)"
     ],
     "language": "python",
     "metadata": {},
     "outputs": [
      {
       "metadata": {},
       "output_type": "pyout",
       "prompt_number": 4,
       "text": [
        "<function esfericas.coor_cartesianas>"
       ]
      }
     ],
     "prompt_number": 4
    },
    {
     "cell_type": "code",
     "collapsed": false,
     "input": [
      "%%file transformaciones.py\n",
      "from math import sin,acos \n",
      "def coor_esfericas(x,y,z):\n",
      "    \"\"\"\n",
      "    devuelve las coordenadas apartir de las coordenas cartesianas\n",
      "    \"\"\"\n",
      "    r=sqrt(x^2+y^2+z^2)\n",
      "    theta =acos(z/r)\n",
      "    phi= acos(x/(rsen(theta)))\n",
      "    return r, theta,phi"
     ],
     "language": "python",
     "metadata": {},
     "outputs": [
      {
       "output_type": "stream",
       "stream": "stdout",
       "text": [
        "Overwriting transformaciones.py\n"
       ]
      }
     ],
     "prompt_number": 5
    },
    {
     "cell_type": "code",
     "collapsed": false,
     "input": [],
     "language": "python",
     "metadata": {},
     "outputs": []
    }
   ],
   "metadata": {}
  }
 ]
}