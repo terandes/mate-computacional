{
 "metadata": {
  "name": "",
  "signature": "sha256:9a89d7048b661d8696443296c423e48f904afcaa3089c607ac73caf8e5a93971"
 },
 "nbformat": 3,
 "nbformat_minor": 0,
 "worksheets": [
  {
   "cells": [
    {
     "cell_type": "code",
     "collapsed": false,
     "input": [
      "%%file conversiones.py\n",
      "\"\"\"\n",
      "    convertir un numero de decimal a binario\n",
      "\"\"\"\n",
      "def DecimalABinario(decimal):\n",
      "    assert -128<=decimal<=127\n",
      "    b=[0 for x in range(8)]   \n",
      "    i=0\n",
      "    while decimal!=0 and i<=7:\n",
      "        b[7-i]=decimal%2\n",
      "        i+=1\n",
      "        decimal=decimal/2\n",
      "    binario=''\n",
      "    for i in xrange(0,len(b),1):\n",
      "        binario=binario+str(b[i])\n",
      "    print binario\n",
      "    return binario"
     ],
     "language": "python",
     "metadata": {},
     "outputs": [
      {
       "output_type": "stream",
       "stream": "stdout",
       "text": [
        "Writing conversiones.py\n"
       ]
      }
     ],
     "prompt_number": 11
    },
    {
     "cell_type": "code",
     "collapsed": false,
     "input": [
      "%%file conversiones.py\n",
      "\"\"\"\n",
      "    convertir un numero hexadecimal a binario\n",
      "\"\"\"\n",
      "def HexadecimalABinario(hexadecimal):\n",
      "    decimal=int(hexadecimal,16)\n",
      "    binario = bin(decimal)\n",
      "    print binario\n",
      "    return binario"
     ],
     "language": "python",
     "metadata": {},
     "outputs": [
      {
       "output_type": "stream",
       "stream": "stdout",
       "text": [
        "Overwriting conversiones.py\n"
       ]
      }
     ],
     "prompt_number": 12
    },
    {
     "cell_type": "code",
     "collapsed": false,
     "input": [
      "HexadecimalABinario('FFFF')"
     ],
     "language": "python",
     "metadata": {},
     "outputs": [
      {
       "output_type": "stream",
       "stream": "stdout",
       "text": [
        "0b1111111111111111\n"
       ]
      },
      {
       "metadata": {},
       "output_type": "pyout",
       "prompt_number": 7,
       "text": [
        "'0b1111111111111111'"
       ]
      }
     ],
     "prompt_number": 7
    },
    {
     "cell_type": "code",
     "collapsed": false,
     "input": [
      "%%file conversiones.py\n",
      "\"\"\"\n",
      "    convertir un numero binario a hexadecimal\n",
      "\"\"\"\n",
      "def BinarioAHexadecimal(binario):\n",
      "    decimal=int(binario,2)\n",
      "    hexadecimal = ' '\n",
      "    \n",
      "    while decimal//16!=0:\n",
      "        if decimal %16==10:\n",
      "            hexadecimal ='A' + hexadecimal\n",
      "        else:\n",
      "            if decimal%16 == 11:\n",
      "                hexadecimal = 'B' + hexadecimal\n",
      "            else:\n",
      "                if decimal%16 == 12:\n",
      "                    hexadecimal = 'C' + hexadecimal\n",
      "                else:\n",
      "                    if decimal%16 == 13:\n",
      "                        hexadecimal = 'D' + hexadecimal\n",
      "                    else:\n",
      "                        if decimal%16 == 14:\n",
      "                            hexadecimal = 'E' + hexadecimal\n",
      "                        else:\n",
      "                            if decimal%16==15:\n",
      "                                hexadecimla = 'F' + hexadecimal\n",
      "                            else:\n",
      "                                hexadecimal = str(decimal%16) + hexadecimal\n",
      "    decimal= decimla//16\n",
      "    return str(decimal) + hexadecimal\n",
      "                            \n",
      "                    "
     ],
     "language": "python",
     "metadata": {},
     "outputs": [
      {
       "output_type": "stream",
       "stream": "stdout",
       "text": [
        "Overwriting conversiones.py\n"
       ]
      }
     ],
     "prompt_number": 13
    },
    {
     "cell_type": "code",
     "collapsed": false,
     "input": [],
     "language": "python",
     "metadata": {},
     "outputs": []
    }
   ],
   "metadata": {}
  }
 ]
}