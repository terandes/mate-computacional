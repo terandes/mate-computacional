{
 "metadata": {
  "name": "",
  "signature": "sha256:5e1b3b3c2345fc09a8f75c4ff9c6c3d53b1fd79a98137bee78eb6a7a3782f35a"
 },
 "nbformat": 3,
 "nbformat_minor": 0,
 "worksheets": [
  {
   "cells": [
    {
     "cell_type": "code",
     "collapsed": false,
     "input": [
      "\"\"\"menor n\u00famero posible con 8 bits en two's complement notation\"\"\"\n",
      "1*(-2**7)"
     ],
     "language": "python",
     "metadata": {},
     "outputs": [
      {
       "metadata": {},
       "output_type": "pyout",
       "prompt_number": 2,
       "text": [
        "-128"
       ]
      }
     ],
     "prompt_number": 2
    },
    {
     "cell_type": "code",
     "collapsed": false,
     "input": [
      "\"mayor n\u00famero posible con 8 bits en two's complement notation\n",
      "1*(2**6)+1*(2**5)+1*(2**4)+1*(2**3)+1*(2**2)+1*(2**1)+1*(2**0)"
     ],
     "language": "python",
     "metadata": {},
     "outputs": [
      {
       "metadata": {},
       "output_type": "pyout",
       "prompt_number": 3,
       "text": [
        "127"
       ]
      }
     ],
     "prompt_number": 3
    },
    {
     "cell_type": "code",
     "collapsed": false,
     "input": [
      "def maxMin(bits):\n",
      "    max=0\n",
      "    \"\"\"for i in xrange(0,bits-1,1):\n",
      "        max+=1*(2**i)\"\"\"\n",
      "    min=1*(-2**(bits-1))\n",
      "    max=1*(2**(bits-1))-1\n",
      "    return min, max"
     ],
     "language": "python",
     "metadata": {},
     "outputs": [],
     "prompt_number": 16
    },
    {
     "cell_type": "code",
     "collapsed": false,
     "input": [
      "maxMin(8)"
     ],
     "language": "python",
     "metadata": {},
     "outputs": [
      {
       "metadata": {},
       "output_type": "pyout",
       "prompt_number": 17,
       "text": [
        "(-128, 127)"
       ]
      }
     ],
     "prompt_number": 17
    },
    {
     "cell_type": "code",
     "collapsed": false,
     "input": [
      "maxMin(4)"
     ],
     "language": "python",
     "metadata": {},
     "outputs": [
      {
       "metadata": {},
       "output_type": "pyout",
       "prompt_number": 18,
       "text": [
        "(-8, 7)"
       ]
      }
     ],
     "prompt_number": 18
    },
    {
     "cell_type": "code",
     "collapsed": false,
     "input": [
      "maxMin(16)"
     ],
     "language": "python",
     "metadata": {},
     "outputs": [
      {
       "metadata": {},
       "output_type": "pyout",
       "prompt_number": 19,
       "text": [
        "(-32768, 32767)"
       ]
      }
     ],
     "prompt_number": 19
    },
    {
     "cell_type": "code",
     "collapsed": false,
     "input": [
      "def decimalBinario(num,bits):\n",
      "    assert(num>=1*(-2**(bits-1)) and num<=1*(2**(bits-1))-1)\n",
      "    bin=[0,0,0,0,0,0,0,0] \n",
      "    \"\"\"\"cambialo a un string\"\"\"\n",
      "    i=0\n",
      "    for i in xrange(bits-1,1,-1):\n",
      "        bin[i]=num%2\n",
      "        num/=2\n",
      "    return bin"
     ],
     "language": "python",
     "metadata": {},
     "outputs": [],
     "prompt_number": 92
    },
    {
     "cell_type": "code",
     "collapsed": false,
     "input": [
      "decimalBinario(5,8)"
     ],
     "language": "python",
     "metadata": {},
     "outputs": [
      {
       "metadata": {},
       "output_type": "pyout",
       "prompt_number": 93,
       "text": [
        "[0, 0, 0, 0, 0, 1, 0, 1]"
       ]
      }
     ],
     "prompt_number": 93
    },
    {
     "cell_type": "code",
     "collapsed": false,
     "input": [
      "\"\"\"\n",
      "def decimalBinarioRECURSIVO (num):\n",
      "    if num==0:\n",
      "        return binario\n",
      "    else:\n",
      "        return "
     ],
     "language": "python",
     "metadata": {},
     "outputs": [],
     "prompt_number": 31
    },
    {
     "cell_type": "code",
     "collapsed": false,
     "input": [
      "def decimalBinario(num,bits):\n",
      "    assert(num>=1*(-2**(bits-1)) and num<=1*(2**(bits-1))-1)\n",
      "    bin=\"\"\n",
      "    i=0\n",
      "    for i in xrange(bits,0,-1):\n",
      "        bin+=str(num%2)\n",
      "        num/=2\n",
      "    return bin[::-1]"
     ],
     "language": "python",
     "metadata": {},
     "outputs": [],
     "prompt_number": 2
    },
    {
     "cell_type": "code",
     "collapsed": false,
     "input": [
      "decimalBinario(125,16)"
     ],
     "language": "python",
     "metadata": {},
     "outputs": [
      {
       "metadata": {},
       "output_type": "pyout",
       "prompt_number": 3,
       "text": [
        "'0000000001111101'"
       ]
      }
     ],
     "prompt_number": 3
    },
    {
     "cell_type": "code",
     "collapsed": false,
     "input": [],
     "language": "python",
     "metadata": {},
     "outputs": []
    },
    {
     "cell_type": "code",
     "collapsed": false,
     "input": [
      "def binarioDecimal(num,bits):\n",
      "    i=0\n",
      "    dec=0\n",
      "    for i in xrange(bits,0,-1):\n",
      "        aux=int(num[i-1])*(2**(bits-i))\n",
      "        dec+=aux\n",
      "    return dec"
     ],
     "language": "python",
     "metadata": {},
     "outputs": [],
     "prompt_number": 76
    },
    {
     "cell_type": "code",
     "collapsed": false,
     "input": [
      "binarioDecimal(\"00000101\",8)"
     ],
     "language": "python",
     "metadata": {},
     "outputs": [
      {
       "metadata": {},
       "output_type": "pyout",
       "prompt_number": 77,
       "text": [
        "5"
       ]
      }
     ],
     "prompt_number": 77
    },
    {
     "cell_type": "code",
     "collapsed": false,
     "input": [
      "def hexadecimalBinario():\n",
      "    "
     ],
     "language": "python",
     "metadata": {},
     "outputs": []
    },
    {
     "cell_type": "code",
     "collapsed": false,
     "input": [
      "\"muy a lo bestia, y el otro es lo mismo al reves\"\n",
      "def binarioHexadecimal(num):\n",
      "    hex=\"\"\n",
      "    bits=len(num)\n",
      "    cacho=num[len(num)-4:len(num)]\n",
      "    for i in xrange(1,3,1):\n",
      "        if cacho==\"0000\":\n",
      "            hex+=\"0\"\n",
      "        elif cacho==\"0001\":\n",
      "            hex+=\"1\"\n",
      "        elif cacho==\"0010\":\n",
      "            hex+=\"2\"\n",
      "        elif cacho==\"0011\":\n",
      "            hex+=\"3\"\n",
      "        elif cacho==\"0100\":\n",
      "            hex+=\"4\"\n",
      "        elif cacho==\"0101\":\n",
      "            hex+=\"5\"\n",
      "        elif cacho==\"0110\":\n",
      "            hex+=\"6\"\n",
      "        elif cacho==\"0111\":\n",
      "            hex+=\"7\"\n",
      "        elif cacho==\"1000\":\n",
      "            hex+=\"8\"\n",
      "        elif cacho==\"1001\":\n",
      "            hex+=\"9\"\n",
      "        elif cacho==\"1010\":\n",
      "            hex+=\"A\"\n",
      "        elif cacho==\"1011\":\n",
      "            hex+=\"B\"\n",
      "        elif cacho==\"1100\":\n",
      "            hex+=\"C\"\n",
      "        elif cacho==\"1101\":\n",
      "            hex+=\"D\"\n",
      "        elif cacho==\"1110\":\n",
      "            hex+=\"E\"\n",
      "        else:\n",
      "            hex+=\"F\"\n",
      "        cacho=num[0:len(num)-4]\n",
      "    return hex[::-1]\n",
      "            "
     ],
     "language": "python",
     "metadata": {},
     "outputs": [],
     "prompt_number": 118
    },
    {
     "cell_type": "code",
     "collapsed": false,
     "input": [
      "\"lorena\"[2:4]"
     ],
     "language": "python",
     "metadata": {},
     "outputs": [
      {
       "metadata": {},
       "output_type": "pyout",
       "prompt_number": 119,
       "text": [
        "'re'"
       ]
      }
     ],
     "prompt_number": 119
    },
    {
     "cell_type": "code",
     "collapsed": false,
     "input": [
      "len(\"lore\")"
     ],
     "language": "python",
     "metadata": {},
     "outputs": [
      {
       "metadata": {},
       "output_type": "pyout",
       "prompt_number": 120,
       "text": [
        "4"
       ]
      }
     ],
     "prompt_number": 120
    },
    {
     "cell_type": "code",
     "collapsed": false,
     "input": [
      "binarioHexadecimal(\"00100000\")"
     ],
     "language": "python",
     "metadata": {},
     "outputs": [
      {
       "output_type": "stream",
       "stream": "stdout",
       "text": [
        "0010\n",
        "0010\n"
       ]
      },
      {
       "metadata": {},
       "output_type": "pyout",
       "prompt_number": 121,
       "text": [
        "'20'"
       ]
      }
     ],
     "prompt_number": 121
    },
    {
     "cell_type": "code",
     "collapsed": false,
     "input": [
      "diccionarioBH={\"0000\":\"0\",\"0001\":\"1\",\"0010\":\"2\",\"0011\":\"3\",\"0100\":\"4\",\"0101\":\"5\",\"0110\":\"6\",\"0111\":\"7\",\"1000\":\"8\",\"1001\":\"9\",\"1010\":\"A\",\"1011\":\"B\",\"1100\":\"C\",\"1101\":\"D\",\"1110\":\"E\",\"1111\":\"F\"}"
     ],
     "language": "python",
     "metadata": {},
     "outputs": [],
     "prompt_number": 4
    },
    {
     "cell_type": "code",
     "collapsed": false,
     "input": [
      "diccionarioHB={\"0\":\"0000\",\"1\":\"0001\",\"2\":\"0010\",\"3\":\"0011\",\"4\":\"0100\",\"5\":\"0101\",\"6\":\"0110\",\"7\":\"0111\",\"8\":\"1000\",\"9\":\"1001\",\"A\":\"1010\",\"B\":\"1011\",\"C\":\"1100\",\"D\":\"1101\",\"E\":\"1110\",\"F\":\"1111\"}"
     ],
     "language": "python",
     "metadata": {},
     "outputs": [],
     "prompt_number": 5
    },
    {
     "cell_type": "code",
     "collapsed": false,
     "input": [
      "\"\"\"menos bestia, solo funciona con 8 bits\"\"\"\n",
      "def binarioHexadecimal2(num):\n",
      "    hex=\"\"\n",
      "    cacho=num\n",
      "    #cacho=num[len(num)-4:len(num)]\n",
      "    for i in xrange(0,len(num)/4,1):\n",
      "        cacho=cacho[len(cacho)-4:len(cacho)]\n",
      "        hex+=diccionarioBH[cacho]\n",
      "        cacho=num[0:len(num)-4*(i+1)]\n",
      "    return hex[::-1]"
     ],
     "language": "python",
     "metadata": {},
     "outputs": [],
     "prompt_number": 15
    },
    {
     "cell_type": "code",
     "collapsed": false,
     "input": [
      "binarioHexadecimal2(\"111011110000\")"
     ],
     "language": "python",
     "metadata": {},
     "outputs": [
      {
       "metadata": {},
       "output_type": "pyout",
       "prompt_number": 16,
       "text": [
        "'EF0'"
       ]
      }
     ],
     "prompt_number": 16
    },
    {
     "cell_type": "code",
     "collapsed": false,
     "input": [
      "def hexadecimalBinario(num):\n",
      "    bin=\"\"\n",
      "    car=\"\"\n",
      "    for i in xrange(0,len(num),1):\n",
      "        car=num[i]\n",
      "        bin+=diccionarioHB[car]\n",
      "    return bin"
     ],
     "language": "python",
     "metadata": {},
     "outputs": [],
     "prompt_number": 84
    },
    {
     "cell_type": "code",
     "collapsed": false,
     "input": [
      "hexadecimalBinario(\"EF0\")"
     ],
     "language": "python",
     "metadata": {},
     "outputs": [
      {
       "metadata": {},
       "output_type": "pyout",
       "prompt_number": 85,
       "text": [
        "'111011110000'"
       ]
      }
     ],
     "prompt_number": 85
    },
    {
     "cell_type": "code",
     "collapsed": false,
     "input": [
      "len(\"lore\")\n",
      "\"lore\"[0:4]"
     ],
     "language": "python",
     "metadata": {},
     "outputs": [
      {
       "metadata": {},
       "output_type": "pyout",
       "prompt_number": 82,
       "text": [
        "'lore'"
       ]
      }
     ],
     "prompt_number": 82
    },
    {
     "cell_type": "code",
     "collapsed": false,
     "input": [],
     "language": "python",
     "metadata": {},
     "outputs": []
    }
   ],
   "metadata": {}
  }
 ]
}