{
 "metadata": {
  "name": "",
  "signature": "sha256:da5f7f98106265961c4a333db9561ed3ec96c82c817423b97840929cbe0ba2a9"
 },
 "nbformat": 3,
 "nbformat_minor": 0,
 "worksheets": [
  {
   "cells": [
    {
     "cell_type": "heading",
     "level": 1,
     "metadata": {},
     "source": [
      "IEEE"
     ]
    },
    {
     "cell_type": "markdown",
     "metadata": {},
     "source": [
      "Programa que convierte un n\u00famero ENTERO al formato IEEE"
     ]
    },
    {
     "cell_type": "code",
     "collapsed": false,
     "input": [
      "def decimal_a_binario(entero): #Usando el algoritmo de la divisi\u00f3n, convierte un n\u00famero entero a binario\n",
      "    \n",
      "    dividendo = entero\n",
      "    residuoStr = ''\n",
      "    \n",
      "    while dividendo >= 2:\n",
      "        residuo = dividendo % 2\n",
      "        dividendo = dividendo / 2\n",
      "        residuoStr = str(residuo) + residuoStr\n",
      "    \n",
      "    return str(dividendo) + residuoStr"
     ],
     "language": "python",
     "metadata": {},
     "outputs": [],
     "prompt_number": 5
    },
    {
     "cell_type": "code",
     "collapsed": false,
     "input": [
      "decimal_a_binario(130)"
     ],
     "language": "python",
     "metadata": {},
     "outputs": [
      {
       "metadata": {},
       "output_type": "pyout",
       "prompt_number": 4,
       "text": [
        "'10000010'"
       ]
      }
     ],
     "prompt_number": 4
    },
    {
     "cell_type": "markdown",
     "metadata": {},
     "source": [
      "IEEE SDP"
     ]
    },
    {
     "cell_type": "code",
     "collapsed": false,
     "input": [
      "def signo(numero): #Recibe el n\u00famero, y devuelve su signo\n",
      "    if numero >= 0:\n",
      "        return '0'\n",
      "    else:\n",
      "        return '1'\n",
      "    \n",
      "def agregarPunto(binario): #Le agrega el punto al binario. Es decir, lo normaliza\n",
      "    binario = binario[0] + '.' + binario[1:]\n",
      "    return binario\n",
      "\n",
      "def exponente(binarioConPunto): #Cuenta los lugares que hay del punto al final del n\u00famero.\n",
      "    suma = 0\n",
      "    i = len(binarioConPunto)\n",
      "    while i > 0:\n",
      "        suma += 1\n",
      "        i = i - 1\n",
      "    return suma -2\n",
      "\n",
      "def exponenteYbiasSP(binarioConPunto): #Calcula el bias a trav\u00e9s del exponente\n",
      "    resultado = exponente(binarioConPunto) + 127 #single digit precision\n",
      "    resultadoBinario = decimal_a_binario(resultado)\n",
      "    return resultadoBinario\n",
      "\n",
      "    \n",
      "def mantisaSP(binarioConPunto): #Su nombre lo dice todo: calcula la mantisa del n\u00famero (recordar: son los d\u00edgitos binarios a la derecha del punto)\n",
      "    mantisa = ''\n",
      "    for i in range(2,len(binarioConPunto)):\n",
      "        mantisa = binarioConPunto[i] + mantisa\n",
      "    mantisa = mantisa[::-1]\n",
      "    for j in range(0,25-len(binarioConPunto)):\n",
      "        mantisa = mantisa + '0'\n",
      "    return mantisa\n"
     ],
     "language": "python",
     "metadata": {},
     "outputs": [],
     "prompt_number": 6
    },
    {
     "cell_type": "code",
     "collapsed": false,
     "input": [
      "def PuntoFlotanteSP(entero): #Usa las funciones anteriores para convertir el n\u00famero.      \n",
      "    resultado = signo(entero) + ' '\n",
      "    numero = decimal_a_binario(entero)\n",
      "    numero = agregarPunto(numero)\n",
      "    resultado = resultado + exponenteYbiasSP(numero) + ' ' + mantisaSP(numero)\n",
      "    return resultado"
     ],
     "language": "python",
     "metadata": {},
     "outputs": [],
     "prompt_number": 8
    },
    {
     "cell_type": "code",
     "collapsed": false,
     "input": [
      "PuntoFlotanteSP(1)"
     ],
     "language": "python",
     "metadata": {},
     "outputs": [
      {
       "metadata": {},
       "output_type": "pyout",
       "prompt_number": 9,
       "text": [
        "'0 1111111 00000000000000000000000'"
       ]
      }
     ],
     "prompt_number": 9
    },
    {
     "cell_type": "code",
     "collapsed": false,
     "input": [
      "def exponenteYbiasDP(binarioConPunto): #Calcula el bias a trav\u00e9s del exponente. Para DP\n",
      "    resultado = exponente(binarioConPunto) + 1023 \n",
      "    resultadoBinario = decimal_a_binario(resultado)\n",
      "    return resultadoBinario\n",
      "\n",
      "def mantisaDP(binarioConPunto): #Mantisa para DP\n",
      "    mantisa = ''\n",
      "    for i in range(2,len(binarioConPunto)):\n",
      "        mantisa = binarioConPunto[i] + mantisa\n",
      "    mantisa = mantisa[::-1]\n",
      "    for j in range(0,54-len(binarioConPunto)):\n",
      "        mantisa = mantisa + '0'\n",
      "    return mantisa\n"
     ],
     "language": "python",
     "metadata": {},
     "outputs": [],
     "prompt_number": 10
    },
    {
     "cell_type": "code",
     "collapsed": false,
     "input": [
      "def PuntoFlotanteDP(entero):       \n",
      "    resultado = signo(entero) + ' '\n",
      "    numero = decimal_a_binario(entero)\n",
      "    numero = agregarPunto(numero)\n",
      "    resultado = resultado + exponenteYbiasDP(numero) + ' ' + mantisaDP(numero)\n",
      "    return resultado"
     ],
     "language": "python",
     "metadata": {},
     "outputs": [],
     "prompt_number": 12
    },
    {
     "cell_type": "code",
     "collapsed": false,
     "input": [
      "PuntoFlotanteDP(1)"
     ],
     "language": "python",
     "metadata": {},
     "outputs": [
      {
       "metadata": {},
       "output_type": "pyout",
       "prompt_number": 41,
       "text": [
        "'0 1111111111 0000000000000000000000000000000000000000000000000000'"
       ]
      }
     ],
     "prompt_number": 41
    },
    {
     "cell_type": "code",
     "collapsed": false,
     "input": [
      "PuntoFlotanteSP(1)"
     ],
     "language": "python",
     "metadata": {},
     "outputs": [
      {
       "metadata": {},
       "output_type": "pyout",
       "prompt_number": 43,
       "text": [
        "'0 1111111 00000000000000000000000'"
       ]
      }
     ],
     "prompt_number": 43
    },
    {
     "cell_type": "code",
     "collapsed": false,
     "input": [
      "len('0000000000000000000000000000000000000000000000000000')"
     ],
     "language": "python",
     "metadata": {},
     "outputs": [
      {
       "metadata": {},
       "output_type": "pyout",
       "prompt_number": 46,
       "text": [
        "52"
       ]
      }
     ],
     "prompt_number": 46
    },
    {
     "cell_type": "markdown",
     "metadata": {},
     "source": [
      "Hasta antes solo son enteros. Ahora veamos el caso decimal: caso en el que la parte decimal es \"bonita\""
     ]
    },
    {
     "cell_type": "code",
     "collapsed": false,
     "input": [
      "def parteDecimal_a_Binario1(decimal): #Caso en el que el \"acaba\" en 5. Convierte solo el decimal en binario\n",
      "    binario = ''   \n",
      "    inicio = ''\n",
      "    while inicio != '1':\n",
      "        decimal = str(decimal*2)\n",
      "        binario = decimal[0] + binario\n",
      "        inicio = decimal[0]\n",
      "        decimal = float(decimal)             \n",
      "    return binario[::-1]"
     ],
     "language": "python",
     "metadata": {},
     "outputs": [],
     "prompt_number": 14
    },
    {
     "cell_type": "code",
     "collapsed": false,
     "input": [
      "def DivisorEnteroDecimal(real): #Halla d\u00f3nde est\u00e1 el punto y luego divide el n\u00famero en parte entera y parte decimal, convertidos en binario\n",
      "    real = str(abs(real)) #Convierte al real en string\n",
      "    posicion = real.index('.') #Busca el lugar en donde est\u00e9 el punto\n",
      "    entera = real[0:posicion] #La parte entera es lo que est\u00e1 antes del punto\n",
      "    decimal = real[posicion + 1: len(real)] #La parte decimal es la que est\u00e1 a la izquiera del punto\n",
      "    entera = int(entera)\n",
      "    decimal = '.' + decimal\n",
      "    decimal = float(decimal)\n",
      "    entera = decimal_a_binario(entera)\n",
      "    decimal = parteDecimal_a_Binario1(decimal)\n",
      "    return entera, decimal\n",
      "\n",
      "def mantisaSPDecimal(tupla):\n",
      "    mantisa = ''\n",
      "    entera = tupla[0]\n",
      "    entera = agregarPunto(entera)\n",
      "    decimal = tupla[1]\n",
      "    for i in range(2,len(entera)):\n",
      "        mantisa = entera[i] + mantisa\n",
      "    mantisa = mantisa[::-1]\n",
      "    mantisa = mantisa + decimal    \n",
      "    for j in range(0,23-len(mantisa)):\n",
      "        mantisa = mantisa + '0'\n",
      "    return mantisa"
     ],
     "language": "python",
     "metadata": {},
     "outputs": [],
     "prompt_number": 15
    },
    {
     "cell_type": "code",
     "collapsed": false,
     "input": [
      "def PuntoFlotanteSPDecimal(real):       \n",
      "    resultado = signo(real) + ' '\n",
      "    real = DivisorEnteroDecimal(real) \n",
      "    entero = agregarPunto(real[0])    \n",
      "    resultado = resultado + exponenteYbiasSP(entero) + ' ' + mantisaSPDecimal(real)\n",
      "    return resultado"
     ],
     "language": "python",
     "metadata": {},
     "outputs": [],
     "prompt_number": 17
    },
    {
     "cell_type": "code",
     "collapsed": false,
     "input": [
      "PuntoFlotanteSPDecimal(-15.5)"
     ],
     "language": "python",
     "metadata": {},
     "outputs": [
      {
       "metadata": {},
       "output_type": "pyout",
       "prompt_number": 38,
       "text": [
        "'1 10000010 11110000000000000000000'"
       ]
      }
     ],
     "prompt_number": 38
    },
    {
     "cell_type": "code",
     "collapsed": false,
     "input": [
      "def mantisaDPDecimal(tupla): #Su nombre lo dice todo :P\n",
      "    mantisa = ''\n",
      "    entera = tupla[0]\n",
      "    entera = agregarPunto(entera)\n",
      "    decimal = tupla[1]\n",
      "    for i in range(2,len(entera)):\n",
      "        mantisa = entera[i] + mantisa\n",
      "    mantisa = mantisa[::-1]\n",
      "    mantisa = mantisa + decimal    \n",
      "    for j in range(0,52-len(mantisa)):\n",
      "        mantisa = mantisa + '0'\n",
      "    return mantisa"
     ],
     "language": "python",
     "metadata": {},
     "outputs": [],
     "prompt_number": 19
    },
    {
     "cell_type": "code",
     "collapsed": false,
     "input": [
      "def PuntoFlotanteDPDecimal(real):       \n",
      "    resultado = signo(real) + ' '\n",
      "    real = DivisorEnteroDecimal(real)\n",
      "    entero = agregarPunto(real[0])\n",
      "    resultado = resultado + exponenteYbiasDP(entero) + ' ' + mantisaDPDecimal(real)\n",
      "    return resultado"
     ],
     "language": "python",
     "metadata": {},
     "outputs": [],
     "prompt_number": 21
    },
    {
     "cell_type": "code",
     "collapsed": false,
     "input": [
      "PuntoFlotanteDPDecimal(1)"
     ],
     "language": "python",
     "metadata": {},
     "outputs": [
      {
       "ename": "ValueError",
       "evalue": "substring not found",
       "output_type": "pyerr",
       "traceback": [
        "\u001b[1;31m---------------------------------------------------------------------------\u001b[0m\n\u001b[1;31mValueError\u001b[0m                                Traceback (most recent call last)",
        "\u001b[1;32m<ipython-input-39-bded4cc0891c>\u001b[0m in \u001b[0;36m<module>\u001b[1;34m()\u001b[0m\n\u001b[1;32m----> 1\u001b[1;33m \u001b[0mPuntoFlotanteDPDecimal\u001b[0m\u001b[1;33m(\u001b[0m\u001b[1;36m1\u001b[0m\u001b[1;33m)\u001b[0m\u001b[1;33m\u001b[0m\u001b[0m\n\u001b[0m",
        "\u001b[1;32m<ipython-input-21-7b7f440ee42b>\u001b[0m in \u001b[0;36mPuntoFlotanteDPDecimal\u001b[1;34m(real)\u001b[0m\n\u001b[0;32m      1\u001b[0m \u001b[1;32mdef\u001b[0m \u001b[0mPuntoFlotanteDPDecimal\u001b[0m\u001b[1;33m(\u001b[0m\u001b[0mreal\u001b[0m\u001b[1;33m)\u001b[0m\u001b[1;33m:\u001b[0m\u001b[1;33m\u001b[0m\u001b[0m\n\u001b[0;32m      2\u001b[0m     \u001b[0mresultado\u001b[0m \u001b[1;33m=\u001b[0m \u001b[0msigno\u001b[0m\u001b[1;33m(\u001b[0m\u001b[0mreal\u001b[0m\u001b[1;33m)\u001b[0m \u001b[1;33m+\u001b[0m \u001b[1;34m' '\u001b[0m\u001b[1;33m\u001b[0m\u001b[0m\n\u001b[1;32m----> 3\u001b[1;33m     \u001b[0mreal\u001b[0m \u001b[1;33m=\u001b[0m \u001b[0mDivisorEnteroDecimal\u001b[0m\u001b[1;33m(\u001b[0m\u001b[0mreal\u001b[0m\u001b[1;33m)\u001b[0m\u001b[1;33m\u001b[0m\u001b[0m\n\u001b[0m\u001b[0;32m      4\u001b[0m     \u001b[0mentero\u001b[0m \u001b[1;33m=\u001b[0m \u001b[0magregarPunto\u001b[0m\u001b[1;33m(\u001b[0m\u001b[0mreal\u001b[0m\u001b[1;33m[\u001b[0m\u001b[1;36m0\u001b[0m\u001b[1;33m]\u001b[0m\u001b[1;33m)\u001b[0m\u001b[1;33m\u001b[0m\u001b[0m\n\u001b[0;32m      5\u001b[0m     \u001b[0mresultado\u001b[0m \u001b[1;33m=\u001b[0m \u001b[0mresultado\u001b[0m \u001b[1;33m+\u001b[0m \u001b[0mexponenteYbiasDP\u001b[0m\u001b[1;33m(\u001b[0m\u001b[0mentero\u001b[0m\u001b[1;33m)\u001b[0m \u001b[1;33m+\u001b[0m \u001b[1;34m' '\u001b[0m \u001b[1;33m+\u001b[0m \u001b[0mmantisaDPDecimal\u001b[0m\u001b[1;33m(\u001b[0m\u001b[0mreal\u001b[0m\u001b[1;33m)\u001b[0m\u001b[1;33m\u001b[0m\u001b[0m\n",
        "\u001b[1;32m<ipython-input-15-e1a47a9714cf>\u001b[0m in \u001b[0;36mDivisorEnteroDecimal\u001b[1;34m(real)\u001b[0m\n\u001b[0;32m      1\u001b[0m \u001b[1;32mdef\u001b[0m \u001b[0mDivisorEnteroDecimal\u001b[0m\u001b[1;33m(\u001b[0m\u001b[0mreal\u001b[0m\u001b[1;33m)\u001b[0m\u001b[1;33m:\u001b[0m \u001b[1;31m#Halla d\u00f3nde est\u00e1 el punto y luego divide el n\u00famero en parte entera y parte decimal, convertidos en binario\u001b[0m\u001b[1;33m\u001b[0m\u001b[0m\n\u001b[0;32m      2\u001b[0m     \u001b[0mreal\u001b[0m \u001b[1;33m=\u001b[0m \u001b[0mstr\u001b[0m\u001b[1;33m(\u001b[0m\u001b[0mabs\u001b[0m\u001b[1;33m(\u001b[0m\u001b[0mreal\u001b[0m\u001b[1;33m)\u001b[0m\u001b[1;33m)\u001b[0m \u001b[1;31m#Convierte al real en string\u001b[0m\u001b[1;33m\u001b[0m\u001b[0m\n\u001b[1;32m----> 3\u001b[1;33m     \u001b[0mposicion\u001b[0m \u001b[1;33m=\u001b[0m \u001b[0mreal\u001b[0m\u001b[1;33m.\u001b[0m\u001b[0mindex\u001b[0m\u001b[1;33m(\u001b[0m\u001b[1;34m'.'\u001b[0m\u001b[1;33m)\u001b[0m \u001b[1;31m#Busca el lugar en donde est\u00e9 el punto\u001b[0m\u001b[1;33m\u001b[0m\u001b[0m\n\u001b[0m\u001b[0;32m      4\u001b[0m     \u001b[0mentera\u001b[0m \u001b[1;33m=\u001b[0m \u001b[0mreal\u001b[0m\u001b[1;33m[\u001b[0m\u001b[1;36m0\u001b[0m\u001b[1;33m:\u001b[0m\u001b[0mposicion\u001b[0m\u001b[1;33m]\u001b[0m \u001b[1;31m#La parte entera es lo que est\u00e1 antes del punto\u001b[0m\u001b[1;33m\u001b[0m\u001b[0m\n\u001b[0;32m      5\u001b[0m     \u001b[0mdecimal\u001b[0m \u001b[1;33m=\u001b[0m \u001b[0mreal\u001b[0m\u001b[1;33m[\u001b[0m\u001b[0mposicion\u001b[0m \u001b[1;33m+\u001b[0m \u001b[1;36m1\u001b[0m\u001b[1;33m:\u001b[0m \u001b[0mlen\u001b[0m\u001b[1;33m(\u001b[0m\u001b[0mreal\u001b[0m\u001b[1;33m)\u001b[0m\u001b[1;33m]\u001b[0m \u001b[1;31m#La parte decimal es la que est\u00e1 a la izquiera del punto\u001b[0m\u001b[1;33m\u001b[0m\u001b[0m\n",
        "\u001b[1;31mValueError\u001b[0m: substring not found"
       ]
      }
     ],
     "prompt_number": 39
    },
    {
     "cell_type": "markdown",
     "metadata": {},
     "source": [
      "Parte decimal que no \"acaba\" en un decimal m\u00faltiplo de 5"
     ]
    },
    {
     "cell_type": "code",
     "collapsed": false,
     "input": [
      "1 10000010111 1000 0000 0000 0000 0000"
     ],
     "language": "python",
     "metadata": {},
     "outputs": [
      {
       "ename": "SyntaxError",
       "evalue": "invalid syntax (<ipython-input-24-c80ecc8a6730>, line 1)",
       "output_type": "pyerr",
       "traceback": [
        "\u001b[1;36m  File \u001b[1;32m\"<ipython-input-24-c80ecc8a6730>\"\u001b[1;36m, line \u001b[1;32m1\u001b[0m\n\u001b[1;33m    1 10000010111 1000 0000 0000 0000 0000\u001b[0m\n\u001b[1;37m                ^\u001b[0m\n\u001b[1;31mSyntaxError\u001b[0m\u001b[1;31m:\u001b[0m invalid syntax\n"
       ]
      }
     ],
     "prompt_number": 24
    },
    {
     "cell_type": "code",
     "collapsed": false,
     "input": [
      "len('10000000000000000000')"
     ],
     "language": "python",
     "metadata": {},
     "outputs": [
      {
       "metadata": {},
       "output_type": "pyout",
       "prompt_number": 26,
       "text": [
        "20"
       ]
      }
     ],
     "prompt_number": 26
    }
   ],
   "metadata": {}
  }
 ]
}