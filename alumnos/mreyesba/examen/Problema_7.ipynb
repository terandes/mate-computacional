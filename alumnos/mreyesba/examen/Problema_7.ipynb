{
 "metadata": {
  "name": "",
  "signature": "sha256:b84cdeae842368773fdc2f15ef84f3f622aacff4294e8c25a609cc1bb6275da6"
 },
 "nbformat": 3,
 "nbformat_minor": 0,
 "worksheets": [
  {
   "cells": [
    {
     "cell_type": "code",
     "collapsed": false,
     "input": [
      "#a) Este c\u00f3digo es calcular 11111 de dos formas diferentes que en teoria deberian de ser iguales pero resulta que no lo son para la computadora\n",
      "#b)Resulto lo que esperaba\n",
      "#c)Son SP\n",
      "#d)En este caso son DP, porque ya no se uso la funcion single"
     ],
     "language": "python",
     "metadata": {},
     "outputs": []
    }
   ],
   "metadata": {}
  }
 ]
}