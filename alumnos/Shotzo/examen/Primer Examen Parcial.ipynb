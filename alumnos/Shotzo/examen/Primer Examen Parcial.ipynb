{
 "metadata": {
  "name": "",
  "signature": "sha256:64015e10c25e680bd7233ddf44832d3a76ee87347f3aca6611879f81e306d41b"
 },
 "nbformat": 3,
 "nbformat_minor": 0,
 "worksheets": [
  {
   "cells": [
    {
     "cell_type": "code",
     "collapsed": false,
     "input": [
      "import numpy as np\n",
      "import math\n",
      "%matplotlib inline\n",
      "import matplotlib.pyplot as plt"
     ],
     "language": "python",
     "metadata": {},
     "outputs": [],
     "prompt_number": 5
    },
    {
     "cell_type": "heading",
     "level": 1,
     "metadata": {},
     "source": [
      "Examen Parcial"
     ]
    },
    {
     "cell_type": "heading",
     "level": 6,
     "metadata": {},
     "source": [
      "5 de marzo, 2015"
     ]
    },
    {
     "cell_type": "heading",
     "level": 2,
     "metadata": {},
     "source": [
      "Instrucciones"
     ]
    },
    {
     "cell_type": "markdown",
     "metadata": {},
     "source": [
      "- Crea una carpeta en tu directorio llamada `examen`.\n",
      "- Copia este examen a esa carpeta reci\u00e9n creada.\n",
      "- Copia los archivos con extensi\u00f3n `.m` de la misma manera."
     ]
    },
    {
     "cell_type": "heading",
     "level": 3,
     "metadata": {},
     "source": [
      "Definiciones"
     ]
    },
    {
     "cell_type": "markdown",
     "metadata": {},
     "source": [
      "- **Precisi\u00f3n** es el n\u00famero m\u00e1ximo de _bits_ diferentes de cero que es representable.\n",
      "- **Rango** es la diferencia entre el n\u00famero m\u00e1s negativo representable y el n\u00famero m\u00e1s positivo representable.\n",
      "- **Resoluci\u00f3n** es la magnitud m\u00e1s preque\u00f1a diferente de cero representable.\n",
      "- **Exactitud** es la magnitud e la m\u00e1xima diferencia entre el valor real y su representaci\u00f3n."
     ]
    },
    {
     "cell_type": "markdown",
     "metadata": {},
     "source": [
      "- Un n\u00famero $x$ en _single precision_ en el est\u00e1ndar **IEEE 754** se escribe:"
     ]
    },
    {
     "cell_type": "markdown",
     "metadata": {},
     "source": [
      "$$\n",
      "x = s 1.mmm \\ldots mmm \\times 2^{eee \\ldots eee}\n",
      "$$"
     ]
    },
    {
     "cell_type": "markdown",
     "metadata": {},
     "source": [
      "con un _bias_ de "
     ]
    },
    {
     "cell_type": "heading",
     "level": 1,
     "metadata": {},
     "source": [
      "Parte escrita"
     ]
    },
    {
     "cell_type": "heading",
     "level": 2,
     "metadata": {},
     "source": [
      "Problema 1"
     ]
    },
    {
     "cell_type": "markdown",
     "metadata": {},
     "source": [
      "* Escribir los siguientes n\u00fameros reales de manera _normalizada_"
     ]
    },
    {
     "cell_type": "markdown",
     "metadata": {},
     "source": [
      "(a) `123.45`\n",
      " \n",
      "(b) `6.3789` $\\times 10^{5}$\n",
      "\n",
      "(c) `5432.1987` $\\times 10^{3}`\n",
      "\n",
      "(d) `6.02` $\\times 10^{23}`\n",
      "\n",
      "(e) `0.000001`\n",
      "\n",
      "(f) `1.0`"
     ]
    },
    {
     "cell_type": "heading",
     "level": 2,
     "metadata": {},
     "source": [
      "Problema 2"
     ]
    },
    {
     "cell_type": "markdown",
     "metadata": {},
     "source": [
      "- Escriba los siguientes n\u00fameros en su expansi\u00f3n en base $2$ y calcule su valor en base $10$ (suponga que no est\u00e1n signados)"
     ]
    },
    {
     "cell_type": "markdown",
     "metadata": {},
     "source": [
      "(a) `1101`\n",
      "\n",
      "(b) `11010`\n",
      "\n",
      "(c) `00110011`"
     ]
    },
    {
     "cell_type": "heading",
     "level": 2,
     "metadata": {},
     "source": [
      "Problema 3"
     ]
    },
    {
     "cell_type": "markdown",
     "metadata": {},
     "source": [
      "- Escribe de forma normalizada a $y = + 1000.100111$ ."
     ]
    },
    {
     "cell_type": "markdown",
     "metadata": {},
     "source": [
      "- Escribe el mismo n\u00famero en formato **IEEE 754** en _single precision_."
     ]
    },
    {
     "cell_type": "markdown",
     "metadata": {},
     "source": [
      "- Escribe los siguientes n\u00fameros en el est\u00e1ndar **IEEE 754** a _double precision_"
     ]
    },
    {
     "cell_type": "markdown",
     "metadata": {},
     "source": [
      "(a) `1.0`\n",
      "\n",
      "(b) `1.5`\n",
      "\n",
      "(c) `-1.5`"
     ]
    },
    {
     "cell_type": "markdown",
     "metadata": {},
     "source": [
      "- \u00bfQu\u00e9 n\u00famero representa el siguiente flotante **IEEE 754** _single precision_?"
     ]
    },
    {
     "cell_type": "markdown",
     "metadata": {},
     "source": [
      "- `1 1000 0010 111 1000 0000 0000 0000 0000`"
     ]
    },
    {
     "cell_type": "heading",
     "level": 2,
     "metadata": {},
     "source": [
      "Problema 4"
     ]
    },
    {
     "cell_type": "markdown",
     "metadata": {},
     "source": [
      "* Representa $1$ en lo siguiente:\n",
      "\n",
      "    - En 8 bits con signo\n",
      "    - En 8 bits sin signo\n",
      "    - En 16 bits sin signo\n",
      "    - En 32 bits en el est\u00e1ndar **IEEE 754**\n",
      "    - En 64 bits en el est\u00e1ndar **IEEE 754**"
     ]
    },
    {
     "cell_type": "markdown",
     "metadata": {},
     "source": [
      "* Las siguientes dos cadenas binarias"
     ]
    },
    {
     "cell_type": "markdown",
     "metadata": {},
     "source": [
      "    - `0000 0000 0010 1010`\n",
      "    - `1000 0000 0010 1010`"
     ]
    },
    {
     "cell_type": "markdown",
     "metadata": {},
     "source": [
      "\u00bfQu\u00e9 n\u00famero representan s\u00ed ...\n",
      "\n",
      "    - ... son 16 bits sin signo?\n",
      "    - ... son 16 bits con signo?\n",
      "    - ... 2 cadenas de 8 bits sin signo?\n",
      "    - ... 2 cadenas de 8 bits con signo?"
     ]
    },
    {
     "cell_type": "heading",
     "level": 2,
     "metadata": {},
     "source": [
      "Problema 5"
     ]
    },
    {
     "cell_type": "heading",
     "level": 3,
     "metadata": {},
     "source": [
      "El mundo del Nintendo: 8 bits"
     ]
    },
    {
     "cell_type": "markdown",
     "metadata": {},
     "source": [
      "Supongamos que vamos a trabajar con `8 bits`"
     ]
    },
    {
     "cell_type": "markdown",
     "metadata": {},
     "source": [
      "$$\n",
      "x = \\pm 1.mmmm \\times 2^{bbb}\n",
      "$$"
     ]
    },
    {
     "cell_type": "markdown",
     "metadata": {},
     "source": [
      "donde el _bias_ $= 3$."
     ]
    },
    {
     "cell_type": "markdown",
     "metadata": {},
     "source": [
      "- \u00bfCu\u00e1l es el rango? **62**\n",
      "- \u00bfCu\u00e1l es la precisi\u00f3n? **4 bits**\n",
      "- \u00bfCu\u00e1l es la resoluci\u00f3n?  **0.125**\n",
      "- \u00bfCu\u00e1ntos b\u00ednades hay?  **6**\n",
      "- \u00bfCu\u00e1ntos n\u00fameros por b\u00ednade hay?  **6**"
     ]
    },
    {
     "cell_type": "heading",
     "level": 1,
     "metadata": {},
     "source": [
      "Computadora"
     ]
    },
    {
     "cell_type": "heading",
     "level": 2,
     "metadata": {},
     "source": [
      "Problema 6"
     ]
    },
    {
     "cell_type": "heading",
     "level": 2,
     "metadata": {},
     "source": [
      "El mundo de Nintendo: 8 bits"
     ]
    },
    {
     "cell_type": "markdown",
     "metadata": {},
     "source": [
      "* Crea un programa en `python` o `GNU Octave` imprima todos los n\u00fameros que se pueden almacenar en `8 bits` (ver ejercicio anterior). "
     ]
    },
    {
     "cell_type": "markdown",
     "metadata": {},
     "source": [
      "La tabla debe de tener el siguiente formato:"
     ]
    },
    {
     "cell_type": "markdown",
     "metadata": {},
     "source": [
      "<table>\n",
      "<tr>\n",
      "<td>representaci\u00f3n almacenada</td>\n",
      "<td>real</td>\n",
      "<td>flotante en notaci\u00f3n decimal</td>\n",
      "</tr>\n",
      "<tr>\n",
      "<td>`-15.5`</td>\n",
      "<td>`1 110 1111`</td>\n",
      "<td>$-1.9375 \\times 2^3$</td>\n",
      "</tr>\n",
      "</table>"
     ]
    },
    {
     "cell_type": "markdown",
     "metadata": {},
     "source": [
      "* Grafica el n\u00famero de d\u00edgitos en un `b\u00ednade` usando un histograma."
     ]
    },
    {
     "cell_type": "markdown",
     "metadata": {},
     "source": [
      "* Grafica en un histograma la **densidad** de d\u00edgitos que existen por cada entero."
     ]
    },
    {
     "cell_type": "code",
     "collapsed": false,
     "input": [
      "def nintendo():\n",
      "    bias=3\n",
      "    \n",
      "    exponentes=[]\n",
      "    enteros=[]\n",
      "    \n",
      "    print \"%s\\t%s\\t\\t%s\"%(\"Representaci\u00f3n almacenada\",\"Real\",\"Flotante en notaci\u00f3n decimal\")\n",
      "    \n",
      "    for a in range(0,256,1):\n",
      "    \n",
      "        bin=format(a,\"010b\")\n",
      "        bin=bin[2:]\n",
      "        \n",
      "        frac=1\n",
      "        for b in range(0,4,1):\n",
      "            frac+=int(bin[b+4])*2**(-b-1)\n",
      "        \n",
      "        exp=0\n",
      "        for c in range(0,3,1):\n",
      "            exp+=int(bin[c+1])*2**(2-c)\n",
      "        exp-=bias\n",
      "        \n",
      "        flotante=str(frac)+\" * 2^\"+str(exp)\n",
      "        dec=frac*2**(exp)*(-1)**int(bin[0])\n",
      "        print \"%s\\t\\t\\t\\t%s\\t%s\"%(dec,bin,flotante)\n",
      "        exponentes.append(exp)\n",
      "        enteros.append(int(dec))\n",
      "    \n",
      "    return exponentes, enteros"
     ],
     "language": "python",
     "metadata": {},
     "outputs": [],
     "prompt_number": 6
    },
    {
     "cell_type": "code",
     "collapsed": false,
     "input": [
      "exponentes, enteros=nintendo()"
     ],
     "language": "python",
     "metadata": {},
     "outputs": [
      {
       "output_type": "stream",
       "stream": "stdout",
       "text": [
        "Representaci\u00f3n almacenada\tReal\t\tFlotante en notaci\u00f3n decimal\n",
        "0.125\t\t\t\t00000000\t1.0 * 2^-3\n",
        "0.1328125\t\t\t\t00000001\t1.0625 * 2^-3\n",
        "0.140625\t\t\t\t00000010\t1.125 * 2^-3\n",
        "0.1484375\t\t\t\t00000011\t1.1875 * 2^-3\n",
        "0.15625\t\t\t\t00000100\t1.25 * 2^-3\n",
        "0.1640625\t\t\t\t00000101\t1.3125 * 2^-3\n",
        "0.171875\t\t\t\t00000110\t1.375 * 2^-3\n",
        "0.1796875\t\t\t\t00000111\t1.4375 * 2^-3\n",
        "0.1875\t\t\t\t00001000\t1.5 * 2^-3\n",
        "0.1953125\t\t\t\t00001001\t1.5625 * 2^-3\n",
        "0.203125\t\t\t\t00001010\t1.625 * 2^-3\n",
        "0.2109375\t\t\t\t00001011\t1.6875 * 2^-3\n",
        "0.21875\t\t\t\t00001100\t1.75 * 2^-3\n",
        "0.2265625\t\t\t\t00001101\t1.8125 * 2^-3\n",
        "0.234375\t\t\t\t00001110\t1.875 * 2^-3\n",
        "0.2421875\t\t\t\t00001111\t1.9375 * 2^-3\n",
        "0.25\t\t\t\t00010000\t1.0 * 2^-2\n",
        "0.265625\t\t\t\t00010001\t1.0625 * 2^-2\n",
        "0.28125\t\t\t\t00010010\t1.125 * 2^-2\n",
        "0.296875\t\t\t\t00010011\t1.1875 * 2^-2\n",
        "0.3125\t\t\t\t00010100\t1.25 * 2^-2\n",
        "0.328125\t\t\t\t00010101\t1.3125 * 2^-2\n",
        "0.34375\t\t\t\t00010110\t1.375 * 2^-2\n",
        "0.359375\t\t\t\t00010111\t1.4375 * 2^-2\n",
        "0.375\t\t\t\t00011000\t1.5 * 2^-2\n",
        "0.390625\t\t\t\t00011001\t1.5625 * 2^-2\n",
        "0.40625\t\t\t\t00011010\t1.625 * 2^-2\n",
        "0.421875\t\t\t\t00011011\t1.6875 * 2^-2\n",
        "0.4375\t\t\t\t00011100\t1.75 * 2^-2\n",
        "0.453125\t\t\t\t00011101\t1.8125 * 2^-2\n",
        "0.46875\t\t\t\t00011110\t1.875 * 2^-2\n",
        "0.484375\t\t\t\t00011111\t1.9375 * 2^-2\n",
        "0.5\t\t\t\t00100000\t1.0 * 2^-1\n",
        "0.53125\t\t\t\t00100001\t1.0625 * 2^-1\n",
        "0.5625\t\t\t\t00100010\t1.125 * 2^-1\n",
        "0.59375\t\t\t\t00100011\t1.1875 * 2^-1\n",
        "0.625\t\t\t\t00100100\t1.25 * 2^-1\n",
        "0.65625\t\t\t\t00100101\t1.3125 * 2^-1\n",
        "0.6875\t\t\t\t00100110\t1.375 * 2^-1\n",
        "0.71875\t\t\t\t00100111\t1.4375 * 2^-1\n",
        "0.75\t\t\t\t00101000\t1.5 * 2^-1\n",
        "0.78125\t\t\t\t00101001\t1.5625 * 2^-1\n",
        "0.8125\t\t\t\t00101010\t1.625 * 2^-1\n",
        "0.84375\t\t\t\t00101011\t1.6875 * 2^-1\n",
        "0.875\t\t\t\t00101100\t1.75 * 2^-1\n",
        "0.90625\t\t\t\t00101101\t1.8125 * 2^-1\n",
        "0.9375\t\t\t\t00101110\t1.875 * 2^-1\n",
        "0.96875\t\t\t\t00101111\t1.9375 * 2^-1\n",
        "1.0\t\t\t\t00110000\t1.0 * 2^0\n",
        "1.0625\t\t\t\t00110001\t1.0625 * 2^0\n",
        "1.125\t\t\t\t00110010\t1.125 * 2^0\n",
        "1.1875\t\t\t\t00110011\t1.1875 * 2^0\n",
        "1.25\t\t\t\t00110100\t1.25 * 2^0\n",
        "1.3125\t\t\t\t00110101\t1.3125 * 2^0\n",
        "1.375\t\t\t\t00110110\t1.375 * 2^0\n",
        "1.4375\t\t\t\t00110111\t1.4375 * 2^0\n",
        "1.5\t\t\t\t00111000\t1.5 * 2^0\n",
        "1.5625\t\t\t\t00111001\t1.5625 * 2^0\n",
        "1.625\t\t\t\t00111010\t1.625 * 2^0\n",
        "1.6875\t\t\t\t00111011\t1.6875 * 2^0\n",
        "1.75\t\t\t\t00111100\t1.75 * 2^0\n",
        "1.8125\t\t\t\t00111101\t1.8125 * 2^0\n",
        "1.875\t\t\t\t00111110\t1.875 * 2^0\n",
        "1.9375\t\t\t\t00111111\t1.9375 * 2^0\n",
        "2.0\t\t\t\t01000000\t1.0 * 2^1\n",
        "2.125\t\t\t\t01000001\t1.0625 * 2^1\n",
        "2.25\t\t\t\t01000010\t1.125 * 2^1\n",
        "2.375\t\t\t\t01000011\t1.1875 * 2^1\n",
        "2.5\t\t\t\t01000100\t1.25 * 2^1\n",
        "2.625\t\t\t\t01000101\t1.3125 * 2^1\n",
        "2.75\t\t\t\t01000110\t1.375 * 2^1\n",
        "2.875\t\t\t\t01000111\t1.4375 * 2^1\n",
        "3.0\t\t\t\t01001000\t1.5 * 2^1\n",
        "3.125\t\t\t\t01001001\t1.5625 * 2^1\n",
        "3.25\t\t\t\t01001010\t1.625 * 2^1\n",
        "3.375\t\t\t\t01001011\t1.6875 * 2^1\n",
        "3.5\t\t\t\t01001100\t1.75 * 2^1\n",
        "3.625\t\t\t\t01001101\t1.8125 * 2^1\n",
        "3.75\t\t\t\t01001110\t1.875 * 2^1\n",
        "3.875\t\t\t\t01001111\t1.9375 * 2^1\n",
        "4.0\t\t\t\t01010000\t1.0 * 2^2\n",
        "4.25\t\t\t\t01010001\t1.0625 * 2^2\n",
        "4.5\t\t\t\t01010010\t1.125 * 2^2\n",
        "4.75\t\t\t\t01010011\t1.1875 * 2^2\n",
        "5.0\t\t\t\t01010100\t1.25 * 2^2\n",
        "5.25\t\t\t\t01010101\t1.3125 * 2^2\n",
        "5.5\t\t\t\t01010110\t1.375 * 2^2\n",
        "5.75\t\t\t\t01010111\t1.4375 * 2^2\n",
        "6.0\t\t\t\t01011000\t1.5 * 2^2\n",
        "6.25\t\t\t\t01011001\t1.5625 * 2^2\n",
        "6.5\t\t\t\t01011010\t1.625 * 2^2\n",
        "6.75\t\t\t\t01011011\t1.6875 * 2^2\n",
        "7.0\t\t\t\t01011100\t1.75 * 2^2\n",
        "7.25\t\t\t\t01011101\t1.8125 * 2^2\n",
        "7.5\t\t\t\t01011110\t1.875 * 2^2\n",
        "7.75\t\t\t\t01011111\t1.9375 * 2^2\n",
        "8.0\t\t\t\t01100000\t1.0 * 2^3\n",
        "8.5\t\t\t\t01100001\t1.0625 * 2^3\n",
        "9.0\t\t\t\t01100010\t1.125 * 2^3\n",
        "9.5\t\t\t\t01100011\t1.1875 * 2^3\n",
        "10.0\t\t\t\t01100100\t1.25 * 2^3\n",
        "10.5\t\t\t\t01100101\t1.3125 * 2^3\n",
        "11.0\t\t\t\t01100110\t1.375 * 2^3\n",
        "11.5\t\t\t\t01100111\t1.4375 * 2^3\n",
        "12.0\t\t\t\t01101000\t1.5 * 2^3\n",
        "12.5\t\t\t\t01101001\t1.5625 * 2^3\n",
        "13.0\t\t\t\t01101010\t1.625 * 2^3\n",
        "13.5\t\t\t\t01101011\t1.6875 * 2^3\n",
        "14.0\t\t\t\t01101100\t1.75 * 2^3\n",
        "14.5\t\t\t\t01101101\t1.8125 * 2^3\n",
        "15.0\t\t\t\t01101110\t1.875 * 2^3\n",
        "15.5\t\t\t\t01101111\t1.9375 * 2^3\n",
        "16.0\t\t\t\t01110000\t1.0 * 2^4\n",
        "17.0\t\t\t\t01110001\t1.0625 * 2^4\n",
        "18.0\t\t\t\t01110010\t1.125 * 2^4\n",
        "19.0\t\t\t\t01110011\t1.1875 * 2^4\n",
        "20.0\t\t\t\t01110100\t1.25 * 2^4\n",
        "21.0\t\t\t\t01110101\t1.3125 * 2^4\n",
        "22.0\t\t\t\t01110110\t1.375 * 2^4\n",
        "23.0\t\t\t\t01110111\t1.4375 * 2^4\n",
        "24.0\t\t\t\t01111000\t1.5 * 2^4\n",
        "25.0\t\t\t\t01111001\t1.5625 * 2^4\n",
        "26.0\t\t\t\t01111010\t1.625 * 2^4\n",
        "27.0\t\t\t\t01111011\t1.6875 * 2^4\n",
        "28.0\t\t\t\t01111100\t1.75 * 2^4\n",
        "29.0\t\t\t\t01111101\t1.8125 * 2^4\n",
        "30.0\t\t\t\t01111110\t1.875 * 2^4\n",
        "31.0\t\t\t\t01111111\t1.9375 * 2^4\n",
        "-0.125\t\t\t\t10000000\t1.0 * 2^-3\n",
        "-0.1328125\t\t\t\t10000001\t1.0625 * 2^-3\n",
        "-0.140625\t\t\t\t10000010\t1.125 * 2^-3\n",
        "-0.1484375\t\t\t\t10000011\t1.1875 * 2^-3\n",
        "-0.15625\t\t\t\t10000100\t1.25 * 2^-3\n",
        "-0.1640625\t\t\t\t10000101\t1.3125 * 2^-3\n",
        "-0.171875\t\t\t\t10000110\t1.375 * 2^-3\n",
        "-0.1796875\t\t\t\t10000111\t1.4375 * 2^-3\n",
        "-0.1875\t\t\t\t10001000\t1.5 * 2^-3\n",
        "-0.1953125\t\t\t\t10001001\t1.5625 * 2^-3\n",
        "-0.203125\t\t\t\t10001010\t1.625 * 2^-3\n",
        "-0.2109375\t\t\t\t10001011\t1.6875 * 2^-3\n",
        "-0.21875\t\t\t\t10001100\t1.75 * 2^-3\n",
        "-0.2265625\t\t\t\t10001101\t1.8125 * 2^-3\n",
        "-0.234375\t\t\t\t10001110\t1.875 * 2^-3\n",
        "-0.2421875\t\t\t\t10001111\t1.9375 * 2^-3\n",
        "-0.25\t\t\t\t10010000\t1.0 * 2^-2\n",
        "-0.265625\t\t\t\t10010001\t1.0625 * 2^-2\n",
        "-0.28125\t\t\t\t10010010\t1.125 * 2^-2\n",
        "-0.296875\t\t\t\t10010011\t1.1875 * 2^-2\n",
        "-0.3125\t\t\t\t10010100\t1.25 * 2^-2\n",
        "-0.328125\t\t\t\t10010101\t1.3125 * 2^-2\n",
        "-0.34375\t\t\t\t10010110\t1.375 * 2^-2\n",
        "-0.359375\t\t\t\t10010111\t1.4375 * 2^-2\n",
        "-0.375\t\t\t\t10011000\t1.5 * 2^-2\n",
        "-0.390625\t\t\t\t10011001\t1.5625 * 2^-2\n",
        "-0.40625\t\t\t\t10011010\t1.625 * 2^-2\n",
        "-0.421875\t\t\t\t10011011\t1.6875 * 2^-2\n",
        "-0.4375\t\t\t\t10011100\t1.75 * 2^-2\n",
        "-0.453125\t\t\t\t10011101\t1.8125 * 2^-2\n",
        "-0.46875\t\t\t\t10011110\t1.875 * 2^-2\n",
        "-0.484375\t\t\t\t10011111\t1.9375 * 2^-2\n",
        "-0.5\t\t\t\t10100000\t1.0 * 2^-1\n",
        "-0.53125\t\t\t\t10100001\t1.0625 * 2^-1\n",
        "-0.5625\t\t\t\t10100010\t1.125 * 2^-1\n",
        "-0.59375\t\t\t\t10100011\t1.1875 * 2^-1\n",
        "-0.625\t\t\t\t10100100\t1.25 * 2^-1\n",
        "-0.65625\t\t\t\t10100101\t1.3125 * 2^-1\n",
        "-0.6875\t\t\t\t10100110\t1.375 * 2^-1\n",
        "-0.71875\t\t\t\t10100111\t1.4375 * 2^-1\n",
        "-0.75\t\t\t\t10101000\t1.5 * 2^-1\n",
        "-0.78125\t\t\t\t10101001\t1.5625 * 2^-1\n",
        "-0.8125\t\t\t\t10101010\t1.625 * 2^-1\n",
        "-0.84375\t\t\t\t10101011\t1.6875 * 2^-1\n",
        "-0.875\t\t\t\t10101100\t1.75 * 2^-1\n",
        "-0.90625\t\t\t\t10101101\t1.8125 * 2^-1\n",
        "-0.9375\t\t\t\t10101110\t1.875 * 2^-1\n",
        "-0.96875\t\t\t\t10101111\t1.9375 * 2^-1\n",
        "-1.0\t\t\t\t10110000\t1.0 * 2^0\n",
        "-1.0625\t\t\t\t10110001\t1.0625 * 2^0\n",
        "-1.125\t\t\t\t10110010\t1.125 * 2^0\n",
        "-1.1875\t\t\t\t10110011\t1.1875 * 2^0\n",
        "-1.25\t\t\t\t10110100\t1.25 * 2^0\n",
        "-1.3125\t\t\t\t10110101\t1.3125 * 2^0\n",
        "-1.375\t\t\t\t10110110\t1.375 * 2^0\n",
        "-1.4375\t\t\t\t10110111\t1.4375 * 2^0\n",
        "-1.5\t\t\t\t10111000\t1.5 * 2^0\n",
        "-1.5625\t\t\t\t10111001\t1.5625 * 2^0\n",
        "-1.625\t\t\t\t10111010\t1.625 * 2^0\n",
        "-1.6875\t\t\t\t10111011\t1.6875 * 2^0\n",
        "-1.75\t\t\t\t10111100\t1.75 * 2^0\n",
        "-1.8125\t\t\t\t10111101\t1.8125 * 2^0\n",
        "-1.875\t\t\t\t10111110\t1.875 * 2^0\n",
        "-1.9375\t\t\t\t10111111\t1.9375 * 2^0\n",
        "-2.0\t\t\t\t11000000\t1.0 * 2^1\n",
        "-2.125\t\t\t\t11000001\t1.0625 * 2^1\n",
        "-2.25\t\t\t\t11000010\t1.125 * 2^1\n",
        "-2.375\t\t\t\t11000011\t1.1875 * 2^1\n",
        "-2.5\t\t\t\t11000100\t1.25 * 2^1\n",
        "-2.625\t\t\t\t11000101\t1.3125 * 2^1\n",
        "-2.75\t\t\t\t11000110\t1.375 * 2^1\n",
        "-2.875\t\t\t\t11000111\t1.4375 * 2^1\n",
        "-3.0\t\t\t\t11001000\t1.5 * 2^1\n",
        "-3.125\t\t\t\t11001001\t1.5625 * 2^1\n",
        "-3.25\t\t\t\t11001010\t1.625 * 2^1\n",
        "-3.375\t\t\t\t11001011\t1.6875 * 2^1\n",
        "-3.5\t\t\t\t11001100\t1.75 * 2^1\n",
        "-3.625\t\t\t\t11001101\t1.8125 * 2^1\n",
        "-3.75\t\t\t\t11001110\t1.875 * 2^1\n",
        "-3.875\t\t\t\t11001111\t1.9375 * 2^1\n",
        "-4.0\t\t\t\t11010000\t1.0 * 2^2\n",
        "-4.25\t\t\t\t11010001\t1.0625 * 2^2\n",
        "-4.5\t\t\t\t11010010\t1.125 * 2^2\n",
        "-4.75\t\t\t\t11010011\t1.1875 * 2^2\n",
        "-5.0\t\t\t\t11010100\t1.25 * 2^2\n",
        "-5.25\t\t\t\t11010101\t1.3125 * 2^2\n",
        "-5.5\t\t\t\t11010110\t1.375 * 2^2\n",
        "-5.75\t\t\t\t11010111\t1.4375 * 2^2\n",
        "-6.0\t\t\t\t11011000\t1.5 * 2^2\n",
        "-6.25\t\t\t\t11011001\t1.5625 * 2^2\n",
        "-6.5\t\t\t\t11011010\t1.625 * 2^2\n",
        "-6.75\t\t\t\t11011011\t1.6875 * 2^2\n",
        "-7.0\t\t\t\t11011100\t1.75 * 2^2\n",
        "-7.25\t\t\t\t11011101\t1.8125 * 2^2\n",
        "-7.5\t\t\t\t11011110\t1.875 * 2^2\n",
        "-7.75\t\t\t\t11011111\t1.9375 * 2^2\n",
        "-8.0\t\t\t\t11100000\t1.0 * 2^3\n",
        "-8.5\t\t\t\t11100001\t1.0625 * 2^3\n",
        "-9.0\t\t\t\t11100010\t1.125 * 2^3\n",
        "-9.5\t\t\t\t11100011\t1.1875 * 2^3\n",
        "-10.0\t\t\t\t11100100\t1.25 * 2^3\n",
        "-10.5\t\t\t\t11100101\t1.3125 * 2^3\n",
        "-11.0\t\t\t\t11100110\t1.375 * 2^3\n",
        "-11.5\t\t\t\t11100111\t1.4375 * 2^3\n",
        "-12.0\t\t\t\t11101000\t1.5 * 2^3\n",
        "-12.5\t\t\t\t11101001\t1.5625 * 2^3\n",
        "-13.0\t\t\t\t11101010\t1.625 * 2^3\n",
        "-13.5\t\t\t\t11101011\t1.6875 * 2^3\n",
        "-14.0\t\t\t\t11101100\t1.75 * 2^3\n",
        "-14.5\t\t\t\t11101101\t1.8125 * 2^3\n",
        "-15.0\t\t\t\t11101110\t1.875 * 2^3\n",
        "-15.5\t\t\t\t11101111\t1.9375 * 2^3\n",
        "-16.0\t\t\t\t11110000\t1.0 * 2^4\n",
        "-17.0\t\t\t\t11110001\t1.0625 * 2^4\n",
        "-18.0\t\t\t\t11110010\t1.125 * 2^4\n",
        "-19.0\t\t\t\t11110011\t1.1875 * 2^4\n",
        "-20.0\t\t\t\t11110100\t1.25 * 2^4\n",
        "-21.0\t\t\t\t11110101\t1.3125 * 2^4\n",
        "-22.0\t\t\t\t11110110\t1.375 * 2^4\n",
        "-23.0\t\t\t\t11110111\t1.4375 * 2^4\n",
        "-24.0\t\t\t\t11111000\t1.5 * 2^4\n",
        "-25.0\t\t\t\t11111001\t1.5625 * 2^4\n",
        "-26.0\t\t\t\t11111010\t1.625 * 2^4\n",
        "-27.0\t\t\t\t11111011\t1.6875 * 2^4\n",
        "-28.0\t\t\t\t11111100\t1.75 * 2^4\n",
        "-29.0\t\t\t\t11111101\t1.8125 * 2^4\n",
        "-30.0\t\t\t\t11111110\t1.875 * 2^4\n",
        "-31.0\t\t\t\t11111111\t1.9375 * 2^4\n"
       ]
      }
     ],
     "prompt_number": 8
    },
    {
     "cell_type": "code",
     "collapsed": false,
     "input": [
      "plt.hist(exponentes,8, facecolor='b')\n",
      "plt.title('Histograma',fontsize=24)\n",
      "plt.axis([-5, 5, 0, 35])\n",
      "plt.xlabel(u'Binade',fontsize=18)\n",
      "plt.ylabel('Numero de digitos',fontsize=18)\n",
      "\n",
      "plt.grid();"
     ],
     "language": "python",
     "metadata": {},
     "outputs": [
      {
       "metadata": {},
       "output_type": "display_data",
       "png": "[encoded data removed]",
       "text": [
        "<matplotlib.figure.Figure at 0xb7674a8>"
       ]
      }
     ],
     "prompt_number": 62
    },
    {
     "cell_type": "code",
     "collapsed": false,
     "input": [
      "plt.hist(enteros,63, facecolor='b')\n",
      "plt.title('Histograma de densidad',fontsize=24)\n",
      "plt.axis([-35, 35, 0, 100])\n",
      "plt.xlabel(u'Entero',fontsize=18)\n",
      "plt.ylabel('Densidad',fontsize=18)\n",
      "plt.axis([-35, 35, 0, 100])\n",
      "\n",
      "plt.grid();"
     ],
     "language": "python",
     "metadata": {},
     "outputs": [
      {
       "metadata": {},
       "output_type": "display_data",
       "png": "[encoded data removed]",
       "text": [
        "<matplotlib.figure.Figure at 0xa477278>"
       ]
      }
     ],
     "prompt_number": 64
    },
    {
     "cell_type": "heading",
     "level": 2,
     "metadata": {},
     "source": [
      "Problema 7"
     ]
    },
    {
     "cell_type": "markdown",
     "metadata": {},
     "source": [
      "Observa el c\u00f3digo de `GNU Octave` siguiente:"
     ]
    },
    {
     "cell_type": "code",
     "collapsed": false,
     "input": [
      "!octave strange_floats_sp.m"
     ],
     "language": "python",
     "metadata": {},
     "outputs": [
      {
       "output_type": "stream",
       "stream": "stderr",
       "text": [
        "\"octave\" no se reconoce como un comando interno o externo,\n",
        "programa o archivo por lotes ejecutable.\n"
       ]
      }
     ],
     "prompt_number": 81
    },
    {
     "cell_type": "markdown",
     "metadata": {},
     "source": [
      "- \u00bfQu\u00e9 hace este c\u00f3digo? **El c\u00f3digo compara z con z1 pero como tienen precisiones diferentes, salen resultados decimales diferentes.**\n",
      "- Abre el programa `GNU Octave` y ejec\u00fatalo en la consola. \u00bfResult\u00f3 lo que esperabas? **No :(**\n",
      "- `z`,  `z1` \u00bfSon `SP` o `DP`?  **z es SP pues viene de operaciones con single, z1 es DP, porque 1.0 lo vuelve DP**"
     ]
    },
    {
     "cell_type": "markdown",
     "metadata": {},
     "source": [
      "<div class=\"alert alert-info\">\n",
      "**NOTA** `single` en `GNU Octave` y `Matlab` es la instrucci\u00f3n para indicarle al programa que trabaje en _single precision_.\n",
      "</div>"
     ]
    },
    {
     "cell_type": "markdown",
     "metadata": {},
     "source": [
      "<div class=\"alert alert-info\">\n",
      "**NOTA** Para ejecutar un _script_ en `GNU Octave` solo debes de teclear su nombre (obvio si lo tienes en tu carpeta)\n",
      "</div>"
     ]
    },
    {
     "cell_type": "markdown",
     "metadata": {},
     "source": [
      "- Comp\u00e1ralo con el _script_ `strange_floats_dp.m` \u00bfPor qu\u00e9 es la diferencia? Explica la salida de ambos programas.\n",
      "**La diferencia surge de no especificar en ning\u00fan momento que son SP entonces al realizar operaciones con puros flotantes se quedan todos en DP**"
     ]
    },
    {
     "cell_type": "code",
     "collapsed": false,
     "input": [
      "!cat strange_floats_dp.m"
     ],
     "language": "python",
     "metadata": {},
     "outputs": [
      {
       "output_type": "stream",
       "stream": "stdout",
       "text": [
        "x = 77777.0\r\n",
        "y = 7.0\r\n",
        "inv_y = 1.0 / y\r\n",
        "\r\n",
        "z = x / y\r\n",
        "z1 = x * inv_y\r\n",
        "\r\n",
        "if (z != z1)\r\n",
        "  sprintf(\"%1.3f != %1.3f\", z, z1)\r\n",
        "  sprintf(\"%1.30f != %1.30f\", z, z1)\r\n",
        "else\r\n",
        "  sprintf(\"%1.3f == %1.3f\", z, z1)\r\n",
        "  sprintf(\"%1.30f == %1.30f\", z, z1)\r\n",
        "endif\r\n"
       ]
      }
     ],
     "prompt_number": 11
    },
    {
     "cell_type": "markdown",
     "metadata": {},
     "source": [
      "- `z`,  `z1` \u00bfSon `SP` o `DP`? **Ambos son DP desde el principio pues en ning\u00fan momento se especifica que deban de ser SP**"
     ]
    },
    {
     "cell_type": "heading",
     "level": 2,
     "metadata": {},
     "source": [
      "Problema 8"
     ]
    },
    {
     "cell_type": "markdown",
     "metadata": {},
     "source": [
      "La _varianza_ de $n$ datos se define como"
     ]
    },
    {
     "cell_type": "markdown",
     "metadata": {},
     "source": [
      "$$\n",
      "s_n^2 = \\frac{1}{n - 1} \\sum^n_{i=1} (x_i - \\bar{x})^2\n",
      "$$"
     ]
    },
    {
     "cell_type": "markdown",
     "metadata": {},
     "source": [
      "donde $\\bar{x}$"
     ]
    },
    {
     "cell_type": "markdown",
     "metadata": {},
     "source": [
      "$$\n",
      "\\bar{x} = \\frac{1}{n} \\sum^n_{i = 1} x_i\n",
      "$$"
     ]
    },
    {
     "cell_type": "markdown",
     "metadata": {},
     "source": [
      "Esta definici\u00f3n es poco eficiente ya que requiere dos pasadas a los datos para calcular la _varianza_."
     ]
    },
    {
     "cell_type": "markdown",
     "metadata": {},
     "source": [
      "* Crea una funci\u00f3n an\u00f3nima en `numpy` o `GNU/Octave` que reproduzca este algoritmo."
     ]
    },
    {
     "cell_type": "code",
     "collapsed": false,
     "input": [
      "func_anonima= lambda x : (np.sum((x-((1.0/len(x)) * (np.sum(x))))**2))/(len(x)-1)"
     ],
     "language": "python",
     "metadata": {},
     "outputs": [],
     "prompt_number": 78
    },
    {
     "cell_type": "markdown",
     "metadata": {},
     "source": [
      "En los libros de texto se recomienda (o se reescribe) la definici\u00f3n de la siguiente manera:"
     ]
    },
    {
     "cell_type": "markdown",
     "metadata": {},
     "source": [
      "$$\n",
      "s_n^2 = \\frac{1}{n-1} \\left( \\sum^n_{i=1} x_i^2 -  \\frac{1}{n}\\left(\\sum^n_{i=1} x_i\\right)^2\\right)\n",
      "$$"
     ]
    },
    {
     "cell_type": "markdown",
     "metadata": {},
     "source": [
      "El cual es m\u00e1s eficiente computacionalmente hablando"
     ]
    },
    {
     "cell_type": "markdown",
     "metadata": {},
     "source": [
      "* Crea un programa en `numpy` o `GNU/Octave` que reproduzca este algoritmo."
     ]
    },
    {
     "cell_type": "code",
     "collapsed": false,
     "input": [
      "def funcion(x):\n",
      "    \n",
      "    return float((np.sum(x**2)-((np.sum(x)**2)/len(x)))/(len(x)-1))"
     ],
     "language": "python",
     "metadata": {},
     "outputs": [],
     "prompt_number": 69
    },
    {
     "cell_type": "markdown",
     "metadata": {},
     "source": [
      "* Sean los datos $10000, 10001, 10002$, Realiza el c\u00e1lculo a mano y comp\u00e1ralo con los dos algoritmos. Expl\u00edca las diferencias y el posible error."
     ]
    },
    {
     "cell_type": "code",
     "collapsed": false,
     "input": [
      "print func_anonima(np.array([10000,10001,10002])), funcion(np.array([10000,10001,10002]))"
     ],
     "language": "python",
     "metadata": {},
     "outputs": [
      {
       "output_type": "stream",
       "stream": "stdout",
       "text": [
        "1.0 1.0\n"
       ]
      }
     ],
     "prompt_number": 79
    },
    {
     "cell_type": "markdown",
     "metadata": {},
     "source": [
      "El posible error se debe a un problema entre tipos de variables ya que no puede hacer operaciones correctamente usando float e int al mismo tiempo, esto se soluciona convirtiendo todo a tipo float."
     ]
    },
    {
     "cell_type": "heading",
     "level": 2,
     "metadata": {},
     "source": [
      "Problema 9"
     ]
    },
    {
     "cell_type": "markdown",
     "metadata": {},
     "source": [
      "* Carga la funci\u00f3n `factorial` definida en el archivo `factorial.py`"
     ]
    },
    {
     "cell_type": "code",
     "collapsed": false,
     "input": [
      "%load factorial.py"
     ],
     "language": "python",
     "metadata": {},
     "outputs": [],
     "prompt_number": 74
    },
    {
     "cell_type": "code",
     "collapsed": false,
     "input": [
      "def factorial(n):\n",
      "    if n == 0:\n",
      "        return 1\n",
      "    elif n == 1:\n",
      "        return 1\n",
      "    else:\n",
      "        return factorial(n-1)*n\n"
     ],
     "language": "python",
     "metadata": {},
     "outputs": [],
     "prompt_number": 80
    },
    {
     "cell_type": "markdown",
     "metadata": {},
     "source": [
      "La serie de Maclaurin es un caso especial de la serie de Taylor de una funci\u00f3n $f$ alrededor de $0$"
     ]
    },
    {
     "cell_type": "markdown",
     "metadata": {},
     "source": [
      "$$\n",
      "f(x) = f(0) + f'(0) + \\frac{f''(0)}{2!} + \\ldots = \\sum^\\infty_{n=0}\\frac{1}{n!}f^{(n)}(0)\n",
      "$$"
     ]
    },
    {
     "cell_type": "markdown",
     "metadata": {},
     "source": [
      "En particular, la funci\u00f3n exponencial tiene la siguiente forma:"
     ]
    },
    {
     "cell_type": "markdown",
     "metadata": {},
     "source": [
      "$$\n",
      "e^x = 1 + x + \\frac{x^2}{2} + \\ldots = \\sum^\\infty_{n=0} \\frac{x^n}{n!}\n",
      "$$"
     ]
    },
    {
     "cell_type": "markdown",
     "metadata": {},
     "source": [
      "* Usando la funci\u00f3n `factorial` crea la funci\u00f3n `exp_maclaurin(x,n)`, que imprima lo siguiente:"
     ]
    },
    {
     "cell_type": "markdown",
     "metadata": {},
     "source": [
      "    print \"%12s\\t%12s\\t%12s\\t%12s\\t%20s\\t%20s\" % (\"i\", \"x\", \"x^i\", \"factorial(i)\", \"x^i/factorial(i)\", \"suma\")"
     ]
    },
    {
     "cell_type": "code",
     "collapsed": false,
     "input": [
      "def exp_maclaurin(x,n):\n",
      "    suma=0\n",
      "    print \"%12s\\t%12s\\t%12s\\t%12s\\t%20s\\t%20s\" % (\"i\", \"x\", \"x^i\", \"factorial(i)\", \"x^i/factorial(i)\", \"suma\")\n",
      "    for j in range (1,n+1):\n",
      "        suma+=(x**j/factorial(j))\n",
      "        print \"%12s\\t%12s\\t%12s\\t%12s\\t%20s\\t%20s\" % (j,x,x**j,factorial(j),float(x**j/factorial(j)),suma)\n",
      "    "
     ],
     "language": "python",
     "metadata": {},
     "outputs": [],
     "prompt_number": 95
    },
    {
     "cell_type": "code",
     "collapsed": false,
     "input": [
      "exp_maclaurin(3,10)"
     ],
     "language": "python",
     "metadata": {},
     "outputs": [
      {
       "output_type": "stream",
       "stream": "stdout",
       "text": [
        "           i\t           x\t         x^i\tfactorial(i)\t    x^i/factorial(i)\t                suma\n",
        "           1\t           3\t           3\t           1\t                 3.0\t                   3\n",
        "           2\t           3\t           9\t           2\t                 4.0\t                   7\n",
        "           3\t           3\t          27\t           6\t                 4.0\t                  11\n",
        "           4\t           3\t          81\t          24\t                 3.0\t                  14\n",
        "           5\t           3\t         243\t         120\t                 2.0\t                  16\n",
        "           6\t           3\t         729\t         720\t                 1.0\t                  17\n",
        "           7\t           3\t        2187\t        5040\t                 0.0\t                  17\n",
        "           8\t           3\t        6561\t       40320\t                 0.0\t                  17\n",
        "           9\t           3\t       19683\t      362880\t                 0.0\t                  17\n",
        "          10\t           3\t       59049\t     3628800\t                 0.0\t                  17\n"
       ]
      }
     ],
     "prompt_number": 96
    },
    {
     "cell_type": "markdown",
     "metadata": {},
     "source": [
      "* Usando la funci\u00f3n `np.exp` calcula `0`, `1`, `5.5` y `-5.5`"
     ]
    },
    {
     "cell_type": "code",
     "collapsed": false,
     "input": [
      "print (math.exp(0),math.exp(1),math.exp(5.5),math.exp(-5.5))"
     ],
     "language": "python",
     "metadata": {},
     "outputs": [
      {
       "output_type": "stream",
       "stream": "stdout",
       "text": [
        "(1.0, 2.718281828459045, 244.69193226422038, 0.004086771438464067)\n"
       ]
      }
     ],
     "prompt_number": 97
    },
    {
     "cell_type": "markdown",
     "metadata": {},
     "source": [
      "* Usando tu funci\u00f3n, calcula los mismos valores a orden 20 \u00bfEn cu\u00e1l falla? \u00bfPor qu\u00e9 crees que sea? **Falla en todos los valores menores o iguales a 1 y esto es por la definici\u00f3n de la funci\u00f3n que deber\u00eda de ser \u00fanicamente para valores mayores a 1"
     ]
    },
    {
     "cell_type": "code",
     "collapsed": false,
     "input": [
      "exp_maclaurin(0,20)"
     ],
     "language": "python",
     "metadata": {},
     "outputs": [
      {
       "output_type": "stream",
       "stream": "stdout",
       "text": [
        "           i\t           x\t         x^i\tfactorial(i)\t    x^i/factorial(i)\t                suma\n",
        "           1\t           0\t           0\t           1\t                 0.0\t                   0\n",
        "           2\t           0\t           0\t           2\t                 0.0\t                   0\n",
        "           3\t           0\t           0\t           6\t                 0.0\t                   0\n",
        "           4\t           0\t           0\t          24\t                 0.0\t                   0\n",
        "           5\t           0\t           0\t         120\t                 0.0\t                   0\n",
        "           6\t           0\t           0\t         720\t                 0.0\t                   0\n",
        "           7\t           0\t           0\t        5040\t                 0.0\t                   0\n",
        "           8\t           0\t           0\t       40320\t                 0.0\t                   0\n",
        "           9\t           0\t           0\t      362880\t                 0.0\t                   0\n",
        "          10\t           0\t           0\t     3628800\t                 0.0\t                   0\n",
        "          11\t           0\t           0\t    39916800\t                 0.0\t                   0\n",
        "          12\t           0\t           0\t   479001600\t                 0.0\t                   0\n",
        "          13\t           0\t           0\t  6227020800\t                 0.0\t                   0\n",
        "          14\t           0\t           0\t 87178291200\t                 0.0\t                   0\n",
        "          15\t           0\t           0\t1307674368000\t                 0.0\t                   0\n",
        "          16\t           0\t           0\t20922789888000\t                 0.0\t                   0\n",
        "          17\t           0\t           0\t355687428096000\t                 0.0\t                   0\n",
        "          18\t           0\t           0\t6402373705728000\t                 0.0\t                   0\n",
        "          19\t           0\t           0\t121645100408832000\t                 0.0\t                   0\n",
        "          20\t           0\t           0\t2432902008176640000\t                 0.0\t                   0\n"
       ]
      }
     ],
     "prompt_number": 102
    },
    {
     "cell_type": "code",
     "collapsed": false,
     "input": [
      "exp_maclaurin(1,20)"
     ],
     "language": "python",
     "metadata": {},
     "outputs": [
      {
       "output_type": "stream",
       "stream": "stdout",
       "text": [
        "           i\t           x\t         x^i\tfactorial(i)\t    x^i/factorial(i)\t                suma\n",
        "           1\t           1\t           1\t           1\t                 1.0\t                   1\n",
        "           2\t           1\t           1\t           2\t                 0.0\t                   1\n",
        "           3\t           1\t           1\t           6\t                 0.0\t                   1\n",
        "           4\t           1\t           1\t          24\t                 0.0\t                   1\n",
        "           5\t           1\t           1\t         120\t                 0.0\t                   1\n",
        "           6\t           1\t           1\t         720\t                 0.0\t                   1\n",
        "           7\t           1\t           1\t        5040\t                 0.0\t                   1\n",
        "           8\t           1\t           1\t       40320\t                 0.0\t                   1\n",
        "           9\t           1\t           1\t      362880\t                 0.0\t                   1\n",
        "          10\t           1\t           1\t     3628800\t                 0.0\t                   1\n",
        "          11\t           1\t           1\t    39916800\t                 0.0\t                   1\n",
        "          12\t           1\t           1\t   479001600\t                 0.0\t                   1\n",
        "          13\t           1\t           1\t  6227020800\t                 0.0\t                   1\n",
        "          14\t           1\t           1\t 87178291200\t                 0.0\t                   1\n",
        "          15\t           1\t           1\t1307674368000\t                 0.0\t                   1\n",
        "          16\t           1\t           1\t20922789888000\t                 0.0\t                   1\n",
        "          17\t           1\t           1\t355687428096000\t                 0.0\t                   1\n",
        "          18\t           1\t           1\t6402373705728000\t                 0.0\t                   1\n",
        "          19\t           1\t           1\t121645100408832000\t                 0.0\t                   1\n",
        "          20\t           1\t           1\t2432902008176640000\t                 0.0\t                   1\n"
       ]
      }
     ],
     "prompt_number": 103
    },
    {
     "cell_type": "code",
     "collapsed": false,
     "input": [
      "exp_maclaurin(5.5,20)"
     ],
     "language": "python",
     "metadata": {},
     "outputs": [
      {
       "output_type": "stream",
       "stream": "stdout",
       "text": [
        "           i\t           x\t         x^i\tfactorial(i)\t    x^i/factorial(i)\t                suma\n",
        "           1\t         5.5\t         5.5\t           1\t                 5.5\t                 5.5\n",
        "           2\t         5.5\t       30.25\t           2\t              15.125\t              20.625\n",
        "           3\t         5.5\t     166.375\t           6\t       27.7291666667\t       48.3541666667\n",
        "           4\t         5.5\t    915.0625\t          24\t       38.1276041667\t       86.4817708333\n",
        "           5\t         5.5\t  5032.84375\t         120\t       41.9403645833\t       128.422135417\n",
        "           6\t         5.5\t27680.640625\t         720\t       38.4453342014\t       166.867469618\n",
        "           7\t         5.5\t152243.523438\t        5040\t       30.2070483011\t       197.074517919\n",
        "           8\t         5.5\t837339.378906\t       40320\t        20.767345707\t       217.841863626\n",
        "           9\t         5.5\t4605366.58398\t      362880\t       12.6911557098\t       230.533019336\n",
        "          10\t         5.5\t25329516.2119\t     3628800\t       6.98013564041\t       237.513154976\n",
        "          11\t         5.5\t139312339.166\t    39916800\t        3.4900678202\t       241.003222797\n",
        "          12\t         5.5\t766217865.41\t   479001600\t       1.59961441759\t       242.602837214\n",
        "          13\t         5.5\t4214198259.76\t  6227020800\t      0.676759945905\t        243.27959716\n",
        "          14\t         5.5\t23178090428.7\t 87178291200\t      0.265869978748\t       243.545467139\n",
        "          15\t         5.5\t1.27479497358e+11\t1307674368000\t     0.0974856588744\t       243.642952798\n",
        "          16\t         5.5\t7.01137235467e+11\t20922789888000\t     0.0335106952381\t       243.676463493\n",
        "          17\t         5.5\t3.85625479507e+12\t355687428096000\t     0.0108416955182\t       243.687305188\n",
        "          18\t         5.5\t2.12094013729e+13\t6402373705728000\t    0.00331274029723\t       243.690617929\n",
        "          19\t         5.5\t1.16651707551e+14\t121645100408832000\t   0.000958951138671\t        243.69157688\n",
        "          20\t         5.5\t6.4158439153e+14\t2432902008176640000\t   0.000263711563135\t       243.691840591\n"
       ]
      }
     ],
     "prompt_number": 104
    },
    {
     "cell_type": "code",
     "collapsed": false,
     "input": [
      "exp_maclaurin(-5.5,20)"
     ],
     "language": "python",
     "metadata": {},
     "outputs": [
      {
       "output_type": "stream",
       "stream": "stdout",
       "text": [
        "           i\t           x\t         x^i\tfactorial(i)\t    x^i/factorial(i)\t                suma\n",
        "           1\t        -5.5\t        -5.5\t           1\t                -5.5\t                -5.5\n",
        "           2\t        -5.5\t       30.25\t           2\t              15.125\t               9.625\n",
        "           3\t        -5.5\t    -166.375\t           6\t      -27.7291666667\t      -18.1041666667\n",
        "           4\t        -5.5\t    915.0625\t          24\t       38.1276041667\t          20.0234375\n",
        "           5\t        -5.5\t -5032.84375\t         120\t      -41.9403645833\t      -21.9169270833\n",
        "           6\t        -5.5\t27680.640625\t         720\t       38.4453342014\t       16.5284071181\n",
        "           7\t        -5.5\t-152243.523438\t        5040\t      -30.2070483011\t       -13.678641183\n",
        "           8\t        -5.5\t837339.378906\t       40320\t        20.767345707\t       7.08870452396\n",
        "           9\t        -5.5\t-4605366.58398\t      362880\t      -12.6911557098\t      -5.60245118587\n",
        "          10\t        -5.5\t25329516.2119\t     3628800\t       6.98013564041\t       1.37768445454\n",
        "          11\t        -5.5\t-139312339.166\t    39916800\t       -3.4900678202\t      -2.11238336566\n",
        "          12\t        -5.5\t766217865.41\t   479001600\t       1.59961441759\t     -0.512768948071\n",
        "          13\t        -5.5\t-4214198259.76\t  6227020800\t     -0.676759945905\t      -1.18952889398\n",
        "          14\t        -5.5\t23178090428.7\t 87178291200\t      0.265869978748\t     -0.923658915228\n",
        "          15\t        -5.5\t-1.27479497358e+11\t1307674368000\t    -0.0974856588744\t       -1.0211445741\n",
        "          16\t        -5.5\t7.01137235467e+11\t20922789888000\t     0.0335106952381\t     -0.987633878864\n",
        "          17\t        -5.5\t-3.85625479507e+12\t355687428096000\t    -0.0108416955182\t     -0.998475574382\n",
        "          18\t        -5.5\t2.12094013729e+13\t6402373705728000\t    0.00331274029723\t     -0.995162834085\n",
        "          19\t        -5.5\t-1.16651707551e+14\t121645100408832000\t  -0.000958951138671\t     -0.996121785224\n",
        "          20\t        -5.5\t6.4158439153e+14\t2432902008176640000\t   0.000263711563135\t     -0.995858073661\n"
       ]
      }
     ],
     "prompt_number": 105
    },
    {
     "cell_type": "markdown",
     "metadata": {},
     "source": [
      "* \u00bfC\u00f3mo resolver\u00edas este problema? Implementa tu soluci\u00f3n. **Modificando la aproximaci\u00f3n para que s\u00f3lo acepte valores mayores a 1**"
     ]
    },
    {
     "cell_type": "code",
     "collapsed": false,
     "input": [
      "def exp_maclaurin(x,n):\n",
      "    suma=0\n",
      "    if (x >1):\n",
      "        print \"%12s\\t%12s\\t%12s\\t%12s\\t%20s\\t%20s\" % (\"i\", \"x\", \"x^i\", \"factorial(i)\", \"x^i/factorial(i)\", \"suma\")\n",
      "        for j in range (1,n+1):\n",
      "            suma+=(x**j/factorial(j))\n",
      "            print \"%12s\\t%12s\\t%12s\\t%12s\\t%20s\\t%20s\" % (j,x,x**j,factorial(j),float(x**j/factorial(j)),suma)\n",
      "    else:\n",
      "        print (\"El elemento no est\u00e1 en el dominio, favor de ingresar un valor mayor a 1.\")"
     ],
     "language": "python",
     "metadata": {},
     "outputs": [],
     "prompt_number": 106
    },
    {
     "cell_type": "markdown",
     "metadata": {},
     "source": [
      "<div class=\"alert alert-info\">\n",
      "**HINT** Recuerda las leyes de los exponentes\n",
      "</div>"
     ]
    },
    {
     "cell_type": "heading",
     "level": 2,
     "metadata": {},
     "source": [
      "Problema 10"
     ]
    },
    {
     "cell_type": "markdown",
     "metadata": {},
     "source": [
      "- En el **problama 8** \u00bfQu\u00e9 pasa si usas 16 bits, 32 bits o 64 bits? **Si se usan 16 bits se pierde precisi\u00f3n muy r\u00e1pidamente y eso repercute en la precisi\u00f3n del c\u00e1lculo, es mejor utilizar SP o a\u00fan mejor DP para tener el resultado m\u00e1s fiel**\n",
      "- Implementa el **problema 8** usando el otro lenguaje que no usaste \u00bfEl resultado es diferente? "
     ]
    },
    {
     "cell_type": "markdown",
     "metadata": {},
     "source": [
      "**Ya no me di\u00f3 tiempo, tengo que irme a clase :(**"
     ]
    },
    {
     "cell_type": "code",
     "collapsed": false,
     "input": [],
     "language": "python",
     "metadata": {},
     "outputs": []
    }
   ],
   "metadata": {}
  }
 ]
}