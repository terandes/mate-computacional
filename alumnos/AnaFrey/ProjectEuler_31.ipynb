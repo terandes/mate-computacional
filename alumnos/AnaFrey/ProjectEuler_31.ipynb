{
 "metadata": {
  "name": "",
  "signature": "sha256:065eb6851b976c2a5f866608e607f30b5b6a58827e6173d9da0b9c059641f69a"
 },
 "nbformat": 3,
 "nbformat_minor": 0,
 "worksheets": [
  {
   "cells": [
    {
     "cell_type": "code",
     "collapsed": false,
     "input": [
      "  "
     ],
     "language": "python",
     "metadata": {},
     "outputs": []
    },
    {
     "cell_type": "code",
     "collapsed": false,
     "input": [],
     "language": "python",
     "metadata": {},
     "outputs": []
    },
    {
     "cell_type": "code",
     "collapsed": false,
     "input": [
      "suma=0\n",
      "#lista con unos\n",
      "lis1=[i for i in range(0, 201)]\n",
      "#lista de 2\n",
      "lis2=[i for i in range(0, 201) if i%2==0]\n",
      "#lista con 5\n",
      "lis5=[i for i in range(0, 201) if i%5==0]\n",
      "#lista con 10\n",
      "lis10=[i for i in range(0, 201) if i%10==0]\n",
      "#lista con 20\n",
      "lis20=[i for i in range(0, 201) if i %20==0]\n",
      "#lista con 50\n",
      "lis50=[i for i in range(0,201) if i % 50==0]\n",
      "#lista con 100\n",
      "lis100=[0, 100, 200]\n",
      "#lista con 200\n",
      "lis200=[0, 200]\n",
      "for i in lis1:\n",
      "    for j in lis2:\n",
      "        for k in lis5:\n",
      "            for l in lis10:\n",
      "                for m in lis20:\n",
      "                    for n in lis50:\n",
      "                        for o in lis100:\n",
      "                            for p in lis200:\n",
      "                                if 200== i + j + k + l + m + n + o + p :                                \n",
      "                                    suma=suma+1\n",
      "print suma"
     ],
     "language": "python",
     "metadata": {},
     "outputs": []
    },
    {
     "cell_type": "code",
     "collapsed": false,
     "input": [],
     "language": "python",
     "metadata": {},
     "outputs": []
    }
   ],
   "metadata": {}
  }
 ]
}