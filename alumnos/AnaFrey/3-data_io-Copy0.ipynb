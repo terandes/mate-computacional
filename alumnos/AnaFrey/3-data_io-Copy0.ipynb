{
 "metadata": {
  "name": "",
  "signature": "sha256:d353b7c487f61b98214874e3ebf4af2226dd0ecd2f85e0bb73448f354e81b5cf"
 },
 "nbformat": 3,
 "nbformat_minor": 0,
 "worksheets": [
  {
   "cells": [
    {
     "cell_type": "heading",
     "level": 2,
     "metadata": {},
     "source": [
      "Introducci\u00f3n"
     ]
    },
    {
     "cell_type": "markdown",
     "metadata": {},
     "source": [
      "- **I/O** significa _input/output_. \n",
      "- Escribir y leer datos desde archivos u otras fuentes, es fundamental en la programaci\u00f3n, y m\u00e1s a\u00fan en programaci\u00f3n cient\u00edfica.\n"
     ]
    },
    {
     "cell_type": "heading",
     "level": 2,
     "metadata": {},
     "source": [
      "Leer archivos"
     ]
    },
    {
     "cell_type": "code",
     "collapsed": false,
     "input": [
      "%%file inout.dat\n",
      "Hola, desde el archivo\n",
      "Este es un archivo de texto\n",
      "Escrito en ASCII"
     ],
     "language": "python",
     "metadata": {},
     "outputs": [
      {
       "output_type": "stream",
       "stream": "stdout",
       "text": [
        "Writing inout.dat\n"
       ]
      }
     ],
     "prompt_number": 1
    },
    {
     "cell_type": "markdown",
     "metadata": {},
     "source": [
      "Lee el archivo de una sola pasada"
     ]
    },
    {
     "cell_type": "code",
     "collapsed": false,
     "input": [
      "archivo = open('inout.dat')\n",
      "print archivo.read()\n",
      "archivo.close()"
     ],
     "language": "python",
     "metadata": {},
     "outputs": [
      {
       "output_type": "stream",
       "stream": "stdout",
       "text": [
        "Hola, desde el archivo\n",
        "Este es un archivo de texto\n",
        "Escrito en ASCII\n"
       ]
      }
     ],
     "prompt_number": 2
    },
    {
     "cell_type": "markdown",
     "metadata": {},
     "source": [
      "L\u00ednea por l\u00ednea"
     ]
    },
    {
     "cell_type": "code",
     "collapsed": false,
     "input": [
      "archivo = open('inout.dat')\n",
      "print archivo.readlines()\n",
      "archivo.close()"
     ],
     "language": "python",
     "metadata": {},
     "outputs": [
      {
       "output_type": "stream",
       "stream": "stdout",
       "text": [
        "['Hola, desde el archivo\\n', 'Este es un archivo de texto\\n', 'Escrito en ASCII']\n"
       ]
      }
     ],
     "prompt_number": 3
    },
    {
     "cell_type": "markdown",
     "metadata": {},
     "source": [
      "Otra manera"
     ]
    },
    {
     "cell_type": "code",
     "collapsed": false,
     "input": [
      "for line in open('inout.dat'):\n",
      "    print line.split()"
     ],
     "language": "python",
     "metadata": {},
     "outputs": [
      {
       "output_type": "stream",
       "stream": "stdout",
       "text": [
        "['Hola,', 'desde', 'el', 'archivo']\n",
        "['Este', 'es', 'un', 'archivo', 'de', 'texto']\n",
        "['Escrito', 'en', 'ASCII']\n"
       ]
      }
     ],
     "prompt_number": 4
    },
    {
     "cell_type": "heading",
     "level": 2,
     "metadata": {},
     "source": [
      "Escribir archivos"
     ]
    },
    {
     "cell_type": "markdown",
     "metadata": {},
     "source": [
      "`write()` es lo contrario a `read()` (\u00a1Vaya sorpresa!)"
     ]
    },
    {
     "cell_type": "code",
     "collapsed": false,
     "input": [
      "contents = open('inout.dat').read()\n",
      "out = open('my_output.dat', 'w')\n",
      "out.write(contents.replace(' ', '_'))\n",
      "out.close()"
     ],
     "language": "python",
     "metadata": {},
     "outputs": [],
     "prompt_number": 5
    },
    {
     "cell_type": "code",
     "collapsed": false,
     "input": [
      "!cat my_output.dat"
     ],
     "language": "python",
     "metadata": {},
     "outputs": [
      {
       "output_type": "stream",
       "stream": "stdout",
       "text": [
        "Hola,_desde_el_archivo\r\n",
        "Este_es_un_archivo_de_texto\r\n",
        "Escrito_en_ASCII"
       ]
      }
     ],
     "prompt_number": 6
    },
    {
     "cell_type": "markdown",
     "metadata": {},
     "source": [
      "<div class=\"alert alert-info\">\n",
      "**Ejercicio** Cambia la segunda l\u00ednea del archivo a _\u00bfC\u00f3mo has estado?_ \u00bfQu\u00e9 sucede?\n",
      "</div>"
     ]
    },
    {
     "cell_type": "code",
     "collapsed": false,
     "input": [
      "arch = open('inout.dat').read()\n"
     ],
     "language": "python",
     "metadata": {},
     "outputs": []
    },
    {
     "cell_type": "markdown",
     "metadata": {},
     "source": [
      "<div class=\"alert alert-info\">\n",
      "**Ejercicio** Escribe un archivo `CSV`. Calcula $y(x) = x^2 \\cos x$ para los valores del $x \\in {1..100}$. En la primera columna guarda $x$ y en la segunda $y(x)$.\n",
      "</div>"
     ]
    },
    {
     "cell_type": "heading",
     "level": 2,
     "metadata": {},
     "source": [
      "Numpy I/O"
     ]
    },
    {
     "cell_type": "code",
     "collapsed": false,
     "input": [
      "%pylab inline\n",
      "import numpy as np\n",
      "import matplotlib.pyplot as plt"
     ],
     "language": "python",
     "metadata": {},
     "outputs": [
      {
       "output_type": "stream",
       "stream": "stdout",
       "text": [
        "Populating the interactive namespace from numpy and matplotlib\n"
       ]
      }
     ],
     "prompt_number": 24
    },
    {
     "cell_type": "markdown",
     "metadata": {},
     "source": [
      "- `NumPy` permite escribir y leer los arreglos a archivo de varias maneras, como **texto** o en **binario**.\n",
      "- Si escribes a un archivo usando el modo de **texto**, el n\u00famero $\\pi$, se escribir\u00e1 como $3.141592653589793$. Algo que un humano puede leer (bajo ciertas condiciones, obvio), es decir, una cadena de texto. El modo de texto, ocupa m\u00e1s espacio, la precisi\u00f3n se puede perder (no todos los d\u00edgitos se escribir\u00e1n al disco), pero puede ser editada a mano. Si guardas un arreglo, s\u00f3lo se pueden guardar arreglos bidimensionales.\n",
      "- En cambio, si usas el modo **binario** para escribir a archivo, se escribir\u00e1 como una cadena de 8 bytes que ser\u00e1 id\u00e9ntica a como se guarda en la memoria de la computadora. Sus \u00fanicas desventaja es que no puede ser editado a mano y que es dependiente de `NumPy` (no puede ser le\u00eddo por otro programa, sin un convertidor)."
     ]
    },
    {
     "cell_type": "heading",
     "level": 2,
     "metadata": {},
     "source": [
      "Modo Texto"
     ]
    },
    {
     "cell_type": "code",
     "collapsed": false,
     "input": [
      "arr = np.arange(10).reshape(2, 5)\n",
      "np.savetxt('test.out', arr, fmt='%.2e', header=\"My dataset\")\n",
      "!cat test.out"
     ],
     "language": "python",
     "metadata": {},
     "outputs": [
      {
       "output_type": "stream",
       "stream": "stdout",
       "text": [
        "# My dataset\r\n",
        "0.00e+00 1.00e+00 2.00e+00 3.00e+00 4.00e+00\r\n",
        "5.00e+00 6.00e+00 7.00e+00 8.00e+00 9.00e+00\r\n"
       ]
      }
     ],
     "prompt_number": 26
    },
    {
     "cell_type": "code",
     "collapsed": false,
     "input": [
      "DataIn = np.loadtxt('test.out')\n",
      "print DataIn.shape\n",
      "print DataIn"
     ],
     "language": "python",
     "metadata": {},
     "outputs": [
      {
       "output_type": "stream",
       "stream": "stdout",
       "text": [
        "(2, 5)\n",
        "[[ 0.  1.  2.  3.  4.]\n",
        " [ 5.  6.  7.  8.  9.]]\n"
       ]
      }
     ],
     "prompt_number": 27
    },
    {
     "cell_type": "code",
     "collapsed": false,
     "input": [
      "print DataIn[1,:]"
     ],
     "language": "python",
     "metadata": {},
     "outputs": []
    },
    {
     "cell_type": "heading",
     "level": 4,
     "metadata": {},
     "source": [
      "Leyendo archivos CSV"
     ]
    },
    {
     "cell_type": "code",
     "collapsed": false,
     "input": [
      "%%file input.csv\n",
      "# Mis datos de ejemplo\n",
      "    0.0,  1.1,  0.1\n",
      "    2.0,  1.9,  0.2\n",
      "    4.0,  3.2,  0.1\n",
      "    6.0,  4.0,  0.3\n",
      "    8.0,  5.9,  0.3"
     ],
     "language": "python",
     "metadata": {},
     "outputs": []
    },
    {
     "cell_type": "code",
     "collapsed": false,
     "input": [
      "!cat input.csv"
     ],
     "language": "python",
     "metadata": {},
     "outputs": []
    },
    {
     "cell_type": "code",
     "collapsed": false,
     "input": [
      "x, y = np.loadtxt('input.csv',unpack=True, delimiter=',', usecols=[0,1])\n",
      "print x,y"
     ],
     "language": "python",
     "metadata": {},
     "outputs": []
    },
    {
     "cell_type": "heading",
     "level": 2,
     "metadata": {},
     "source": [
      "Modo Binario"
     ]
    },
    {
     "cell_type": "markdown",
     "metadata": {},
     "source": [
      "Para guardar datos binarios, `NumPy` provee los m\u00e9todos `np.save` y `np.savez`. El primero s\u00f3lo guarda un arreglo y el archivo tendr\u00e1 la extensi\u00f3n `.npy`, mientras que el segundo se puede utilizar para guardar varios arreglos a la vez con una extensi\u00f3n `.npz`."
     ]
    },
    {
     "cell_type": "code",
     "collapsed": false,
     "input": [
      "arr2 = DataIn \n",
      "np.save('test.npy', arr2)\n",
      "# Lo leemos de nuevo\n",
      "arr2n = np.load('test.npy')\n",
      "# Veamos si hay una diferencia...\n",
      "print 'Any differences?', np.any(arr2-arr2n)"
     ],
     "language": "python",
     "metadata": {},
     "outputs": []
    },
    {
     "cell_type": "code",
     "collapsed": false,
     "input": [
      "np.savez('test.npz', arr, arr2)\n",
      "arrays = np.load('test.npz')\n",
      "arrays.files"
     ],
     "language": "python",
     "metadata": {},
     "outputs": []
    },
    {
     "cell_type": "code",
     "collapsed": false,
     "input": [
      "np.savez('test.npz', array1=arr, array2=arr2)\n",
      "arrays = np.load('test.npz')\n",
      "arrays.files"
     ],
     "language": "python",
     "metadata": {},
     "outputs": []
    },
    {
     "cell_type": "code",
     "collapsed": false,
     "input": [
      "print 'First row of first array:', arrays['array1'][0]\n",
      "# Este es una manera equivalente de obtener el primer elemento\n",
      "print 'First row of first array:', arrays.f.array1[0]"
     ],
     "language": "python",
     "metadata": {},
     "outputs": []
    },
    {
     "cell_type": "markdown",
     "metadata": {},
     "source": [
      "<div class=\"alert alert-info\">\n",
      "**Ejercicio**: <br/>\n",
      "- Crea un arreglo bidimensional con 100 elementos flotantes al azar y gu\u00e1rdalos en formato de texto. <br/>\n",
      "\n",
      "- Gu\u00e1rdalos tambi\u00e9n en formato binario. \u00bfHay alguna diferencia entre ellos? <br/>\n",
      "\n",
      "- Ahora crea un arreglo tridimensional con los elementos del 1 al 50 y gu\u00e1rdalos en formato binario \u00bfQu\u00e9 pasa si los quieres guardar en formato de texto?\n",
      "</div>"
     ]
    }
   ],
   "metadata": {}
  }
 ]
}