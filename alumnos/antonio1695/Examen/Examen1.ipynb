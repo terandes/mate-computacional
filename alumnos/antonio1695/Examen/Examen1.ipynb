{
 "metadata": {
  "name": "",
  "signature": "sha256:37c159e2c2c9c785c479a91ded8d9189412dea7015ded20b43bb81a52118aae8"
 },
 "nbformat": 3,
 "nbformat_minor": 0,
 "worksheets": [
  {
   "cells": [
    {
     "cell_type": "heading",
     "level": 1,
     "metadata": {},
     "source": [
      "Examen Parcial"
     ]
    },
    {
     "cell_type": "heading",
     "level": 1,
     "metadata": {},
     "source": [
      "5 de marzo, 2015"
     ]
    },
    {
     "cell_type": "heading",
     "level": 2,
     "metadata": {},
     "source": [
      "Instrucciones"
     ]
    },
    {
     "cell_type": "markdown",
     "metadata": {},
     "source": [
      "- Crea una carpeta en tu directorio llamada `examen`.\n",
      "- Copia este examen a esa carpeta reci\u00e9n creada.\n",
      "- Copia los archivos con extensi\u00f3n `.m` de la misma manera."
     ]
    },
    {
     "cell_type": "heading",
     "level": 3,
     "metadata": {},
     "source": [
      "Definiciones"
     ]
    },
    {
     "cell_type": "markdown",
     "metadata": {},
     "source": [
      "- **Precisi\u00f3n** es el n\u00famero m\u00e1ximo de _bits_ diferentes de cero que es representable.\n",
      "- **Rango** es la diferencia entre el n\u00famero m\u00e1s negativo representable y el n\u00famero m\u00e1s positivo representable.\n",
      "- **Resoluci\u00f3n** es la magnitud m\u00e1s preque\u00f1a diferente de cero representable.\n",
      "- **Exactitud** es la magnitud e la m\u00e1xima diferencia entre el valor real y su representaci\u00f3n."
     ]
    },
    {
     "cell_type": "markdown",
     "metadata": {},
     "source": [
      "- Un n\u00famero $x$ en _single precision_ en el est\u00e1ndar **IEEE 754** se escribe:"
     ]
    },
    {
     "cell_type": "markdown",
     "metadata": {},
     "source": [
      "$$\n",
      "x = s 1.mmm \\ldots mmm \\times 2^{mmm \\ldots mmm}\n",
      "$$"
     ]
    },
    {
     "cell_type": "markdown",
     "metadata": {},
     "source": [
      "con un _bias_ de "
     ]
    },
    {
     "cell_type": "heading",
     "level": 1,
     "metadata": {},
     "source": [
      "Parte escrita"
     ]
    },
    {
     "cell_type": "heading",
     "level": 2,
     "metadata": {},
     "source": [
      "Problema 1"
     ]
    },
    {
     "cell_type": "code",
     "collapsed": false,
     "input": [
      "import numpy as np"
     ],
     "language": "python",
     "metadata": {},
     "outputs": [],
     "prompt_number": 15
    },
    {
     "cell_type": "markdown",
     "metadata": {},
     "source": [
      "* Escribir los siguientes n\u00fameros reales de manera _normalizada_"
     ]
    },
    {
     "cell_type": "markdown",
     "metadata": {},
     "source": [
      "    - $123.45$\n",
      "    - $6.3789 \\times 10^{5}$\n",
      "    - $5432.1987 \\times 10^{3}$\n",
      "    - $6.02 \\times 10^{23}$\n",
      "    - $0.000001$\n",
      "    - $1.0$"
     ]
    },
    {
     "cell_type": "code",
     "collapsed": false,
     "input": [],
     "language": "python",
     "metadata": {},
     "outputs": [
      {
       "ename": "SyntaxError",
       "evalue": "unexpected character after line continuation character (<ipython-input-3-4897001bb25d>, line 1)",
       "output_type": "pyerr",
       "traceback": [
        "\u001b[1;36m  File \u001b[1;32m\"<ipython-input-3-4897001bb25d>\"\u001b[1;36m, line \u001b[1;32m1\u001b[0m\n\u001b[1;33m    5432.1987 \\times 10^{3}\u001b[0m\n\u001b[1;37m                           ^\u001b[0m\n\u001b[1;31mSyntaxError\u001b[0m\u001b[1;31m:\u001b[0m unexpected character after line continuation character\n"
       ]
      }
     ],
     "prompt_number": 3
    },
    {
     "cell_type": "heading",
     "level": 1,
     "metadata": {},
     "source": []
    },
    {
     "cell_type": "heading",
     "level": 2,
     "metadata": {},
     "source": [
      "Problema 2"
     ]
    },
    {
     "cell_type": "markdown",
     "metadata": {},
     "source": [
      "- Escriba los siguientes n\u00fameros en su expansi\u00f3n en base $2$ y calcule su valor en base $10$ (suponga que no est\u00e1n signados)"
     ]
    },
    {
     "cell_type": "markdown",
     "metadata": {},
     "source": [
      "    - `1101`\n",
      "    - `11010`\n",
      "    - `00110011`"
     ]
    },
    {
     "cell_type": "heading",
     "level": 2,
     "metadata": {},
     "source": [
      "Problema 3"
     ]
    },
    {
     "cell_type": "markdown",
     "metadata": {},
     "source": [
      "- Escribe de forma normalizada a $y = + 1000.100111$ ."
     ]
    },
    {
     "cell_type": "markdown",
     "metadata": {},
     "source": [
      "- Escribe el mismo n\u00famero en formato **IEEE 754** en _single precision_."
     ]
    },
    {
     "cell_type": "markdown",
     "metadata": {},
     "source": [
      "- Escribe los siguientes n\u00fameros en el est\u00e1ndar **IEEE 754** a _double precision_"
     ]
    },
    {
     "cell_type": "markdown",
     "metadata": {},
     "source": [
      "- `1.0`\n",
      "- `1.5`\n",
      "- `-1.5`"
     ]
    },
    {
     "cell_type": "markdown",
     "metadata": {},
     "source": [
      "- \u00bfQu\u00e9 n\u00famero representa el siguiente flotante **IEEE 754** _double precision_?"
     ]
    },
    {
     "cell_type": "markdown",
     "metadata": {},
     "source": [
      "- `1 1000 0010 111 1000 0000 0000 0000 0000`"
     ]
    },
    {
     "cell_type": "code",
     "collapsed": false,
     "input": [
      "2**7"
     ],
     "language": "python",
     "metadata": {},
     "outputs": [
      {
       "metadata": {},
       "output_type": "pyout",
       "prompt_number": 9,
       "text": [
        "128"
       ]
      }
     ],
     "prompt_number": 9
    },
    {
     "cell_type": "code",
     "collapsed": false,
     "input": [],
     "language": "python",
     "metadata": {},
     "outputs": []
    },
    {
     "cell_type": "heading",
     "level": 2,
     "metadata": {},
     "source": [
      "Problema 4"
     ]
    },
    {
     "cell_type": "markdown",
     "metadata": {},
     "source": [
      "* Representa $1$ en lo siguiente:\n",
      "\n",
      "    - En 8 bits con signo\n",
      "    - En 8 bits sin signo\n",
      "    - En 16 bits sin signo\n",
      "    - En 32 bits en el est\u00e1ndar **IEEE 754**\n",
      "    - En 64 bits en el est\u00e1ndar **IEEE 754**"
     ]
    },
    {
     "cell_type": "markdown",
     "metadata": {},
     "source": [
      "* Las siguientes dos cadenas binarias"
     ]
    },
    {
     "cell_type": "markdown",
     "metadata": {},
     "source": [
      "    - `0000 0000 0010 1010`\n",
      "    - `1000 0000 0010 1010`"
     ]
    },
    {
     "cell_type": "markdown",
     "metadata": {},
     "source": [
      "\u00bfQu\u00e9 n\u00famero representan s\u00ed ...\n",
      "\n",
      "    - ... son 16 bits sin signo?\n",
      "    - ... son 16 bits con signo?\n",
      "    - ... 2 cadenas de 8 bits sin signo?\n",
      "    - ... 2 cadenas de 8 bits con signo?"
     ]
    },
    {
     "cell_type": "heading",
     "level": 2,
     "metadata": {},
     "source": [
      "Problema 5"
     ]
    },
    {
     "cell_type": "heading",
     "level": 3,
     "metadata": {},
     "source": [
      "El mundo del Nintendo: 8 bits"
     ]
    },
    {
     "cell_type": "markdown",
     "metadata": {},
     "source": [
      "Supongamos que vamos a trabajar con `8 bits`"
     ]
    },
    {
     "cell_type": "markdown",
     "metadata": {},
     "source": [
      "$$\n",
      "x = \\pm 1.mmmm \\times 2^{bbb}\n",
      "$$"
     ]
    },
    {
     "cell_type": "markdown",
     "metadata": {},
     "source": [
      "donde el _bias_ $= 3$."
     ]
    },
    {
     "cell_type": "markdown",
     "metadata": {},
     "source": [
      "- \u00bfCu\u00e1l es el rango? \n",
      "- \u00bfCu\u00e1l es la precisi\u00f3n?\n",
      "- \u00bfCu\u00e1l es la resoluci\u00f3n?\n",
      "- \u00bfCu\u00e1ntos b\u00ednades hay?\n",
      "- \u00bfCu\u00e1ntos n\u00fameros por b\u00ednade hay?"
     ]
    },
    {
     "cell_type": "heading",
     "level": 1,
     "metadata": {},
     "source": [
      "Computadora"
     ]
    },
    {
     "cell_type": "heading",
     "level": 2,
     "metadata": {},
     "source": [
      "Problema 6"
     ]
    },
    {
     "cell_type": "heading",
     "level": 2,
     "metadata": {},
     "source": [
      "El mundo de Nintendo: 8 bits"
     ]
    },
    {
     "cell_type": "markdown",
     "metadata": {},
     "source": [
      "* Crea un programa en `python` o `GNU Octave` imprima todos los n\u00fameros que se pueden almacenar en `8 bits` (ver ejercicio anterior). "
     ]
    },
    {
     "cell_type": "markdown",
     "metadata": {},
     "source": [
      "La tabla debe de tener el siguiente formato:"
     ]
    },
    {
     "cell_type": "markdown",
     "metadata": {},
     "source": [
      "| representaci\u00f3n almacenada | real | flotante |\n",
      "|---------------------------|------|----------|"
     ]
    },
    {
     "cell_type": "markdown",
     "metadata": {},
     "source": [
      "* Grafica el n\u00famero de d\u00edgitos en un `b\u00ednade` usando un histograma."
     ]
    },
    {
     "cell_type": "markdown",
     "metadata": {},
     "source": [
      "* Grafica en un histograma la **densidad** de d\u00edgitos que existen por cada entero."
     ]
    },
    {
     "cell_type": "code",
     "collapsed": false,
     "input": [],
     "language": "python",
     "metadata": {},
     "outputs": []
    },
    {
     "cell_type": "heading",
     "level": 2,
     "metadata": {},
     "source": [
      "Problema 7"
     ]
    },
    {
     "cell_type": "markdown",
     "metadata": {},
     "source": [
      "Observa el c\u00f3digo de `GNU Octave` siguiente:"
     ]
    },
    {
     "cell_type": "code",
     "collapsed": false,
     "input": [
      "!cat strange_floats_sp.m"
     ],
     "language": "python",
     "metadata": {},
     "outputs": [
      {
       "output_type": "stream",
       "stream": "stdout",
       "text": [
        "x = single(77777.0)\r\n",
        "y = single(7.0)\r\n",
        "inv_y = 1.0 / y\r\n",
        "\r\n",
        "z = x / y\r\n",
        "z1 = x * inv_y\r\n",
        "\r\n",
        "if (z != z1)\r\n",
        "  sprintf(\"%1.3f != %1.3f\", z, z1)\r\n",
        "  sprintf(\"%1.30f != %1.30f\", z, z1)\r\n",
        "else\r\n",
        "  sprintf(\"%1.3f == %1.3f\", z, z1)\r\n",
        "  sprintf(\"%1.30f == %1.30f\", z, z1)\r\n",
        "endif\r\n"
       ]
      }
     ],
     "prompt_number": 158
    },
    {
     "cell_type": "code",
     "collapsed": false,
     "input": [
      "!octave strange_floats_sp.m"
     ],
     "language": "python",
     "metadata": {},
     "outputs": [
      {
       "output_type": "stream",
       "stream": "stdout",
       "text": [
        "GNU Octave, version 3.8.1\r\n",
        "Copyright (C) 2014 John W. Eaton and others.\r\n",
        "This is free software; see the source code for copying conditions.\r\n",
        "There is ABSOLUTELY NO WARRANTY; not even for MERCHANTABILITY or\r\n",
        "FITNESS FOR A PARTICULAR PURPOSE.  For details, type 'warranty'.\r\n",
        "\r\n",
        "Octave was configured for \"x86_64-pc-linux-gnu\".\r\n",
        "\r\n",
        "Additional information about Octave is available at http://www.octave.org.\r\n",
        "\r\n",
        "Please contribute if you find this software useful.\r\n",
        "For more information, visit http://www.octave.org/get-involved.html\r\n",
        "\r\n",
        "Read http://www.octave.org/bugs.html to learn how to submit bug reports.\r\n",
        "For information about changes from previous versions, type 'news'.\r\n",
        "\r\n"
       ]
      },
      {
       "output_type": "stream",
       "stream": "stdout",
       "text": [
        "x =  77777\r\n",
        "y =  7\r\n",
        "inv_y =  0.14286\r\n",
        "z =  11111\r\n",
        "z1 =    1.1111e+04\r\n",
        "ans = 11111.000 != 11111.001\r\n",
        "ans = 11111.000000000000000000000000000000 != 11111.000976562500000000000000000000\r\n"
       ]
      }
     ],
     "prompt_number": 157
    },
    {
     "cell_type": "markdown",
     "metadata": {},
     "source": [
      "- \u00bfQu\u00e9 hace este c\u00f3digo?\n",
      "- Abre el programa `GNU Octave` y ejec\u00fatalo en la consola. \u00bfResult\u00f3 lo que esperabas?\n",
      "- `z`,  `z1` \u00bfSon `SP` o `DP`?"
     ]
    },
    {
     "cell_type": "markdown",
     "metadata": {},
     "source": [
      "Este codigo nos instancia las variables x,y. \n",
      "Posteriormente, obtiene la inversa de y. \n",
      "Al obtenerla compara dos operaciones: La multiplicacion de x por la inversa,\n",
      "con la division de x entre y.\n",
      "Finalmente nos muestra que estas dos operaciones tienen diferencias a pesar \n",
      "de que te\u00f3ricamente son lo mismo. "
     ]
    },
    {
     "cell_type": "markdown",
     "metadata": {},
     "source": [
      "z = SP\n",
      "z1 = SP"
     ]
    },
    {
     "cell_type": "markdown",
     "metadata": {},
     "source": [
      "<div class=\"alert alert-info\">\n",
      "**NOTA** `single` en `GNU Octave` y `Matlab` es la instrucci\u00f3n para indicarle al programa que trabaje en _single precision_.\n",
      "</div>"
     ]
    },
    {
     "cell_type": "markdown",
     "metadata": {},
     "source": [
      "<div class=\"alert alert-info\">\n",
      "**NOTA** Para ejecutar un _script_ en `GNU Octave` solo debes de teclear su nombre (obvio si lo tienes en tu carpeta)\n",
      "</div>"
     ]
    },
    {
     "cell_type": "markdown",
     "metadata": {},
     "source": [
      "- Comp\u00e1ralo con el _script_ `strange_floats_dp.m` \u00bfPor qu\u00e9 es la diferencia? Explica la salida de ambos programas."
     ]
    },
    {
     "cell_type": "code",
     "collapsed": false,
     "input": [
      "La diferencia se debe a que el primer programa es en SP, lo cual reduce la precision de este mismo,\n",
      "el segundo esta en DP."
     ],
     "language": "python",
     "metadata": {},
     "outputs": []
    },
    {
     "cell_type": "code",
     "collapsed": false,
     "input": [
      "!octave strange_floats_dp.m"
     ],
     "language": "python",
     "metadata": {},
     "outputs": [
      {
       "output_type": "stream",
       "stream": "stdout",
       "text": [
        "GNU Octave, version 3.8.1\r\n",
        "Copyright (C) 2014 John W. Eaton and others.\r\n",
        "This is free software; see the source code for copying conditions.\r\n",
        "There is ABSOLUTELY NO WARRANTY; not even for MERCHANTABILITY or\r\n",
        "FITNESS FOR A PARTICULAR PURPOSE.  For details, type 'warranty'.\r\n",
        "\r\n",
        "Octave was configured for \"x86_64-pc-linux-gnu\".\r\n",
        "\r\n",
        "Additional information about Octave is available at http://www.octave.org.\r\n",
        "\r\n",
        "Please contribute if you find this software useful.\r\n",
        "For more information, visit http://www.octave.org/get-involved.html\r\n",
        "\r\n",
        "Read http://www.octave.org/bugs.html to learn how to submit bug reports.\r\n",
        "For information about changes from previous versions, type 'news'.\r\n",
        "\r\n"
       ]
      },
      {
       "output_type": "stream",
       "stream": "stdout",
       "text": [
        "x =  77777\r\n",
        "y =  7\r\n",
        "inv_y =  0.14286\r\n",
        "z =  11111\r\n",
        "z1 =  11111\r\n",
        "ans = 11111.000 == 11111.000\r\n",
        "ans = 11111.000000000000000000000000000000 == 11111.000000000000000000000000000000\r\n"
       ]
      }
     ],
     "prompt_number": 166
    },
    {
     "cell_type": "code",
     "collapsed": false,
     "input": [
      "!cat strange_floats_dp.m"
     ],
     "language": "python",
     "metadata": {},
     "outputs": [
      {
       "output_type": "stream",
       "stream": "stdout",
       "text": [
        "x = 77777.0\r\n",
        "y = 7.0\r\n",
        "inv_y = 1.0 / y\r\n",
        "\r\n",
        "z = x / y\r\n",
        "z1 = x * inv_y\r\n",
        "\r\n",
        "if (z != z1)\r\n",
        "  sprintf(\"%1.3f != %1.3f\", z, z1)\r\n",
        "  sprintf(\"%1.30f != %1.30f\", z, z1)\r\n",
        "else\r\n",
        "  sprintf(\"%1.3f == %1.3f\", z, z1)\r\n",
        "  sprintf(\"%1.30f == %1.30f\", z, z1)\r\n",
        "endif\r\n"
       ]
      }
     ],
     "prompt_number": 165
    },
    {
     "cell_type": "markdown",
     "metadata": {},
     "source": [
      "- `z`,  `z1` \u00bfSon `SP` o `DP`?"
     ]
    },
    {
     "cell_type": "code",
     "collapsed": false,
     "input": [
      "z = DP\n",
      "z1 = DP"
     ],
     "language": "python",
     "metadata": {},
     "outputs": []
    },
    {
     "cell_type": "heading",
     "level": 2,
     "metadata": {},
     "source": [
      "Problema 8"
     ]
    },
    {
     "cell_type": "markdown",
     "metadata": {},
     "source": [
      "La _varianza_ de $n$ datos se define como"
     ]
    },
    {
     "cell_type": "markdown",
     "metadata": {},
     "source": [
      "$$\n",
      "\n",
      "s_n^2 = \\frac{1}{n - 1} \\sum^n_{i=1} (x_i - \\bar{x})^2\n",
      "\n",
      "$$"
     ]
    },
    {
     "cell_type": "code",
     "collapsed": false,
     "input": [],
     "language": "python",
     "metadata": {},
     "outputs": [
      {
       "ename": "SyntaxError",
       "evalue": "invalid syntax (<ipython-input-155-a78afd1494ff>, line 1)",
       "output_type": "pyerr",
       "traceback": [
        "\u001b[1;36m  File \u001b[1;32m\"<ipython-input-155-a78afd1494ff>\"\u001b[1;36m, line \u001b[1;32m1\u001b[0m\n\u001b[1;33m    $$\u001b[0m\n\u001b[1;37m    ^\u001b[0m\n\u001b[1;31mSyntaxError\u001b[0m\u001b[1;31m:\u001b[0m invalid syntax\n"
       ]
      }
     ],
     "prompt_number": 155
    },
    {
     "cell_type": "markdown",
     "metadata": {},
     "source": [
      "donde $\\bar{x}$"
     ]
    },
    {
     "cell_type": "markdown",
     "metadata": {},
     "source": [
      "$$\n",
      "\\bar{x} = \\frac{1}{n} \\sum^n_{i = 1} x_i\n",
      "$$"
     ]
    },
    {
     "cell_type": "markdown",
     "metadata": {},
     "source": [
      "Esta definici\u00f3n es poco eficiente ya que requiere dos pasadas a los datos para calcular la _varianza_."
     ]
    },
    {
     "cell_type": "markdown",
     "metadata": {},
     "source": [
      "* Crea una funci\u00f3n an\u00f3nima en `numpy` o `GNU/Octave` que reproduzca este algoritmo."
     ]
    },
    {
     "cell_type": "markdown",
     "metadata": {},
     "source": [
      "En los libros de texto se recomienda (o se reescribe) la definici\u00f3n de la siguiente manera:"
     ]
    },
    {
     "cell_type": "markdown",
     "metadata": {},
     "source": [
      "$$\n",
      "s_n^2 = \\frac{1}{n-1} \\left( \\sum^n_{i=1} x_i^2 -  \\frac{1}{n}\\left(\\sum^n_{i=1} x_i\\right)^2\\right)\n",
      "$$"
     ]
    },
    {
     "cell_type": "code",
     "collapsed": false,
     "input": [],
     "language": "python",
     "metadata": {},
     "outputs": []
    },
    {
     "cell_type": "markdown",
     "metadata": {},
     "source": [
      "El cual es m\u00e1s eficiente computacionalmente hablando"
     ]
    },
    {
     "cell_type": "markdown",
     "metadata": {},
     "source": [
      "* Crea un programa en `numpy` o `GNU/Octave` que reproduzca este algoritmo."
     ]
    },
    {
     "cell_type": "markdown",
     "metadata": {},
     "source": [
      "* Sean los datos $10000, 10001, 10002$, Realiza el c\u00e1lculo a mano y comp\u00e1ralo con los dos algoritmos. Expl\u00edca las diferencias y el posible error."
     ]
    },
    {
     "cell_type": "code",
     "collapsed": false,
     "input": [],
     "language": "python",
     "metadata": {},
     "outputs": []
    },
    {
     "cell_type": "heading",
     "level": 2,
     "metadata": {},
     "source": [
      "Problema 9"
     ]
    },
    {
     "cell_type": "markdown",
     "metadata": {},
     "source": [
      "* Carga la funci\u00f3n `factorial` definida en el archivo `factorial.py`"
     ]
    },
    {
     "cell_type": "code",
     "collapsed": false,
     "input": [
      "%load factorial.py"
     ],
     "language": "python",
     "metadata": {},
     "outputs": [],
     "prompt_number": 10
    },
    {
     "cell_type": "code",
     "collapsed": false,
     "input": [
      "def factorial(n):\n",
      "    if n == 0:\n",
      "        return 1\n",
      "    elif n == 1:\n",
      "        return 1\n",
      "    else:\n",
      "        return factorial(n-1)*n\n"
     ],
     "language": "python",
     "metadata": {},
     "outputs": [],
     "prompt_number": 11
    },
    {
     "cell_type": "markdown",
     "metadata": {},
     "source": [
      "La serie de Maclaurin es un caso especial de la serie de Taylor de una funci\u00f3n $f$ alrededor de $0$"
     ]
    },
    {
     "cell_type": "markdown",
     "metadata": {},
     "source": [
      "$$\n",
      "f(x) = f(0) + f'(0) + \\frac{f''(0)}{2!} + \\ldots = \\sum^\\infty_{i=0}\\frac{1}{n\\!}f^{(n)}(0)\n",
      "$$"
     ]
    },
    {
     "cell_type": "markdown",
     "metadata": {},
     "source": [
      "En particular, la funci\u00f3n exponencial tiene la siguiente forma:"
     ]
    },
    {
     "cell_type": "markdown",
     "metadata": {},
     "source": [
      "$$\n",
      "e^x = 1 + x + \\frac{x^2}{2} + \\ldots = \\sum^\\infty_{i=0} \\frac{x^i}{i\\!}\n",
      "$$"
     ]
    },
    {
     "cell_type": "markdown",
     "metadata": {},
     "source": [
      "* Usando la funci\u00f3n `factorial` crea la funci\u00f3n `exp_maclaurin(x,n)`, que imprima lo siguiente:"
     ]
    },
    {
     "cell_type": "code",
     "collapsed": false,
     "input": [
      "def exp_maclaurin(x,n):\n",
      "    exp = 1 \n",
      "    print \"%12s\\t%12s\\t%12s\\t%12s\\t%20s\\t%20s\" % (\"i\", \"x\", \"x^i\", \"factorial(i)\", \"x^i/factorial(i)\", \"suma\")\n",
      "    for i in xrange(1,n+1):\n",
      "        exp +=((x**i)/factorial(i))\n",
      "        print [i,x,x**i,factorial(i),((x**i)/factorial(i)),exp]\n",
      "       \n",
      "    return exp\n",
      "    \n"
     ],
     "language": "python",
     "metadata": {},
     "outputs": [],
     "prompt_number": 144
    },
    {
     "cell_type": "markdown",
     "metadata": {},
     "source": [
      "    print \"%12s\\t%12s\\t%12s\\t%12s\\t%20s\\t%20s\" % (\"i\", \"x\", \"x^i\", \"factorial(i)\", \"x^i/factorial(i)\", \"suma\")"
     ]
    },
    {
     "cell_type": "markdown",
     "metadata": {},
     "source": [
      "* Usando la funci\u00f3n `np.exp` calcula `0`, `1`, `5.5` y `-5.5`"
     ]
    },
    {
     "cell_type": "code",
     "collapsed": false,
     "input": [
      "np.exp(0)"
     ],
     "language": "python",
     "metadata": {},
     "outputs": [
      {
       "metadata": {},
       "output_type": "pyout",
       "prompt_number": 145,
       "text": [
        "1.0"
       ]
      }
     ],
     "prompt_number": 145
    },
    {
     "cell_type": "code",
     "collapsed": false,
     "input": [
      "a = exp_maclaurin(0,20)\n",
      "a"
     ],
     "language": "python",
     "metadata": {},
     "outputs": [
      {
       "output_type": "stream",
       "stream": "stdout",
       "text": [
        "           i\t           x\t         x^i\tfactorial(i)\t    x^i/factorial(i)\t                suma\n",
        "[1, 0, 0, 1, 0, 1]\n",
        "[2, 0, 0, 2, 0, 1]\n",
        "[3, 0, 0, 6, 0, 1]\n",
        "[4, 0, 0, 24, 0, 1]\n",
        "[5, 0, 0, 120, 0, 1]\n",
        "[6, 0, 0, 720, 0, 1]\n",
        "[7, 0, 0, 5040, 0, 1]\n",
        "[8, 0, 0, 40320, 0, 1]\n",
        "[9, 0, 0, 362880, 0, 1]\n",
        "[10, 0, 0, 3628800, 0, 1]\n",
        "[11, 0, 0, 39916800, 0, 1]\n",
        "[12, 0, 0, 479001600, 0, 1]\n",
        "[13, 0, 0, 6227020800, 0, 1]\n",
        "[14, 0, 0, 87178291200, 0, 1]\n",
        "[15, 0, 0, 1307674368000, 0, 1]\n",
        "[16, 0, 0, 20922789888000, 0, 1]\n",
        "[17, 0, 0, 355687428096000, 0, 1]\n",
        "[18, 0, 0, 6402373705728000, 0, 1]\n",
        "[19, 0, 0, 121645100408832000, 0, 1]\n",
        "[20, 0, 0, 2432902008176640000, 0, 1]\n"
       ]
      },
      {
       "metadata": {},
       "output_type": "pyout",
       "prompt_number": 146,
       "text": [
        "1"
       ]
      }
     ],
     "prompt_number": 146
    },
    {
     "cell_type": "code",
     "collapsed": false,
     "input": [
      "np.exp(1)"
     ],
     "language": "python",
     "metadata": {},
     "outputs": [
      {
       "metadata": {},
       "output_type": "pyout",
       "prompt_number": 147,
       "text": [
        "2.7182818284590451"
       ]
      }
     ],
     "prompt_number": 147
    },
    {
     "cell_type": "code",
     "collapsed": false,
     "input": [
      "b = exp_maclaurin(1,20)\n",
      "b"
     ],
     "language": "python",
     "metadata": {},
     "outputs": [
      {
       "output_type": "stream",
       "stream": "stdout",
       "text": [
        "           i\t           x\t         x^i\tfactorial(i)\t    x^i/factorial(i)\t                suma\n",
        "[1, 1, 1, 1, 1, 2]\n",
        "[2, 1, 1, 2, 0, 2]\n",
        "[3, 1, 1, 6, 0, 2]\n",
        "[4, 1, 1, 24, 0, 2]\n",
        "[5, 1, 1, 120, 0, 2]\n",
        "[6, 1, 1, 720, 0, 2]\n",
        "[7, 1, 1, 5040, 0, 2]\n",
        "[8, 1, 1, 40320, 0, 2]\n",
        "[9, 1, 1, 362880, 0, 2]\n",
        "[10, 1, 1, 3628800, 0, 2]\n",
        "[11, 1, 1, 39916800, 0, 2]\n",
        "[12, 1, 1, 479001600, 0, 2]\n",
        "[13, 1, 1, 6227020800, 0, 2]\n",
        "[14, 1, 1, 87178291200, 0, 2]\n",
        "[15, 1, 1, 1307674368000, 0, 2]\n",
        "[16, 1, 1, 20922789888000, 0, 2]\n",
        "[17, 1, 1, 355687428096000, 0, 2]\n",
        "[18, 1, 1, 6402373705728000, 0, 2]\n",
        "[19, 1, 1, 121645100408832000, 0, 2]\n",
        "[20, 1, 1, 2432902008176640000, 0, 2]\n"
       ]
      },
      {
       "metadata": {},
       "output_type": "pyout",
       "prompt_number": 148,
       "text": [
        "2"
       ]
      }
     ],
     "prompt_number": 148
    },
    {
     "cell_type": "code",
     "collapsed": false,
     "input": [
      "np.exp(5.5)"
     ],
     "language": "python",
     "metadata": {},
     "outputs": [
      {
       "metadata": {},
       "output_type": "pyout",
       "prompt_number": 149,
       "text": [
        "244.69193226422038"
       ]
      }
     ],
     "prompt_number": 149
    },
    {
     "cell_type": "code",
     "collapsed": false,
     "input": [
      "c = exp_maclaurin(5.5,20)\n",
      "c"
     ],
     "language": "python",
     "metadata": {},
     "outputs": [
      {
       "output_type": "stream",
       "stream": "stdout",
       "text": [
        "           i\t           x\t         x^i\tfactorial(i)\t    x^i/factorial(i)\t                suma\n",
        "[1, 5.5, 5.5, 1, 5.5, 6.5]\n",
        "[2, 5.5, 30.25, 2, 15.125, 21.625]\n",
        "[3, 5.5, 166.375, 6, 27.729166666666668, 49.35416666666667]\n",
        "[4, 5.5, 915.0625, 24, 38.127604166666664, 87.48177083333334]\n",
        "[5, 5.5, 5032.84375, 120, 41.940364583333334, 129.42213541666666]\n",
        "[6, 5.5, 27680.640625, 720, 38.44533420138889, 167.86746961805557]\n",
        "[7, 5.5, 152243.5234375, 5040, 30.20704830109127, 198.07451791914684]\n",
        "[8, 5.5, 837339.37890625, 40320, 20.76734570700025, 218.8418636261471]\n",
        "[9, 5.5, 4605366.583984375, 362880, 12.691155709833485, 231.53301933598058]\n",
        "[10, 5.5, 25329516.211914062, 3628800, 6.980135640408417, 238.513154976389]\n",
        "[11, 5.5, 139312339.16552734, 39916800, 3.4900678202042084, 242.0032227965932]\n",
        "[12, 5.5, 766217865.4104004, 479001600, 1.5996144175935956, 243.6028372141868]\n",
        "[13, 5.5, 4214198259.757202, 6227020800, 0.6767599459049827, 244.27959716009178]\n",
        "[14, 5.5, 23178090428.66461, 87178291200, 0.2658699787483861, 244.54546713884017]\n",
        "[15, 5.5, 127479497357.65536, 1307674368000, 0.09748565887440823, 244.64295279771457]\n",
        "[16, 5.5, 701137235467.1045, 20922789888000, 0.03351069523807783, 244.67646349295265]\n",
        "[17, 5.5, 3856254795069.0747, 355687428096000, 0.01084169551820165, 244.68730518847084]\n",
        "[18, 5.5, 21209401372879.91, 6402373705728000, 0.0033127402972282817, 244.69061792876806]\n",
        "[19, 5.5, 116651707550839.52, 121645100408832000, 0.0009589511386713448, 244.69157687990673]\n",
        "[20, 5.5, 641584391529617.4, 2432902008176640000, 0.00026371156313461985, 244.69184059146986]\n"
       ]
      },
      {
       "metadata": {},
       "output_type": "pyout",
       "prompt_number": 150,
       "text": [
        "244.69184059146986"
       ]
      }
     ],
     "prompt_number": 150
    },
    {
     "cell_type": "code",
     "collapsed": false,
     "input": [
      "np.exp(-5.5)"
     ],
     "language": "python",
     "metadata": {},
     "outputs": [
      {
       "metadata": {},
       "output_type": "pyout",
       "prompt_number": 151,
       "text": [
        "0.0040867714384640666"
       ]
      }
     ],
     "prompt_number": 151
    },
    {
     "cell_type": "code",
     "collapsed": false,
     "input": [
      "d = exp_maclaurin(-5.5,20)\n",
      "d"
     ],
     "language": "python",
     "metadata": {},
     "outputs": [
      {
       "output_type": "stream",
       "stream": "stdout",
       "text": [
        "           i\t           x\t         x^i\tfactorial(i)\t    x^i/factorial(i)\t                suma\n",
        "[1, -5.5, -5.5, 1, -5.5, -4.5]\n",
        "[2, -5.5, 30.25, 2, 15.125, 10.625]\n",
        "[3, -5.5, -166.375, 6, -27.729166666666668, -17.104166666666668]\n",
        "[4, -5.5, 915.0625, 24, 38.127604166666664, 21.023437499999996]\n",
        "[5, -5.5, -5032.84375, 120, -41.940364583333334, -20.916927083333338]\n",
        "[6, -5.5, 27680.640625, 720, 38.44533420138889, 17.52840711805555]\n",
        "[7, -5.5, -152243.5234375, 5040, -30.20704830109127, -12.678641183035719]\n",
        "[8, -5.5, 837339.37890625, 40320, 20.76734570700025, 8.08870452396453]\n",
        "[9, -5.5, -4605366.583984375, 362880, -12.691155709833485, -4.602451185868954]\n",
        "[10, -5.5, 25329516.211914062, 3628800, 6.980135640408417, 2.3776844545394624]\n",
        "[11, -5.5, -139312339.16552734, 39916800, -3.4900678202042084, -1.112383365664746]\n",
        "[12, -5.5, 766217865.4104004, 479001600, 1.5996144175935956, 0.48723105192884963]\n",
        "[13, -5.5, -4214198259.757202, 6227020800, -0.6767599459049827, -0.18952889397613304]\n",
        "[14, -5.5, 23178090428.66461, 87178291200, 0.2658699787483861, 0.07634108477225304]\n",
        "[15, -5.5, -127479497357.65536, 1307674368000, -0.09748565887440823, -0.021144574102155186]\n",
        "[16, -5.5, 701137235467.1045, 20922789888000, 0.03351069523807783, 0.012366121135922642]\n",
        "[17, -5.5, -3856254795069.0747, 355687428096000, -0.01084169551820165, 0.0015244256177209918]\n",
        "[18, -5.5, 21209401372879.91, 6402373705728000, 0.0033127402972282817, 0.0048371659149492735]\n",
        "[19, -5.5, -116651707550839.52, 121645100408832000, -0.0009589511386713448, 0.0038782147762779287]\n",
        "[20, -5.5, 641584391529617.4, 2432902008176640000, 0.00026371156313461985, 0.004141926339412548]\n"
       ]
      },
      {
       "metadata": {},
       "output_type": "pyout",
       "prompt_number": 152,
       "text": [
        "0.004141926339412548"
       ]
      }
     ],
     "prompt_number": 152
    },
    {
     "cell_type": "markdown",
     "metadata": {},
     "source": [
      "* Usando tu funci\u00f3n, calcula los mismos valores a orden 20 \u00bfEn cu\u00e1l falla? \u00bfPor qu\u00e9 crees que sea?"
     ]
    },
    {
     "cell_type": "markdown",
     "metadata": {},
     "source": [
      "Falla en la exponencial de dos, esto se debe a que es los resultados de sus sumatorias \n",
      "son muy peque\u00f1as y las marca como cero."
     ]
    },
    {
     "cell_type": "markdown",
     "metadata": {},
     "source": []
    },
    {
     "cell_type": "markdown",
     "metadata": {},
     "source": [
      "* \u00bfC\u00f3mo resolver\u00edas este problema? Implementa tu soluci\u00f3n."
     ]
    },
    {
     "cell_type": "markdown",
     "metadata": {},
     "source": [
      "Buscaria la manera de cambiar la formula para el 2 (como caso espec\u00edfico)."
     ]
    },
    {
     "cell_type": "markdown",
     "metadata": {},
     "source": [
      "<div class=\"alert alert-info\">\n",
      "**HINT** Recuerda las leyes de los exponentes\n",
      "</div>"
     ]
    },
    {
     "cell_type": "heading",
     "level": 2,
     "metadata": {},
     "source": [
      "Problema 10"
     ]
    },
    {
     "cell_type": "markdown",
     "metadata": {},
     "source": [
      "- \u00bfQu\u00e9 pasa si usas 16 bits, 32 bits o 64 bits?\n",
      "- Implementa el **problema 8** usando el otro lenguaje que no usaste \u00bfEl resultado es diferente? "
     ]
    }
   ],
   "metadata": {}
  }
 ]
}