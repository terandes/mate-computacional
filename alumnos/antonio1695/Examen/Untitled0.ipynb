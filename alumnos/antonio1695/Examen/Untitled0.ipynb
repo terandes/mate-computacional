{
 "metadata": {
  "name": "",
  "signature": "sha256:c3892705a2acfc62a9f5850009abd9da21464c0621d2c19296148422509f569e"
 },
 "nbformat": 3,
 "nbformat_minor": 0,
 "worksheets": []
}