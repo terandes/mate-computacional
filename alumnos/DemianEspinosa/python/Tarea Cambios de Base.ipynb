{
 "metadata": {
  "name": "",
  "signature": "sha256:eba49663f35b60306ff3a74cdddd8d32074fd2d2f8f191849e33b50339d474ca"
 },
 "nbformat": 3,
 "nbformat_minor": 0,
 "worksheets": [
  {
   "cells": [
    {
     "cell_type": "code",
     "collapsed": false,
     "input": [
      "def binToDec(n): #Usando \n",
      "    ans = 0\n",
      "    p = 1\n",
      "    if n >= 10000000:\n",
      "        ans -= 256\n",
      "    while n > 0 :\n",
      "        if n % 2 > 0 :\n",
      "            ans += p\n",
      "        p *= 2\n",
      "        n /= 10\n",
      "    return ans"
     ],
     "language": "python",
     "metadata": {},
     "outputs": [],
     "prompt_number": 3
    },
    {
     "cell_type": "code",
     "collapsed": false,
     "input": [
      "def decToBin(n): #En los enteros no negativos\n",
      "    ans = 0\n",
      "    p = 1\n",
      "    while n > 0 :\n",
      "        if n % 2 > 0 :\n",
      "            ans += p\n",
      "        p *= 10\n",
      "        n /= 2\n",
      "    return ans"
     ],
     "language": "python",
     "metadata": {},
     "outputs": [],
     "prompt_number": 4
    },
    {
     "cell_type": "code",
     "collapsed": false,
     "input": [
      "def hexToBin(s):\n",
      "    ans = 0\n",
      "    p = 1;\n",
      "    hexx = {'0':0, '1':1, '2':2, '3':3, '4':4, '5':5, '6':6, '7':7, '8':8, '9':9, 'A':10, 'B':11, 'C':12, 'D':13, 'E':14, 'F':15}\n",
      "    for i in range (len(s) - 1, -1, -1):\n",
      "        ans += decToBin(hexx[s[i]]) * p\n",
      "        p *= 10000\n",
      "    return ans"
     ],
     "language": "python",
     "metadata": {},
     "outputs": [],
     "prompt_number": 5
    },
    {
     "cell_type": "code",
     "collapsed": false,
     "input": [
      "def binToHex(n):\n",
      "    ans = \"\"\n",
      "    hexx = [\"0\" , \"1\", \"2\", \"3\", \"4\", \"5\", \"6\", \"7\", \"8\", \"9\", \"A\", \"B\", \"C\", \"D\", \"E\", \"F\"]\n",
      "    while n > 0 :\n",
      "        ans = hexx[binToDec(n % 10000)] + ans\n",
      "        n /= 10000\n",
      "    return ans\n",
      "    "
     ],
     "language": "python",
     "metadata": {},
     "outputs": [],
     "prompt_number": 6
    },
    {
     "cell_type": "code",
     "collapsed": false,
     "input": [
      "#Algunas Pruebas de las 3 funciones pedidas\n",
      "print binToDec(1011)\n",
      "print binToDec(101111)\n",
      "print binToDec(101100)\n",
      "\n",
      "print hexToBin(\"F\")\n",
      "print hexToBin(\"1A\")\n",
      "print hexToBin(\"11\")\n",
      "\n",
      "print binToHex(1111)\n",
      "print binToHex(10000000)\n",
      "print binToHex(1010)\n",
      "\n",
      "print hexToBin(\"4947AE147AE14\")\n"
     ],
     "language": "python",
     "metadata": {},
     "outputs": [
      {
       "output_type": "stream",
       "stream": "stdout",
       "text": [
        "11\n",
        "47\n",
        "44\n",
        "1111\n",
        "11010\n",
        "10001\n",
        "F\n",
        "80\n",
        "A\n",
        "100100101000111101011100001010001111010111000010100\n"
       ]
      }
     ],
     "prompt_number": 7
    }
   ],
   "metadata": {}
  }
 ]
}