{
 "metadata": {
  "name": "",
  "signature": "sha256:2717e20568abd80359b25bccfa31eb4d233e372cdf6981c024455a2bbcadc9e4"
 },
 "nbformat": 3,
 "nbformat_minor": 0,
 "worksheets": [
  {
   "cells": [
    {
     "cell_type": "code",
     "collapsed": false,
     "input": [
      "%load_ext vimception\n",
      "%reload_ext vimception\n",
      "%vimception"
     ],
     "language": "python",
     "metadata": {},
     "outputs": []
    },
    {
     "cell_type": "code",
     "collapsed": false,
     "input": [
      "print float.hex(10.29)\n",
      "\n",
      "b = '1010' # la longitud debe ser m\u00faltiplo de 4  #queriendo el n\u00famero 1.1010 * 2^0\n",
      "print float.fromhex('0x1.' + hex(int(b, 2))[2:] + 'p+0') # normalizado\n",
      "print float.fromhex('0x0.' + hex(int(b, 2))[2:] + 'p+0') # denormalizado\n",
      "\n",
      "# int(s, b) toma el string s en la base b y te lo da como int.\n",
      "# hex toma un string binario y lo hace hexadecimal\n",
      "# para hacerlo de reversa, bin(int(str_hex, 16))"
     ],
     "language": "python",
     "metadata": {},
     "outputs": [
      {
       "output_type": "stream",
       "stream": "stdout",
       "text": [
        "0x1.4947ae147ae14p+3\n",
        "1.625\n",
        "0.625\n"
       ]
      }
     ],
     "prompt_number": 2
    }
   ],
   "metadata": {}
  }
 ]
}