{
 "metadata": {
  "name": "",
  "signature": "sha256:678cad592131b1b39c29b0bf924daf9fa9eba10abbd418c381e26e6d951dbaca"
 },
 "nbformat": 3,
 "nbformat_minor": 0,
 "worksheets": [
  {
   "cells": [
    {
     "cell_type": "heading",
     "level": 1,
     "metadata": {},
     "source": [
      "Examen Parcial"
     ]
    },
    {
     "cell_type": "code",
     "collapsed": false,
     "input": [
      "%matplotlib inline\n",
      "import numpy as np\n",
      "import matplotlib.pyplot as plt"
     ],
     "language": "python",
     "metadata": {},
     "outputs": [],
     "prompt_number": 144
    },
    {
     "cell_type": "heading",
     "level": 6,
     "metadata": {},
     "source": [
      "5 de marzo, 2015"
     ]
    },
    {
     "cell_type": "heading",
     "level": 2,
     "metadata": {},
     "source": [
      "Instrucciones"
     ]
    },
    {
     "cell_type": "markdown",
     "metadata": {},
     "source": [
      "- Crea una carpeta en tu directorio llamada `examen`.\n",
      "- Copia este examen a esa carpeta reci\u00e9n creada.\n",
      "- Copia los archivos con extensi\u00f3n `.m` de la misma manera."
     ]
    },
    {
     "cell_type": "heading",
     "level": 3,
     "metadata": {},
     "source": [
      "Definiciones"
     ]
    },
    {
     "cell_type": "markdown",
     "metadata": {},
     "source": [
      "- **Precisi\u00f3n** es el n\u00famero m\u00e1ximo de _bits_ diferentes de cero que es representable.\n",
      "- **Rango** es la diferencia entre el n\u00famero m\u00e1s negativo representable y el n\u00famero m\u00e1s positivo representable.\n",
      "- **Resoluci\u00f3n** es la magnitud m\u00e1s preque\u00f1a diferente de cero representable.\n",
      "- **Exactitud** es la magnitud e la m\u00e1xima diferencia entre el valor real y su representaci\u00f3n."
     ]
    },
    {
     "cell_type": "markdown",
     "metadata": {},
     "source": [
      "- Un n\u00famero $x$ en _single precision_ en el est\u00e1ndar **IEEE 754** se escribe:"
     ]
    },
    {
     "cell_type": "markdown",
     "metadata": {},
     "source": [
      "$$\n",
      "x = s 1.mmm \\ldots mmm \\times 2^{mmm \\ldots mmm}\n",
      "$$"
     ]
    },
    {
     "cell_type": "markdown",
     "metadata": {},
     "source": [
      "con un _bias_ de "
     ]
    },
    {
     "cell_type": "heading",
     "level": 1,
     "metadata": {},
     "source": [
      "Parte escrita"
     ]
    },
    {
     "cell_type": "heading",
     "level": 2,
     "metadata": {},
     "source": [
      "Problema 1"
     ]
    },
    {
     "cell_type": "markdown",
     "metadata": {},
     "source": [
      "* Escribir los siguientes n\u00fameros reales de manera _normalizada_"
     ]
    },
    {
     "cell_type": "markdown",
     "metadata": {},
     "source": [
      "    - $123.45$\n",
      "    - $6.3789 \\times 10^{5}$\n",
      "    - $5432.1987 \\times 10^{3}$\n",
      "    - $6.02 \\times 10^{23}$\n",
      "    - $0.000001$\n",
      "    - $1.0$"
     ]
    },
    {
     "cell_type": "heading",
     "level": 2,
     "metadata": {},
     "source": [
      "Problema 2"
     ]
    },
    {
     "cell_type": "markdown",
     "metadata": {},
     "source": [
      "- Escriba los siguientes n\u00fameros en su expansi\u00f3n en base $2$ y calcule su valor en base $10$ (suponga que no est\u00e1n signados)"
     ]
    },
    {
     "cell_type": "markdown",
     "metadata": {},
     "source": [
      "    - `1101`\n",
      "    - `11010`\n",
      "    - `00110011`"
     ]
    },
    {
     "cell_type": "heading",
     "level": 2,
     "metadata": {},
     "source": [
      "Problema 3"
     ]
    },
    {
     "cell_type": "markdown",
     "metadata": {},
     "source": [
      "- Escribe de forma normalizada a $y = + 1000.100111$ ."
     ]
    },
    {
     "cell_type": "markdown",
     "metadata": {},
     "source": [
      "- Escribe el mismo n\u00famero en formato **IEEE 754** en _single precision_."
     ]
    },
    {
     "cell_type": "markdown",
     "metadata": {},
     "source": [
      "- Escribe los siguientes n\u00fameros en el est\u00e1ndar **IEEE 754** a _double precision_"
     ]
    },
    {
     "cell_type": "markdown",
     "metadata": {},
     "source": [
      "- `1.0`\n",
      "- `1.5`\n",
      "- `-1.5`"
     ]
    },
    {
     "cell_type": "markdown",
     "metadata": {},
     "source": [
      "- \u00bfQu\u00e9 n\u00famero representa el siguiente flotante **IEEE 754** _double precision_?"
     ]
    },
    {
     "cell_type": "markdown",
     "metadata": {},
     "source": [
      "- `1 1000 0010 111 1000 0000 0000 0000 0000`"
     ]
    },
    {
     "cell_type": "heading",
     "level": 2,
     "metadata": {},
     "source": [
      "Problema 4"
     ]
    },
    {
     "cell_type": "markdown",
     "metadata": {},
     "source": [
      "* Representa $1$ en lo siguiente:\n",
      "\n",
      "    - En 8 bits con signo\n",
      "    - En 8 bits sin signo\n",
      "    - En 16 bits sin signo\n",
      "    - En 32 bits en el est\u00e1ndar **IEEE 754**\n",
      "    - En 64 bits en el est\u00e1ndar **IEEE 754**"
     ]
    },
    {
     "cell_type": "markdown",
     "metadata": {},
     "source": [
      "* Las siguientes dos cadenas binarias"
     ]
    },
    {
     "cell_type": "markdown",
     "metadata": {},
     "source": [
      "    - `0000 0000 0010 1010`\n",
      "    - `1000 0000 0010 1010`"
     ]
    },
    {
     "cell_type": "markdown",
     "metadata": {},
     "source": [
      "\u00bfQu\u00e9 n\u00famero representan s\u00ed ...\n",
      "\n",
      "    - ... son 16 bits sin signo?\n",
      "    - ... son 16 bits con signo?\n",
      "    - ... 2 cadenas de 8 bits sin signo?\n",
      "    - ... 2 cadenas de 8 bits con signo?"
     ]
    },
    {
     "cell_type": "heading",
     "level": 2,
     "metadata": {},
     "source": [
      "Problema 5"
     ]
    },
    {
     "cell_type": "heading",
     "level": 3,
     "metadata": {},
     "source": [
      "El mundo del Nintendo: 8 bits"
     ]
    },
    {
     "cell_type": "markdown",
     "metadata": {},
     "source": [
      "Supongamos que vamos a trabajar con `8 bits`"
     ]
    },
    {
     "cell_type": "markdown",
     "metadata": {},
     "source": [
      "$$\n",
      "x = \\pm 1.mmmm \\times 2^{bbb}\n",
      "$$"
     ]
    },
    {
     "cell_type": "markdown",
     "metadata": {},
     "source": [
      "donde el _bias_ $= 3$."
     ]
    },
    {
     "cell_type": "markdown",
     "metadata": {},
     "source": [
      "- \u00bfCu\u00e1l es el rango? \n",
      "- \u00bfCu\u00e1l es la precisi\u00f3n?\n",
      "- \u00bfCu\u00e1l es la resoluci\u00f3n?\n",
      "- \u00bfCu\u00e1ntos b\u00ednades hay?\n",
      "- \u00bfCu\u00e1ntos n\u00fameros por b\u00ednade hay?"
     ]
    },
    {
     "cell_type": "heading",
     "level": 1,
     "metadata": {},
     "source": [
      "Computadora"
     ]
    },
    {
     "cell_type": "heading",
     "level": 2,
     "metadata": {},
     "source": [
      "Problema 6"
     ]
    },
    {
     "cell_type": "heading",
     "level": 2,
     "metadata": {},
     "source": [
      "El mundo de Nintendo: 8 bits"
     ]
    },
    {
     "cell_type": "markdown",
     "metadata": {},
     "source": [
      "* Crea un programa en `python` o `GNU Octave` imprima todos los n\u00fameros que se pueden almacenar en `8 bits` (ver ejercicio anterior). "
     ]
    },
    {
     "cell_type": "markdown",
     "metadata": {},
     "source": [
      "La tabla debe de tener el siguiente formato:"
     ]
    },
    {
     "cell_type": "markdown",
     "metadata": {},
     "source": [
      "| representaci\u00f3n almacenada | real | flotante |\n",
      "|---------------------------|------|----------|"
     ]
    },
    {
     "cell_type": "code",
     "collapsed": false,
     "input": [
      "import numpy as np"
     ],
     "language": "python",
     "metadata": {},
     "outputs": [],
     "prompt_number": 163
    },
    {
     "cell_type": "code",
     "collapsed": false,
     "input": [
      "def decToBin(n): #En los enteros no negativos\n",
      "    ans = 0\n",
      "    p = 1\n",
      "    while n > 0 :\n",
      "        if n % 2 > 0 :\n",
      "            ans += p\n",
      "        p *= 10\n",
      "        n /= 2\n",
      "    ans = str(ans)\n",
      "    while len(ans) % 4 != 0:\n",
      "        ans = '0' + ans\n",
      "    \n",
      "    return ans"
     ],
     "language": "python",
     "metadata": {},
     "outputs": [],
     "prompt_number": 164
    },
    {
     "cell_type": "code",
     "collapsed": false,
     "input": [
      "def smeIEEE(s,m,e):\n",
      "    return str(s) + '  ' + str(decToBin(m)) + '  ' + str(decToBin(e))[1:4]"
     ],
     "language": "python",
     "metadata": {},
     "outputs": [],
     "prompt_number": 165
    },
    {
     "cell_type": "code",
     "collapsed": false,
     "input": [
      "def smefloat(s,m,e):\n",
      "    fl = 0.0\n",
      "    n = int(decToBin(m))\n",
      "    for i in range(4):\n",
      "        if n % 10 == 1:\n",
      "            fl += 1.0/(2 ** (i + 1))\n",
      "        n /= 10\n",
      "    return ('-' if s == 1 else '') +  str(1 + fl) + ' x 2 ^ ' + str(e - 3)  "
     ],
     "language": "python",
     "metadata": {},
     "outputs": [],
     "prompt_number": 166
    },
    {
     "cell_type": "code",
     "collapsed": false,
     "input": [
      "def smereal(s,m,e):\n",
      "    fl = 0.0\n",
      "    n = int(decToBin(m))\n",
      "    for i in range(4):\n",
      "        if n % 10 == 1:\n",
      "            fl += 1.0/(2 ** (i + 1))\n",
      "        n /= 10\n",
      "    return ((-1) ** s) * (1 + fl) * (2 ** (e - 3))\n",
      "    "
     ],
     "language": "python",
     "metadata": {},
     "outputs": [],
     "prompt_number": 167
    },
    {
     "cell_type": "code",
     "collapsed": false,
     "input": [
      "print 'representaci\u00f3n almacenada\\treal\\tflotante'\n",
      "#Hay que calar todos los signos, mantisas y exponentesi\n",
      "bins = np.zeros((8,)) #lo usar\u00e9 para contar los d\u00edgitos en los b\u00ednades\n",
      "dens = np.zeros((8,)) #lo usar\u00e9 para el histograma de densidad\n",
      "for s in range(2):\n",
      "    for m in range(16):\n",
      "        for e in range(8):\n",
      "            print smeIEEE(s,m,e) + '\\t\\t\\t' + str(smereal(s,m,e)) + '\\t' + smefloat(s,m,e)\n",
      "            bins[e] += 1"
     ],
     "language": "python",
     "metadata": {},
     "outputs": [
      {
       "output_type": "stream",
       "stream": "stdout",
       "text": [
        "representaci\u00f3n almacenada\treal\tflotante\n",
        "0  0000  000\t\t\t0.125\t1.0 x 2 ^ -3\n",
        "0  0000  001\t\t\t0.25\t1.0 x 2 ^ -2\n",
        "0  0000  010\t\t\t0.5\t1.0 x 2 ^ -1\n",
        "0  0000  011\t\t\t1.0\t1.0 x 2 ^ 0\n",
        "0  0000  100\t\t\t2.0\t1.0 x 2 ^ 1\n",
        "0  0000  101\t\t\t4.0\t1.0 x 2 ^ 2\n",
        "0  0000  110\t\t\t8.0\t1.0 x 2 ^ 3\n",
        "0  0000  111\t\t\t16.0\t1.0 x 2 ^ 4\n",
        "0  0001  000\t\t\t0.1875\t1.5 x 2 ^ -3\n",
        "0  0001  001\t\t\t0.375\t1.5 x 2 ^ -2\n",
        "0  0001  010\t\t\t0.75\t1.5 x 2 ^ -1\n",
        "0  0001  011\t\t\t1.5\t1.5 x 2 ^ 0\n",
        "0  0001  100\t\t\t3.0\t1.5 x 2 ^ 1\n",
        "0  0001  101\t\t\t6.0\t1.5 x 2 ^ 2\n",
        "0  0001  110\t\t\t12.0\t1.5 x 2 ^ 3\n",
        "0  0001  111\t\t\t24.0\t1.5 x 2 ^ 4\n",
        "0  0010  000\t\t\t0.15625\t1.25 x 2 ^ -3\n",
        "0  0010  001\t\t\t0.3125\t1.25 x 2 ^ -2\n",
        "0  0010  010\t\t\t0.625\t1.25 x 2 ^ -1\n",
        "0  0010  011\t\t\t1.25\t1.25 x 2 ^ 0\n",
        "0  0010  100\t\t\t2.5\t1.25 x 2 ^ 1\n",
        "0  0010  101\t\t\t5.0\t1.25 x 2 ^ 2\n",
        "0  0010  110\t\t\t10.0\t1.25 x 2 ^ 3\n",
        "0  0010  111\t\t\t20.0\t1.25 x 2 ^ 4\n",
        "0  0011  000\t\t\t0.21875\t1.75 x 2 ^ -3\n",
        "0  0011  001\t\t\t0.4375\t1.75 x 2 ^ -2\n",
        "0  0011  010\t\t\t0.875\t1.75 x 2 ^ -1\n",
        "0  0011  011\t\t\t1.75\t1.75 x 2 ^ 0\n",
        "0  0011  100\t\t\t3.5\t1.75 x 2 ^ 1\n",
        "0  0011  101\t\t\t7.0\t1.75 x 2 ^ 2\n",
        "0  0011  110\t\t\t14.0\t1.75 x 2 ^ 3\n",
        "0  0011  111\t\t\t28.0\t1.75 x 2 ^ 4\n",
        "0  0100  000\t\t\t0.140625\t1.125 x 2 ^ -3\n",
        "0  0100  001\t\t\t0.28125\t1.125 x 2 ^ -2\n",
        "0  0100  010\t\t\t0.5625\t1.125 x 2 ^ -1\n",
        "0  0100  011\t\t\t1.125\t1.125 x 2 ^ 0\n",
        "0  0100  100\t\t\t2.25\t1.125 x 2 ^ 1\n",
        "0  0100  101\t\t\t4.5\t1.125 x 2 ^ 2\n",
        "0  0100  110\t\t\t9.0\t1.125 x 2 ^ 3\n",
        "0  0100  111\t\t\t18.0\t1.125 x 2 ^ 4\n",
        "0  0101  000\t\t\t0.203125\t1.625 x 2 ^ -3\n",
        "0  0101  001\t\t\t0.40625\t1.625 x 2 ^ -2\n",
        "0  0101  010\t\t\t0.8125\t1.625 x 2 ^ -1\n",
        "0  0101  011\t\t\t1.625\t1.625 x 2 ^ 0\n",
        "0  0101  100\t\t\t3.25\t1.625 x 2 ^ 1\n",
        "0  0101  101\t\t\t6.5\t1.625 x 2 ^ 2\n",
        "0  0101  110\t\t\t13.0\t1.625 x 2 ^ 3\n",
        "0  0101  111\t\t\t26.0\t1.625 x 2 ^ 4\n",
        "0  0110  000\t\t\t0.171875\t1.375 x 2 ^ -3\n",
        "0  0110  001\t\t\t0.34375\t1.375 x 2 ^ -2\n",
        "0  0110  010\t\t\t0.6875\t1.375 x 2 ^ -1\n",
        "0  0110  011\t\t\t1.375\t1.375 x 2 ^ 0\n",
        "0  0110  100\t\t\t2.75\t1.375 x 2 ^ 1\n",
        "0  0110  101\t\t\t5.5\t1.375 x 2 ^ 2\n",
        "0  0110  110\t\t\t11.0\t1.375 x 2 ^ 3\n",
        "0  0110  111\t\t\t22.0\t1.375 x 2 ^ 4\n",
        "0  0111  000\t\t\t0.234375\t1.875 x 2 ^ -3\n",
        "0  0111  001\t\t\t0.46875\t1.875 x 2 ^ -2\n",
        "0  0111  010\t\t\t0.9375\t1.875 x 2 ^ -1\n",
        "0  0111  011\t\t\t1.875\t1.875 x 2 ^ 0\n",
        "0  0111  100\t\t\t3.75\t1.875 x 2 ^ 1\n",
        "0  0111  101\t\t\t7.5\t1.875 x 2 ^ 2\n",
        "0  0111  110\t\t\t15.0\t1.875 x 2 ^ 3\n",
        "0  0111  111\t\t\t30.0\t1.875 x 2 ^ 4\n",
        "0  1000  000\t\t\t0.1328125\t1.0625 x 2 ^ -3\n",
        "0  1000  001\t\t\t0.265625\t1.0625 x 2 ^ -2\n",
        "0  1000  010\t\t\t0.53125\t1.0625 x 2 ^ -1\n",
        "0  1000  011\t\t\t1.0625\t1.0625 x 2 ^ 0\n",
        "0  1000  100\t\t\t2.125\t1.0625 x 2 ^ 1\n",
        "0  1000  101\t\t\t4.25\t1.0625 x 2 ^ 2\n",
        "0  1000  110\t\t\t8.5\t1.0625 x 2 ^ 3\n",
        "0  1000  111\t\t\t17.0\t1.0625 x 2 ^ 4\n",
        "0  1001  000\t\t\t0.1953125\t1.5625 x 2 ^ -3\n",
        "0  1001  001\t\t\t0.390625\t1.5625 x 2 ^ -2\n",
        "0  1001  010\t\t\t0.78125\t1.5625 x 2 ^ -1\n",
        "0  1001  011\t\t\t1.5625\t1.5625 x 2 ^ 0\n",
        "0  1001  100\t\t\t3.125\t1.5625 x 2 ^ 1\n",
        "0  1001  101\t\t\t6.25\t1.5625 x 2 ^ 2\n",
        "0  1001  110\t\t\t12.5\t1.5625 x 2 ^ 3\n",
        "0  1001  111\t\t\t25.0\t1.5625 x 2 ^ 4\n",
        "0  1010  000\t\t\t0.1640625\t1.3125 x 2 ^ -3\n",
        "0  1010  001\t\t\t0.328125\t1.3125 x 2 ^ -2\n",
        "0  1010  010\t\t\t0.65625\t1.3125 x 2 ^ -1\n",
        "0  1010  011\t\t\t1.3125\t1.3125 x 2 ^ 0\n",
        "0  1010  100\t\t\t2.625\t1.3125 x 2 ^ 1\n",
        "0  1010  101\t\t\t5.25\t1.3125 x 2 ^ 2\n",
        "0  1010  110\t\t\t10.5\t1.3125 x 2 ^ 3\n",
        "0  1010  111\t\t\t21.0\t1.3125 x 2 ^ 4\n",
        "0  1011  000\t\t\t0.2265625\t1.8125 x 2 ^ -3\n",
        "0  1011  001\t\t\t0.453125\t1.8125 x 2 ^ -2\n",
        "0  1011  010\t\t\t0.90625\t1.8125 x 2 ^ -1\n",
        "0  1011  011\t\t\t1.8125\t1.8125 x 2 ^ 0\n",
        "0  1011  100\t\t\t3.625\t1.8125 x 2 ^ 1\n",
        "0  1011  101\t\t\t7.25\t1.8125 x 2 ^ 2\n",
        "0  1011  110\t\t\t14.5\t1.8125 x 2 ^ 3\n",
        "0  1011  111\t\t\t29.0\t1.8125 x 2 ^ 4\n",
        "0  1100  000\t\t\t0.1484375\t1.1875 x 2 ^ -3\n",
        "0  1100  001\t\t\t0.296875\t1.1875 x 2 ^ -2\n",
        "0  1100  010\t\t\t0.59375\t1.1875 x 2 ^ -1\n",
        "0  1100  011\t\t\t1.1875\t1.1875 x 2 ^ 0\n",
        "0  1100  100\t\t\t2.375\t1.1875 x 2 ^ 1\n",
        "0  1100  101\t\t\t4.75\t1.1875 x 2 ^ 2\n",
        "0  1100  110\t\t\t9.5\t1.1875 x 2 ^ 3\n",
        "0  1100  111\t\t\t19.0\t1.1875 x 2 ^ 4\n",
        "0  1101  000\t\t\t0.2109375\t1.6875 x 2 ^ -3\n",
        "0  1101  001\t\t\t0.421875\t1.6875 x 2 ^ -2\n",
        "0  1101  010\t\t\t0.84375\t1.6875 x 2 ^ -1\n",
        "0  1101  011\t\t\t1.6875\t1.6875 x 2 ^ 0\n",
        "0  1101  100\t\t\t3.375\t1.6875 x 2 ^ 1\n",
        "0  1101  101\t\t\t6.75\t1.6875 x 2 ^ 2\n",
        "0  1101  110\t\t\t13.5\t1.6875 x 2 ^ 3\n",
        "0  1101  111\t\t\t27.0\t1.6875 x 2 ^ 4\n",
        "0  1110  000\t\t\t0.1796875\t1.4375 x 2 ^ -3\n",
        "0  1110  001\t\t\t0.359375\t1.4375 x 2 ^ -2\n",
        "0  1110  010\t\t\t0.71875\t1.4375 x 2 ^ -1\n",
        "0  1110  011\t\t\t1.4375\t1.4375 x 2 ^ 0\n",
        "0  1110  100\t\t\t2.875\t1.4375 x 2 ^ 1\n",
        "0  1110  101\t\t\t5.75\t1.4375 x 2 ^ 2\n",
        "0  1110  110\t\t\t11.5\t1.4375 x 2 ^ 3\n",
        "0  1110  111\t\t\t23.0\t1.4375 x 2 ^ 4\n",
        "0  1111  000\t\t\t0.2421875\t1.9375 x 2 ^ -3\n",
        "0  1111  001\t\t\t0.484375\t1.9375 x 2 ^ -2\n",
        "0  1111  010\t\t\t0.96875\t1.9375 x 2 ^ -1\n",
        "0  1111  011\t\t\t1.9375\t1.9375 x 2 ^ 0\n",
        "0  1111  100\t\t\t3.875\t1.9375 x 2 ^ 1\n",
        "0  1111  101\t\t\t7.75\t1.9375 x 2 ^ 2\n",
        "0  1111  110\t\t\t15.5\t1.9375 x 2 ^ 3\n",
        "0  1111  111\t\t\t31.0\t1.9375 x 2 ^ 4\n",
        "1  0000  000\t\t\t-0.125\t-1.0 x 2 ^ -3\n",
        "1  0000  001\t\t\t-0.25\t-1.0 x 2 ^ -2\n",
        "1  0000  010\t\t\t-0.5\t-1.0 x 2 ^ -1\n",
        "1  0000  011\t\t\t-1.0\t-1.0 x 2 ^ 0\n",
        "1  0000  100\t\t\t-2.0\t-1.0 x 2 ^ 1\n",
        "1  0000  101\t\t\t-4.0\t-1.0 x 2 ^ 2\n",
        "1  0000  110\t\t\t-8.0\t-1.0 x 2 ^ 3\n",
        "1  0000  111\t\t\t-16.0\t-1.0 x 2 ^ 4\n",
        "1  0001  000\t\t\t-0.1875\t-1.5 x 2 ^ -3\n",
        "1  0001  001\t\t\t-0.375\t-1.5 x 2 ^ -2\n",
        "1  0001  010\t\t\t-0.75\t-1.5 x 2 ^ -1\n",
        "1  0001  011\t\t\t-1.5\t-1.5 x 2 ^ 0\n",
        "1  0001  100\t\t\t-3.0\t-1.5 x 2 ^ 1\n",
        "1  0001  101\t\t\t-6.0\t-1.5 x 2 ^ 2\n",
        "1  0001  110\t\t\t-12.0\t-1.5 x 2 ^ 3\n",
        "1  0001  111\t\t\t-24.0\t-1.5 x 2 ^ 4\n",
        "1  0010  000\t\t\t-0.15625\t-1.25 x 2 ^ -3\n",
        "1  0010  001\t\t\t-0.3125\t-1.25 x 2 ^ -2\n",
        "1  0010  010\t\t\t-0.625\t-1.25 x 2 ^ -1\n",
        "1  0010  011\t\t\t-1.25\t-1.25 x 2 ^ 0\n",
        "1  0010  100\t\t\t-2.5\t-1.25 x 2 ^ 1\n",
        "1  0010  101\t\t\t-5.0\t-1.25 x 2 ^ 2\n",
        "1  0010  110\t\t\t-10.0\t-1.25 x 2 ^ 3\n",
        "1  0010  111\t\t\t-20.0\t-1.25 x 2 ^ 4\n",
        "1  0011  000\t\t\t-0.21875\t-1.75 x 2 ^ -3\n",
        "1  0011  001\t\t\t-0.4375\t-1.75 x 2 ^ -2\n",
        "1  0011  010\t\t\t-0.875\t-1.75 x 2 ^ -1\n",
        "1  0011  011\t\t\t-1.75\t-1.75 x 2 ^ 0\n",
        "1  0011  100\t\t\t-3.5\t-1.75 x 2 ^ 1\n",
        "1  0011  101\t\t\t-7.0\t-1.75 x 2 ^ 2\n",
        "1  0011  110\t\t\t-14.0\t-1.75 x 2 ^ 3\n",
        "1  0011  111\t\t\t-28.0\t-1.75 x 2 ^ 4\n",
        "1  0100  000\t\t\t-0.140625\t-1.125 x 2 ^ -3\n",
        "1  0100  001\t\t\t-0.28125\t-1.125 x 2 ^ -2\n",
        "1  0100  010\t\t\t-0.5625\t-1.125 x 2 ^ -1\n",
        "1  0100  011\t\t\t-1.125\t-1.125 x 2 ^ 0\n",
        "1  0100  100\t\t\t-2.25\t-1.125 x 2 ^ 1\n",
        "1  0100  101\t\t\t-4.5\t-1.125 x 2 ^ 2\n",
        "1  0100  110\t\t\t-9.0\t-1.125 x 2 ^ 3\n",
        "1  0100  111\t\t\t-18.0\t-1.125 x 2 ^ 4\n",
        "1  0101  000\t\t\t-0.203125\t-1.625 x 2 ^ -3\n",
        "1  0101  001\t\t\t-0.40625\t-1.625 x 2 ^ -2\n",
        "1  0101  010\t\t\t-0.8125\t-1.625 x 2 ^ -1\n",
        "1  0101  011\t\t\t-1.625\t-1.625 x 2 ^ 0\n",
        "1  0101  100\t\t\t-3.25\t-1.625 x 2 ^ 1\n",
        "1  0101  101\t\t\t-6.5\t-1.625 x 2 ^ 2\n",
        "1  0101  110\t\t\t-13.0\t-1.625 x 2 ^ 3\n",
        "1  0101  111\t\t\t-26.0\t-1.625 x 2 ^ 4\n",
        "1  0110  000\t\t\t-0.171875\t-1.375 x 2 ^ -3\n",
        "1  0110  001\t\t\t-0.34375\t-1.375 x 2 ^ -2\n",
        "1  0110  010\t\t\t-0.6875\t-1.375 x 2 ^ -1\n",
        "1  0110  011\t\t\t-1.375\t-1.375 x 2 ^ 0\n",
        "1  0110  100\t\t\t-2.75\t-1.375 x 2 ^ 1\n",
        "1  0110  101\t\t\t-5.5\t-1.375 x 2 ^ 2\n",
        "1  0110  110\t\t\t-11.0\t-1.375 x 2 ^ 3\n",
        "1  0110  111\t\t\t-22.0\t-1.375 x 2 ^ 4\n",
        "1  0111  000\t\t\t-0.234375\t-1.875 x 2 ^ -3\n",
        "1  0111  001\t\t\t-0.46875\t-1.875 x 2 ^ -2\n",
        "1  0111  010\t\t\t-0.9375\t-1.875 x 2 ^ -1\n",
        "1  0111  011\t\t\t-1.875\t-1.875 x 2 ^ 0\n",
        "1  0111  100\t\t\t-3.75\t-1.875 x 2 ^ 1\n",
        "1  0111  101\t\t\t-7.5\t-1.875 x 2 ^ 2\n",
        "1  0111  110\t\t\t-15.0\t-1.875 x 2 ^ 3\n",
        "1  0111  111\t\t\t-30.0\t-1.875 x 2 ^ 4\n",
        "1  1000  000\t\t\t-0.1328125\t-1.0625 x 2 ^ -3\n",
        "1  1000  001\t\t\t-0.265625\t-1.0625 x 2 ^ -2\n",
        "1  1000  010\t\t\t-0.53125\t-1.0625 x 2 ^ -1\n",
        "1  1000  011\t\t\t-1.0625\t-1.0625 x 2 ^ 0\n",
        "1  1000  100\t\t\t-2.125\t-1.0625 x 2 ^ 1\n",
        "1  1000  101\t\t\t-4.25\t-1.0625 x 2 ^ 2\n",
        "1  1000  110\t\t\t-8.5\t-1.0625 x 2 ^ 3\n",
        "1  1000  111\t\t\t-17.0\t-1.0625 x 2 ^ 4\n",
        "1  1001  000\t\t\t-0.1953125\t-1.5625 x 2 ^ -3\n",
        "1  1001  001\t\t\t-0.390625\t-1.5625 x 2 ^ -2\n",
        "1  1001  010\t\t\t-0.78125\t-1.5625 x 2 ^ -1\n",
        "1  1001  011\t\t\t-1.5625\t-1.5625 x 2 ^ 0\n",
        "1  1001  100\t\t\t-3.125\t-1.5625 x 2 ^ 1\n",
        "1  1001  101\t\t\t-6.25\t-1.5625 x 2 ^ 2\n",
        "1  1001  110\t\t\t-12.5\t-1.5625 x 2 ^ 3\n",
        "1  1001  111\t\t\t-25.0\t-1.5625 x 2 ^ 4\n",
        "1  1010  000\t\t\t-0.1640625\t-1.3125 x 2 ^ -3\n",
        "1  1010  001\t\t\t-0.328125\t-1.3125 x 2 ^ -2\n",
        "1  1010  010\t\t\t-0.65625\t-1.3125 x 2 ^ -1\n",
        "1  1010  011\t\t\t-1.3125\t-1.3125 x 2 ^ 0\n",
        "1  1010  100\t\t\t-2.625\t-1.3125 x 2 ^ 1\n",
        "1  1010  101\t\t\t-5.25\t-1.3125 x 2 ^ 2\n",
        "1  1010  110\t\t\t-10.5\t-1.3125 x 2 ^ 3\n",
        "1  1010  111\t\t\t-21.0\t-1.3125 x 2 ^ 4\n",
        "1  1011  000\t\t\t-0.2265625\t-1.8125 x 2 ^ -3\n",
        "1  1011  001\t\t\t-0.453125\t-1.8125 x 2 ^ -2\n",
        "1  1011  010\t\t\t-0.90625\t-1.8125 x 2 ^ -1\n",
        "1  1011  011\t\t\t-1.8125\t-1.8125 x 2 ^ 0\n",
        "1  1011  100\t\t\t-3.625\t-1.8125 x 2 ^ 1\n",
        "1  1011  101\t\t\t-7.25\t-1.8125 x 2 ^ 2\n",
        "1  1011  110\t\t\t-14.5\t-1.8125 x 2 ^ 3\n",
        "1  1011  111\t\t\t-29.0\t-1.8125 x 2 ^ 4\n",
        "1  1100  000\t\t\t-0.1484375\t-1.1875 x 2 ^ -3\n",
        "1  1100  001\t\t\t-0.296875\t-1.1875 x 2 ^ -2\n",
        "1  1100  010\t\t\t-0.59375\t-1.1875 x 2 ^ -1\n",
        "1  1100  011\t\t\t-1.1875\t-1.1875 x 2 ^ 0\n",
        "1  1100  100\t\t\t-2.375\t-1.1875 x 2 ^ 1\n",
        "1  1100  101\t\t\t-4.75\t-1.1875 x 2 ^ 2\n",
        "1  1100  110\t\t\t-9.5\t-1.1875 x 2 ^ 3\n",
        "1  1100  111\t\t\t-19.0\t-1.1875 x 2 ^ 4\n",
        "1  1101  000\t\t\t-0.2109375\t-1.6875 x 2 ^ -3\n",
        "1  1101  001\t\t\t-0.421875\t-1.6875 x 2 ^ -2\n",
        "1  1101  010\t\t\t-0.84375\t-1.6875 x 2 ^ -1\n",
        "1  1101  011\t\t\t-1.6875\t-1.6875 x 2 ^ 0\n",
        "1  1101  100\t\t\t-3.375\t-1.6875 x 2 ^ 1\n",
        "1  1101  101\t\t\t-6.75\t-1.6875 x 2 ^ 2\n",
        "1  1101  110\t\t\t-13.5\t-1.6875 x 2 ^ 3\n",
        "1  1101  111\t\t\t-27.0\t-1.6875 x 2 ^ 4\n",
        "1  1110  000\t\t\t-0.1796875\t-1.4375 x 2 ^ -3\n",
        "1  1110  001\t\t\t-0.359375\t-1.4375 x 2 ^ -2\n",
        "1  1110  010\t\t\t-0.71875\t-1.4375 x 2 ^ -1\n",
        "1  1110  011\t\t\t-1.4375\t-1.4375 x 2 ^ 0\n",
        "1  1110  100\t\t\t-2.875\t-1.4375 x 2 ^ 1\n",
        "1  1110  101\t\t\t-5.75\t-1.4375 x 2 ^ 2\n",
        "1  1110  110\t\t\t-11.5\t-1.4375 x 2 ^ 3\n",
        "1  1110  111\t\t\t-23.0\t-1.4375 x 2 ^ 4\n",
        "1  1111  000\t\t\t-0.2421875\t-1.9375 x 2 ^ -3\n",
        "1  1111  001\t\t\t-0.484375\t-1.9375 x 2 ^ -2\n",
        "1  1111  010\t\t\t-0.96875\t-1.9375 x 2 ^ -1\n",
        "1  1111  011\t\t\t-1.9375\t-1.9375 x 2 ^ 0\n",
        "1  1111  100\t\t\t-3.875\t-1.9375 x 2 ^ 1\n",
        "1  1111  101\t\t\t-7.75\t-1.9375 x 2 ^ 2\n",
        "1  1111  110\t\t\t-15.5\t-1.9375 x 2 ^ 3\n",
        "1  1111  111\t\t\t-31.0\t-1.9375 x 2 ^ 4\n"
       ]
      }
     ],
     "prompt_number": 169
    },
    {
     "cell_type": "markdown",
     "metadata": {},
     "source": [
      "* Grafica el n\u00famero de d\u00edgitos en un `b\u00ednade` usando un histograma."
     ]
    },
    {
     "cell_type": "code",
     "collapsed": false,
     "input": [
      "bins"
     ],
     "language": "python",
     "metadata": {},
     "outputs": [
      {
       "metadata": {},
       "output_type": "pyout",
       "prompt_number": 149,
       "text": [
        "array([ 32.,  32.,  32.,  32.,  32.,  32.,  32.,  32.])"
       ]
      }
     ],
     "prompt_number": 149
    },
    {
     "cell_type": "markdown",
     "metadata": {},
     "source": [
      "* Grafica en un histograma la **densidad** de d\u00edgitos que existen por cada entero."
     ]
    },
    {
     "cell_type": "heading",
     "level": 2,
     "metadata": {},
     "source": [
      "Problema 7"
     ]
    },
    {
     "cell_type": "heading",
     "level": 3,
     "metadata": {},
     "source": [
      "La soluci\u00f3n de este problema est\u00e1 en los archivos de octave en la carpeta"
     ]
    },
    {
     "cell_type": "markdown",
     "metadata": {},
     "source": [
      "Observa el c\u00f3digo de `GNU Octave` siguiente:"
     ]
    },
    {
     "cell_type": "code",
     "collapsed": false,
     "input": [
      "!cat strange_floats_sp.m"
     ],
     "language": "python",
     "metadata": {},
     "outputs": [
      {
       "output_type": "stream",
       "stream": "stdout",
       "text": [
        "x = single(77777.0)\r\n",
        "y = single(7.0)\r\n",
        "inv_y = 1.0 / y\r\n",
        "\r\n",
        "z = x / y\r\n",
        "z1 = x * inv_y\r\n",
        "\r\n",
        "if (z != z1)\r\n",
        "  sprintf(\"%1.3f != %1.3f\", z, z1)\r\n",
        "  sprintf(\"%1.30f != %1.30f\", z, z1)\r\n",
        "else\r\n",
        "  sprintf(\"%1.3f == %1.3f\", z, z1)\r\n",
        "  sprintf(\"%1.30f == %1.30f\", z, z1)\r\n",
        "endif\r\n"
       ]
      }
     ],
     "prompt_number": 10
    },
    {
     "cell_type": "markdown",
     "metadata": {},
     "source": [
      "- \u00bfQu\u00e9 hace este c\u00f3digo?\n",
      "- Abre el programa `GNU Octave` y ejec\u00fatalo en la consola. \u00bfResult\u00f3 lo que esperabas?\n",
      "- `z`,  `z1` \u00bfSon `SP` o `DP`?"
     ]
    },
    {
     "cell_type": "markdown",
     "metadata": {},
     "source": [
      "<div class=\"alert alert-info\">\n",
      "**NOTA** `single` en `GNU Octave` y `Matlab` es la instrucci\u00f3n para indicarle al programa que trabaje en _single precision_.\n",
      "</div>"
     ]
    },
    {
     "cell_type": "markdown",
     "metadata": {},
     "source": [
      "<div class=\"alert alert-info\">\n",
      "**NOTA** Para ejecutar un _script_ en `GNU Octave` solo debes de teclear su nombre (obvio si lo tienes en tu carpeta)\n",
      "</div>"
     ]
    },
    {
     "cell_type": "markdown",
     "metadata": {},
     "source": [
      "- Comp\u00e1ralo con el _script_ `strange_floats_dp.m` \u00bfPor qu\u00e9 es la diferencia? Explica la salida de ambos programas."
     ]
    },
    {
     "cell_type": "code",
     "collapsed": false,
     "input": [
      "!cat strange_floats_dp.m"
     ],
     "language": "python",
     "metadata": {},
     "outputs": [
      {
       "output_type": "stream",
       "stream": "stdout",
       "text": [
        "x = 77777.0\r\n",
        "y = 7.0\r\n",
        "inv_y = 1.0 / y\r\n",
        "\r\n",
        "z = x / y\r\n",
        "z1 = x * inv_y\r\n",
        "\r\n",
        "if (z != z1)\r\n",
        "  sprintf(\"%1.3f != %1.3f\", z, z1)\r\n",
        "  sprintf(\"%1.30f != %1.30f\", z, z1)\r\n",
        "else\r\n",
        "  sprintf(\"%1.3f == %1.3f\", z, z1)\r\n",
        "  sprintf(\"%1.30f == %1.30f\", z, z1)\r\n",
        "endif\r\n"
       ]
      }
     ],
     "prompt_number": 11
    },
    {
     "cell_type": "markdown",
     "metadata": {},
     "source": [
      "- `z`,  `z1` \u00bfSon `SP` o `DP`?"
     ]
    },
    {
     "cell_type": "heading",
     "level": 2,
     "metadata": {},
     "source": [
      "Problema 8"
     ]
    },
    {
     "cell_type": "markdown",
     "metadata": {},
     "source": [
      "La _varianza_ de $n$ datos se define como"
     ]
    },
    {
     "cell_type": "markdown",
     "metadata": {},
     "source": [
      "$$\n",
      "\n",
      "s_n^2 = \\frac{1}{n - 1} \\sum^n_{i=1} (x_i - \\bar{x})^2\n",
      "\n",
      "$$"
     ]
    },
    {
     "cell_type": "markdown",
     "metadata": {},
     "source": [
      "donde $\\bar{x}$"
     ]
    },
    {
     "cell_type": "markdown",
     "metadata": {},
     "source": [
      "$$\n",
      "\\bar{x} = \\frac{1}{n} \\sum^n_{i = 1} x_i\n",
      "$$"
     ]
    },
    {
     "cell_type": "markdown",
     "metadata": {},
     "source": [
      "Esta definici\u00f3n es poco eficiente ya que requiere dos pasadas a los datos para calcular la _varianza_."
     ]
    },
    {
     "cell_type": "code",
     "collapsed": false,
     "input": [
      "import numpy as np"
     ],
     "language": "python",
     "metadata": {},
     "outputs": [],
     "prompt_number": 67
    },
    {
     "cell_type": "markdown",
     "metadata": {},
     "source": [
      "* Crea una funci\u00f3n an\u00f3nima en `numpy` o `GNU/Octave` que reproduzca este algoritmo."
     ]
    },
    {
     "cell_type": "code",
     "collapsed": false,
     "input": [
      "prom = lambda arr: np.sum(arr) / len(arr)"
     ],
     "language": "python",
     "metadata": {},
     "outputs": [],
     "prompt_number": 68
    },
    {
     "cell_type": "code",
     "collapsed": false,
     "input": [
      "var = lambda arr: 1.0/(len(arr) - 1) * np.sum( (arr - prom(arr)) ** 2)"
     ],
     "language": "python",
     "metadata": {},
     "outputs": [],
     "prompt_number": 69
    },
    {
     "cell_type": "markdown",
     "metadata": {},
     "source": [
      "En los libros de texto se recomienda (o se reescribe) la definici\u00f3n de la siguiente manera:"
     ]
    },
    {
     "cell_type": "markdown",
     "metadata": {},
     "source": [
      "$$\n",
      "s_n^2 = \\frac{1}{n-1} \\left( \\sum^n_{i=1} x_i^2 -  \\frac{1}{n}\\left(\\sum^n_{i=1} x_i\\right)^2\\right)\n",
      "$$"
     ]
    },
    {
     "cell_type": "markdown",
     "metadata": {},
     "source": [
      "El cual es m\u00e1s eficiente computacionalmente hablando"
     ]
    },
    {
     "cell_type": "markdown",
     "metadata": {},
     "source": [
      "* Crea un programa en `numpy` o `GNU/Octave` que reproduzca este algoritmo."
     ]
    },
    {
     "cell_type": "code",
     "collapsed": false,
     "input": [
      "def varsnd(arr):\n",
      "    suma = 0\n",
      "    for i in range(len(arr)):\n",
      "        suma += arr[i] * arr[i]\n",
      "    suma -= 1.0 / len(arr) * np.sum(arr) * np.sum(arr)\n",
      "    suma /= (len(arr) - 1)\n",
      "    return suma"
     ],
     "language": "python",
     "metadata": {},
     "outputs": [],
     "prompt_number": 70
    },
    {
     "cell_type": "markdown",
     "metadata": {},
     "source": [
      "* Sean los datos $10000, 10001, 10002$, Realiza el c\u00e1lculo a mano y comp\u00e1ralo con los dos algoritmos. Expl\u00edca las diferencias y el posible error."
     ]
    },
    {
     "cell_type": "code",
     "collapsed": false,
     "input": [
      "print var([10000, 10001, 10002]), varsnd([10000, 10001, 10002]) #Haci\u00e9ndole a mano tambi\u00e9n da 1"
     ],
     "language": "python",
     "metadata": {},
     "outputs": [
      {
       "output_type": "stream",
       "stream": "stdout",
       "text": [
        "1.0 1.0\n"
       ]
      }
     ],
     "prompt_number": 71
    },
    {
     "cell_type": "markdown",
     "metadata": {},
     "source": [
      "No hubo diferencia entre los 2 c\u00e1lculos con la compu y con el hecho a mano. "
     ]
    },
    {
     "cell_type": "heading",
     "level": 2,
     "metadata": {},
     "source": [
      "Problema 9"
     ]
    },
    {
     "cell_type": "markdown",
     "metadata": {},
     "source": [
      "* Carga la funci\u00f3n `factorial` definida en el archivo `factorial.py`"
     ]
    },
    {
     "cell_type": "code",
     "collapsed": false,
     "input": [
      "%load factorial.py"
     ],
     "language": "python",
     "metadata": {},
     "outputs": [],
     "prompt_number": 7
    },
    {
     "cell_type": "code",
     "collapsed": false,
     "input": [
      "def factorial(n):\n",
      "    if n == 0:\n",
      "        return 1\n",
      "    elif n == 1:\n",
      "        return 1\n",
      "    else:\n",
      "        return factorial(n-1)*n\n"
     ],
     "language": "python",
     "metadata": {},
     "outputs": [],
     "prompt_number": 8
    },
    {
     "cell_type": "markdown",
     "metadata": {},
     "source": [
      "La serie de Maclaurin es un caso especial de la serie de Taylor de una funci\u00f3n $f$ alrededor de $0$"
     ]
    },
    {
     "cell_type": "markdown",
     "metadata": {},
     "source": [
      "$$\n",
      "f(x) = f(0) + f'(0) + \\frac{f''(0)}{2!} + \\ldots = \\sum^\\infty_{i=0}\\frac{1}{n\\!}f^{(n)}(0)\n",
      "$$"
     ]
    },
    {
     "cell_type": "markdown",
     "metadata": {},
     "source": [
      "En particular, la funci\u00f3n exponencial tiene la siguiente forma:"
     ]
    },
    {
     "cell_type": "markdown",
     "metadata": {},
     "source": [
      "$$\n",
      "e^x = 1 + x + \\frac{x^2}{2} + \\ldots = \\sum^\\infty_{i=0} \\frac{x^i}{i\\!}\n",
      "$$"
     ]
    },
    {
     "cell_type": "markdown",
     "metadata": {},
     "source": [
      "* Usando la funci\u00f3n `factorial` crea la funci\u00f3n `exp_maclaurin(x,n)`, que imprima lo siguiente:"
     ]
    },
    {
     "cell_type": "code",
     "collapsed": false,
     "input": [
      "#Comento el print para que cuando luego compute los n\u00fameros pedidos, no me haga toda la tabla con valores\n",
      "def exp_maclaurin(x,n):\n",
      "    suma = 0.0\n",
      "    for i in range(n + 1):\n",
      "        suma += float(x) ** i /factorial(i)\n",
      "        #print \"%12s\\t%12s\\t%12s\\t%12s\\t%20s\\t%20s\" % (i, x, x**i,factorial(i), x**i/factorial(i), suma)\n",
      "    return suma"
     ],
     "language": "python",
     "metadata": {},
     "outputs": [],
     "prompt_number": 27
    },
    {
     "cell_type": "markdown",
     "metadata": {},
     "source": [
      "* Usando la funci\u00f3n `np.exp` calcula `0`, `1`, `5.5` y `-5.5`"
     ]
    },
    {
     "cell_type": "code",
     "collapsed": false,
     "input": [
      "print np.exp(0)\n",
      "print np.exp(1)\n",
      "print np.exp(5.5)\n",
      "print np.exp(-5.5)\n"
     ],
     "language": "python",
     "metadata": {},
     "outputs": [
      {
       "output_type": "stream",
       "stream": "stdout",
       "text": [
        "1.0\n",
        "2.71828182846\n",
        "1.94242639524e+130\n",
        "0.00408677143846\n"
       ]
      }
     ],
     "prompt_number": 52
    },
    {
     "cell_type": "markdown",
     "metadata": {},
     "source": [
      "* Usando tu funci\u00f3n, calcula los mismos valores a orden 20 \u00bfEn cu\u00e1l falla? \u00bfPor qu\u00e9 crees que sea?"
     ]
    },
    {
     "cell_type": "code",
     "collapsed": false,
     "input": [
      "print exp_maclaurin(0,20)\n",
      "print exp_maclaurin(1,20)\n",
      "print exp_maclaurin(5.5,20)\n",
      "print exp_maclaurin(-5.5,20)"
     ],
     "language": "python",
     "metadata": {},
     "outputs": [
      {
       "output_type": "stream",
       "stream": "stdout",
       "text": [
        "1.0\n",
        "2.71828182846\n",
        "244.691840591\n",
        "0.00408677143846\n"
       ]
      }
     ],
     "prompt_number": 47
    },
    {
     "cell_type": "markdown",
     "metadata": {},
     "source": [
      "Falla en el tercer y cuarto n\u00famero a partir de las mil\u00e9simas"
     ]
    },
    {
     "cell_type": "markdown",
     "metadata": {},
     "source": [
      "* \u00bfC\u00f3mo resolver\u00edas este problema? Implementa tu soluci\u00f3n."
     ]
    },
    {
     "cell_type": "markdown",
     "metadata": {},
     "source": [
      "Falla porque lo estamos aproximando hasta cierto orden la serie de maclaurin, y esta serie tiende a la exponencial en el infinito. Sabemos que el l\u00edm de x^i/i! tiende a 0. Tomando un orden lo suficientemente grande podemos aproximar mejor la funci\u00f3n, en vez de pedir un orden."
     ]
    },
    {
     "cell_type": "code",
     "collapsed": false,
     "input": [
      "def exp_maclaurinfixed(x):\n",
      "    suma = 0.0\n",
      "    for i in range(100):\n",
      "        suma += float(x) ** i /factorial(i)\n",
      "        #print \"%12s\\t%12s\\t%12s\\t%12s\\t%20s\\t%20s\" % (i, x, x**i,factorial(i), x**i/factorial(i), suma)\n",
      "    return suma"
     ],
     "language": "python",
     "metadata": {},
     "outputs": [],
     "prompt_number": 49
    },
    {
     "cell_type": "code",
     "collapsed": false,
     "input": [
      "print exp_maclaurinfixed(0)\n",
      "print exp_maclaurinfixed(1)\n",
      "print exp_maclaurinfixed(5.5)\n",
      "print exp_maclaurinfixed(-5.5)"
     ],
     "language": "python",
     "metadata": {},
     "outputs": [
      {
       "output_type": "stream",
       "stream": "stdout",
       "text": [
        "1.0\n",
        "2.71828182846\n",
        "244.691932264\n",
        "0.00408677143846\n"
       ]
      }
     ],
     "prompt_number": 53
    },
    {
     "cell_type": "markdown",
     "metadata": {},
     "source": [
      "<div class=\"alert alert-info\">\n",
      "**HINT** Recuerda las leyes de los exponentes\n",
      "</div>"
     ]
    },
    {
     "cell_type": "heading",
     "level": 2,
     "metadata": {},
     "source": [
      "Problema 10"
     ]
    },
    {
     "cell_type": "markdown",
     "metadata": {},
     "source": [
      "- \u00bfQu\u00e9 pasa si usas 16 bits, 32 bits o 64 bits?\n",
      "- Implementa el **problema 8** usando el otro lenguaje que no usaste \u00bfEl resultado es diferente? "
     ]
    }
   ],
   "metadata": {}
  }
 ]
}