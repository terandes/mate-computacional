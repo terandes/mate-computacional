{
 "metadata": {
  "name": "",
  "signature": "sha256:cd4d5d1e9b5b16758850d1ef2b5bf84e82d0c77e2d210d94614f82929744dea7"
 },
 "nbformat": 3,
 "nbformat_minor": 0,
 "worksheets": [
  {
   "cells": [
    {
     "cell_type": "heading",
     "level": 1,
     "metadata": {},
     "source": [
      "Examen Parcial"
     ]
    },
    {
     "cell_type": "heading",
     "level": 6,
     "metadata": {},
     "source": [
      "5 de marzo, 2015"
     ]
    },
    {
     "cell_type": "heading",
     "level": 2,
     "metadata": {},
     "source": [
      "Instrucciones"
     ]
    },
    {
     "cell_type": "markdown",
     "metadata": {},
     "source": [
      "- Crea una carpeta en tu directorio llamada `examen`.\n",
      "- Copia este examen a esa carpeta reci\u00e9n creada.\n",
      "- Copia los archivos con extensi\u00f3n `.m` de la misma manera."
     ]
    },
    {
     "cell_type": "heading",
     "level": 3,
     "metadata": {},
     "source": [
      "Definiciones"
     ]
    },
    {
     "cell_type": "markdown",
     "metadata": {},
     "source": [
      "- **Precisi\u00f3n** es el n\u00famero m\u00e1ximo de _bits_ diferentes de cero que es representable.\n",
      "- **Rango** es la diferencia entre el n\u00famero m\u00e1s negativo representable y el n\u00famero m\u00e1s positivo representable.\n",
      "- **Resoluci\u00f3n** es la magnitud m\u00e1s preque\u00f1a diferente de cero representable.\n",
      "- **Exactitud** es la magnitud e la m\u00e1xima diferencia entre el valor real y su representaci\u00f3n."
     ]
    },
    {
     "cell_type": "markdown",
     "metadata": {},
     "source": [
      "- Un n\u00famero $x$ en _single precision_ en el est\u00e1ndar **IEEE 754** se escribe:"
     ]
    },
    {
     "cell_type": "markdown",
     "metadata": {},
     "source": [
      "$$\n",
      "x = s 1.mmm \\ldots mmm \\times 2^{mmm \\ldots mmm}\n",
      "$$"
     ]
    },
    {
     "cell_type": "markdown",
     "metadata": {},
     "source": [
      "con un _bias_ de "
     ]
    },
    {
     "cell_type": "heading",
     "level": 1,
     "metadata": {},
     "source": [
      "Parte escrita"
     ]
    },
    {
     "cell_type": "heading",
     "level": 2,
     "metadata": {},
     "source": [
      "Problema 1"
     ]
    },
    {
     "cell_type": "markdown",
     "metadata": {},
     "source": [
      "* Escribir los siguientes n\u00fameros reales de manera _normalizada_"
     ]
    },
    {
     "cell_type": "markdown",
     "metadata": {},
     "source": [
      "    - $123.45$\n",
      "    - $6.3789 \\times 10^{5}$\n",
      "    - $5432.1987 \\times 10^{3}$\n",
      "    - $6.02 \\times 10^{23}$\n",
      "    - $0.000001$\n",
      "    - $1.0$"
     ]
    },
    {
     "cell_type": "heading",
     "level": 2,
     "metadata": {},
     "source": [
      "Problema 2"
     ]
    },
    {
     "cell_type": "markdown",
     "metadata": {},
     "source": [
      "- Escriba los siguientes n\u00fameros en su expansi\u00f3n en base $2$ y calcule su valor en base $10$ (suponga que no est\u00e1n signados)"
     ]
    },
    {
     "cell_type": "markdown",
     "metadata": {},
     "source": [
      "    - `1101`\n",
      "    - `11010`\n",
      "    - `00110011`"
     ]
    },
    {
     "cell_type": "code",
     "collapsed": false,
     "input": [
      "def binarioDecimal(num,bits):\n",
      "    i=0\n",
      "    dec=0\n",
      "    for i in xrange(bits,0,-1):\n",
      "        aux=int(num[i-1])*(2**(bits-i))\n",
      "        dec+=aux\n",
      "    return dec"
     ],
     "language": "python",
     "metadata": {},
     "outputs": [],
     "prompt_number": 2
    },
    {
     "cell_type": "code",
     "collapsed": false,
     "input": [
      "binarioDecimal(\"00001101\",8)"
     ],
     "language": "python",
     "metadata": {},
     "outputs": [
      {
       "metadata": {},
       "output_type": "pyout",
       "prompt_number": 4,
       "text": [
        "13"
       ]
      }
     ],
     "prompt_number": 4
    },
    {
     "cell_type": "code",
     "collapsed": false,
     "input": [
      "binarioDecimal(\"00011011\",8)"
     ],
     "language": "python",
     "metadata": {},
     "outputs": [
      {
       "metadata": {},
       "output_type": "pyout",
       "prompt_number": 5,
       "text": [
        "27"
       ]
      }
     ],
     "prompt_number": 5
    },
    {
     "cell_type": "code",
     "collapsed": false,
     "input": [
      "binarioDecimal(\"00110011<\u2039\u2039<\",8)"
     ],
     "language": "python",
     "metadata": {},
     "outputs": [
      {
       "metadata": {},
       "output_type": "pyout",
       "prompt_number": 6,
       "text": [
        "51"
       ]
      }
     ],
     "prompt_number": 6
    },
    {
     "cell_type": "heading",
     "level": 2,
     "metadata": {},
     "source": [
      "Problema 3"
     ]
    },
    {
     "cell_type": "markdown",
     "metadata": {},
     "source": [
      "- Escribe de forma normalizada a $y = + 1000.100111$ ."
     ]
    },
    {
     "cell_type": "markdown",
     "metadata": {},
     "source": [
      "- Escribe el mismo n\u00famero en formato **IEEE 754** en _single precision_."
     ]
    },
    {
     "cell_type": "markdown",
     "metadata": {},
     "source": [
      "- Escribe los siguientes n\u00fameros en el est\u00e1ndar **IEEE 754** a _double precision_"
     ]
    },
    {
     "cell_type": "markdown",
     "metadata": {},
     "source": [
      "- `1.0`\n",
      "- `1.5`\n",
      "- `-1.5`"
     ]
    },
    {
     "cell_type": "markdown",
     "metadata": {},
     "source": [
      "- \u00bfQu\u00e9 n\u00famero representa el siguiente flotante **IEEE 754** _double precision_?"
     ]
    },
    {
     "cell_type": "markdown",
     "metadata": {},
     "source": [
      "- `1 1000 0010 111 1000 0000 0000 0000 0000`"
     ]
    },
    {
     "cell_type": "heading",
     "level": 2,
     "metadata": {},
     "source": [
      "Problema 4"
     ]
    },
    {
     "cell_type": "markdown",
     "metadata": {},
     "source": [
      "* Representa $1$ en lo siguiente:\n",
      "\n",
      "    - En 8 bits con signo\n",
      "    - En 8 bits sin signo\n",
      "    - En 16 bits sin signo\n",
      "    - En 32 bits en el est\u00e1ndar **IEEE 754**\n",
      "    - En 64 bits en el est\u00e1ndar **IEEE 754**"
     ]
    },
    {
     "cell_type": "markdown",
     "metadata": {},
     "source": [
      "* Las siguientes dos cadenas binarias"
     ]
    },
    {
     "cell_type": "markdown",
     "metadata": {},
     "source": [
      "    - `0000 0000 0010 1010`\n",
      "    - `1000 0000 0010 1010`"
     ]
    },
    {
     "cell_type": "markdown",
     "metadata": {},
     "source": [
      "\u00bfQu\u00e9 n\u00famero representan s\u00ed ...\n",
      "\n",
      "    - ... son 16 bits sin signo?\n",
      "    - ... son 16 bits con signo?\n",
      "    - ... 2 cadenas de 8 bits sin signo?\n",
      "    - ... 2 cadenas de 8 bits con signo?"
     ]
    },
    {
     "cell_type": "code",
     "collapsed": false,
     "input": [
      "def binarioDecimal(num,bits):\n",
      "    i=0\n",
      "    dec=0\n",
      "    for i in xrange(bits,0,-1):\n",
      "        aux=int(num[i-1])*(2**(bits-i))\n",
      "        dec+=aux\n",
      "    return dec"
     ],
     "language": "python",
     "metadata": {},
     "outputs": [],
     "prompt_number": 8
    },
    {
     "cell_type": "code",
     "collapsed": false,
     "input": [
      "binarioDecimal(\"000000000101010\",15)\n",
      "binarioDecimal(\"00000000\",8)\n",
      "binarioDecimal(\"00101010\",8)\n",
      "binarioDecimal(\"0101010\",7)"
     ],
     "language": "python",
     "metadata": {},
     "outputs": [
      {
       "metadata": {},
       "output_type": "pyout",
       "prompt_number": 19,
       "text": [
        "42"
       ]
      }
     ],
     "prompt_number": 19
    },
    {
     "cell_type": "heading",
     "level": 2,
     "metadata": {},
     "source": [
      "Problema 5"
     ]
    },
    {
     "cell_type": "heading",
     "level": 3,
     "metadata": {},
     "source": [
      "El mundo del Nintendo: 8 bits"
     ]
    },
    {
     "cell_type": "markdown",
     "metadata": {},
     "source": [
      "Supongamos que vamos a trabajar con `8 bits`"
     ]
    },
    {
     "cell_type": "markdown",
     "metadata": {},
     "source": [
      "$$\n",
      "x = \\pm 1.mmmm \\times 2^{bbb}\n",
      "$$"
     ]
    },
    {
     "cell_type": "markdown",
     "metadata": {},
     "source": [
      "donde el _bias_ $= 3$."
     ]
    },
    {
     "cell_type": "markdown",
     "metadata": {},
     "source": [
      "- \u00bfCu\u00e1l es el rango? \n",
      "- \u00bfCu\u00e1l es la precisi\u00f3n?\n",
      "- \u00bfCu\u00e1l es la resoluci\u00f3n?\n",
      "- \u00bfCu\u00e1ntos b\u00ednades hay?\n",
      "- \u00bfCu\u00e1ntos n\u00fameros por b\u00ednade hay?"
     ]
    },
    {
     "cell_type": "markdown",
     "metadata": {},
     "source": [
      "RESPUESTAS:\n",
      "- \u00bfCu\u00e1l es el rango? -127 al 128\n",
      "- \u00bfCu\u00e1l es la precisi\u00f3n? menos que la de 16 bits\n",
      "- \u00bfCu\u00e1l es la resoluci\u00f3n? 2^8 \n",
      "- \u00bfCu\u00e1ntos b\u00ednades hay?8 pues tienen 3 bits de exponente\n",
      "- \u00bfCu\u00e1ntos n\u00fameros por b\u00ednade hay?como son 5 en 1.f entonces tengo 2^5"
     ]
    },
    {
     "cell_type": "heading",
     "level": 1,
     "metadata": {},
     "source": [
      "Computadora"
     ]
    },
    {
     "cell_type": "heading",
     "level": 2,
     "metadata": {},
     "source": [
      "Problema 6"
     ]
    },
    {
     "cell_type": "heading",
     "level": 2,
     "metadata": {},
     "source": [
      "El mundo de Nintendo: 8 bits"
     ]
    },
    {
     "cell_type": "markdown",
     "metadata": {},
     "source": [
      "* Crea un programa en `python` o `GNU Octave` imprima todos los n\u00fameros que se pueden almacenar en `8 bits` (ver ejercicio anterior). "
     ]
    },
    {
     "cell_type": "markdown",
     "metadata": {},
     "source": [
      "La tabla debe de tener el siguiente formato:"
     ]
    },
    {
     "cell_type": "markdown",
     "metadata": {},
     "source": [
      "| representaci\u00f3n almacenada | real | flotante |\n",
      "|---------------------------|------|----------|"
     ]
    },
    {
     "cell_type": "code",
     "collapsed": false,
     "input": [
      "def signo(s):\n",
      "    if  s=='1':\n",
      "        return '-'\n",
      "    else:\n",
      "        return '+'"
     ],
     "language": "python",
     "metadata": {},
     "outputs": [],
     "prompt_number": 24
    },
    {
     "cell_type": "code",
     "collapsed": false,
     "input": [
      "signo(1)"
     ],
     "language": "python",
     "metadata": {},
     "outputs": [
      {
       "metadata": {},
       "output_type": "pyout",
       "prompt_number": 28,
       "text": [
        "'+'"
       ]
      }
     ],
     "prompt_number": 28
    },
    {
     "cell_type": "code",
     "collapsed": false,
     "input": [
      "def binario2entero(num):\n",
      "    i=0\n",
      "    z=0\n",
      "    for i in xrange(3,0,-1):\n",
      "        aux=int(num[i-1])*(2**(3-i))\n",
      "        z+=aux\n",
      "    return z"
     ],
     "language": "python",
     "metadata": {},
     "outputs": [],
     "prompt_number": 35
    },
    {
     "cell_type": "code",
     "collapsed": false,
     "input": [
      "def exp(EEE):\n",
      "    i=binario2entero(EEE)\n",
      "    w=i-3\n",
      "    e=str(w)\n",
      "    return e"
     ],
     "language": "python",
     "metadata": {},
     "outputs": [],
     "prompt_number": 211
    },
    {
     "cell_type": "code",
     "collapsed": false,
     "input": [
      "exp('111')"
     ],
     "language": "python",
     "metadata": {},
     "outputs": [
      {
       "metadata": {},
       "output_type": "pyout",
       "prompt_number": 48,
       "text": [
        "7"
       ]
      }
     ],
     "prompt_number": 48
    },
    {
     "cell_type": "code",
     "collapsed": false,
     "input": [
      "def binario2entero2(num):\n",
      "    i=0\n",
      "    z=0\n",
      "    for i in xrange(4,0,-1):\n",
      "        aux=int(num[i-1])*(2**(4-i))\n",
      "        z+=aux\n",
      "    return z"
     ],
     "language": "python",
     "metadata": {},
     "outputs": [],
     "prompt_number": 49
    },
    {
     "cell_type": "code",
     "collapsed": false,
     "input": [
      "def mantisa(mmmm):\n",
      "    i=binario2entero2(mmmm)\n",
      "    a=float(i)\n",
      "    f=str(a)\n",
      "    return f"
     ],
     "language": "python",
     "metadata": {},
     "outputs": [],
     "prompt_number": 71
    },
    {
     "cell_type": "code",
     "collapsed": false,
     "input": [
      "mantisa('1111')"
     ],
     "language": "python",
     "metadata": {},
     "outputs": [
      {
       "metadata": {},
       "output_type": "pyout",
       "prompt_number": 74,
       "text": [
        "'15.0'"
       ]
      }
     ],
     "prompt_number": 74
    },
    {
     "cell_type": "code",
     "collapsed": false,
     "input": [
      "def binario2entero3(num):\n",
      "    i=0\n",
      "    z=0\n",
      "    for i in xrange(7,0,-1):\n",
      "        aux=int(num[i-1])*(2**(7-i))\n",
      "        z+=aux\n",
      "    return z"
     ],
     "language": "python",
     "metadata": {},
     "outputs": [],
     "prompt_number": 75
    },
    {
     "cell_type": "code",
     "collapsed": false,
     "input": [
      "for s in ('1','0'):\n",
      "    for E in ('111','110','100','000','101','010','001','011'):\n",
      "        for m in ('1111','1110','1100','1000','0000','1001','0110','0001','0011','0111','1000','1010','0101','1101','0010','1011'):\n",
      "            representacion=s+E+m\n",
      "            flotante=signo(s)+'1.'+mantisa(m)+'2**'+exp(E)\n",
      "            ent=E+m\n",
      "            ente=binario2entero3(ent)\n",
      "            entero=signo(s)+str(ente)\n",
      "            print 'real' +'  '+'representaci\u00f3n'+'  '+'flotante'\n",
      "            print entero +'  '+representacion +'         '+ flotante\n",
      "            "
     ],
     "language": "python",
     "metadata": {},
     "outputs": [
      {
       "output_type": "stream",
       "stream": "stdout",
       "text": [
        "real  representaci\u00f3n  flotante\n",
        "-127  11111111         -1.15.02**4\n",
        "real  representaci\u00f3n  flotante\n",
        "-126  11111110         -1.14.02**4\n",
        "real  representaci\u00f3n  flotante\n",
        "-124  11111100         -1.12.02**4\n",
        "real  representaci\u00f3n  flotante\n",
        "-120  11111000         -1.8.02**4\n",
        "real  representaci\u00f3n  flotante\n",
        "-112  11110000         -1.0.02**4\n",
        "real  representaci\u00f3n  flotante\n",
        "-121  11111001         -1.9.02**4\n",
        "real  representaci\u00f3n  flotante\n",
        "-118  11110110         -1.6.02**4\n",
        "real  representaci\u00f3n  flotante\n",
        "-113  11110001         -1.1.02**4\n",
        "real  representaci\u00f3n  flotante\n",
        "-115  11110011         -1.3.02**4\n",
        "real  representaci\u00f3n  flotante\n",
        "-119  11110111         -1.7.02**4\n",
        "real  representaci\u00f3n  flotante\n",
        "-120  11111000         -1.8.02**4\n",
        "real  representaci\u00f3n  flotante\n",
        "-122  11111010         -1.10.02**4\n",
        "real  representaci\u00f3n  flotante\n",
        "-117  11110101         -1.5.02**4\n",
        "real  representaci\u00f3n  flotante\n",
        "-125  11111101         -1.13.02**4\n",
        "real  representaci\u00f3n  flotante\n",
        "-114  11110010         -1.2.02**4\n",
        "real  representaci\u00f3n  flotante\n",
        "-123  11111011         -1.11.02**4\n",
        "real  representaci\u00f3n  flotante\n",
        "-111  11101111         -1.15.02**3\n",
        "real  representaci\u00f3n  flotante\n",
        "-110  11101110         -1.14.02**3\n",
        "real  representaci\u00f3n  flotante\n",
        "-108  11101100         -1.12.02**3\n",
        "real  representaci\u00f3n  flotante\n",
        "-104  11101000         -1.8.02**3\n",
        "real  representaci\u00f3n  flotante\n",
        "-96  11100000         -1.0.02**3\n",
        "real  representaci\u00f3n  flotante\n",
        "-105  11101001         -1.9.02**3\n",
        "real  representaci\u00f3n  flotante\n",
        "-102  11100110         -1.6.02**3\n",
        "real  representaci\u00f3n  flotante\n",
        "-97  11100001         -1.1.02**3\n",
        "real  representaci\u00f3n  flotante\n",
        "-99  11100011         -1.3.02**3\n",
        "real  representaci\u00f3n  flotante\n",
        "-103  11100111         -1.7.02**3\n",
        "real  representaci\u00f3n  flotante\n",
        "-104  11101000         -1.8.02**3\n",
        "real  representaci\u00f3n  flotante\n",
        "-106  11101010         -1.10.02**3\n",
        "real  representaci\u00f3n  flotante\n",
        "-101  11100101         -1.5.02**3\n",
        "real  representaci\u00f3n  flotante\n",
        "-109  11101101         -1.13.02**3\n",
        "real  representaci\u00f3n  flotante\n",
        "-98  11100010         -1.2.02**3\n",
        "real  representaci\u00f3n  flotante\n",
        "-107  11101011         -1.11.02**3\n",
        "real  representaci\u00f3n  flotante\n",
        "-79  11001111         -1.15.02**1\n",
        "real  representaci\u00f3n  flotante\n",
        "-78  11001110         -1.14.02**1\n",
        "real  representaci\u00f3n  flotante\n",
        "-76  11001100         -1.12.02**1\n",
        "real  representaci\u00f3n  flotante\n",
        "-72  11001000         -1.8.02**1\n",
        "real  representaci\u00f3n  flotante\n",
        "-64  11000000         -1.0.02**1\n",
        "real  representaci\u00f3n  flotante\n",
        "-73  11001001         -1.9.02**1\n",
        "real  representaci\u00f3n  flotante\n",
        "-70  11000110         -1.6.02**1\n",
        "real  representaci\u00f3n  flotante\n",
        "-65  11000001         -1.1.02**1\n",
        "real  representaci\u00f3n  flotante\n",
        "-67  11000011         -1.3.02**1\n",
        "real  representaci\u00f3n  flotante\n",
        "-71  11000111         -1.7.02**1\n",
        "real  representaci\u00f3n  flotante\n",
        "-72  11001000         -1.8.02**1\n",
        "real  representaci\u00f3n  flotante\n",
        "-74  11001010         -1.10.02**1\n",
        "real  representaci\u00f3n  flotante\n",
        "-69  11000101         -1.5.02**1\n",
        "real  representaci\u00f3n  flotante\n",
        "-77  11001101         -1.13.02**1\n",
        "real  representaci\u00f3n  flotante\n",
        "-66  11000010         -1.2.02**1\n",
        "real  representaci\u00f3n  flotante\n",
        "-75  11001011         -1.11.02**1\n",
        "real  representaci\u00f3n  flotante\n",
        "-15  10001111         -1.15.02**-3\n",
        "real  representaci\u00f3n  flotante\n",
        "-14  10001110         -1.14.02**-3\n",
        "real  representaci\u00f3n  flotante\n",
        "-12  10001100         -1.12.02**-3\n",
        "real  representaci\u00f3n  flotante\n",
        "-8  10001000         -1.8.02**-3\n",
        "real  representaci\u00f3n  flotante\n",
        "-0  10000000         -1.0.02**-3\n",
        "real  representaci\u00f3n  flotante\n",
        "-9  10001001         -1.9.02**-3\n",
        "real  representaci\u00f3n  flotante\n",
        "-6  10000110         -1.6.02**-3\n",
        "real  representaci\u00f3n  flotante\n",
        "-1  10000001         -1.1.02**-3\n",
        "real  representaci\u00f3n  flotante\n",
        "-3  10000011         -1.3.02**-3\n",
        "real  representaci\u00f3n  flotante\n",
        "-7  10000111         -1.7.02**-3\n",
        "real  representaci\u00f3n  flotante\n",
        "-8  10001000         -1.8.02**-3\n",
        "real  representaci\u00f3n  flotante\n",
        "-10  10001010         -1.10.02**-3\n",
        "real  representaci\u00f3n  flotante\n",
        "-5  10000101         -1.5.02**-3\n",
        "real  representaci\u00f3n  flotante\n",
        "-13  10001101         -1.13.02**-3\n",
        "real  representaci\u00f3n  flotante\n",
        "-2  10000010         -1.2.02**-3\n",
        "real  representaci\u00f3n  flotante\n",
        "-11  10001011         -1.11.02**-3\n",
        "real  representaci\u00f3n  flotante\n",
        "-95  11011111         -1.15.02**2\n",
        "real  representaci\u00f3n  flotante\n",
        "-94  11011110         -1.14.02**2\n",
        "real  representaci\u00f3n  flotante\n",
        "-92  11011100         -1.12.02**2\n",
        "real  representaci\u00f3n  flotante\n",
        "-88  11011000         -1.8.02**2\n",
        "real  representaci\u00f3n  flotante\n",
        "-80  11010000         -1.0.02**2\n",
        "real  representaci\u00f3n  flotante\n",
        "-89  11011001         -1.9.02**2\n",
        "real  representaci\u00f3n  flotante\n",
        "-86  11010110         -1.6.02**2\n",
        "real  representaci\u00f3n  flotante\n",
        "-81  11010001         -1.1.02**2\n",
        "real  representaci\u00f3n  flotante\n",
        "-83  11010011         -1.3.02**2\n",
        "real  representaci\u00f3n  flotante\n",
        "-87  11010111         -1.7.02**2\n",
        "real  representaci\u00f3n  flotante\n",
        "-88  11011000         -1.8.02**2\n",
        "real  representaci\u00f3n  flotante\n",
        "-90  11011010         -1.10.02**2\n",
        "real  representaci\u00f3n  flotante\n",
        "-85  11010101         -1.5.02**2\n",
        "real  representaci\u00f3n  flotante\n",
        "-93  11011101         -1.13.02**2\n",
        "real  representaci\u00f3n  flotante\n",
        "-82  11010010         -1.2.02**2\n",
        "real  representaci\u00f3n  flotante\n",
        "-91  11011011         -1.11.02**2\n",
        "real  representaci\u00f3n  flotante\n",
        "-47  10101111         -1.15.02**-1\n",
        "real  representaci\u00f3n  flotante\n",
        "-46  10101110         -1.14.02**-1\n",
        "real  representaci\u00f3n  flotante\n",
        "-44  10101100         -1.12.02**-1\n",
        "real  representaci\u00f3n  flotante\n",
        "-40  10101000         -1.8.02**-1\n",
        "real  representaci\u00f3n  flotante\n",
        "-32  10100000         -1.0.02**-1\n",
        "real  representaci\u00f3n  flotante\n",
        "-41  10101001         -1.9.02**-1\n",
        "real  representaci\u00f3n  flotante\n",
        "-38  10100110         -1.6.02**-1\n",
        "real  representaci\u00f3n  flotante\n",
        "-33  10100001         -1.1.02**-1\n",
        "real  representaci\u00f3n  flotante\n",
        "-35  10100011         -1.3.02**-1\n",
        "real  representaci\u00f3n  flotante\n",
        "-39  10100111         -1.7.02**-1\n",
        "real  representaci\u00f3n  flotante\n",
        "-40  10101000         -1.8.02**-1\n",
        "real  representaci\u00f3n  flotante\n",
        "-42  10101010         -1.10.02**-1\n",
        "real  representaci\u00f3n  flotante\n",
        "-37  10100101         -1.5.02**-1\n",
        "real  representaci\u00f3n  flotante\n",
        "-45  10101101         -1.13.02**-1\n",
        "real  representaci\u00f3n  flotante\n",
        "-34  10100010         -1.2.02**-1\n",
        "real  representaci\u00f3n  flotante\n",
        "-43  10101011         -1.11.02**-1\n",
        "real  representaci\u00f3n  flotante\n",
        "-31  10011111         -1.15.02**-2\n",
        "real  representaci\u00f3n  flotante\n",
        "-30  10011110         -1.14.02**-2\n",
        "real  representaci\u00f3n  flotante\n",
        "-28  10011100         -1.12.02**-2\n",
        "real  representaci\u00f3n  flotante\n",
        "-24  10011000         -1.8.02**-2\n",
        "real  representaci\u00f3n  flotante\n",
        "-16  10010000         -1.0.02**-2\n",
        "real  representaci\u00f3n  flotante\n",
        "-25  10011001         -1.9.02**-2\n",
        "real  representaci\u00f3n  flotante\n",
        "-22  10010110         -1.6.02**-2\n",
        "real  representaci\u00f3n  flotante\n",
        "-17  10010001         -1.1.02**-2\n",
        "real  representaci\u00f3n  flotante\n",
        "-19  10010011         -1.3.02**-2\n",
        "real  representaci\u00f3n  flotante\n",
        "-23  10010111         -1.7.02**-2\n",
        "real  representaci\u00f3n  flotante\n",
        "-24  10011000         -1.8.02**-2\n",
        "real  representaci\u00f3n  flotante\n",
        "-26  10011010         -1.10.02**-2\n",
        "real  representaci\u00f3n  flotante\n",
        "-21  10010101         -1.5.02**-2\n",
        "real  representaci\u00f3n  flotante\n",
        "-29  10011101         -1.13.02**-2\n",
        "real  representaci\u00f3n  flotante\n",
        "-18  10010010         -1.2.02**-2\n",
        "real  representaci\u00f3n  flotante\n",
        "-27  10011011         -1.11.02**-2\n",
        "real  representaci\u00f3n  flotante\n",
        "-63  10111111         -1.15.02**0\n",
        "real  representaci\u00f3n  flotante\n",
        "-62  10111110         -1.14.02**0\n",
        "real  representaci\u00f3n  flotante\n",
        "-60  10111100         -1.12.02**0\n",
        "real  representaci\u00f3n  flotante\n",
        "-56  10111000         -1.8.02**0\n",
        "real  representaci\u00f3n  flotante\n",
        "-48  10110000         -1.0.02**0\n",
        "real  representaci\u00f3n  flotante\n",
        "-57  10111001         -1.9.02**0\n",
        "real  representaci\u00f3n  flotante\n",
        "-54  10110110         -1.6.02**0\n",
        "real  representaci\u00f3n  flotante\n",
        "-49  10110001         -1.1.02**0\n",
        "real  representaci\u00f3n  flotante\n",
        "-51  10110011         -1.3.02**0\n",
        "real  representaci\u00f3n  flotante\n",
        "-55  10110111         -1.7.02**0\n",
        "real  representaci\u00f3n  flotante\n",
        "-56  10111000         -1.8.02**0\n",
        "real  representaci\u00f3n  flotante\n",
        "-58  10111010         -1.10.02**0\n",
        "real  representaci\u00f3n  flotante\n",
        "-53  10110101         -1.5.02**0\n",
        "real  representaci\u00f3n  flotante\n",
        "-61  10111101         -1.13.02**0\n",
        "real  representaci\u00f3n  flotante\n",
        "-50  10110010         -1.2.02**0\n",
        "real  representaci\u00f3n  flotante\n",
        "-59  10111011         -1.11.02**0\n",
        "real  representaci\u00f3n  flotante\n",
        "+127  01111111         +1.15.02**4\n",
        "real  representaci\u00f3n  flotante\n",
        "+126  01111110         +1.14.02**4\n",
        "real  representaci\u00f3n  flotante\n",
        "+124  01111100         +1.12.02**4\n",
        "real  representaci\u00f3n  flotante\n",
        "+120  01111000         +1.8.02**4\n",
        "real  representaci\u00f3n  flotante\n",
        "+112  01110000         +1.0.02**4\n",
        "real  representaci\u00f3n  flotante\n",
        "+121  01111001         +1.9.02**4\n",
        "real  representaci\u00f3n  flotante\n",
        "+118  01110110         +1.6.02**4\n",
        "real  representaci\u00f3n  flotante\n",
        "+113  01110001         +1.1.02**4\n",
        "real  representaci\u00f3n  flotante\n",
        "+115  01110011         +1.3.02**4\n",
        "real  representaci\u00f3n  flotante\n",
        "+119  01110111         +1.7.02**4\n",
        "real  representaci\u00f3n  flotante\n",
        "+120  01111000         +1.8.02**4\n",
        "real  representaci\u00f3n  flotante\n",
        "+122  01111010         +1.10.02**4\n",
        "real  representaci\u00f3n  flotante\n",
        "+117  01110101         +1.5.02**4\n",
        "real  representaci\u00f3n  flotante\n",
        "+125  01111101         +1.13.02**4\n",
        "real  representaci\u00f3n  flotante\n",
        "+114  01110010         +1.2.02**4\n",
        "real  representaci\u00f3n  flotante\n",
        "+123  01111011         +1.11.02**4\n",
        "real  representaci\u00f3n  flotante\n",
        "+111  01101111         +1.15.02**3\n",
        "real  representaci\u00f3n  flotante\n",
        "+110  01101110         +1.14.02**3\n",
        "real  representaci\u00f3n  flotante\n",
        "+108  01101100         +1.12.02**3\n",
        "real  representaci\u00f3n  flotante\n",
        "+104  01101000         +1.8.02**3\n",
        "real  representaci\u00f3n  flotante\n",
        "+96  01100000         +1.0.02**3\n",
        "real  representaci\u00f3n  flotante\n",
        "+105  01101001         +1.9.02**3\n",
        "real  representaci\u00f3n  flotante\n",
        "+102  01100110         +1.6.02**3\n",
        "real  representaci\u00f3n  flotante\n",
        "+97  01100001         +1.1.02**3\n",
        "real  representaci\u00f3n  flotante\n",
        "+99  01100011         +1.3.02**3\n",
        "real  representaci\u00f3n  flotante\n",
        "+103  01100111         +1.7.02**3\n",
        "real  representaci\u00f3n  flotante\n",
        "+104  01101000         +1.8.02**3\n",
        "real  representaci\u00f3n  flotante\n",
        "+106  01101010         +1.10.02**3\n",
        "real  representaci\u00f3n  flotante\n",
        "+101  01100101         +1.5.02**3\n",
        "real  representaci\u00f3n  flotante\n",
        "+109  01101101         +1.13.02**3\n",
        "real  representaci\u00f3n  flotante\n",
        "+98  01100010         +1.2.02**3\n",
        "real  representaci\u00f3n  flotante\n",
        "+107  01101011         +1.11.02**3\n",
        "real  representaci\u00f3n  flotante\n",
        "+79  01001111         +1.15.02**1\n",
        "real  representaci\u00f3n  flotante\n",
        "+78  01001110         +1.14.02**1\n",
        "real  representaci\u00f3n  flotante\n",
        "+76  01001100         +1.12.02**1\n",
        "real  representaci\u00f3n  flotante\n",
        "+72  01001000         +1.8.02**1\n",
        "real  representaci\u00f3n  flotante\n",
        "+64  01000000         +1.0.02**1\n",
        "real  representaci\u00f3n  flotante\n",
        "+73  01001001         +1.9.02**1\n",
        "real  representaci\u00f3n  flotante\n",
        "+70  01000110         +1.6.02**1\n",
        "real  representaci\u00f3n  flotante\n",
        "+65  01000001         +1.1.02**1\n",
        "real  representaci\u00f3n  flotante\n",
        "+67  01000011         +1.3.02**1\n",
        "real  representaci\u00f3n  flotante\n",
        "+71  01000111         +1.7.02**1\n",
        "real  representaci\u00f3n  flotante\n",
        "+72  01001000         +1.8.02**1\n",
        "real  representaci\u00f3n  flotante\n",
        "+74  01001010         +1.10.02**1\n",
        "real  representaci\u00f3n  flotante\n",
        "+69  01000101         +1.5.02**1\n",
        "real  representaci\u00f3n  flotante\n",
        "+77  01001101         +1.13.02**1\n",
        "real  representaci\u00f3n  flotante\n",
        "+66  01000010         +1.2.02**1\n",
        "real  representaci\u00f3n  flotante\n",
        "+75  01001011         +1.11.02**1\n",
        "real  representaci\u00f3n  flotante\n",
        "+15  00001111         +1.15.02**-3\n",
        "real  representaci\u00f3n  flotante\n",
        "+14  00001110         +1.14.02**-3\n",
        "real  representaci\u00f3n  flotante\n",
        "+12  00001100         +1.12.02**-3\n",
        "real  representaci\u00f3n  flotante\n",
        "+8  00001000         +1.8.02**-3\n",
        "real  representaci\u00f3n  flotante\n",
        "+0  00000000         +1.0.02**-3\n",
        "real  representaci\u00f3n  flotante\n",
        "+9  00001001         +1.9.02**-3\n",
        "real  representaci\u00f3n  flotante\n",
        "+6  00000110         +1.6.02**-3\n",
        "real  representaci\u00f3n  flotante\n",
        "+1  00000001         +1.1.02**-3\n",
        "real  representaci\u00f3n  flotante\n",
        "+3  00000011         +1.3.02**-3\n",
        "real  representaci\u00f3n  flotante\n",
        "+7  00000111         +1.7.02**-3\n",
        "real  representaci\u00f3n  flotante\n",
        "+8  00001000         +1.8.02**-3\n",
        "real  representaci\u00f3n  flotante\n",
        "+10  00001010         +1.10.02**-3\n",
        "real  representaci\u00f3n  flotante\n",
        "+5  00000101         +1.5.02**-3\n",
        "real  representaci\u00f3n  flotante\n",
        "+13  00001101         +1.13.02**-3\n",
        "real  representaci\u00f3n  flotante\n",
        "+2  00000010         +1.2.02**-3\n",
        "real  representaci\u00f3n  flotante\n",
        "+11  00001011         +1.11.02**-3\n",
        "real  representaci\u00f3n  flotante\n",
        "+95  01011111         +1.15.02**2\n",
        "real  representaci\u00f3n  flotante\n",
        "+94  01011110         +1.14.02**2\n",
        "real  representaci\u00f3n  flotante\n",
        "+92  01011100         +1.12.02**2\n",
        "real  representaci\u00f3n  flotante\n",
        "+88  01011000         +1.8.02**2\n",
        "real  representaci\u00f3n  flotante\n",
        "+80  01010000         +1.0.02**2\n",
        "real  representaci\u00f3n  flotante\n",
        "+89  01011001         +1.9.02**2\n",
        "real  representaci\u00f3n  flotante\n",
        "+86  01010110         +1.6.02**2\n",
        "real  representaci\u00f3n  flotante\n",
        "+81  01010001         +1.1.02**2\n",
        "real  representaci\u00f3n  flotante\n",
        "+83  01010011         +1.3.02**2\n",
        "real  representaci\u00f3n  flotante\n",
        "+87  01010111         +1.7.02**2\n",
        "real  representaci\u00f3n  flotante\n",
        "+88  01011000         +1.8.02**2\n",
        "real  representaci\u00f3n  flotante\n",
        "+90  01011010         +1.10.02**2\n",
        "real  representaci\u00f3n  flotante\n",
        "+85  01010101         +1.5.02**2\n",
        "real  representaci\u00f3n  flotante\n",
        "+93  01011101         +1.13.02**2\n",
        "real  representaci\u00f3n  flotante\n",
        "+82  01010010         +1.2.02**2\n",
        "real  representaci\u00f3n  flotante\n",
        "+91  01011011         +1.11.02**2\n",
        "real  representaci\u00f3n  flotante\n",
        "+47  00101111         +1.15.02**-1\n",
        "real  representaci\u00f3n  flotante\n",
        "+46  00101110         +1.14.02**-1\n",
        "real  representaci\u00f3n  flotante\n",
        "+44  00101100         +1.12.02**-1\n",
        "real  representaci\u00f3n  flotante\n",
        "+40  00101000         +1.8.02**-1\n",
        "real  representaci\u00f3n  flotante\n",
        "+32  00100000         +1.0.02**-1\n",
        "real  representaci\u00f3n  flotante\n",
        "+41  00101001         +1.9.02**-1\n",
        "real  representaci\u00f3n  flotante\n",
        "+38  00100110         +1.6.02**-1\n",
        "real  representaci\u00f3n  flotante\n",
        "+33  00100001         +1.1.02**-1\n",
        "real  representaci\u00f3n  flotante\n",
        "+35  00100011         +1.3.02**-1\n",
        "real  representaci\u00f3n  flotante\n",
        "+39  00100111         +1.7.02**-1\n",
        "real  representaci\u00f3n  flotante\n",
        "+40  00101000         +1.8.02**-1\n",
        "real  representaci\u00f3n  flotante\n",
        "+42  00101010         +1.10.02**-1\n",
        "real  representaci\u00f3n  flotante\n",
        "+37  00100101         +1.5.02**-1\n",
        "real  representaci\u00f3n  flotante\n",
        "+45  00101101         +1.13.02**-1\n",
        "real  representaci\u00f3n  flotante\n",
        "+34  00100010         +1.2.02**-1\n",
        "real  representaci\u00f3n  flotante\n",
        "+43  00101011         +1.11.02**-1\n",
        "real  representaci\u00f3n  flotante\n",
        "+31  00011111         +1.15.02**-2\n",
        "real  representaci\u00f3n  flotante\n",
        "+30  00011110         +1.14.02**-2\n",
        "real  representaci\u00f3n  flotante\n",
        "+28  00011100         +1.12.02**-2\n",
        "real  representaci\u00f3n  flotante\n",
        "+24  00011000         +1.8.02**-2\n",
        "real  representaci\u00f3n  flotante\n",
        "+16  00010000         +1.0.02**-2\n",
        "real  representaci\u00f3n  flotante\n",
        "+25  00011001         +1.9.02**-2\n",
        "real  representaci\u00f3n  flotante\n",
        "+22  00010110         +1.6.02**-2\n",
        "real  representaci\u00f3n  flotante\n",
        "+17  00010001         +1.1.02**-2\n",
        "real  representaci\u00f3n  flotante\n",
        "+19  00010011         +1.3.02**-2\n",
        "real  representaci\u00f3n  flotante\n",
        "+23  00010111         +1.7.02**-2\n",
        "real  representaci\u00f3n  flotante\n",
        "+24  00011000         +1.8.02**-2\n",
        "real  representaci\u00f3n  flotante\n",
        "+26  00011010         +1.10.02**-2\n",
        "real  representaci\u00f3n  flotante\n",
        "+21  00010101         +1.5.02**-2\n",
        "real  representaci\u00f3n  flotante\n",
        "+29  00011101         +1.13.02**-2\n",
        "real  representaci\u00f3n  flotante\n",
        "+18  00010010         +1.2.02**-2\n",
        "real  representaci\u00f3n  flotante\n",
        "+27  00011011         +1.11.02**-2\n",
        "real  representaci\u00f3n  flotante\n",
        "+63  00111111         +1.15.02**0\n",
        "real  representaci\u00f3n  flotante\n",
        "+62  00111110         +1.14.02**0\n",
        "real  representaci\u00f3n  flotante\n",
        "+60  00111100         +1.12.02**0\n",
        "real  representaci\u00f3n  flotante\n",
        "+56  00111000         +1.8.02**0\n",
        "real  representaci\u00f3n  flotante\n",
        "+48  00110000         +1.0.02**0\n",
        "real  representaci\u00f3n  flotante\n",
        "+57  00111001         +1.9.02**0\n",
        "real  representaci\u00f3n  flotante\n",
        "+54  00110110         +1.6.02**0\n",
        "real  representaci\u00f3n  flotante\n",
        "+49  00110001         +1.1.02**0\n",
        "real  representaci\u00f3n  flotante\n",
        "+51  00110011         +1.3.02**0\n",
        "real  representaci\u00f3n  flotante\n",
        "+55  00110111         +1.7.02**0\n",
        "real  representaci\u00f3n  flotante\n",
        "+56  00111000         +1.8.02**0\n",
        "real  representaci\u00f3n  flotante\n",
        "+58  00111010         +1.10.02**0\n",
        "real  representaci\u00f3n  flotante\n",
        "+53  00110101         +1.5.02**0\n",
        "real  representaci\u00f3n  flotante\n",
        "+61  00111101         +1.13.02**0\n",
        "real  representaci\u00f3n  flotante\n",
        "+50  00110010         +1.2.02**0\n",
        "real  representaci\u00f3n  flotante\n",
        "+59  00111011         +1.11.02**0\n"
       ]
      }
     ],
     "prompt_number": 217
    },
    {
     "cell_type": "markdown",
     "metadata": {},
     "source": [
      "* Grafica el n\u00famero de d\u00edgitos en un `b\u00ednade` usando un histograma."
     ]
    },
    {
     "cell_type": "code",
     "collapsed": false,
     "input": [
      "%matplotlib inline\n",
      "import numpy as np\n",
      "import matplotlib.pyplot as plt"
     ],
     "language": "python",
     "metadata": {},
     "outputs": [],
     "prompt_number": 83
    },
    {
     "cell_type": "code",
     "collapsed": false,
     "input": [
      "\n",
      "x= plt.hist(8, facecolor='g', alpha=0.75)\n",
      "\n",
      "plt.xlabel('binade',fontsize=20)\n",
      "plt.ylabel('digitos',fontsize=20)\n",
      "plt.title('Histograma de digitos en un binade',fontsize=20)\n",
      "plt.axis([40, 160, 0, 0.03])\n",
      "plt.xticks(fontsize=10)\n",
      "plt.yticks(fontsize=10)\n",
      "plt.grid();"
     ],
     "language": "python",
     "metadata": {},
     "outputs": [
      {
       "ename": "ValueError",
       "evalue": "x has only one data point. bins or range kwarg must be given",
       "output_type": "pyerr",
       "traceback": [
        "\u001b[1;31m---------------------------------------------------------------------------\u001b[0m\n\u001b[1;31mValueError\u001b[0m                                Traceback (most recent call last)",
        "\u001b[1;32m<ipython-input-90-64f5bca35623>\u001b[0m in \u001b[0;36m<module>\u001b[1;34m()\u001b[0m\n\u001b[0;32m      1\u001b[0m \u001b[1;33m\u001b[0m\u001b[0m\n\u001b[0;32m      2\u001b[0m \u001b[1;31m# Histograma de los datos\u001b[0m\u001b[1;33m\u001b[0m\u001b[1;33m\u001b[0m\u001b[0m\n\u001b[1;32m----> 3\u001b[1;33m \u001b[0mx\u001b[0m\u001b[1;33m=\u001b[0m \u001b[0mplt\u001b[0m\u001b[1;33m.\u001b[0m\u001b[0mhist\u001b[0m\u001b[1;33m(\u001b[0m\u001b[1;36m8\u001b[0m\u001b[1;33m,\u001b[0m \u001b[0mfacecolor\u001b[0m\u001b[1;33m=\u001b[0m\u001b[1;34m'g'\u001b[0m\u001b[1;33m,\u001b[0m \u001b[0malpha\u001b[0m\u001b[1;33m=\u001b[0m\u001b[1;36m0.75\u001b[0m\u001b[1;33m)\u001b[0m\u001b[1;33m\u001b[0m\u001b[0m\n\u001b[0m\u001b[0;32m      4\u001b[0m \u001b[1;33m\u001b[0m\u001b[0m\n\u001b[0;32m      5\u001b[0m \u001b[0mplt\u001b[0m\u001b[1;33m.\u001b[0m\u001b[0mxlabel\u001b[0m\u001b[1;33m(\u001b[0m\u001b[1;34m'binade'\u001b[0m\u001b[1;33m,\u001b[0m\u001b[0mfontsize\u001b[0m\u001b[1;33m=\u001b[0m\u001b[1;36m20\u001b[0m\u001b[1;33m)\u001b[0m\u001b[1;33m\u001b[0m\u001b[0m\n",
        "\u001b[1;32m/usr/local/lib/python2.7/dist-packages/matplotlib/pyplot.pyc\u001b[0m in \u001b[0;36mhist\u001b[1;34m(x, bins, range, normed, weights, cumulative, bottom, histtype, align, orientation, rwidth, log, color, label, stacked, hold, **kwargs)\u001b[0m\n\u001b[0;32m   2894\u001b[0m                       \u001b[0mhisttype\u001b[0m\u001b[1;33m=\u001b[0m\u001b[0mhisttype\u001b[0m\u001b[1;33m,\u001b[0m \u001b[0malign\u001b[0m\u001b[1;33m=\u001b[0m\u001b[0malign\u001b[0m\u001b[1;33m,\u001b[0m \u001b[0morientation\u001b[0m\u001b[1;33m=\u001b[0m\u001b[0morientation\u001b[0m\u001b[1;33m,\u001b[0m\u001b[1;33m\u001b[0m\u001b[0m\n\u001b[0;32m   2895\u001b[0m                       \u001b[0mrwidth\u001b[0m\u001b[1;33m=\u001b[0m\u001b[0mrwidth\u001b[0m\u001b[1;33m,\u001b[0m \u001b[0mlog\u001b[0m\u001b[1;33m=\u001b[0m\u001b[0mlog\u001b[0m\u001b[1;33m,\u001b[0m \u001b[0mcolor\u001b[0m\u001b[1;33m=\u001b[0m\u001b[0mcolor\u001b[0m\u001b[1;33m,\u001b[0m \u001b[0mlabel\u001b[0m\u001b[1;33m=\u001b[0m\u001b[0mlabel\u001b[0m\u001b[1;33m,\u001b[0m\u001b[1;33m\u001b[0m\u001b[0m\n\u001b[1;32m-> 2896\u001b[1;33m                       stacked=stacked, **kwargs)\n\u001b[0m\u001b[0;32m   2897\u001b[0m         \u001b[0mdraw_if_interactive\u001b[0m\u001b[1;33m(\u001b[0m\u001b[1;33m)\u001b[0m\u001b[1;33m\u001b[0m\u001b[0m\n\u001b[0;32m   2898\u001b[0m     \u001b[1;32mfinally\u001b[0m\u001b[1;33m:\u001b[0m\u001b[1;33m\u001b[0m\u001b[0m\n",
        "\u001b[1;32m/usr/local/lib/python2.7/dist-packages/matplotlib/axes/_axes.pyc\u001b[0m in \u001b[0;36mhist\u001b[1;34m(self, x, bins, range, normed, weights, cumulative, bottom, histtype, align, orientation, rwidth, log, color, label, stacked, **kwargs)\u001b[0m\n\u001b[0;32m   5572\u001b[0m         \u001b[1;32melif\u001b[0m \u001b[0mlen\u001b[0m\u001b[1;33m(\u001b[0m\u001b[0mflat\u001b[0m\u001b[1;33m)\u001b[0m \u001b[1;33m==\u001b[0m \u001b[1;36m1\u001b[0m \u001b[1;32mand\u001b[0m \u001b[1;32mnot\u001b[0m \u001b[0mbinsgiven\u001b[0m\u001b[1;33m:\u001b[0m\u001b[1;33m\u001b[0m\u001b[0m\n\u001b[0;32m   5573\u001b[0m             raise ValueError(\n\u001b[1;32m-> 5574\u001b[1;33m                 \"x has only one data point. bins or range kwarg must be given\")\n\u001b[0m\u001b[0;32m   5575\u001b[0m \u001b[1;33m\u001b[0m\u001b[0m\n\u001b[0;32m   5576\u001b[0m         \u001b[1;31m# Massage 'x' for processing.\u001b[0m\u001b[1;33m\u001b[0m\u001b[1;33m\u001b[0m\u001b[0m\n",
        "\u001b[1;31mValueError\u001b[0m: x has only one data point. bins or range kwarg must be given"
       ]
      },
      {
       "metadata": {},
       "output_type": "display_data",
       "png": "[encoded data removed]",
       "text": [
        "<matplotlib.figure.Figure at 0x7f7613156a10>"
       ]
      }
     ],
     "prompt_number": 90
    },
    {
     "cell_type": "markdown",
     "metadata": {},
     "source": [
      "* Grafica en un histograma la **densidad** de d\u00edgitos que existen por cada entero."
     ]
    },
    {
     "cell_type": "heading",
     "level": 2,
     "metadata": {},
     "source": [
      "Problema 7"
     ]
    },
    {
     "cell_type": "markdown",
     "metadata": {},
     "source": [
      "Observa el c\u00f3digo de `GNU Octave` siguiente:"
     ]
    },
    {
     "cell_type": "code",
     "collapsed": false,
     "input": [
      "!cat strange_floats_sp.m"
     ],
     "language": "python",
     "metadata": {},
     "outputs": [
      {
       "output_type": "stream",
       "stream": "stdout",
       "text": [
        "x = single(77777.0)\r\n",
        "y = single(7.0)\r\n",
        "inv_y = 1.0 / y\r\n",
        "\r\n",
        "z = x / y\r\n",
        "z1 = x * inv_y\r\n",
        "\r\n",
        "if (z != z1)\r\n",
        "  sprintf(\"%1.3f != %1.3f\", z, z1)\r\n",
        "  sprintf(\"%1.30f != %1.30f\", z, z1)\r\n",
        "else\r\n",
        "  sprintf(\"%1.3f == %1.3f\", z, z1)\r\n",
        "  sprintf(\"%1.30f == %1.30f\", z, z1)\r\n",
        "endif\r\n"
       ]
      }
     ],
     "prompt_number": 20
    },
    {
     "cell_type": "markdown",
     "metadata": {},
     "source": [
      "- \u00bfQu\u00e9 hace este c\u00f3digo?\n",
      "- Abre el programa `GNU Octave` y ejec\u00fatalo en la consola. \u00bfResult\u00f3 lo que esperabas?\n",
      "- `z`,  `z1` \u00bfSon `SP` o `DP`?"
     ]
    },
    {
     "cell_type": "markdown",
     "metadata": {},
     "source": [
      "RESPUESTA: \n",
      "El codigo nos muestra que trabajar en octave con flotantes y enteros es diferente, a pesar que el numero es el mismo\"\n",
      "Todo lo evalua en un if, si son iguales entonces me regresa %1.3f != %1.3f que es el numero evaluado en la computadora con tres decimales (o treinta en el otro caso), mostrandome porque son distintos, en caso contrario me dice que son iguales mostrando el valor que tienen en la computadora.\n",
      "SI\n",
      "Aunque estoy trabajando en una computadora de 64 bits, se le pidio a la computadora que trabajara en SP con la instruciion de x e y.\n"
     ]
    },
    {
     "cell_type": "markdown",
     "metadata": {},
     "source": [
      "<div class=\"alert alert-info\">\n",
      "**NOTA** `single` en `GNU Octave` y `Matlab` es la instrucci\u00f3n para indicarle al programa que trabaje en _single precision_.\n",
      "</div>"
     ]
    },
    {
     "cell_type": "markdown",
     "metadata": {},
     "source": [
      "<div class=\"alert alert-info\">\n",
      "**NOTA** Para ejecutar un _script_ en `GNU Octave` solo debes de teclear su nombre (obvio si lo tienes en tu carpeta)\n",
      "</div>"
     ]
    },
    {
     "cell_type": "markdown",
     "metadata": {},
     "source": [
      "- Comp\u00e1ralo con el _script_ `strange_floats_dp.m` \u00bfPor qu\u00e9 es la diferencia? Explica la salida de ambos programas."
     ]
    },
    {
     "cell_type": "code",
     "collapsed": false,
     "input": [
      "!cat strange_floats_dp.m"
     ],
     "language": "python",
     "metadata": {},
     "outputs": [
      {
       "output_type": "stream",
       "stream": "stdout",
       "text": [
        "x = 77777.0\r\n",
        "y = 7.0\r\n",
        "inv_y = 1.0 / y\r\n",
        "\r\n",
        "z = x / y\r\n",
        "z1 = x * inv_y\r\n",
        "\r\n",
        "if (z != z1)\r\n",
        "  sprintf(\"%1.3f != %1.3f\", z, z1)\r\n",
        "  sprintf(\"%1.30f != %1.30f\", z, z1)\r\n",
        "else\r\n",
        "  sprintf(\"%1.3f == %1.3f\", z, z1)\r\n",
        "  sprintf(\"%1.30f == %1.30f\", z, z1)\r\n",
        "endif\r\n"
       ]
      }
     ],
     "prompt_number": 11
    },
    {
     "cell_type": "markdown",
     "metadata": {},
     "source": [
      "- `z`,  `z1` \u00bfSon `SP` o `DP`?"
     ]
    },
    {
     "cell_type": "markdown",
     "metadata": {},
     "source": [
      "RESPUESTA: Son DP."
     ]
    },
    {
     "cell_type": "heading",
     "level": 2,
     "metadata": {},
     "source": [
      "Problema 8"
     ]
    },
    {
     "cell_type": "code",
     "collapsed": false,
     "input": [
      "import numpy as np"
     ],
     "language": "python",
     "metadata": {},
     "outputs": [],
     "prompt_number": 22
    },
    {
     "cell_type": "markdown",
     "metadata": {},
     "source": [
      "La _varianza_ de $n$ datos se define como"
     ]
    },
    {
     "cell_type": "markdown",
     "metadata": {},
     "source": [
      "$$\n",
      "\n",
      "s_n^2 = \\frac{1}{n - 1} \\sum^n_{i=1} (x_i - \\bar{x})^2\n",
      "\n",
      "$$"
     ]
    },
    {
     "cell_type": "markdown",
     "metadata": {},
     "source": [
      "donde $\\bar{x}$"
     ]
    },
    {
     "cell_type": "markdown",
     "metadata": {},
     "source": [
      "$$\n",
      "\\bar{x} = \\frac{1}{n} \\sum^n_{i = 1} x_i\n",
      "$$"
     ]
    },
    {
     "cell_type": "markdown",
     "metadata": {},
     "source": [
      "Esta definici\u00f3n es poco eficiente ya que requiere dos pasadas a los datos para calcular la _varianza_."
     ]
    },
    {
     "cell_type": "markdown",
     "metadata": {},
     "source": [
      "* Crea una funci\u00f3n an\u00f3nima en `numpy` o `GNU/Octave` que reproduzca este algoritmo."
     ]
    },
    {
     "cell_type": "code",
     "collapsed": false,
     "input": [
      "x_bar = lambda x: x.sum()/len(x)"
     ],
     "language": "python",
     "metadata": {},
     "outputs": [],
     "prompt_number": 104
    },
    {
     "cell_type": "code",
     "collapsed": false,
     "input": [
      "x_bar(np.array([1,2,3,4,5]))"
     ],
     "language": "python",
     "metadata": {},
     "outputs": [
      {
       "metadata": {},
       "output_type": "pyout",
       "prompt_number": 105,
       "text": [
        "3"
       ]
      }
     ],
     "prompt_number": 105
    },
    {
     "cell_type": "code",
     "collapsed": false,
     "input": [
      "varianza = lambda x:(((x - x_bar(x))**2).sum())/(len(x)-1)"
     ],
     "language": "python",
     "metadata": {},
     "outputs": [],
     "prompt_number": 117
    },
    {
     "cell_type": "code",
     "collapsed": false,
     "input": [
      "varianza(np.array([1,2,3,4,5,7]))"
     ],
     "language": "python",
     "metadata": {},
     "outputs": [
      {
       "metadata": {},
       "output_type": "pyout",
       "prompt_number": 118,
       "text": [
        "5"
       ]
      }
     ],
     "prompt_number": 118
    },
    {
     "cell_type": "markdown",
     "metadata": {},
     "source": [
      "En los libros de texto se recomienda (o se reescribe) la definici\u00f3n de la siguiente manera:"
     ]
    },
    {
     "cell_type": "markdown",
     "metadata": {},
     "source": [
      "$$\n",
      "s_n^2 = \\frac{1}{n-1} \\left( \\sum^n_{i=1} x_i^2 -  \\frac{1}{n}\\left(\\sum^n_{i=1} x_i\\right)^2\\right)\n",
      "$$"
     ]
    },
    {
     "cell_type": "markdown",
     "metadata": {},
     "source": [
      "El cual es m\u00e1s eficiente computacionalmente hablando"
     ]
    },
    {
     "cell_type": "markdown",
     "metadata": {},
     "source": [
      "* Crea un programa en `numpy` o `GNU/Octave` que reproduzca este algoritmo."
     ]
    },
    {
     "cell_type": "code",
     "collapsed": false,
     "input": [
      "varianza_2 = lambda x:((x**2).sum()-((x.sum()**2)/len(x)))/(len(x)-1)"
     ],
     "language": "python",
     "metadata": {},
     "outputs": [],
     "prompt_number": 124
    },
    {
     "cell_type": "code",
     "collapsed": false,
     "input": [
      "varianza_2(np.array([1,2,3,4,5]))"
     ],
     "language": "python",
     "metadata": {},
     "outputs": [
      {
       "metadata": {},
       "output_type": "pyout",
       "prompt_number": 126,
       "text": [
        "2"
       ]
      }
     ],
     "prompt_number": 126
    },
    {
     "cell_type": "markdown",
     "metadata": {},
     "source": [
      "* Sean los datos $10000, 10001, 10002$, Realiza el c\u00e1lculo a mano y comp\u00e1ralo con los dos algoritmos. Expl\u00edca las diferencias y el posible error."
     ]
    },
    {
     "cell_type": "code",
     "collapsed": false,
     "input": [
      "%timeit varianza(np.array([10000,10001,10002]))"
     ],
     "language": "python",
     "metadata": {},
     "outputs": [
      {
       "output_type": "stream",
       "stream": "stdout",
       "text": [
        "100000 loops, best of 3: 18.6 \u00b5s per loop\n"
       ]
      }
     ],
     "prompt_number": 134
    },
    {
     "cell_type": "code",
     "collapsed": false,
     "input": [
      "%timeit varianza_2(np.array([10000,10001,10002]))"
     ],
     "language": "python",
     "metadata": {},
     "outputs": [
      {
       "output_type": "stream",
       "stream": "stdout",
       "text": [
        "100000 loops, best of 3: 16 \u00b5s per loop\n"
       ]
      }
     ],
     "prompt_number": 135
    },
    {
     "cell_type": "markdown",
     "metadata": {},
     "source": [
      "Ambos algoritmos me dieron correctos y gracias a timeit comprobe que tarda menos con la segunda formula."
     ]
    },
    {
     "cell_type": "heading",
     "level": 2,
     "metadata": {},
     "source": [
      "Problema 9"
     ]
    },
    {
     "cell_type": "markdown",
     "metadata": {},
     "source": [
      "* Carga la funci\u00f3n `factorial` definida en el archivo `factorial.py`"
     ]
    },
    {
     "cell_type": "code",
     "collapsed": false,
     "input": [
      "%load factorial.py"
     ],
     "language": "python",
     "metadata": {},
     "outputs": [],
     "prompt_number": 136
    },
    {
     "cell_type": "code",
     "collapsed": false,
     "input": [
      "def factorial(n):\n",
      "    if n == 0:\n",
      "        return 1\n",
      "    elif n == 1:\n",
      "        return 1\n",
      "    else:\n",
      "        return factorial(n-1)*n\n"
     ],
     "language": "python",
     "metadata": {},
     "outputs": [],
     "prompt_number": 137
    },
    {
     "cell_type": "markdown",
     "metadata": {},
     "source": [
      "La serie de Maclaurin es un caso especial de la serie de Taylor de una funci\u00f3n $f$ alrededor de $0$"
     ]
    },
    {
     "cell_type": "markdown",
     "metadata": {},
     "source": [
      "$$\n",
      "f(x) = f(0) + f'(0) + \\frac{f''(0)}{2!} + \\ldots = \\sum^\\infty_{i=0}\\frac{1}{n\\!}f^{(n)}(0)\n",
      "$$"
     ]
    },
    {
     "cell_type": "markdown",
     "metadata": {},
     "source": [
      "En particular, la funci\u00f3n exponencial tiene la siguiente forma:"
     ]
    },
    {
     "cell_type": "markdown",
     "metadata": {},
     "source": [
      "$$\n",
      "e^x = 1 + x + \\frac{x^2}{2} + \\ldots = \\sum^\\infty_{i=0} \\frac{x^i}{i\\!}\n",
      "$$"
     ]
    },
    {
     "cell_type": "markdown",
     "metadata": {},
     "source": [
      "* Usando la funci\u00f3n `factorial` crea la funci\u00f3n `exp_maclaurin(x,n)`, que imprima lo siguiente:"
     ]
    },
    {
     "cell_type": "markdown",
     "metadata": {},
     "source": [
      "    print \"%12s\\t%12s\\t%12s\\t%12s\\t%20s\\t%20s\" % (\"i\", \"x\", \"x^i\", \"factorial(i)\", \"x^i/factorial(i)\", \"suma\")"
     ]
    },
    {
     "cell_type": "code",
     "collapsed": false,
     "input": [
      "def exp_maclaurin(x,n):\n",
      "    suma=0\n",
      "    for i in xrange(0,n+1):\n",
      "        suma += (x**i) / factorial(i)\n",
      "    print \"%12s\\t%12s\\t%12s\\t%12s\\t%20s\\t%20s\" % (i, x, x^i, factorial(i), x^i/factorial(i), suma)\n",
      "    return suma"
     ],
     "language": "python",
     "metadata": {},
     "outputs": [],
     "prompt_number": 193
    },
    {
     "cell_type": "code",
     "collapsed": false,
     "input": [
      "exp_maclaurin(1,2)"
     ],
     "language": "python",
     "metadata": {},
     "outputs": [
      {
       "output_type": "stream",
       "stream": "stdout",
       "text": [
        "           2\t           1\t           3\t           2\t                   0\t                   2\n"
       ]
      },
      {
       "metadata": {},
       "output_type": "pyout",
       "prompt_number": 190,
       "text": [
        "2"
       ]
      }
     ],
     "prompt_number": 190
    },
    {
     "cell_type": "markdown",
     "metadata": {},
     "source": [
      "* Usando la funci\u00f3n `np.exp` calcula `0`, `1`, `5.5` y `-5.5`"
     ]
    },
    {
     "cell_type": "code",
     "collapsed": false,
     "input": [
      "np.exp(0)"
     ],
     "language": "python",
     "metadata": {},
     "outputs": [
      {
       "metadata": {},
       "output_type": "pyout",
       "prompt_number": 152,
       "text": [
        "1.0"
       ]
      }
     ],
     "prompt_number": 152
    },
    {
     "cell_type": "code",
     "collapsed": false,
     "input": [
      "np.exp(1)"
     ],
     "language": "python",
     "metadata": {},
     "outputs": [
      {
       "metadata": {},
       "output_type": "pyout",
       "prompt_number": 153,
       "text": [
        "2.7182818284590451"
       ]
      }
     ],
     "prompt_number": 153
    },
    {
     "cell_type": "code",
     "collapsed": false,
     "input": [
      "np.exp(5.5)"
     ],
     "language": "python",
     "metadata": {},
     "outputs": [
      {
       "metadata": {},
       "output_type": "pyout",
       "prompt_number": 154,
       "text": [
        "244.69193226422038"
       ]
      }
     ],
     "prompt_number": 154
    },
    {
     "cell_type": "code",
     "collapsed": false,
     "input": [
      "np.exp(-5.5)"
     ],
     "language": "python",
     "metadata": {},
     "outputs": [
      {
       "metadata": {},
       "output_type": "pyout",
       "prompt_number": 155,
       "text": [
        "0.0040867714384640666"
       ]
      }
     ],
     "prompt_number": 155
    },
    {
     "cell_type": "markdown",
     "metadata": {},
     "source": [
      "* Usando tu funci\u00f3n, calcula los mismos valores a orden 20 \u00bfEn cu\u00e1l falla? \u00bfPor qu\u00e9 crees que sea?"
     ]
    },
    {
     "cell_type": "code",
     "collapsed": false,
     "input": [
      "exp_maclaurin(0,20)"
     ],
     "language": "python",
     "metadata": {},
     "outputs": [
      {
       "output_type": "stream",
       "stream": "stdout",
       "text": [
        "          20\t           0\t          20\t2432902008176640000\t                   0\t                   1\n"
       ]
      },
      {
       "metadata": {},
       "output_type": "pyout",
       "prompt_number": 191,
       "text": [
        "1"
       ]
      }
     ],
     "prompt_number": 191
    },
    {
     "cell_type": "code",
     "collapsed": false,
     "input": [
      "exp_maclaurin(1,20)"
     ],
     "language": "python",
     "metadata": {},
     "outputs": [
      {
       "output_type": "stream",
       "stream": "stdout",
       "text": [
        "          20\t           1\t          21\t2432902008176640000\t                   1\t                   2\n"
       ]
      },
      {
       "metadata": {},
       "output_type": "pyout",
       "prompt_number": 194,
       "text": [
        "2"
       ]
      }
     ],
     "prompt_number": 194
    },
    {
     "cell_type": "code",
     "collapsed": false,
     "input": [
      "exp_maclaurin(5.5,20)"
     ],
     "language": "python",
     "metadata": {},
     "outputs": [
      {
       "ename": "TypeError",
       "evalue": "unsupported operand type(s) for ^: 'float' and 'int'",
       "output_type": "pyerr",
       "traceback": [
        "\u001b[1;31m---------------------------------------------------------------------------\u001b[0m\n\u001b[1;31mTypeError\u001b[0m                                 Traceback (most recent call last)",
        "\u001b[1;32m<ipython-input-196-1dee0a1cfc48>\u001b[0m in \u001b[0;36m<module>\u001b[1;34m()\u001b[0m\n\u001b[1;32m----> 1\u001b[1;33m \u001b[0mexp_maclaurin\u001b[0m\u001b[1;33m(\u001b[0m\u001b[1;36m5.5\u001b[0m\u001b[1;33m,\u001b[0m\u001b[1;36m20\u001b[0m\u001b[1;33m)\u001b[0m\u001b[1;33m\u001b[0m\u001b[0m\n\u001b[0m",
        "\u001b[1;32m<ipython-input-193-630ed882947d>\u001b[0m in \u001b[0;36mexp_maclaurin\u001b[1;34m(x, n)\u001b[0m\n\u001b[0;32m      3\u001b[0m     \u001b[1;32mfor\u001b[0m \u001b[0mi\u001b[0m \u001b[1;32min\u001b[0m \u001b[0mxrange\u001b[0m\u001b[1;33m(\u001b[0m\u001b[1;36m0\u001b[0m\u001b[1;33m,\u001b[0m\u001b[0mn\u001b[0m\u001b[1;33m+\u001b[0m\u001b[1;36m1\u001b[0m\u001b[1;33m)\u001b[0m\u001b[1;33m:\u001b[0m\u001b[1;33m\u001b[0m\u001b[0m\n\u001b[0;32m      4\u001b[0m         \u001b[0msuma\u001b[0m \u001b[1;33m+=\u001b[0m \u001b[1;33m(\u001b[0m\u001b[0mx\u001b[0m\u001b[1;33m**\u001b[0m\u001b[0mi\u001b[0m\u001b[1;33m)\u001b[0m \u001b[1;33m/\u001b[0m \u001b[0mfactorial\u001b[0m\u001b[1;33m(\u001b[0m\u001b[0mi\u001b[0m\u001b[1;33m)\u001b[0m\u001b[1;33m\u001b[0m\u001b[0m\n\u001b[1;32m----> 5\u001b[1;33m     \u001b[1;32mprint\u001b[0m \u001b[1;34m\"%12s\\t%12s\\t%12s\\t%12s\\t%20s\\t%20s\"\u001b[0m \u001b[1;33m%\u001b[0m \u001b[1;33m(\u001b[0m\u001b[0mi\u001b[0m\u001b[1;33m,\u001b[0m \u001b[0mx\u001b[0m\u001b[1;33m,\u001b[0m \u001b[0mx\u001b[0m\u001b[1;33m^\u001b[0m\u001b[0mi\u001b[0m\u001b[1;33m,\u001b[0m \u001b[0mfactorial\u001b[0m\u001b[1;33m(\u001b[0m\u001b[0mi\u001b[0m\u001b[1;33m)\u001b[0m\u001b[1;33m,\u001b[0m \u001b[0mx\u001b[0m\u001b[1;33m^\u001b[0m\u001b[0mi\u001b[0m\u001b[1;33m/\u001b[0m\u001b[0mfactorial\u001b[0m\u001b[1;33m(\u001b[0m\u001b[0mi\u001b[0m\u001b[1;33m)\u001b[0m\u001b[1;33m,\u001b[0m \u001b[0msuma\u001b[0m\u001b[1;33m)\u001b[0m\u001b[1;33m\u001b[0m\u001b[0m\n\u001b[0m\u001b[0;32m      6\u001b[0m     \u001b[1;32mreturn\u001b[0m \u001b[0msuma\u001b[0m\u001b[1;33m\u001b[0m\u001b[0m\n",
        "\u001b[1;31mTypeError\u001b[0m: unsupported operand type(s) for ^: 'float' and 'int'"
       ]
      }
     ],
     "prompt_number": 196
    },
    {
     "cell_type": "code",
     "collapsed": false,
     "input": [
      "exp_maclaurin(-5.5,20)"
     ],
     "language": "python",
     "metadata": {},
     "outputs": [
      {
       "ename": "TypeError",
       "evalue": "unsupported operand type(s) for ^: 'float' and 'int'",
       "output_type": "pyerr",
       "traceback": [
        "\u001b[1;31m---------------------------------------------------------------------------\u001b[0m\n\u001b[1;31mTypeError\u001b[0m                                 Traceback (most recent call last)",
        "\u001b[1;32m<ipython-input-197-7a3eaf665051>\u001b[0m in \u001b[0;36m<module>\u001b[1;34m()\u001b[0m\n\u001b[1;32m----> 1\u001b[1;33m \u001b[0mexp_maclaurin\u001b[0m\u001b[1;33m(\u001b[0m\u001b[1;33m-\u001b[0m\u001b[1;36m5.5\u001b[0m\u001b[1;33m,\u001b[0m\u001b[1;36m20\u001b[0m\u001b[1;33m)\u001b[0m\u001b[1;33m\u001b[0m\u001b[0m\n\u001b[0m",
        "\u001b[1;32m<ipython-input-193-630ed882947d>\u001b[0m in \u001b[0;36mexp_maclaurin\u001b[1;34m(x, n)\u001b[0m\n\u001b[0;32m      3\u001b[0m     \u001b[1;32mfor\u001b[0m \u001b[0mi\u001b[0m \u001b[1;32min\u001b[0m \u001b[0mxrange\u001b[0m\u001b[1;33m(\u001b[0m\u001b[1;36m0\u001b[0m\u001b[1;33m,\u001b[0m\u001b[0mn\u001b[0m\u001b[1;33m+\u001b[0m\u001b[1;36m1\u001b[0m\u001b[1;33m)\u001b[0m\u001b[1;33m:\u001b[0m\u001b[1;33m\u001b[0m\u001b[0m\n\u001b[0;32m      4\u001b[0m         \u001b[0msuma\u001b[0m \u001b[1;33m+=\u001b[0m \u001b[1;33m(\u001b[0m\u001b[0mx\u001b[0m\u001b[1;33m**\u001b[0m\u001b[0mi\u001b[0m\u001b[1;33m)\u001b[0m \u001b[1;33m/\u001b[0m \u001b[0mfactorial\u001b[0m\u001b[1;33m(\u001b[0m\u001b[0mi\u001b[0m\u001b[1;33m)\u001b[0m\u001b[1;33m\u001b[0m\u001b[0m\n\u001b[1;32m----> 5\u001b[1;33m     \u001b[1;32mprint\u001b[0m \u001b[1;34m\"%12s\\t%12s\\t%12s\\t%12s\\t%20s\\t%20s\"\u001b[0m \u001b[1;33m%\u001b[0m \u001b[1;33m(\u001b[0m\u001b[0mi\u001b[0m\u001b[1;33m,\u001b[0m \u001b[0mx\u001b[0m\u001b[1;33m,\u001b[0m \u001b[0mx\u001b[0m\u001b[1;33m^\u001b[0m\u001b[0mi\u001b[0m\u001b[1;33m,\u001b[0m \u001b[0mfactorial\u001b[0m\u001b[1;33m(\u001b[0m\u001b[0mi\u001b[0m\u001b[1;33m)\u001b[0m\u001b[1;33m,\u001b[0m \u001b[0mx\u001b[0m\u001b[1;33m^\u001b[0m\u001b[0mi\u001b[0m\u001b[1;33m/\u001b[0m\u001b[0mfactorial\u001b[0m\u001b[1;33m(\u001b[0m\u001b[0mi\u001b[0m\u001b[1;33m)\u001b[0m\u001b[1;33m,\u001b[0m \u001b[0msuma\u001b[0m\u001b[1;33m)\u001b[0m\u001b[1;33m\u001b[0m\u001b[0m\n\u001b[0m\u001b[0;32m      6\u001b[0m     \u001b[1;32mreturn\u001b[0m \u001b[0msuma\u001b[0m\u001b[1;33m\u001b[0m\u001b[0m\n",
        "\u001b[1;31mTypeError\u001b[0m: unsupported operand type(s) for ^: 'float' and 'int'"
       ]
      }
     ],
     "prompt_number": 197
    },
    {
     "cell_type": "markdown",
     "metadata": {},
     "source": [
      "* \u00bfC\u00f3mo resolver\u00edas este problema? Implementa tu soluci\u00f3n."
     ]
    },
    {
     "cell_type": "markdown",
     "metadata": {},
     "source": [
      "Mi problema es que uso int en lugar de float, as\u00ed que eso es lo que deberia implementar en mi soluci\u00f3n"
     ]
    },
    {
     "cell_type": "code",
     "collapsed": false,
     "input": [
      "def exp_maclaurin(x,n):\n",
      "    suma=0.0\n",
      "    for i in xrange(0,n+1):\n",
      "        suma += (x**i) / factorial(i)\n",
      "    print \"%12s\\t%12s\\t%12s\\t%12s\\t%20s\\t%20s\" % (float(i), float(x), float(x^i), float(factorial(i)), float(x^i/factorial(i)), float(suma))\n",
      "    \n",
      "    return suma"
     ],
     "language": "python",
     "metadata": {},
     "outputs": [],
     "prompt_number": 205
    },
    {
     "cell_type": "code",
     "collapsed": false,
     "input": [
      "exp_maclaurin(-5.5,20)"
     ],
     "language": "python",
     "metadata": {},
     "outputs": [
      {
       "ename": "TypeError",
       "evalue": "unsupported operand type(s) for ^: 'float' and 'int'",
       "output_type": "pyerr",
       "traceback": [
        "\u001b[1;31m---------------------------------------------------------------------------\u001b[0m\n\u001b[1;31mTypeError\u001b[0m                                 Traceback (most recent call last)",
        "\u001b[1;32m<ipython-input-207-7a3eaf665051>\u001b[0m in \u001b[0;36m<module>\u001b[1;34m()\u001b[0m\n\u001b[1;32m----> 1\u001b[1;33m \u001b[0mexp_maclaurin\u001b[0m\u001b[1;33m(\u001b[0m\u001b[1;33m-\u001b[0m\u001b[1;36m5.5\u001b[0m\u001b[1;33m,\u001b[0m\u001b[1;36m20\u001b[0m\u001b[1;33m)\u001b[0m\u001b[1;33m\u001b[0m\u001b[0m\n\u001b[0m",
        "\u001b[1;32m<ipython-input-205-f472099ddff3>\u001b[0m in \u001b[0;36mexp_maclaurin\u001b[1;34m(x, n)\u001b[0m\n\u001b[0;32m      3\u001b[0m     \u001b[1;32mfor\u001b[0m \u001b[0mi\u001b[0m \u001b[1;32min\u001b[0m \u001b[0mxrange\u001b[0m\u001b[1;33m(\u001b[0m\u001b[1;36m0\u001b[0m\u001b[1;33m,\u001b[0m\u001b[0mn\u001b[0m\u001b[1;33m+\u001b[0m\u001b[1;36m1\u001b[0m\u001b[1;33m)\u001b[0m\u001b[1;33m:\u001b[0m\u001b[1;33m\u001b[0m\u001b[0m\n\u001b[0;32m      4\u001b[0m         \u001b[0msuma\u001b[0m \u001b[1;33m+=\u001b[0m \u001b[1;33m(\u001b[0m\u001b[0mx\u001b[0m\u001b[1;33m**\u001b[0m\u001b[0mi\u001b[0m\u001b[1;33m)\u001b[0m \u001b[1;33m/\u001b[0m \u001b[0mfactorial\u001b[0m\u001b[1;33m(\u001b[0m\u001b[0mi\u001b[0m\u001b[1;33m)\u001b[0m\u001b[1;33m\u001b[0m\u001b[0m\n\u001b[1;32m----> 5\u001b[1;33m     \u001b[1;32mprint\u001b[0m \u001b[1;34m\"%12s\\t%12s\\t%12s\\t%12s\\t%20s\\t%20s\"\u001b[0m \u001b[1;33m%\u001b[0m \u001b[1;33m(\u001b[0m\u001b[0mfloat\u001b[0m\u001b[1;33m(\u001b[0m\u001b[0mi\u001b[0m\u001b[1;33m)\u001b[0m\u001b[1;33m,\u001b[0m \u001b[0mfloat\u001b[0m\u001b[1;33m(\u001b[0m\u001b[0mx\u001b[0m\u001b[1;33m)\u001b[0m\u001b[1;33m,\u001b[0m \u001b[0mfloat\u001b[0m\u001b[1;33m(\u001b[0m\u001b[0mx\u001b[0m\u001b[1;33m^\u001b[0m\u001b[0mi\u001b[0m\u001b[1;33m)\u001b[0m\u001b[1;33m,\u001b[0m \u001b[0mfloat\u001b[0m\u001b[1;33m(\u001b[0m\u001b[0mfactorial\u001b[0m\u001b[1;33m(\u001b[0m\u001b[0mi\u001b[0m\u001b[1;33m)\u001b[0m\u001b[1;33m)\u001b[0m\u001b[1;33m,\u001b[0m \u001b[0mfloat\u001b[0m\u001b[1;33m(\u001b[0m\u001b[0mx\u001b[0m\u001b[1;33m^\u001b[0m\u001b[0mi\u001b[0m\u001b[1;33m/\u001b[0m\u001b[0mfactorial\u001b[0m\u001b[1;33m(\u001b[0m\u001b[0mi\u001b[0m\u001b[1;33m)\u001b[0m\u001b[1;33m)\u001b[0m\u001b[1;33m,\u001b[0m \u001b[0mfloat\u001b[0m\u001b[1;33m(\u001b[0m\u001b[0msuma\u001b[0m\u001b[1;33m)\u001b[0m\u001b[1;33m)\u001b[0m\u001b[1;33m\u001b[0m\u001b[0m\n\u001b[0m\u001b[0;32m      6\u001b[0m \u001b[1;33m\u001b[0m\u001b[0m\n\u001b[0;32m      7\u001b[0m     \u001b[1;32mreturn\u001b[0m \u001b[0msuma\u001b[0m\u001b[1;33m\u001b[0m\u001b[0m\n",
        "\u001b[1;31mTypeError\u001b[0m: unsupported operand type(s) for ^: 'float' and 'int'"
       ]
      }
     ],
     "prompt_number": 207
    },
    {
     "cell_type": "markdown",
     "metadata": {},
     "source": [
      "intent\u00e9 cambiarlo pero no supe c\u00f3mo."
     ]
    },
    {
     "cell_type": "markdown",
     "metadata": {},
     "source": [
      "<div class=\"alert alert-info\">\n",
      "**HINT** Recuerda las leyes de los exponentes\n",
      "</div>"
     ]
    },
    {
     "cell_type": "heading",
     "level": 2,
     "metadata": {},
     "source": [
      "Problema 10"
     ]
    },
    {
     "cell_type": "markdown",
     "metadata": {},
     "source": [
      "- \u00bfQu\u00e9 pasa si usas 16 bits, 32 bits o 64 bits? conforme tengo mas bits la presici\u00f3n y la resoluci\u00f3n aumentan."
     ]
    },
    {
     "cell_type": "markdown",
     "metadata": {},
     "source": [
      "- Implementa el **problema 8** usando el otro lenguaje que no usaste \u00bfEl resultado es diferente? "
     ]
    },
    {
     "cell_type": "code",
     "collapsed": false,
     "input": [
      "varianza(np.array([2,4,6,8,10]))"
     ],
     "language": "python",
     "metadata": {},
     "outputs": [
      {
       "metadata": {},
       "output_type": "pyout",
       "prompt_number": 210,
       "text": [
        "10"
       ]
      }
     ],
     "prompt_number": 210
    },
    {
     "cell_type": "markdown",
     "metadata": {},
     "source": [
      "SOLUCI\u00d3N EN OCTAVE\n",
      "\n",
      "octave:19> a=[2 4 6 8 10]\n",
      "\n",
      "a =\n",
      "\n",
      "    2    4    6    8   10\n",
      "\n",
      "octave:20> var(a)\n",
      "\n",
      "ans =  10\n",
      "\n",
      "octave:21> "
     ]
    },
    {
     "cell_type": "markdown",
     "metadata": {},
     "source": [
      "Octave ya ten\u00eda una funci\u00f3n para obtener la varianza, por lo tanto fue m\u00e1s facil usar octave para encontrar la varianza."
     ]
    },
    {
     "cell_type": "markdown",
     "metadata": {},
     "source": []
    }
   ],
   "metadata": {}
  }
 ]
}