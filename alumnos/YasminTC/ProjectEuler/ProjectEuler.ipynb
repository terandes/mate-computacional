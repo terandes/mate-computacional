{
 "metadata": {
  "name": "",
  "signature": "sha256:66579b0f0f17d2d34f367d58f52740667de334dde993670d3421b3e5f5b99797"
 },
 "nbformat": 3,
 "nbformat_minor": 0,
 "worksheets": [
  {
   "cells": [
    {
     "cell_type": "heading",
     "level": 1,
     "metadata": {},
     "source": [
      "Project Euler "
     ]
    },
    {
     "cell_type": "heading",
     "level": 3,
     "metadata": {},
     "source": [
      "Problem 1 - 29 de enero"
     ]
    },
    {
     "cell_type": "code",
     "collapsed": false,
     "input": [
      "suma=0\n",
      "for k in xrange(1,1000):\n",
      "    if (k%3==0 or k%5==0):\n",
      "        suma=suma+k\n",
      "    else:\n",
      "        suma=suma\n",
      "print suma"
     ],
     "language": "python",
     "metadata": {},
     "outputs": [
      {
       "output_type": "stream",
       "stream": "stdout",
       "text": [
        "233168\n"
       ]
      }
     ],
     "prompt_number": 18
    },
    {
     "cell_type": "code",
     "collapsed": false,
     "input": [
      "#C\u00f3mo borro esto?"
     ],
     "language": "python",
     "metadata": {},
     "outputs": [],
     "prompt_number": 1
    },
    {
     "cell_type": "raw",
     "metadata": {},
     "source": [
      "En esta soluci\u00f3n utilizo for porque as\u00ed analizio todos los numeros del 1 al 1000 mediante un if."
     ]
    },
    {
     "cell_type": "heading",
     "level": 3,
     "metadata": {},
     "source": [
      "Problem 2 - 1 Febrero"
     ]
    },
    {
     "cell_type": "code",
     "collapsed": false,
     "input": [
      "fibonacci_list = [1, 2]\n",
      "num_1 = 1\n",
      "num_2 = 2\n",
      "num_3 = 3\n",
      "\n",
      "while (num_3 <= 4000000):\n",
      "    num_3 = num_1 + num_2\n",
      "    fibonacci_list.append(num_3)\n",
      "    num_1 = num_2\n",
      "    num_2 = num_3\n",
      "\n",
      "    \n",
      "total = sum(x for x in fibonacci_list if x % 2 == 0)\n",
      "\n",
      "print total"
     ],
     "language": "python",
     "metadata": {},
     "outputs": [
      {
       "output_type": "stream",
       "stream": "stdout",
       "text": [
        "4613732\n"
       ]
      }
     ],
     "prompt_number": 26
    },
    {
     "cell_type": "markdown",
     "metadata": {},
     "source": [
      "En esta soluci\u00f3n utilice el concepto de lista, el cual ayuda a guardar todos los n\u00fameros Fibonacci, del 1 al 4000 000 mediante un while-append.\n",
      "Despu\u00e9s  utilic\u00e9 \u201csum\u201d para sumar todos los n\u00fameros de la lista, siempre y cuando sean m\u00faltiplos de 2."
     ]
    },
    {
     "cell_type": "heading",
     "level": 3,
     "metadata": {},
     "source": [
      "Problema 3 - 2 Febrero"
     ]
    },
    {
     "cell_type": "code",
     "collapsed": false,
     "input": [
      "def largest_prime_factor(n):\n",
      " \n",
      "    largest_factor = 1\n",
      "    \n",
      "    while n % 2 == 0:\n",
      "        largest_factor = 2\n",
      "        n = n/2\n",
      "\n",
      "    p = 3\n",
      "    while n != 1:\n",
      "        while n % p == 0:\n",
      "            largest_factor = p\n",
      "            n = n/p\n",
      "        p += 2\n",
      " \n",
      "    return largest_factor"
     ],
     "language": "python",
     "metadata": {},
     "outputs": [],
     "prompt_number": 24
    },
    {
     "cell_type": "code",
     "collapsed": false,
     "input": [
      "largest_prime_factor(600851475143)"
     ],
     "language": "python",
     "metadata": {},
     "outputs": [
      {
       "metadata": {},
       "output_type": "pyout",
       "prompt_number": 25,
       "text": [
        "6857"
       ]
      }
     ],
     "prompt_number": 25
    },
    {
     "cell_type": "markdown",
     "metadata": {},
     "source": [
      "Esta soluci\u00f3n la obtuve de \u201cJason\u00b4s code blog\u201d. Primero analiza el numero con el factor 2 y cuando 2 deja de ser su factor comienza a analizar los siguientes factores. As\u00ed el segundo factor que analiza ser\u00e1 3 y despu\u00e9s ir\u00e1 aumentando de dos en dos el factor porque los pares ya fueron analizados."
     ]
    },
    {
     "cell_type": "code",
     "collapsed": false,
     "input": [],
     "language": "python",
     "metadata": {},
     "outputs": []
    }
   ],
   "metadata": {}
  }
 ]
}