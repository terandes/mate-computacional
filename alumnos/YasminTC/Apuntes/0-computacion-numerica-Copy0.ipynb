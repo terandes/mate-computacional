{
 "metadata": {
  "name": "",
  "signature": "sha256:6b87977addbfb8901afe35724cf32740a8115e558e44f5cfc2fd9058ed12f8e9"
 },
 "nbformat": 3,
 "nbformat_minor": 0,
 "worksheets": [
  {
   "cells": [
    {
     "cell_type": "heading",
     "level": 1,
     "metadata": {},
     "source": [
      "Limitaciones de la computadora: Aritm\u00e9tica de punto flotante"
     ]
    },
    {
     "cell_type": "markdown",
     "metadata": {},
     "source": [
      "En la clase pasada revisamos los tipos de datos num\u00e9ricos que soporta `python`. En particular `float`,   `integer` y `complex`. Pero todos ellos, al ser expresados en la computadora, pierden algunas de sus propiedades matem\u00e1ticas *puras*, por as\u00ed decirlo. En esta pl\u00e1tica veremos las limitaciones de la representaci\u00f3n matem\u00e1tica en objetos reales."
     ]
    },
    {
     "cell_type": "heading",
     "level": 2,
     "metadata": {},
     "source": [
      "Enteros"
     ]
    },
    {
     "cell_type": "markdown",
     "metadata": {},
     "source": [
      "Matem\u00e1ticamente los **enteros** son un conjunto *infinito*  $ \\mathbb{Z} =\\{\\ldots, -3,-2,-1,0,1,2,3,\\ldots\\}$. Por otro lado la computadora es de tama\u00f1o *finito*, por lo cual es imposible representar todos esos n\u00fameros en la computadora. En la computadora los **enteros** o `integers` o `ints` son s\u00f3lo un subconjunto finito de los **enteros**."
     ]
    },
    {
     "cell_type": "markdown",
     "metadata": {},
     "source": [
      "El tipo `int` se representa en 4-bytes, es decir en $32$ bits. (**Ejercicio**: \u00bfPor qu\u00e9?). El n\u00famero m\u00e1ximo (a nivel CPU) est\u00e1 dado por $2^{32}$."
     ]
    },
    {
     "cell_type": "code",
     "collapsed": false,
     "input": [
      "2**32"
     ],
     "language": "python",
     "metadata": {},
     "outputs": [
      {
       "metadata": {},
       "output_type": "pyout",
       "prompt_number": 1,
       "text": [
        "4294967296"
       ]
      }
     ],
     "prompt_number": 1
    },
    {
     "cell_type": "markdown",
     "metadata": {},
     "source": [
      "Pero ya que queremos representar tanto los positivos como los negativos:"
     ]
    },
    {
     "cell_type": "code",
     "collapsed": false,
     "input": [
      "[-2**32/2, 2**32/2] "
     ],
     "language": "python",
     "metadata": {},
     "outputs": [
      {
       "metadata": {},
       "output_type": "pyout",
       "prompt_number": 2,
       "text": [
        "[-2147483648, 2147483648]"
       ]
      }
     ],
     "prompt_number": 2
    },
    {
     "cell_type": "markdown",
     "metadata": {},
     "source": [
      "El valor exacto del l\u00edmite superior en tu computadora lo puedes obtener mediante:"
     ]
    },
    {
     "cell_type": "code",
     "collapsed": false,
     "input": [
      "import sys\n",
      "sys.maxint"
     ],
     "language": "python",
     "metadata": {},
     "outputs": [
      {
       "metadata": {},
       "output_type": "pyout",
       "prompt_number": 3,
       "text": [
        "9223372036854775807"
       ]
      }
     ],
     "prompt_number": 3
    },
    {
     "cell_type": "markdown",
     "metadata": {},
     "source": [
      "\u00bfPor qu\u00e9 crees que es diferente? \u00bfTiene que ver con la arquitectura de tu **CPU**? \u00bfEs de $64$ bits? \u00bfEntonces cu\u00e1ntos bytes se ocupan para representar un entero?"
     ]
    },
    {
     "cell_type": "markdown",
     "metadata": {},
     "source": [
      "Por otra parte, `python` puede utilizar enteros de sin l\u00edmite de precisi\u00f3n: `long integers`. Estos se distinguen por una `L` al final del n\u00famero:"
     ]
    },
    {
     "cell_type": "code",
     "collapsed": false,
     "input": [
      "x = 1\n",
      "print x\n",
      "type(x)"
     ],
     "language": "python",
     "metadata": {},
     "outputs": [
      {
       "output_type": "stream",
       "stream": "stdout",
       "text": [
        "1\n"
       ]
      },
      {
       "metadata": {},
       "output_type": "pyout",
       "prompt_number": 4,
       "text": [
        "int"
       ]
      }
     ],
     "prompt_number": 4
    },
    {
     "cell_type": "code",
     "collapsed": false,
     "input": [
      "x = 1L\n",
      "print x\n",
      "type(x)"
     ],
     "language": "python",
     "metadata": {},
     "outputs": [
      {
       "output_type": "stream",
       "stream": "stdout",
       "text": [
        "1\n"
       ]
      },
      {
       "metadata": {},
       "output_type": "pyout",
       "prompt_number": 5,
       "text": [
        "long"
       ]
      }
     ],
     "prompt_number": 5
    },
    {
     "cell_type": "markdown",
     "metadata": {},
     "source": [
      "Desde `python 2.7` autom\u00e1ticamente convierte los `int` en `long`:"
     ]
    },
    {
     "cell_type": "code",
     "collapsed": false,
     "input": [
      "x = 10000000\n",
      "type(x)"
     ],
     "language": "python",
     "metadata": {},
     "outputs": [
      {
       "metadata": {},
       "output_type": "pyout",
       "prompt_number": 6,
       "text": [
        "int"
       ]
      }
     ],
     "prompt_number": 6
    },
    {
     "cell_type": "code",
     "collapsed": false,
     "input": [
      "type(x*x*x)"
     ],
     "language": "python",
     "metadata": {},
     "outputs": [
      {
       "metadata": {},
       "output_type": "pyout",
       "prompt_number": 7,
       "text": [
        "long"
       ]
      }
     ],
     "prompt_number": 7
    },
    {
     "cell_type": "markdown",
     "metadata": {},
     "source": [
      "El l\u00edmite encontrado con `sys.maxint` s\u00f3lo aplica a los enteros, y marca la conversi\u00f3n a tipo `long`:"
     ]
    },
    {
     "cell_type": "code",
     "collapsed": false,
     "input": [
      "type(sys.maxint)"
     ],
     "language": "python",
     "metadata": {},
     "outputs": [
      {
       "metadata": {},
       "output_type": "pyout",
       "prompt_number": 8,
       "text": [
        "int"
       ]
      }
     ],
     "prompt_number": 8
    },
    {
     "cell_type": "code",
     "collapsed": false,
     "input": [
      "type(sys.maxint + 1)"
     ],
     "language": "python",
     "metadata": {},
     "outputs": [
      {
       "metadata": {},
       "output_type": "pyout",
       "prompt_number": 9,
       "text": [
        "long"
       ]
      }
     ],
     "prompt_number": 9
    },
    {
     "cell_type": "markdown",
     "metadata": {},
     "source": [
      "La \u00fanica limitante podr\u00eda parecer ser la cantidad de memoria que tengas en tu computadora (o el tiempo que tengas para que esperar que se generen los n\u00fameros...)"
     ]
    },
    {
     "cell_type": "heading",
     "level": 3,
     "metadata": {},
     "source": [
      "Representaci\u00f3n binaria"
     ]
    },
    {
     "cell_type": "markdown",
     "metadata": {},
     "source": [
      "En python, para obtener la representaci\u00f3n de un n\u00famero en binario usamos la funci\u00f3n `bin`"
     ]
    },
    {
     "cell_type": "code",
     "collapsed": false,
     "input": [
      "bin(123)"
     ],
     "language": "python",
     "metadata": {},
     "outputs": [
      {
       "metadata": {},
       "output_type": "pyout",
       "prompt_number": 10,
       "text": [
        "'0b1111011'"
       ]
      }
     ],
     "prompt_number": 10
    },
    {
     "cell_type": "markdown",
     "metadata": {},
     "source": [
      "<div class=\"alert alert-info\">\n",
      "**Ejercicio** Genera una tabla del 0 al 255 con su representaci\u00f3n en binario y en decimal. Observa como usamos el `print` para formatear el texto de salida. Usa la ayuda de ipython para entender que hacen los s\u00edmbolos `%d` y `%s`.  \u00bfCu\u00e1ntos caracteres necesitas?\n",
      "</div>"
     ]
    },
    {
     "cell_type": "code",
     "collapsed": false,
     "input": [
      "for i in xrange(0,5):\n",
      "    print \"%d \\t %s\" % (i, bin(i))"
     ],
     "language": "python",
     "metadata": {},
     "outputs": [
      {
       "output_type": "stream",
       "stream": "stdout",
       "text": [
        "0 \t 0b0\n",
        "1 \t 0b1\n",
        "2 \t 0b10\n",
        "3 \t 0b11\n",
        "4 \t 0b100\n"
       ]
      }
     ],
     "prompt_number": 11
    },
    {
     "cell_type": "markdown",
     "metadata": {},
     "source": [
      "<div class=\"alert alert-info\">\n",
      "**Ejercicio**: Revisa la documentaci\u00f3n de `print` y completa con ceros a la izquierda la salida, para que todos tengan la misma cantidad de caracteres. A esto se le llama _padding_.\n",
      "</div>"
     ]
    },
    {
     "cell_type": "heading",
     "level": 2,
     "metadata": {},
     "source": [
      "Flotantes"
     ]
    },
    {
     "cell_type": "markdown",
     "metadata": {},
     "source": [
      "El mismo problema de *finitud* se presenta con los flotantes (que tratan de emular a los reales, $\\mathbb{R}$. "
     ]
    },
    {
     "cell_type": "markdown",
     "metadata": {},
     "source": [
      "Recordemos que los decimales (_flotantes_) que son **racionales** ($\\mathbb{Q}$) se pueden representar como la suma de fracciones en base $10$: "
     ]
    },
    {
     "cell_type": "markdown",
     "metadata": {},
     "source": [
      "`0.125` $\\equiv \\frac{1}{10} + \\frac{2}{100} + \\frac{5}{1000}$"
     ]
    },
    {
     "cell_type": "markdown",
     "metadata": {},
     "source": [
      "Obviamente, adem\u00e1s de los racionales, quisieramos representar, los irracionales, pero a\u00fan en notaci\u00f3n decimal esto conduce a perdida de _precisi\u00f3n_ \u00bfQu\u00e9 es mejor para representar $\\frac{1}{3}$ \u00bf`0.3` o `0.33` o `0.3333`?"
     ]
    },
    {
     "cell_type": "markdown",
     "metadata": {},
     "source": [
      "En base $2$ los flotantes se representan igual:"
     ]
    },
    {
     "cell_type": "markdown",
     "metadata": {},
     "source": [
      "`0.001`$\\equiv \\frac{0}{2} + \\frac{0}{4} + \\frac{1}{8}$"
     ]
    },
    {
     "cell_type": "code",
     "collapsed": false,
     "input": [
      "bin(0.125)"
     ],
     "language": "python",
     "metadata": {},
     "outputs": [
      {
       "ename": "TypeError",
       "evalue": "'float' object cannot be interpreted as an index",
       "output_type": "pyerr",
       "traceback": [
        "\u001b[1;31m---------------------------------------------------------------------------\u001b[0m\n\u001b[1;31mTypeError\u001b[0m                                 Traceback (most recent call last)",
        "\u001b[1;32m<ipython-input-12-d9ebbdf47ef4>\u001b[0m in \u001b[0;36m<module>\u001b[1;34m()\u001b[0m\n\u001b[1;32m----> 1\u001b[1;33m \u001b[0mbin\u001b[0m\u001b[1;33m(\u001b[0m\u001b[1;36m0.125\u001b[0m\u001b[1;33m)\u001b[0m\u001b[1;33m\u001b[0m\u001b[0m\n\u001b[0m",
        "\u001b[1;31mTypeError\u001b[0m: 'float' object cannot be interpreted as an index"
       ]
      }
     ],
     "prompt_number": 12
    },
    {
     "cell_type": "code",
     "collapsed": false,
     "input": [
      "float.hex(0.125)"
     ],
     "language": "python",
     "metadata": {},
     "outputs": [
      {
       "metadata": {},
       "output_type": "pyout",
       "prompt_number": 13,
       "text": [
        "'0x1.0000000000000p-3'"
       ]
      }
     ],
     "prompt_number": 13
    },
    {
     "cell_type": "markdown",
     "metadata": {},
     "source": [
      "El problema de representatividad del $\\frac{1}{3}$ se da con el  $\\frac{1}{10}$:"
     ]
    },
    {
     "cell_type": "code",
     "collapsed": false,
     "input": [
      "0.1"
     ],
     "language": "python",
     "metadata": {},
     "outputs": [
      {
       "metadata": {},
       "output_type": "pyout",
       "prompt_number": 14,
       "text": [
        "0.1"
       ]
      }
     ],
     "prompt_number": 14
    },
    {
     "cell_type": "code",
     "collapsed": false,
     "input": [
      "0.1+0.2"
     ],
     "language": "python",
     "metadata": {},
     "outputs": [
      {
       "metadata": {},
       "output_type": "pyout",
       "prompt_number": 15,
       "text": [
        "0.30000000000000004"
       ]
      }
     ],
     "prompt_number": 15
    },
    {
     "cell_type": "markdown",
     "metadata": {},
     "source": [
      "Ahora observa lo que sigue, trata de adivinar el resultado antes de ejecutarlo, y luego trata de explicar el resultado"
     ]
    },
    {
     "cell_type": "code",
     "collapsed": false,
     "input": [
      "round(2.675,2)"
     ],
     "language": "python",
     "metadata": {},
     "outputs": [
      {
       "metadata": {},
       "output_type": "pyout",
       "prompt_number": 16,
       "text": [
        "2.67"
       ]
      }
     ],
     "prompt_number": 16
    },
    {
     "cell_type": "code",
     "collapsed": false,
     "input": [
      "from decimal import Decimal\n",
      "Decimal(2.675)\n"
     ],
     "language": "python",
     "metadata": {},
     "outputs": [
      {
       "metadata": {},
       "output_type": "pyout",
       "prompt_number": 17,
       "text": [
        "Decimal('2.67499999999999982236431605997495353221893310546875')"
       ]
      }
     ],
     "prompt_number": 17
    },
    {
     "cell_type": "code",
     "collapsed": false,
     "input": [
      "Decimal(0.1)"
     ],
     "language": "python",
     "metadata": {},
     "outputs": [
      {
       "metadata": {},
       "output_type": "pyout",
       "prompt_number": 18,
       "text": [
        "Decimal('0.1000000000000000055511151231257827021181583404541015625')"
       ]
      }
     ],
     "prompt_number": 18
    },
    {
     "cell_type": "heading",
     "level": 3,
     "metadata": {},
     "source": [
      "\u00bfC\u00f3mo representarlos?"
     ]
    },
    {
     "cell_type": "markdown",
     "metadata": {},
     "source": [
      "<div class=\"alert alert-warning\">\n",
      "Ver las notas que acompa\u00f1an este lecture\n",
      "</div>"
     ]
    },
    {
     "cell_type": "heading",
     "level": 4,
     "metadata": {},
     "source": [
      "IEEE-754"
     ]
    },
    {
     "cell_type": "markdown",
     "metadata": {},
     "source": [
      "El est\u00e1ndar [**IEEE-754**](http://en.wikipedia.org/wiki/Floating_point) para el caso de $64$ bits, divide los $8$ bytes como sigue\n",
      "- 1 bit para el signo $s$\n",
      "- 11 bits para el exponente $e$\n",
      "- 52 bits para la mantisa $m$, tambi\u00e9n conocida como _precisi\u00f3n_, $p$."
     ]
    },
    {
     "cell_type": "markdown",
     "metadata": {},
     "source": [
      "<div class=\"alert alert-info\">\n",
      "**Ejercicio** Leer el resumen del est\u00e1ndar en el link de arriba. Disc\u00fatelo en clase \u00bfTe parece la mejor opci\u00f3n?\n",
      "</div>"
     ]
    },
    {
     "cell_type": "markdown",
     "metadata": {},
     "source": [
      "<div class=\"alert alert-info\">\n",
      "**Ejercicio** Demuestra con el est\u00e1ndar la representaci\u00f3n binaria de `0.125`.\n",
      "</div>"
     ]
    },
    {
     "cell_type": "markdown",
     "metadata": {},
     "source": [
      "<div class=\"alert alert-info\">\n",
      "**Ejercicio** \u00bfCu\u00e1l es el n\u00famero flotante m\u00e1s grande y m\u00e1s peque\u00f1o que se puede representar? \u00bfCu\u00e1ntos flotantes caben en tu computadora en RAM (sup\u00f3n que no hay nada m\u00e1s ocupando el RAM)? \u00bfY en disco?\n",
      "</div>"
     ]
    },
    {
     "cell_type": "markdown",
     "metadata": {},
     "source": [
      "<div class=\"alert alert-info\">\n",
      "**Ejercicio** \u00bfCu\u00e1ntos bytes se requieren para representar un n\u00famero complejo $\\mathbb{C}$? \u00bfEn 32 y en 64 bits?\u00bfCu\u00e1les ser\u00e1n sus limitaciones?\n",
      "</div>"
     ]
    },
    {
     "cell_type": "markdown",
     "metadata": {},
     "source": [
      "Otro problema de la perdida de precisi\u00f3n es el siguiente:"
     ]
    },
    {
     "cell_type": "code",
     "collapsed": false,
     "input": [
      "suma = 0.0\n",
      "for x in range(10):\n",
      "    suma += 0.1\n",
      "suma"
     ],
     "language": "python",
     "metadata": {},
     "outputs": [
      {
       "metadata": {},
       "output_type": "pyout",
       "prompt_number": 19,
       "text": [
        "0.9999999999999999"
       ]
      }
     ],
     "prompt_number": 19
    },
    {
     "cell_type": "markdown",
     "metadata": {},
     "source": [
      "Que no es tan grave, hasta que se usa de la siguiente manera: lo siguiente es un error com\u00fan (observa la demostraci\u00f3n en el pizarr\u00f3n) :"
     ]
    },
    {
     "cell_type": "raw",
     "metadata": {},
     "source": [
      "x = 0.0\n",
      "while not x == 1.0:\n",
      "    x = x + 0.1\n",
      "    print(\"x=%19.17g\" % (x))"
     ]
    },
    {
     "cell_type": "markdown",
     "metadata": {},
     "source": [
      "La salida de los primeros 15 es la siguiente:"
     ]
    },
    {
     "cell_type": "code",
     "collapsed": false,
     "input": [
      "x = 0.0\n",
      "for i in xrange(0,15):\n",
      "    x = x + 0.1\n",
      "    print(\"x=%19.17g\" % (x))"
     ],
     "language": "python",
     "metadata": {},
     "outputs": [
      {
       "output_type": "stream",
       "stream": "stdout",
       "text": [
        "x=0.10000000000000001\n",
        "x=0.20000000000000001\n",
        "x=0.30000000000000004\n",
        "x=0.40000000000000002\n",
        "x=                0.5\n",
        "x=0.59999999999999998\n",
        "x=0.69999999999999996\n",
        "x=0.79999999999999993\n",
        "x=0.89999999999999991\n",
        "x=0.99999999999999989\n",
        "x= 1.0999999999999999\n",
        "x=                1.2\n",
        "x=                1.3\n",
        "x= 1.4000000000000001\n",
        "x= 1.5000000000000002\n"
       ]
      }
     ],
     "prompt_number": 20
    },
    {
     "cell_type": "markdown",
     "metadata": {},
     "source": [
      "<div class=\"alert alert-info\">\n",
      "**Ejercicio**:\u00bfQu\u00e9 ense\u00f1anza puedes sacar de esto?\n",
      "</div>"
     ]
    },
    {
     "cell_type": "markdown",
     "metadata": {},
     "source": [
      "Existe una manera (entre varias) de resolver el problema:"
     ]
    },
    {
     "cell_type": "code",
     "collapsed": false,
     "input": [
      "x = 0.0\n",
      "while abs(x -1.0) > 1e-8:\n",
      "    x = x + 0.1\n",
      "    print (\"x=%19.17g\" % (x))"
     ],
     "language": "python",
     "metadata": {},
     "outputs": [
      {
       "output_type": "stream",
       "stream": "stdout",
       "text": [
        "x=0.10000000000000001\n",
        "x=0.20000000000000001\n",
        "x=0.30000000000000004\n",
        "x=0.40000000000000002\n",
        "x=                0.5\n",
        "x=0.59999999999999998\n",
        "x=0.69999999999999996\n",
        "x=0.79999999999999993\n",
        "x=0.89999999999999991\n",
        "x=0.99999999999999989\n"
       ]
      }
     ],
     "prompt_number": 21
    },
    {
     "cell_type": "markdown",
     "metadata": {},
     "source": [
      "<div class=\"alert alert-info\">\n",
      "**Ejercicio:** Explica el c\u00f3digo.\n",
      "</div>"
     ]
    },
    {
     "cell_type": "heading",
     "level": 1,
     "metadata": {},
     "source": [
      "Volviendo a los enteros..."
     ]
    },
    {
     "cell_type": "markdown",
     "metadata": {},
     "source": [
      "Es importante notar que los **enteros** son de precisi\u00f3n arbitraria en `python`, pero los **flotantes** no. Observa el siguiente ejemplo, con n\u00fameros flotantes, obtenemos un `inf` (ya que nos pasamos del m\u00e1ximo exponente posible de acuerdo a la **IEEE 754**):"
     ]
    },
    {
     "cell_type": "code",
     "collapsed": false,
     "input": [
      "x = 1e200\n",
      "x"
     ],
     "language": "python",
     "metadata": {},
     "outputs": [
      {
       "metadata": {},
       "output_type": "pyout",
       "prompt_number": 22,
       "text": [
        "1e+200"
       ]
      }
     ],
     "prompt_number": 22
    },
    {
     "cell_type": "code",
     "collapsed": false,
     "input": [
      "type(x)"
     ],
     "language": "python",
     "metadata": {},
     "outputs": [
      {
       "metadata": {},
       "output_type": "pyout",
       "prompt_number": 23,
       "text": [
        "float"
       ]
      }
     ],
     "prompt_number": 23
    },
    {
     "cell_type": "code",
     "collapsed": false,
     "input": [
      "y = x*x\n",
      "y"
     ],
     "language": "python",
     "metadata": {},
     "outputs": [
      {
       "metadata": {},
       "output_type": "pyout",
       "prompt_number": 24,
       "text": [
        "inf"
       ]
      }
     ],
     "prompt_number": 24
    },
    {
     "cell_type": "code",
     "collapsed": false,
     "input": [
      "type(y)"
     ],
     "language": "python",
     "metadata": {},
     "outputs": [
      {
       "metadata": {},
       "output_type": "pyout",
       "prompt_number": 25,
       "text": [
        "float"
       ]
      }
     ],
     "prompt_number": 25
    },
    {
     "cell_type": "markdown",
     "metadata": {},
     "source": [
      "En cambio, usando enteros:"
     ]
    },
    {
     "cell_type": "code",
     "collapsed": false,
     "input": [
      "x = 10**200\n",
      "x"
     ],
     "language": "python",
     "metadata": {},
     "outputs": [
      {
       "metadata": {},
       "output_type": "pyout",
       "prompt_number": 26,
       "text": [
        "100000000000000000000000000000000000000000000000000000000000000000000000000000000000000000000000000000000000000000000000000000000000000000000000000000000000000000000000000000000000000000000000000000000L"
       ]
      }
     ],
     "prompt_number": 26
    },
    {
     "cell_type": "code",
     "collapsed": false,
     "input": [
      "type(x)"
     ],
     "language": "python",
     "metadata": {},
     "outputs": [
      {
       "metadata": {},
       "output_type": "pyout",
       "prompt_number": 27,
       "text": [
        "long"
       ]
      }
     ],
     "prompt_number": 27
    },
    {
     "cell_type": "code",
     "collapsed": false,
     "input": [
      "y = x*x\n",
      "y"
     ],
     "language": "python",
     "metadata": {},
     "outputs": [
      {
       "metadata": {},
       "output_type": "pyout",
       "prompt_number": 28,
       "text": [
        "10000000000000000000000000000000000000000000000000000000000000000000000000000000000000000000000000000000000000000000000000000000000000000000000000000000000000000000000000000000000000000000000000000000000000000000000000000000000000000000000000000000000000000000000000000000000000000000000000000000000000000000000000000000000000000000000000000000000000000000000000000000000000000000000000000000000000000L"
       ]
      }
     ],
     "prompt_number": 28
    },
    {
     "cell_type": "code",
     "collapsed": false,
     "input": [
      "type(y)"
     ],
     "language": "python",
     "metadata": {},
     "outputs": [
      {
       "metadata": {},
       "output_type": "pyout",
       "prompt_number": 29,
       "text": [
        "long"
       ]
      }
     ],
     "prompt_number": 29
    },
    {
     "cell_type": "markdown",
     "metadata": {},
     "source": [
      "Es muy importante no hacer nada que cambie esto a un n\u00famero flotante:"
     ]
    },
    {
     "cell_type": "code",
     "collapsed": false,
     "input": [
      "(x+0.4)*x"
     ],
     "language": "python",
     "metadata": {},
     "outputs": [
      {
       "metadata": {},
       "output_type": "pyout",
       "prompt_number": 30,
       "text": [
        "inf"
       ]
      }
     ],
     "prompt_number": 30
    },
    {
     "cell_type": "code",
     "collapsed": false,
     "input": [
      "x*x+0.4"
     ],
     "language": "python",
     "metadata": {},
     "outputs": [
      {
       "ename": "OverflowError",
       "evalue": "long int too large to convert to float",
       "output_type": "pyerr",
       "traceback": [
        "\u001b[1;31m---------------------------------------------------------------------------\u001b[0m\n\u001b[1;31mOverflowError\u001b[0m                             Traceback (most recent call last)",
        "\u001b[1;32m<ipython-input-31-3e5d93e88644>\u001b[0m in \u001b[0;36m<module>\u001b[1;34m()\u001b[0m\n\u001b[1;32m----> 1\u001b[1;33m \u001b[0mx\u001b[0m\u001b[1;33m*\u001b[0m\u001b[0mx\u001b[0m\u001b[1;33m+\u001b[0m\u001b[1;36m0.4\u001b[0m\u001b[1;33m\u001b[0m\u001b[0m\n\u001b[0m",
        "\u001b[1;31mOverflowError\u001b[0m: long int too large to convert to float"
       ]
      }
     ],
     "prompt_number": 31
    },
    {
     "cell_type": "heading",
     "level": 1,
     "metadata": {},
     "source": [
      "C\u00e1lculo simb\u00f3lico"
     ]
    },
    {
     "cell_type": "markdown",
     "metadata": {},
     "source": [
      "Es posible realizar c\u00e1lculo simb\u00f3lico en python (justo como en **Mathematica** o **Maple**) usando el paquete `sympy`. El c\u00f3digo siguiente es para imprimir a $\\LaTeX$ la salida de las instrucciones."
     ]
    },
    {
     "cell_type": "code",
     "collapsed": false,
     "input": [
      "from sympy.interactive import printing\n",
      "printing.init_printing(use_latex=True)"
     ],
     "language": "python",
     "metadata": {},
     "outputs": [],
     "prompt_number": 32
    },
    {
     "cell_type": "markdown",
     "metadata": {},
     "source": [
      "En las celdas que siguen, observa el diferente uso de `import` y `from` \u00bfCu\u00e1l es su funci\u00f3n? "
     ]
    },
    {
     "cell_type": "code",
     "collapsed": false,
     "input": [
      "from sympy import Symbol\n",
      "x = Symbol('x')"
     ],
     "language": "python",
     "metadata": {},
     "outputs": [],
     "prompt_number": 33
    },
    {
     "cell_type": "code",
     "collapsed": false,
     "input": [
      "x"
     ],
     "language": "python",
     "metadata": {},
     "outputs": [
      {
       "latex": [
        "$$x$$"
       ],
       "metadata": {},
       "output_type": "pyout",
       "png": "[encoded data removed]",
       "prompt_number": 34,
       "text": [
        "x"
       ]
      }
     ],
     "prompt_number": 34
    },
    {
     "cell_type": "code",
     "collapsed": false,
     "input": [
      "type(x)"
     ],
     "language": "python",
     "metadata": {},
     "outputs": [
      {
       "metadata": {},
       "output_type": "pyout",
       "prompt_number": 35,
       "text": [
        "sympy.core.symbol.Symbol"
       ]
      }
     ],
     "prompt_number": 35
    },
    {
     "cell_type": "code",
     "collapsed": false,
     "input": [
      "y = Symbol('y')"
     ],
     "language": "python",
     "metadata": {},
     "outputs": [],
     "prompt_number": 36
    },
    {
     "cell_type": "code",
     "collapsed": false,
     "input": [
      "2*x - x"
     ],
     "language": "python",
     "metadata": {},
     "outputs": [
      {
       "latex": [
        "$$x$$"
       ],
       "metadata": {},
       "output_type": "pyout",
       "png": "[encoded data removed]",
       "prompt_number": 37,
       "text": [
        "x"
       ]
      }
     ],
     "prompt_number": 37
    },
    {
     "cell_type": "code",
     "collapsed": false,
     "input": [
      "x +y +x  - 10*y*x"
     ],
     "language": "python",
     "metadata": {},
     "outputs": [
      {
       "latex": [
        "$$- 10 x y + 2 x + y$$"
       ],
       "metadata": {},
       "output_type": "pyout",
       "png": "[encoded data removed]",
       "prompt_number": 38,
       "text": [
        "-10\u22c5x\u22c5y + 2\u22c5x + y"
       ]
      }
     ],
     "prompt_number": 38
    },
    {
     "cell_type": "code",
     "collapsed": false,
     "input": [
      "import sympy as sym\n",
      "x,y,z = sym.symbols('x,y,z')\n",
      "x + 2*y + 3*z -x"
     ],
     "language": "python",
     "metadata": {},
     "outputs": [
      {
       "latex": [
        "$$2 y + 3 z$$"
       ],
       "metadata": {},
       "output_type": "pyout",
       "png": "[encoded data removed]",
       "prompt_number": 39,
       "text": [
        "2\u22c5y + 3\u22c5z"
       ]
      }
     ],
     "prompt_number": 39
    },
    {
     "cell_type": "markdown",
     "metadata": {},
     "source": [
      "`Sympy` tambi\u00e9n puede representar tipos num\u00e9ricos: `Rational` y `Real`"
     ]
    },
    {
     "cell_type": "code",
     "collapsed": false,
     "input": [
      "a = sym.Rational(1,10)\n",
      "a"
     ],
     "language": "python",
     "metadata": {},
     "outputs": [
      {
       "latex": [
        "$$\\frac{1}{10}$$"
       ],
       "metadata": {},
       "output_type": "pyout",
       "png": "[encoded data removed]",
       "prompt_number": 40,
       "text": [
        "1/10"
       ]
      }
     ],
     "prompt_number": 40
    },
    {
     "cell_type": "code",
     "collapsed": false,
     "input": [
      "b = sym.Rational(45,67)"
     ],
     "language": "python",
     "metadata": {},
     "outputs": [],
     "prompt_number": 42
    },
    {
     "cell_type": "code",
     "collapsed": false,
     "input": [
      "c = a*b\n",
      "c"
     ],
     "language": "python",
     "metadata": {},
     "outputs": [
      {
       "latex": [
        "$$\\frac{9}{134}$$"
       ],
       "metadata": {},
       "output_type": "pyout",
       "png": "[encoded data removed]",
       "prompt_number": 43,
       "text": [
        "9/134"
       ]
      }
     ],
     "prompt_number": 43
    },
    {
     "cell_type": "code",
     "collapsed": false,
     "input": [
      "d = a-b\n",
      "d"
     ],
     "language": "python",
     "metadata": {},
     "outputs": [
      {
       "latex": [
        "$$- \\frac{383}{670}$$"
       ],
       "metadata": {},
       "output_type": "pyout",
       "png": "[encoded data removed]",
       "prompt_number": 44,
       "text": [
        "-383 \n",
        "\u2500\u2500\u2500\u2500\u2500\n",
        " 670 "
       ]
      }
     ],
     "prompt_number": 44
    },
    {
     "cell_type": "code",
     "collapsed": false,
     "input": [
      "e = a+b\n",
      "e"
     ],
     "language": "python",
     "metadata": {},
     "outputs": [
      {
       "latex": [
        "$$\\frac{517}{670}$$"
       ],
       "metadata": {},
       "output_type": "pyout",
       "png": "[encoded data removed]",
       "prompt_number": 45,
       "text": [
        "517\n",
        "\u2500\u2500\u2500\n",
        "670"
       ]
      }
     ],
     "prompt_number": 45
    },
    {
     "cell_type": "code",
     "collapsed": false,
     "input": [
      "float(c)"
     ],
     "language": "python",
     "metadata": {},
     "outputs": [
      {
       "latex": [
        "$$0.0671641791045$$"
       ],
       "metadata": {},
       "output_type": "pyout",
       "png": "[encoded data removed]",
       "prompt_number": 46,
       "text": [
        "0.0671641791045"
       ]
      }
     ],
     "prompt_number": 46
    },
    {
     "cell_type": "code",
     "collapsed": false,
     "input": [
      "c"
     ],
     "language": "python",
     "metadata": {},
     "outputs": [
      {
       "latex": [
        "$$\\frac{9}{134}$$"
       ],
       "metadata": {},
       "output_type": "pyout",
       "png": "[encoded data removed]",
       "prompt_number": 47,
       "text": [
        "9/134"
       ]
      }
     ],
     "prompt_number": 47
    },
    {
     "cell_type": "markdown",
     "metadata": {},
     "source": [
      "Es posible usar el siguiente m\u00e9todo para indicarle a python cu\u00e1ntos decimales calcular (aunque no necesariamente se van a usar todos al guardarlo en memoria)."
     ]
    },
    {
     "cell_type": "code",
     "collapsed": false,
     "input": [
      "c.evalf()"
     ],
     "language": "python",
     "metadata": {},
     "outputs": [
      {
       "latex": [
        "$$0.0671641791044776$$"
       ],
       "metadata": {},
       "output_type": "pyout",
       "png": "[encoded data removed]",
       "prompt_number": 48,
       "text": [
        "0.0671641791044776"
       ]
      }
     ],
     "prompt_number": 48
    },
    {
     "cell_type": "code",
     "collapsed": false,
     "input": [
      "c.evalf(30)"
     ],
     "language": "python",
     "metadata": {},
     "outputs": [
      {
       "latex": [
        "$$0.0671641791044776119402985074627$$"
       ],
       "metadata": {},
       "output_type": "pyout",
       "png": "[encoded data removed]",
       "prompt_number": 49,
       "text": [
        "0.0671641791044776119402985074627"
       ]
      }
     ],
     "prompt_number": 49
    },
    {
     "cell_type": "code",
     "collapsed": false,
     "input": [
      "from sympy import *"
     ],
     "language": "python",
     "metadata": {},
     "outputs": [],
     "prompt_number": 50
    },
    {
     "cell_type": "code",
     "collapsed": false,
     "input": [
      "diff(sin(x), x)"
     ],
     "language": "python",
     "metadata": {},
     "outputs": [
      {
       "latex": [
        "$$\\cos{\\left (x \\right )}$$"
       ],
       "metadata": {},
       "output_type": "pyout",
       "png": "[encoded data removed]",
       "prompt_number": 51,
       "text": [
        "cos(x)"
       ]
      }
     ],
     "prompt_number": 51
    },
    {
     "cell_type": "code",
     "collapsed": false,
     "input": [
      "diff(sin(x), y)"
     ],
     "language": "python",
     "metadata": {},
     "outputs": [
      {
       "latex": [
        "$$0$$"
       ],
       "metadata": {},
       "output_type": "pyout",
       "png": "[encoded data removed]",
       "prompt_number": 52,
       "text": [
        "0"
       ]
      }
     ],
     "prompt_number": 52
    },
    {
     "cell_type": "code",
     "collapsed": false,
     "input": [
      "diff(10+3*x+4*x**2+45*x*y, x)"
     ],
     "language": "python",
     "metadata": {},
     "outputs": [
      {
       "latex": [
        "$$8 x + 45 y + 3$$"
       ],
       "metadata": {},
       "output_type": "pyout",
       "png": "[encoded data removed]",
       "prompt_number": 53,
       "text": [
        "8\u22c5x + 45\u22c5y + 3"
       ]
      }
     ],
     "prompt_number": 53
    },
    {
     "cell_type": "code",
     "collapsed": false,
     "input": [
      "diff(10+3*x+4*x**2+45*x*y, x).subs(x, 1)"
     ],
     "language": "python",
     "metadata": {},
     "outputs": [
      {
       "latex": [
        "$$45 y + 11$$"
       ],
       "metadata": {},
       "output_type": "pyout",
       "png": "[encoded data removed]",
       "prompt_number": 54,
       "text": [
        "45\u22c5y + 11"
       ]
      }
     ],
     "prompt_number": 54
    },
    {
     "cell_type": "code",
     "collapsed": false,
     "input": [
      "diff(10+3*x+4*x**2+45*x*y, x,y)"
     ],
     "language": "python",
     "metadata": {},
     "outputs": [
      {
       "latex": [
        "$$45$$"
       ],
       "metadata": {},
       "output_type": "pyout",
       "png": "[encoded data removed]",
       "prompt_number": 55,
       "text": [
        "45"
       ]
      }
     ],
     "prompt_number": 55
    },
    {
     "cell_type": "code",
     "collapsed": false,
     "input": [
      "diff(10+3*x+4*x**2+45*x*y, x,x)"
     ],
     "language": "python",
     "metadata": {},
     "outputs": [
      {
       "latex": [
        "$$8$$"
       ],
       "metadata": {},
       "output_type": "pyout",
       "png": "[encoded data removed]",
       "prompt_number": 56,
       "text": [
        "8"
       ]
      }
     ],
     "prompt_number": 56
    },
    {
     "cell_type": "code",
     "collapsed": false,
     "input": [
      "integrate(x**2 + sin(x), x)"
     ],
     "language": "python",
     "metadata": {},
     "outputs": [
      {
       "latex": [
        "$$\\frac{x^{3}}{3} - \\cos{\\left (x \\right )}$$"
       ],
       "metadata": {},
       "output_type": "pyout",
       "png": "[encoded data removed]",
       "prompt_number": 57,
       "text": [
        " 3         \n",
        "x          \n",
        "\u2500\u2500 - cos(x)\n",
        "3          "
       ]
      }
     ],
     "prompt_number": 57
    },
    {
     "cell_type": "code",
     "collapsed": false,
     "input": [
      "integrate(x**2 + sin(x), (x, 0, 1))"
     ],
     "language": "python",
     "metadata": {},
     "outputs": [
      {
       "latex": [
        "$$- \\cos{\\left (1 \\right )} + \\frac{4}{3}$$"
       ],
       "metadata": {},
       "output_type": "pyout",
       "png": "[encoded data removed]",
       "prompt_number": 58,
       "text": [
        "-cos(1) + 4/3"
       ]
      }
     ],
     "prompt_number": 58
    },
    {
     "cell_type": "markdown",
     "metadata": {},
     "source": [
      "<div class=\"alert alert-info\">\n",
      "**Ejercicio:** Resuelva simb\u00f3licamente lo siguiente: Se lanza una pelota al aire con una velocidad $v_0$ a un \u00e1ngulo $\\theta$. La gravedad es $g$. \n",
      "- \u00bfCu\u00e1l es la altura m\u00e1xima? \n",
      "- \u00bfCu\u00e1l es la distancia m\u00e1xima?\n",
      "- \u00bfCu\u00e1l es el tiempo de vuelo?\n",
      "- De una respuesta num\u00e9rica, cuando $v_0 = 10 \\frac{m}{s}$ y $\\theta=\\pi/2$.\n",
      "</div>"
     ]
    },
    {
     "cell_type": "markdown",
     "metadata": {},
     "source": [
      "`Sympy` tambi\u00e9n permite resolver ecuaciones diferenciales ordinarias (**ODE**, en ingl\u00e9s), usando la funci\u00f3n `dsolve`. "
     ]
    },
    {
     "cell_type": "code",
     "collapsed": false,
     "input": [
      "dsolve?"
     ],
     "language": "python",
     "metadata": {},
     "outputs": [],
     "prompt_number": 59
    },
    {
     "cell_type": "code",
     "collapsed": false,
     "input": [
      "Function?"
     ],
     "language": "python",
     "metadata": {},
     "outputs": [],
     "prompt_number": 60
    },
    {
     "cell_type": "code",
     "collapsed": false,
     "input": [
      "Derivative?"
     ],
     "language": "python",
     "metadata": {},
     "outputs": [],
     "prompt_number": 61
    },
    {
     "cell_type": "code",
     "collapsed": false,
     "input": [
      "y = Function('y')\n",
      "x = Symbol('x')\n",
      "y_ = Derivative(y(x), x)"
     ],
     "language": "python",
     "metadata": {},
     "outputs": [],
     "prompt_number": 62
    },
    {
     "cell_type": "code",
     "collapsed": false,
     "input": [
      "ode = y_ + 10*y(x) + 3*y(x)**2\n",
      "ode"
     ],
     "language": "python",
     "metadata": {},
     "outputs": [
      {
       "latex": [
        "$$3 y^{2}{\\left (x \\right )} + 10 y{\\left (x \\right )} + \\frac{d}{d x} y{\\left (x \\right )}$$"
       ],
       "metadata": {},
       "output_type": "pyout",
       "png": "[encoded data removed]",
       "prompt_number": 63,
       "text": [
        "   2                d       \n",
        "3\u22c5y (x) + 10\u22c5y(x) + \u2500\u2500(y(x))\n",
        "                    dx      "
       ]
      }
     ],
     "prompt_number": 63
    },
    {
     "cell_type": "code",
     "collapsed": false,
     "input": [
      "sol = dsolve(ode, y(x))\n",
      "sol"
     ],
     "language": "python",
     "metadata": {},
     "outputs": [
      {
       "latex": [
        "$$y{\\left (x \\right )} = - \\frac{10 C_{1}}{3 C_{1} - 3 e^{10 x}}$$"
       ],
       "metadata": {},
       "output_type": "pyout",
       "png": "[encoded data removed]",
       "prompt_number": 64,
       "text": [
        "          -10\u22c5C\u2081     \n",
        "y(x) = \u2500\u2500\u2500\u2500\u2500\u2500\u2500\u2500\u2500\u2500\u2500\u2500\u2500\u2500\n",
        "         \u239b      10\u22c5x\u239e\n",
        "       3\u22c5\u239dC\u2081 - \u212f    \u23a0"
       ]
      }
     ],
     "prompt_number": 64
    },
    {
     "cell_type": "code",
     "collapsed": false,
     "input": [
      "type(sol)"
     ],
     "language": "python",
     "metadata": {},
     "outputs": [
      {
       "metadata": {},
       "output_type": "pyout",
       "prompt_number": 65,
       "text": [
        "sympy.core.relational.Equality"
       ]
      }
     ],
     "prompt_number": 65
    },
    {
     "cell_type": "markdown",
     "metadata": {},
     "source": [
      "<div class=\"alert alert-danger\">\n",
      "Que el tipo sea `Equality` ser\u00e1 muy importante cuando querr\u00e1mos graficar. Manten este hecho en mente.\n",
      "</div>"
     ]
    },
    {
     "cell_type": "code",
     "collapsed": false,
     "input": [
      "sol.rhs"
     ],
     "language": "python",
     "metadata": {},
     "outputs": [
      {
       "latex": [
        "$$- \\frac{10 C_{1}}{3 C_{1} - 3 e^{10 x}}$$"
       ],
       "metadata": {},
       "output_type": "pyout",
       "png": "[encoded data removed]",
       "prompt_number": 66,
       "text": [
        "   -10\u22c5C\u2081     \n",
        "\u2500\u2500\u2500\u2500\u2500\u2500\u2500\u2500\u2500\u2500\u2500\u2500\u2500\u2500\n",
        "  \u239b      10\u22c5x\u239e\n",
        "3\u22c5\u239dC\u2081 - \u212f    \u23a0"
       ]
      }
     ],
     "prompt_number": 66
    },
    {
     "cell_type": "markdown",
     "metadata": {},
     "source": [
      "<div class=\"alert alert-info\">\n",
      "**Ejercicio** \n",
      "- Demuestra que $y_1 = e^t$ y $y_2 = t e^t$ son soluciones de la **ODE** $y^{''} -2y^{'} + y = 0$. No uses `dsolve`. Recuerda que tienes que definir los *s\u00edmbolos* $y$ y $t$.\n",
      "- Ahora resuelve usando `dsolve`. Recuerda definir la funci\u00f3n.\n",
      "</div>"
     ]
    },
    {
     "cell_type": "markdown",
     "metadata": {},
     "source": [
      "Regularmente al resolver problemas cient\u00edficos es necesario utilizar aproximaciones en forma de series. `Sympy` tambi\u00e9n puede hacerlas."
     ]
    },
    {
     "cell_type": "code",
     "collapsed": false,
     "input": [
      "sin(x).series(x,0)"
     ],
     "language": "python",
     "metadata": {},
     "outputs": [
      {
       "latex": [
        "$$x - \\frac{x^{3}}{6} + \\frac{x^{5}}{120} + \\mathcal{O}\\left(x^{6}\\right)$$"
       ],
       "metadata": {},
       "output_type": "pyout",
       "png": "[encoded data removed]",
       "prompt_number": 67,
       "text": [
        "     3     5        \n",
        "    x     x     \u239b 6\u239e\n",
        "x - \u2500\u2500 + \u2500\u2500\u2500 + O\u239dx \u23a0\n",
        "    6    120        "
       ]
      }
     ],
     "prompt_number": 67
    },
    {
     "cell_type": "code",
     "collapsed": false,
     "input": [
      "(exp(x)**2*cos(x)/sin(x)**3).series(x,0)"
     ],
     "language": "python",
     "metadata": {},
     "outputs": [
      {
       "latex": [
        "$$\\frac{1}{x^{3}} + \\frac{2}{x^{2}} + \\frac{2}{x} + \\frac{4}{3} + \\frac{3 x}{5} + \\frac{2 x^{2}}{15} - \\frac{62 x^{3}}{945} - \\frac{20 x^{4}}{189} - \\frac{401 x^{5}}{4725} + \\mathcal{O}\\left(x^{6}\\right)$$"
       ],
       "metadata": {},
       "output_type": "pyout",
       "png": "[encoded data removed]",
       "prompt_number": 68,
       "text": [
        "                           2       3       4        5        \n",
        "1    2    2   4   3\u22c5x   2\u22c5x    62\u22c5x    20\u22c5x    401\u22c5x     \u239b 6\u239e\n",
        "\u2500\u2500 + \u2500\u2500 + \u2500 + \u2500 + \u2500\u2500\u2500 + \u2500\u2500\u2500\u2500 - \u2500\u2500\u2500\u2500\u2500 - \u2500\u2500\u2500\u2500\u2500 - \u2500\u2500\u2500\u2500\u2500\u2500 + O\u239dx \u23a0\n",
        " 3    2   x   3    5     15     945     189     4725         \n",
        "x    x                                                       "
       ]
      }
     ],
     "prompt_number": 68
    },
    {
     "cell_type": "markdown",
     "metadata": {},
     "source": [
      "Por \u00faltimo \u00bfRecuerdas el problema con los flotantes? Pues con `Sympy` se puede resolver."
     ]
    },
    {
     "cell_type": "code",
     "collapsed": false,
     "input": [
      "dx = Rational(1,10)"
     ],
     "language": "python",
     "metadata": {},
     "outputs": [],
     "prompt_number": 69
    },
    {
     "cell_type": "code",
     "collapsed": false,
     "input": [
      "x = 0"
     ],
     "language": "python",
     "metadata": {},
     "outputs": [],
     "prompt_number": 70
    },
    {
     "cell_type": "code",
     "collapsed": false,
     "input": [
      "while x != 1.0:\n",
      "    x = x+dx\n",
      "    print \"x=%4s = %3.1f\" % (x, x.evalf())"
     ],
     "language": "python",
     "metadata": {},
     "outputs": [
      {
       "output_type": "stream",
       "stream": "stdout",
       "text": [
        "x=1/10 = 0.1\n",
        "x= 1/5 = 0.2\n",
        "x=3/10 = 0.3\n",
        "x= 2/5 = 0.4\n",
        "x= 1/2 = 0.5\n",
        "x= 3/5 = 0.6\n",
        "x=7/10 = 0.7\n",
        "x= 4/5 = 0.8\n",
        "x=9/10 = 0.9\n",
        "x=   1 = 1.0\n"
       ]
      }
     ],
     "prompt_number": 71
    },
    {
     "cell_type": "markdown",
     "metadata": {},
     "source": [
      "Pero hacer estos c\u00e1lculos de manera simb\u00f3lica es mucho m\u00e1s lento que hacerlo de forma numerica:"
     ]
    },
    {
     "cell_type": "code",
     "collapsed": false,
     "input": [
      "dx_symbolic = Rational(1,10)\n",
      "\n",
      "def bucle_sympy(n):\n",
      "    x = 0\n",
      "    for i in xrange(n):\n",
      "        x = x + dx_symbolic\n",
      "    return x"
     ],
     "language": "python",
     "metadata": {},
     "outputs": [],
     "prompt_number": 72
    },
    {
     "cell_type": "code",
     "collapsed": false,
     "input": [
      "dx = 0.1\n",
      "def bucle_float(n):\n",
      "    x = 0\n",
      "    for i in xrange(n):\n",
      "        x = x + dx\n",
      "    return x"
     ],
     "language": "python",
     "metadata": {},
     "outputs": [],
     "prompt_number": 73
    },
    {
     "cell_type": "code",
     "collapsed": false,
     "input": [
      "n = 100000"
     ],
     "language": "python",
     "metadata": {},
     "outputs": [],
     "prompt_number": 74
    },
    {
     "cell_type": "code",
     "collapsed": false,
     "input": [
      "%timeit bucle_sympy(n)"
     ],
     "language": "python",
     "metadata": {},
     "outputs": [
      {
       "output_type": "stream",
       "stream": "stdout",
       "text": [
        "1 loops, best of 3: 5.46 s per loop\n"
       ]
      }
     ],
     "prompt_number": 75
    },
    {
     "cell_type": "code",
     "collapsed": false,
     "input": [
      "%timeit bucle_float(n)"
     ],
     "language": "python",
     "metadata": {},
     "outputs": []
    }
   ],
   "metadata": {}
  }
 ]
}