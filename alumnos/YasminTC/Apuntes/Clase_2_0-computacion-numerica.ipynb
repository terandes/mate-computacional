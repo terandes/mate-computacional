{
 "metadata": {
  "name": "",
  "signature": "sha256:87ba0c76e24d158d2da290c9a70fa6e43964825c8beaaa35c5d7625876bf1e67"
 },
 "nbformat": 3,
 "nbformat_minor": 0,
 "worksheets": [
  {
   "cells": [
    {
     "cell_type": "markdown",
     "metadata": {},
     "source": [
      "lim"
     ]
    },
    {
     "cell_type": "markdown",
     "metadata": {},
     "source": [
      "Enteros"
     ]
    },
    {
     "cell_type": "code",
     "collapsed": false,
     "input": [
      "2**32"
     ],
     "language": "python",
     "metadata": {},
     "outputs": [
      {
       "metadata": {},
       "output_type": "pyout",
       "prompt_number": 1,
       "text": [
        "4294967296"
       ]
      }
     ],
     "prompt_number": 1
    },
    {
     "cell_type": "code",
     "collapsed": false,
     "input": [
      "[-2**32/2, 2**32/2] "
     ],
     "language": "python",
     "metadata": {},
     "outputs": [
      {
       "metadata": {},
       "output_type": "pyout",
       "prompt_number": 2,
       "text": [
        "[-2147483648, 2147483648]"
       ]
      }
     ],
     "prompt_number": 2
    },
    {
     "cell_type": "code",
     "collapsed": false,
     "input": [
      "import sys\n",
      "sys.maxint"
     ],
     "language": "python",
     "metadata": {},
     "outputs": [
      {
       "metadata": {},
       "output_type": "pyout",
       "prompt_number": 3,
       "text": [
        "9223372036854775807"
       ]
      }
     ],
     "prompt_number": 3
    },
    {
     "cell_type": "code",
     "collapsed": false,
     "input": [
      "x = 1\n",
      "print x\n",
      "type(x)"
     ],
     "language": "python",
     "metadata": {},
     "outputs": [
      {
       "output_type": "stream",
       "stream": "stdout",
       "text": [
        "1\n"
       ]
      },
      {
       "metadata": {},
       "output_type": "pyout",
       "prompt_number": 4,
       "text": [
        "int"
       ]
      }
     ],
     "prompt_number": 4
    },
    {
     "cell_type": "code",
     "collapsed": false,
     "input": [
      "x = 1L\n",
      "print x\n",
      "type(x)"
     ],
     "language": "python",
     "metadata": {},
     "outputs": [
      {
       "output_type": "stream",
       "stream": "stdout",
       "text": [
        "1\n"
       ]
      },
      {
       "metadata": {},
       "output_type": "pyout",
       "prompt_number": 5,
       "text": [
        "long"
       ]
      }
     ],
     "prompt_number": 5
    },
    {
     "cell_type": "code",
     "collapsed": false,
     "input": [
      "x = 10000000\n",
      "type(x)"
     ],
     "language": "python",
     "metadata": {},
     "outputs": [
      {
       "metadata": {},
       "output_type": "pyout",
       "prompt_number": 6,
       "text": [
        "int"
       ]
      }
     ],
     "prompt_number": 6
    },
    {
     "cell_type": "code",
     "collapsed": false,
     "input": [
      "type(x*x*x)"
     ],
     "language": "python",
     "metadata": {},
     "outputs": [
      {
       "metadata": {},
       "output_type": "pyout",
       "prompt_number": 7,
       "text": [
        "long"
       ]
      }
     ],
     "prompt_number": 7
    },
    {
     "cell_type": "code",
     "collapsed": false,
     "input": [
      "type(sys.maxint)"
     ],
     "language": "python",
     "metadata": {},
     "outputs": [
      {
       "metadata": {},
       "output_type": "pyout",
       "prompt_number": 8,
       "text": [
        "int"
       ]
      }
     ],
     "prompt_number": 8
    },
    {
     "cell_type": "code",
     "collapsed": false,
     "input": [
      "type(sys.maxint+1)"
     ],
     "language": "python",
     "metadata": {},
     "outputs": [
      {
       "metadata": {},
       "output_type": "pyout",
       "prompt_number": 9,
       "text": [
        "long"
       ]
      }
     ],
     "prompt_number": 9
    },
    {
     "cell_type": "markdown",
     "metadata": {},
     "source": [
      "Rep"
     ]
    },
    {
     "cell_type": "code",
     "collapsed": false,
     "input": [
      "bin(123)"
     ],
     "language": "python",
     "metadata": {},
     "outputs": [
      {
       "metadata": {},
       "output_type": "pyout",
       "prompt_number": 10,
       "text": [
        "'0b1111011'"
       ]
      }
     ],
     "prompt_number": 10
    },
    {
     "cell_type": "code",
     "collapsed": false,
     "input": [
      "for i in xrange(0,255):\n",
      "    print \"%d \\t %s\" % (i, bin (i))"
     ],
     "language": "python",
     "metadata": {},
     "outputs": [
      {
       "output_type": "stream",
       "stream": "stdout",
       "text": [
        "0 \t 0b0\n",
        "1 \t 0b1\n",
        "2 \t 0b10\n",
        "3 \t 0b11\n",
        "4 \t 0b100\n",
        "5 \t 0b101\n",
        "6 \t 0b110\n",
        "7 \t 0b111\n",
        "8 \t 0b1000\n",
        "9 \t 0b1001\n",
        "10 \t 0b1010\n",
        "11 \t 0b1011\n",
        "12 \t 0b1100\n",
        "13 \t 0b1101\n",
        "14 \t 0b1110\n",
        "15 \t 0b1111\n",
        "16 \t 0b10000\n",
        "17 \t 0b10001\n",
        "18 \t 0b10010\n",
        "19 \t 0b10011\n",
        "20 \t 0b10100\n",
        "21 \t 0b10101\n",
        "22 \t 0b10110\n",
        "23 \t 0b10111\n",
        "24 \t 0b11000\n",
        "25 \t 0b11001\n",
        "26 \t 0b11010\n",
        "27 \t 0b11011\n",
        "28 \t 0b11100\n",
        "29 \t 0b11101\n",
        "30 \t 0b11110\n",
        "31 \t 0b11111\n",
        "32 \t 0b100000\n",
        "33 \t 0b100001\n",
        "34 \t 0b100010\n",
        "35 \t 0b100011\n",
        "36 \t 0b100100\n",
        "37 \t 0b100101\n",
        "38 \t 0b100110\n",
        "39 \t 0b100111\n",
        "40 \t 0b101000\n",
        "41 \t 0b101001\n",
        "42 \t 0b101010\n",
        "43 \t 0b101011\n",
        "44 \t 0b101100\n",
        "45 \t 0b101101\n",
        "46 \t 0b101110\n",
        "47 \t 0b101111\n",
        "48 \t 0b110000\n",
        "49 \t 0b110001\n",
        "50 \t 0b110010\n",
        "51 \t 0b110011\n",
        "52 \t 0b110100\n",
        "53 \t 0b110101\n",
        "54 \t 0b110110\n",
        "55 \t 0b110111\n",
        "56 \t 0b111000\n",
        "57 \t 0b111001\n",
        "58 \t 0b111010\n",
        "59 \t 0b111011\n",
        "60 \t 0b111100\n",
        "61 \t 0b111101\n",
        "62 \t 0b111110\n",
        "63 \t 0b111111\n",
        "64 \t 0b1000000\n",
        "65 \t 0b1000001\n",
        "66 \t 0b1000010\n",
        "67 \t 0b1000011\n",
        "68 \t 0b1000100\n",
        "69 \t 0b1000101\n",
        "70 \t 0b1000110\n",
        "71 \t 0b1000111\n",
        "72 \t 0b1001000\n",
        "73 \t 0b1001001\n",
        "74 \t 0b1001010\n",
        "75 \t 0b1001011\n",
        "76 \t 0b1001100\n",
        "77 \t 0b1001101\n",
        "78 \t 0b1001110\n",
        "79 \t 0b1001111\n",
        "80 \t 0b1010000\n",
        "81 \t 0b1010001\n",
        "82 \t 0b1010010\n",
        "83 \t 0b1010011\n",
        "84 \t 0b1010100\n",
        "85 \t 0b1010101\n",
        "86 \t 0b1010110\n",
        "87 \t 0b1010111\n",
        "88 \t 0b1011000\n",
        "89 \t 0b1011001\n",
        "90 \t 0b1011010\n",
        "91 \t 0b1011011\n",
        "92 \t 0b1011100\n",
        "93 \t 0b1011101\n",
        "94 \t 0b1011110\n",
        "95 \t 0b1011111\n",
        "96 \t 0b1100000\n",
        "97 \t 0b1100001\n",
        "98 \t 0b1100010\n",
        "99 \t 0b1100011\n",
        "100 \t 0b1100100\n",
        "101 \t 0b1100101\n",
        "102 \t 0b1100110\n",
        "103 \t 0b1100111\n",
        "104 \t 0b1101000\n",
        "105 \t 0b1101001\n",
        "106 \t 0b1101010\n",
        "107 \t 0b1101011\n",
        "108 \t 0b1101100\n",
        "109 \t 0b1101101\n",
        "110 \t 0b1101110\n",
        "111 \t 0b1101111\n",
        "112 \t 0b1110000\n",
        "113 \t 0b1110001\n",
        "114 \t 0b1110010\n",
        "115 \t 0b1110011\n",
        "116 \t 0b1110100\n",
        "117 \t 0b1110101\n",
        "118 \t 0b1110110\n",
        "119 \t 0b1110111\n",
        "120 \t 0b1111000\n",
        "121 \t 0b1111001\n",
        "122 \t 0b1111010\n",
        "123 \t 0b1111011\n",
        "124 \t 0b1111100\n",
        "125 \t 0b1111101\n",
        "126 \t 0b1111110\n",
        "127 \t 0b1111111\n",
        "128 \t 0b10000000\n",
        "129 \t 0b10000001\n",
        "130 \t 0b10000010\n",
        "131 \t 0b10000011\n",
        "132 \t 0b10000100\n",
        "133 \t 0b10000101\n",
        "134 \t 0b10000110\n",
        "135 \t 0b10000111\n",
        "136 \t 0b10001000\n",
        "137 \t 0b10001001\n",
        "138 \t 0b10001010\n",
        "139 \t 0b10001011\n",
        "140 \t 0b10001100\n",
        "141 \t 0b10001101\n",
        "142 \t 0b10001110\n",
        "143 \t 0b10001111\n",
        "144 \t 0b10010000\n",
        "145 \t 0b10010001\n",
        "146 \t 0b10010010\n",
        "147 \t 0b10010011\n",
        "148 \t 0b10010100\n",
        "149 \t 0b10010101\n",
        "150 \t 0b10010110\n",
        "151 \t 0b10010111\n",
        "152 \t 0b10011000\n",
        "153 \t 0b10011001\n",
        "154 \t 0b10011010\n",
        "155 \t 0b10011011\n",
        "156 \t 0b10011100\n",
        "157 \t 0b10011101\n",
        "158 \t 0b10011110\n",
        "159 \t 0b10011111\n",
        "160 \t 0b10100000\n",
        "161 \t 0b10100001\n",
        "162 \t 0b10100010\n",
        "163 \t 0b10100011\n",
        "164 \t 0b10100100\n",
        "165 \t 0b10100101\n",
        "166 \t 0b10100110\n",
        "167 \t 0b10100111\n",
        "168 \t 0b10101000\n",
        "169 \t 0b10101001\n",
        "170 \t 0b10101010\n",
        "171 \t 0b10101011\n",
        "172 \t 0b10101100\n",
        "173 \t 0b10101101\n",
        "174 \t 0b10101110\n",
        "175 \t 0b10101111\n",
        "176 \t 0b10110000\n",
        "177 \t 0b10110001\n",
        "178 \t 0b10110010\n",
        "179 \t 0b10110011\n",
        "180 \t 0b10110100\n",
        "181 \t 0b10110101\n",
        "182 \t 0b10110110\n",
        "183 \t 0b10110111\n",
        "184 \t 0b10111000\n",
        "185 \t 0b10111001\n",
        "186 \t 0b10111010\n",
        "187 \t 0b10111011\n",
        "188 \t 0b10111100\n",
        "189 \t 0b10111101\n",
        "190 \t 0b10111110\n",
        "191 \t 0b10111111\n",
        "192 \t 0b11000000\n",
        "193 \t 0b11000001\n",
        "194 \t 0b11000010\n",
        "195 \t 0b11000011\n",
        "196 \t 0b11000100\n",
        "197 \t 0b11000101\n",
        "198 \t 0b11000110\n",
        "199 \t 0b11000111\n",
        "200 \t 0b11001000\n",
        "201 \t 0b11001001\n",
        "202 \t 0b11001010\n",
        "203 \t 0b11001011\n",
        "204 \t 0b11001100\n",
        "205 \t 0b11001101\n",
        "206 \t 0b11001110\n",
        "207 \t 0b11001111\n",
        "208 \t 0b11010000\n",
        "209 \t 0b11010001\n",
        "210 \t 0b11010010\n",
        "211 \t 0b11010011\n",
        "212 \t 0b11010100\n",
        "213 \t 0b11010101\n",
        "214 \t 0b11010110\n",
        "215 \t 0b11010111\n",
        "216 \t 0b11011000\n",
        "217 \t 0b11011001\n",
        "218 \t 0b11011010\n",
        "219 \t 0b11011011\n",
        "220 \t 0b11011100\n",
        "221 \t 0b11011101\n",
        "222 \t 0b11011110\n",
        "223 \t 0b11011111\n",
        "224 \t 0b11100000\n",
        "225 \t 0b11100001\n",
        "226 \t 0b11100010\n",
        "227 \t 0b11100011\n",
        "228 \t 0b11100100\n",
        "229 \t 0b11100101\n",
        "230 \t 0b11100110\n",
        "231 \t 0b11100111\n",
        "232 \t 0b11101000\n",
        "233 \t 0b11101001\n",
        "234 \t 0b11101010\n",
        "235 \t 0b11101011\n",
        "236 \t 0b11101100\n",
        "237 \t 0b11101101\n",
        "238 \t 0b11101110\n",
        "239 \t 0b11101111\n",
        "240 \t 0b11110000\n",
        "241 \t 0b11110001\n",
        "242 \t 0b11110010\n",
        "243 \t 0b11110011\n",
        "244 \t 0b11110100\n",
        "245 \t 0b11110101\n",
        "246 \t 0b11110110\n",
        "247 \t 0b11110111\n",
        "248 \t 0b11111000\n",
        "249 \t 0b11111001\n",
        "250 \t 0b11111010\n",
        "251 \t 0b11111011\n",
        "252 \t 0b11111100\n",
        "253 \t 0b11111101\n",
        "254 \t 0b11111110\n"
       ]
      }
     ],
     "prompt_number": 12
    },
    {
     "cell_type": "code",
     "collapsed": false,
     "input": [
      "print?"
     ],
     "language": "python",
     "metadata": {},
     "outputs": [
      {
       "output_type": "stream",
       "stream": "stdout",
       "text": [
        "Object `print` not found.\n"
       ]
      }
     ],
     "prompt_number": 13
    },
    {
     "cell_type": "markdown",
     "metadata": {},
     "source": [
      "Flotantes"
     ]
    },
    {
     "cell_type": "code",
     "collapsed": false,
     "input": [
      "bin(0.125)"
     ],
     "language": "python",
     "metadata": {},
     "outputs": [
      {
       "ename": "TypeError",
       "evalue": "'float' object cannot be interpreted as an index",
       "output_type": "pyerr",
       "traceback": [
        "\u001b[1;31m---------------------------------------------------------------------------\u001b[0m\n\u001b[1;31mTypeError\u001b[0m                                 Traceback (most recent call last)",
        "\u001b[1;32m<ipython-input-15-d9ebbdf47ef4>\u001b[0m in \u001b[0;36m<module>\u001b[1;34m()\u001b[0m\n\u001b[1;32m----> 1\u001b[1;33m \u001b[0mbin\u001b[0m\u001b[1;33m(\u001b[0m\u001b[1;36m0.125\u001b[0m\u001b[1;33m)\u001b[0m\u001b[1;33m\u001b[0m\u001b[0m\n\u001b[0m",
        "\u001b[1;31mTypeError\u001b[0m: 'float' object cannot be interpreted as an index"
       ]
      }
     ],
     "prompt_number": 15
    },
    {
     "cell_type": "code",
     "collapsed": false,
     "input": [
      "float.hex(0.125)"
     ],
     "language": "python",
     "metadata": {},
     "outputs": [
      {
       "metadata": {},
       "output_type": "pyout",
       "prompt_number": 16,
       "text": [
        "'0x1.0000000000000p-3'"
       ]
      }
     ],
     "prompt_number": 16
    },
    {
     "cell_type": "code",
     "collapsed": false,
     "input": [
      "0.1"
     ],
     "language": "python",
     "metadata": {},
     "outputs": [
      {
       "metadata": {},
       "output_type": "pyout",
       "prompt_number": 17,
       "text": [
        "0.1"
       ]
      }
     ],
     "prompt_number": 17
    },
    {
     "cell_type": "code",
     "collapsed": false,
     "input": [
      "0.1 + 0.2"
     ],
     "language": "python",
     "metadata": {},
     "outputs": [
      {
       "metadata": {},
       "output_type": "pyout",
       "prompt_number": 18,
       "text": [
        "0.30000000000000004"
       ]
      }
     ],
     "prompt_number": 18
    },
    {
     "cell_type": "code",
     "collapsed": false,
     "input": [
      "str(0.1 + 0.2)"
     ],
     "language": "python",
     "metadata": {},
     "outputs": [
      {
       "metadata": {},
       "output_type": "pyout",
       "prompt_number": 19,
       "text": [
        "'0.3'"
       ]
      }
     ],
     "prompt_number": 19
    },
    {
     "cell_type": "code",
     "collapsed": false,
     "input": [
      "?"
     ],
     "language": "python",
     "metadata": {},
     "outputs": [],
     "prompt_number": 20
    },
    {
     "cell_type": "code",
     "collapsed": false,
     "input": [
      "round (2.675, 2)"
     ],
     "language": "python",
     "metadata": {},
     "outputs": [
      {
       "metadata": {},
       "output_type": "pyout",
       "prompt_number": 21,
       "text": [
        "2.67"
       ]
      }
     ],
     "prompt_number": 21
    },
    {
     "cell_type": "code",
     "collapsed": false,
     "input": [
      "from decimal import Decimal\n",
      "Decimal(2.675)"
     ],
     "language": "python",
     "metadata": {},
     "outputs": [
      {
       "metadata": {},
       "output_type": "pyout",
       "prompt_number": 22,
       "text": [
        "Decimal('2.67499999999999982236431605997495353221893310546875')"
       ]
      }
     ],
     "prompt_number": 22
    },
    {
     "cell_type": "code",
     "collapsed": false,
     "input": [
      "Decimal(0.1)"
     ],
     "language": "python",
     "metadata": {},
     "outputs": [
      {
       "metadata": {},
       "output_type": "pyout",
       "prompt_number": 23,
       "text": [
        "Decimal('0.1000000000000000055511151231257827021181583404541015625')"
       ]
      }
     ],
     "prompt_number": 23
    },
    {
     "cell_type": "code",
     "collapsed": false,
     "input": [
      "Decimal(0.1) + Decimal(0.2)"
     ],
     "language": "python",
     "metadata": {},
     "outputs": [
      {
       "metadata": {},
       "output_type": "pyout",
       "prompt_number": 24,
       "text": [
        "Decimal('0.3000000000000000166533453694')"
       ]
      }
     ],
     "prompt_number": 24
    },
    {
     "cell_type": "markdown",
     "metadata": {},
     "source": [
      "es mas precisa la suma con decimal que la suma con flotante"
     ]
    },
    {
     "cell_type": "code",
     "collapsed": false,
     "input": [
      "Decimal(0.3)"
     ],
     "language": "python",
     "metadata": {},
     "outputs": [
      {
       "metadata": {},
       "output_type": "pyout",
       "prompt_number": 25,
       "text": [
        "Decimal('0.299999999999999988897769753748434595763683319091796875')"
       ]
      }
     ],
     "prompt_number": 25
    },
    {
     "cell_type": "code",
     "collapsed": false,
     "input": [
      "Decimal(float(1)/3)"
     ],
     "language": "python",
     "metadata": {},
     "outputs": [
      {
       "metadata": {},
       "output_type": "pyout",
       "prompt_number": 26,
       "text": [
        "Decimal('0.333333333333333314829616256247390992939472198486328125')"
       ]
      }
     ],
     "prompt_number": 26
    },
    {
     "cell_type": "markdown",
     "metadata": {},
     "source": [
      "IEEE-754"
     ]
    },
    {
     "cell_type": "raw",
     "metadata": {},
     "source": [
      "esto probalmenete venga en el examen"
     ]
    },
    {
     "cell_type": "markdown",
     "metadata": {},
     "source": [
      "Ejercicio Leer el resumen del est\u00e1ndar en el link de arriba. Disc\u00fatelo en clase \u00bfTe parece la mejor opci\u00f3n?"
     ]
    },
    {
     "cell_type": "markdown",
     "metadata": {},
     "source": [
      "<div class=\"alert alert-info\">\n",
      "**Ejercicio** Demuestra con el est\u00e1ndar la representaci\u00f3n binaria de `0.125`.\n",
      "</div>"
     ]
    },
    {
     "cell_type": "code",
     "collapsed": false,
     "input": [
      "bin(1020)"
     ],
     "language": "python",
     "metadata": {},
     "outputs": [
      {
       "metadata": {},
       "output_type": "pyout",
       "prompt_number": 27,
       "text": [
        "'0b1111111100'"
       ]
      }
     ],
     "prompt_number": 27
    },
    {
     "cell_type": "markdown",
     "metadata": {},
     "source": [
      "\u00bfCual es el numero flotantes mas grande y mas peque\u00f1o que se puede representar?\u00bfCuantos flotantes caben en tu computadora en RAM?\u00bfY en disco?"
     ]
    },
    {
     "cell_type": "code",
     "collapsed": false,
     "input": [
      "x=0.0 \n",
      "while abs(x -1.0)  >1e-8:\n",
      "    x = x + 0.1\n",
      "    print (\"x=%19.17g\"% (x))"
     ],
     "language": "python",
     "metadata": {},
     "outputs": [
      {
       "output_type": "stream",
       "stream": "stdout",
       "text": [
        "x=0.10000000000000001\n",
        "x=0.20000000000000001\n",
        "x=0.30000000000000004\n",
        "x=0.40000000000000002\n",
        "x=                0.5\n",
        "x=0.59999999999999998\n",
        "x=0.69999999999999996\n",
        "x=0.79999999999999993\n",
        "x=0.89999999999999991\n",
        "x=0.99999999999999989\n"
       ]
      }
     ],
     "prompt_number": 29
    },
    {
     "cell_type": "markdown",
     "metadata": {},
     "source": [
      "Volvinedo"
     ]
    },
    {
     "cell_type": "code",
     "collapsed": false,
     "input": [
      "x=1e200\n",
      "x"
     ],
     "language": "python",
     "metadata": {},
     "outputs": [
      {
       "metadata": {},
       "output_type": "pyout",
       "prompt_number": 30,
       "text": [
        "1e+200"
       ]
      }
     ],
     "prompt_number": 30
    },
    {
     "cell_type": "code",
     "collapsed": false,
     "input": [
      "type(x)"
     ],
     "language": "python",
     "metadata": {},
     "outputs": [
      {
       "metadata": {},
       "output_type": "pyout",
       "prompt_number": 31,
       "text": [
        "float"
       ]
      }
     ],
     "prompt_number": 31
    },
    {
     "cell_type": "code",
     "collapsed": false,
     "input": [
      "y=x*x\n",
      "y"
     ],
     "language": "python",
     "metadata": {},
     "outputs": [
      {
       "metadata": {},
       "output_type": "pyout",
       "prompt_number": 32,
       "text": [
        "inf"
       ]
      }
     ],
     "prompt_number": 32
    },
    {
     "cell_type": "code",
     "collapsed": false,
     "input": [
      "type(y)"
     ],
     "language": "python",
     "metadata": {},
     "outputs": [
      {
       "metadata": {},
       "output_type": "pyout",
       "prompt_number": 33,
       "text": [
        "float"
       ]
      }
     ],
     "prompt_number": 33
    },
    {
     "cell_type": "code",
     "collapsed": false,
     "input": [
      "x=10**200"
     ],
     "language": "python",
     "metadata": {},
     "outputs": [],
     "prompt_number": 34
    },
    {
     "cell_type": "code",
     "collapsed": false,
     "input": [
      "x"
     ],
     "language": "python",
     "metadata": {},
     "outputs": [
      {
       "metadata": {},
       "output_type": "pyout",
       "prompt_number": 35,
       "text": [
        "100000000000000000000000000000000000000000000000000000000000000000000000000000000000000000000000000000000000000000000000000000000000000000000000000000000000000000000000000000000000000000000000000000000L"
       ]
      }
     ],
     "prompt_number": 35
    },
    {
     "cell_type": "code",
     "collapsed": false,
     "input": [
      "type(x)"
     ],
     "language": "python",
     "metadata": {},
     "outputs": [
      {
       "metadata": {},
       "output_type": "pyout",
       "prompt_number": 36,
       "text": [
        "long"
       ]
      }
     ],
     "prompt_number": 36
    },
    {
     "cell_type": "code",
     "collapsed": false,
     "input": [
      "y=x*x\n",
      "y"
     ],
     "language": "python",
     "metadata": {},
     "outputs": [
      {
       "metadata": {},
       "output_type": "pyout",
       "prompt_number": 37,
       "text": [
        "10000000000000000000000000000000000000000000000000000000000000000000000000000000000000000000000000000000000000000000000000000000000000000000000000000000000000000000000000000000000000000000000000000000000000000000000000000000000000000000000000000000000000000000000000000000000000000000000000000000000000000000000000000000000000000000000000000000000000000000000000000000000000000000000000000000000000000L"
       ]
      }
     ],
     "prompt_number": 37
    },
    {
     "cell_type": "code",
     "collapsed": false,
     "input": [
      "type(y)"
     ],
     "language": "python",
     "metadata": {},
     "outputs": [
      {
       "metadata": {},
       "output_type": "pyout",
       "prompt_number": 38,
       "text": [
        "long"
       ]
      }
     ],
     "prompt_number": 38
    },
    {
     "cell_type": "code",
     "collapsed": false,
     "input": [
      "(x+0.4)*x"
     ],
     "language": "python",
     "metadata": {},
     "outputs": [
      {
       "metadata": {},
       "output_type": "pyout",
       "prompt_number": 39,
       "text": [
        "inf"
       ]
      }
     ],
     "prompt_number": 39
    },
    {
     "cell_type": "code",
     "collapsed": false,
     "input": [
      "x*x+0.4"
     ],
     "language": "python",
     "metadata": {},
     "outputs": [
      {
       "ename": "OverflowError",
       "evalue": "long int too large to convert to float",
       "output_type": "pyerr",
       "traceback": [
        "\u001b[1;31m---------------------------------------------------------------------------\u001b[0m\n\u001b[1;31mOverflowError\u001b[0m                             Traceback (most recent call last)",
        "\u001b[1;32m<ipython-input-40-3e5d93e88644>\u001b[0m in \u001b[0;36m<module>\u001b[1;34m()\u001b[0m\n\u001b[1;32m----> 1\u001b[1;33m \u001b[0mx\u001b[0m\u001b[1;33m*\u001b[0m\u001b[0mx\u001b[0m\u001b[1;33m+\u001b[0m\u001b[1;36m0.4\u001b[0m\u001b[1;33m\u001b[0m\u001b[0m\n\u001b[0m",
        "\u001b[1;31mOverflowError\u001b[0m: long int too large to convert to float"
       ]
      }
     ],
     "prompt_number": 40
    },
    {
     "cell_type": "markdown",
     "metadata": {},
     "source": [
      "Claculo siblolico"
     ]
    },
    {
     "cell_type": "markdown",
     "metadata": {},
     "source": [
      "Maxima"
     ]
    },
    {
     "cell_type": "code",
     "collapsed": false,
     "input": [
      "from sympy.interactive import printing\n",
      "printing.init_printing(use_latex=True)"
     ],
     "language": "python",
     "metadata": {},
     "outputs": [],
     "prompt_number": 41
    },
    {
     "cell_type": "code",
     "collapsed": false,
     "input": [
      "from sympy import Symbol\n",
      "x=Symbol('x')"
     ],
     "language": "python",
     "metadata": {},
     "outputs": [],
     "prompt_number": 42
    },
    {
     "cell_type": "code",
     "collapsed": false,
     "input": [
      "x"
     ],
     "language": "python",
     "metadata": {},
     "outputs": [
      {
       "latex": [
        "$$x$$"
       ],
       "metadata": {},
       "output_type": "pyout",
       "png": "[encoded data removed]",
       "prompt_number": 43,
       "text": [
        "x"
       ]
      }
     ],
     "prompt_number": 43
    },
    {
     "cell_type": "code",
     "collapsed": false,
     "input": [
      "type(x)"
     ],
     "language": "python",
     "metadata": {},
     "outputs": [
      {
       "metadata": {},
       "output_type": "pyout",
       "prompt_number": 44,
       "text": [
        "sympy.core.symbol.Symbol"
       ]
      }
     ],
     "prompt_number": 44
    },
    {
     "cell_type": "code",
     "collapsed": false,
     "input": [
      "y=Symbol('y')"
     ],
     "language": "python",
     "metadata": {},
     "outputs": [],
     "prompt_number": 45
    },
    {
     "cell_type": "code",
     "collapsed": false,
     "input": [
      "2*x - x"
     ],
     "language": "python",
     "metadata": {},
     "outputs": [
      {
       "latex": [
        "$$x$$"
       ],
       "metadata": {},
       "output_type": "pyout",
       "png": "[encoded data removed]",
       "prompt_number": 46,
       "text": [
        "x"
       ]
      }
     ],
     "prompt_number": 46
    },
    {
     "cell_type": "code",
     "collapsed": false,
     "input": [
      "x+y+x- 10*y*x"
     ],
     "language": "python",
     "metadata": {},
     "outputs": [
      {
       "latex": [
        "$$- 10 x y + 2 x + y$$"
       ],
       "metadata": {},
       "output_type": "pyout",
       "png": "[encoded data removed]",
       "prompt_number": 47,
       "text": [
        "-10\u22c5x\u22c5y + 2\u22c5x + y"
       ]
      }
     ],
     "prompt_number": 47
    },
    {
     "cell_type": "code",
     "collapsed": false,
     "input": [
      "import sympy as sym \n",
      "x,y,z = sym.symbols('x,y,z')\n",
      "x+2*y + 3*z -x"
     ],
     "language": "python",
     "metadata": {},
     "outputs": [
      {
       "latex": [
        "$$2 y + 3 z$$"
       ],
       "metadata": {},
       "output_type": "pyout",
       "png": "[encoded data removed]",
       "prompt_number": 48,
       "text": [
        "2\u22c5y + 3\u22c5z"
       ]
      }
     ],
     "prompt_number": 48
    },
    {
     "cell_type": "code",
     "collapsed": false,
     "input": [
      "a=sym.Rational(1,10)\n",
      "a"
     ],
     "language": "python",
     "metadata": {},
     "outputs": [
      {
       "latex": [
        "$$\\frac{1}{10}$$"
       ],
       "metadata": {},
       "output_type": "pyout",
       "png": "[encoded data removed]",
       "prompt_number": 49,
       "text": [
        "1/10"
       ]
      }
     ],
     "prompt_number": 49
    },
    {
     "cell_type": "code",
     "collapsed": false,
     "input": [
      "b=sym.Rational(24,67)\n",
      "b"
     ],
     "language": "python",
     "metadata": {},
     "outputs": [
      {
       "latex": [
        "$$\\frac{24}{67}$$"
       ],
       "metadata": {},
       "output_type": "pyout",
       "png": "[encoded data removed]",
       "prompt_number": 51,
       "text": [
        "24\n",
        "\u2500\u2500\n",
        "67"
       ]
      }
     ],
     "prompt_number": 51
    },
    {
     "cell_type": "code",
     "collapsed": false,
     "input": [
      "c=a*b\n",
      "c"
     ],
     "language": "python",
     "metadata": {},
     "outputs": [
      {
       "latex": [
        "$$\\frac{12}{335}$$"
       ],
       "metadata": {},
       "output_type": "pyout",
       "png": "[encoded data removed]",
       "prompt_number": 52,
       "text": [
        " 12\n",
        "\u2500\u2500\u2500\n",
        "335"
       ]
      }
     ],
     "prompt_number": 52
    },
    {
     "cell_type": "code",
     "collapsed": false,
     "input": [
      "float(c)"
     ],
     "language": "python",
     "metadata": {},
     "outputs": [
      {
       "latex": [
        "$$0.0358208955224$$"
       ],
       "metadata": {},
       "output_type": "pyout",
       "png": "[encoded data removed]",
       "prompt_number": 53,
       "text": [
        "0.0358208955224"
       ]
      }
     ],
     "prompt_number": 53
    },
    {
     "cell_type": "code",
     "collapsed": false,
     "input": [
      "c"
     ],
     "language": "python",
     "metadata": {},
     "outputs": [
      {
       "latex": [
        "$$\\frac{12}{335}$$"
       ],
       "metadata": {},
       "output_type": "pyout",
       "png": "[encoded data removed]",
       "prompt_number": 54,
       "text": [
        " 12\n",
        "\u2500\u2500\u2500\n",
        "335"
       ]
      }
     ],
     "prompt_number": 54
    },
    {
     "cell_type": "code",
     "collapsed": false,
     "input": [
      "c.evalf()"
     ],
     "language": "python",
     "metadata": {},
     "outputs": [
      {
       "latex": [
        "$$0.0358208955223881$$"
       ],
       "metadata": {},
       "output_type": "pyout",
       "png": "[encoded data removed]",
       "prompt_number": 55,
       "text": [
        "0.0358208955223881"
       ]
      }
     ],
     "prompt_number": 55
    },
    {
     "cell_type": "code",
     "collapsed": false,
     "input": [
      "c.evalf(30)"
     ],
     "language": "python",
     "metadata": {},
     "outputs": [
      {
       "latex": [
        "$$0.0358208955223880597014925373134$$"
       ],
       "metadata": {},
       "output_type": "pyout",
       "png": "[encoded data removed]",
       "prompt_number": 56,
       "text": [
        "0.0358208955223880597014925373134"
       ]
      }
     ],
     "prompt_number": 56
    },
    {
     "cell_type": "markdown",
     "metadata": {},
     "source": [
      "podemos hacer derivadas"
     ]
    },
    {
     "cell_type": "code",
     "collapsed": false,
     "input": [
      "from sympy import *"
     ],
     "language": "python",
     "metadata": {},
     "outputs": [],
     "prompt_number": 60
    },
    {
     "cell_type": "code",
     "collapsed": false,
     "input": [
      "y = Function('y')\n",
      "x = Symbol('x')\n",
      "y_ = Derivative(y(x), x)"
     ],
     "language": "python",
     "metadata": {},
     "outputs": [],
     "prompt_number": 61
    },
    {
     "cell_type": "code",
     "collapsed": false,
     "input": [
      "ode = y_ + 10*y(x) + 3*y(x)**2\n",
      "ode"
     ],
     "language": "python",
     "metadata": {},
     "outputs": [
      {
       "latex": [
        "$$3 y^{2}{\\left (x \\right )} + 10 y{\\left (x \\right )} + \\frac{d}{d x} y{\\left (x \\right )}$$"
       ],
       "metadata": {},
       "output_type": "pyout",
       "png": "[encoded data removed]",
       "prompt_number": 62,
       "text": [
        "   2                d       \n",
        "3\u22c5y (x) + 10\u22c5y(x) + \u2500\u2500(y(x))\n",
        "                    dx      "
       ]
      }
     ],
     "prompt_number": 62
    },
    {
     "cell_type": "code",
     "collapsed": false,
     "input": [
      "sol = dsolve(ode, y(x))\n",
      "sol"
     ],
     "language": "python",
     "metadata": {},
     "outputs": [
      {
       "latex": [
        "$$y{\\left (x \\right )} = - \\frac{10 C_{1}}{3 C_{1} - 3 e^{10 x}}$$"
       ],
       "metadata": {},
       "output_type": "pyout",
       "png": "[encoded data removed]",
       "prompt_number": 63,
       "text": [
        "          -10\u22c5C\u2081     \n",
        "y(x) = \u2500\u2500\u2500\u2500\u2500\u2500\u2500\u2500\u2500\u2500\u2500\u2500\u2500\u2500\n",
        "         \u239b      10\u22c5x\u239e\n",
        "       3\u22c5\u239dC\u2081 - \u212f    \u23a0"
       ]
      }
     ],
     "prompt_number": 63
    },
    {
     "cell_type": "code",
     "collapsed": false,
     "input": [
      "type(sol)"
     ],
     "language": "python",
     "metadata": {},
     "outputs": [
      {
       "metadata": {},
       "output_type": "pyout",
       "prompt_number": 64,
       "text": [
        "sympy.core.relational.Equality"
       ]
      }
     ],
     "prompt_number": 64
    },
    {
     "cell_type": "code",
     "collapsed": false,
     "input": [
      "sol.rhs"
     ],
     "language": "python",
     "metadata": {},
     "outputs": [
      {
       "latex": [
        "$$- \\frac{10 C_{1}}{3 C_{1} - 3 e^{10 x}}$$"
       ],
       "metadata": {},
       "output_type": "pyout",
       "png": "[encoded data removed]",
       "prompt_number": 65,
       "text": [
        "   -10\u22c5C\u2081     \n",
        "\u2500\u2500\u2500\u2500\u2500\u2500\u2500\u2500\u2500\u2500\u2500\u2500\u2500\u2500\n",
        "  \u239b      10\u22c5x\u239e\n",
        "3\u22c5\u239dC\u2081 - \u212f    \u23a0"
       ]
      }
     ],
     "prompt_number": 65
    },
    {
     "cell_type": "markdown",
     "metadata": {},
     "source": [
      "Series de tylor"
     ]
    },
    {
     "cell_type": "code",
     "collapsed": false,
     "input": [
      "sin(x).series(x,0)"
     ],
     "language": "python",
     "metadata": {},
     "outputs": [
      {
       "latex": [
        "$$x - \\frac{x^{3}}{6} + \\frac{x^{5}}{120} + \\mathcal{O}\\left(x^{6}\\right)$$"
       ],
       "metadata": {},
       "output_type": "pyout",
       "png": "[encoded data removed]",
       "prompt_number": 66,
       "text": [
        "     3     5        \n",
        "    x     x     \u239b 6\u239e\n",
        "x - \u2500\u2500 + \u2500\u2500\u2500 + O\u239dx \u23a0\n",
        "    6    120        "
       ]
      }
     ],
     "prompt_number": 66
    },
    {
     "cell_type": "code",
     "collapsed": false,
     "input": [
      "(exp(x)**2*cos(x)/sin(x)**3).series(x,0)"
     ],
     "language": "python",
     "metadata": {},
     "outputs": [
      {
       "latex": [
        "$$\\frac{1}{x^{3}} + \\frac{2}{x^{2}} + \\frac{2}{x} + \\frac{4}{3} + \\frac{3 x}{5} + \\frac{2 x^{2}}{15} - \\frac{62 x^{3}}{945} - \\frac{20 x^{4}}{189} - \\frac{401 x^{5}}{4725} + \\mathcal{O}\\left(x^{6}\\right)$$"
       ],
       "metadata": {},
       "output_type": "pyout",
       "png": "[encoded data removed]",
       "prompt_number": 67,
       "text": [
        "                           2       3       4        5        \n",
        "1    2    2   4   3\u22c5x   2\u22c5x    62\u22c5x    20\u22c5x    401\u22c5x     \u239b 6\u239e\n",
        "\u2500\u2500 + \u2500\u2500 + \u2500 + \u2500 + \u2500\u2500\u2500 + \u2500\u2500\u2500\u2500 - \u2500\u2500\u2500\u2500\u2500 - \u2500\u2500\u2500\u2500\u2500 - \u2500\u2500\u2500\u2500\u2500\u2500 + O\u239dx \u23a0\n",
        " 3    2   x   3    5     15     945     189     4725         \n",
        "x    x                                                       "
       ]
      }
     ],
     "prompt_number": 67
    },
    {
     "cell_type": "code",
     "collapsed": false,
     "input": [
      "dx = Rational(1,10)"
     ],
     "language": "python",
     "metadata": {},
     "outputs": [],
     "prompt_number": 68
    },
    {
     "cell_type": "code",
     "collapsed": false,
     "input": [
      "dx = Rational(1,10)"
     ],
     "language": "python",
     "metadata": {},
     "outputs": [],
     "prompt_number": 69
    },
    {
     "cell_type": "code",
     "collapsed": false,
     "input": [
      "dx"
     ],
     "language": "python",
     "metadata": {},
     "outputs": [
      {
       "latex": [
        "$$\\frac{1}{10}$$"
       ],
       "metadata": {},
       "output_type": "pyout",
       "png": "[encoded data removed]",
       "prompt_number": 70,
       "text": [
        "1/10"
       ]
      }
     ],
     "prompt_number": 70
    },
    {
     "cell_type": "code",
     "collapsed": false,
     "input": [
      "x=0"
     ],
     "language": "python",
     "metadata": {},
     "outputs": [],
     "prompt_number": 71
    },
    {
     "cell_type": "code",
     "collapsed": false,
     "input": [
      "while x != 1.0:\n",
      "    x = x+dx\n",
      "    print \"x=%4s = %3.1f\" % (x, x.evalf())"
     ],
     "language": "python",
     "metadata": {},
     "outputs": [
      {
       "output_type": "stream",
       "stream": "stdout",
       "text": [
        "x=1/10 = 0.1\n",
        "x= 1/5 = 0.2\n",
        "x=3/10 = 0.3\n",
        "x= 2/5 = 0.4\n",
        "x= 1/2 = 0.5\n",
        "x= 3/5 = 0.6\n",
        "x=7/10 = 0.7\n",
        "x= 4/5 = 0.8\n",
        "x=9/10 = 0.9\n",
        "x=   1 = 1.0\n"
       ]
      }
     ],
     "prompt_number": 72
    },
    {
     "cell_type": "code",
     "collapsed": false,
     "input": [
      "dx_symbolic = Rational(1,10)\n",
      "\n",
      "def bucle_sympy(n):\n",
      "    x = 0\n",
      "    for i in xrange(n):\n",
      "        x = x + dx_symbolic\n",
      "    return x"
     ],
     "language": "python",
     "metadata": {},
     "outputs": [],
     "prompt_number": 73
    },
    {
     "cell_type": "code",
     "collapsed": false,
     "input": [
      "dx = 0.1\n",
      "def bucle_float(n):\n",
      "    x = 0\n",
      "    for i in xrange(n):\n",
      "        x = x + dx\n",
      "    return x"
     ],
     "language": "python",
     "metadata": {},
     "outputs": [],
     "prompt_number": 74
    },
    {
     "cell_type": "code",
     "collapsed": false,
     "input": [
      "n = 100000"
     ],
     "language": "python",
     "metadata": {},
     "outputs": [],
     "prompt_number": 75
    },
    {
     "cell_type": "code",
     "collapsed": false,
     "input": [
      "%timeit bucle_sympy(n)"
     ],
     "language": "python",
     "metadata": {},
     "outputs": [
      {
       "output_type": "stream",
       "stream": "stdout",
       "text": [
        "1 loops, best of 3: 5.64 s per loop\n"
       ]
      }
     ],
     "prompt_number": 76
    },
    {
     "cell_type": "code",
     "collapsed": false,
     "input": [
      "%timeit bucle_float(n)"
     ],
     "language": "python",
     "metadata": {},
     "outputs": [
      {
       "output_type": "stream",
       "stream": "stdout",
       "text": [
        "100 loops, best of 3: 4.46 ms per loop\n"
       ]
      }
     ],
     "prompt_number": 77
    },
    {
     "cell_type": "code",
     "collapsed": false,
     "input": [],
     "language": "python",
     "metadata": {},
     "outputs": []
    }
   ],
   "metadata": {}
  }
 ]
}