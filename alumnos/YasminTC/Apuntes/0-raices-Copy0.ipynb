{
 "metadata": {
  "name": "",
  "signature": "sha256:3c2561c74b3cf6ba90d49d476775254dd697b16ca80ae84de8e69076f15b1de9"
 },
 "nbformat": 3,
 "nbformat_minor": 0,
 "worksheets": [
  {
   "cells": [
    {
     "cell_type": "code",
     "collapsed": false,
     "input": [
      "%matplotlib inline\n",
      "import numpy as np\n",
      "import matplotlib.pyplot as plt"
     ],
     "language": "python",
     "metadata": {},
     "outputs": [],
     "prompt_number": 1
    },
    {
     "cell_type": "heading",
     "level": 1,
     "metadata": {},
     "source": [
      "Ra\u00edces de funciones no lineales"
     ]
    },
    {
     "cell_type": "markdown",
     "metadata": {},
     "source": [
      "Calcular las ra\u00edces de la ecuaci\u00f3n \n",
      "\n",
      "$$\n",
      "f(x) = 0\n",
      "$$\n",
      "\n",
      "es un problema recurrente en el c\u00e1lculo cient\u00edfico."
     ]
    },
    {
     "cell_type": "markdown",
     "metadata": {},
     "source": [
      "Para resolverlos, utilizaremos m\u00e9todos _iterativos_."
     ]
    },
    {
     "cell_type": "heading",
     "level": 2,
     "metadata": {},
     "source": [
      "M\u00e9todo de la bisecci\u00f3n"
     ]
    },
    {
     "cell_type": "markdown",
     "metadata": {},
     "source": [
      "Sea $f$ una funci\u00f3n continua en $[a,b]$ que satisface "
     ]
    },
    {
     "cell_type": "markdown",
     "metadata": {},
     "source": [
      "$$\n",
      "f(a)f(b) < 0\n",
      "$$"
     ]
    },
    {
     "cell_type": "markdown",
     "metadata": {},
     "source": [
      "<div class=\"alert alert-info\">\n",
      "**Ejercicio** \u00bfQu\u00e9 significa esto?\n",
      "</div>"
     ]
    },
    {
     "cell_type": "markdown",
     "metadata": {},
     "source": [
      "Esto implica que $f$ tiene un _cero_ en el intervalo $(a,b)$, llam\u00e9mosle $r$."
     ]
    },
    {
     "cell_type": "markdown",
     "metadata": {},
     "source": [
      "El **m\u00e9todo de la bisecci\u00f3n** se trata de dividir en dos partes iguales el intervalo $I^0 \\equiv (a,b)$ y seleccionar el subintervalo $I$ donde $f$ experimenta un cambio de signo. Siguiendo este procedimiento, se garantiza que cada $I^{(k)}$ seleccionado contendr\u00e1 a $r$. La sucesi\u00f3n ${x^{(k)}}$ tender\u00e1 a $r$ cuando $k \\to \\infty$."
     ]
    },
    {
     "cell_type": "markdown",
     "metadata": {},
     "source": [
      "Concretamente:\n",
      "\n",
      "\n",
      "1. Se inicializa el m\u00e9todo con $a^0 = a$, $b^0 = b$, $I^{(0)} = (a^0, b^0)$ y $x^{(0)} = \\frac{(a^0 + b^0)}{2}$.\n",
      "2. Sea k = 1:\n",
      "    - Evaluar $f(x^{(k-1)})$, $f(a^{(k-1)})$ y $f(b^{(k-1)})$.\n",
      "    -  Si $f(a^{(k-1)})\\cdot f(x^{(k-1)}) < 0$, entonces $a^k = a^{(k-1)}$, $b^k = x^{(k-1)}$.\n",
      "    - Si $f(x^{(k-1)})\\cdot f(b^{(k-1)}) < 0$, entonces $a^k = x^{(k-1)}$, $b^k = b^{(k-1)}$.\n",
      "    - Definir $x^k = (a^k + b^k)/2$.\n",
      "    - k = k + 1\n",
      "    - Repetir"
     ]
    },
    {
     "cell_type": "heading",
     "level": 2,
     "metadata": {},
     "source": [
      "Ejemplo"
     ]
    },
    {
     "cell_type": "markdown",
     "metadata": {},
     "source": [
      "Por ejemplo la funci\u00f3n"
     ]
    },
    {
     "cell_type": "markdown",
     "metadata": {},
     "source": [
      "$$\n",
      "f(x) = x^2 -1\n",
      "$$"
     ]
    },
    {
     "cell_type": "code",
     "collapsed": false,
     "input": [
      "x = np.linspace(-1.5, 1.5, 100)\n",
      "y = x**2 - 1\n",
      "plt.plot(x, y, color=\"red\")\n",
      "ax = plt.gca()  \n",
      "ax.spines['right'].set_color('none')\n",
      "ax.spines['top'].set_color('none')\n",
      "ax.xaxis.set_ticks_position('bottom')\n",
      "ax.spines['bottom'].set_position(('data',0))\n",
      "ax.yaxis.set_ticks_position('left')\n",
      "ax.spines['left'].set_position(('data',0))"
     ],
     "language": "python",
     "metadata": {},
     "outputs": [
      {
       "metadata": {},
       "output_type": "display_data",
       "png": "[encoded data removed]",
       "text": [
        "<matplotlib.figure.Figure at 0x7fdb51232b10>"
       ]
      }
     ],
     "prompt_number": 54
    },
    {
     "cell_type": "code",
     "collapsed": false,
     "input": [
      "x = np.linspace(-0.5, 1.5, 100)"
     ],
     "language": "python",
     "metadata": {},
     "outputs": [],
     "prompt_number": 4
    },
    {
     "cell_type": "code",
     "collapsed": false,
     "input": [
      "y = x**2 - 1"
     ],
     "language": "python",
     "metadata": {},
     "outputs": [],
     "prompt_number": 5
    },
    {
     "cell_type": "code",
     "collapsed": false,
     "input": [
      "plt.plot(x, y, color=\"black\")"
     ],
     "language": "python",
     "metadata": {},
     "outputs": [
      {
       "metadata": {},
       "output_type": "pyout",
       "prompt_number": 7,
       "text": [
        "[<matplotlib.lines.Line2D at 0x7fdb512c2f10>]"
       ]
      },
      {
       "metadata": {},
       "output_type": "display_data",
       "png": "[encoded data removed]",
       "text": [
        "<matplotlib.figure.Figure at 0x7fdb513f8250>"
       ]
      }
     ],
     "prompt_number": 7
    },
    {
     "cell_type": "code",
     "collapsed": false,
     "input": [
      "ax = plt.gca()"
     ],
     "language": "python",
     "metadata": {},
     "outputs": [
      {
       "metadata": {},
       "output_type": "display_data",
       "png": "[encoded data removed]",
       "text": [
        "<matplotlib.figure.Figure at 0x7fdb51340210>"
       ]
      }
     ],
     "prompt_number": 8
    },
    {
     "cell_type": "code",
     "collapsed": false,
     "input": [
      "ax.spines['right'].set_color('none')"
     ],
     "language": "python",
     "metadata": {},
     "outputs": [],
     "prompt_number": 9
    },
    {
     "cell_type": "code",
     "collapsed": false,
     "input": [
      "ax.spines['top'].set_color('none')"
     ],
     "language": "python",
     "metadata": {},
     "outputs": [],
     "prompt_number": 10
    },
    {
     "cell_type": "code",
     "collapsed": false,
     "input": [
      "ax.xaxis.set_ticks_position('bottom')"
     ],
     "language": "python",
     "metadata": {},
     "outputs": [],
     "prompt_number": 11
    },
    {
     "cell_type": "code",
     "collapsed": false,
     "input": [
      "ax.spines['bottom'].set_position(('data',0))"
     ],
     "language": "python",
     "metadata": {},
     "outputs": [],
     "prompt_number": 12
    },
    {
     "cell_type": "code",
     "collapsed": false,
     "input": [
      "ax.yaxis.set_ticks_position('left')"
     ],
     "language": "python",
     "metadata": {},
     "outputs": [],
     "prompt_number": 13
    },
    {
     "cell_type": "code",
     "collapsed": false,
     "input": [
      "ax.spines['left'].set_position(('data',0))"
     ],
     "language": "python",
     "metadata": {},
     "outputs": [],
     "prompt_number": 14
    },
    {
     "cell_type": "markdown",
     "metadata": {},
     "source": [
      "observa que esta pasando"
     ]
    },
    {
     "cell_type": "heading",
     "level": 3,
     "metadata": {},
     "source": [
      "Funciones an\u00f3nimas"
     ]
    },
    {
     "cell_type": "markdown",
     "metadata": {},
     "source": [
      "Vamos a introducir el concepto de _funci\u00f3n an\u00f3nima_:"
     ]
    },
    {
     "cell_type": "code",
     "collapsed": false,
     "input": [
      "f = lambda x: x**2 -1 # Funci\u00f3n an\u00f3nima en GNU/Octave se definir\u00eda como f = @(x) x.^2 - 1"
     ],
     "language": "python",
     "metadata": {},
     "outputs": [],
     "prompt_number": 43
    },
    {
     "cell_type": "code",
     "collapsed": false,
     "input": [
      "f(-0.05)"
     ],
     "language": "python",
     "metadata": {},
     "outputs": [
      {
       "metadata": {},
       "output_type": "pyout",
       "prompt_number": 16,
       "text": [
        "-0.9975"
       ]
      }
     ],
     "prompt_number": 16
    },
    {
     "cell_type": "code",
     "collapsed": false,
     "input": [
      "f(-0.25)"
     ],
     "language": "python",
     "metadata": {},
     "outputs": [
      {
       "metadata": {},
       "output_type": "pyout",
       "prompt_number": 17,
       "text": [
        "-0.9375"
       ]
      }
     ],
     "prompt_number": 17
    },
    {
     "cell_type": "code",
     "collapsed": false,
     "input": [
      "f(1.25)"
     ],
     "language": "python",
     "metadata": {},
     "outputs": [
      {
       "metadata": {},
       "output_type": "pyout",
       "prompt_number": 20,
       "text": [
        "0.5625"
       ]
      }
     ],
     "prompt_number": 20
    },
    {
     "cell_type": "code",
     "collapsed": false,
     "input": [
      "\"\"\"def f(x):\n",
      "    x**2 -1\"\"\""
     ],
     "language": "python",
     "metadata": {},
     "outputs": [
      {
       "metadata": {},
       "output_type": "pyout",
       "prompt_number": 42,
       "text": [
        "'def f(x):\\n    x**2 -1'"
       ]
      }
     ],
     "prompt_number": 42
    },
    {
     "cell_type": "heading",
     "level": 3,
     "metadata": {},
     "source": [
      "Implementaci\u00f3n"
     ]
    },
    {
     "cell_type": "code",
     "collapsed": false,
     "input": [
      "def biseccion(func, a, b, stop):\n",
      "    x = (a + b)/2\n",
      "    \n",
      "    assert f(a)*f(b) < 0, \"El signo de la funci\u00f3n en los extremos deber\u00eda de ser diferente\"\n",
      "    assert f(a) != 0, \"La ra\u00edz es %.5f\" % a\n",
      "    assert f(b) != 0, \"La ra\u00edz es %.5f\" % b\n",
      "    \n",
      "    print \"%s\\t%12s\\t%12s\" % (\"k\", \"I(a,b)\", \"x\")\n",
      "    print \"%d\\tI(%.5f, %.5f)\\t%.5f\" % (0,a, b, x)\n",
      "    \n",
      "    for k in range(stop):        \n",
      "        f_x = f(x)\n",
      "        f_a = f(a)\n",
      "        f_b = f(b)        \n",
      "        \n",
      "        if(f_a*f_x < 0):\n",
      "            a, b = a, x\n",
      "        elif(f_x*f_b < 0):\n",
      "            a, b = x, b\n",
      "        x = (a+b)/2\n",
      "        \n",
      "        print \"%d\\tI(%.5f, %.5f)\\t%.12f\" % (k+1, a, b, x)"
     ],
     "language": "python",
     "metadata": {},
     "outputs": [],
     "prompt_number": 44
    },
    {
     "cell_type": "code",
     "collapsed": false,
     "input": [
      "print \"%s\\t%12s\\t%12s\" % (\"k\", \"I(a,b)\", \"x\")"
     ],
     "language": "python",
     "metadata": {},
     "outputs": [
      {
       "output_type": "stream",
       "stream": "stdout",
       "text": [
        "k\t      I(a,b)\t           x\n"
       ]
      }
     ],
     "prompt_number": 25
    },
    {
     "cell_type": "code",
     "collapsed": false,
     "input": [
      "biseccion(func = f, a = -0.25, b = 1.25, stop = 10)"
     ],
     "language": "python",
     "metadata": {},
     "outputs": [
      {
       "output_type": "stream",
       "stream": "stdout",
       "text": [
        "k\t      I(a,b)\t           x\n",
        "0\tI(-0.25000, 1.25000)\t0.50000\n",
        "1\tI(0.50000, 1.25000)\t0.875000000000\n",
        "2\tI(0.87500, 1.25000)\t1.062500000000\n",
        "3\tI(0.87500, 1.06250)\t0.968750000000\n",
        "4\tI(0.96875, 1.06250)\t1.015625000000\n",
        "5\tI(0.96875, 1.01562)\t0.992187500000\n",
        "6\tI(0.99219, 1.01562)\t1.003906250000\n",
        "7\tI(0.99219, 1.00391)\t0.998046875000\n",
        "8\tI(0.99805, 1.00391)\t1.000976562500\n",
        "9\tI(0.99805, 1.00098)\t0.999511718750\n",
        "10\tI(0.99951, 1.00098)\t1.000244140625\n"
       ]
      }
     ],
     "prompt_number": 45
    },
    {
     "cell_type": "code",
     "collapsed": false,
     "input": [
      "biseccion(func = f, a = -0.25, b = 1.25, stop = 100)"
     ],
     "language": "python",
     "metadata": {},
     "outputs": [
      {
       "output_type": "stream",
       "stream": "stdout",
       "text": [
        "k\t      I(a,b)\t           x\n",
        "0\tI(-0.25000, 1.25000)\t0.50000\n",
        "1\tI(0.50000, 1.25000)\t0.875000000000\n",
        "2\tI(0.87500, 1.25000)\t1.062500000000\n",
        "3\tI(0.87500, 1.06250)\t0.968750000000\n",
        "4\tI(0.96875, 1.06250)\t1.015625000000\n",
        "5\tI(0.96875, 1.01562)\t0.992187500000\n",
        "6\tI(0.99219, 1.01562)\t1.003906250000\n",
        "7\tI(0.99219, 1.00391)\t0.998046875000\n",
        "8\tI(0.99805, 1.00391)\t1.000976562500\n",
        "9\tI(0.99805, 1.00098)\t0.999511718750\n",
        "10\tI(0.99951, 1.00098)\t1.000244140625\n",
        "11\tI(0.99951, 1.00024)\t0.999877929688\n",
        "12\tI(0.99988, 1.00024)\t1.000061035156\n",
        "13\tI(0.99988, 1.00006)\t0.999969482422\n",
        "14\tI(0.99997, 1.00006)\t1.000015258789\n",
        "15\tI(0.99997, 1.00002)\t0.999992370605\n",
        "16\tI(0.99999, 1.00002)\t1.000003814697\n",
        "17\tI(0.99999, 1.00000)\t0.999998092651\n",
        "18\tI(1.00000, 1.00000)\t1.000000953674\n",
        "19\tI(1.00000, 1.00000)\t0.999999523163\n",
        "20\tI(1.00000, 1.00000)\t1.000000238419\n",
        "21\tI(1.00000, 1.00000)\t0.999999880791\n",
        "22\tI(1.00000, 1.00000)\t1.000000059605\n",
        "23\tI(1.00000, 1.00000)\t0.999999970198\n",
        "24\tI(1.00000, 1.00000)\t1.000000014901\n",
        "25\tI(1.00000, 1.00000)\t0.999999992549\n",
        "26\tI(1.00000, 1.00000)\t1.000000003725\n",
        "27\tI(1.00000, 1.00000)\t0.999999998137\n",
        "28\tI(1.00000, 1.00000)\t1.000000000931\n",
        "29\tI(1.00000, 1.00000)\t0.999999999534\n",
        "30\tI(1.00000, 1.00000)\t1.000000000233\n",
        "31\tI(1.00000, 1.00000)\t0.999999999884\n",
        "32\tI(1.00000, 1.00000)\t1.000000000058\n",
        "33\tI(1.00000, 1.00000)\t0.999999999971\n",
        "34\tI(1.00000, 1.00000)\t1.000000000015\n",
        "35\tI(1.00000, 1.00000)\t0.999999999993\n",
        "36\tI(1.00000, 1.00000)\t1.000000000004\n",
        "37\tI(1.00000, 1.00000)\t0.999999999998\n",
        "38\tI(1.00000, 1.00000)\t1.000000000001\n",
        "39\tI(1.00000, 1.00000)\t1.000000000000\n",
        "40\tI(1.00000, 1.00000)\t1.000000000000\n",
        "41\tI(1.00000, 1.00000)\t1.000000000000\n",
        "42\tI(1.00000, 1.00000)\t1.000000000000\n",
        "43\tI(1.00000, 1.00000)\t1.000000000000\n",
        "44\tI(1.00000, 1.00000)\t1.000000000000\n",
        "45\tI(1.00000, 1.00000)\t1.000000000000\n",
        "46\tI(1.00000, 1.00000)\t1.000000000000\n",
        "47\tI(1.00000, 1.00000)\t1.000000000000\n",
        "48\tI(1.00000, 1.00000)\t1.000000000000\n",
        "49\tI(1.00000, 1.00000)\t1.000000000000\n",
        "50\tI(1.00000, 1.00000)\t1.000000000000\n",
        "51\tI(1.00000, 1.00000)\t1.000000000000\n",
        "52\tI(1.00000, 1.00000)\t1.000000000000\n",
        "53\tI(1.00000, 1.00000)\t1.000000000000\n",
        "54\tI(1.00000, 1.00000)\t1.000000000000\n",
        "55\tI(1.00000, 1.00000)\t1.000000000000\n",
        "56\tI(1.00000, 1.00000)\t1.000000000000\n",
        "57\tI(1.00000, 1.00000)\t1.000000000000\n",
        "58\tI(1.00000, 1.00000)\t1.000000000000\n",
        "59\tI(1.00000, 1.00000)\t1.000000000000\n",
        "60\tI(1.00000, 1.00000)\t1.000000000000\n",
        "61\tI(1.00000, 1.00000)\t1.000000000000\n",
        "62\tI(1.00000, 1.00000)\t1.000000000000\n",
        "63\tI(1.00000, 1.00000)\t1.000000000000\n",
        "64\tI(1.00000, 1.00000)\t1.000000000000\n",
        "65\tI(1.00000, 1.00000)\t1.000000000000\n",
        "66\tI(1.00000, 1.00000)\t1.000000000000\n",
        "67\tI(1.00000, 1.00000)\t1.000000000000\n",
        "68\tI(1.00000, 1.00000)\t1.000000000000\n",
        "69\tI(1.00000, 1.00000)\t1.000000000000\n",
        "70\tI(1.00000, 1.00000)\t1.000000000000\n",
        "71\tI(1.00000, 1.00000)\t1.000000000000\n",
        "72\tI(1.00000, 1.00000)\t1.000000000000\n",
        "73\tI(1.00000, 1.00000)\t1.000000000000\n",
        "74\tI(1.00000, 1.00000)\t1.000000000000\n",
        "75\tI(1.00000, 1.00000)\t1.000000000000\n",
        "76\tI(1.00000, 1.00000)\t1.000000000000\n",
        "77\tI(1.00000, 1.00000)\t1.000000000000\n",
        "78\tI(1.00000, 1.00000)\t1.000000000000\n",
        "79\tI(1.00000, 1.00000)\t1.000000000000\n",
        "80\tI(1.00000, 1.00000)\t1.000000000000\n",
        "81\tI(1.00000, 1.00000)\t1.000000000000\n",
        "82\tI(1.00000, 1.00000)\t1.000000000000\n",
        "83\tI(1.00000, 1.00000)\t1.000000000000\n",
        "84\tI(1.00000, 1.00000)\t1.000000000000\n",
        "85\tI(1.00000, 1.00000)\t1.000000000000\n",
        "86\tI(1.00000, 1.00000)\t1.000000000000\n",
        "87\tI(1.00000, 1.00000)\t1.000000000000\n",
        "88\tI(1.00000, 1.00000)\t1.000000000000\n",
        "89\tI(1.00000, 1.00000)\t1.000000000000\n",
        "90\tI(1.00000, 1.00000)\t1.000000000000\n",
        "91\tI(1.00000, 1.00000)\t1.000000000000\n",
        "92\tI(1.00000, 1.00000)\t1.000000000000\n",
        "93\tI(1.00000, 1.00000)\t1.000000000000\n",
        "94\tI(1.00000, 1.00000)\t1.000000000000\n",
        "95\tI(1.00000, 1.00000)\t1.000000000000\n",
        "96\tI(1.00000, 1.00000)\t1.000000000000\n",
        "97\tI(1.00000, 1.00000)\t1.000000000000\n",
        "98\tI(1.00000, 1.00000)\t1.000000000000\n",
        "99\tI(1.00000, 1.00000)\t1.000000000000\n",
        "100\tI(1.00000, 1.00000)\t1.000000000000\n"
       ]
      }
     ],
     "prompt_number": 47
    },
    {
     "cell_type": "code",
     "collapsed": false,
     "input": [
      "biseccion(func = f, a = -0.25533, b = 1.25533, stop = 10)"
     ],
     "language": "python",
     "metadata": {},
     "outputs": [
      {
       "output_type": "stream",
       "stream": "stdout",
       "text": [
        "k\t      I(a,b)\t           x\n",
        "0\tI(-0.25533, 1.25533)\t0.50000\n",
        "1\tI(0.50000, 1.25533)\t0.877665000000\n",
        "2\tI(0.87767, 1.25533)\t1.066497500000\n",
        "3\tI(0.87767, 1.06650)\t0.972081250000\n",
        "4\tI(0.97208, 1.06650)\t1.019289375000\n",
        "5\tI(0.97208, 1.01929)\t0.995685312500\n",
        "6\tI(0.99569, 1.01929)\t1.007487343750\n",
        "7\tI(0.99569, 1.00749)\t1.001586328125\n",
        "8\tI(0.99569, 1.00159)\t0.998635820313\n",
        "9\tI(0.99864, 1.00159)\t1.000111074219\n",
        "10\tI(0.99864, 1.00011)\t0.999373447266\n"
       ]
      }
     ],
     "prompt_number": 49
    },
    {
     "cell_type": "heading",
     "level": 3,
     "metadata": {},
     "source": [
      "Ejercicio:Implementaci\u00f3n con `Numpy`"
     ]
    },
    {
     "cell_type": "markdown",
     "metadata": {},
     "source": [
      "Observa lo siguiente:"
     ]
    },
    {
     "cell_type": "code",
     "collapsed": false,
     "input": [
      "f(np.array([0,1,2]))"
     ],
     "language": "python",
     "metadata": {},
     "outputs": [
      {
       "metadata": {},
       "output_type": "pyout",
       "prompt_number": 50,
       "text": [
        "array([-1,  0,  3])"
       ]
      }
     ],
     "prompt_number": 50
    },
    {
     "cell_type": "markdown",
     "metadata": {},
     "source": [
      "<div class=\"alert alert-info\">\n",
      "**Ejercicio** Reescribe usando `numpy` la funci\u00f3n `biseccion`\n",
      "</div>"
     ]
    },
    {
     "cell_type": "code",
     "collapsed": false,
     "input": [
      "def biseccion(func, arr, stop):\n",
      "    x = arr[1]\n",
      "    \n",
      "    assert f(arr[0])*f(arr[2]) < 0, \"El signo de la funci\u00f3n en los extremos deber\u00eda de ser diferente\"\n",
      "    assert f(arr[0]) != 0, \"La ra\u00edz es %.5f\" % a\n",
      "    assert f(arr[2]) != 0, \"La ra\u00edz es %.5f\" % b\n",
      "    \n",
      "    print \"%s\\t%12s\\t%12s\" % (\"k\", \"I(a,b)\", \"x\")\n",
      "    print \"%d\\tI(%.5f, %.5f)\\t%.5f\" % (0,a, b, x)\n",
      "    \n",
      "    for k in range(stop):        \n",
      "        f_x = f(x)\n",
      "        f_a = f(arr[0])\n",
      "        f_b = f(arr[2])        \n",
      "        \n",
      "        if(f_a*f_x < 0):\n",
      "            arr[0], arr[2] = arr[0], x\n",
      "        elif(f_x*f_b < 0):\n",
      "            arr[0], arr[2] = x, arr[2]\n",
      "        x = ((arr[0])+(arr[2]))/2\n",
      "        \n",
      "        print \"%d\\tI(%.5f, %.5f)\\t%.12f\" % (k+1, arr[0], arr[2], x)"
     ],
     "language": "python",
     "metadata": {},
     "outputs": [],
     "prompt_number": 52
    },
    {
     "cell_type": "code",
     "collapsed": false,
     "input": [
      "def biseccion(func, a, b, stop):\n",
      "    x = (a + b)/2\n",
      "    x=f(np.array[(a,x,b)])\n",
      "    \n",
      "    assert f(x1)*f() < 0, \"El signo de la funci\u00f3n en los extremos deber\u00eda de ser diferente\"\n",
      "    assert f(a) != 0, \"La ra\u00edz es %.5f\" % a\n",
      "    assert f(b) != 0, \"La ra\u00edz es %.5f\" % b\n",
      "    \n",
      "    print \"%s\\t%12s\\t%12s\" % (\"k\", \"I(a,b)\", \"x\")\n",
      "    print \"%d\\tI(%.5f, %.5f)\\t%.5f\" % (0,a, b, x)\n",
      "    \n",
      "    for k in range(stop):        \n",
      "        f_x = f(x)\n",
      "        f_a = f(a)\n",
      "        f_b = f(b)        \n",
      "        \n",
      "        if(f_a*f_x < 0):\n",
      "            a, b = a, x\n",
      "        elif(f_x*f_b < 0):\n",
      "            a, b = x, b\n",
      "        x = (a+b)/2\n",
      "        \n",
      "        print \"%d\\tI(%.5f, %.5f)\\t%.12f\" % (k+1, a, b, x)"
     ],
     "language": "python",
     "metadata": {},
     "outputs": [],
     "prompt_number": 53
    },
    {
     "cell_type": "markdown",
     "metadata": {},
     "source": [
      "<div class=\"alert alert-info\">\n",
      "**Ejercicio** Reescribe usando `GNU/Octave` la funci\u00f3n `biseccion` usando la celda que sigue. Abre el `docker` de `GNU/Octave` y prueba el algoritmo.\n",
      "</div>"
     ]
    },
    {
     "cell_type": "markdown",
     "metadata": {},
     "source": [
      "\n",
      "> % Pon aqu\u00ed el c\u00f3digo en GNU/Octave\n",
      "\n",
      ">function [raiz] = biseccion(func,a, b, stop)\n",
      ">    ...\n",
      ">\n",
      ">    raiz = \n",
      ">    % fin de la funci\u00f3n"
     ]
    },
    {
     "cell_type": "markdown",
     "metadata": {},
     "source": [
      "Se puede invocar desde la consola de `octave` como\n",
      "\n",
      "> [raiz, k ] = biseccion(func, a, b, stop)"
     ]
    },
    {
     "cell_type": "heading",
     "level": 2,
     "metadata": {},
     "source": [
      "Una mejor manera de detenerse"
     ]
    },
    {
     "cell_type": "markdown",
     "metadata": {},
     "source": [
      "Ser\u00eda mejor detenerse no con un `stop`, si no cuando la soluci\u00f3n est\u00e9 lo suficientemente cerca de la soluci\u00f3n real."
     ]
    },
    {
     "cell_type": "markdown",
     "metadata": {},
     "source": [
      "N\u00f3tese que en cada paso, la norma del intervalo es\n",
      "\n",
      "$$\n",
      "|I^{(k)}| \\equiv b^k - a^k\n",
      "$$\n",
      "\n",
      "contiene a la ra\u00edz $r$."
     ]
    },
    {
     "cell_type": "markdown",
     "metadata": {},
     "source": [
      "Por cada iteraci\u00f3n $k$, la norma se divide por $2$:\n",
      "\n",
      "$$\n",
      "|I^{(k)}| = \\left(\\frac{1}{2}\\right)^k |I^0|\n",
      "$$"
     ]
    },
    {
     "cell_type": "markdown",
     "metadata": {},
     "source": [
      "Entonces, si definimos el _error_ como \n",
      "\n",
      "$$\n",
      "|e^k| \\equiv |x^k - r| \n",
      "$$\n",
      "\n",
      "tenemos que\n",
      "\n",
      "$$\n",
      "|e^k| < \\frac{1}{2}|I^k| = \\left(\\frac{1}{2}\\right)^{k+1} (b-a)\n",
      "$$"
     ]
    },
    {
     "cell_type": "markdown",
     "metadata": {},
     "source": [
      "Para garantizar que $|e^k| < tol$, donde $tol$ es la tolerancia deseada, basta con llevar a cabo $k_{min}$  iteraciones, donde\n",
      "\n",
      "$$\n",
      "k_{min} > log_2\\left(\\frac{b-a}{tol}\\right) - 1\n",
      "$$"
     ]
    },
    {
     "cell_type": "code",
     "collapsed": false,
     "input": [
      "def biseccion(func, a, b, tolerancia, stop):\n",
      "    k = 0\n",
      "    \n",
      "    x = (a + b)/2\n",
      "    \n",
      "    I = (b - a)/2\n",
      "    \n",
      "    assert f(a)*f(b) < 0, \"El signo de la funci\u00f3n en los extremos deber\u00eda de ser diferente\"\n",
      "    assert f(a) != 0, \"La ra\u00edz es %.5f\" % a\n",
      "    assert f(b) != 0, \"La ra\u00edz es %.5f\" % b\n",
      "    \n",
      "    print \"%s\\t%12s\\t%12s\" % (\"k\",\"I(a,b)\", \"x\")\n",
      "    print \"%s\\tI(%.5f, %.5f)\\t%.5f\" % (\"0\",a, b, x)\n",
      "    \n",
      "    while I >= tolerancia and k <= stop:\n",
      "        k = k + 1\n",
      "        \n",
      "        f_x = f(x)\n",
      "        f_a = f(a)\n",
      "        f_b = f(b)        \n",
      "        \n",
      "        \n",
      "        if(f_a*f_x < 0):\n",
      "            a, b = a, x\n",
      "        elif(f_x*f_b < 0):\n",
      "            a, b = x, b\n",
      "        \n",
      "        x = (a+b)/2\n",
      "        \n",
      "        I = (b - a)/2\n",
      "        \n",
      "        print \"%d\\tI(%.5f, %.5f)\\t%.12f\" % (k,a, b, x)"
     ],
     "language": "python",
     "metadata": {},
     "outputs": []
    },
    {
     "cell_type": "code",
     "collapsed": false,
     "input": [
      "biseccion(func = f, a = -0.25, b = 1.25, tolerancia = 1e-4, stop = 100)"
     ],
     "language": "python",
     "metadata": {},
     "outputs": []
    },
    {
     "cell_type": "markdown",
     "metadata": {},
     "source": [
      "<div class=\"alert alert-info\">\n",
      "**Ejercicio** Reescribe usando `numpy` la funci\u00f3n `biseccion`\n",
      "</div>"
     ]
    },
    {
     "cell_type": "markdown",
     "metadata": {},
     "source": [
      "<div class=\"alert alert-info\">\n",
      "**Ejercicio** Reescribe usando `GNU/Octave` la funci\u00f3n `biseccion` usando la celda que sigue. Abre el `docker` de `GNU/Octave` y prueba el algoritmo.\n",
      "</div>"
     ]
    },
    {
     "cell_type": "heading",
     "level": 2,
     "metadata": {},
     "source": [
      "M\u00e9todo de Newton"
     ]
    },
    {
     "cell_type": "markdown",
     "metadata": {},
     "source": [
      "Podemos dise\u00f1ar un algoritmo m\u00e1s eficiente que el **m\u00e9todo de la bisecci\u00f3n** si incorporamos m\u00e1s informaci\u00f3n que el cambio de signo de $f$. En el **m\u00e9todo de Newton** se incorpora el valor de $f(x)$ y el valor de la derivada de $f$: $f'(x)$. La ecuaci\u00f3n de la tangente a la funci\u00f3n $f$ en $x$ es:"
     ]
    },
    {
     "cell_type": "markdown",
     "metadata": {},
     "source": [
      "$$\n",
      "y(x) = f(x^{(k)}) + f'(x^{(k)})\\cdot(x-x^{(k)})\n",
      "$$"
     ]
    },
    {
     "cell_type": "markdown",
     "metadata": {},
     "source": [
      "Entonces, si $y(x^{(k+1)}) = 0$, tenemos:"
     ]
    },
    {
     "cell_type": "markdown",
     "metadata": {},
     "source": [
      "$$\n",
      "x^{(k+1)} = x^{(k)} - \\frac{f({(k)})}{f'(x^{(k)})}, \\qquad k \\geq 0, \\quad f'(x^{(k)}) \\neq 0\n",
      "$$"
     ]
    },
    {
     "cell_type": "markdown",
     "metadata": {},
     "source": [
      "<div class=\"alert alert-info\">\n",
      "**Ejercicio**: \u00bfCu\u00e1l es la serie de Taylor de $f$ alrededor de un punto cualesquiera $x$? \u00bfQu\u00e9 te dice esto de la ecuaci\u00f3n iterativa de Newton?\n",
      "</div>"
     ]
    },
    {
     "cell_type": "markdown",
     "metadata": {},
     "source": [
      "<div class=\"alert alert-danger\">\n",
      "**NOTA** En general el m\u00e9todo de Newton no converge para todas las posibles elecciones de $x^0$, si no para aquellos valores lo _suficientemente_ cerca de $r$...\n",
      "</div>"
     ]
    },
    {
     "cell_type": "markdown",
     "metadata": {},
     "source": [
      "<div class=\"alert alert-warning\">\n",
      "**NOTA** En la pr\u00e1ctica uno puede establecer $x^0$ inspeccionando la gr\u00e1fica visualmente, o usando unas cuantas iteraciones del m\u00e9todo de la bisecci\u00f3n...\n",
      "</div>"
     ]
    },
    {
     "cell_type": "code",
     "collapsed": false,
     "input": [
      "import sympy as sym"
     ],
     "language": "python",
     "metadata": {},
     "outputs": []
    },
    {
     "cell_type": "code",
     "collapsed": false,
     "input": [
      "x = sym.Symbol('x')"
     ],
     "language": "python",
     "metadata": {},
     "outputs": []
    },
    {
     "cell_type": "code",
     "collapsed": false,
     "input": [
      "x"
     ],
     "language": "python",
     "metadata": {},
     "outputs": []
    },
    {
     "cell_type": "code",
     "collapsed": false,
     "input": [
      "f =  x**2 - 1"
     ],
     "language": "python",
     "metadata": {},
     "outputs": []
    },
    {
     "cell_type": "code",
     "collapsed": false,
     "input": [
      "df = sym.diff(f, x)"
     ],
     "language": "python",
     "metadata": {},
     "outputs": []
    },
    {
     "cell_type": "code",
     "collapsed": false,
     "input": [
      "F = sym.lambdify(x,f, modules=\"numpy\")"
     ],
     "language": "python",
     "metadata": {},
     "outputs": []
    },
    {
     "cell_type": "code",
     "collapsed": false,
     "input": [
      "F"
     ],
     "language": "python",
     "metadata": {},
     "outputs": []
    },
    {
     "cell_type": "code",
     "collapsed": false,
     "input": [
      "F(0)"
     ],
     "language": "python",
     "metadata": {},
     "outputs": []
    },
    {
     "cell_type": "code",
     "collapsed": false,
     "input": [
      "DF = sym.lambdify(x, df, modules=\"numpy\")"
     ],
     "language": "python",
     "metadata": {},
     "outputs": []
    },
    {
     "cell_type": "code",
     "collapsed": false,
     "input": [
      "DF(1)"
     ],
     "language": "python",
     "metadata": {},
     "outputs": []
    },
    {
     "cell_type": "code",
     "collapsed": false,
     "input": [
      "def newtonRaphson(func, dFunc, x0, tolerancia, stop):\n",
      "    k=0\n",
      "    while k <= stop:\n",
      "        k = k + 1\n",
      "        x1 = x0 - (func(x0)/dFunc(x0))\n",
      "        print x1, k\n",
      "        if x1 - x0 < tolerancia:\n",
      "            return x1\n",
      "        else:\n",
      "            x0 = x1\n",
      "    print \"El valor es: \", x0"
     ],
     "language": "python",
     "metadata": {},
     "outputs": []
    },
    {
     "cell_type": "code",
     "collapsed": false,
     "input": [
      "newtonRaphson(F, DF, -0.3, 1e-10, 100)"
     ],
     "language": "python",
     "metadata": {},
     "outputs": []
    },
    {
     "cell_type": "code",
     "collapsed": false,
     "input": [],
     "language": "python",
     "metadata": {},
     "outputs": []
    }
   ],
   "metadata": {}
  }
 ]
}