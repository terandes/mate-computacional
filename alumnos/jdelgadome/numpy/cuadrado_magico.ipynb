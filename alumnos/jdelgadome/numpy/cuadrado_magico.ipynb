{
 "metadata": {
  "name": "",
  "signature": "sha256:793e72a5b89f978280a66c69bc39ef7ffeb5ac0558541544f160989c7170e02b"
 },
 "nbformat": 3,
 "nbformat_minor": 0,
 "worksheets": [
  {
   "cells": [
    {
     "cell_type": "code",
     "collapsed": false,
     "input": [
      "def ismagic(A):\n",
      "    \"\"\"Test whether the given array is a magic square.\n",
      "\n",
      "    INPUT:\n",
      "        A -- 2d array, or a sequence that can be interpreted as such.\n",
      "\n",
      "    OUTPUT:\n",
      "        bool or NotImplementedType -- True if A is a magic square,\n",
      "        NotImplemented if the number of dimensions of A is not 2 or 1,\n",
      "        or the size is not a perfect square in the 1d case, and False\n",
      "        otherwise. \n",
      "\n",
      "    EXAMPLES:\n",
      "        >>> from magic_square import *\n",
      "        >>> ismagic(magic(3))\n",
      "        True\n",
      "        >>> ismagic([1, 1, 1, 1])\n",
      "        True\n",
      "        >>> ismagic([[8, 1, 6], [3, 5, 7], [4, 9, 2]])\n",
      "        True\n",
      "        >>> ismagic(1)            # 0 dimensions\n",
      "        NotImplemented\n",
      "        >>> ismagic('[[1]]')      # a string gives 0 dimensions\n",
      "        NotImplemented\n",
      "        >>> ismagic([[[1]]])      # 3 dimensions\n",
      "        NotImplemented        \n",
      "        >>> ismagic(array([[1, 2], [3, 4]]))\n",
      "        False\n",
      "\n",
      "    NOTES:\n",
      "        Integer arithmetic in NumPy is done modulo 2**32 as in the\n",
      "        following example:\n",
      "\n",
      "        >>> from numpy import array\n",
      "        >>> array([2**16])\n",
      "        array([65536])\n",
      "        >>> _*_\n",
      "        array([0])\n",
      "\n",
      "        That can give a false positive in ismagic(A) for integer\n",
      "        arrays with overflowing in row, column, or diagonal sums.\n",
      "        To avoid that, in such cases the array's dtype should be\n",
      "        changed to either 'int64', or 'object', see magic_constant(n)\n",
      "        Notes.\n",
      "        \n",
      "    \"\"\"\n",
      "    global _constant\n",
      "    _constant = None         # may be commented out if desirable\n",
      "    a = asarray(A)\n",
      "    if a.ndim == 2:\n",
      "        m = flipud(a).trace()\n",
      "        t = (r_[a.sum(axis=0), a.sum(axis=1), a.trace()] == m).all()\n",
      "        if t == True:        # not \"is\" because t is a NumPy boolean  \n",
      "            _constant = m\n",
      "            return True      # not \"return t\",\n",
      "        else:                # to make sure that\n",
      "            return False     # the return value is of the bool type     \n",
      "    elif a.ndim == 1:\n",
      "        s = sqrt(a.size)\n",
      "        if a.size == s*s:\n",
      "            return ismagic(a.reshape(s,s))\n",
      "        else:\n",
      "            return NotImplemented\n",
      "    else:\n",
      "        return NotImplemented\n"
     ],
     "language": "python",
     "metadata": {},
     "outputs": [],
     "prompt_number": 1
    },
    {
     "cell_type": "code",
     "collapsed": false,
     "input": [
      "asarray(?\n"
     ],
     "language": "python",
     "metadata": {},
     "outputs": [
      {
       "output_type": "stream",
       "stream": "stdout",
       "text": [
        "Object `asarray` not found.\n"
       ]
      }
     ],
     "prompt_number": 2
    },
    {
     "cell_type": "code",
     "collapsed": false,
     "input": [],
     "language": "python",
     "metadata": {},
     "outputs": []
    }
   ],
   "metadata": {}
  }
 ]
}