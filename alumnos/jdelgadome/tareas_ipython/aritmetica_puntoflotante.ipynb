{
 "metadata": {
  "name": "",
  "signature": "sha256:e15d088b36a8bad1f68760ca81491c7a084bc17cf74a2fb2130e9d9fc7166c0b"
 },
 "nbformat": 3,
 "nbformat_minor": 0,
 "worksheets": [
  {
   "cells": [
    {
     "cell_type": "markdown",
     "metadata": {},
     "source": [
      "Jorge Alfredo Delgado Meraz"
     ]
    },
    {
     "cell_type": "code",
     "collapsed": false,
     "input": [
      "def bin_to_dec(x):\n",
      "    dec = 0;\n",
      "    for i in x:\n",
      "        dec = dec* 2 + i\n",
      "        \n",
      "    print dec\n",
      "    "
     ],
     "language": "python",
     "metadata": {},
     "outputs": [],
     "prompt_number": 4
    },
    {
     "cell_type": "code",
     "collapsed": false,
     "input": [
      "bin_to_dec([1,1,1,1,1,1,1,1])"
     ],
     "language": "python",
     "metadata": {},
     "outputs": [
      {
       "output_type": "stream",
       "stream": "stdout",
       "text": [
        "255\n"
       ]
      }
     ],
     "prompt_number": 15
    },
    {
     "cell_type": "code",
     "collapsed": false,
     "input": [
      "def bin_to_hex(x):\n",
      "    cad = [];\n",
      "    hexa = 0;\n",
      "    aux = 0;\n",
      "    for i in x:\n",
      "        hexa = hexa*2 + i #Transforma el binario a decimal, por facilidad\n",
      "    \n",
      "    while hexa%16 > 0: \n",
      "        aux = hexa%16 #variable auxiliar para referirnos al m\u00f3dulo, los siguientes IF's son la nomenclatura\n",
      "        #establecida para n\u00fameros hexadecimales\n",
      "        if aux >= 10:\n",
      "            if aux == 10:\n",
      "                cad.append(\"A\")\n",
      "            if aux == 11:\n",
      "                cad.append(\"B\")\n",
      "            if aux == 12:\n",
      "                cad.append(\"C\")\n",
      "            if aux == 13:\n",
      "                cad.append(\"D\")\n",
      "            if aux == 14:\n",
      "                cad.append(\"E\")\n",
      "            if aux == 15:\n",
      "                cad.append(\"F\")\n",
      "        else: #si el m\u00f3dulo no fue mayor a 10, el n\u00famero tiene representaci\u00f3n convencional.\n",
      "            cad.append(aux)\n",
      "        hexa = hexa/16\n",
      "    cad.reverse()\n",
      "    print cad\n",
      "                \n",
      "        "
     ],
     "language": "python",
     "metadata": {},
     "outputs": [],
     "prompt_number": 3
    },
    {
     "cell_type": "code",
     "collapsed": false,
     "input": [
      "bin_to_hex([1,1,1,1,1,0,1])"
     ],
     "language": "python",
     "metadata": {},
     "outputs": [
      {
       "output_type": "stream",
       "stream": "stdout",
       "text": [
        "[7, 'D']\n"
       ]
      }
     ],
     "prompt_number": 4
    },
    {
     "cell_type": "code",
     "collapsed": false,
     "input": [
      "def hex_to_bin(x):\n",
      "    x.reverse()\n",
      "    res = 0\n",
      "    aux = 0\n",
      "    for i in x:\n",
      "        if i<=9: #si el n\u00famero es menor o igual a nueve, su representaci\u00f3n es la convencional\n",
      "            #por lo que se hace la conversi\u00f3n con su valor indicado.\n",
      "            res = res + i*16**aux\n",
      "\n",
      "        else: #Si el n\u00famero tiene un car\u00e1cter especial para hexadecimales, hace la conversi\u00f3n seg\u00fan\n",
      "            #el valor establecido de representaci\u00f3n.\n",
      "                if i == 'A':\n",
      "                    res = res + 10*(16**aux)\n",
      "                if i == 'B':\n",
      "                    res = res + 11*(16**aux)\n",
      "                if i == 'C':\n",
      "                    res = res + 12*(16**aux)\n",
      "                if i == 'D':\n",
      "                    res = res + 13*(16**aux)\n",
      "                if i == 'E':\n",
      "                    res = res + 14*(16**aux)\n",
      "                if i == 'F':\n",
      "                    res = res + 15*(16**aux)\n",
      "                    \n",
      "        aux += 1 #la variable auxiliar establece la \"posici\u00f3n\" a la cual se establecer\u00e1 la potencia de la base\n",
      "\n",
      "\n",
      "    print res\n",
      "                \n",
      "        "
     ],
     "language": "python",
     "metadata": {},
     "outputs": [],
     "prompt_number": 5
    },
    {
     "cell_type": "code",
     "collapsed": false,
     "input": [
      "hex_to_bin([7,'D'])"
     ],
     "language": "python",
     "metadata": {},
     "outputs": [
      {
       "output_type": "stream",
       "stream": "stdout",
       "text": [
        "125\n"
       ]
      }
     ],
     "prompt_number": 6
    },
    {
     "cell_type": "code",
     "collapsed": false,
     "input": [
      "def dec_to_bin(x):\n",
      "    b = []\n",
      " \n",
      "    while x > 0:\n",
      "        b.append(x%2)\n",
      "        x /= 2\n",
      "    b.reverse()\n",
      "    print b\n"
     ],
     "language": "python",
     "metadata": {},
     "outputs": [],
     "prompt_number": 2
    },
    {
     "cell_type": "code",
     "collapsed": false,
     "input": [
      "dec_to_bin(1023)"
     ],
     "language": "python",
     "metadata": {},
     "outputs": [
      {
       "output_type": "stream",
       "stream": "stdout",
       "text": [
        "[1, 1, 1, 1, 1, 1, 1, 1, 1, 1]\n"
       ]
      }
     ],
     "prompt_number": 3
    },
    {
     "cell_type": "code",
     "collapsed": false,
     "input": [],
     "language": "python",
     "metadata": {},
     "outputs": []
    }
   ],
   "metadata": {}
  }
 ]
}