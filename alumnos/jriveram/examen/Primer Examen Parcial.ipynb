{
 "metadata": {
  "name": "",
  "signature": "sha256:7309f604f4a12873cadd50b95ad3dae877c4981c7106bc159c20cfa5496a4864"
 },
 "nbformat": 3,
 "nbformat_minor": 0,
 "worksheets": [
  {
   "cells": [
    {
     "cell_type": "heading",
     "level": 1,
     "metadata": {},
     "source": [
      "Examen Parcial"
     ]
    },
    {
     "cell_type": "heading",
     "level": 6,
     "metadata": {},
     "source": [
      "5 de marzo, 2015"
     ]
    },
    {
     "cell_type": "heading",
     "level": 2,
     "metadata": {},
     "source": [
      "Instrucciones"
     ]
    },
    {
     "cell_type": "markdown",
     "metadata": {},
     "source": [
      "- Crea una carpeta en tu directorio llamada `examen`.\n",
      "- Copia este examen a esa carpeta reci\u00e9n creada.\n",
      "- Copia los archivos con extensi\u00f3n `.m` de la misma manera."
     ]
    },
    {
     "cell_type": "heading",
     "level": 3,
     "metadata": {},
     "source": [
      "Definiciones"
     ]
    },
    {
     "cell_type": "markdown",
     "metadata": {},
     "source": [
      "- **Precisi\u00f3n** es el n\u00famero m\u00e1ximo de _bits_ diferentes de cero que es representable.\n",
      "- **Rango** es la diferencia entre el n\u00famero m\u00e1s negativo representable y el n\u00famero m\u00e1s positivo representable.\n",
      "- **Resoluci\u00f3n** es la magnitud m\u00e1s preque\u00f1a diferente de cero representable.\n",
      "- **Exactitud** es la magnitud e la m\u00e1xima diferencia entre el valor real y su representaci\u00f3n."
     ]
    },
    {
     "cell_type": "markdown",
     "metadata": {},
     "source": [
      "- Un n\u00famero $x$ en _single precision_ en el est\u00e1ndar **IEEE 754** se escribe:"
     ]
    },
    {
     "cell_type": "markdown",
     "metadata": {},
     "source": [
      "$$\n",
      "x = s 1.mmm \\ldots mmm \\times 2^{mmm \\ldots mmm}\n",
      "$$"
     ]
    },
    {
     "cell_type": "markdown",
     "metadata": {},
     "source": [
      "con un _bias_ de "
     ]
    },
    {
     "cell_type": "heading",
     "level": 1,
     "metadata": {},
     "source": [
      "Computadora"
     ]
    },
    {
     "cell_type": "heading",
     "level": 2,
     "metadata": {},
     "source": [
      "Problema 6"
     ]
    },
    {
     "cell_type": "heading",
     "level": 2,
     "metadata": {},
     "source": [
      "El mundo de Nintendo: 8 bits"
     ]
    },
    {
     "cell_type": "markdown",
     "metadata": {},
     "source": [
      "* Crea un programa en `python` o `GNU Octave` imprima todos los n\u00fameros que se pueden almacenar en `8 bits` (ver ejercicio anterior). "
     ]
    },
    {
     "cell_type": "code",
     "collapsed": false,
     "input": [
      "def imprime_8_bits():\n",
      "    ents = []\n",
      "    exps = []\n",
      "    \n",
      "    for n in range (2**8 + 1):\n",
      "        real = (8 - len(bin(n)[2:])) * '0' + bin(n)[2:]       \n",
      "        temp = 1 if real[0] == '0' else -1\n",
      "        exp = int(real[1:4], 2) - 3\n",
      "\n",
      "        suma_f = 0\n",
      "        for i in range(1, 5):\n",
      "            if real[i + 3] == '1':\n",
      "                suma_f += 1.0 / 2**i\n",
      "\n",
      "        suma_f += 1\n",
      "        temp *= suma_f\n",
      "        rep = 2**exp * temp\n",
      "        \n",
      "        flo = \"{temp} X 2**{exp}\".format(temp = temp, exp = exp)\n",
      "        print \"{rep} \\t {real} \\t {flo}\".format(rep = rep, real = real, flo = flo)\n",
      "        ents.append(rep)\n",
      "        exps.append(exp)\n",
      "    \n",
      "    return ents, exps"
     ],
     "language": "python",
     "metadata": {},
     "outputs": [],
     "prompt_number": 124
    },
    {
     "cell_type": "code",
     "collapsed": false,
     "input": [
      "ents, exps = imprime_8_bits()"
     ],
     "language": "python",
     "metadata": {},
     "outputs": [
      {
       "output_type": "stream",
       "stream": "stdout",
       "text": [
        "0.125 \t 00000000 \t 1 X 2**-3\n",
        "0.1328125 \t 00000001 \t 1.0625 X 2**-3\n",
        "0.140625 \t 00000010 \t 1.125 X 2**-3\n",
        "0.1484375 \t 00000011 \t 1.1875 X 2**-3\n",
        "0.15625 \t 00000100 \t 1.25 X 2**-3\n",
        "0.1640625 \t 00000101 \t 1.3125 X 2**-3\n",
        "0.171875 \t 00000110 \t 1.375 X 2**-3\n",
        "0.1796875 \t 00000111 \t 1.4375 X 2**-3\n",
        "0.1875 \t 00001000 \t 1.5 X 2**-3\n",
        "0.1953125 \t 00001001 \t 1.5625 X 2**-3\n",
        "0.203125 \t 00001010 \t 1.625 X 2**-3\n",
        "0.2109375 \t 00001011 \t 1.6875 X 2**-3\n",
        "0.21875 \t 00001100 \t 1.75 X 2**-3\n",
        "0.2265625 \t 00001101 \t 1.8125 X 2**-3\n",
        "0.234375 \t 00001110 \t 1.875 X 2**-3\n",
        "0.2421875 \t 00001111 \t 1.9375 X 2**-3\n",
        "0.25 \t 00010000 \t 1 X 2**-2\n",
        "0.265625 \t 00010001 \t 1.0625 X 2**-2\n",
        "0.28125 \t 00010010 \t 1.125 X 2**-2\n",
        "0.296875 \t 00010011 \t 1.1875 X 2**-2\n",
        "0.3125 \t 00010100 \t 1.25 X 2**-2\n",
        "0.328125 \t 00010101 \t 1.3125 X 2**-2\n",
        "0.34375 \t 00010110 \t 1.375 X 2**-2\n",
        "0.359375 \t 00010111 \t 1.4375 X 2**-2\n",
        "0.375 \t 00011000 \t 1.5 X 2**-2\n",
        "0.390625 \t 00011001 \t 1.5625 X 2**-2\n",
        "0.40625 \t 00011010 \t 1.625 X 2**-2\n",
        "0.421875 \t 00011011 \t 1.6875 X 2**-2\n",
        "0.4375 \t 00011100 \t 1.75 X 2**-2\n",
        "0.453125 \t 00011101 \t 1.8125 X 2**-2\n",
        "0.46875 \t 00011110 \t 1.875 X 2**-2\n",
        "0.484375 \t 00011111 \t 1.9375 X 2**-2\n",
        "0.5 \t 00100000 \t 1 X 2**-1\n",
        "0.53125 \t 00100001 \t 1.0625 X 2**-1\n",
        "0.5625 \t 00100010 \t 1.125 X 2**-1\n",
        "0.59375 \t 00100011 \t 1.1875 X 2**-1\n",
        "0.625 \t 00100100 \t 1.25 X 2**-1\n",
        "0.65625 \t 00100101 \t 1.3125 X 2**-1\n",
        "0.6875 \t 00100110 \t 1.375 X 2**-1\n",
        "0.71875 \t 00100111 \t 1.4375 X 2**-1\n",
        "0.75 \t 00101000 \t 1.5 X 2**-1\n",
        "0.78125 \t 00101001 \t 1.5625 X 2**-1\n",
        "0.8125 \t 00101010 \t 1.625 X 2**-1\n",
        "0.84375 \t 00101011 \t 1.6875 X 2**-1\n",
        "0.875 \t 00101100 \t 1.75 X 2**-1\n",
        "0.90625 \t 00101101 \t 1.8125 X 2**-1\n",
        "0.9375 \t 00101110 \t 1.875 X 2**-1\n",
        "0.96875 \t 00101111 \t 1.9375 X 2**-1\n",
        "1 \t 00110000 \t 1 X 2**0\n",
        "1.0625 \t 00110001 \t 1.0625 X 2**0\n",
        "1.125 \t 00110010 \t 1.125 X 2**0\n",
        "1.1875 \t 00110011 \t 1.1875 X 2**0\n",
        "1.25 \t 00110100 \t 1.25 X 2**0\n",
        "1.3125 \t 00110101 \t 1.3125 X 2**0\n",
        "1.375 \t 00110110 \t 1.375 X 2**0\n",
        "1.4375 \t 00110111 \t 1.4375 X 2**0\n",
        "1.5 \t 00111000 \t 1.5 X 2**0\n",
        "1.5625 \t 00111001 \t 1.5625 X 2**0\n",
        "1.625 \t 00111010 \t 1.625 X 2**0\n",
        "1.6875 \t 00111011 \t 1.6875 X 2**0\n",
        "1.75 \t 00111100 \t 1.75 X 2**0\n",
        "1.8125 \t 00111101 \t 1.8125 X 2**0\n",
        "1.875 \t 00111110 \t 1.875 X 2**0\n",
        "1.9375 \t 00111111 \t 1.9375 X 2**0\n",
        "2 \t 01000000 \t 1 X 2**1\n",
        "2.125 \t 01000001 \t 1.0625 X 2**1\n",
        "2.25 \t 01000010 \t 1.125 X 2**1\n",
        "2.375 \t 01000011 \t 1.1875 X 2**1\n",
        "2.5 \t 01000100 \t 1.25 X 2**1\n",
        "2.625 \t 01000101 \t 1.3125 X 2**1\n",
        "2.75 \t 01000110 \t 1.375 X 2**1\n",
        "2.875 \t 01000111 \t 1.4375 X 2**1\n",
        "3.0 \t 01001000 \t 1.5 X 2**1\n",
        "3.125 \t 01001001 \t 1.5625 X 2**1\n",
        "3.25 \t 01001010 \t 1.625 X 2**1\n",
        "3.375 \t 01001011 \t 1.6875 X 2**1\n",
        "3.5 \t 01001100 \t 1.75 X 2**1\n",
        "3.625 \t 01001101 \t 1.8125 X 2**1\n",
        "3.75 \t 01001110 \t 1.875 X 2**1\n",
        "3.875 \t 01001111 \t 1.9375 X 2**1\n",
        "4 \t 01010000 \t 1 X 2**2\n",
        "4.25 \t 01010001 \t 1.0625 X 2**2\n",
        "4.5 \t 01010010 \t 1.125 X 2**2\n",
        "4.75 \t 01010011 \t 1.1875 X 2**2\n",
        "5.0 \t 01010100 \t 1.25 X 2**2\n",
        "5.25 \t 01010101 \t 1.3125 X 2**2\n",
        "5.5 \t 01010110 \t 1.375 X 2**2\n",
        "5.75 \t 01010111 \t 1.4375 X 2**2\n",
        "6.0 \t 01011000 \t 1.5 X 2**2\n",
        "6.25 \t 01011001 \t 1.5625 X 2**2\n",
        "6.5 \t 01011010 \t 1.625 X 2**2\n",
        "6.75 \t 01011011 \t 1.6875 X 2**2\n",
        "7.0 \t 01011100 \t 1.75 X 2**2\n",
        "7.25 \t 01011101 \t 1.8125 X 2**2\n",
        "7.5 \t 01011110 \t 1.875 X 2**2\n",
        "7.75 \t 01011111 \t 1.9375 X 2**2\n",
        "8 \t 01100000 \t 1 X 2**3\n",
        "8.5 \t 01100001 \t 1.0625 X 2**3\n",
        "9.0 \t 01100010 \t 1.125 X 2**3\n",
        "9.5 \t 01100011 \t 1.1875 X 2**3\n",
        "10.0 \t 01100100 \t 1.25 X 2**3\n",
        "10.5 \t 01100101 \t 1.3125 X 2**3\n",
        "11.0 \t 01100110 \t 1.375 X 2**3\n",
        "11.5 \t 01100111 \t 1.4375 X 2**3\n",
        "12.0 \t 01101000 \t 1.5 X 2**3\n",
        "12.5 \t 01101001 \t 1.5625 X 2**3\n",
        "13.0 \t 01101010 \t 1.625 X 2**3\n",
        "13.5 \t 01101011 \t 1.6875 X 2**3\n",
        "14.0 \t 01101100 \t 1.75 X 2**3\n",
        "14.5 \t 01101101 \t 1.8125 X 2**3\n",
        "15.0 \t 01101110 \t 1.875 X 2**3\n",
        "15.5 \t 01101111 \t 1.9375 X 2**3\n",
        "16 \t 01110000 \t 1 X 2**4\n",
        "17.0 \t 01110001 \t 1.0625 X 2**4\n",
        "18.0 \t 01110010 \t 1.125 X 2**4\n",
        "19.0 \t 01110011 \t 1.1875 X 2**4\n",
        "20.0 \t 01110100 \t 1.25 X 2**4\n",
        "21.0 \t 01110101 \t 1.3125 X 2**4\n",
        "22.0 \t 01110110 \t 1.375 X 2**4\n",
        "23.0 \t 01110111 \t 1.4375 X 2**4\n",
        "24.0 \t 01111000 \t 1.5 X 2**4\n",
        "25.0 \t 01111001 \t 1.5625 X 2**4\n",
        "26.0 \t 01111010 \t 1.625 X 2**4\n",
        "27.0 \t 01111011 \t 1.6875 X 2**4\n",
        "28.0 \t 01111100 \t 1.75 X 2**4\n",
        "29.0 \t 01111101 \t 1.8125 X 2**4\n",
        "30.0 \t 01111110 \t 1.875 X 2**4\n",
        "31.0 \t 01111111 \t 1.9375 X 2**4\n",
        "-0.125 \t 10000000 \t -1 X 2**-3\n",
        "-0.1328125 \t 10000001 \t -1.0625 X 2**-3\n",
        "-0.140625 \t 10000010 \t -1.125 X 2**-3\n",
        "-0.1484375 \t 10000011 \t -1.1875 X 2**-3\n",
        "-0.15625 \t 10000100 \t -1.25 X 2**-3\n",
        "-0.1640625 \t 10000101 \t -1.3125 X 2**-3\n",
        "-0.171875 \t 10000110 \t -1.375 X 2**-3\n",
        "-0.1796875 \t 10000111 \t -1.4375 X 2**-3\n",
        "-0.1875 \t 10001000 \t -1.5 X 2**-3\n",
        "-0.1953125 \t 10001001 \t -1.5625 X 2**-3\n",
        "-0.203125 \t 10001010 \t -1.625 X 2**-3\n",
        "-0.2109375 \t 10001011 \t -1.6875 X 2**-3\n",
        "-0.21875 \t 10001100 \t -1.75 X 2**-3\n",
        "-0.2265625 \t 10001101 \t -1.8125 X 2**-3\n",
        "-0.234375 \t 10001110 \t -1.875 X 2**-3\n",
        "-0.2421875 \t 10001111 \t -1.9375 X 2**-3\n",
        "-0.25 \t 10010000 \t -1 X 2**-2\n",
        "-0.265625 \t 10010001 \t -1.0625 X 2**-2\n",
        "-0.28125 \t 10010010 \t -1.125 X 2**-2\n",
        "-0.296875 \t 10010011 \t -1.1875 X 2**-2\n",
        "-0.3125 \t 10010100 \t -1.25 X 2**-2\n",
        "-0.328125 \t 10010101 \t -1.3125 X 2**-2\n",
        "-0.34375 \t 10010110 \t -1.375 X 2**-2\n",
        "-0.359375 \t 10010111 \t -1.4375 X 2**-2\n",
        "-0.375 \t 10011000 \t -1.5 X 2**-2\n",
        "-0.390625 \t 10011001 \t -1.5625 X 2**-2\n",
        "-0.40625 \t 10011010 \t -1.625 X 2**-2\n",
        "-0.421875 \t 10011011 \t -1.6875 X 2**-2\n",
        "-0.4375 \t 10011100 \t -1.75 X 2**-2\n",
        "-0.453125 \t 10011101 \t -1.8125 X 2**-2\n",
        "-0.46875 \t 10011110 \t -1.875 X 2**-2\n",
        "-0.484375 \t 10011111 \t -1.9375 X 2**-2\n",
        "-0.5 \t 10100000 \t -1 X 2**-1\n",
        "-0.53125 \t 10100001 \t -1.0625 X 2**-1\n",
        "-0.5625 \t 10100010 \t -1.125 X 2**-1\n",
        "-0.59375 \t 10100011 \t -1.1875 X 2**-1\n",
        "-0.625 \t 10100100 \t -1.25 X 2**-1\n",
        "-0.65625 \t 10100101 \t -1.3125 X 2**-1\n",
        "-0.6875 \t 10100110 \t -1.375 X 2**-1\n",
        "-0.71875 \t 10100111 \t -1.4375 X 2**-1\n",
        "-0.75 \t 10101000 \t -1.5 X 2**-1\n",
        "-0.78125 \t 10101001 \t -1.5625 X 2**-1\n",
        "-0.8125 \t 10101010 \t -1.625 X 2**-1\n",
        "-0.84375 \t 10101011 \t -1.6875 X 2**-1\n",
        "-0.875 \t 10101100 \t -1.75 X 2**-1\n",
        "-0.90625 \t 10101101 \t -1.8125 X 2**-1\n",
        "-0.9375 \t 10101110 \t -1.875 X 2**-1\n",
        "-0.96875 \t 10101111 \t -1.9375 X 2**-1\n",
        "-1 \t 10110000 \t -1 X 2**0\n",
        "-1.0625 \t 10110001 \t -1.0625 X 2**0\n",
        "-1.125 \t 10110010 \t -1.125 X 2**0\n",
        "-1.1875 \t 10110011 \t -1.1875 X 2**0\n",
        "-1.25 \t 10110100 \t -1.25 X 2**0\n",
        "-1.3125 \t 10110101 \t -1.3125 X 2**0\n",
        "-1.375 \t 10110110 \t -1.375 X 2**0\n",
        "-1.4375 \t 10110111 \t -1.4375 X 2**0\n",
        "-1.5 \t 10111000 \t -1.5 X 2**0\n",
        "-1.5625 \t 10111001 \t -1.5625 X 2**0\n",
        "-1.625 \t 10111010 \t -1.625 X 2**0\n",
        "-1.6875 \t 10111011 \t -1.6875 X 2**0\n",
        "-1.75 \t 10111100 \t -1.75 X 2**0\n",
        "-1.8125 \t 10111101 \t -1.8125 X 2**0\n",
        "-1.875 \t 10111110 \t -1.875 X 2**0\n",
        "-1.9375 \t 10111111 \t -1.9375 X 2**0\n",
        "-2 \t 11000000 \t -1 X 2**1\n",
        "-2.125 \t 11000001 \t -1.0625 X 2**1\n",
        "-2.25 \t 11000010 \t -1.125 X 2**1\n",
        "-2.375 \t 11000011 \t -1.1875 X 2**1\n",
        "-2.5 \t 11000100 \t -1.25 X 2**1\n",
        "-2.625 \t 11000101 \t -1.3125 X 2**1\n",
        "-2.75 \t 11000110 \t -1.375 X 2**1\n",
        "-2.875 \t 11000111 \t -1.4375 X 2**1\n",
        "-3.0 \t 11001000 \t -1.5 X 2**1\n",
        "-3.125 \t 11001001 \t -1.5625 X 2**1\n",
        "-3.25 \t 11001010 \t -1.625 X 2**1\n",
        "-3.375 \t 11001011 \t -1.6875 X 2**1\n",
        "-3.5 \t 11001100 \t -1.75 X 2**1\n",
        "-3.625 \t 11001101 \t -1.8125 X 2**1\n",
        "-3.75 \t 11001110 \t -1.875 X 2**1\n",
        "-3.875 \t 11001111 \t -1.9375 X 2**1\n",
        "-4 \t 11010000 \t -1 X 2**2\n",
        "-4.25 \t 11010001 \t -1.0625 X 2**2\n",
        "-4.5 \t 11010010 \t -1.125 X 2**2\n",
        "-4.75 \t 11010011 \t -1.1875 X 2**2\n",
        "-5.0 \t 11010100 \t -1.25 X 2**2\n",
        "-5.25 \t 11010101 \t -1.3125 X 2**2\n",
        "-5.5 \t 11010110 \t -1.375 X 2**2\n",
        "-5.75 \t 11010111 \t -1.4375 X 2**2\n",
        "-6.0 \t 11011000 \t -1.5 X 2**2\n",
        "-6.25 \t 11011001 \t -1.5625 X 2**2\n",
        "-6.5 \t 11011010 \t -1.625 X 2**2\n",
        "-6.75 \t 11011011 \t -1.6875 X 2**2\n",
        "-7.0 \t 11011100 \t -1.75 X 2**2\n",
        "-7.25 \t 11011101 \t -1.8125 X 2**2\n",
        "-7.5 \t 11011110 \t -1.875 X 2**2\n",
        "-7.75 \t 11011111 \t -1.9375 X 2**2\n",
        "-8 \t 11100000 \t -1 X 2**3\n",
        "-8.5 \t 11100001 \t -1.0625 X 2**3\n",
        "-9.0 \t 11100010 \t -1.125 X 2**3\n",
        "-9.5 \t 11100011 \t -1.1875 X 2**3\n",
        "-10.0 \t 11100100 \t -1.25 X 2**3\n",
        "-10.5 \t 11100101 \t -1.3125 X 2**3\n",
        "-11.0 \t 11100110 \t -1.375 X 2**3\n",
        "-11.5 \t 11100111 \t -1.4375 X 2**3\n",
        "-12.0 \t 11101000 \t -1.5 X 2**3\n",
        "-12.5 \t 11101001 \t -1.5625 X 2**3\n",
        "-13.0 \t 11101010 \t -1.625 X 2**3\n",
        "-13.5 \t 11101011 \t -1.6875 X 2**3\n",
        "-14.0 \t 11101100 \t -1.75 X 2**3\n",
        "-14.5 \t 11101101 \t -1.8125 X 2**3\n",
        "-15.0 \t 11101110 \t -1.875 X 2**3\n",
        "-15.5 \t 11101111 \t -1.9375 X 2**3\n",
        "-16 \t 11110000 \t -1 X 2**4\n",
        "-17.0 \t 11110001 \t -1.0625 X 2**4\n",
        "-18.0 \t 11110010 \t -1.125 X 2**4\n",
        "-19.0 \t 11110011 \t -1.1875 X 2**4\n",
        "-20.0 \t 11110100 \t -1.25 X 2**4\n",
        "-21.0 \t 11110101 \t -1.3125 X 2**4\n",
        "-22.0 \t 11110110 \t -1.375 X 2**4\n",
        "-23.0 \t 11110111 \t -1.4375 X 2**4\n",
        "-24.0 \t 11111000 \t -1.5 X 2**4\n",
        "-25.0 \t 11111001 \t -1.5625 X 2**4\n",
        "-26.0 \t 11111010 \t -1.625 X 2**4\n",
        "-27.0 \t 11111011 \t -1.6875 X 2**4\n",
        "-28.0 \t 11111100 \t -1.75 X 2**4\n",
        "-29.0 \t 11111101 \t -1.8125 X 2**4\n",
        "-30.0 \t 11111110 \t -1.875 X 2**4\n",
        "-31.0 \t 11111111 \t -1.9375 X 2**4\n",
        "-0.125 \t 100000000 \t -1 X 2**-3\n"
       ]
      }
     ],
     "prompt_number": 125
    },
    {
     "cell_type": "markdown",
     "metadata": {},
     "source": [
      "La tabla debe de tener el siguiente formato:"
     ]
    },
    {
     "cell_type": "markdown",
     "metadata": {},
     "source": [
      "| representaci\u00f3n almacenada | real | flotante |\n",
      "|---------------------------|------|----------|"
     ]
    },
    {
     "cell_type": "markdown",
     "metadata": {},
     "source": [
      "* Grafica el n\u00famero de d\u00edgitos en un `b\u00ednade` usando un histograma."
     ]
    },
    {
     "cell_type": "code",
     "collapsed": false,
     "input": [
      "%matplotlib inline\n",
      "import numpy as np\n",
      "import matplotlib.pyplot as plt"
     ],
     "language": "python",
     "metadata": {},
     "outputs": [],
     "prompt_number": 136
    },
    {
     "cell_type": "code",
     "collapsed": false,
     "input": [
      "plt.hist(exps, normed = 1, bins = len(np.unique(exps)))\n",
      "plt.grid();"
     ],
     "language": "python",
     "metadata": {},
     "outputs": [
      {
       "metadata": {},
       "output_type": "display_data",
       "png": "[encoded data removed]",
       "text": [
        "<matplotlib.figure.Figure at 0x7f48ca7ac810>"
       ]
      }
     ],
     "prompt_number": 148
    },
    {
     "cell_type": "markdown",
     "metadata": {},
     "source": [
      "* Grafica en un histograma la **densidad** de d\u00edgitos que existen por cada entero."
     ]
    },
    {
     "cell_type": "code",
     "collapsed": false,
     "input": [
      "plt.hist(ents, normed = 1, bins = len(np.unique(ents)))\n",
      "plt.grid();"
     ],
     "language": "python",
     "metadata": {},
     "outputs": [
      {
       "metadata": {},
       "output_type": "display_data",
       "png": "[encoded data removed]",
       "text": [
        "<matplotlib.figure.Figure at 0x7f48ca681c10>"
       ]
      }
     ],
     "prompt_number": 149
    },
    {
     "cell_type": "heading",
     "level": 2,
     "metadata": {},
     "source": [
      "Problema 7"
     ]
    },
    {
     "cell_type": "markdown",
     "metadata": {},
     "source": [
      "Observa el c\u00f3digo de `GNU Octave` siguiente:"
     ]
    },
    {
     "cell_type": "code",
     "collapsed": false,
     "input": [
      "!cat strange_floats_sp.m"
     ],
     "language": "python",
     "metadata": {},
     "outputs": [
      {
       "output_type": "stream",
       "stream": "stdout",
       "text": [
        "x = single(77777.0)\r\n",
        "y = single(7.0)\r\n",
        "inv_y = 1.0 / y\r\n",
        "\r\n",
        "z = x / y\r\n",
        "z1 = x * inv_y\r\n",
        "\r\n",
        "if (z != z1)\r\n",
        "  sprintf(\"%1.3f != %1.3f\", z, z1)\r\n",
        "  sprintf(\"%1.30f != %1.30f\", z, z1)\r\n",
        "else\r\n",
        "  sprintf(\"%1.3f == %1.3f\", z, z1)\r\n",
        "  sprintf(\"%1.30f == %1.30f\", z, z1)\r\n",
        "endif\r\n"
       ]
      }
     ],
     "prompt_number": 10
    },
    {
     "cell_type": "markdown",
     "metadata": {},
     "source": [
      "- \u00bfQu\u00e9 hace este c\u00f3digo?\n",
      "- Abre el programa `GNU Octave` y ejec\u00fatalo en la consola. \u00bfResult\u00f3 lo que esperabas?\n",
      "- `z`,  `z1` \u00bfSon `SP` o `DP`?"
     ]
    },
    {
     "cell_type": "markdown",
     "metadata": {},
     "source": [
      "    z = x / y = 77777.0 / 7.0  \n",
      "    como todos son singles, z es SP"
     ]
    },
    {
     "cell_type": "markdown",
     "metadata": {},
     "source": [
      "    z1 = x * inv_y = 77777.0 (single) * (1.0 (double) / 7.0 (single))(double)\n",
      "    como hay al menos un double, z1 es DP"
     ]
    },
    {
     "cell_type": "markdown",
     "metadata": {},
     "source": [
      "<div class=\"alert alert-info\">\n",
      "**NOTA** `single` en `GNU Octave` y `Matlab` es la instrucci\u00f3n para indicarle al programa que trabaje en _single precision_.\n",
      "</div>"
     ]
    },
    {
     "cell_type": "markdown",
     "metadata": {},
     "source": [
      "<div class=\"alert alert-info\">\n",
      "**NOTA** Para ejecutar un _script_ en `GNU Octave` solo debes de teclear su nombre (obvio si lo tienes en tu carpeta)\n",
      "</div>"
     ]
    },
    {
     "cell_type": "markdown",
     "metadata": {},
     "source": [
      "- Comp\u00e1ralo con el _script_ `strange_floats_dp.m` \u00bfPor qu\u00e9 es la diferencia? Explica la salida de ambos programas."
     ]
    },
    {
     "cell_type": "code",
     "collapsed": false,
     "input": [
      "!cat strange_floats_dp.m"
     ],
     "language": "python",
     "metadata": {},
     "outputs": [
      {
       "output_type": "stream",
       "stream": "stdout",
       "text": [
        "x = 77777.0\r",
        "\r\n",
        "y = 7.0\r",
        "\r\n",
        "inv_y = 1.0 / y\r",
        "\r\n",
        "\r",
        "\r\n",
        "z = x / y\r",
        "\r\n",
        "z1 = x * inv_y\r",
        "\r\n",
        "\r",
        "\r\n",
        "if (z != z1)\r",
        "\r\n",
        "  sprintf(\"%1.3f != %1.3f\", z, z1)\r",
        "\r\n",
        "  sprintf(\"%1.30f != %1.30f\", z, z1)\r",
        "\r\n",
        "else\r",
        "\r\n",
        "  sprintf(\"%1.3f == %1.3f\", z, z1)\r",
        "\r\n",
        "  sprintf(\"%1.30f == %1.30f\", z, z1)\r",
        "\r\n",
        "endif\r",
        "\r\n"
       ]
      }
     ],
     "prompt_number": 14
    },
    {
     "cell_type": "markdown",
     "metadata": {},
     "source": [
      "- `z`,  `z1` \u00bfSon `SP` o `DP`?"
     ]
    },
    {
     "cell_type": "markdown",
     "metadata": {},
     "source": [
      "    z = x / y = 77777.0 / 7.0  \n",
      "    como hay al menos doublel, z es DP"
     ]
    },
    {
     "cell_type": "markdown",
     "metadata": {},
     "source": [
      "    z1 = x * inv_y = 77777.0 * 1.0 / 7.0\n",
      "    como hay un al menos un double, z1 es DP"
     ]
    },
    {
     "cell_type": "heading",
     "level": 2,
     "metadata": {},
     "source": [
      "Problema 8"
     ]
    },
    {
     "cell_type": "markdown",
     "metadata": {},
     "source": [
      "La _varianza_ de $n$ datos se define como"
     ]
    },
    {
     "cell_type": "markdown",
     "metadata": {},
     "source": [
      "$$\n",
      "\n",
      "s_n^2 = \\frac{1}{n - 1} \\sum^n_{i=1} (x_i - \\bar{x})^2\n",
      "\n",
      "$$"
     ]
    },
    {
     "cell_type": "markdown",
     "metadata": {},
     "source": [
      "donde $\\bar{x}$"
     ]
    },
    {
     "cell_type": "markdown",
     "metadata": {},
     "source": [
      "$$\n",
      "\\bar{x} = \\frac{1}{n} \\sum^n_{i = 1} x_i\n",
      "$$"
     ]
    },
    {
     "cell_type": "markdown",
     "metadata": {},
     "source": [
      "Esta definici\u00f3n es poco eficiente ya que requiere dos pasadas a los datos para calcular la _varianza_."
     ]
    },
    {
     "cell_type": "markdown",
     "metadata": {},
     "source": [
      "* Crea una funci\u00f3n an\u00f3nima en `numpy` o `GNU/Octave` que reproduzca este algoritmo."
     ]
    },
    {
     "cell_type": "code",
     "collapsed": false,
     "input": [
      "np.sum?"
     ],
     "language": "python",
     "metadata": {},
     "outputs": [],
     "prompt_number": 177
    },
    {
     "cell_type": "code",
     "collapsed": false,
     "input": [
      "f = lambda x: 1 / (len(x) - 1.0) * np.sum((x - np.average(x))**2)"
     ],
     "language": "python",
     "metadata": {},
     "outputs": [],
     "prompt_number": 195
    },
    {
     "cell_type": "markdown",
     "metadata": {},
     "source": [
      "En los libros de texto se recomienda (o se reescribe) la definici\u00f3n de la siguiente manera:"
     ]
    },
    {
     "cell_type": "markdown",
     "metadata": {},
     "source": [
      "$$\n",
      "s_n^2 = \\frac{1}{n-1} \\left( \\sum^n_{i=1} x_i^2 -  \\frac{1}{n}\\left(\\sum^n_{i=1} x_i\\right)^2\\right)\n",
      "$$"
     ]
    },
    {
     "cell_type": "markdown",
     "metadata": {},
     "source": [
      "El cual es m\u00e1s eficiente computacionalmente hablando"
     ]
    },
    {
     "cell_type": "markdown",
     "metadata": {},
     "source": [
      "* Crea un programa en `numpy` o `GNU/Octave` que reproduzca este algoritmo."
     ]
    },
    {
     "cell_type": "code",
     "collapsed": false,
     "input": [
      "f2 = lambda x: 1 / (len(x) - 1.0) * (np.sum(x**2) - 1 / (len(x) + 0.0) * (np.sum(x))**2)"
     ],
     "language": "python",
     "metadata": {},
     "outputs": [],
     "prompt_number": 196
    },
    {
     "cell_type": "markdown",
     "metadata": {},
     "source": [
      "* Sean los datos $10000, 10001, 10002$, Realiza el c\u00e1lculo a mano y comp\u00e1ralo con los dos algoritmos. Expl\u00edca las diferencias y el posible error."
     ]
    },
    {
     "cell_type": "markdown",
     "metadata": {},
     "source": [
      "    A mano el resultado es 1"
     ]
    },
    {
     "cell_type": "code",
     "collapsed": false,
     "input": [
      "print f(np.array([10000, 10001, 10002]))\n",
      "print f2(np.array([10000, 10001, 10002]))"
     ],
     "language": "python",
     "metadata": {},
     "outputs": [
      {
       "output_type": "stream",
       "stream": "stdout",
       "text": [
        "1.0\n",
        "1.0\n"
       ]
      }
     ],
     "prompt_number": 197
    },
    {
     "cell_type": "heading",
     "level": 2,
     "metadata": {},
     "source": [
      "Problema 9"
     ]
    },
    {
     "cell_type": "markdown",
     "metadata": {},
     "source": [
      "* Carga la funci\u00f3n `factorial` definida en el archivo `factorial.py`"
     ]
    },
    {
     "cell_type": "code",
     "collapsed": false,
     "input": [
      "%load factorial.py"
     ],
     "language": "python",
     "metadata": {},
     "outputs": [],
     "prompt_number": 151
    },
    {
     "cell_type": "code",
     "collapsed": false,
     "input": [
      "def factorial(n):\n",
      "    if n == 0:\n",
      "        return 1\n",
      "    elif n == 1:\n",
      "        return 1\n",
      "    else:\n",
      "        return factorial(n-1)*n\n"
     ],
     "language": "python",
     "metadata": {},
     "outputs": [],
     "prompt_number": 158
    },
    {
     "cell_type": "markdown",
     "metadata": {},
     "source": [
      "La serie de Maclaurin es un caso especial de la serie de Taylor de una funci\u00f3n $f$ alrededor de $0$"
     ]
    },
    {
     "cell_type": "markdown",
     "metadata": {},
     "source": [
      "$$\n",
      "f(x) = f(0) + f'(0) + \\frac{f''(0)}{2!} + \\ldots = \\sum^\\infty_{i=0}\\frac{1}{n\\!}f^{(n)}(0)\n",
      "$$"
     ]
    },
    {
     "cell_type": "markdown",
     "metadata": {},
     "source": [
      "En particular, la funci\u00f3n exponencial tiene la siguiente forma:"
     ]
    },
    {
     "cell_type": "markdown",
     "metadata": {},
     "source": [
      "$$\n",
      "e^x = 1 + x + \\frac{x^2}{2} + \\ldots = \\sum^\\infty_{i=0} \\frac{x^i}{i\\!}\n",
      "$$"
     ]
    },
    {
     "cell_type": "markdown",
     "metadata": {},
     "source": [
      "* Usando la funci\u00f3n `factorial` crea la funci\u00f3n `exp_maclaurin(x,n)`, que imprima lo siguiente:"
     ]
    },
    {
     "cell_type": "markdown",
     "metadata": {},
     "source": [
      "    print \"%12s\\t%12s\\t%12s\\t%12s\\t%20s\\t%20s\" % (\"i\", \"x\", \"x^i\", \"factorial(i)\", \"x^i/factorial(i)\", \"suma\")"
     ]
    },
    {
     "cell_type": "code",
     "collapsed": false,
     "input": [
      "def exp_maclalurin(x, n): \n",
      "    suma = 1\n",
      "    for i in range (1, n + 1):\n",
      "        suma += x**i / factorial(i)\n",
      "        print \"%12s\\t%12s\\t%12s\\t%12s\\t%20s\\t%20s\" % (i, x, x**i, factorial(i), x**i/factorial(i), suma)\n",
      "    return suma"
     ],
     "language": "python",
     "metadata": {},
     "outputs": [],
     "prompt_number": 169
    },
    {
     "cell_type": "markdown",
     "metadata": {},
     "source": [
      "* Usando la funci\u00f3n `np.exp` calcula `0`, `1`, `5.5` y `-5.5`"
     ]
    },
    {
     "cell_type": "code",
     "collapsed": false,
     "input": [
      "import numpy as np\n",
      "for n in [0, 1, 5.5, -5.5]:\n",
      "    print np.exp(n)"
     ],
     "language": "python",
     "metadata": {},
     "outputs": [
      {
       "output_type": "stream",
       "stream": "stdout",
       "text": [
        "1.0\n",
        "2.71828182846\n",
        "244.691932264\n",
        "0.00408677143846\n"
       ]
      }
     ],
     "prompt_number": 170
    },
    {
     "cell_type": "markdown",
     "metadata": {},
     "source": [
      "* Usando tu funci\u00f3n, calcula los mismos valores a orden 20 \u00bfEn cu\u00e1l falla? \u00bfPor qu\u00e9 crees que sea?"
     ]
    },
    {
     "cell_type": "code",
     "collapsed": false,
     "input": [
      "for x in [0, 1, 5.5, -5.5]:\n",
      "    print exp_maclalurin(x, 20)"
     ],
     "language": "python",
     "metadata": {},
     "outputs": [
      {
       "output_type": "stream",
       "stream": "stdout",
       "text": [
        "           1\t           0\t           0\t           1\t                   0\t                   1\n",
        "           2\t           0\t           0\t           2\t                   0\t                   1\n",
        "           3\t           0\t           0\t           6\t                   0\t                   1\n",
        "           4\t           0\t           0\t          24\t                   0\t                   1\n",
        "           5\t           0\t           0\t         120\t                   0\t                   1\n",
        "           6\t           0\t           0\t         720\t                   0\t                   1\n",
        "           7\t           0\t           0\t        5040\t                   0\t                   1\n",
        "           8\t           0\t           0\t       40320\t                   0\t                   1\n",
        "           9\t           0\t           0\t      362880\t                   0\t                   1\n",
        "          10\t           0\t           0\t     3628800\t                   0\t                   1\n",
        "          11\t           0\t           0\t    39916800\t                   0\t                   1\n",
        "          12\t           0\t           0\t   479001600\t                   0\t                   1\n",
        "          13\t           0\t           0\t  6227020800\t                   0\t                   1\n",
        "          14\t           0\t           0\t 87178291200\t                   0\t                   1\n",
        "          15\t           0\t           0\t1307674368000\t                   0\t                   1\n",
        "          16\t           0\t           0\t20922789888000\t                   0\t                   1\n",
        "          17\t           0\t           0\t355687428096000\t                   0\t                   1\n",
        "          18\t           0\t           0\t6402373705728000\t                   0\t                   1\n",
        "          19\t           0\t           0\t121645100408832000\t                   0\t                   1\n",
        "          20\t           0\t           0\t2432902008176640000\t                   0\t                   1\n",
        "1\n",
        "           1\t           1\t           1\t           1\t                   1\t                   2\n",
        "           2\t           1\t           1\t           2\t                   0\t                   2\n",
        "           3\t           1\t           1\t           6\t                   0\t                   2\n",
        "           4\t           1\t           1\t          24\t                   0\t                   2\n",
        "           5\t           1\t           1\t         120\t                   0\t                   2\n",
        "           6\t           1\t           1\t         720\t                   0\t                   2\n",
        "           7\t           1\t           1\t        5040\t                   0\t                   2\n",
        "           8\t           1\t           1\t       40320\t                   0\t                   2\n",
        "           9\t           1\t           1\t      362880\t                   0\t                   2\n",
        "          10\t           1\t           1\t     3628800\t                   0\t                   2\n",
        "          11\t           1\t           1\t    39916800\t                   0\t                   2\n",
        "          12\t           1\t           1\t   479001600\t                   0\t                   2\n",
        "          13\t           1\t           1\t  6227020800\t                   0\t                   2\n",
        "          14\t           1\t           1\t 87178291200\t                   0\t                   2\n",
        "          15\t           1\t           1\t1307674368000\t                   0\t                   2\n",
        "          16\t           1\t           1\t20922789888000\t                   0\t                   2\n",
        "          17\t           1\t           1\t355687428096000\t                   0\t                   2\n",
        "          18\t           1\t           1\t6402373705728000\t                   0\t                   2\n",
        "          19\t           1\t           1\t121645100408832000\t                   0\t                   2\n",
        "          20\t           1\t           1\t2432902008176640000\t                   0\t                   2\n",
        "2\n",
        "           1\t         5.5\t         5.5\t           1\t                 5.5\t                 6.5\n",
        "           2\t         5.5\t       30.25\t           2\t              15.125\t              21.625\n",
        "           3\t         5.5\t     166.375\t           6\t       27.7291666667\t       49.3541666667\n",
        "           4\t         5.5\t    915.0625\t          24\t       38.1276041667\t       87.4817708333\n",
        "           5\t         5.5\t  5032.84375\t         120\t       41.9403645833\t       129.422135417\n",
        "           6\t         5.5\t27680.640625\t         720\t       38.4453342014\t       167.867469618\n",
        "           7\t         5.5\t152243.523438\t        5040\t       30.2070483011\t       198.074517919\n",
        "           8\t         5.5\t837339.378906\t       40320\t        20.767345707\t       218.841863626\n",
        "           9\t         5.5\t4605366.58398\t      362880\t       12.6911557098\t       231.533019336\n",
        "          10\t         5.5\t25329516.2119\t     3628800\t       6.98013564041\t       238.513154976\n",
        "          11\t         5.5\t139312339.166\t    39916800\t        3.4900678202\t       242.003222797\n",
        "          12\t         5.5\t766217865.41\t   479001600\t       1.59961441759\t       243.602837214\n",
        "          13\t         5.5\t4214198259.76\t  6227020800\t      0.676759945905\t        244.27959716\n",
        "          14\t         5.5\t23178090428.7\t 87178291200\t      0.265869978748\t       244.545467139\n",
        "          15\t         5.5\t1.27479497358e+11\t1307674368000\t     0.0974856588744\t       244.642952798\n",
        "          16\t         5.5\t7.01137235467e+11\t20922789888000\t     0.0335106952381\t       244.676463493\n",
        "          17\t         5.5\t3.85625479507e+12\t355687428096000\t     0.0108416955182\t       244.687305188\n",
        "          18\t         5.5\t2.12094013729e+13\t6402373705728000\t    0.00331274029723\t       244.690617929\n",
        "          19\t         5.5\t1.16651707551e+14\t121645100408832000\t   0.000958951138671\t        244.69157688\n",
        "          20\t         5.5\t6.4158439153e+14\t2432902008176640000\t   0.000263711563135\t       244.691840591\n",
        "244.691840591\n",
        "           1\t        -5.5\t        -5.5\t           1\t                -5.5\t                -4.5\n",
        "           2\t        -5.5\t       30.25\t           2\t              15.125\t              10.625\n",
        "           3\t        -5.5\t    -166.375\t           6\t      -27.7291666667\t      -17.1041666667\n",
        "           4\t        -5.5\t    915.0625\t          24\t       38.1276041667\t          21.0234375\n",
        "           5\t        -5.5\t -5032.84375\t         120\t      -41.9403645833\t      -20.9169270833\n",
        "           6\t        -5.5\t27680.640625\t         720\t       38.4453342014\t       17.5284071181\n",
        "           7\t        -5.5\t-152243.523438\t        5040\t      -30.2070483011\t       -12.678641183\n",
        "           8\t        -5.5\t837339.378906\t       40320\t        20.767345707\t       8.08870452396\n",
        "           9\t        -5.5\t-4605366.58398\t      362880\t      -12.6911557098\t      -4.60245118587\n",
        "          10\t        -5.5\t25329516.2119\t     3628800\t       6.98013564041\t       2.37768445454\n",
        "          11\t        -5.5\t-139312339.166\t    39916800\t       -3.4900678202\t      -1.11238336566\n",
        "          12\t        -5.5\t766217865.41\t   479001600\t       1.59961441759\t      0.487231051929\n",
        "          13\t        -5.5\t-4214198259.76\t  6227020800\t     -0.676759945905\t     -0.189528893976\n",
        "          14\t        -5.5\t23178090428.7\t 87178291200\t      0.265869978748\t     0.0763410847723\n",
        "          15\t        -5.5\t-1.27479497358e+11\t1307674368000\t    -0.0974856588744\t    -0.0211445741022\n",
        "          16\t        -5.5\t7.01137235467e+11\t20922789888000\t     0.0335106952381\t     0.0123661211359\n",
        "          17\t        -5.5\t-3.85625479507e+12\t355687428096000\t    -0.0108416955182\t    0.00152442561772\n",
        "          18\t        -5.5\t2.12094013729e+13\t6402373705728000\t    0.00331274029723\t    0.00483716591495\n",
        "          19\t        -5.5\t-1.16651707551e+14\t121645100408832000\t  -0.000958951138671\t    0.00387821477628\n",
        "          20\t        -5.5\t6.4158439153e+14\t2432902008176640000\t   0.000263711563135\t    0.00414192633941\n",
        "0.00414192633941\n"
       ]
      }
     ],
     "prompt_number": 171
    },
    {
     "cell_type": "markdown",
     "metadata": {},
     "source": [
      "    Falla cuando x = 1 porque la divisi\u00f3n es entera."
     ]
    },
    {
     "cell_type": "markdown",
     "metadata": {},
     "source": [
      "* \u00bfC\u00f3mo resolver\u00edas este problema? Implementa tu soluci\u00f3n."
     ]
    },
    {
     "cell_type": "code",
     "collapsed": false,
     "input": [
      "def exp_maclalurinCorregido(x, n):\n",
      "    x = x + 0.0\n",
      "    suma = 1\n",
      "    for i in range (1, n + 1):\n",
      "        suma += x**i / factorial(i)\n",
      "        print \"%12s\\t%12s\\t%12s\\t%12s\\t%20s\\t%20s\" % (i, x, x**i, factorial(i), x**i/factorial(i), suma)\n",
      "    return suma\n",
      "\n",
      "exp_maclalurinCorregido(1, 20)"
     ],
     "language": "python",
     "metadata": {},
     "outputs": [
      {
       "output_type": "stream",
       "stream": "stdout",
       "text": [
        "           1\t         1.0\t         1.0\t           1\t                 1.0\t                 2.0\n",
        "           2\t         1.0\t         1.0\t           2\t                 0.5\t                 2.5\n",
        "           3\t         1.0\t         1.0\t           6\t      0.166666666667\t       2.66666666667\n",
        "           4\t         1.0\t         1.0\t          24\t     0.0416666666667\t       2.70833333333\n",
        "           5\t         1.0\t         1.0\t         120\t    0.00833333333333\t       2.71666666667\n",
        "           6\t         1.0\t         1.0\t         720\t    0.00138888888889\t       2.71805555556\n",
        "           7\t         1.0\t         1.0\t        5040\t   0.000198412698413\t       2.71825396825\n",
        "           8\t         1.0\t         1.0\t       40320\t   2.48015873016e-05\t       2.71827876984\n",
        "           9\t         1.0\t         1.0\t      362880\t    2.7557319224e-06\t       2.71828152557\n",
        "          10\t         1.0\t         1.0\t     3628800\t    2.7557319224e-07\t       2.71828180115\n",
        "          11\t         1.0\t         1.0\t    39916800\t   2.50521083854e-08\t        2.7182818262\n",
        "          12\t         1.0\t         1.0\t   479001600\t   2.08767569879e-09\t       2.71828182829\n",
        "          13\t         1.0\t         1.0\t  6227020800\t   1.60590438368e-10\t       2.71828182845\n",
        "          14\t         1.0\t         1.0\t 87178291200\t   1.14707455977e-11\t       2.71828182846\n",
        "          15\t         1.0\t         1.0\t1307674368000\t   7.64716373182e-13\t       2.71828182846\n",
        "          16\t         1.0\t         1.0\t20922789888000\t   4.77947733239e-14\t       2.71828182846\n",
        "          17\t         1.0\t         1.0\t355687428096000\t   2.81145725435e-15\t       2.71828182846\n",
        "          18\t         1.0\t         1.0\t6402373705728000\t   1.56192069686e-16\t       2.71828182846\n",
        "          19\t         1.0\t         1.0\t121645100408832000\t   8.22063524662e-18\t       2.71828182846\n",
        "          20\t         1.0\t         1.0\t2432902008176640000\t   4.11031762331e-19\t       2.71828182846\n"
       ]
      },
      {
       "metadata": {},
       "output_type": "pyout",
       "prompt_number": 176,
       "text": [
        "2.7182818284590455"
       ]
      }
     ],
     "prompt_number": 176
    },
    {
     "cell_type": "markdown",
     "metadata": {},
     "source": [
      "<div class=\"alert alert-info\">\n",
      "**HINT** Recuerda las leyes de los exponentes\n",
      "</div>"
     ]
    },
    {
     "cell_type": "heading",
     "level": 2,
     "metadata": {},
     "source": [
      "Problema 10"
     ]
    },
    {
     "cell_type": "markdown",
     "metadata": {},
     "source": [
      "- \u00bfQu\u00e9 pasa si usas 16 bits, 32 bits o 64 bits?\n",
      "- Implementa el **problema 8** usando el otro lenguaje que no usaste \u00bfEl resultado es diferente? "
     ]
    },
    {
     "cell_type": "code",
     "collapsed": false,
     "input": [
      "a16 = np.array([np.float16(10000), np.float16(10001), np.float16(10002)])\n",
      "a32 = np.array([np.float32(10000), np.float32(10001), np.float32(10002)])\n",
      "a64 = np.array([np.float64(10000), np.float64(10001), np.float64(10002)])"
     ],
     "language": "python",
     "metadata": {},
     "outputs": [],
     "prompt_number": 202
    },
    {
     "cell_type": "code",
     "collapsed": false,
     "input": [
      "for a in [a16, a32, a64]:\n",
      "    print f2(a)\n",
      "#No funciona"
     ],
     "language": "python",
     "metadata": {},
     "outputs": [
      {
       "output_type": "stream",
       "stream": "stdout",
       "text": [
        "inf\n",
        "-1.5\n",
        "1.0\n"
       ]
      },
      {
       "output_type": "stream",
       "stream": "stderr",
       "text": [
        "-c:1: RuntimeWarning: overflow encountered in square\n"
       ]
      }
     ],
     "prompt_number": 203
    }
   ],
   "metadata": {}
  }
 ]
}