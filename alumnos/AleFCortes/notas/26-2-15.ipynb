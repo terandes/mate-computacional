{
 "metadata": {
  "name": "",
  "signature": "sha256:0c3713019ddb0caf3406f53633765d48294382493144a44bd6e087b1b519d41b"
 },
 "nbformat": 3,
 "nbformat_minor": 0,
 "worksheets": [
  {
   "cells": [
    {
     "cell_type": "code",
     "collapsed": false,
     "input": [
      "%matplotlib inline\n",
      "import numpy as np\n",
      "import matplotlib.pyplot as plt\n",
      "import scipy.linalg # Biblioteca para algebra lineal"
     ],
     "language": "python",
     "metadata": {},
     "outputs": [],
     "prompt_number": 1
    },
    {
     "cell_type": "code",
     "collapsed": false,
     "input": [
      "A = np.array([[n+m*10 for n in range(1,5)] for m in range(1,5)])\n",
      "\n",
      "A ##comprension de listas "
     ],
     "language": "python",
     "metadata": {},
     "outputs": [
      {
       "metadata": {},
       "output_type": "pyout",
       "prompt_number": 2,
       "text": [
        "array([[11, 12, 13, 14],\n",
        "       [21, 22, 23, 24],\n",
        "       [31, 32, 33, 34],\n",
        "       [41, 42, 43, 44]])"
       ]
      }
     ],
     "prompt_number": 2
    },
    {
     "cell_type": "code",
     "collapsed": false,
     "input": [
      "Am = np.matrix(A)\n",
      "Am"
     ],
     "language": "python",
     "metadata": {},
     "outputs": [
      {
       "metadata": {},
       "output_type": "pyout",
       "prompt_number": 3,
       "text": [
        "matrix([[11, 12, 13, 14],\n",
        "        [21, 22, 23, 24],\n",
        "        [31, 32, 33, 34],\n",
        "        [41, 42, 43, 44]])"
       ]
      }
     ],
     "prompt_number": 3
    },
    {
     "cell_type": "code",
     "collapsed": false,
     "input": [
      "print A.shape\n",
      "print Am.shape"
     ],
     "language": "python",
     "metadata": {},
     "outputs": [
      {
       "output_type": "stream",
       "stream": "stdout",
       "text": [
        "(4L, 4L)\n",
        "(4L, 4L)\n"
       ]
      }
     ],
     "prompt_number": 4
    },
    {
     "cell_type": "code",
     "collapsed": false,
     "input": [
      "y = A[:, 0]\n",
      "print y\n",
      "print y.shape"
     ],
     "language": "python",
     "metadata": {},
     "outputs": [
      {
       "output_type": "stream",
       "stream": "stdout",
       "text": [
        "[11 21 31 41]\n",
        "(4L,)\n"
       ]
      }
     ],
     "prompt_number": 6
    },
    {
     "cell_type": "code",
     "collapsed": false,
     "input": [
      "ym = Am[:,0]\n",
      "print ym\n",
      "print ym.shape"
     ],
     "language": "python",
     "metadata": {},
     "outputs": [
      {
       "output_type": "stream",
       "stream": "stdout",
       "text": [
        "[[11]\n",
        " [21]\n",
        " [31]\n",
        " [41]]\n",
        "(4L, 1L)\n"
       ]
      }
     ],
     "prompt_number": 7
    },
    {
     "cell_type": "code",
     "collapsed": false,
     "input": [
      "y = A[:,:1]\n",
      "print y\n",
      "print y.shape"
     ],
     "language": "python",
     "metadata": {},
     "outputs": [
      {
       "output_type": "stream",
       "stream": "stdout",
       "text": [
        "[[11]\n",
        " [21]\n",
        " [31]\n",
        " [41]]\n",
        "(4L, 1L)\n"
       ]
      }
     ],
     "prompt_number": 8
    },
    {
     "cell_type": "code",
     "collapsed": false,
     "input": [
      "Am*ym"
     ],
     "language": "python",
     "metadata": {},
     "outputs": [
      {
       "metadata": {},
       "output_type": "pyout",
       "prompt_number": 9,
       "text": [
        "matrix([[1350],\n",
        "        [2390],\n",
        "        [3430],\n",
        "        [4470]])"
       ]
      }
     ],
     "prompt_number": 9
    },
    {
     "cell_type": "code",
     "collapsed": false,
     "input": [
      "ym*Am"
     ],
     "language": "python",
     "metadata": {},
     "outputs": [
      {
       "ename": "ValueError",
       "evalue": "shapes (4,1) and (4,4) not aligned: 1 (dim 1) != 4 (dim 0)",
       "output_type": "pyerr",
       "traceback": [
        "\u001b[1;31m---------------------------------------------------------------------------\u001b[0m\n\u001b[1;31mValueError\u001b[0m                                Traceback (most recent call last)",
        "\u001b[1;32m<ipython-input-11-3dc9111fd994>\u001b[0m in \u001b[0;36m<module>\u001b[1;34m()\u001b[0m\n\u001b[1;32m----> 1\u001b[1;33m \u001b[0mym\u001b[0m\u001b[1;33m*\u001b[0m\u001b[0mAm\u001b[0m\u001b[1;33m\u001b[0m\u001b[0m\n\u001b[0m",
        "\u001b[1;32mC:\\Anaconda\\lib\\site-packages\\numpy\\matrixlib\\defmatrix.pyc\u001b[0m in \u001b[0;36m__mul__\u001b[1;34m(self, other)\u001b[0m\n\u001b[0;32m    339\u001b[0m         \u001b[1;32mif\u001b[0m \u001b[0misinstance\u001b[0m\u001b[1;33m(\u001b[0m\u001b[0mother\u001b[0m\u001b[1;33m,\u001b[0m \u001b[1;33m(\u001b[0m\u001b[0mN\u001b[0m\u001b[1;33m.\u001b[0m\u001b[0mndarray\u001b[0m\u001b[1;33m,\u001b[0m \u001b[0mlist\u001b[0m\u001b[1;33m,\u001b[0m \u001b[0mtuple\u001b[0m\u001b[1;33m)\u001b[0m\u001b[1;33m)\u001b[0m \u001b[1;33m:\u001b[0m\u001b[1;33m\u001b[0m\u001b[0m\n\u001b[0;32m    340\u001b[0m             \u001b[1;31m# This promotes 1-D vectors to row vectors\u001b[0m\u001b[1;33m\u001b[0m\u001b[1;33m\u001b[0m\u001b[0m\n\u001b[1;32m--> 341\u001b[1;33m             \u001b[1;32mreturn\u001b[0m \u001b[0mN\u001b[0m\u001b[1;33m.\u001b[0m\u001b[0mdot\u001b[0m\u001b[1;33m(\u001b[0m\u001b[0mself\u001b[0m\u001b[1;33m,\u001b[0m \u001b[0masmatrix\u001b[0m\u001b[1;33m(\u001b[0m\u001b[0mother\u001b[0m\u001b[1;33m)\u001b[0m\u001b[1;33m)\u001b[0m\u001b[1;33m\u001b[0m\u001b[0m\n\u001b[0m\u001b[0;32m    342\u001b[0m         \u001b[1;32mif\u001b[0m \u001b[0misscalar\u001b[0m\u001b[1;33m(\u001b[0m\u001b[0mother\u001b[0m\u001b[1;33m)\u001b[0m \u001b[1;32mor\u001b[0m \u001b[1;32mnot\u001b[0m \u001b[0mhasattr\u001b[0m\u001b[1;33m(\u001b[0m\u001b[0mother\u001b[0m\u001b[1;33m,\u001b[0m \u001b[1;34m'__rmul__'\u001b[0m\u001b[1;33m)\u001b[0m \u001b[1;33m:\u001b[0m\u001b[1;33m\u001b[0m\u001b[0m\n\u001b[0;32m    343\u001b[0m             \u001b[1;32mreturn\u001b[0m \u001b[0mN\u001b[0m\u001b[1;33m.\u001b[0m\u001b[0mdot\u001b[0m\u001b[1;33m(\u001b[0m\u001b[0mself\u001b[0m\u001b[1;33m,\u001b[0m \u001b[0mother\u001b[0m\u001b[1;33m)\u001b[0m\u001b[1;33m\u001b[0m\u001b[0m\n",
        "\u001b[1;31mValueError\u001b[0m: shapes (4,1) and (4,4) not aligned: 1 (dim 1) != 4 (dim 0)"
       ]
      }
     ],
     "prompt_number": 11
    },
    {
     "cell_type": "code",
     "collapsed": false,
     "input": [
      "ym.T"
     ],
     "language": "python",
     "metadata": {},
     "outputs": [
      {
       "metadata": {},
       "output_type": "pyout",
       "prompt_number": 12,
       "text": [
        "matrix([[11, 21, 31, 41]])"
       ]
      }
     ],
     "prompt_number": 12
    },
    {
     "cell_type": "code",
     "collapsed": false,
     "input": [
      "Am.T"
     ],
     "language": "python",
     "metadata": {},
     "outputs": [
      {
       "metadata": {},
       "output_type": "pyout",
       "prompt_number": 13,
       "text": [
        "matrix([[11, 21, 31, 41],\n",
        "        [12, 22, 32, 42],\n",
        "        [13, 23, 33, 43],\n",
        "        [14, 24, 34, 44]])"
       ]
      }
     ],
     "prompt_number": 13
    },
    {
     "cell_type": "code",
     "collapsed": false,
     "input": [
      "ym.T*Am*ym"
     ],
     "language": "python",
     "metadata": {},
     "outputs": [
      {
       "metadata": {},
       "output_type": "pyout",
       "prompt_number": 14,
       "text": [
        "matrix([[354640]])"
       ]
      }
     ],
     "prompt_number": 14
    },
    {
     "cell_type": "code",
     "collapsed": false,
     "input": [
      "Am*Am"
     ],
     "language": "python",
     "metadata": {},
     "outputs": [
      {
       "metadata": {},
       "output_type": "pyout",
       "prompt_number": 15,
       "text": [
        "matrix([[1350, 1400, 1450, 1500],\n",
        "        [2390, 2480, 2570, 2660],\n",
        "        [3430, 3560, 3690, 3820],\n",
        "        [4470, 4640, 4810, 4980]])"
       ]
      }
     ],
     "prompt_number": 15
    },
    {
     "cell_type": "code",
     "collapsed": false,
     "input": [
      "Am*2"
     ],
     "language": "python",
     "metadata": {},
     "outputs": [
      {
       "metadata": {},
       "output_type": "pyout",
       "prompt_number": 16,
       "text": [
        "matrix([[22, 24, 26, 28],\n",
        "        [42, 44, 46, 48],\n",
        "        [62, 64, 66, 68],\n",
        "        [82, 84, 86, 88]])"
       ]
      }
     ],
     "prompt_number": 16
    },
    {
     "cell_type": "code",
     "collapsed": false,
     "input": [
      "Am + ym"
     ],
     "language": "python",
     "metadata": {},
     "outputs": [
      {
       "metadata": {},
       "output_type": "pyout",
       "prompt_number": 17,
       "text": [
        "matrix([[22, 23, 24, 25],\n",
        "        [42, 43, 44, 45],\n",
        "        [62, 63, 64, 65],\n",
        "        [82, 83, 84, 85]])"
       ]
      }
     ],
     "prompt_number": 17
    },
    {
     "cell_type": "code",
     "collapsed": false,
     "input": [
      "Am**(-1)"
     ],
     "language": "python",
     "metadata": {},
     "outputs": [
      {
       "metadata": {},
       "output_type": "pyout",
       "prompt_number": 18,
       "text": [
        "matrix([[  5.58433214e+14,  -6.30701042e+14,  -4.13897559e+14,\n",
        "           4.86165386e+14],\n",
        "        [ -1.12015133e+15,   1.21212856e+15,   9.36196859e+14,\n",
        "          -1.02817409e+15],\n",
        "        [  5.65003017e+14,  -5.32154004e+14,  -6.30701042e+14,\n",
        "           5.97852029e+14],\n",
        "        [ -3.28490126e+12,  -4.92735189e+13,   1.08401742e+14,\n",
        "          -5.58433214e+13]])"
       ]
      }
     ],
     "prompt_number": 18
    },
    {
     "cell_type": "code",
     "collapsed": false,
     "input": [
      "Id = np.matrix(np.identity(4))\n",
      "Id"
     ],
     "language": "python",
     "metadata": {},
     "outputs": [
      {
       "metadata": {},
       "output_type": "pyout",
       "prompt_number": 19,
       "text": [
        "matrix([[ 1.,  0.,  0.,  0.],\n",
        "        [ 0.,  1.,  0.,  0.],\n",
        "        [ 0.,  0.,  1.,  0.],\n",
        "        [ 0.,  0.,  0.,  1.]])"
       ]
      }
     ],
     "prompt_number": 19
    },
    {
     "cell_type": "code",
     "collapsed": false,
     "input": [
      "A = np.matrix ([[3,6,-5],\n",
      "               [1,-3,2],\n",
      "               [5,-1,4]])\n",
      "A"
     ],
     "language": "python",
     "metadata": {},
     "outputs": [
      {
       "metadata": {},
       "output_type": "pyout",
       "prompt_number": 20,
       "text": [
        "matrix([[ 3,  6, -5],\n",
        "        [ 1, -3,  2],\n",
        "        [ 5, -1,  4]])"
       ]
      }
     ],
     "prompt_number": 20
    },
    {
     "cell_type": "code",
     "collapsed": false,
     "input": [
      "B = np.matrix ([[12],\n",
      "                [-2],\n",
      "                [10]])\n",
      "B"
     ],
     "language": "python",
     "metadata": {},
     "outputs": [
      {
       "metadata": {},
       "output_type": "pyout",
       "prompt_number": 21,
       "text": [
        "matrix([[12],\n",
        "        [-2],\n",
        "        [10]])"
       ]
      }
     ],
     "prompt_number": 21
    },
    {
     "cell_type": "code",
     "collapsed": false,
     "input": [
      "x = A**(-1)*B## verificar si esta correcto\n",
      "print x"
     ],
     "language": "python",
     "metadata": {},
     "outputs": [
      {
       "output_type": "stream",
       "stream": "stdout",
       "text": [
        "[[ 1.75]\n",
        " [ 1.75]\n",
        " [ 0.75]]\n"
       ]
      }
     ],
     "prompt_number": 23
    },
    {
     "cell_type": "code",
     "collapsed": false,
     "input": [
      "A*x"
     ],
     "language": "python",
     "metadata": {},
     "outputs": [
      {
       "metadata": {},
       "output_type": "pyout",
       "prompt_number": 24,
       "text": [
        "matrix([[ 12.],\n",
        "        [ -2.],\n",
        "        [ 10.]])"
       ]
      }
     ],
     "prompt_number": 24
    },
    {
     "cell_type": "heading",
     "level": 1,
     "metadata": {},
     "source": [
      "Transformaciones"
     ]
    },
    {
     "cell_type": "code",
     "collapsed": false,
     "input": [
      "A = np.matrix (\"1,2,3;4,5,6\")\n",
      "A"
     ],
     "language": "python",
     "metadata": {},
     "outputs": [
      {
       "metadata": {},
       "output_type": "pyout",
       "prompt_number": 25,
       "text": [
        "matrix([[1, 2, 3],\n",
        "        [4, 5, 6]])"
       ]
      }
     ],
     "prompt_number": 25
    },
    {
     "cell_type": "code",
     "collapsed": false,
     "input": [
      "C = np.matrix([[1j,2j],[3j,4j]])\n",
      "C"
     ],
     "language": "python",
     "metadata": {},
     "outputs": [
      {
       "metadata": {},
       "output_type": "pyout",
       "prompt_number": 26,
       "text": [
        "matrix([[ 0.+1.j,  0.+2.j],\n",
        "        [ 0.+3.j,  0.+4.j]])"
       ]
      }
     ],
     "prompt_number": 26
    },
    {
     "cell_type": "code",
     "collapsed": false,
     "input": [
      "np.conjugate(C)"
     ],
     "language": "python",
     "metadata": {},
     "outputs": [
      {
       "metadata": {},
       "output_type": "pyout",
       "prompt_number": 27,
       "text": [
        "matrix([[ 0.-1.j,  0.-2.j],\n",
        "        [ 0.-3.j,  0.-4.j]])"
       ]
      }
     ],
     "prompt_number": 27
    },
    {
     "cell_type": "code",
     "collapsed": false,
     "input": [
      "C.H"
     ],
     "language": "python",
     "metadata": {},
     "outputs": [
      {
       "metadata": {},
       "output_type": "pyout",
       "prompt_number": 28,
       "text": [
        "matrix([[ 0.-1.j,  0.-3.j],\n",
        "        [ 0.-2.j,  0.-4.j]])"
       ]
      }
     ],
     "prompt_number": 28
    },
    {
     "cell_type": "code",
     "collapsed": false,
     "input": [
      "(np.conjugate(C)).T"
     ],
     "language": "python",
     "metadata": {},
     "outputs": [
      {
       "metadata": {},
       "output_type": "pyout",
       "prompt_number": 29,
       "text": [
        "matrix([[ 0.-1.j,  0.-3.j],\n",
        "        [ 0.-2.j,  0.-4.j]])"
       ]
      }
     ],
     "prompt_number": 29
    },
    {
     "cell_type": "code",
     "collapsed": false,
     "input": [
      "print A.H\n",
      "print A.T"
     ],
     "language": "python",
     "metadata": {},
     "outputs": [
      {
       "output_type": "stream",
       "stream": "stdout",
       "text": [
        "[[1 4]\n",
        " [2 5]\n",
        " [3 6]]\n",
        "[[1 4]\n",
        " [2 5]\n",
        " [3 6]]\n"
       ]
      }
     ],
     "prompt_number": 30
    },
    {
     "cell_type": "code",
     "collapsed": false,
     "input": [
      "np.real (C)#tambien funciona C.real"
     ],
     "language": "python",
     "metadata": {},
     "outputs": [
      {
       "metadata": {},
       "output_type": "pyout",
       "prompt_number": 31,
       "text": [
        "matrix([[ 0.,  0.],\n",
        "        [ 0.,  0.]])"
       ]
      }
     ],
     "prompt_number": 31
    },
    {
     "cell_type": "code",
     "collapsed": false,
     "input": [
      "np.imag(C) # tambien funciona C.imag"
     ],
     "language": "python",
     "metadata": {},
     "outputs": [
      {
       "metadata": {},
       "output_type": "pyout",
       "prompt_number": 32,
       "text": [
        "matrix([[ 1.,  2.],\n",
        "        [ 3.,  4.]])"
       ]
      }
     ],
     "prompt_number": 32
    },
    {
     "cell_type": "code",
     "collapsed": false,
     "input": [
      "A.imag"
     ],
     "language": "python",
     "metadata": {},
     "outputs": [
      {
       "metadata": {},
       "output_type": "pyout",
       "prompt_number": 33,
       "text": [
        "matrix([[0, 0, 0],\n",
        "        [0, 0, 0]])"
       ]
      }
     ],
     "prompt_number": 33
    },
    {
     "cell_type": "code",
     "collapsed": false,
     "input": [
      "C.I"
     ],
     "language": "python",
     "metadata": {},
     "outputs": [
      {
       "metadata": {},
       "output_type": "pyout",
       "prompt_number": 34,
       "text": [
        "matrix([[-0.+2.j ,  0.-1.j ],\n",
        "        [ 0.-1.5j,  0.+0.5j]])"
       ]
      }
     ],
     "prompt_number": 34
    },
    {
     "cell_type": "code",
     "collapsed": false,
     "input": [
      "C*C.I #errores de num\u00e9ricos"
     ],
     "language": "python",
     "metadata": {},
     "outputs": [
      {
       "metadata": {},
       "output_type": "pyout",
       "prompt_number": 35,
       "text": [
        "matrix([[  1.00000000e+00+0.j,   0.00000000e+00+0.j],\n",
        "        [  8.88178420e-16+0.j,   1.00000000e+00+0.j]])"
       ]
      }
     ],
     "prompt_number": 35
    },
    {
     "cell_type": "code",
     "collapsed": false,
     "input": [
      "C.I*C"
     ],
     "language": "python",
     "metadata": {},
     "outputs": [
      {
       "metadata": {},
       "output_type": "pyout",
       "prompt_number": 36,
       "text": [
        "matrix([[  1.00000000e+00+0.j,   0.00000000e+00+0.j],\n",
        "        [  2.22044605e-16+0.j,   1.00000000e+00+0.j]])"
       ]
      }
     ],
     "prompt_number": 36
    },
    {
     "cell_type": "code",
     "collapsed": false,
     "input": [
      "A = np.matrix([[1,2],[3,4]])\n",
      "A"
     ],
     "language": "python",
     "metadata": {},
     "outputs": [
      {
       "metadata": {},
       "output_type": "pyout",
       "prompt_number": 37,
       "text": [
        "matrix([[1, 2],\n",
        "        [3, 4]])"
       ]
      }
     ],
     "prompt_number": 37
    },
    {
     "cell_type": "code",
     "collapsed": false,
     "input": [
      "np.linalg.det(A)"
     ],
     "language": "python",
     "metadata": {},
     "outputs": [
      {
       "metadata": {},
       "output_type": "pyout",
       "prompt_number": 38,
       "text": [
        "-2.0000000000000004"
       ]
      }
     ],
     "prompt_number": 38
    },
    {
     "cell_type": "code",
     "collapsed": false,
     "input": [
      "B= np.arange(1,10).reshape(3,3)\n",
      "B = np.matrix(B)\n",
      "B"
     ],
     "language": "python",
     "metadata": {},
     "outputs": [
      {
       "metadata": {},
       "output_type": "pyout",
       "prompt_number": 41,
       "text": [
        "matrix([[1, 2, 3],\n",
        "        [4, 5, 6],\n",
        "        [7, 8, 9]])"
       ]
      }
     ],
     "prompt_number": 41
    },
    {
     "cell_type": "code",
     "collapsed": false,
     "input": [
      "np.linalg.det(B)"
     ],
     "language": "python",
     "metadata": {},
     "outputs": [
      {
       "metadata": {},
       "output_type": "pyout",
       "prompt_number": 42,
       "text": [
        "6.6613381477509402e-16"
       ]
      }
     ],
     "prompt_number": 42
    },
    {
     "cell_type": "code",
     "collapsed": false,
     "input": [
      "#ejercicio propiedades determinante"
     ],
     "language": "python",
     "metadata": {},
     "outputs": [],
     "prompt_number": 43
    },
    {
     "cell_type": "code",
     "collapsed": false,
     "input": [
      "Id = np.matrix (np.identity(3))\n",
      "Id"
     ],
     "language": "python",
     "metadata": {},
     "outputs": [
      {
       "metadata": {},
       "output_type": "pyout",
       "prompt_number": 51,
       "text": [
        "matrix([[ 1.,  0.,  0.],\n",
        "        [ 0.,  1.,  0.],\n",
        "        [ 0.,  0.,  1.]])"
       ]
      }
     ],
     "prompt_number": 51
    },
    {
     "cell_type": "code",
     "collapsed": false,
     "input": [
      "np.linalg.det(Id)"
     ],
     "language": "python",
     "metadata": {},
     "outputs": [
      {
       "metadata": {},
       "output_type": "pyout",
       "prompt_number": 52,
       "text": [
        "1.0"
       ]
      }
     ],
     "prompt_number": 52
    },
    {
     "cell_type": "code",
     "collapsed": false,
     "input": [
      "np.linalg.det(A)"
     ],
     "language": "python",
     "metadata": {},
     "outputs": [
      {
       "metadata": {},
       "output_type": "pyout",
       "prompt_number": 54,
       "text": [
        "-2.0000000000000004"
       ]
      }
     ],
     "prompt_number": 54
    },
    {
     "cell_type": "code",
     "collapsed": false,
     "input": [
      "np.linalg.det(A.T)"
     ],
     "language": "python",
     "metadata": {},
     "outputs": [
      {
       "metadata": {},
       "output_type": "pyout",
       "prompt_number": 58,
       "text": [
        "-2.0"
       ]
      }
     ],
     "prompt_number": 58
    },
    {
     "cell_type": "code",
     "collapsed": false,
     "input": [
      "A"
     ],
     "language": "python",
     "metadata": {},
     "outputs": [
      {
       "metadata": {},
       "output_type": "pyout",
       "prompt_number": 59,
       "text": [
        "matrix([[1, 2],\n",
        "        [3, 4]])"
       ]
      }
     ],
     "prompt_number": 59
    },
    {
     "cell_type": "code",
     "collapsed": false,
     "input": [],
     "language": "python",
     "metadata": {},
     "outputs": []
    },
    {
     "cell_type": "code",
     "collapsed": false,
     "input": [
      "x = A**(-1)\n",
      "x"
     ],
     "language": "python",
     "metadata": {},
     "outputs": [
      {
       "metadata": {},
       "output_type": "pyout",
       "prompt_number": 57,
       "text": [
        "matrix([[-2. ,  1. ],\n",
        "        [ 1.5, -0.5]])"
       ]
      }
     ],
     "prompt_number": 57
    },
    {
     "cell_type": "code",
     "collapsed": false,
     "input": [
      "np.linalg.det(x)"
     ],
     "language": "python",
     "metadata": {},
     "outputs": [
      {
       "metadata": {},
       "output_type": "pyout",
       "prompt_number": 60,
       "text": [
        "-0.50000000000000011"
       ]
      }
     ],
     "prompt_number": 60
    },
    {
     "cell_type": "code",
     "collapsed": false,
     "input": [
      "1/np.linalg.det(A)"
     ],
     "language": "python",
     "metadata": {},
     "outputs": [
      {
       "metadata": {},
       "output_type": "pyout",
       "prompt_number": 62,
       "text": [
        "-0.49999999999999989"
       ]
      }
     ],
     "prompt_number": 62
    },
    {
     "cell_type": "code",
     "collapsed": false,
     "input": [
      " ##falta"
     ],
     "language": "python",
     "metadata": {},
     "outputs": []
    },
    {
     "cell_type": "code",
     "collapsed": false,
     "input": [
      "A = np.matrix([[-2,2,-3],\n",
      "               [-1,1,3],\n",
      "               [2,0,-1]])\n",
      "print  A"
     ],
     "language": "python",
     "metadata": {},
     "outputs": [
      {
       "output_type": "stream",
       "stream": "stdout",
       "text": [
        "[[-2  2 -3]\n",
        " [-1  1  3]\n",
        " [ 2  0 -1]]\n"
       ]
      }
     ],
     "prompt_number": 63
    },
    {
     "cell_type": "code",
     "collapsed": false,
     "input": [
      "B = np.matrix([[5, -3, 2],\n",
      "               [1,0,2],\n",
      "               [2,-1,3]])\n",
      "print B"
     ],
     "language": "python",
     "metadata": {},
     "outputs": [
      {
       "output_type": "stream",
       "stream": "stdout",
       "text": [
        "[[ 5 -3  2]\n",
        " [ 1  0  2]\n",
        " [ 2 -1  3]]\n"
       ]
      }
     ],
     "prompt_number": 66
    },
    {
     "cell_type": "heading",
     "level": 1,
     "metadata": {},
     "source": [
      "Algebra lineal simb\u00f3lica"
     ]
    },
    {
     "cell_type": "code",
     "collapsed": false,
     "input": [
      "from IPython.html.widgets import interact\n",
      "from IPython.display import display"
     ],
     "language": "python",
     "metadata": {},
     "outputs": [],
     "prompt_number": 65
    },
    {
     "cell_type": "code",
     "collapsed": false,
     "input": [
      "from sympy import *"
     ],
     "language": "python",
     "metadata": {},
     "outputs": [],
     "prompt_number": 67
    },
    {
     "cell_type": "code",
     "collapsed": false,
     "input": [
      "init_printing(use_latex='mathjax')"
     ],
     "language": "python",
     "metadata": {},
     "outputs": [],
     "prompt_number": 68
    },
    {
     "cell_type": "code",
     "collapsed": false,
     "input": [
      "x = Symbol('x')\n",
      "y = Symbol('y')"
     ],
     "language": "python",
     "metadata": {},
     "outputs": [],
     "prompt_number": 69
    },
    {
     "cell_type": "code",
     "collapsed": false,
     "input": [
      "A = Matrix([[1,x], [y,1]])\n",
      "A"
     ],
     "language": "python",
     "metadata": {},
     "outputs": [
      {
       "latex": [
        "$$\\left[\\begin{matrix}1 & x\\\\y & 1\\end{matrix}\\right]$$"
       ],
       "metadata": {},
       "output_type": "pyout",
       "prompt_number": 70,
       "text": [
        "\u23a11  x\u23a4\n",
        "\u23a2    \u23a5\n",
        "\u23a3y  1\u23a6"
       ]
      }
     ],
     "prompt_number": 70
    },
    {
     "cell_type": "code",
     "collapsed": false,
     "input": [
      "A[0,0]"
     ],
     "language": "python",
     "metadata": {},
     "outputs": [
      {
       "latex": [
        "$$1$$"
       ],
       "metadata": {},
       "output_type": "pyout",
       "prompt_number": 71,
       "text": [
        "1"
       ]
      }
     ],
     "prompt_number": 71
    },
    {
     "cell_type": "code",
     "collapsed": false,
     "input": [
      "A[:,1]"
     ],
     "language": "python",
     "metadata": {},
     "outputs": [
      {
       "latex": [
        "$$\\left[\\begin{matrix}x\\\\1\\end{matrix}\\right]$$"
       ],
       "metadata": {},
       "output_type": "pyout",
       "prompt_number": 72,
       "text": [
        "\u23a1x\u23a4\n",
        "\u23a2 \u23a5\n",
        "\u23a31\u23a6"
       ]
      }
     ],
     "prompt_number": 72
    },
    {
     "cell_type": "code",
     "collapsed": false,
     "input": [
      "A**2"
     ],
     "language": "python",
     "metadata": {},
     "outputs": [
      {
       "latex": [
        "$$\\left[\\begin{matrix}x y + 1 & 2 x\\\\2 y & x y + 1\\end{matrix}\\right]$$"
       ],
       "metadata": {},
       "output_type": "pyout",
       "prompt_number": 73,
       "text": [
        "\u23a1x\u22c5y + 1    2\u22c5x  \u23a4\n",
        "\u23a2                \u23a5\n",
        "\u23a3  2\u22c5y    x\u22c5y + 1\u23a6"
       ]
      }
     ],
     "prompt_number": 73
    },
    {
     "cell_type": "code",
     "collapsed": false,
     "input": [
      "A.inv()"
     ],
     "language": "python",
     "metadata": {},
     "outputs": [
      {
       "latex": [
        "$$\\left[\\begin{matrix}\\frac{x y}{- x y + 1} + 1 & - \\frac{x}{- x y + 1}\\\\- \\frac{y}{- x y + 1} & \\frac{1}{- x y + 1}\\end{matrix}\\right]$$"
       ],
       "metadata": {},
       "output_type": "pyout",
       "prompt_number": 74,
       "text": [
        "\u23a1  x\u22c5y           -x    \u23a4\n",
        "\u23a2\u2500\u2500\u2500\u2500\u2500\u2500\u2500\u2500 + 1  \u2500\u2500\u2500\u2500\u2500\u2500\u2500\u2500\u23a5\n",
        "\u23a2-x\u22c5y + 1      -x\u22c5y + 1\u23a5\n",
        "\u23a2                      \u23a5\n",
        "\u23a2    -y           1    \u23a5\n",
        "\u23a2  \u2500\u2500\u2500\u2500\u2500\u2500\u2500\u2500    \u2500\u2500\u2500\u2500\u2500\u2500\u2500\u2500\u23a5\n",
        "\u23a3  -x\u22c5y + 1    -x\u22c5y + 1\u23a6"
       ]
      }
     ],
     "prompt_number": 74
    },
    {
     "cell_type": "code",
     "collapsed": false,
     "input": [
      "I = A.inv()*A\n",
      "I"
     ],
     "language": "python",
     "metadata": {},
     "outputs": [
      {
       "latex": [
        "$$\\left[\\begin{matrix}1 & x \\left(\\frac{x y}{- x y + 1} + 1\\right) - \\frac{x}{- x y + 1}\\\\0 & - \\frac{x y}{- x y + 1} + \\frac{1}{- x y + 1}\\end{matrix}\\right]$$"
       ],
       "metadata": {},
       "output_type": "pyout",
       "prompt_number": 75,
       "text": [
        "\u23a1     \u239b  x\u22c5y       \u239e      x    \u23a4\n",
        "\u23a21  x\u22c5\u239c\u2500\u2500\u2500\u2500\u2500\u2500\u2500\u2500 + 1\u239f - \u2500\u2500\u2500\u2500\u2500\u2500\u2500\u2500\u23a5\n",
        "\u23a2     \u239d-x\u22c5y + 1    \u23a0   -x\u22c5y + 1\u23a5\n",
        "\u23a2                              \u23a5\n",
        "\u23a2          x\u22c5y         1       \u23a5\n",
        "\u23a20     - \u2500\u2500\u2500\u2500\u2500\u2500\u2500\u2500 + \u2500\u2500\u2500\u2500\u2500\u2500\u2500\u2500   \u23a5\n",
        "\u23a3        -x\u22c5y + 1   -x\u22c5y + 1   \u23a6"
       ]
      }
     ],
     "prompt_number": 75
    },
    {
     "cell_type": "code",
     "collapsed": false,
     "input": [
      "I = simplify(I)\n",
      "I"
     ],
     "language": "python",
     "metadata": {},
     "outputs": [
      {
       "latex": [
        "$$\\left[\\begin{matrix}1 & 0\\\\0 & 1\\end{matrix}\\right]$$"
       ],
       "metadata": {},
       "output_type": "pyout",
       "prompt_number": 76,
       "text": [
        "\u23a11  0\u23a4\n",
        "\u23a2    \u23a5\n",
        "\u23a30  1\u23a6"
       ]
      }
     ],
     "prompt_number": 76
    },
    {
     "cell_type": "code",
     "collapsed": false,
     "input": [
      "A.eigenvals() "
     ],
     "language": "python",
     "metadata": {},
     "outputs": [
      {
       "latex": [
        "$$\\begin{Bmatrix}- \\sqrt{x y} + 1 : 1, & \\sqrt{x y} + 1 : 1\\end{Bmatrix}$$"
       ],
       "metadata": {},
       "output_type": "pyout",
       "prompt_number": 77,
       "text": [
        "\u23a7    _____           _____       \u23ab\n",
        "\u23a8- \u2572\u2571 x\u22c5y  + 1: 1, \u2572\u2571 x\u22c5y  + 1: 1\u23ac\n",
        "\u23a9                                \u23ad"
       ]
      }
     ],
     "prompt_number": 77
    },
    {
     "cell_type": "code",
     "collapsed": false,
     "input": [
      "A.subs({x:0,y:1})"
     ],
     "language": "python",
     "metadata": {},
     "outputs": [
      {
       "latex": [
        "$$\\left[\\begin{matrix}1 & 0\\\\1 & 1\\end{matrix}\\right]$$"
       ],
       "metadata": {},
       "output_type": "pyout",
       "prompt_number": 78,
       "text": [
        "\u23a11  0\u23a4\n",
        "\u23a2    \u23a5\n",
        "\u23a31  1\u23a6"
       ]
      }
     ],
     "prompt_number": 78
    },
    {
     "cell_type": "code",
     "collapsed": false,
     "input": [
      "import scipy.misc\n",
      "img = scipy.misc.lena()\n",
      "plt.imshow(img)"
     ],
     "language": "python",
     "metadata": {},
     "outputs": [
      {
       "metadata": {},
       "output_type": "pyout",
       "prompt_number": 79,
       "text": [
        "<matplotlib.image.AxesImage at 0x115eb438>"
       ]
      },
      {
       "metadata": {},
       "output_type": "display_data",
       "png": "[encoded data removed]",
       "text": [
        "<matplotlib.figure.Figure at 0x11597128>"
       ]
      }
     ],
     "prompt_number": 79
    },
    {
     "cell_type": "code",
     "collapsed": false,
     "input": [
      "img"
     ],
     "language": "python",
     "metadata": {},
     "outputs": [
      {
       "metadata": {},
       "output_type": "pyout",
       "prompt_number": 80,
       "text": [
        "array([[162, 162, 162, ..., 170, 155, 128],\n",
        "       [162, 162, 162, ..., 170, 155, 128],\n",
        "       [162, 162, 162, ..., 170, 155, 128],\n",
        "       ..., \n",
        "       [ 43,  43,  50, ..., 104, 100,  98],\n",
        "       [ 44,  44,  55, ..., 104, 105, 108],\n",
        "       [ 44,  44,  55, ..., 104, 105, 108]])"
       ]
      }
     ],
     "prompt_number": 80
    },
    {
     "cell_type": "code",
     "collapsed": false,
     "input": [
      "np.shape(img)"
     ],
     "language": "python",
     "metadata": {},
     "outputs": [
      {
       "latex": [
        "$$\\begin{pmatrix}512, & 512\\end{pmatrix}$$"
       ],
       "metadata": {},
       "output_type": "pyout",
       "prompt_number": 81,
       "text": [
        "(512, 512)"
       ]
      }
     ],
     "prompt_number": 81
    },
    {
     "cell_type": "code",
     "collapsed": false,
     "input": [
      "U, S, Vs = scipy.linalg.svd(img)\n",
      "print U.shape\n",
      "print S.shape\n",
      "print Vs.shape"
     ],
     "language": "python",
     "metadata": {},
     "outputs": [
      {
       "output_type": "stream",
       "stream": "stdout",
       "text": [
        "(512L, 512L)\n",
        "(512L,)\n",
        "(512L, 512L)\n"
       ]
      }
     ],
     "prompt_number": 82
    },
    {
     "cell_type": "code",
     "collapsed": false,
     "input": [
      "S"
     ],
     "language": "python",
     "metadata": {},
     "outputs": [
      {
       "metadata": {},
       "output_type": "pyout",
       "prompt_number": 85,
       "text": [
        "array([  6.47352382e+04,   1.05962584e+04,   8.17542321e+03,\n",
        "         6.47536026e+03,   5.88346360e+03,   5.55265665e+03,\n",
        "         4.58805230e+03,   4.09319827e+03,   3.37516339e+03,\n",
        "         3.17307957e+03,   2.67255823e+03,   2.44842292e+03,\n",
        "         2.40473697e+03,   2.32556368e+03,   2.18145371e+03,\n",
        "         2.15053098e+03,   2.08768456e+03,   1.85418279e+03,\n",
        "         1.73795026e+03,   1.70529431e+03,   1.63723574e+03,\n",
        "         1.58735743e+03,   1.44919658e+03,   1.33686313e+03,\n",
        "         1.32292736e+03,   1.29554445e+03,   1.21664889e+03,\n",
        "         1.21148005e+03,   1.14635145e+03,   1.11923542e+03,\n",
        "         1.06231404e+03,   1.05327979e+03,   1.04516457e+03,\n",
        "         1.01998626e+03,   1.00268165e+03,   9.98243779e+02,\n",
        "         9.40669841e+02,   9.33120888e+02,   9.18464612e+02,\n",
        "         8.91456085e+02,   8.50307626e+02,   8.43872471e+02,\n",
        "         8.27409415e+02,   8.12014089e+02,   7.94580134e+02,\n",
        "         7.70679386e+02,   7.45759114e+02,   7.34702936e+02,\n",
        "         7.26220205e+02,   7.03014996e+02,   6.93799828e+02,\n",
        "         6.88270620e+02,   6.54516188e+02,   6.45904777e+02,\n",
        "         6.39138921e+02,   6.30883009e+02,   6.16209564e+02,\n",
        "         6.13732040e+02,   6.06744477e+02,   5.94241178e+02,\n",
        "         5.69966885e+02,   5.60553332e+02,   5.56606622e+02,\n",
        "         5.52258960e+02,   5.37629874e+02,   5.25434578e+02,\n",
        "         5.21748585e+02,   5.20395301e+02,   4.93982255e+02,\n",
        "         4.83903894e+02,   4.78760749e+02,   4.77301169e+02,\n",
        "         4.68888800e+02,   4.62098537e+02,   4.58738905e+02,\n",
        "         4.45359290e+02,   4.41816567e+02,   4.39735439e+02,\n",
        "         4.30188080e+02,   4.25456733e+02,   4.18115715e+02,\n",
        "         4.13477167e+02,   4.01889055e+02,   3.98278362e+02,\n",
        "         3.92190921e+02,   3.90777840e+02,   3.83858279e+02,\n",
        "         3.78819307e+02,   3.76953265e+02,   3.75393454e+02,\n",
        "         3.63355964e+02,   3.60897512e+02,   3.56651625e+02,\n",
        "         3.53233556e+02,   3.51965337e+02,   3.47818152e+02,\n",
        "         3.41162110e+02,   3.38533175e+02,   3.25972790e+02,\n",
        "         3.22648306e+02,   3.16193252e+02,   3.14648245e+02,\n",
        "         3.12879008e+02,   3.06882400e+02,   3.00117485e+02,\n",
        "         2.93003010e+02,   2.91727076e+02,   2.89417266e+02,\n",
        "         2.83719641e+02,   2.81750973e+02,   2.77853702e+02,\n",
        "         2.74697549e+02,   2.71328108e+02,   2.65935162e+02,\n",
        "         2.62722339e+02,   2.57204540e+02,   2.54855895e+02,\n",
        "         2.51932663e+02,   2.50468900e+02,   2.48024569e+02,\n",
        "         2.47418633e+02,   2.42530489e+02,   2.38544780e+02,\n",
        "         2.37919668e+02,   2.31983338e+02,   2.28879228e+02,\n",
        "         2.26313823e+02,   2.24526857e+02,   2.21733514e+02,\n",
        "         2.19552461e+02,   2.17792080e+02,   2.13423966e+02,\n",
        "         2.10558938e+02,   2.09392253e+02,   2.07989691e+02,\n",
        "         2.06582244e+02,   2.03478806e+02,   1.98736007e+02,\n",
        "         1.97475731e+02,   1.93873735e+02,   1.93497301e+02,\n",
        "         1.90583744e+02,   1.89793235e+02,   1.86036632e+02,\n",
        "         1.82938511e+02,   1.81560856e+02,   1.79275903e+02,\n",
        "         1.78938812e+02,   1.75677790e+02,   1.74406936e+02,\n",
        "         1.70858133e+02,   1.69456475e+02,   1.68635033e+02,\n",
        "         1.65945217e+02,   1.63981506e+02,   1.62436279e+02,\n",
        "         1.62118888e+02,   1.59052655e+02,   1.58720671e+02,\n",
        "         1.54846683e+02,   1.53679947e+02,   1.51913436e+02,\n",
        "         1.50956381e+02,   1.50390127e+02,   1.49183146e+02,\n",
        "         1.45794316e+02,   1.45393090e+02,   1.44081178e+02,\n",
        "         1.42650528e+02,   1.42009471e+02,   1.39528139e+02,\n",
        "         1.38793487e+02,   1.37322851e+02,   1.35413359e+02,\n",
        "         1.34508395e+02,   1.33078637e+02,   1.31797690e+02,\n",
        "         1.30830505e+02,   1.29451560e+02,   1.28267756e+02,\n",
        "         1.27893274e+02,   1.27451564e+02,   1.26210722e+02,\n",
        "         1.23857461e+02,   1.23206177e+02,   1.22490842e+02,\n",
        "         1.21357611e+02,   1.20218530e+02,   1.18565093e+02,\n",
        "         1.18423474e+02,   1.17668372e+02,   1.16505909e+02,\n",
        "         1.15857996e+02,   1.14305167e+02,   1.13193595e+02,\n",
        "         1.12679834e+02,   1.11004685e+02,   1.10107830e+02,\n",
        "         1.09368904e+02,   1.09006038e+02,   1.07167791e+02,\n",
        "         1.06753083e+02,   1.05895148e+02,   1.05735547e+02,\n",
        "         1.04928716e+02,   1.04008258e+02,   1.03544654e+02,\n",
        "         1.02181674e+02,   1.01345046e+02,   1.00252846e+02,\n",
        "         9.97243181e+01,   9.91538385e+01,   9.87916970e+01,\n",
        "         9.76963664e+01,   9.66571495e+01,   9.56050565e+01,\n",
        "         9.54608752e+01,   9.47854349e+01,   9.33623542e+01,\n",
        "         9.28524208e+01,   9.14683459e+01,   9.12984340e+01,\n",
        "         9.03019446e+01,   8.97129607e+01,   8.96907816e+01,\n",
        "         8.87487427e+01,   8.82129012e+01,   8.67604756e+01,\n",
        "         8.63828462e+01,   8.55950665e+01,   8.51927338e+01,\n",
        "         8.46315424e+01,   8.44540885e+01,   8.40693434e+01,\n",
        "         8.35685805e+01,   8.25948212e+01,   8.23785278e+01,\n",
        "         8.14318233e+01,   8.10995790e+01,   8.02658325e+01,\n",
        "         7.97287512e+01,   7.90720433e+01,   7.86453692e+01,\n",
        "         7.80909041e+01,   7.80426505e+01,   7.75529794e+01,\n",
        "         7.72041472e+01,   7.67197166e+01,   7.58240538e+01,\n",
        "         7.57499312e+01,   7.53196745e+01,   7.47095442e+01,\n",
        "         7.40989348e+01,   7.31808519e+01,   7.25775981e+01,\n",
        "         7.23169330e+01,   7.17918315e+01,   7.13002522e+01,\n",
        "         7.10321838e+01,   7.04834286e+01,   7.01106391e+01,\n",
        "         6.97706005e+01,   6.94200146e+01,   6.88616537e+01,\n",
        "         6.83159475e+01,   6.76786619e+01,   6.69901343e+01,\n",
        "         6.67720793e+01,   6.64093134e+01,   6.60825485e+01,\n",
        "         6.55974020e+01,   6.54690678e+01,   6.52635318e+01,\n",
        "         6.47733917e+01,   6.41925089e+01,   6.39973352e+01,\n",
        "         6.34608317e+01,   6.29298957e+01,   6.24988105e+01,\n",
        "         6.19831411e+01,   6.18414397e+01,   6.16340303e+01,\n",
        "         6.07404898e+01,   6.06135536e+01,   6.00186361e+01,\n",
        "         5.96385984e+01,   5.93322884e+01,   5.87194688e+01,\n",
        "         5.84893650e+01,   5.80711782e+01,   5.77969559e+01,\n",
        "         5.73526563e+01,   5.70889022e+01,   5.68964472e+01,\n",
        "         5.64325758e+01,   5.58959373e+01,   5.53533349e+01,\n",
        "         5.53058040e+01,   5.48844591e+01,   5.41342023e+01,\n",
        "         5.40143796e+01,   5.37584365e+01,   5.34607123e+01,\n",
        "         5.32118603e+01,   5.27855657e+01,   5.23772589e+01,\n",
        "         5.19957918e+01,   5.18252685e+01,   5.14497234e+01,\n",
        "         5.10786663e+01,   5.10614619e+01,   5.08343754e+01,\n",
        "         5.05267996e+01,   4.99870048e+01,   4.96725438e+01,\n",
        "         4.90087030e+01,   4.86815916e+01,   4.83771125e+01,\n",
        "         4.82102611e+01,   4.76973142e+01,   4.74451284e+01,\n",
        "         4.67645856e+01,   4.67497552e+01,   4.65805931e+01,\n",
        "         4.64275356e+01,   4.59802460e+01,   4.57203592e+01,\n",
        "         4.53560485e+01,   4.50962625e+01,   4.47313950e+01,\n",
        "         4.43838679e+01,   4.43417421e+01,   4.39065096e+01,\n",
        "         4.35531925e+01,   4.33103927e+01,   4.31035121e+01,\n",
        "         4.26787785e+01,   4.24862531e+01,   4.22100553e+01,\n",
        "         4.19249056e+01,   4.15576013e+01,   4.11575841e+01,\n",
        "         4.08602320e+01,   4.06995712e+01,   4.01637965e+01,\n",
        "         4.00902388e+01,   3.99797299e+01,   3.95913595e+01,\n",
        "         3.89541294e+01,   3.89126278e+01,   3.85052937e+01,\n",
        "         3.83722959e+01,   3.80605101e+01,   3.78650745e+01,\n",
        "         3.76293887e+01,   3.73302844e+01,   3.69082793e+01,\n",
        "         3.65795863e+01,   3.61986727e+01,   3.61335592e+01,\n",
        "         3.60119795e+01,   3.54785230e+01,   3.50588716e+01,\n",
        "         3.46424954e+01,   3.46285116e+01,   3.43169941e+01,\n",
        "         3.40088532e+01,   3.38702915e+01,   3.34497412e+01,\n",
        "         3.32265630e+01,   3.30324208e+01,   3.28433496e+01,\n",
        "         3.26859826e+01,   3.23178840e+01,   3.18112021e+01,\n",
        "         3.16474694e+01,   3.13732935e+01,   3.10627337e+01,\n",
        "         3.06264323e+01,   3.04107544e+01,   3.03186417e+01,\n",
        "         2.99353374e+01,   2.98461319e+01,   2.97923303e+01,\n",
        "         2.95097904e+01,   2.89388173e+01,   2.85537580e+01,\n",
        "         2.82624041e+01,   2.79591681e+01,   2.78460918e+01,\n",
        "         2.76803906e+01,   2.73425084e+01,   2.72091894e+01,\n",
        "         2.70263666e+01,   2.68474215e+01,   2.65544957e+01,\n",
        "         2.61336061e+01,   2.59996756e+01,   2.58423753e+01,\n",
        "         2.53265329e+01,   2.52087370e+01,   2.48637295e+01,\n",
        "         2.47896775e+01,   2.46284867e+01,   2.44915570e+01,\n",
        "         2.43600242e+01,   2.38766156e+01,   2.35671146e+01,\n",
        "         2.32782780e+01,   2.30359514e+01,   2.29708071e+01,\n",
        "         2.27237191e+01,   2.24552254e+01,   2.21883591e+01,\n",
        "         2.19815045e+01,   2.17925190e+01,   2.12357942e+01,\n",
        "         2.10432847e+01,   2.09239418e+01,   2.05967615e+01,\n",
        "         2.05454554e+01,   2.01877939e+01,   1.98952360e+01,\n",
        "         1.97048722e+01,   1.95855184e+01,   1.92115891e+01,\n",
        "         1.89171203e+01,   1.86891670e+01,   1.85078428e+01,\n",
        "         1.82123804e+01,   1.81101294e+01,   1.79991982e+01,\n",
        "         1.76155501e+01,   1.75758436e+01,   1.71742914e+01,\n",
        "         1.68941813e+01,   1.66482602e+01,   1.64131115e+01,\n",
        "         1.63416038e+01,   1.59921835e+01,   1.58211662e+01,\n",
        "         1.56699150e+01,   1.55338107e+01,   1.52223490e+01,\n",
        "         1.50597118e+01,   1.48897248e+01,   1.44992108e+01,\n",
        "         1.41817066e+01,   1.40280618e+01,   1.39416194e+01,\n",
        "         1.37155630e+01,   1.35407057e+01,   1.31628421e+01,\n",
        "         1.27707756e+01,   1.25516173e+01,   1.22838292e+01,\n",
        "         1.21387267e+01,   1.18887490e+01,   1.18192823e+01,\n",
        "         1.14642021e+01,   1.12053963e+01,   1.10891917e+01,\n",
        "         1.08929590e+01,   1.05054283e+01,   1.04642087e+01,\n",
        "         1.01533517e+01,   9.79636235e+00,   9.36285542e+00,\n",
        "         9.10489673e+00,   8.96625900e+00,   8.78516448e+00,\n",
        "         8.68502583e+00,   8.37660593e+00,   8.14614191e+00,\n",
        "         7.71143733e+00,   7.43838982e+00,   7.21765430e+00,\n",
        "         6.96984628e+00,   6.77697986e+00,   6.49691247e+00,\n",
        "         6.32947077e+00,   5.99141341e+00,   5.89066094e+00,\n",
        "         5.85280618e+00,   5.66741116e+00,   5.48489892e+00,\n",
        "         5.28309841e+00,   4.73194849e+00,   4.45615059e+00,\n",
        "         4.43759996e+00,   4.11827836e+00,   3.92558983e+00,\n",
        "         3.63680902e+00,   3.53561756e+00,   3.32278606e+00,\n",
        "         3.21413651e+00,   2.91120395e+00,   2.69554005e+00,\n",
        "         2.24004193e+00,   1.95303763e+00,   1.76238298e+00,\n",
        "         1.46007783e+00,   1.22481903e+00,   8.71704598e-01,\n",
        "         7.83221138e-01,   5.56326834e-01,   4.52155762e-01,\n",
        "         1.45351388e-11,   6.01276635e-12,   6.01276635e-12,\n",
        "         6.01276635e-12,   6.01276635e-12])"
       ]
      }
     ],
     "prompt_number": 85
    },
    {
     "cell_type": "code",
     "collapsed": false,
     "input": [
      "A = np.dot( U[:, 0:4], np.dot(np.diag(S[0:4]),Vs[0:4,:]))"
     ],
     "language": "python",
     "metadata": {},
     "outputs": [],
     "prompt_number": 107
    },
    {
     "cell_type": "code",
     "collapsed": false,
     "input": [
      "B = np.dot( U[:, 0:32], np.dot(np.diag(S[0:32]),Vs[0:32,:]))"
     ],
     "language": "python",
     "metadata": {},
     "outputs": [],
     "prompt_number": 108
    },
    {
     "cell_type": "code",
     "collapsed": false,
     "input": [
      "C = np.dot( U[:, 0:128], np.dot(np.diag(S[0:128]),Vs[0:128,:]))"
     ],
     "language": "python",
     "metadata": {},
     "outputs": [],
     "prompt_number": 109
    },
    {
     "cell_type": "code",
     "collapsed": false,
     "input": [
      "plt.subplot(121, aspect = 'equal');plt.imshow(img)\n",
      "plt.gray()\n",
      "\n",
      "plt.subplot(122,aspect ='equal'); plt.imshow(A)\n"
     ],
     "language": "python",
     "metadata": {},
     "outputs": [
      {
       "metadata": {},
       "output_type": "pyout",
       "prompt_number": 111,
       "text": [
        "<matplotlib.image.AxesImage at 0x16153ba8>"
       ]
      },
      {
       "metadata": {},
       "output_type": "display_data",
       "png": "[encoded data removed]",
       "text": [
        "<matplotlib.figure.Figure at 0x15c216a0>"
       ]
      }
     ],
     "prompt_number": 111
    },
    {
     "cell_type": "code",
     "collapsed": false,
     "input": [
      "plt.subplot(122,aspect ='equal'); plt.imshow(B)\n"
     ],
     "language": "python",
     "metadata": {},
     "outputs": [
      {
       "metadata": {},
       "output_type": "pyout",
       "prompt_number": 112,
       "text": [
        "<matplotlib.image.AxesImage at 0x15c21668>"
       ]
      },
      {
       "metadata": {},
       "output_type": "display_data",
       "png": "[encoded data removed]",
       "text": [
        "<matplotlib.figure.Figure at 0x15c212e8>"
       ]
      }
     ],
     "prompt_number": 112
    },
    {
     "cell_type": "code",
     "collapsed": false,
     "input": [
      "plt.subplot(122,aspect ='equal'); plt.imshow(C)"
     ],
     "language": "python",
     "metadata": {},
     "outputs": [
      {
       "metadata": {},
       "output_type": "pyout",
       "prompt_number": 114,
       "text": [
        "<matplotlib.image.AxesImage at 0x18d27cc0>"
       ]
      },
      {
       "metadata": {},
       "output_type": "display_data",
       "png": "[encoded data removed]",
       "text": [
        "<matplotlib.figure.Figure at 0x18d27e48>"
       ]
      }
     ],
     "prompt_number": 114
    },
    {
     "cell_type": "code",
     "collapsed": false,
     "input": [
      "%magic"
     ],
     "language": "python",
     "metadata": {},
     "outputs": [],
     "prompt_number": 116
    },
    {
     "cell_type": "code",
     "collapsed": false,
     "input": [
      "%%file CA2.py\n",
      "import numpy as np\n",
      "\n",
      "# Basado en el c\u00f3digo de Allen B. Downey\n",
      "\n",
      "\n",
      "class CA(object):\n",
      "    \"\"\"Representa un aut\u00f3mata celular 1D.\n",
      "    \n",
      "    Los par\u00e1metros del constructor son:\n",
      "\n",
      "    rule:  Un entero del 0-255.\n",
      "    n:      N\u00famero de renglones (timesteps).\n",
      "    ratio:  Raz\u00f3n de los renglones a las columnas\n",
      "    \"\"\"\n",
      "\n",
      "    def __init__(self, rule, n=100, ratio=2):\n",
      "        \"\"\"\n",
      "        Atributos:\n",
      "        table:  Diccionario que mapea el estado, al siguiente.\n",
      "        n, m:   Renglones, columnas.\n",
      "        array:  Arreglo que contiene los datos.\n",
      "        next:   \u00cdndice del siguiente estado.\n",
      "        \"\"\"\n",
      "        self.table = self.make_table(rule)\n",
      "        self.n = n\n",
      "        self.m = ratio*n + 1\n",
      "        self.array = np.zeros((n, self.m), dtype=np.int8)\n",
      "        self.next = 0\n",
      "\n",
      "    def make_table(self, rule):\n",
      "        \"\"\"Regresa la tabla con las reglas del CA \n",
      "        (Implementada como un diccionario).\n",
      "        \"\"\"\n",
      "        table = {}\n",
      "        for i, bit in enumerate(binary(rule, 8)):\n",
      "            t = binary(7-i, 3)\n",
      "            table[t] = bit\n",
      "        return table\n",
      "    \n",
      "    def start_single(self):\n",
      "        \"\"\"La semilla es una sola y aparece a la mitad del arreglo 1D.\"\"\"\n",
      "        self.array[0, self.m/2] = 1\n",
      "        self.next += 1\n",
      "\n",
      "    def start_random(self):\n",
      "        \"\"\"Valores aleatorios en el tiempo t_0\"\"\"\n",
      "        self.array[0] = np.random.random([1,self.m]).round()\n",
      "        self.next += 1\n",
      "\n",
      "    def loop(self, steps=1):\n",
      "        \"\"\"Ejecuta el n\u00famero especificado de pasos.\"\"\"\n",
      "        [self.step() for i in xrange(steps)]\n",
      "\n",
      "    def step(self):\n",
      "        \"\"\"Avanza un paso t -> t+1.\"\"\"\n",
      "        i = self.next\n",
      "        self.next += 1\n",
      "\n",
      "        a = self.array\n",
      "        t = self.table\n",
      "        for j in xrange(1,self.m-1):\n",
      "            a[i,j] = t[tuple(a[i-1, j-1:j+2])]\n",
      "\n",
      "    def get_array(self, start=0, end=None):\n",
      "        \"\"\"Obtiene una rebanada de las columnas del CA.\n",
      "        \"\"\"\n",
      "        if start==0 and end==None:\n",
      "            return self.array\n",
      "        else:\n",
      "            return self.array[:, start:end]\n"
     ],
     "language": "python",
     "metadata": {},
     "outputs": [
      {
       "output_type": "stream",
       "stream": "stdout",
       "text": [
        "Writing CA2.py\n"
       ]
      }
     ],
     "prompt_number": 118
    },
    {
     "cell_type": "code",
     "collapsed": false,
     "input": [
      "%%file CA2.py\n",
      "# Basado en el c\u00f3digo de Allen B. Downey\n",
      "\n",
      "def binary(n, digits):\n",
      "    \"\"\"Regresa una tupla de enteros representando (n) en binario.\"\"\"\n",
      "    t = []\n",
      "    for i in range(digits):\n",
      "        n, r = divmod(n, 2)\n",
      "        t.append(r)\n",
      "\n",
      "    return tuple(reversed(t))"
     ],
     "language": "python",
     "metadata": {},
     "outputs": [
      {
       "output_type": "stream",
       "stream": "stdout",
       "text": [
        "Overwriting CA2.py\n"
       ]
      }
     ],
     "prompt_number": 120
    },
    {
     "cell_type": "code",
     "collapsed": false,
     "input": [
      "%%file CA2.py\n",
      "import numpy\n",
      "\n",
      "# Basado en el c\u00f3digo de Allen B. Downey\n",
      "  \n",
      "class CADrawer(object):\n",
      "    \"\"\"Dibuja el CA usando matplotlib\"\"\"\n",
      "\n",
      "    def __init__(self):\n",
      "        # we only need to import pyplot if a PyplotDrawer\n",
      "        # gets instantiated\n",
      "        global pyplot\n",
      "        import matplotlib.pyplot as pyplot\n",
      "        \n",
      "    def draw(self, ca, start=0, end=None):\n",
      "        pyplot.figure(figsize=(8, 6), dpi=80)\n",
      "        pyplot.gray()\n",
      "        a = ca.get_array(start, end)\n",
      "        rows, cols = a.shape\n",
      "\n",
      "        # flipud puts the first row at the top; \n",
      "        # negating it makes the non-zero cells black.\n",
      "        pyplot.pcolor(-numpy.flipud(a))\n",
      "        pyplot.axis([0, cols, 0, rows])\n",
      "\n",
      "        # empty lists draw no ticks\n",
      "        pyplot.xticks([])\n",
      "        pyplot.yticks([])\n",
      "\n",
      "    def show(self):\n",
      "        \"\"\"display the pseudocolor representation of the CA\"\"\"\n",
      "        pyplot.show()\n",
      "\n",
      "    def save(self, filename='ca.png'):\n",
      "        \"\"\"save the pseudocolor representation of the CA in (filename).\"\"\"\n",
      "        pyplot.savefig(filename)\n",
      "    "
     ],
     "language": "python",
     "metadata": {},
     "outputs": [
      {
       "output_type": "stream",
       "stream": "stdout",
       "text": [
        "Overwriting CA2.py\n"
       ]
      }
     ],
     "prompt_number": 121
    },
    {
     "cell_type": "code",
     "collapsed": false,
     "input": [
      "!cat CA2.py"
     ],
     "language": "python",
     "metadata": {},
     "outputs": [
      {
       "output_type": "stream",
       "stream": "stdout",
       "text": [
        "import numpy\n",
        "\n",
        "# Basado en el c\u00c3\u00b3digo de Allen B. Downey\n",
        "  \n",
        "class CADrawer(object):\n",
        "    \"\"\"Dibuja el CA usando matplotlib\"\"\"\n",
        "\n",
        "    def __init__(self):\n",
        "        # we only need to import pyplot if a PyplotDrawer\n",
        "        # gets instantiated\n",
        "        global pyplot\n",
        "        import matplotlib.pyplot as pyplot\n",
        "        \n",
        "    def draw(self, ca, start=0, end=None):\n",
        "        pyplot.figure(figsize=(8, 6), dpi=80)\n",
        "        pyplot.gray()\n",
        "        a = ca.get_array(start, end)\n",
        "        rows, cols = a.shape\n",
        "\n",
        "        # flipud puts the first row at the top; \n",
        "        # negating it makes the non-zero cells black.\n",
        "        pyplot.pcolor(-numpy.flipud(a))\n",
        "        pyplot.axis([0, cols, 0, rows])\n",
        "\n",
        "        # empty lists draw no ticks\n",
        "        pyplot.xticks([])\n",
        "        pyplot.yticks([])\n",
        "\n",
        "    def show(self):\n",
        "        \"\"\"display the pseudocolor representation of the CA\"\"\"\n",
        "        pyplot.show()\n",
        "\n",
        "    def save(self, filename='ca.png'):\n",
        "        \"\"\"save the pseudocolor representation of the CA in (filename).\"\"\"\n",
        "        pyplot.savefig(filename)\n",
        "    \n"
       ]
      }
     ],
     "prompt_number": 122
    }
   ],
   "metadata": {}
  }
 ]
}