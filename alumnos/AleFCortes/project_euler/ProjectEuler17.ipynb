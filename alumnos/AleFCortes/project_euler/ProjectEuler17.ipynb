{
 "metadata": {
  "name": "",
  "signature": "sha256:04c8054a42b14c91d3dbe5465d71445a74f434f17798275206bb7ed944f702c5"
 },
 "nbformat": 3,
 "nbformat_minor": 0,
 "worksheets": [
  {
   "cells": [
    {
     "cell_type": "heading",
     "level": 1,
     "metadata": {},
     "source": [
      "Number letter counts"
     ]
    },
    {
     "cell_type": "markdown",
     "metadata": {},
     "source": [
      "If the numbers 1 to 5 are written out in words: one, two, three, four, five, then there are 3 + 3 + 5 + 4 + 4 = 19 letters used in total.\n",
      "\n",
      "If all the numbers from 1 to 1000 (one thousand) inclusive were written out in words, how many letters would be used?\n",
      "\n",
      "\n",
      "NOTE: Do not count spaces or hyphens. For example, 342 (three hundred and forty-two) contains 23 letters and 115 (one hundred and fifteen) contains 20 letters. The use of \"and\" when writing out numbers is in compliance with British usage."
     ]
    },
    {
     "cell_type": "code",
     "collapsed": false,
     "input": [
      "num1 = {'0':\"\",'1':\"uno\",'2': \"dos\",'3': \"tres\", '4':\"cuatro\", '5':\"cinco\",'6': \"seis\", '7':\"siete\",'8': \"ocho\", '9':\"nueve\",'10': \"diez\",'11': \"once\",'12': \"doce\",'13': \"trece\",'14': \"catorce\",'15':\"quince\",'16': \"dieciseis\",'17': \"diecisiete\",'18':\"dieciocho\",'19':\"diecinueve\",'20': \"veinte\"}\n",
      "#diccionario para cada n\u00famero que se escribe de forma especial"
     ],
     "language": "python",
     "metadata": {},
     "outputs": [],
     "prompt_number": 34
    },
    {
     "cell_type": "code",
     "collapsed": false,
     "input": [
      "num2 = {'0':\"\",'1':\"\",'2':\"veinti\",'3': \"treinta\", '4':\"cuarenta\",'5': \"cincuenta\",'6': \"sesenta\", '7':\"setenta\",'8': \"ochenta\",'9':\"noventa\",'100':\"cien\"}\n",
      "#diccionario para concatenar los n\u00fameros especiales y los n\u00fameros de 10 en 10"
     ],
     "language": "python",
     "metadata": {},
     "outputs": [],
     "prompt_number": 42
    },
    {
     "cell_type": "code",
     "collapsed": false,
     "input": [
      "num3 = {'0':\"\",'1':\"ciento\",'2': \"doscientos\",'3':\"trescientos\",'4':\"cuatroscientos\",'5': \"quinientos\",'6':\"seiscientos\",'7':\"setecientos\",'8':\"ochocientos\",'9':\"novecientos\",'1000':\"mil\"}\n",
      "#diccionario para concatenar los n\u00fameros especiales, las decenas los n\u00fameros de 100 en 100"
     ],
     "language": "python",
     "metadata": {},
     "outputs": [],
     "prompt_number": 43
    },
    {
     "cell_type": "code",
     "collapsed": false,
     "input": [
      "#Cada n\u00famero en espa\u00f1ol simplemente le va agregando prefijos de decenas y centenas a los numeros especiales\n",
      "\n",
      "def numLetra():\n",
      "    resp =\"\"\n",
      "    r=0\n",
      "    for i in range (1,1001): #para nombrar cada numero del 1 al 1000\n",
      "        if (i<=20):\n",
      "            #si el n\u00famero es menor a 20 lo buscamos en el primer diccionario\n",
      "            resp = num1[str(i)] \n",
      "        else:\n",
      "            if(i<=100):\n",
      "                #si es menor a 100 pero mayor a 20 ponemos el prefijo del segundo diccionario y luego agregamos el numero especial\n",
      "                #los buscamos por el digito de decena y especial\n",
      "                resp = num2[str(i)[0]] + \" \" \n",
      "                resp = resp + num1[str(i)[1]]\n",
      "                if (i==100):\n",
      "                    #el caso especial es el 100\n",
      "                    resp=\"cien\"\n",
      "            else:\n",
      "                #si es mayor a 100 le agregamos los prefijos del segundo y tercer diccionario y al final el numero especial\n",
      "                #lo mismo, buscamos el digito de decena, centena y especial\n",
      "                resp = num3[str(i)[0]] +\" \"\n",
      "                resp = resp + num2[str(i)[1]]+\" \"\n",
      "                resp = resp + num1[str(i)[2]]\n",
      "                if(i==1000):\n",
      "                    #el caso especial es el mil\n",
      "                    resp = \"mil\" \n",
      "        for elemento in resp:\n",
      "            #aqui simplemente quitamos los espacios y contamos cuantas letras tiene cada numero\n",
      "            if(elemento!=\" \"):\n",
      "                r+=1\n",
      "    print r"
     ],
     "language": "python",
     "metadata": {},
     "outputs": [],
     "prompt_number": 83
    },
    {
     "cell_type": "code",
     "collapsed": false,
     "input": [
      "numLetra()"
     ],
     "language": "python",
     "metadata": {},
     "outputs": [
      {
       "output_type": "stream",
       "stream": "stdout",
       "text": [
        "19230\n"
       ]
      }
     ],
     "prompt_number": 84
    }
   ],
   "metadata": {}
  }
 ]
}