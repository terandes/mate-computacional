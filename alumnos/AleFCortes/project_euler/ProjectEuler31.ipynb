{
 "metadata": {
  "name": "",
  "signature": "sha256:0ac7e14cbde06c484fd2ff4342d01aa17a64e7d97a48b0b30f4b2d4a1dfecf1e"
 },
 "nbformat": 3,
 "nbformat_minor": 0,
 "worksheets": [
  {
   "cells": [
    {
     "cell_type": "heading",
     "level": 1,
     "metadata": {},
     "source": [
      "Coin sums"
     ]
    },
    {
     "cell_type": "markdown",
     "metadata": {},
     "source": [
      "In England the currency is made up of pound, \u00a3, and pence, p, and there are eight coins in general circulation:\n",
      "\n",
      "1p, 2p, 5p, 10p, 20p, 50p, \u00a31 (100p) and \u00a32 (200p).\n",
      "It is possible to make \u00a32 in the following way:\n",
      "\n",
      "1\u00d7\u00a31 + 1\u00d750p + 2\u00d720p + 1\u00d75p + 1\u00d72p + 3\u00d71p\n",
      "How many different ways can \u00a32 be made using any number of coins?"
     ]
    },
    {
     "cell_type": "code",
     "collapsed": false,
     "input": [
      "\"\"\"\n",
      "Lo que hace el m\u00e9todo es contar moneda por moneda que combinaci\u00f3n suma 200, por ejemplo cuando todas valen 0 excepto la \"o\" la forma de \n",
      "sumar 200 son 2 monedas de 100, despu\u00e9s le suma 1 a h y vuelve a contar las combinaciones que sumen 200 camiando de una en una cada moneda.\n",
      "\n",
      "\"\"\"\n",
      "def sumaMoneda ():\n",
      "    resp=-1;\n",
      "    contador =0;\n",
      "    for h in range (0,201):\n",
      "        for i in range (0,101):  \n",
      "            for j in range (0,41):\n",
      "                for k in range (0,21):\n",
      "                    for l in range (0,11):\n",
      "                        for n in range (0,5):\n",
      "                            for o in range (0,3): \n",
      "                                resp=h*1+i*2+j*5+k*10+l*20+n*50+o*100\n",
      "                                if(resp==200):   \n",
      "                                    contador+=1;\n",
      "    return contador\n",
      "        \n",
      "            \n",
      "        "
     ],
     "language": "python",
     "metadata": {},
     "outputs": [],
     "prompt_number": 1
    },
    {
     "cell_type": "code",
     "collapsed": false,
     "input": [
      "sumaMoneda()"
     ],
     "language": "python",
     "metadata": {},
     "outputs": []
    }
   ],
   "metadata": {}
  }
 ]
}