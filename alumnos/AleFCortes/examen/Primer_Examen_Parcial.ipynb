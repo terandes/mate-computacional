{
 "metadata": {
  "name": "",
  "signature": "sha256:4360827afc75b8b1a0702ef6af2903a6bcc19bd1326f76a735c98747132fa663"
 },
 "nbformat": 3,
 "nbformat_minor": 0,
 "worksheets": [
  {
   "cells": [
    {
     "cell_type": "heading",
     "level": 1,
     "metadata": {},
     "source": [
      "Examen Parcial"
     ]
    },
    {
     "cell_type": "heading",
     "level": 6,
     "metadata": {},
     "source": [
      "5 de marzo, 2015"
     ]
    },
    {
     "cell_type": "heading",
     "level": 2,
     "metadata": {},
     "source": [
      "Instrucciones"
     ]
    },
    {
     "cell_type": "markdown",
     "metadata": {},
     "source": [
      "- Crea una carpeta en tu directorio llamada `examen`.\n",
      "- Copia este examen a esa carpeta reci\u00e9n creada.\n",
      "- Copia los archivos con extensi\u00f3n `.m` de la misma manera."
     ]
    },
    {
     "cell_type": "heading",
     "level": 3,
     "metadata": {},
     "source": [
      "Definiciones"
     ]
    },
    {
     "cell_type": "markdown",
     "metadata": {},
     "source": [
      "- **Precisi\u00f3n** es el n\u00famero m\u00e1ximo de _bits_ diferentes de cero que es representable.\n",
      "- **Rango** es la diferencia entre el n\u00famero m\u00e1s negativo representable y el n\u00famero m\u00e1s positivo representable.\n",
      "- **Resoluci\u00f3n** es la magnitud m\u00e1s preque\u00f1a diferente de cero representable.\n",
      "- **Exactitud** es la magnitud e la m\u00e1xima diferencia entre el valor real y su representaci\u00f3n."
     ]
    },
    {
     "cell_type": "markdown",
     "metadata": {},
     "source": [
      "- Un n\u00famero $x$ en _single precision_ en el est\u00e1ndar **IEEE 754** se escribe:"
     ]
    },
    {
     "cell_type": "markdown",
     "metadata": {},
     "source": [
      "$$\n",
      "x = s 1.mmm \\ldots mmm \\times 2^{mmm \\ldots mmm}\n",
      "$$"
     ]
    },
    {
     "cell_type": "markdown",
     "metadata": {},
     "source": [
      "con un _bias_ de "
     ]
    },
    {
     "cell_type": "heading",
     "level": 1,
     "metadata": {},
     "source": [
      "Parte escrita"
     ]
    },
    {
     "cell_type": "heading",
     "level": 2,
     "metadata": {},
     "source": [
      "Problema 1"
     ]
    },
    {
     "cell_type": "markdown",
     "metadata": {},
     "source": [
      "* Escribir los siguientes n\u00fameros reales de manera _normalizada_"
     ]
    },
    {
     "cell_type": "markdown",
     "metadata": {},
     "source": [
      "    - $123.45$\n",
      "    - $6.3789 \\times 10^{5}$\n",
      "    - $5432.1987 \\times 10^{3}$\n",
      "    - $6.02 \\times 10^{23}$\n",
      "    - $0.000001$\n",
      "    - $1.0$"
     ]
    },
    {
     "cell_type": "markdown",
     "metadata": {},
     "source": [
      "$6.02 \\times 10^{23}$"
     ]
    },
    {
     "cell_type": "code",
     "collapsed": false,
     "input": [
      ".1*10"
     ],
     "language": "python",
     "metadata": {},
     "outputs": [
      {
       "metadata": {},
       "output_type": "pyout",
       "prompt_number": 8,
       "text": [
        "1.0"
       ]
      }
     ],
     "prompt_number": 8
    },
    {
     "cell_type": "heading",
     "level": 2,
     "metadata": {},
     "source": [
      "Problema 2"
     ]
    },
    {
     "cell_type": "markdown",
     "metadata": {},
     "source": [
      "- Escriba los siguientes n\u00fameros en su expansi\u00f3n en base $2$ y calcule su valor en base $10$ (suponga que no est\u00e1n signados)"
     ]
    },
    {
     "cell_type": "markdown",
     "metadata": {},
     "source": [
      "    - `1101`\n",
      "    - `11010`\n",
      "    - `00110011`"
     ]
    },
    {
     "cell_type": "code",
     "collapsed": false,
     "input": [
      "32+16+2+1"
     ],
     "language": "python",
     "metadata": {},
     "outputs": [
      {
       "metadata": {},
       "output_type": "pyout",
       "prompt_number": 13,
       "text": [
        "51"
       ]
      }
     ],
     "prompt_number": 13
    },
    {
     "cell_type": "heading",
     "level": 2,
     "metadata": {},
     "source": [
      "Problema 3"
     ]
    },
    {
     "cell_type": "markdown",
     "metadata": {},
     "source": [
      "- Escribe de forma normalizada a $y = + 1000.100111$ ."
     ]
    },
    {
     "cell_type": "markdown",
     "metadata": {},
     "source": [
      "- Escribe el mismo n\u00famero en formato **IEEE 754** en _single precision_."
     ]
    },
    {
     "cell_type": "code",
     "collapsed": false,
     "input": [
      ".628416*2"
     ],
     "language": "python",
     "metadata": {},
     "outputs": [
      {
       "metadata": {},
       "output_type": "pyout",
       "prompt_number": 22,
       "text": [
        "1.256832"
       ]
      }
     ],
     "prompt_number": 22
    },
    {
     "cell_type": "markdown",
     "metadata": {},
     "source": [
      "- Escribe los siguientes n\u00fameros en el est\u00e1ndar **IEEE 754** a _double precision_"
     ]
    },
    {
     "cell_type": "markdown",
     "metadata": {},
     "source": [
      "- `1.0`\n",
      "- `1.5`\n",
      "- `-1.5`"
     ]
    },
    {
     "cell_type": "markdown",
     "metadata": {},
     "source": [
      "- \u00bfQu\u00e9 n\u00famero representa el siguiente flotante **IEEE 754** _double precision_?"
     ]
    },
    {
     "cell_type": "markdown",
     "metadata": {},
     "source": [
      "- `1 1000 0010 111 1000 0000 0000 0000 0000`"
     ]
    },
    {
     "cell_type": "heading",
     "level": 2,
     "metadata": {},
     "source": [
      "Problema 4"
     ]
    },
    {
     "cell_type": "markdown",
     "metadata": {},
     "source": [
      "* Representa $1$ en lo siguiente:\n",
      "\n",
      "    - En 8 bits con signo\n",
      "    - En 8 bits sin signo\n",
      "    - En 16 bits sin signo\n",
      "    - En 32 bits en el est\u00e1ndar **IEEE 754**\n",
      "    - En 64 bits en el est\u00e1ndar **IEEE 754**"
     ]
    },
    {
     "cell_type": "markdown",
     "metadata": {},
     "source": [
      "* Las siguientes dos cadenas binarias"
     ]
    },
    {
     "cell_type": "markdown",
     "metadata": {},
     "source": [
      "    - `0000 0000 0010 1010`\n",
      "    - `1000 0000 0010 1010`"
     ]
    },
    {
     "cell_type": "markdown",
     "metadata": {},
     "source": [
      "\u00bfQu\u00e9 n\u00famero representan s\u00ed ...\n",
      "\n",
      "    - ... son 16 bits sin signo?\n",
      "    - ... son 16 bits con signo?\n",
      "    - ... 2 cadenas de 8 bits sin signo?\n",
      "    - ... 2 cadenas de 8 bits con signo?"
     ]
    },
    {
     "cell_type": "heading",
     "level": 2,
     "metadata": {},
     "source": [
      "Problema 5"
     ]
    },
    {
     "cell_type": "heading",
     "level": 3,
     "metadata": {},
     "source": [
      "El mundo del Nintendo: 8 bits"
     ]
    },
    {
     "cell_type": "markdown",
     "metadata": {},
     "source": [
      "Supongamos que vamos a trabajar con `8 bits`"
     ]
    },
    {
     "cell_type": "markdown",
     "metadata": {},
     "source": [
      "$$\n",
      "x = \\pm 1.mmmm \\times 2^{bbb}\n",
      "$$"
     ]
    },
    {
     "cell_type": "markdown",
     "metadata": {},
     "source": [
      "donde el _bias_ $= 3$."
     ]
    },
    {
     "cell_type": "markdown",
     "metadata": {},
     "source": [
      "- \u00bfCu\u00e1l es el rango? \n",
      "- \u00bfCu\u00e1l es la precisi\u00f3n?\n",
      "- \u00bfCu\u00e1l es la resoluci\u00f3n?\n",
      "- \u00bfCu\u00e1ntos b\u00ednades hay?\n",
      "- \u00bfCu\u00e1ntos n\u00fameros por b\u00ednade hay?"
     ]
    },
    {
     "cell_type": "heading",
     "level": 1,
     "metadata": {},
     "source": [
      "Computadora"
     ]
    },
    {
     "cell_type": "heading",
     "level": 2,
     "metadata": {},
     "source": [
      "Problema 6"
     ]
    },
    {
     "cell_type": "heading",
     "level": 2,
     "metadata": {},
     "source": [
      "El mundo de Nintendo: 8 bits"
     ]
    },
    {
     "cell_type": "markdown",
     "metadata": {},
     "source": [
      "* Crea un programa en `python` o `GNU Octave` imprima todos los n\u00fameros que se pueden almacenar en `8 bits` (ver ejercicio anterior). "
     ]
    },
    {
     "cell_type": "markdown",
     "metadata": {},
     "source": [
      "La tabla debe de tener el siguiente formato:"
     ]
    },
    {
     "cell_type": "markdown",
     "metadata": {},
     "source": [
      "| representaci\u00f3n almacenada | real | flotante |\n",
      "|---------------------------|------|----------|"
     ]
    },
    {
     "cell_type": "markdown",
     "metadata": {},
     "source": [
      "* Grafica el n\u00famero de d\u00edgitos en un `b\u00ednade` usando un histograma."
     ]
    },
    {
     "cell_type": "markdown",
     "metadata": {},
     "source": [
      "* Grafica en un histograma la **densidad** de d\u00edgitos que existen por cada entero."
     ]
    },
    {
     "cell_type": "code",
     "collapsed": false,
     "input": [
      "def signo (s):\n",
      "    if (s==1):\n",
      "        return '-'\n",
      "    else:\n",
      "        return '+'"
     ],
     "language": "python",
     "metadata": {},
     "outputs": [],
     "prompt_number": 2
    },
    {
     "cell_type": "code",
     "collapsed": false,
     "input": [
      "def exp (E):\n",
      "    i = int (E,2)\n",
      "    return i-3"
     ],
     "language": "python",
     "metadata": {},
     "outputs": [],
     "prompt_number": 3
    },
    {
     "cell_type": "code",
     "collapsed": false,
     "input": [
      "def man (m):\n",
      "    f = bin2float (m)\n",
      "    return f"
     ],
     "language": "python",
     "metadata": {},
     "outputs": [],
     "prompt_number": 4
    },
    {
     "cell_type": "code",
     "collapsed": false,
     "input": [
      "def bin2float(manti):\n",
      "    suma =0.\n",
      "    cont =1\n",
      "    for e in manti:\n",
      "        if(e == '1'):\n",
      "            suma = suma + (1.0/2**cont)\n",
      "        cont+=1\n",
      "    return suma\n",
      "            "
     ],
     "language": "python",
     "metadata": {},
     "outputs": [],
     "prompt_number": 5
    },
    {
     "cell_type": "code",
     "collapsed": false,
     "input": [
      "def ent2bit1 ():\n",
      "    exponente = []\n",
      "    exp = ['0','0','0']\n",
      "    for i in range(0,3):\n",
      "        exp = ['0','0','0']\n",
      "        for j in range(0,3):\n",
      "            if(j+i<len(exp)):\n",
      "                exp[j+i]='1'\n",
      "                exponente.append(exp[0]+exp[1]+exp[2] )\n",
      "    exp = ['0','0','0']\n",
      "    exp2 = ['1','0','1']\n",
      "    exponente.append(exp[0]+exp[1]+exp[2])\n",
      "    exponente.append(exp2[0]+exp2[1]+exp2[2])\n",
      "    return exponente\n",
      "        \n",
      "    "
     ],
     "language": "python",
     "metadata": {},
     "outputs": [],
     "prompt_number": 6
    },
    {
     "cell_type": "code",
     "collapsed": false,
     "input": [
      "def ent2bit2 ():\n",
      "    mantisa = []\n",
      "    exp = ['0','0','0','0']\n",
      "    for i in range(0,4):\n",
      "        exp = ['0','0','0','0']\n",
      "        for j in range(0,4):\n",
      "            if(j+i<len(exp)):\n",
      "                exp[j+i]='1'\n",
      "                mantisa.append( exp[0]+exp[1]+exp[2]+exp[3] )\n",
      "    exp = ['0','0','0','0']\n",
      "    exp2 = ['1','0','1','0']\n",
      "    exp3 = ['1','0','1','1']\n",
      "    exp4 = ['1','1','0','1']\n",
      "    exp5 = ['0','1','0','1']\n",
      "    exp6 = ['1','0','0','1']\n",
      "    mantisa.append( exp[0]+exp[1]+exp[2]+exp[3])\n",
      "    mantisa.append( exp2[0]+exp2[1]+exp2[2]+exp2[3])\n",
      "    mantisa.append( exp3[0]+exp3[1]+exp3[2]+exp3[3])\n",
      "    mantisa.append( exp4[0]+exp4[1]+exp4[2]+exp4[3])\n",
      "    mantisa.append( exp5[0]+exp5[1]+exp5[2]+exp5[3])\n",
      "    mantisa.append( exp6[0]+exp6[1]+exp6[2]+exp6[3])\n",
      "    return mantisa\n",
      "        \n",
      "    "
     ],
     "language": "python",
     "metadata": {},
     "outputs": [],
     "prompt_number": 7
    },
    {
     "cell_type": "code",
     "collapsed": false,
     "input": [
      "import numpy as np\n",
      "import matplotlib.pyplot as plt"
     ],
     "language": "python",
     "metadata": {},
     "outputs": [],
     "prompt_number": 8
    },
    {
     "cell_type": "code",
     "collapsed": false,
     "input": [
      "def tabla():\n",
      "    contador = []\n",
      "    representacion =[]\n",
      "    flotante = []\n",
      "    real = []\n",
      "    for s  in ('1','0'):\n",
      "        for E in ent2bit1():\n",
      "            for M in ent2bit2():\n",
      "                representacion=(s + E + M)\n",
      "                mhm = str(1+man(M))\n",
      "                flotante=(signo(s) +mhm+'x2**'+str(exp(E)))\n",
      "                real=((1+man(M))*2**exp(E))\n",
      "                contador.append (int(real))\n",
      "                \n",
      "                print \"%3s\\t%3s\\t%3s\" % (representacion, flotante,real)\n",
      "    print \"%3s\" % (contador)\n",
      "                        \n",
      "                \n",
      "    "
     ],
     "language": "python",
     "metadata": {},
     "outputs": [],
     "prompt_number": 63
    },
    {
     "cell_type": "code",
     "collapsed": false,
     "input": [
      "tabla()\n",
      "    "
     ],
     "language": "python",
     "metadata": {},
     "outputs": [
      {
       "output_type": "stream",
       "stream": "stdout",
       "text": [
        "11001000\t+1.5x2**1\t3.0\n",
        "11001100\t+1.75x2**1\t3.5\n",
        "11001110\t+1.875x2**1\t3.75\n",
        "11001111\t+1.9375x2**1\t3.875\n",
        "11000100\t+1.25x2**1\t2.5\n",
        "11000110\t+1.375x2**1\t2.75\n",
        "11000111\t+1.4375x2**1\t2.875\n",
        "11000010\t+1.125x2**1\t2.25\n",
        "11000011\t+1.1875x2**1\t2.375\n",
        "11000001\t+1.0625x2**1\t2.125\n",
        "11000000\t+1.0x2**1\t2.0\n",
        "11001010\t+1.625x2**1\t3.25\n",
        "11001011\t+1.6875x2**1\t3.375\n",
        "11001101\t+1.8125x2**1\t3.625\n",
        "11000101\t+1.3125x2**1\t2.625\n",
        "11001001\t+1.5625x2**1\t3.125\n",
        "11101000\t+1.5x2**3\t12.0\n",
        "11101100\t+1.75x2**3\t14.0\n",
        "11101110\t+1.875x2**3\t15.0\n",
        "11101111\t+1.9375x2**3\t15.5\n",
        "11100100\t+1.25x2**3\t10.0\n",
        "11100110\t+1.375x2**3\t11.0\n",
        "11100111\t+1.4375x2**3\t11.5\n",
        "11100010\t+1.125x2**3\t9.0\n",
        "11100011\t+1.1875x2**3\t9.5\n",
        "11100001\t+1.0625x2**3\t8.5\n",
        "11100000\t+1.0x2**3\t8.0\n",
        "11101010\t+1.625x2**3\t13.0\n",
        "11101011\t+1.6875x2**3\t13.5\n",
        "11101101\t+1.8125x2**3\t14.5\n",
        "11100101\t+1.3125x2**3\t10.5\n",
        "11101001\t+1.5625x2**3\t12.5\n",
        "11111000\t+1.5x2**4\t24.0\n",
        "11111100\t+1.75x2**4\t28.0\n",
        "11111110\t+1.875x2**4\t30.0\n",
        "11111111\t+1.9375x2**4\t31.0\n",
        "11110100\t+1.25x2**4\t20.0\n",
        "11110110\t+1.375x2**4\t22.0\n",
        "11110111\t+1.4375x2**4\t23.0\n",
        "11110010\t+1.125x2**4\t18.0\n",
        "11110011\t+1.1875x2**4\t19.0\n",
        "11110001\t+1.0625x2**4\t17.0\n",
        "11110000\t+1.0x2**4\t16.0\n",
        "11111010\t+1.625x2**4\t26.0\n",
        "11111011\t+1.6875x2**4\t27.0\n",
        "11111101\t+1.8125x2**4\t29.0\n",
        "11110101\t+1.3125x2**4\t21.0\n",
        "11111001\t+1.5625x2**4\t25.0\n",
        "10101000\t+1.5x2**-1\t0.75\n",
        "10101100\t+1.75x2**-1\t0.875\n",
        "10101110\t+1.875x2**-1\t0.9375\n",
        "10101111\t+1.9375x2**-1\t0.96875\n",
        "10100100\t+1.25x2**-1\t0.625\n",
        "10100110\t+1.375x2**-1\t0.6875\n",
        "10100111\t+1.4375x2**-1\t0.71875\n",
        "10100010\t+1.125x2**-1\t0.5625\n",
        "10100011\t+1.1875x2**-1\t0.59375\n",
        "10100001\t+1.0625x2**-1\t0.53125\n",
        "10100000\t+1.0x2**-1\t0.5\n",
        "10101010\t+1.625x2**-1\t0.8125\n",
        "10101011\t+1.6875x2**-1\t0.84375\n",
        "10101101\t+1.8125x2**-1\t0.90625\n",
        "10100101\t+1.3125x2**-1\t0.65625\n",
        "10101001\t+1.5625x2**-1\t0.78125\n",
        "10111000\t+1.5x2**0\t1.5\n",
        "10111100\t+1.75x2**0\t1.75\n",
        "10111110\t+1.875x2**0\t1.875\n",
        "10111111\t+1.9375x2**0\t1.9375\n",
        "10110100\t+1.25x2**0\t1.25\n",
        "10110110\t+1.375x2**0\t1.375\n",
        "10110111\t+1.4375x2**0\t1.4375\n",
        "10110010\t+1.125x2**0\t1.125\n",
        "10110011\t+1.1875x2**0\t1.1875\n",
        "10110001\t+1.0625x2**0\t1.0625\n",
        "10110000\t+1.0x2**0\t1.0\n",
        "10111010\t+1.625x2**0\t1.625\n",
        "10111011\t+1.6875x2**0\t1.6875\n",
        "10111101\t+1.8125x2**0\t1.8125\n",
        "10110101\t+1.3125x2**0\t1.3125\n",
        "10111001\t+1.5625x2**0\t1.5625\n",
        "10011000\t+1.5x2**-2\t0.375\n",
        "10011100\t+1.75x2**-2\t0.4375\n",
        "10011110\t+1.875x2**-2\t0.46875\n",
        "10011111\t+1.9375x2**-2\t0.484375\n",
        "10010100\t+1.25x2**-2\t0.3125\n",
        "10010110\t+1.375x2**-2\t0.34375\n",
        "10010111\t+1.4375x2**-2\t0.359375\n",
        "10010010\t+1.125x2**-2\t0.28125\n",
        "10010011\t+1.1875x2**-2\t0.296875\n",
        "10010001\t+1.0625x2**-2\t0.265625\n",
        "10010000\t+1.0x2**-2\t0.25\n",
        "10011010\t+1.625x2**-2\t0.40625\n",
        "10011011\t+1.6875x2**-2\t0.421875\n",
        "10011101\t+1.8125x2**-2\t0.453125\n",
        "10010101\t+1.3125x2**-2\t0.328125\n",
        "10011001\t+1.5625x2**-2\t0.390625\n",
        "10001000\t+1.5x2**-3\t0.1875\n",
        "10001100\t+1.75x2**-3\t0.21875\n",
        "10001110\t+1.875x2**-3\t0.234375\n",
        "10001111\t+1.9375x2**-3\t0.2421875\n",
        "10000100\t+1.25x2**-3\t0.15625\n",
        "10000110\t+1.375x2**-3\t0.171875\n",
        "10000111\t+1.4375x2**-3\t0.1796875\n",
        "10000010\t+1.125x2**-3\t0.140625\n",
        "10000011\t+1.1875x2**-3\t0.1484375\n",
        "10000001\t+1.0625x2**-3\t0.1328125\n",
        "10000000\t+1.0x2**-3\t0.125\n",
        "10001010\t+1.625x2**-3\t0.203125\n",
        "10001011\t+1.6875x2**-3\t0.2109375\n",
        "10001101\t+1.8125x2**-3\t0.2265625\n",
        "10000101\t+1.3125x2**-3\t0.1640625\n",
        "10001001\t+1.5625x2**-3\t0.1953125\n",
        "11011000\t+1.5x2**2\t6.0\n",
        "11011100\t+1.75x2**2\t7.0\n",
        "11011110\t+1.875x2**2\t7.5\n",
        "11011111\t+1.9375x2**2\t7.75\n",
        "11010100\t+1.25x2**2\t5.0\n",
        "11010110\t+1.375x2**2\t5.5\n",
        "11010111\t+1.4375x2**2\t5.75\n",
        "11010010\t+1.125x2**2\t4.5\n",
        "11010011\t+1.1875x2**2\t4.75\n",
        "11010001\t+1.0625x2**2\t4.25\n",
        "11010000\t+1.0x2**2\t4.0\n",
        "11011010\t+1.625x2**2\t6.5\n",
        "11011011\t+1.6875x2**2\t6.75\n",
        "11011101\t+1.8125x2**2\t7.25\n",
        "11010101\t+1.3125x2**2\t5.25\n",
        "11011001\t+1.5625x2**2\t6.25\n",
        "01001000\t+1.5x2**1\t3.0\n",
        "01001100\t+1.75x2**1\t3.5\n",
        "01001110\t+1.875x2**1\t3.75\n",
        "01001111\t+1.9375x2**1\t3.875\n",
        "01000100\t+1.25x2**1\t2.5\n",
        "01000110\t+1.375x2**1\t2.75\n",
        "01000111\t+1.4375x2**1\t2.875\n",
        "01000010\t+1.125x2**1\t2.25\n",
        "01000011\t+1.1875x2**1\t2.375\n",
        "01000001\t+1.0625x2**1\t2.125\n",
        "01000000\t+1.0x2**1\t2.0\n",
        "01001010\t+1.625x2**1\t3.25\n",
        "01001011\t+1.6875x2**1\t3.375\n",
        "01001101\t+1.8125x2**1\t3.625\n",
        "01000101\t+1.3125x2**1\t2.625\n",
        "01001001\t+1.5625x2**1\t3.125\n",
        "01101000\t+1.5x2**3\t12.0\n",
        "01101100\t+1.75x2**3\t14.0\n",
        "01101110\t+1.875x2**3\t15.0\n",
        "01101111\t+1.9375x2**3\t15.5\n",
        "01100100\t+1.25x2**3\t10.0\n",
        "01100110\t+1.375x2**3\t11.0\n",
        "01100111\t+1.4375x2**3\t11.5\n",
        "01100010\t+1.125x2**3\t9.0\n",
        "01100011\t+1.1875x2**3\t9.5\n",
        "01100001\t+1.0625x2**3\t8.5\n",
        "01100000\t+1.0x2**3\t8.0\n",
        "01101010\t+1.625x2**3\t13.0\n",
        "01101011\t+1.6875x2**3\t13.5\n",
        "01101101\t+1.8125x2**3\t14.5\n",
        "01100101\t+1.3125x2**3\t10.5\n",
        "01101001\t+1.5625x2**3\t12.5\n",
        "01111000\t+1.5x2**4\t24.0\n",
        "01111100\t+1.75x2**4\t28.0\n",
        "01111110\t+1.875x2**4\t30.0\n",
        "01111111\t+1.9375x2**4\t31.0\n",
        "01110100\t+1.25x2**4\t20.0\n",
        "01110110\t+1.375x2**4\t22.0\n",
        "01110111\t+1.4375x2**4\t23.0\n",
        "01110010\t+1.125x2**4\t18.0\n",
        "01110011\t+1.1875x2**4\t19.0\n",
        "01110001\t+1.0625x2**4\t17.0\n",
        "01110000\t+1.0x2**4\t16.0\n",
        "01111010\t+1.625x2**4\t26.0\n",
        "01111011\t+1.6875x2**4\t27.0\n",
        "01111101\t+1.8125x2**4\t29.0\n",
        "01110101\t+1.3125x2**4\t21.0\n",
        "01111001\t+1.5625x2**4\t25.0\n",
        "00101000\t+1.5x2**-1\t0.75\n",
        "00101100\t+1.75x2**-1\t0.875\n",
        "00101110\t+1.875x2**-1\t0.9375\n",
        "00101111\t+1.9375x2**-1\t0.96875\n",
        "00100100\t+1.25x2**-1\t0.625\n",
        "00100110\t+1.375x2**-1\t0.6875\n",
        "00100111\t+1.4375x2**-1\t0.71875\n",
        "00100010\t+1.125x2**-1\t0.5625\n",
        "00100011\t+1.1875x2**-1\t0.59375\n",
        "00100001\t+1.0625x2**-1\t0.53125\n",
        "00100000\t+1.0x2**-1\t0.5\n",
        "00101010\t+1.625x2**-1\t0.8125\n",
        "00101011\t+1.6875x2**-1\t0.84375\n",
        "00101101\t+1.8125x2**-1\t0.90625\n",
        "00100101\t+1.3125x2**-1\t0.65625\n",
        "00101001\t+1.5625x2**-1\t0.78125\n",
        "00111000\t+1.5x2**0\t1.5\n",
        "00111100\t+1.75x2**0\t1.75\n",
        "00111110\t+1.875x2**0\t1.875\n",
        "00111111\t+1.9375x2**0\t1.9375\n",
        "00110100\t+1.25x2**0\t1.25\n",
        "00110110\t+1.375x2**0\t1.375\n",
        "00110111\t+1.4375x2**0\t1.4375\n",
        "00110010\t+1.125x2**0\t1.125\n",
        "00110011\t+1.1875x2**0\t1.1875\n",
        "00110001\t+1.0625x2**0\t1.0625\n",
        "00110000\t+1.0x2**0\t1.0\n",
        "00111010\t+1.625x2**0\t1.625\n",
        "00111011\t+1.6875x2**0\t1.6875\n",
        "00111101\t+1.8125x2**0\t1.8125\n",
        "00110101\t+1.3125x2**0\t1.3125\n",
        "00111001\t+1.5625x2**0\t1.5625\n",
        "00011000\t+1.5x2**-2\t0.375\n",
        "00011100\t+1.75x2**-2\t0.4375\n",
        "00011110\t+1.875x2**-2\t0.46875\n",
        "00011111\t+1.9375x2**-2\t0.484375\n",
        "00010100\t+1.25x2**-2\t0.3125\n",
        "00010110\t+1.375x2**-2\t0.34375\n",
        "00010111\t+1.4375x2**-2\t0.359375\n",
        "00010010\t+1.125x2**-2\t0.28125\n",
        "00010011\t+1.1875x2**-2\t0.296875\n",
        "00010001\t+1.0625x2**-2\t0.265625\n",
        "00010000\t+1.0x2**-2\t0.25\n",
        "00011010\t+1.625x2**-2\t0.40625\n",
        "00011011\t+1.6875x2**-2\t0.421875\n",
        "00011101\t+1.8125x2**-2\t0.453125\n",
        "00010101\t+1.3125x2**-2\t0.328125\n",
        "00011001\t+1.5625x2**-2\t0.390625\n",
        "00001000\t+1.5x2**-3\t0.1875\n",
        "00001100\t+1.75x2**-3\t0.21875\n",
        "00001110\t+1.875x2**-3\t0.234375\n",
        "00001111\t+1.9375x2**-3\t0.2421875\n",
        "00000100\t+1.25x2**-3\t0.15625\n",
        "00000110\t+1.375x2**-3\t0.171875\n",
        "00000111\t+1.4375x2**-3\t0.1796875\n",
        "00000010\t+1.125x2**-3\t0.140625\n",
        "00000011\t+1.1875x2**-3\t0.1484375\n",
        "00000001\t+1.0625x2**-3\t0.1328125\n",
        "00000000\t+1.0x2**-3\t0.125\n",
        "00001010\t+1.625x2**-3\t0.203125\n",
        "00001011\t+1.6875x2**-3\t0.2109375\n",
        "00001101\t+1.8125x2**-3\t0.2265625\n",
        "00000101\t+1.3125x2**-3\t0.1640625\n",
        "00001001\t+1.5625x2**-3\t0.1953125\n",
        "01011000\t+1.5x2**2\t6.0\n",
        "01011100\t+1.75x2**2\t7.0\n",
        "01011110\t+1.875x2**2\t7.5\n",
        "01011111\t+1.9375x2**2\t7.75\n",
        "01010100\t+1.25x2**2\t5.0\n",
        "01010110\t+1.375x2**2\t5.5\n",
        "01010111\t+1.4375x2**2\t5.75\n",
        "01010010\t+1.125x2**2\t4.5\n",
        "01010011\t+1.1875x2**2\t4.75\n",
        "01010001\t+1.0625x2**2\t4.25\n",
        "01010000\t+1.0x2**2\t4.0\n",
        "01011010\t+1.625x2**2\t6.5\n",
        "01011011\t+1.6875x2**2\t6.75\n",
        "01011101\t+1.8125x2**2\t7.25\n",
        "01010101\t+1.3125x2**2\t5.25\n",
        "01011001\t+1.5625x2**2\t6.25\n",
        "[3, 3, 3, 3, 2, 2, 2, 2, 2, 2, 2, 3, 3, 3, 2, 3, 12, 14, 15, 15, 10, 11, 11, 9, 9, 8, 8, 13, 13, 14, 10, 12, 24, 28, 30, 31, 20, 22, 23, 18, 19, 17, 16, 26, 27, 29, 21, 25, 0, 0, 0, 0, 0, 0, 0, 0, 0, 0, 0, 0, 0, 0, 0, 0, 1, 1, 1, 1, 1, 1, 1, 1, 1, 1, 1, 1, 1, 1, 1, 1, 0, 0, 0, 0, 0, 0, 0, 0, 0, 0, 0, 0, 0, 0, 0, 0, 0, 0, 0, 0, 0, 0, 0, 0, 0, 0, 0, 0, 0, 0, 0, 0, 6, 7, 7, 7, 5, 5, 5, 4, 4, 4, 4, 6, 6, 7, 5, 6, 3, 3, 3, 3, 2, 2, 2, 2, 2, 2, 2, 3, 3, 3, 2, 3, 12, 14, 15, 15, 10, 11, 11, 9, 9, 8, 8, 13, 13, 14, 10, 12, 24, 28, 30, 31, 20, 22, 23, 18, 19, 17, 16, 26, 27, 29, 21, 25, 0, 0, 0, 0, 0, 0, 0, 0, 0, 0, 0, 0, 0, 0, 0, 0, 1, 1, 1, 1, 1, 1, 1, 1, 1, 1, 1, 1, 1, 1, 1, 1, 0, 0, 0, 0, 0, 0, 0, 0, 0, 0, 0, 0, 0, 0, 0, 0, 0, 0, 0, 0, 0, 0, 0, 0, 0, 0, 0, 0, 0, 0, 0, 0, 6, 7, 7, 7, 5, 5, 5, 4, 4, 4, 4, 6, 6, 7, 5, 6]\n"
       ]
      }
     ],
     "prompt_number": 64
    },
    {
     "cell_type": "code",
     "collapsed": false,
     "input": [
      "%matplotlib inline\n",
      "import numpy as np\n",
      "import matplotlib.pyplot as plt"
     ],
     "language": "python",
     "metadata": {},
     "outputs": [],
     "prompt_number": 49
    },
    {
     "cell_type": "code",
     "collapsed": false,
     "input": [
      "import matplotlib.pyplot as plt\n",
      "v=range(0,32)\n",
      "y = [3, 3, 3, 3, 2, 2, 2, 2, 2, 2, 2, 3, 3, 3, 2, 3, 12, 14, 15, 15, 10, 11, 11, 9, 9, 8, 8, 13, 13, 14, 10, 12, 24, 28, 30, 31, 20, 22, 23, 18, 19, 17, 16, 26, 27, 29, 21, 25, 0, 0, 0, 0, 0, 0, 0, 0, 0, 0, 0, 0, 0, 0, 0, 0, 1, 1, 1, 1, 1, 1, 1, 1, 1, 1, 1, 1, 1, 1, 1, 1, 0, 0, 0, 0, 0, 0, 0, 0, 0, 0, 0, 0, 0, 0, 0, 0, 0, 0, 0, 0, 0, 0, 0, 0, 0, 0, 0, 0, 0, 0, 0, 0, 6, 7, 7, 7, 5, 5, 5, 4, 4, 4, 4, 6, 6, 7, 5, 6, 3, 3, 3, 3, 2, 2, 2, 2, 2, 2, 2, 3, 3, 3, 2, 3, 12, 14, 15, 15, 10, 11, 11, 9, 9, 8, 8, 13, 13, 14, 10, 12, 24, 28, 30, 31, 20, 22, 23, 18, 19, 17, 16, 26, 27, 29, 21, 25, 0, 0, 0, 0, 0, 0, 0, 0, 0, 0, 0, 0, 0, 0, 0, 0, 1, 1, 1, 1, 1, 1, 1, 1, 1, 1, 1, 1, 1, 1, 1, 1, 0, 0, 0, 0, 0, 0, 0, 0, 0, 0, 0, 0, 0, 0, 0, 0, 0, 0, 0, 0, 0, 0, 0, 0, 0, 0, 0, 0, 0, 0, 0, 0, 6, 7, 7, 7, 5, 5, 5, 4, 4, 4, 4, 6, 6, 7, 5, 6]\n",
      "plt.hist(y, bins=v)\n",
      "plt.xlabel('Enteros',fontsize=20)\n",
      "plt.ylabel(u'N\u00famero de enteros',fontsize=20)\n",
      "plt.title('Histograma Enteros',fontsize=20)\n",
      "plt.grid()"
     ],
     "language": "python",
     "metadata": {},
     "outputs": [
      {
       "metadata": {},
       "output_type": "display_data",
       "png": "[encoded data removed]",
       "text": [
        "<matplotlib.figure.Figure at 0xb15cc50>"
       ]
      }
     ],
     "prompt_number": 76
    },
    {
     "cell_type": "code",
     "collapsed": false,
     "input": [
      "v=range(-4,6)\n",
      "y=[]\n",
      "for i in (-4,-3,-2,-1,0,1,2,3,4):\n",
      "    for j in range(0,4):\n",
      "        y.append(i)\n",
      "print y\n",
      "        \n",
      "plt.hist(y, bins=v)\n",
      "plt.xlim(-4,4)\n",
      "plt.ylim(0,6)\n",
      "\n",
      "plt.xlabel('Binades',fontsize=20)\n",
      "plt.ylabel(u'Combinaci\u00f3n mantisa',fontsize=20)\n",
      "plt.title('Histograma Binades',fontsize=20)\n",
      "plt.grid()\n",
      "plt.show()"
     ],
     "language": "python",
     "metadata": {},
     "outputs": [
      {
       "output_type": "stream",
       "stream": "stdout",
       "text": [
        "[-4, -4, -4, -4, -3, -3, -3, -3, -2, -2, -2, -2, -1, -1, -1, -1, 0, 0, 0, 0, 1, 1, 1, 1, 2, 2, 2, 2, 3, 3, 3, 3, 4, 4, 4, 4]\n"
       ]
      },
      {
       "metadata": {},
       "output_type": "display_data",
       "png": "[encoded data removed]",
       "text": [
        "<matplotlib.figure.Figure at 0xbf3d5f8>"
       ]
      }
     ],
     "prompt_number": 84
    },
    {
     "cell_type": "heading",
     "level": 2,
     "metadata": {},
     "source": [
      "Problema 7"
     ]
    },
    {
     "cell_type": "markdown",
     "metadata": {},
     "source": [
      "Observa el c\u00f3digo de `GNU Octave` siguiente:"
     ]
    },
    {
     "cell_type": "code",
     "collapsed": false,
     "input": [
      "!cat strange_floats_sp.m"
     ],
     "language": "python",
     "metadata": {},
     "outputs": [
      {
       "output_type": "stream",
       "stream": "stdout",
       "text": [
        "x = single(77777.0)\n",
        "y = single(7.0)\n",
        "inv_y = 1.0 / y\n",
        "\n",
        "z = x / y\n",
        "z1 = x * inv_y\n",
        "\n",
        "if (z != z1)\n",
        "  sprintf(\"%1.3f != %1.3f\", z, z1)\n",
        "  sprintf(\"%1.30f != %1.30f\", z, z1)\n",
        "else\n",
        "  sprintf(\"%1.3f == %1.3f\", z, z1)\n",
        "  sprintf(\"%1.30f == %1.30f\", z, z1)\n",
        "endif\n"
       ]
      }
     ],
     "prompt_number": 24
    },
    {
     "cell_type": "code",
     "collapsed": false,
     "input": [
      "%load strange_floats_sp.m"
     ],
     "language": "python",
     "metadata": {},
     "outputs": [],
     "prompt_number": 26
    },
    {
     "cell_type": "code",
     "collapsed": false,
     "input": [
      "x = single(77777.0)\n",
      "y = single(7.0)\n",
      "inv_y = 1.0 / y\n",
      "\n",
      "z = x / y\n",
      "z1 = x * inv_y\n",
      "\n",
      "if (z != z1):\n",
      "    sprintf(\"%1.3f != %1.3f\", z, z1)\n",
      "    sprintf(\"%1.30f != %1.30f\", z, z1)\n",
      "else:\n",
      "    sprintf(\"%1.3f == %1.3f\", z, z1)\n",
      "    sprintf(\"%1.30f == %1.30f\", z, z1)\n",
      "endif\n"
     ],
     "language": "python",
     "metadata": {},
     "outputs": [
      {
       "ename": "NameError",
       "evalue": "name 'single' is not defined",
       "output_type": "pyerr",
       "traceback": [
        "\u001b[1;31m---------------------------------------------------------------------------\u001b[0m\n\u001b[1;31mNameError\u001b[0m                                 Traceback (most recent call last)",
        "\u001b[1;32m<ipython-input-1-8ef0dd8963f9>\u001b[0m in \u001b[0;36m<module>\u001b[1;34m()\u001b[0m\n\u001b[1;32m----> 1\u001b[1;33m \u001b[0mx\u001b[0m \u001b[1;33m=\u001b[0m \u001b[0msingle\u001b[0m\u001b[1;33m(\u001b[0m\u001b[1;36m77777.0\u001b[0m\u001b[1;33m)\u001b[0m\u001b[1;33m\u001b[0m\u001b[0m\n\u001b[0m\u001b[0;32m      2\u001b[0m \u001b[0my\u001b[0m \u001b[1;33m=\u001b[0m \u001b[0msingle\u001b[0m\u001b[1;33m(\u001b[0m\u001b[1;36m7.0\u001b[0m\u001b[1;33m)\u001b[0m\u001b[1;33m\u001b[0m\u001b[0m\n\u001b[0;32m      3\u001b[0m \u001b[0minv_y\u001b[0m \u001b[1;33m=\u001b[0m \u001b[1;36m1.0\u001b[0m \u001b[1;33m/\u001b[0m \u001b[0my\u001b[0m\u001b[1;33m\u001b[0m\u001b[0m\n\u001b[0;32m      4\u001b[0m \u001b[1;33m\u001b[0m\u001b[0m\n\u001b[0;32m      5\u001b[0m \u001b[0mz\u001b[0m \u001b[1;33m=\u001b[0m \u001b[0mx\u001b[0m \u001b[1;33m/\u001b[0m \u001b[0my\u001b[0m\u001b[1;33m\u001b[0m\u001b[0m\n",
        "\u001b[1;31mNameError\u001b[0m: name 'single' is not defined"
       ]
      }
     ],
     "prompt_number": 1
    },
    {
     "cell_type": "markdown",
     "metadata": {},
     "source": [
      "- \u00bfQu\u00e9 hace este c\u00f3digo?\n",
      "- Abre el programa `GNU Octave` y ejec\u00fatalo en la consola. \u00bfResult\u00f3 lo que esperabas?\n",
      "- `z`,  `z1` \u00bfSon `SP` o `DP`?"
     ]
    },
    {
     "cell_type": "heading",
     "level": 6,
     "metadata": {},
     "source": [
      "El codigo compara z y z1 doden teoricamente deberian ser los mismos n\u00fameros pero resultan ser distintos y esto es porque con cada operacion de multiplcaci\u00f3n se va acumulando el error\n",
      "z y z1 son single precision"
     ]
    },
    {
     "cell_type": "markdown",
     "metadata": {},
     "source": [
      "<div class=\"alert alert-info\">\n",
      "**NOTA** `single` en `GNU Octave` y `Matlab` es la instrucci\u00f3n para indicarle al programa que trabaje en _single precision_.\n",
      "</div>"
     ]
    },
    {
     "cell_type": "markdown",
     "metadata": {},
     "source": [
      "<div class=\"alert alert-info\">\n",
      "**NOTA** Para ejecutar un _script_ en `GNU Octave` solo debes de teclear su nombre (obvio si lo tienes en tu carpeta)\n",
      "</div>"
     ]
    },
    {
     "cell_type": "markdown",
     "metadata": {},
     "source": [
      "- Comp\u00e1ralo con el _script_ `strange_floats_dp.m` \u00bfPor qu\u00e9 es la diferencia? Explica la salida de ambos programas."
     ]
    },
    {
     "cell_type": "code",
     "collapsed": false,
     "input": [
      "!cat strange_floats_dp.m"
     ],
     "language": "python",
     "metadata": {},
     "outputs": [
      {
       "output_type": "stream",
       "stream": "stdout",
       "text": [
        "x = 77777.0\n",
        "y = 7.0\n",
        "inv_y = 1.0 / y\n",
        "\n",
        "z = x / y\n",
        "z1 = x * inv_y\n",
        "\n",
        "if (z != z1)\n",
        "  sprintf(\"%1.3f != %1.3f\", z, z1)\n",
        "  sprintf(\"%1.30f != %1.30f\", z, z1)\n",
        "else\n",
        "  sprintf(\"%1.3f == %1.3f\", z, z1)\n",
        "  sprintf(\"%1.30f == %1.30f\", z, z1)\n",
        "endif\n"
       ]
      }
     ],
     "prompt_number": 34
    },
    {
     "cell_type": "markdown",
     "metadata": {},
     "source": [
      "- `z`,  `z1` \u00bfSon `SP` o `DP`?"
     ]
    },
    {
     "cell_type": "heading",
     "level": 5,
     "metadata": {},
     "source": [
      "La salida es disitinta entre los dos problemas porque con el primero estas trabajando con single precision mientras que en el segundo con double precision, por lo que operaciones entre DP dan como resultado DP y en el segundo c\u00f3digo la z == z1 ya que los dos son DP"
     ]
    },
    {
     "cell_type": "heading",
     "level": 2,
     "metadata": {},
     "source": [
      "Problema 8"
     ]
    },
    {
     "cell_type": "markdown",
     "metadata": {},
     "source": [
      "La _varianza_ de $n$ datos se define como"
     ]
    },
    {
     "cell_type": "markdown",
     "metadata": {},
     "source": [
      "$$\n",
      "\n",
      "s_n^2 = \\frac{1}{n - 1} \\sum^n_{i=1} (x_i - \\bar{x})^2\n",
      "\n",
      "$$"
     ]
    },
    {
     "cell_type": "markdown",
     "metadata": {},
     "source": [
      "donde $\\bar{x}$"
     ]
    },
    {
     "cell_type": "markdown",
     "metadata": {},
     "source": [
      "$$\n",
      "\\bar{x} = \\frac{1}{n} \\sum^n_{i = 1} x_i\n",
      "$$"
     ]
    },
    {
     "cell_type": "markdown",
     "metadata": {},
     "source": [
      "Esta definici\u00f3n es poco eficiente ya que requiere dos pasadas a los datos para calcular la _varianza_."
     ]
    },
    {
     "cell_type": "markdown",
     "metadata": {},
     "source": [
      "* Crea una funci\u00f3n an\u00f3nima en `numpy` o `GNU/Octave` que reproduzca este algoritmo."
     ]
    },
    {
     "cell_type": "markdown",
     "metadata": {},
     "source": [
      "En los libros de texto se recomienda (o se reescribe) la definici\u00f3n de la siguiente manera:"
     ]
    },
    {
     "cell_type": "markdown",
     "metadata": {},
     "source": [
      "$$\n",
      "s_n^2 = \\frac{1}{n-1} \\left( \\sum^n_{i=1} x_i^2 -  \\frac{1}{n}\\left(\\sum^n_{i=1} x_i\\right)^2\\right)\n",
      "$$"
     ]
    },
    {
     "cell_type": "markdown",
     "metadata": {},
     "source": [
      "El cual es m\u00e1s eficiente computacionalmente hablando"
     ]
    },
    {
     "cell_type": "markdown",
     "metadata": {},
     "source": [
      "* Crea un programa en `numpy` o `GNU/Octave` que reproduzca este algoritmo."
     ]
    },
    {
     "cell_type": "markdown",
     "metadata": {},
     "source": [
      "* Sean los datos $10000, 10001, 10002$, Realiza el c\u00e1lculo a mano y comp\u00e1ralo con los dos algoritmos. Expl\u00edca las diferencias y el posible error."
     ]
    },
    {
     "cell_type": "markdown",
     "metadata": {},
     "source": [
      "a este ejercicio le falta arreglar"
     ]
    },
    {
     "cell_type": "code",
     "collapsed": false,
     "input": [
      "var1 = lambda x : x**2\n",
      "var3 = lambda y,x,z: (1.0/(y-1))*(x-((1.0/y*z**2)))"
     ],
     "language": "python",
     "metadata": {},
     "outputs": [],
     "prompt_number": 6
    },
    {
     "cell_type": "code",
     "collapsed": false,
     "input": [
      "def fun(x):\n",
      "    s,s1,s2 = 0,0,0\n",
      "    for i in range(0,len(x)):\n",
      "        s1 = s1+x[i]**2\n",
      "        s2 = s2 + x[i]\n",
      "    s = (1.0/(len(x)-1))*(s1-((1.0/len(x))*s2**2))\n",
      "    return s\n"
     ],
     "language": "python",
     "metadata": {},
     "outputs": [],
     "prompt_number": 7
    },
    {
     "cell_type": "code",
     "collapsed": false,
     "input": [
      "lis = [10000,10001,10002]\n"
     ],
     "language": "python",
     "metadata": {},
     "outputs": [],
     "prompt_number": 8
    },
    {
     "cell_type": "code",
     "collapsed": false,
     "input": [
      "fun (lis)"
     ],
     "language": "python",
     "metadata": {},
     "outputs": [
      {
       "metadata": {},
       "output_type": "pyout",
       "prompt_number": 9,
       "text": [
        "1.0"
       ]
      }
     ],
     "prompt_number": 9
    },
    {
     "cell_type": "code",
     "collapsed": false,
     "input": [
      "p=0\n",
      "q=0\n",
      "for i in lis:\n",
      "    p = p +var1(i)\n",
      "    q = q + i\n",
      "    y = len(lis)\n",
      "    r =var3(y,p,q)\n",
      "print p,q,r"
     ],
     "language": "python",
     "metadata": {},
     "outputs": [
      {
       "output_type": "stream",
       "stream": "stdout",
       "text": [
        "300060005 30003 1.0\n"
       ]
      }
     ],
     "prompt_number": 11
    },
    {
     "cell_type": "heading",
     "level": 2,
     "metadata": {},
     "source": [
      "Problema 9"
     ]
    },
    {
     "cell_type": "markdown",
     "metadata": {},
     "source": [
      "* Carga la funci\u00f3n `factorial` definida en el archivo `factorial.py`"
     ]
    },
    {
     "cell_type": "markdown",
     "metadata": {},
     "source": [
      "La serie de Maclaurin es un caso especial de la serie de Taylor de una funci\u00f3n $f$ alrededor de $0$"
     ]
    },
    {
     "cell_type": "markdown",
     "metadata": {},
     "source": [
      "$$\n",
      "f(x) = f(0) + f'(0) + \\frac{f''(0)}{2!} + \\ldots = \\sum^\\infty_{i=0}\\frac{1}{n\\!}f^{(n)}(0)\n",
      "$$"
     ]
    },
    {
     "cell_type": "markdown",
     "metadata": {},
     "source": [
      "En particular, la funci\u00f3n exponencial tiene la siguiente forma:"
     ]
    },
    {
     "cell_type": "markdown",
     "metadata": {},
     "source": [
      "$$\n",
      "e^x = 1 + x + \\frac{x^2}{2} + \\ldots = \\sum^\\infty_{i=0} \\frac{x^i}{i\\!}\n",
      "$$"
     ]
    },
    {
     "cell_type": "code",
     "collapsed": false,
     "input": [
      "%load factorial.py"
     ],
     "language": "python",
     "metadata": {},
     "outputs": [],
     "prompt_number": 37
    },
    {
     "cell_type": "code",
     "collapsed": false,
     "input": [
      "def factorial(n):\n",
      "    if n == 0:\n",
      "        return 1\n",
      "    elif n == 1:\n",
      "        return 1\n",
      "    else:\n",
      "        return factorial(n-1)*n\n"
     ],
     "language": "python",
     "metadata": {},
     "outputs": [],
     "prompt_number": 58
    },
    {
     "cell_type": "markdown",
     "metadata": {},
     "source": [
      "* Usando la funci\u00f3n `factorial` crea la funci\u00f3n `exp_maclaurin(x,n)`, que imprima lo siguiente:"
     ]
    },
    {
     "cell_type": "markdown",
     "metadata": {},
     "source": [
      "    print \"%12s\\t%12s\\t%12s\\t%12s\\t%20s\\t%20s\" % (\"i\", \"x\", \"x^i\", \"factorial(i)\", \"x^i/factorial(i)\", \"suma\")"
     ]
    },
    {
     "cell_type": "code",
     "collapsed": false,
     "input": [
      "def exp_mclaurin(x,n):\n",
      "    suma=0\n",
      "    for i in range (0,n):\n",
      "        suma = suma + x**i/factorial(i)\n",
      "        print \"%12s\\t%12s\\t%12s\\t%12s\\t%20s\\t%20s\" % (i, x, x**i, factorial(i), (x**i)/factorial(i), suma)"
     ],
     "language": "python",
     "metadata": {},
     "outputs": [],
     "prompt_number": 62
    },
    {
     "cell_type": "markdown",
     "metadata": {},
     "source": [
      "* Usando la funci\u00f3n `np.exp` calcula `0`, `1`, `5.5` y `-5.5`"
     ]
    },
    {
     "cell_type": "code",
     "collapsed": false,
     "input": [
      "np.exp(0)"
     ],
     "language": "python",
     "metadata": {},
     "outputs": [
      {
       "metadata": {},
       "output_type": "pyout",
       "prompt_number": 9,
       "text": [
        "1.0"
       ]
      }
     ],
     "prompt_number": 9
    },
    {
     "cell_type": "code",
     "collapsed": false,
     "input": [
      "exp_mclaurin(0,20)"
     ],
     "language": "python",
     "metadata": {},
     "outputs": [
      {
       "output_type": "stream",
       "stream": "stdout",
       "text": [
        "           0\t           0\t           1\t           1\t                   1\t                   1\n",
        "           1\t           0\t           0\t           1\t                   0\t                   1\n",
        "           2\t           0\t           0\t           2\t                   0\t                   1\n",
        "           3\t           0\t           0\t           6\t                   0\t                   1\n",
        "           4\t           0\t           0\t          24\t                   0\t                   1\n",
        "           5\t           0\t           0\t         120\t                   0\t                   1\n",
        "           6\t           0\t           0\t         720\t                   0\t                   1\n",
        "           7\t           0\t           0\t        5040\t                   0\t                   1\n",
        "           8\t           0\t           0\t       40320\t                   0\t                   1\n",
        "           9\t           0\t           0\t      362880\t                   0\t                   1\n",
        "          10\t           0\t           0\t     3628800\t                   0\t                   1\n",
        "          11\t           0\t           0\t    39916800\t                   0\t                   1\n",
        "          12\t           0\t           0\t   479001600\t                   0\t                   1\n",
        "          13\t           0\t           0\t  6227020800\t                   0\t                   1\n",
        "          14\t           0\t           0\t 87178291200\t                   0\t                   1\n",
        "          15\t           0\t           0\t1307674368000\t                   0\t                   1\n",
        "          16\t           0\t           0\t20922789888000\t                   0\t                   1\n",
        "          17\t           0\t           0\t355687428096000\t                   0\t                   1\n",
        "          18\t           0\t           0\t6402373705728000\t                   0\t                   1\n",
        "          19\t           0\t           0\t121645100408832000\t                   0\t                   1\n"
       ]
      }
     ],
     "prompt_number": 67
    },
    {
     "cell_type": "code",
     "collapsed": false,
     "input": [
      "np.exp(1)"
     ],
     "language": "python",
     "metadata": {},
     "outputs": [
      {
       "metadata": {},
       "output_type": "pyout",
       "prompt_number": 10,
       "text": [
        "2.7182818284590451"
       ]
      }
     ],
     "prompt_number": 10
    },
    {
     "cell_type": "code",
     "collapsed": false,
     "input": [
      "exp_mclaurin(1,20)"
     ],
     "language": "python",
     "metadata": {},
     "outputs": [
      {
       "output_type": "stream",
       "stream": "stdout",
       "text": [
        "           0\t           1\t           1\t           1\t                   1\t                   1\n",
        "           1\t           1\t           1\t           1\t                   1\t                   2\n",
        "           2\t           1\t           1\t           2\t                   0\t                   2\n",
        "           3\t           1\t           1\t           6\t                   0\t                   2\n",
        "           4\t           1\t           1\t          24\t                   0\t                   2\n",
        "           5\t           1\t           1\t         120\t                   0\t                   2\n",
        "           6\t           1\t           1\t         720\t                   0\t                   2\n",
        "           7\t           1\t           1\t        5040\t                   0\t                   2\n",
        "           8\t           1\t           1\t       40320\t                   0\t                   2\n",
        "           9\t           1\t           1\t      362880\t                   0\t                   2\n",
        "          10\t           1\t           1\t     3628800\t                   0\t                   2\n",
        "          11\t           1\t           1\t    39916800\t                   0\t                   2\n",
        "          12\t           1\t           1\t   479001600\t                   0\t                   2\n",
        "          13\t           1\t           1\t  6227020800\t                   0\t                   2\n",
        "          14\t           1\t           1\t 87178291200\t                   0\t                   2\n",
        "          15\t           1\t           1\t1307674368000\t                   0\t                   2\n",
        "          16\t           1\t           1\t20922789888000\t                   0\t                   2\n",
        "          17\t           1\t           1\t355687428096000\t                   0\t                   2\n",
        "          18\t           1\t           1\t6402373705728000\t                   0\t                   2\n",
        "          19\t           1\t           1\t121645100408832000\t                   0\t                   2\n"
       ]
      }
     ],
     "prompt_number": 68
    },
    {
     "cell_type": "code",
     "collapsed": false,
     "input": [
      "np.exp(5.5)"
     ],
     "language": "python",
     "metadata": {},
     "outputs": [
      {
       "metadata": {},
       "output_type": "pyout",
       "prompt_number": 11,
       "text": [
        "244.69193226422038"
       ]
      }
     ],
     "prompt_number": 11
    },
    {
     "cell_type": "code",
     "collapsed": false,
     "input": [
      "exp_mclaurin(5.5,20)"
     ],
     "language": "python",
     "metadata": {},
     "outputs": [
      {
       "output_type": "stream",
       "stream": "stdout",
       "text": [
        "           0\t         5.5\t         1.0\t           1\t                 1.0\t                 1.0\n",
        "           1\t         5.5\t         5.5\t           1\t                 5.5\t                 6.5\n",
        "           2\t         5.5\t       30.25\t           2\t              15.125\t              21.625\n",
        "           3\t         5.5\t     166.375\t           6\t       27.7291666667\t       49.3541666667\n",
        "           4\t         5.5\t    915.0625\t          24\t       38.1276041667\t       87.4817708333\n",
        "           5\t         5.5\t  5032.84375\t         120\t       41.9403645833\t       129.422135417\n",
        "           6\t         5.5\t27680.640625\t         720\t       38.4453342014\t       167.867469618\n",
        "           7\t         5.5\t152243.523438\t        5040\t       30.2070483011\t       198.074517919\n",
        "           8\t         5.5\t837339.378906\t       40320\t        20.767345707\t       218.841863626\n",
        "           9\t         5.5\t4605366.58398\t      362880\t       12.6911557098\t       231.533019336\n",
        "          10\t         5.5\t25329516.2119\t     3628800\t       6.98013564041\t       238.513154976\n",
        "          11\t         5.5\t139312339.166\t    39916800\t        3.4900678202\t       242.003222797\n",
        "          12\t         5.5\t766217865.41\t   479001600\t       1.59961441759\t       243.602837214\n",
        "          13\t         5.5\t4214198259.76\t  6227020800\t      0.676759945905\t        244.27959716\n",
        "          14\t         5.5\t23178090428.7\t 87178291200\t      0.265869978748\t       244.545467139\n",
        "          15\t         5.5\t1.27479497358e+11\t1307674368000\t     0.0974856588744\t       244.642952798\n",
        "          16\t         5.5\t7.01137235467e+11\t20922789888000\t     0.0335106952381\t       244.676463493\n",
        "          17\t         5.5\t3.85625479507e+12\t355687428096000\t     0.0108416955182\t       244.687305188\n",
        "          18\t         5.5\t2.12094013729e+13\t6402373705728000\t    0.00331274029723\t       244.690617929\n",
        "          19\t         5.5\t1.16651707551e+14\t121645100408832000\t   0.000958951138671\t        244.69157688\n"
       ]
      }
     ],
     "prompt_number": 69
    },
    {
     "cell_type": "code",
     "collapsed": false,
     "input": [
      "np.exp(-5)"
     ],
     "language": "python",
     "metadata": {},
     "outputs": [
      {
       "metadata": {},
       "output_type": "pyout",
       "prompt_number": 12,
       "text": [
        "0.006737946999085467"
       ]
      }
     ],
     "prompt_number": 12
    },
    {
     "cell_type": "code",
     "collapsed": false,
     "input": [
      "exp_mclaurin(-5,20)"
     ],
     "language": "python",
     "metadata": {},
     "outputs": [
      {
       "output_type": "stream",
       "stream": "stdout",
       "text": [
        "           0\t          -5\t           1\t           1\t                   1\t                   1\n",
        "           1\t          -5\t          -5\t           1\t                  -5\t                  -4\n",
        "           2\t          -5\t          25\t           2\t                  12\t                   8\n",
        "           3\t          -5\t        -125\t           6\t                 -21\t                 -13\n",
        "           4\t          -5\t         625\t          24\t                  26\t                  13\n",
        "           5\t          -5\t       -3125\t         120\t                 -27\t                 -14\n",
        "           6\t          -5\t       15625\t         720\t                  21\t                   7\n",
        "           7\t          -5\t      -78125\t        5040\t                 -16\t                  -9\n",
        "           8\t          -5\t      390625\t       40320\t                   9\t                   0\n",
        "           9\t          -5\t    -1953125\t      362880\t                  -6\t                  -6\n",
        "          10\t          -5\t     9765625\t     3628800\t                   2\t                  -4\n",
        "          11\t          -5\t   -48828125\t    39916800\t                  -2\t                  -6\n",
        "          12\t          -5\t   244140625\t   479001600\t                   0\t                  -6\n",
        "          13\t          -5\t -1220703125\t  6227020800\t                  -1\t                  -7\n",
        "          14\t          -5\t  6103515625\t 87178291200\t                   0\t                  -7\n",
        "          15\t          -5\t-30517578125\t1307674368000\t                  -1\t                  -8\n",
        "          16\t          -5\t152587890625\t20922789888000\t                   0\t                  -8\n",
        "          17\t          -5\t-762939453125\t355687428096000\t                  -1\t                  -9\n",
        "          18\t          -5\t3814697265625\t6402373705728000\t                   0\t                  -9\n",
        "          19\t          -5\t-19073486328125\t121645100408832000\t                  -1\t                 -10\n"
       ]
      }
     ],
     "prompt_number": 70
    },
    {
     "cell_type": "markdown",
     "metadata": {},
     "source": [
      "* Usando tu funci\u00f3n, calcula los mismos valores a orden 20 \u00bfEn cu\u00e1l falla? \u00bfPor qu\u00e9 crees que sea?"
     ]
    },
    {
     "cell_type": "heading",
     "level": 4,
     "metadata": {},
     "source": [
      "Porque  es un problema de que hay que hacer un n\u00famero float en la divisi\u00f3n para poder hacer el t\u00e9rmino flotante, sino la divisi\u00f3n se realiza de fomr entera."
     ]
    },
    {
     "cell_type": "code",
     "collapsed": false,
     "input": [
      "def exp_mclaurin_correct(x,n):\n",
      "    suma=0\n",
      "    x = float(x)\n",
      "    for i in range (0,n):\n",
      "        suma = suma + x**i/factorial(i)\n",
      "        print \"%12s\\t%12s\\t%12s\\t%12s\\t%20s\\t%20s\" % (i, x, x**i, factorial(i), (x**i)/factorial(i), suma)"
     ],
     "language": "python",
     "metadata": {},
     "outputs": [],
     "prompt_number": 64
    },
    {
     "cell_type": "markdown",
     "metadata": {},
     "source": [
      "* \u00bfC\u00f3mo resolver\u00edas este problema? Implementa tu soluci\u00f3n."
     ]
    },
    {
     "cell_type": "code",
     "collapsed": false,
     "input": [
      "exp_mclaurin_correct(-5,20)"
     ],
     "language": "python",
     "metadata": {},
     "outputs": [
      {
       "output_type": "stream",
       "stream": "stdout",
       "text": [
        "           0\t        -5.0\t         1.0\t           1\t                 1.0\t                 1.0\n",
        "           1\t        -5.0\t        -5.0\t           1\t                -5.0\t                -4.0\n",
        "           2\t        -5.0\t        25.0\t           2\t                12.5\t                 8.5\n",
        "           3\t        -5.0\t      -125.0\t           6\t      -20.8333333333\t      -12.3333333333\n",
        "           4\t        -5.0\t       625.0\t          24\t       26.0416666667\t       13.7083333333\n",
        "           5\t        -5.0\t     -3125.0\t         120\t      -26.0416666667\t      -12.3333333333\n",
        "           6\t        -5.0\t     15625.0\t         720\t       21.7013888889\t       9.36805555556\n",
        "           7\t        -5.0\t    -78125.0\t        5040\t      -15.5009920635\t      -6.13293650794\n",
        "           8\t        -5.0\t    390625.0\t       40320\t       9.68812003968\t       3.55518353175\n",
        "           9\t        -5.0\t  -1953125.0\t      362880\t      -5.38228891093\t      -1.82710537919\n",
        "          10\t        -5.0\t   9765625.0\t     3628800\t       2.69114445547\t      0.864039076279\n",
        "          11\t        -5.0\t -48828125.0\t    39916800\t      -1.22324747976\t     -0.359208403479\n",
        "          12\t        -5.0\t 244140625.0\t   479001600\t      0.509686449899\t       0.15047804642\n",
        "          13\t        -5.0\t-1220703125.0\t  6227020800\t     -0.196033249961\t    -0.0455552035413\n",
        "          14\t        -5.0\t6103515625.0\t 87178291200\t     0.0700118749861\t     0.0244566714448\n",
        "          15\t        -5.0\t-30517578125.0\t1307674368000\t     -0.023337291662\t    0.00111937978278\n",
        "          16\t        -5.0\t1.52587890625e+11\t20922789888000\t    0.00729290364439\t    0.00841228342717\n",
        "          17\t        -5.0\t-7.62939453125e+11\t355687428096000\t   -0.00214497166011\t    0.00626731176706\n",
        "          18\t        -5.0\t3.81469726562e+12\t6402373705728000\t   0.000595825461143\t     0.0068631372282\n",
        "          19\t        -5.0\t-1.90734863281e+13\t121645100408832000\t  -0.000156796173985\t    0.00670634105422\n"
       ]
      }
     ],
     "prompt_number": 71
    },
    {
     "cell_type": "code",
     "collapsed": false,
     "input": [
      "exp_mclaurin_correct(1,20)"
     ],
     "language": "python",
     "metadata": {},
     "outputs": [
      {
       "output_type": "stream",
       "stream": "stdout",
       "text": [
        "           0\t         1.0\t         1.0\t           1\t                 1.0\t                 1.0\n",
        "           1\t         1.0\t         1.0\t           1\t                 1.0\t                 2.0\n",
        "           2\t         1.0\t         1.0\t           2\t                 0.5\t                 2.5\n",
        "           3\t         1.0\t         1.0\t           6\t      0.166666666667\t       2.66666666667\n",
        "           4\t         1.0\t         1.0\t          24\t     0.0416666666667\t       2.70833333333\n",
        "           5\t         1.0\t         1.0\t         120\t    0.00833333333333\t       2.71666666667\n",
        "           6\t         1.0\t         1.0\t         720\t    0.00138888888889\t       2.71805555556\n",
        "           7\t         1.0\t         1.0\t        5040\t   0.000198412698413\t       2.71825396825\n",
        "           8\t         1.0\t         1.0\t       40320\t   2.48015873016e-05\t       2.71827876984\n",
        "           9\t         1.0\t         1.0\t      362880\t    2.7557319224e-06\t       2.71828152557\n",
        "          10\t         1.0\t         1.0\t     3628800\t    2.7557319224e-07\t       2.71828180115\n",
        "          11\t         1.0\t         1.0\t    39916800\t   2.50521083854e-08\t        2.7182818262\n",
        "          12\t         1.0\t         1.0\t   479001600\t   2.08767569879e-09\t       2.71828182829\n",
        "          13\t         1.0\t         1.0\t  6227020800\t   1.60590438368e-10\t       2.71828182845\n",
        "          14\t         1.0\t         1.0\t 87178291200\t   1.14707455977e-11\t       2.71828182846\n",
        "          15\t         1.0\t         1.0\t1307674368000\t   7.64716373182e-13\t       2.71828182846\n",
        "          16\t         1.0\t         1.0\t20922789888000\t   4.77947733239e-14\t       2.71828182846\n",
        "          17\t         1.0\t         1.0\t355687428096000\t   2.81145725435e-15\t       2.71828182846\n",
        "          18\t         1.0\t         1.0\t6402373705728000\t   1.56192069686e-16\t       2.71828182846\n",
        "          19\t         1.0\t         1.0\t121645100408832000\t   8.22063524662e-18\t       2.71828182846\n"
       ]
      }
     ],
     "prompt_number": 72
    },
    {
     "cell_type": "markdown",
     "metadata": {},
     "source": [
      "<div class=\"alert alert-info\">\n",
      "**HINT** Recuerda las leyes de los exponentes\n",
      "</div>"
     ]
    },
    {
     "cell_type": "heading",
     "level": 2,
     "metadata": {},
     "source": [
      "Problema 10"
     ]
    },
    {
     "cell_type": "markdown",
     "metadata": {},
     "source": [
      "- \u00bfQu\u00e9 pasa si usas 16 bits, 32 bits o 64 bits?\n",
      "- Implementa el **problema 8** usando el otro lenguaje que no usaste \u00bfEl resultado es diferente? "
     ]
    },
    {
     "cell_type": "heading",
     "level": 4,
     "metadata": {},
     "source": [
      "Archivo de bloc de notas"
     ]
    }
   ],
   "metadata": {}
  }
 ]
}