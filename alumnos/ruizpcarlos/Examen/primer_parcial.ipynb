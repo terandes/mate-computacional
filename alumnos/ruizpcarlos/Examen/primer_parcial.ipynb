{
 "metadata": {
  "name": "",
  "signature": "sha256:e86947ce8220a1cadd96330ce3f93d8c2326a8c900f1e185235f1d516081b292"
 },
 "nbformat": 3,
 "nbformat_minor": 0,
 "worksheets": [
  {
   "cells": [
    {
     "cell_type": "heading",
     "level": 1,
     "metadata": {},
     "source": [
      "Examen Parcial"
     ]
    },
    {
     "cell_type": "heading",
     "level": 6,
     "metadata": {},
     "source": [
      "5 de marzo, 2015"
     ]
    },
    {
     "cell_type": "heading",
     "level": 2,
     "metadata": {},
     "source": [
      "Instrucciones"
     ]
    },
    {
     "cell_type": "markdown",
     "metadata": {},
     "source": [
      "- Crea una carpeta en tu directorio llamada `examen`.\n",
      "- Copia este examen a esa carpeta reci\u00e9n creada.\n",
      "- Copia los archivos con extensi\u00f3n `.m` de la misma manera."
     ]
    },
    {
     "cell_type": "heading",
     "level": 3,
     "metadata": {},
     "source": [
      "Definiciones"
     ]
    },
    {
     "cell_type": "markdown",
     "metadata": {},
     "source": [
      "- **Precisi\u00f3n** es el n\u00famero m\u00e1ximo de _bits_ diferentes de cero que es representable.\n",
      "- **Rango** es la diferencia entre el n\u00famero m\u00e1s negativo representable y el n\u00famero m\u00e1s positivo representable.\n",
      "- **Resoluci\u00f3n** es la magnitud m\u00e1s preque\u00f1a diferente de cero representable.\n",
      "- **Exactitud** es la magnitud e la m\u00e1xima diferencia entre el valor real y su representaci\u00f3n."
     ]
    },
    {
     "cell_type": "markdown",
     "metadata": {},
     "source": [
      "- Un n\u00famero $x$ en _single precision_ en el est\u00e1ndar **IEEE 754** se escribe:"
     ]
    },
    {
     "cell_type": "markdown",
     "metadata": {},
     "source": [
      "$$\n",
      "x = s 1.mmm \\ldots mmm \\times 2^{mmm \\ldots mmm}\n",
      "$$"
     ]
    },
    {
     "cell_type": "markdown",
     "metadata": {},
     "source": [
      "con un _bias_ de "
     ]
    },
    {
     "cell_type": "heading",
     "level": 1,
     "metadata": {},
     "source": [
      "Parte escrita"
     ]
    },
    {
     "cell_type": "heading",
     "level": 2,
     "metadata": {},
     "source": [
      "Problema 1"
     ]
    },
    {
     "cell_type": "markdown",
     "metadata": {},
     "source": [
      "* Escribir los siguientes n\u00fameros reales de manera _normalizada_"
     ]
    },
    {
     "cell_type": "markdown",
     "metadata": {},
     "source": [
      "    \n",
      "    - 123.45\n",
      "    - $$6.3789 \\times 10^{5}$$\n",
      "    - 5432.1987 \\times 10^{3}\n",
      "    - 6.02 \\times 10^{23}\n",
      "    - 0.000001\n",
      "    - 1.0"
     ]
    },
    {
     "cell_type": "heading",
     "level": 2,
     "metadata": {},
     "source": [
      "Problema 2"
     ]
    },
    {
     "cell_type": "markdown",
     "metadata": {},
     "source": [
      "- Escriba los siguientes n\u00fameros en su expansi\u00f3n en base $2$ y calcule su valor en base $10$ (suponga que no est\u00e1n signados)"
     ]
    },
    {
     "cell_type": "markdown",
     "metadata": {},
     "source": [
      "    - `1101`\n",
      "    - `11010`\n",
      "    - `00110011`"
     ]
    },
    {
     "cell_type": "heading",
     "level": 2,
     "metadata": {},
     "source": [
      "Problema 3"
     ]
    },
    {
     "cell_type": "markdown",
     "metadata": {},
     "source": [
      "- Escribe de forma normalizada a $y = + 1000.100111$ ."
     ]
    },
    {
     "cell_type": "markdown",
     "metadata": {},
     "source": [
      "- Escribe el mismo n\u00famero en formato **IEEE 754** en _single precision_."
     ]
    },
    {
     "cell_type": "markdown",
     "metadata": {},
     "source": [
      "- Escribe los siguientes n\u00fameros en el est\u00e1ndar **IEEE 754** a _double precision_"
     ]
    },
    {
     "cell_type": "markdown",
     "metadata": {},
     "source": [
      "- `1.0`\n",
      "- `1.5`\n",
      "- `-1.5`"
     ]
    },
    {
     "cell_type": "markdown",
     "metadata": {},
     "source": [
      "- \u00bfQu\u00e9 n\u00famero representa el siguiente flotante **IEEE 754** _double precision_?"
     ]
    },
    {
     "cell_type": "markdown",
     "metadata": {},
     "source": [
      "- `1 1000 0010 111 1000 0000 0000 0000 0000`"
     ]
    },
    {
     "cell_type": "heading",
     "level": 2,
     "metadata": {},
     "source": [
      "Problema 4"
     ]
    },
    {
     "cell_type": "markdown",
     "metadata": {},
     "source": [
      "* Representa $1$ en lo siguiente:\n",
      "\n",
      "    - En 8 bits con signo\n",
      "    - En 8 bits sin signo\n",
      "    - En 16 bits sin signo\n",
      "    - En 32 bits en el est\u00e1ndar **IEEE 754**\n",
      "    - En 64 bits en el est\u00e1ndar **IEEE 754**"
     ]
    },
    {
     "cell_type": "markdown",
     "metadata": {},
     "source": [
      "* Las siguientes dos cadenas binarias"
     ]
    },
    {
     "cell_type": "markdown",
     "metadata": {},
     "source": [
      "    - `0000 0000 0010 1010`\n",
      "    - `1000 0000 0010 1010`"
     ]
    },
    {
     "cell_type": "markdown",
     "metadata": {},
     "source": [
      "\u00bfQu\u00e9 n\u00famero representan s\u00ed ...\n",
      "\n",
      "    - ... son 16 bits sin signo?\n",
      "    - ... son 16 bits con signo?\n",
      "    - ... 2 cadenas de 8 bits sin signo?\n",
      "    - ... 2 cadenas de 8 bits con signo?"
     ]
    },
    {
     "cell_type": "heading",
     "level": 2,
     "metadata": {},
     "source": [
      "Problema 5"
     ]
    },
    {
     "cell_type": "heading",
     "level": 3,
     "metadata": {},
     "source": [
      "El mundo del Nintendo: 8 bits"
     ]
    },
    {
     "cell_type": "markdown",
     "metadata": {},
     "source": [
      "Supongamos que vamos a trabajar con `8 bits`"
     ]
    },
    {
     "cell_type": "markdown",
     "metadata": {},
     "source": [
      "$$\n",
      "x = \\pm 1.mmmm \\times 2^{bbb}\n",
      "$$"
     ]
    },
    {
     "cell_type": "markdown",
     "metadata": {},
     "source": [
      "donde el _bias_ $= 3$."
     ]
    },
    {
     "cell_type": "markdown",
     "metadata": {},
     "source": [
      "- \u00bfCu\u00e1l es el rango? \n",
      "- \u00bfCu\u00e1l es la precisi\u00f3n?\n",
      "- \u00bfCu\u00e1l es la resoluci\u00f3n?\n",
      "- \u00bfCu\u00e1ntos b\u00ednades hay?\n",
      "- \u00bfCu\u00e1ntos n\u00fameros por b\u00ednade hay?"
     ]
    },
    {
     "cell_type": "heading",
     "level": 1,
     "metadata": {},
     "source": [
      "Computadora"
     ]
    },
    {
     "cell_type": "code",
     "collapsed": false,
     "input": [
      "%matplotlib inline\n",
      "import numpy as np\n",
      "import matplotlib.pyplot as plt"
     ],
     "language": "python",
     "metadata": {},
     "outputs": [],
     "prompt_number": 9
    },
    {
     "cell_type": "heading",
     "level": 2,
     "metadata": {},
     "source": [
      "Problema 6"
     ]
    },
    {
     "cell_type": "heading",
     "level": 2,
     "metadata": {},
     "source": [
      "El mundo de Nintendo: 8 bits"
     ]
    },
    {
     "cell_type": "markdown",
     "metadata": {},
     "source": [
      "* Crea un programa en `python` o `GNU Octave` imprima todos los n\u00fameros que se pueden almacenar en `8 bits` (ver ejercicio anterior). "
     ]
    },
    {
     "cell_type": "markdown",
     "metadata": {},
     "source": [
      "La tabla debe de tener el siguiente formato:"
     ]
    },
    {
     "cell_type": "markdown",
     "metadata": {},
     "source": [
      "| representaci\u00f3n almacenada | real | flotante |\n",
      "|---------------------------|------|----------|"
     ]
    },
    {
     "cell_type": "markdown",
     "metadata": {},
     "source": [
      "* Grafica el n\u00famero de d\u00edgitos en un `b\u00ednade` usando un histograma."
     ]
    },
    {
     "cell_type": "markdown",
     "metadata": {},
     "source": [
      "* Grafica en un histograma la **densidad** de d\u00edgitos que existen por cada entero."
     ]
    },
    {
     "cell_type": "heading",
     "level": 2,
     "metadata": {},
     "source": [
      "Problema 7"
     ]
    },
    {
     "cell_type": "markdown",
     "metadata": {},
     "source": [
      "Observa el c\u00f3digo de `GNU Octave` siguiente:"
     ]
    },
    {
     "cell_type": "code",
     "collapsed": false,
     "input": [
      "!cat strange_floats_sp.m"
     ],
     "language": "python",
     "metadata": {},
     "outputs": [
      {
       "output_type": "stream",
       "stream": "stdout",
       "text": [
        "x = single(77777.0)\n",
        "y = single(7.0)\n",
        "inv_y = 1.0 / y\n",
        "\n",
        "z = x / y\n",
        "z1 = x * inv_y\n",
        "\n",
        "if (z != z1)\n",
        "  sprintf(\"%1.3f != %1.3f\", z, z1)\n",
        "  sprintf(\"%1.30f != %1.30f\", z, z1)\n",
        "else\n",
        "  sprintf(\"%1.3f == %1.3f\", z, z1)\n",
        "  sprintf(\"%1.30f == %1.30f\", z, z1)\n",
        "endif\n"
       ]
      }
     ],
     "prompt_number": 1
    },
    {
     "cell_type": "markdown",
     "metadata": {},
     "source": [
      "- \u00bfQu\u00e9 hace este c\u00f3digo?\n",
      "- Abre el programa `GNU Octave` y ejec\u00fatalo en la consola. \u00bfResult\u00f3 lo que esperabas?\n",
      "- `z`,  `z1` \u00bfSon `SP` o `DP`?"
     ]
    },
    {
     "cell_type": "markdown",
     "metadata": {},
     "source": [
      "<div class=\"alert alert-info\">\n",
      "**NOTA** `single` en `GNU Octave` y `Matlab` es la instrucci\u00f3n para indicarle al programa que trabaje en _single precision_.\n",
      "</div>"
     ]
    },
    {
     "cell_type": "markdown",
     "metadata": {},
     "source": [
      "<div class=\"alert alert-info\">\n",
      "**NOTA** Para ejecutar un _script_ en `GNU Octave` solo debes de teclear su nombre (obvio si lo tienes en tu carpeta)\n",
      "</div>"
     ]
    },
    {
     "cell_type": "markdown",
     "metadata": {},
     "source": [
      "- Comp\u00e1ralo con el _script_ `strange_floats_dp.m` \u00bfPor qu\u00e9 es la diferencia? Explica la salida de ambos programas."
     ]
    },
    {
     "cell_type": "code",
     "collapsed": false,
     "input": [
      "!cat strange_floats_dp.m"
     ],
     "language": "python",
     "metadata": {},
     "outputs": [
      {
       "output_type": "stream",
       "stream": "stdout",
       "text": [
        "x = 77777.0\r\n",
        "y = 7.0\r\n",
        "inv_y = 1.0 / y\r\n",
        "\r\n",
        "z = x / y\r\n",
        "z1 = x * inv_y\r\n",
        "\r\n",
        "if (z != z1)\r\n",
        "  sprintf(\"%1.3f != %1.3f\", z, z1)\r\n",
        "  sprintf(\"%1.30f != %1.30f\", z, z1)\r\n",
        "else\r\n",
        "  sprintf(\"%1.3f == %1.3f\", z, z1)\r\n",
        "  sprintf(\"%1.30f == %1.30f\", z, z1)\r\n",
        "endif\r\n"
       ]
      }
     ],
     "prompt_number": 11
    },
    {
     "cell_type": "markdown",
     "metadata": {},
     "source": [
      "- `z`,  `z1` \u00bfSon `SP` o `DP`?"
     ]
    },
    {
     "cell_type": "heading",
     "level": 2,
     "metadata": {},
     "source": [
      "Problema 8"
     ]
    },
    {
     "cell_type": "markdown",
     "metadata": {},
     "source": [
      "La _varianza_ de $n$ datos se define como"
     ]
    },
    {
     "cell_type": "markdown",
     "metadata": {},
     "source": [
      "$$\n",
      "s_n^2 = \\frac{1}{n - 1} \\sum^n_{i=1}(x_i - \\bar{x})^2\n",
      "$$"
     ]
    },
    {
     "cell_type": "markdown",
     "metadata": {},
     "source": [
      "donde $\\bar{x}$"
     ]
    },
    {
     "cell_type": "markdown",
     "metadata": {},
     "source": [
      "$$\n",
      "\\bar{x} = \\frac{1}{n} \\sum^n_{i = 1} x_i\n",
      "$$"
     ]
    },
    {
     "cell_type": "markdown",
     "metadata": {},
     "source": [
      "Esta definici\u00f3n es poco eficiente ya que requiere dos pasadas a los datos para calcular la _varianza_."
     ]
    },
    {
     "cell_type": "markdown",
     "metadata": {},
     "source": [
      "* Crea una funci\u00f3n an\u00f3nima en `numpy` o `GNU/Octave` que reproduzca este algoritmo."
     ]
    },
    {
     "cell_type": "markdown",
     "metadata": {},
     "source": [
      "En los libros de texto se recomienda (o se reescribe) la definici\u00f3n de la siguiente manera:"
     ]
    },
    {
     "cell_type": "markdown",
     "metadata": {},
     "source": [
      "$$\n",
      "s_n^2 = \\frac{1}{n-1} \\left( \\sum^n_{i=1} x_i^2 -  \\frac{1}{n}\\left(\\sum^n_{i=1} x_i\\right)^2\\right)\n",
      "$$"
     ]
    },
    {
     "cell_type": "markdown",
     "metadata": {},
     "source": [
      "El cual es m\u00e1s eficiente computacionalmente hablando"
     ]
    },
    {
     "cell_type": "markdown",
     "metadata": {},
     "source": [
      "* Crea un programa en `numpy` o `GNU/Octave` que reproduzca este algoritmo."
     ]
    },
    {
     "cell_type": "markdown",
     "metadata": {},
     "source": [
      "* Sean los datos $10000, 10001, 10002$, Realiza el c\u00e1lculo a mano y comp\u00e1ralo con los dos algoritmos. Expl\u00edca las diferencias y el posible error."
     ]
    },
    {
     "cell_type": "heading",
     "level": 2,
     "metadata": {},
     "source": [
      "Problema 9"
     ]
    },
    {
     "cell_type": "markdown",
     "metadata": {},
     "source": [
      "* Carga la funci\u00f3n `factorial` definida en el archivo `factorial.py`"
     ]
    },
    {
     "cell_type": "code",
     "collapsed": false,
     "input": [
      "%load factorial.py"
     ],
     "language": "python",
     "metadata": {},
     "outputs": [],
     "prompt_number": 7
    },
    {
     "cell_type": "code",
     "collapsed": false,
     "input": [
      "def factorial(n):\n",
      "    if n == 0:\n",
      "        return 1\n",
      "    elif n == 1:\n",
      "        return 1\n",
      "    else:\n",
      "        return factorial(n-1)*n"
     ],
     "language": "python",
     "metadata": {},
     "outputs": [],
     "prompt_number": 8
    },
    {
     "cell_type": "markdown",
     "metadata": {},
     "source": [
      "La serie de Maclaurin es un caso especial de la serie de Taylor de una funci\u00f3n $f$ alrededor de $0$"
     ]
    },
    {
     "cell_type": "markdown",
     "metadata": {},
     "source": [
      "$$\n",
      "f(x) = f(0) + f'(0) + \\frac{f''(0)}{2!} + \\ldots = \\sum^\\infty_{i=0}\\frac{1}{n\\!}f^{(n)}(0)\n",
      "$$"
     ]
    },
    {
     "cell_type": "markdown",
     "metadata": {},
     "source": [
      "En particular, la funci\u00f3n exponencial tiene la siguiente forma:"
     ]
    },
    {
     "cell_type": "markdown",
     "metadata": {},
     "source": [
      "$$\n",
      "e^x = 1 + x + \\frac{x^2}{2} + \\ldots = \\sum^\\infty_{i=0} \\frac{x^i}{i\\!}\n",
      "$$"
     ]
    },
    {
     "cell_type": "markdown",
     "metadata": {},
     "source": [
      "* Usando la funci\u00f3n `factorial` crea la funci\u00f3n `exp_maclaurin(x,n)`, que imprima lo siguiente:"
     ]
    },
    {
     "cell_type": "markdown",
     "metadata": {},
     "source": [
      "    print \"%12s\\t%12s\\t%12s\\t%12s\\t%20s\\t%20s\" % (\"i\", \"x\", \"x^i\", \"factorial(i)\", \"x^i/factorial(i)\", \"suma\")"
     ]
    },
    {
     "cell_type": "code",
     "collapsed": false,
     "input": [
      "def exp_maclaurin(x, n):\n",
      "    \"\"\"\n",
      "    Recibe como argumento una x real, n entero.\n",
      "    Calcula n t\u00e9rminos de la serie de McLaurin y la eval\u00faa en x.\n",
      "    \"\"\"\n",
      "    suma = 0\n",
      "    \n",
      "    for i in range (n):\n",
      "        suma = suma + x^i/factorial(i)\n",
      "        print \"%12s\\t%12s\\t%12s\\t%12s\\t%20s\\t%20s\" % (i, x, x^i, factorial(i), x^i/factorial(i), suma)"
     ],
     "language": "python",
     "metadata": {},
     "outputs": [],
     "prompt_number": 20
    },
    {
     "cell_type": "code",
     "collapsed": false,
     "input": [
      "exp_maclaurin(1, 100)"
     ],
     "language": "python",
     "metadata": {},
     "outputs": [
      {
       "output_type": "stream",
       "stream": "stdout",
       "text": [
        "           0\t           1\t           1\t           1\t                   1\t                   1\n",
        "           1\t           1\t           0\t           1\t                   0\t                   3\n",
        "           2\t           1\t           3\t           2\t                   0\t                   5\n",
        "           3\t           1\t           2\t           6\t                   1\t                   6\n",
        "           4\t           1\t           5\t          24\t                   1\t                   7\n",
        "           5\t           1\t           4\t         120\t                   1\t                   8\n",
        "           6\t           1\t           7\t         720\t                   1\t                   9\n",
        "           7\t           1\t           6\t        5040\t                   1\t                  10\n",
        "           8\t           1\t           9\t       40320\t                   1\t                  11\n",
        "           9\t           1\t           8\t      362880\t                   1\t                  12\n",
        "          10\t           1\t          11\t     3628800\t                   1\t                  13\n",
        "          11\t           1\t          10\t    39916800\t                   1\t                  14\n",
        "          12\t           1\t          13\t   479001600\t                   1\t                  15\n",
        "          13\t           1\t          12\t  6227020800\t                   1\t                  16\n",
        "          14\t           1\t          15\t 87178291200\t                   1\t                  17\n",
        "          15\t           1\t          14\t1307674368000\t                   1\t                  18\n",
        "          16\t           1\t          17\t20922789888000\t                   1\t                  19\n",
        "          17\t           1\t          16\t355687428096000\t                   1\t                  20\n",
        "          18\t           1\t          19\t6402373705728000\t                   1\t                  21\n",
        "          19\t           1\t          18\t121645100408832000\t                   1\t                  22\n",
        "          20\t           1\t          21\t2432902008176640000\t                   1\t                  23\n",
        "          21\t           1\t          20\t51090942171709440000\t                   1\t                  24\n",
        "          22\t           1\t          23\t1124000727777607680000\t                   1\t                  25\n",
        "          23\t           1\t          22\t25852016738884976640000\t                   1\t                  26\n",
        "          24\t           1\t          25\t620448401733239439360000\t                   1\t                  27\n",
        "          25\t           1\t          24\t15511210043330985984000000\t                   1\t                  28\n",
        "          26\t           1\t          27\t403291461126605635584000000\t                   1\t                  29\n",
        "          27\t           1\t          26\t10888869450418352160768000000\t                   1\t                  30\n",
        "          28\t           1\t          29\t304888344611713860501504000000\t                   1\t                  31\n",
        "          29\t           1\t          28\t8841761993739701954543616000000\t                   1\t                  32\n",
        "          30\t           1\t          31\t265252859812191058636308480000000\t                   1\t                  33\n",
        "          31\t           1\t          30\t8222838654177922817725562880000000\t                   1\t                  34\n",
        "          32\t           1\t          33\t263130836933693530167218012160000000\t                   1\t                  35\n",
        "          33\t           1\t          32\t8683317618811886495518194401280000000\t                   1\t                  36\n",
        "          34\t           1\t          35\t295232799039604140847618609643520000000\t                   1\t                  37\n",
        "          35\t           1\t          34\t10333147966386144929666651337523200000000\t                   1\t                  38\n",
        "          36\t           1\t          37\t371993326789901217467999448150835200000000\t                   1\t                  39\n",
        "          37\t           1\t          36\t13763753091226345046315979581580902400000000\t                   1\t                  40\n",
        "          38\t           1\t          39\t523022617466601111760007224100074291200000000\t                   1\t                  41\n",
        "          39\t           1\t          38\t20397882081197443358640281739902897356800000000\t                   1\t                  42\n",
        "          40\t           1\t          41\t815915283247897734345611269596115894272000000000\t                   1\t                  43\n",
        "          41\t           1\t          40\t33452526613163807108170062053440751665152000000000\t                   1\t                  44\n",
        "          42\t           1\t          43\t1405006117752879898543142606244511569936384000000000\t                   1\t                  45\n",
        "          43\t           1\t          42\t60415263063373835637355132068513997507264512000000000\t                   1\t                  46\n",
        "          44\t           1\t          45\t2658271574788448768043625811014615890319638528000000000\t                   1\t                  47\n",
        "          45\t           1\t          44\t119622220865480194561963161495657715064383733760000000000\t                   1\t                  48\n",
        "          46\t           1\t          47\t5502622159812088949850305428800254892961651752960000000000\t                   1\t                  49\n",
        "          47\t           1\t          46\t258623241511168180642964355153611979969197632389120000000000\t                   1\t                  50\n",
        "          48\t           1\t          49\t12413915592536072670862289047373375038521486354677760000000000\t                   1\t                  51\n",
        "          49\t           1\t          48\t608281864034267560872252163321295376887552831379210240000000000\t                   1\t                  52\n",
        "          50\t           1\t          51\t30414093201713378043612608166064768844377641568960512000000000000\t                   1\t                  53\n",
        "          51\t           1\t          50\t1551118753287382280224243016469303211063259720016986112000000000000\t                   1\t                  54\n",
        "          52\t           1\t          53\t80658175170943878571660636856403766975289505440883277824000000000000\t                   1\t                  55\n",
        "          53\t           1\t          52\t4274883284060025564298013753389399649690343788366813724672000000000000\t                   1\t                  56\n",
        "          54\t           1\t          55\t230843697339241380472092742683027581083278564571807941132288000000000000\t                   1\t                  57\n",
        "          55\t           1\t          54\t12696403353658275925965100847566516959580321051449436762275840000000000000\t                   1\t                  58\n",
        "          56\t           1\t          57\t710998587804863451854045647463724949736497978881168458687447040000000000000\t                   1\t                  59\n",
        "          57\t           1\t          56\t40526919504877216755680601905432322134980384796226602145184481280000000000000\t                   1\t                  60\n",
        "          58\t           1\t          59\t2350561331282878571829474910515074683828862318181142924420699914240000000000000\t                   1\t                  61\n",
        "          59\t           1\t          58\t138683118545689835737939019720389406345902876772687432540821294940160000000000000\t                   1\t                  62\n",
        "          60\t           1\t          61\t8320987112741390144276341183223364380754172606361245952449277696409600000000000000\t                   1\t                  63\n",
        "          61\t           1\t          60\t507580213877224798800856812176625227226004528988036003099405939480985600000000000000\t                   1\t                  64\n",
        "          62\t           1\t          63\t31469973260387937525653122354950764088012280797258232192163168247821107200000000000000\t                   1\t                  65\n",
        "          63\t           1\t          62\t1982608315404440064116146708361898137544773690227268628106279599612729753600000000000000\t                   1\t                  66\n",
        "          64\t           1\t          65\t126886932185884164103433389335161480802865516174545192198801894375214704230400000000000000\t                   1\t                  67\n",
        "          65\t           1\t          64\t8247650592082470666723170306785496252186258551345437492922123134388955774976000000000000000\t                   1\t                  68\n",
        "          66\t           1\t          67\t544344939077443064003729240247842752644293064388798874532860126869671081148416000000000000000\t                   1\t                  69\n",
        "          67\t           1\t          66\t36471110918188685288249859096605464427167635314049524593701628500267962436943872000000000000000\t                   1\t                  70\n",
        "          68\t           1\t          69\t2480035542436830599600990418569171581047399201355367672371710738018221445712183296000000000000000\t                   1\t                  71\n",
        "          69\t           1\t          68\t171122452428141311372468338881272839092270544893520369393648040923257279754140647424000000000000000\t                   1\t                  72\n",
        "          70\t           1\t          71\t11978571669969891796072783721689098736458938142546425857555362864628009582789845319680000000000000000\t                   1\t                  73\n",
        "          71\t           1\t          70\t850478588567862317521167644239926010288584608120796235886430763388588680378079017697280000000000000000\t                   1\t                  74\n",
        "          72\t           1\t          73\t61234458376886086861524070385274672740778091784697328983823014963978384987221689274204160000000000000000\t                   1\t                  75\n",
        "          73\t           1\t          72\t4470115461512684340891257138125051110076800700282905015819080092370422104067183317016903680000000000000000\t                   1\t                  76\n",
        "          74\t           1\t          75\t330788544151938641225953028221253782145683251820934971170611926835411235700971565459250872320000000000000000\t                   1\t                  77\n",
        "          75\t           1\t          74\t24809140811395398091946477116594033660926243886570122837795894512655842677572867409443815424000000000000000000\t                   1\t                  78\n",
        "          76\t           1\t          77\t1885494701666050254987932260861146558230394535379329335672487982961844043495537923117729972224000000000000000000\t                   1\t                  79\n",
        "          77\t           1\t          76\t145183092028285869634070784086308284983740379224208358846781574688061991349156420080065207861248000000000000000000\t                   1\t                  80\n",
        "          78\t           1\t          79\t11324281178206297831457521158732046228731749579488251990048962825668835325234200766245086213177344000000000000000000\t                   1\t                  81\n",
        "          79\t           1\t          78\t894618213078297528685144171539831652069808216779571907213868063227837990693501860533361810841010176000000000000000000\t                   1\t                  82\n",
        "          80\t           1\t          81\t71569457046263802294811533723186532165584657342365752577109445058227039255480148842668944867280814080000000000000000000\t                   1\t                  83\n",
        "          81\t           1\t          80\t5797126020747367985879734231578109105412357244731625958745865049716390179693892056256184534249745940480000000000000000000\t                   1\t                  84\n",
        "          82\t           1\t          83\t475364333701284174842138206989404946643813294067993328617160934076743994734899148613007131808479167119360000000000000000000\t                   1\t                  85\n",
        "          83\t           1\t          82\t39455239697206586511897471180120610571436503407643446275224357528369751562996629334879591940103770870906880000000000000000000\t                   1\t                  86\n",
        "          84\t           1\t          85\t3314240134565353266999387579130131288000666286242049487118846032383059131291716864129885722968716753156177920000000000000000000\t                   1\t                  87\n",
        "          85\t           1\t          84\t281710411438055027694947944226061159480056634330574206405101912752560026159795933451040286452340924018275123200000000000000000000\t                   1\t                  88\n",
        "          86\t           1\t          87\t24227095383672732381765523203441259715284870552429381750838764496720162249742450276789464634901319465571660595200000000000000000000\t                   1\t                  89\n",
        "          87\t           1\t          86\t2107757298379527717213600518699389595229783738061356212322972511214654115727593174080683423236414793504734471782400000000000000000000\t                   1\t                  90\n",
        "          88\t           1\t          89\t185482642257398439114796845645546284380220968949399346684421580986889562184028199319100141244804501828416633516851200000000000000000000\t                   1\t                  91\n",
        "          89\t           1\t          88\t16507955160908461081216919262453619309839666236496541854913520707833171034378509739399912570787600662729080382999756800000000000000000000\t                   1\t                  92\n",
        "          90\t           1\t          91\t1485715964481761497309522733620825737885569961284688766942216863704985393094065876545992131370884059645617234469978112000000000000000000000\t                   1\t                  93\n",
        "          91\t           1\t          90\t135200152767840296255166568759495142147586866476906677791741734597153670771559994765685283954750449427751168336768008192000000000000000000000\t                   1\t                  94\n",
        "          92\t           1\t          93\t12438414054641307255475324325873553077577991715875414356840239582938137710983519518443046123837041347353107486982656753664000000000000000000000\t                   1\t                  95\n",
        "          93\t           1\t          92\t1156772507081641574759205162306240436214753229576413535186142281213246807121467315215203289516844845303838996289387078090752000000000000000000000\t                   1\t                  96\n",
        "          94\t           1\t          95\t108736615665674308027365285256786601004186803580182872307497374434045199869417927630229109214583415458560865651202385340530688000000000000000000000\t                   1\t                  97\n",
        "          95\t           1\t          94\t10329978488239059262599702099394727095397746340117372869212250571234293987594703124871765375385424468563282236864226607350415360000000000000000000000\t                   1\t                  98\n",
        "          96\t           1\t          97\t991677934870949689209571401541893801158183648651267795444376054838492222809091499987689476037000748982075094738965754305639874560000000000000000000000\t                   1\t                  99\n",
        "          97\t           1\t          96\t96192759682482119853328425949563698712343813919172976158104477319333745612481875498805879175589072651261284189679678167647067832320000000000000000000000\t                   1\t                 100\n",
        "          98\t           1\t          99\t9426890448883247745626185743057242473809693764078951663494238777294707070023223798882976159207729119823605850588608460429412647567360000000000000000000000\t                   1\t                 101\n",
        "          99\t           1\t          98\t933262154439441526816992388562667004907159682643816214685929638952175999932299156089414639761565182862536979208272237582511852109168640000000000000000000000\t                   1\t                 102\n"
       ]
      }
     ],
     "prompt_number": 21
    },
    {
     "cell_type": "markdown",
     "metadata": {},
     "source": [
      "* Usando la funci\u00f3n `np.exp` calcula `0`, `1`, `5.5` y `-5.5`"
     ]
    },
    {
     "cell_type": "markdown",
     "metadata": {},
     "source": [
      "* Usando tu funci\u00f3n, calcula los mismos valores a orden 20 \u00bfEn cu\u00e1l falla? \u00bfPor qu\u00e9 crees que sea?"
     ]
    },
    {
     "cell_type": "markdown",
     "metadata": {},
     "source": [
      "* \u00bfC\u00f3mo resolver\u00edas este problema? Implementa tu soluci\u00f3n."
     ]
    },
    {
     "cell_type": "markdown",
     "metadata": {},
     "source": [
      "<div class=\"alert alert-info\">\n",
      "**HINT** Recuerda las leyes de los exponentes\n",
      "</div>"
     ]
    },
    {
     "cell_type": "heading",
     "level": 2,
     "metadata": {},
     "source": [
      "Problema 10"
     ]
    },
    {
     "cell_type": "markdown",
     "metadata": {},
     "source": [
      "- \u00bfQu\u00e9 pasa si usas 16 bits, 32 bits o 64 bits?\n",
      "- Implementa el **problema 8** usando el otro lenguaje que no usaste \u00bfEl resultado es diferente? "
     ]
    }
   ],
   "metadata": {}
  }
 ]
}