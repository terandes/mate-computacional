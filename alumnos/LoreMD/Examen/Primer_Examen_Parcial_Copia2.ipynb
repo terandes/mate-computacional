{
 "metadata": {
  "name": "",
  "signature": "sha256:4f0d7b2ad180cac2b88e68410b04eb4ef98c616085890522519a8d0b6d004f29"
 },
 "nbformat": 3,
 "nbformat_minor": 0,
 "worksheets": [
  {
   "cells": [
    {
     "cell_type": "heading",
     "level": 1,
     "metadata": {},
     "source": [
      "Examen Parcial"
     ]
    },
    {
     "cell_type": "heading",
     "level": 6,
     "metadata": {},
     "source": [
      "5 de marzo, 2015"
     ]
    },
    {
     "cell_type": "heading",
     "level": 2,
     "metadata": {},
     "source": [
      "Instrucciones"
     ]
    },
    {
     "cell_type": "markdown",
     "metadata": {},
     "source": [
      "- Crea una carpeta en tu directorio llamada `examen`.\n",
      "- Copia este examen a esa carpeta reci\u00e9n creada.\n",
      "- Copia los archivos con extensi\u00f3n `.m` de la misma manera."
     ]
    },
    {
     "cell_type": "heading",
     "level": 3,
     "metadata": {},
     "source": [
      "Definiciones"
     ]
    },
    {
     "cell_type": "markdown",
     "metadata": {},
     "source": [
      "- **Precisi\u00f3n** es el n\u00famero m\u00e1ximo de _bits_ diferentes de cero que es representable.\n",
      "- **Rango** es la diferencia entre el n\u00famero m\u00e1s negativo representable y el n\u00famero m\u00e1s positivo representable.\n",
      "- **Resoluci\u00f3n** es la magnitud m\u00e1s preque\u00f1a diferente de cero representable.\n",
      "- **Exactitud** es la magnitud e la m\u00e1xima diferencia entre el valor real y su representaci\u00f3n."
     ]
    },
    {
     "cell_type": "markdown",
     "metadata": {},
     "source": [
      "- Un n\u00famero $x$ en _single precision_ en el est\u00e1ndar **IEEE 754** se escribe:"
     ]
    },
    {
     "cell_type": "markdown",
     "metadata": {},
     "source": [
      "$$\n",
      "x = s 1.mmm \\ldots mmm \\times 2^{mmm \\ldots mmm}\n",
      "$$"
     ]
    },
    {
     "cell_type": "markdown",
     "metadata": {},
     "source": [
      "con un _bias_ de "
     ]
    },
    {
     "cell_type": "heading",
     "level": 1,
     "metadata": {},
     "source": [
      "Parte escrita"
     ]
    },
    {
     "cell_type": "heading",
     "level": 2,
     "metadata": {},
     "source": [
      "Problema 1"
     ]
    },
    {
     "cell_type": "markdown",
     "metadata": {},
     "source": [
      "* Escribir los siguientes n\u00fameros reales de manera _normalizada_"
     ]
    },
    {
     "cell_type": "markdown",
     "metadata": {},
     "source": [
      "    - $123.45$\n",
      "    - $6.3789 \\times 10^{5}$\n",
      "    - $5432.1987 \\times 10^{3}$\n",
      "    - $6.02 \\times 10^{23}$\n",
      "    - $0.000001$\n",
      "    - $1.0$"
     ]
    },
    {
     "cell_type": "heading",
     "level": 2,
     "metadata": {},
     "source": [
      "Problema 2"
     ]
    },
    {
     "cell_type": "markdown",
     "metadata": {},
     "source": [
      "- Escriba los siguientes n\u00fameros en su expansi\u00f3n en base $2$ y calcule su valor en base $10$ (suponga que no est\u00e1n signados)"
     ]
    },
    {
     "cell_type": "markdown",
     "metadata": {},
     "source": [
      "    - `1101`\n",
      "    - `11010`\n",
      "    - `00110011`"
     ]
    },
    {
     "cell_type": "heading",
     "level": 2,
     "metadata": {},
     "source": [
      "Problema 3"
     ]
    },
    {
     "cell_type": "markdown",
     "metadata": {},
     "source": [
      "- Escribe de forma normalizada a $y = + 1000.100111$ ."
     ]
    },
    {
     "cell_type": "markdown",
     "metadata": {},
     "source": [
      "- Escribe el mismo n\u00famero en formato **IEEE 754** en _single precision_."
     ]
    },
    {
     "cell_type": "markdown",
     "metadata": {},
     "source": [
      "- Escribe los siguientes n\u00fameros en el est\u00e1ndar **IEEE 754** a _double precision_"
     ]
    },
    {
     "cell_type": "markdown",
     "metadata": {},
     "source": [
      "- `1.0`\n",
      "- `1.5`\n",
      "- `-1.5`"
     ]
    },
    {
     "cell_type": "markdown",
     "metadata": {},
     "source": [
      "- \u00bfQu\u00e9 n\u00famero representa el siguiente flotante **IEEE 754** _double precision_?"
     ]
    },
    {
     "cell_type": "markdown",
     "metadata": {},
     "source": [
      "- `1 1000 0010 111 1000 0000 0000 0000 0000`"
     ]
    },
    {
     "cell_type": "heading",
     "level": 2,
     "metadata": {},
     "source": [
      "Problema 4"
     ]
    },
    {
     "cell_type": "markdown",
     "metadata": {},
     "source": [
      "* Representa $1$ en lo siguiente:\n",
      "\n",
      "    - En 8 bits con signo\n",
      "    - En 8 bits sin signo\n",
      "    - En 16 bits sin signo\n",
      "    - En 32 bits en el est\u00e1ndar **IEEE 754**\n",
      "    - En 64 bits en el est\u00e1ndar **IEEE 754**"
     ]
    },
    {
     "cell_type": "markdown",
     "metadata": {},
     "source": [
      "* Las siguientes dos cadenas binarias"
     ]
    },
    {
     "cell_type": "markdown",
     "metadata": {},
     "source": [
      "    - `0000 0000 0010 1010`\n",
      "    - `1000 0000 0010 1010`"
     ]
    },
    {
     "cell_type": "markdown",
     "metadata": {},
     "source": [
      "\u00bfQu\u00e9 n\u00famero representan s\u00ed ...\n",
      "\n",
      "    - ... son 16 bits sin signo?\n",
      "    - ... son 16 bits con signo?\n",
      "    - ... 2 cadenas de 8 bits sin signo?\n",
      "    - ... 2 cadenas de 8 bits con signo?"
     ]
    },
    {
     "cell_type": "code",
     "collapsed": false,
     "input": [
      "2**7"
     ],
     "language": "python",
     "metadata": {},
     "outputs": [
      {
       "metadata": {},
       "output_type": "pyout",
       "prompt_number": 12,
       "text": [
        "128"
       ]
      }
     ],
     "prompt_number": 12
    },
    {
     "cell_type": "heading",
     "level": 2,
     "metadata": {},
     "source": [
      "Problema 5"
     ]
    },
    {
     "cell_type": "heading",
     "level": 3,
     "metadata": {},
     "source": [
      "El mundo del Nintendo: 8 bits"
     ]
    },
    {
     "cell_type": "markdown",
     "metadata": {},
     "source": [
      "Supongamos que vamos a trabajar con `8 bits`"
     ]
    },
    {
     "cell_type": "markdown",
     "metadata": {},
     "source": [
      "$$\n",
      "x = \\pm 1.mmmm \\times 2^{bbb}\n",
      "$$"
     ]
    },
    {
     "cell_type": "markdown",
     "metadata": {},
     "source": [
      "donde el _bias_ $= 3$."
     ]
    },
    {
     "cell_type": "markdown",
     "metadata": {},
     "source": [
      "- \u00bfCu\u00e1l es el rango? -31-31\n",
      "- \u00bfCu\u00e1l es la precisi\u00f3n? 256\n",
      "- \u00bfCu\u00e1l es la resoluci\u00f3n? \n",
      "- \u00bfCu\u00e1ntos b\u00ednades hay? 16\n",
      "- \u00bfCu\u00e1ntos n\u00fameros por b\u00ednade hay? 2^4\n",
      "\n",
      "Precisi\u00f3n es el n\u00famero m\u00e1ximo de bits diferentes de cero que es representable.\n",
      "\n",
      "Rango es la diferencia entre el n\u00famero m\u00e1s negativo representable y el n\u00famero m\u00e1s positivo representable.\n",
      "\n",
      "Resoluci\u00f3n es la magnitud m\u00e1s preque\u00f1a diferente de cero representable.\n",
      "\n",
      "Exactitud es la magnitud e la m\u00e1xima diferencia entre el valor real y su representaci\u00f3n."
     ]
    },
    {
     "cell_type": "code",
     "collapsed": false,
     "input": [],
     "language": "python",
     "metadata": {},
     "outputs": []
    },
    {
     "cell_type": "heading",
     "level": 1,
     "metadata": {},
     "source": [
      "Computadora"
     ]
    },
    {
     "cell_type": "code",
     "collapsed": false,
     "input": [
      "%pylab inline\n",
      "%matplotlib inline\n",
      "import numpy as np\n",
      "import matplotlib.pyplot as plt"
     ],
     "language": "python",
     "metadata": {},
     "outputs": [
      {
       "output_type": "stream",
       "stream": "stdout",
       "text": [
        "Populating the interactive namespace from numpy and matplotlib\n"
       ]
      },
      {
       "output_type": "stream",
       "stream": "stderr",
       "text": [
        "WARNING: pylab import has clobbered these variables: ['real', 'log', 'floor']\n",
        "`%matplotlib` prevents importing * from pylab and numpy\n"
       ]
      }
     ],
     "prompt_number": 95
    },
    {
     "cell_type": "heading",
     "level": 2,
     "metadata": {},
     "source": [
      "Problema 6"
     ]
    },
    {
     "cell_type": "heading",
     "level": 2,
     "metadata": {},
     "source": [
      "El mundo de Nintendo: 8 bits"
     ]
    },
    {
     "cell_type": "markdown",
     "metadata": {},
     "source": [
      "* Crea un programa en `python` o `GNU Octave` imprima todos los n\u00fameros que se pueden almacenar en `8 bits` (ver ejercicio anterior). "
     ]
    },
    {
     "cell_type": "markdown",
     "metadata": {},
     "source": [
      "La tabla debe de tener el siguiente formato:"
     ]
    },
    {
     "cell_type": "markdown",
     "metadata": {},
     "source": [
      "| representaci\u00f3n almacenada | real | flotante |\n",
      "|---------------------------|------|----------|"
     ]
    },
    {
     "cell_type": "markdown",
     "metadata": {},
     "source": [
      "* Grafica el n\u00famero de d\u00edgitos en un `b\u00ednade` usando un histograma."
     ]
    },
    {
     "cell_type": "markdown",
     "metadata": {},
     "source": [
      "* Grafica en un histograma la **densidad** de d\u00edgitos que existen por cada entero."
     ]
    },
    {
     "cell_type": "code",
     "collapsed": false,
     "input": [
      "def decimalBinarioSS(num,bits):\n",
      "    assert num<=((2**bits)-1)\n",
      "    bin=\"\"\n",
      "    i=0\n",
      "    for i in xrange(bits,0,-1):\n",
      "        bin+=str(num%2)\n",
      "        num/=2\n",
      "    return bin[::-1]"
     ],
     "language": "python",
     "metadata": {},
     "outputs": [],
     "prompt_number": 73
    },
    {
     "cell_type": "code",
     "collapsed": false,
     "input": [
      "def real(representacion):\n",
      "    signo=(-1)**int(representacion[0])\n",
      "    exp=((2**2)*int(representacion[1])+(2**1)*int(representacion[2])+(2**0)*int(representacion[3]))-3\n",
      "    num=(2**-1)*int(representacion[4])+(2**-2)*int(representacion[5])+(2**-3)*int(representacion[6])+(2**-4)*int(representacion[7])\n",
      "    return signo*(2**exp)*(1+num)\n",
      "\n",
      "def flotante(representacion):\n",
      "    signo=(-1)**int(representacion[0])\n",
      "    exp=((2**2)*int(representacion[1])+(2**1)*int(representacion[2])+(2**0)*int(representacion[3]))-3\n",
      "    num=(2**-1)*int(representacion[4])+(2**-2)*int(representacion[5])+(2**-3)*int(representacion[6])+(2**-4)*int(representacion[7])+1*2**exp\n",
      "    return str(signo)+str(num)+\"x2^\"+str(exp)\n",
      "\n",
      "def tabla8a():\n",
      "    lista=[]\n",
      "    for n in xrange(127,0,-1):\n",
      "        representacion=\"1\"+decimalBinarioSS(n,7)\n",
      "        r=str(real(representacion))\n",
      "        f=flotante(representacion)\n",
      "        lista.append((representacion,r,f))\n",
      "    lista.append((\"00000000\",0.0,\"0\"))\n",
      "    for n in xrange(0,128,1):\n",
      "        representacion=\"0\"+decimalBinarioSS(n,7)\n",
      "        r=str(real(representacion))\n",
      "        f=flotante(representacion)\n",
      "        lista.append((representacion,r,f))\n",
      "    lista=np.array(lista)\n",
      "    return lista"
     ],
     "language": "python",
     "metadata": {},
     "outputs": [],
     "prompt_number": 207
    },
    {
     "cell_type": "code",
     "collapsed": false,
     "input": [
      "listaB=tabla8a()[:,0]\n",
      "def binarioDecimal(num,bits):\n",
      "    i=0\n",
      "    dec=0\n",
      "    for i in xrange(bits,0,-1):\n",
      "        aux=int(num[i-1])*(2**(bits-i))\n",
      "        dec+=aux\n",
      "    return dec\n",
      "\n",
      "def equis(listaB):\n",
      "    aux=[]\n",
      "    for bin in listaB:\n",
      "        aux.append(binarioDecimal(bin[1:4],3))\n",
      "    return aux\n",
      "x=equis(listaB)"
     ],
     "language": "python",
     "metadata": {},
     "outputs": [],
     "prompt_number": 215
    },
    {
     "cell_type": "code",
     "collapsed": false,
     "input": [
      "plt.hist(x,20)"
     ],
     "language": "python",
     "metadata": {},
     "outputs": [
      {
       "metadata": {},
       "output_type": "pyout",
       "prompt_number": 219,
       "text": [
        "(array([ 32.,   0.,  32.,   0.,   0.,  32.,   0.,   0.,  32.,   0.,   0.,\n",
        "         32.,   0.,   0.,  32.,   0.,   0.,  32.,   0.,  32.]),\n",
        " array([ 0.  ,  0.35,  0.7 ,  1.05,  1.4 ,  1.75,  2.1 ,  2.45,  2.8 ,\n",
        "         3.15,  3.5 ,  3.85,  4.2 ,  4.55,  4.9 ,  5.25,  5.6 ,  5.95,\n",
        "         6.3 ,  6.65,  7.  ]),\n",
        " <a list of 20 Patch objects>)"
       ]
      },
      {
       "metadata": {},
       "output_type": "display_data",
       "png": "[encoded data removed]",
       "text": [
        "<matplotlib.figure.Figure at 0x7fadefe51310>"
       ]
      }
     ],
     "prompt_number": 219
    },
    {
     "cell_type": "code",
     "collapsed": false,
     "input": [
      "\n",
      "def densidadBien(reales):\n",
      "    y=[]\n",
      "    for num in reales:\n",
      "        rs=str(num)\n",
      "        if rs[0]==\"-\":\n",
      "            if rs[2]==\".\":\n",
      "                y.append(int(rs[0:2]))\n",
      "            else:\n",
      "                y.append(int(rs[0:3]))\n",
      "        else:\n",
      "            if rs[1]==\".\":\n",
      "                y.append(int(rs[0:1]))\n",
      "            else:\n",
      "                y.append(int(rs[0:2]))\n",
      "    return y\n",
      "    \n",
      "y=densidadBien(tabla8a()[:,1].astype(str))"
     ],
     "language": "python",
     "metadata": {},
     "outputs": [],
     "prompt_number": 212
    },
    {
     "cell_type": "code",
     "collapsed": false,
     "input": [
      "\n",
      "\n",
      "n, bins, patches=plt.hist(y, 10 , normed=1, facecolor='g', alpha=0.75)\n",
      "\n",
      "plt.xlabel(u'D\u00edgitos',fontsize=20)\n",
      "plt.ylabel('Densidad',fontsize=20)\n",
      "plt.title(u'Densidad de D\u00edgitos por Entero',fontsize=20)\n",
      "#cuantos n\u00fameros en la tabla tienen 1.algo, cuantos 2.algo, etc\n"
     ],
     "language": "python",
     "metadata": {},
     "outputs": [
      {
       "metadata": {},
       "output_type": "pyout",
       "prompt_number": 213,
       "text": [
        "<matplotlib.text.Text at 0x7fadf08f83d0>"
       ]
      },
      {
       "metadata": {},
       "output_type": "display_data",
       "png": "[encoded data removed]",
       "text": [
        "<matplotlib.figure.Figure at 0x7fadf0d12410>"
       ]
      }
     ],
     "prompt_number": 213
    },
    {
     "cell_type": "heading",
     "level": 2,
     "metadata": {},
     "source": [
      "Problema 7"
     ]
    },
    {
     "cell_type": "markdown",
     "metadata": {},
     "source": [
      "Observa el c\u00f3digo de `GNU Octave` siguiente:"
     ]
    },
    {
     "cell_type": "code",
     "collapsed": false,
     "input": [
      "!cat strange_floats_sp.m"
     ],
     "language": "python",
     "metadata": {},
     "outputs": [
      {
       "output_type": "stream",
       "stream": "stdout",
       "text": [
        "x = single(77777.0)\r\n",
        "y = single(7.0)\r\n",
        "inv_y = 1.0 / y\r\n",
        "\r\n",
        "z = x / y\r\n",
        "z1 = x * inv_y\r\n",
        "\r\n",
        "if (z != z1)\r\n",
        "  sprintf(\"%1.3f != %1.3f\", z, z1)\r\n",
        "  sprintf(\"%1.30f != %1.30f\", z, z1)\r\n",
        "else\r\n",
        "  sprintf(\"%1.3f == %1.3f\", z, z1)\r\n",
        "  sprintf(\"%1.30f == %1.30f\", z, z1)\r\n",
        "endif\r\n"
       ]
      }
     ],
     "prompt_number": 10
    },
    {
     "cell_type": "markdown",
     "metadata": {},
     "source": [
      "- \u00bfQu\u00e9 hace este c\u00f3digo?\n",
      "- Abre el programa `GNU Octave` y ejec\u00fatalo en la consola. \u00bfResult\u00f3 lo que esperabas?\n",
      "- `z`,  `z1` \u00bfSon `SP` o `DP`?"
     ]
    },
    {
     "cell_type": "markdown",
     "metadata": {},
     "source": [
      "Este codigo checa si la division de 77777.0 entre 7.0 es lo mismo que multiplicar 77777.0 por la inversa de 7.0. Si el resultado es igual, imprime los dos resultados, primero con 3 decimales y luego con 30, y un signo de igual. Si no son iguales, imprime los dos resultados, primero con 3 decimales y luego con 30, pero !=.\n",
      "En teoria uno espera que sean iguales, pero depues de clase ya sabes que en algun momento va a fallar.\n",
      "Son SP"
     ]
    },
    {
     "cell_type": "markdown",
     "metadata": {},
     "source": [
      "<div class=\"alert alert-info\">\n",
      "**NOTA** `single` en `GNU Octave` y `Matlab` es la instrucci\u00f3n para indicarle al programa que trabaje en _single precision_.\n",
      "</div>"
     ]
    },
    {
     "cell_type": "markdown",
     "metadata": {},
     "source": [
      "<div class=\"alert alert-info\">\n",
      "**NOTA** Para ejecutar un _script_ en `GNU Octave` solo debes de teclear su nombre (obvio si lo tienes en tu carpeta)\n",
      "</div>"
     ]
    },
    {
     "cell_type": "markdown",
     "metadata": {},
     "source": [
      "- Comp\u00e1ralo con el _script_ `strange_floats_dp.m` \u00bfPor qu\u00e9 es la diferencia? Explica la salida de ambos programas."
     ]
    },
    {
     "cell_type": "code",
     "collapsed": false,
     "input": [
      "!cat strange_floats_dp.m"
     ],
     "language": "python",
     "metadata": {},
     "outputs": [
      {
       "output_type": "stream",
       "stream": "stdout",
       "text": [
        "x = 77777.0\r\n",
        "y = 7.0\r\n",
        "inv_y = 1.0 / y\r\n",
        "\r\n",
        "z = x / y\r\n",
        "z1 = x * inv_y\r\n",
        "\r\n",
        "if (z != z1)\r\n",
        "  sprintf(\"%1.3f != %1.3f\", z, z1)\r\n",
        "  sprintf(\"%1.30f != %1.30f\", z, z1)\r\n",
        "else\r\n",
        "  sprintf(\"%1.3f == %1.3f\", z, z1)\r\n",
        "  sprintf(\"%1.30f == %1.30f\", z, z1)\r\n",
        "endif\r\n"
       ]
      }
     ],
     "prompt_number": 11
    },
    {
     "cell_type": "markdown",
     "metadata": {},
     "source": [
      "Aqui si son iguales la multiplicacion por el inverso y la division.\n",
      "Son DP"
     ]
    },
    {
     "cell_type": "markdown",
     "metadata": {},
     "source": [
      "- `z`,  `z1` \u00bfSon `SP` o `DP`?"
     ]
    },
    {
     "cell_type": "heading",
     "level": 2,
     "metadata": {},
     "source": [
      "Problema 8"
     ]
    },
    {
     "cell_type": "markdown",
     "metadata": {},
     "source": [
      "La _varianza_ de $n$ datos se define como"
     ]
    },
    {
     "cell_type": "markdown",
     "metadata": {},
     "source": [
      "$s_n^2 = \\frac{1}{n - 1} \\sum^n_{i=1} (x_i - \\bar{x})^2$"
     ]
    },
    {
     "cell_type": "markdown",
     "metadata": {},
     "source": [
      "donde $\\bar{x}$"
     ]
    },
    {
     "cell_type": "markdown",
     "metadata": {},
     "source": [
      "$$\n",
      "\\bar{x} = \\frac{1}{n} \\sum^n_{i = 1} x_i\n",
      "$$"
     ]
    },
    {
     "cell_type": "markdown",
     "metadata": {},
     "source": [
      "Esta definici\u00f3n es poco eficiente ya que requiere dos pasadas a los datos para calcular la _varianza_."
     ]
    },
    {
     "cell_type": "markdown",
     "metadata": {},
     "source": [
      "* Crea una funci\u00f3n an\u00f3nima en `numpy` o `GNU/Octave` que reproduzca este algoritmo."
     ]
    },
    {
     "cell_type": "markdown",
     "metadata": {},
     "source": [
      "En los libros de texto se recomienda (o se reescribe) la definici\u00f3n de la siguiente manera:"
     ]
    },
    {
     "cell_type": "markdown",
     "metadata": {},
     "source": [
      "$$\n",
      "s_n^2 = \\frac{1}{n-1} \\left( \\sum^n_{i=1} x_i^2 -  \\frac{1}{n}\\left(\\sum^n_{i=1} x_i\\right)^2\\right)\n",
      "$$"
     ]
    },
    {
     "cell_type": "markdown",
     "metadata": {},
     "source": [
      "El cual es m\u00e1s eficiente computacionalmente hablando"
     ]
    },
    {
     "cell_type": "markdown",
     "metadata": {},
     "source": [
      "* Crea un programa en `numpy` o `GNU/Octave` que reproduzca este algoritmo."
     ]
    },
    {
     "cell_type": "markdown",
     "metadata": {},
     "source": [
      "* Sean los datos $10000, 10001, 10002$, Realiza el c\u00e1lculo a mano y comp\u00e1ralo con los dos algoritmos. Expl\u00edca las diferencias y el posible error."
     ]
    },
    {
     "cell_type": "code",
     "collapsed": false,
     "input": [
      "x=[10000.0,10001.0,10002.0]\n",
      "n=len(x)"
     ],
     "language": "python",
     "metadata": {},
     "outputs": [],
     "prompt_number": 236
    },
    {
     "cell_type": "code",
     "collapsed": false,
     "input": [
      "def media(n):\n",
      "    suma=0\n",
      "    for i in xrange(0,n,1):\n",
      "        suma+=x[i]\n",
      "    n=float(n)\n",
      "    return (1/n)*suma\n",
      "\n",
      "def varianza(n):\n",
      "    suma=0\n",
      "    for i in xrange(0,n,1):\n",
      "        suma+=(x[i]-media(n))**2\n",
      "    n=float(n)\n",
      "    return 1/(n-1)*suma"
     ],
     "language": "python",
     "metadata": {},
     "outputs": [],
     "prompt_number": 245
    },
    {
     "cell_type": "code",
     "collapsed": false,
     "input": [
      "def var2(n):\n",
      "    suma1=0\n",
      "    suma2=0\n",
      "    for i in xrange(0,n,1):\n",
      "        suma1+=(x[i]**2)\n",
      "    for i in xrange(0,n,1):\n",
      "        suma2+=x[i]\n",
      "    suma2c=suma2**2\n",
      "    n=float(n)\n",
      "    return (1/(n-1))*(suma1-((1/n)*suma2c))"
     ],
     "language": "python",
     "metadata": {},
     "outputs": [],
     "prompt_number": 252
    },
    {
     "cell_type": "code",
     "collapsed": false,
     "input": [
      "var2(n)"
     ],
     "language": "python",
     "metadata": {},
     "outputs": [
      {
       "metadata": {},
       "output_type": "pyout",
       "prompt_number": 253,
       "text": [
        "1.0"
       ]
      }
     ],
     "prompt_number": 253
    },
    {
     "cell_type": "heading",
     "level": 2,
     "metadata": {},
     "source": [
      "Problema 9"
     ]
    },
    {
     "cell_type": "markdown",
     "metadata": {},
     "source": [
      "* Carga la funci\u00f3n `factorial` definida en el archivo `factorial.py`"
     ]
    },
    {
     "cell_type": "markdown",
     "metadata": {},
     "source": [
      "La serie de Maclaurin es un caso especial de la serie de Taylor de una funci\u00f3n $f$ alrededor de $0$"
     ]
    },
    {
     "cell_type": "markdown",
     "metadata": {},
     "source": [
      "$$\n",
      "f(x) = f(0) + f'(0) + \\frac{f''(0)}{2!} + \\ldots = \\sum^\\infty_{i=0}\\frac{1}{n\\!}f^{(n)}(0)\n",
      "$$"
     ]
    },
    {
     "cell_type": "markdown",
     "metadata": {},
     "source": [
      "En particular, la funci\u00f3n exponencial tiene la siguiente forma:"
     ]
    },
    {
     "cell_type": "markdown",
     "metadata": {},
     "source": [
      "$$\n",
      "e^x = 1 + x + \\frac{x^2}{2} + \\ldots = \\sum^\\infty_{i=0} \\frac{x^i}{i\\!}\n",
      "$$"
     ]
    },
    {
     "cell_type": "markdown",
     "metadata": {},
     "source": [
      "* Usando la funci\u00f3n `factorial` crea la funci\u00f3n `exp_maclaurin(x,n)`, que imprima lo siguiente:"
     ]
    },
    {
     "cell_type": "markdown",
     "metadata": {},
     "source": [
      "    print \"%12s\\t%12s\\t%12s\\t%12s\\t%20s\\t%20s\" % (\"i\", \"x\", \"x^i\", \"factorial(i)\", \"x^i/factorial(i)\", \"suma\")\""
     ]
    },
    {
     "cell_type": "markdown",
     "metadata": {},
     "source": [
      "* Usando la funci\u00f3n `np.exp` calcula `0`, `1`, `5.5` y `-5.5`"
     ]
    },
    {
     "cell_type": "markdown",
     "metadata": {},
     "source": [
      "* Usando tu funci\u00f3n, calcula los mismos valores a orden 20 \u00bfEn cu\u00e1l falla? \u00bfPor qu\u00e9 crees que sea?"
     ]
    },
    {
     "cell_type": "markdown",
     "metadata": {},
     "source": [
      "* \u00bfC\u00f3mo resolver\u00edas este problema? Implementa tu soluci\u00f3n."
     ]
    },
    {
     "cell_type": "code",
     "collapsed": false,
     "input": [
      "from factorial import *\n",
      "\n",
      "def exp_maclaurin(x,n):\n",
      "    suma=0.0\n",
      "    for i in xrange(0,n+1,1):\n",
      "        suma+=(x**i)/factorial(i)\n",
      "        print \"%12s\\t%12s\\t%12s\\t%12s\\t%20s\\t%20s\" % (i, x, x**i, factorial(i), x**i/factorial(i), suma)\n",
      "    \n",
      "        "
     ],
     "language": "python",
     "metadata": {},
     "outputs": [],
     "prompt_number": 86
    },
    {
     "cell_type": "code",
     "collapsed": false,
     "input": [
      "np.exp(0), np.exp(1), np.exp(5.5), np.exp(-5.5)"
     ],
     "language": "python",
     "metadata": {},
     "outputs": [
      {
       "metadata": {},
       "output_type": "pyout",
       "prompt_number": 87,
       "text": [
        "(1.0, 2.7182818284590451, 244.69193226422038, 0.0040867714384640666)"
       ]
      }
     ],
     "prompt_number": 87
    },
    {
     "cell_type": "code",
     "collapsed": false,
     "input": [
      "print \"%12s\\t%12s\\t%12s\\t%12s\\t%20s\\t%20s\" % (\"i\", \"x\", \"x^i\", \"factorial(i)\", \"x^i/factorial(i)\", \"suma\")\n",
      "exp_maclaurin(0,20)\n",
      "print \"\"\n",
      "print \"%12s\\t%12s\\t%12s\\t%12s\\t%20s\\t%20s\" % (\"i\", \"x\", \"x^i\", \"factorial(i)\", \"x^i/factorial(i)\", \"suma\")\n",
      "exp_maclaurin(1,20)\n",
      "print \"\"\n",
      "print \"%12s\\t%12s\\t%12s\\t%12s\\t%20s\\t%20s\" % (\"i\", \"x\", \"x^i\", \"factorial(i)\", \"x^i/factorial(i)\", \"suma\")\n",
      "exp_maclaurin(5.5,20)\n",
      "print \"\"\n",
      "print \"%12s\\t%12s\\t%12s\\t%12s\\t%20s\\t%20s\" % (\"i\", \"x\", \"x^i\", \"factorial(i)\", \"x^i/factorial(i)\", \"suma\")\n",
      "exp_maclaurin(-5.5,20)"
     ],
     "language": "python",
     "metadata": {},
     "outputs": [
      {
       "output_type": "stream",
       "stream": "stdout",
       "text": [
        "           i\t           x\t         x^i\tfactorial(i)\t    x^i/factorial(i)\t                suma\n",
        "           0\t           0\t           1\t           1\t                   1\t                 1.0\n",
        "           1\t           0\t           0\t           1\t                   0\t                 1.0\n",
        "           2\t           0\t           0\t           2\t                   0\t                 1.0\n",
        "           3\t           0\t           0\t           6\t                   0\t                 1.0\n",
        "           4\t           0\t           0\t          24\t                   0\t                 1.0\n",
        "           5\t           0\t           0\t         120\t                   0\t                 1.0\n",
        "           6\t           0\t           0\t         720\t                   0\t                 1.0\n",
        "           7\t           0\t           0\t        5040\t                   0\t                 1.0\n",
        "           8\t           0\t           0\t       40320\t                   0\t                 1.0\n",
        "           9\t           0\t           0\t      362880\t                   0\t                 1.0\n",
        "          10\t           0\t           0\t     3628800\t                   0\t                 1.0\n",
        "          11\t           0\t           0\t    39916800\t                   0\t                 1.0\n",
        "          12\t           0\t           0\t   479001600\t                   0\t                 1.0\n",
        "          13\t           0\t           0\t  6227020800\t                   0\t                 1.0\n",
        "          14\t           0\t           0\t 87178291200\t                   0\t                 1.0\n",
        "          15\t           0\t           0\t1307674368000\t                   0\t                 1.0\n",
        "          16\t           0\t           0\t20922789888000\t                   0\t                 1.0\n",
        "          17\t           0\t           0\t355687428096000\t                   0\t                 1.0\n",
        "          18\t           0\t           0\t6402373705728000\t                   0\t                 1.0\n",
        "          19\t           0\t           0\t121645100408832000\t                   0\t                 1.0\n",
        "          20\t           0\t           0\t2432902008176640000\t                   0\t                 1.0\n",
        "\n",
        "           i\t           x\t         x^i\tfactorial(i)\t    x^i/factorial(i)\t                suma\n",
        "           0\t           1\t           1\t           1\t                   1\t                 1.0\n",
        "           1\t           1\t           1\t           1\t                   1\t                 2.0\n",
        "           2\t           1\t           1\t           2\t                   0\t                 2.0\n",
        "           3\t           1\t           1\t           6\t                   0\t                 2.0\n",
        "           4\t           1\t           1\t          24\t                   0\t                 2.0\n",
        "           5\t           1\t           1\t         120\t                   0\t                 2.0\n",
        "           6\t           1\t           1\t         720\t                   0\t                 2.0\n",
        "           7\t           1\t           1\t        5040\t                   0\t                 2.0\n",
        "           8\t           1\t           1\t       40320\t                   0\t                 2.0\n",
        "           9\t           1\t           1\t      362880\t                   0\t                 2.0\n",
        "          10\t           1\t           1\t     3628800\t                   0\t                 2.0\n",
        "          11\t           1\t           1\t    39916800\t                   0\t                 2.0\n",
        "          12\t           1\t           1\t   479001600\t                   0\t                 2.0\n",
        "          13\t           1\t           1\t  6227020800\t                   0\t                 2.0\n",
        "          14\t           1\t           1\t 87178291200\t                   0\t                 2.0\n",
        "          15\t           1\t           1\t1307674368000\t                   0\t                 2.0\n",
        "          16\t           1\t           1\t20922789888000\t                   0\t                 2.0\n",
        "          17\t           1\t           1\t355687428096000\t                   0\t                 2.0\n",
        "          18\t           1\t           1\t6402373705728000\t                   0\t                 2.0\n",
        "          19\t           1\t           1\t121645100408832000\t                   0\t                 2.0\n",
        "          20\t           1\t           1\t2432902008176640000\t                   0\t                 2.0\n",
        "\n",
        "           i\t           x\t         x^i\tfactorial(i)\t    x^i/factorial(i)\t                suma\n",
        "           0\t         5.5\t         1.0\t           1\t                 1.0\t                 1.0\n",
        "           1\t         5.5\t         5.5\t           1\t                 5.5\t                 6.5\n",
        "           2\t         5.5\t       30.25\t           2\t              15.125\t              21.625\n",
        "           3\t         5.5\t     166.375\t           6\t       27.7291666667\t       49.3541666667\n",
        "           4\t         5.5\t    915.0625\t          24\t       38.1276041667\t       87.4817708333\n",
        "           5\t         5.5\t  5032.84375\t         120\t       41.9403645833\t       129.422135417\n",
        "           6\t         5.5\t27680.640625\t         720\t       38.4453342014\t       167.867469618\n",
        "           7\t         5.5\t152243.523438\t        5040\t       30.2070483011\t       198.074517919\n",
        "           8\t         5.5\t837339.378906\t       40320\t        20.767345707\t       218.841863626\n",
        "           9\t         5.5\t4605366.58398\t      362880\t       12.6911557098\t       231.533019336\n",
        "          10\t         5.5\t25329516.2119\t     3628800\t       6.98013564041\t       238.513154976\n",
        "          11\t         5.5\t139312339.166\t    39916800\t        3.4900678202\t       242.003222797\n",
        "          12\t         5.5\t766217865.41\t   479001600\t       1.59961441759\t       243.602837214\n",
        "          13\t         5.5\t4214198259.76\t  6227020800\t      0.676759945905\t        244.27959716\n",
        "          14\t         5.5\t23178090428.7\t 87178291200\t      0.265869978748\t       244.545467139\n",
        "          15\t         5.5\t1.27479497358e+11\t1307674368000\t     0.0974856588744\t       244.642952798\n",
        "          16\t         5.5\t7.01137235467e+11\t20922789888000\t     0.0335106952381\t       244.676463493\n",
        "          17\t         5.5\t3.85625479507e+12\t355687428096000\t     0.0108416955182\t       244.687305188\n",
        "          18\t         5.5\t2.12094013729e+13\t6402373705728000\t    0.00331274029723\t       244.690617929\n",
        "          19\t         5.5\t1.16651707551e+14\t121645100408832000\t   0.000958951138671\t        244.69157688\n",
        "          20\t         5.5\t6.4158439153e+14\t2432902008176640000\t   0.000263711563135\t       244.691840591\n",
        "\n",
        "           i\t           x\t         x^i\tfactorial(i)\t    x^i/factorial(i)\t                suma\n",
        "           0\t        -5.5\t         1.0\t           1\t                 1.0\t                 1.0\n",
        "           1\t        -5.5\t        -5.5\t           1\t                -5.5\t                -4.5\n",
        "           2\t        -5.5\t       30.25\t           2\t              15.125\t              10.625\n",
        "           3\t        -5.5\t    -166.375\t           6\t      -27.7291666667\t      -17.1041666667\n",
        "           4\t        -5.5\t    915.0625\t          24\t       38.1276041667\t          21.0234375\n",
        "           5\t        -5.5\t -5032.84375\t         120\t      -41.9403645833\t      -20.9169270833\n",
        "           6\t        -5.5\t27680.640625\t         720\t       38.4453342014\t       17.5284071181"
       ]
      },
      {
       "output_type": "stream",
       "stream": "stdout",
       "text": [
        "\n",
        "           7\t        -5.5\t-152243.523438\t        5040\t      -30.2070483011\t       -12.678641183\n",
        "           8\t        -5.5\t837339.378906\t       40320\t        20.767345707\t       8.08870452396\n",
        "           9\t        -5.5\t-4605366.58398\t      362880\t      -12.6911557098\t      -4.60245118587\n",
        "          10\t        -5.5\t25329516.2119\t     3628800\t       6.98013564041\t       2.37768445454\n",
        "          11\t        -5.5\t-139312339.166\t    39916800\t       -3.4900678202\t      -1.11238336566\n",
        "          12\t        -5.5\t766217865.41\t   479001600\t       1.59961441759\t      0.487231051929\n",
        "          13\t        -5.5\t-4214198259.76\t  6227020800\t     -0.676759945905\t     -0.189528893976\n",
        "          14\t        -5.5\t23178090428.7\t 87178291200\t      0.265869978748\t     0.0763410847723\n",
        "          15\t        -5.5\t-1.27479497358e+11\t1307674368000\t    -0.0974856588744\t    -0.0211445741022\n",
        "          16\t        -5.5\t7.01137235467e+11\t20922789888000\t     0.0335106952381\t     0.0123661211359\n",
        "          17\t        -5.5\t-3.85625479507e+12\t355687428096000\t    -0.0108416955182\t    0.00152442561772\n",
        "          18\t        -5.5\t2.12094013729e+13\t6402373705728000\t    0.00331274029723\t    0.00483716591495\n",
        "          19\t        -5.5\t-1.16651707551e+14\t121645100408832000\t  -0.000958951138671\t    0.00387821477628\n",
        "          20\t        -5.5\t6.4158439153e+14\t2432902008176640000\t   0.000263711563135\t    0.00414192633941\n"
       ]
      }
     ],
     "prompt_number": 88
    },
    {
     "cell_type": "markdown",
     "metadata": {},
     "source": [
      "Falla en el exponente de 1 y en el de -5.5. En el caso de -5.5 es por redondeo (si redondeas 0.00408 te da 0.00410). Y en el caso de 1, falla porque los n\u00fameros son cada vez m\u00e1s chiquitos, por lo que la computadora los empieza a tomar como 0 (y s\u00f3lo suma los dos primeros resultados que son 1)."
     ]
    },
    {
     "cell_type": "code",
     "collapsed": false,
     "input": [
      "#el de 1 se arregla haciendolo float\n",
      "exp_maclaurin(1.0,20)\n",
      "#el de -5.5 se arregla con m\u00e1s t\u00e9rminos\n",
      "exp_maclaurin(-5.5,70)"
     ],
     "language": "python",
     "metadata": {},
     "outputs": [
      {
       "output_type": "stream",
       "stream": "stdout",
       "text": [
        "           0\t         1.0\t         1.0\t           1\t                 1.0\t                 1.0\n",
        "           1\t         1.0\t         1.0\t           1\t                 1.0\t                 2.0\n",
        "           2\t         1.0\t         1.0\t           2\t                 0.5\t                 2.5\n",
        "           3\t         1.0\t         1.0\t           6\t      0.166666666667\t       2.66666666667\n",
        "           4\t         1.0\t         1.0\t          24\t     0.0416666666667\t       2.70833333333\n",
        "           5\t         1.0\t         1.0\t         120\t    0.00833333333333\t       2.71666666667\n",
        "           6\t         1.0\t         1.0\t         720\t    0.00138888888889\t       2.71805555556\n",
        "           7\t         1.0\t         1.0\t        5040\t   0.000198412698413\t       2.71825396825\n",
        "           8\t         1.0\t         1.0\t       40320\t   2.48015873016e-05\t       2.71827876984\n",
        "           9\t         1.0\t         1.0\t      362880\t    2.7557319224e-06\t       2.71828152557\n",
        "          10\t         1.0\t         1.0\t     3628800\t    2.7557319224e-07\t       2.71828180115\n",
        "          11\t         1.0\t         1.0\t    39916800\t   2.50521083854e-08\t        2.7182818262\n",
        "          12\t         1.0\t         1.0\t   479001600\t   2.08767569879e-09\t       2.71828182829\n",
        "          13\t         1.0\t         1.0\t  6227020800\t   1.60590438368e-10\t       2.71828182845\n",
        "          14\t         1.0\t         1.0\t 87178291200\t   1.14707455977e-11\t       2.71828182846\n",
        "          15\t         1.0\t         1.0\t1307674368000\t   7.64716373182e-13\t       2.71828182846\n",
        "          16\t         1.0\t         1.0\t20922789888000\t   4.77947733239e-14\t       2.71828182846\n",
        "          17\t         1.0\t         1.0\t355687428096000\t   2.81145725435e-15\t       2.71828182846\n",
        "          18\t         1.0\t         1.0\t6402373705728000\t   1.56192069686e-16\t       2.71828182846\n",
        "          19\t         1.0\t         1.0\t121645100408832000\t   8.22063524662e-18\t       2.71828182846\n",
        "          20\t         1.0\t         1.0\t2432902008176640000\t   4.11031762331e-19\t       2.71828182846\n",
        "           0\t        -5.5\t         1.0\t           1\t                 1.0\t                 1.0\n",
        "           1\t        -5.5\t        -5.5\t           1\t                -5.5\t                -4.5\n",
        "           2\t        -5.5\t       30.25\t           2\t              15.125\t              10.625\n",
        "           3\t        -5.5\t    -166.375\t           6\t      -27.7291666667\t      -17.1041666667\n",
        "           4\t        -5.5\t    915.0625\t          24\t       38.1276041667\t          21.0234375\n",
        "           5\t        -5.5\t -5032.84375\t         120\t      -41.9403645833\t      -20.9169270833\n",
        "           6\t        -5.5\t27680.640625\t         720\t       38.4453342014\t       17.5284071181\n",
        "           7\t        -5.5\t-152243.523438\t        5040\t      -30.2070483011\t       -12.678641183\n",
        "           8\t        -5.5\t837339.378906\t       40320\t        20.767345707\t       8.08870452396\n",
        "           9\t        -5.5\t-4605366.58398\t      362880\t      -12.6911557098\t      -4.60245118587\n",
        "          10\t        -5.5\t25329516.2119\t     3628800\t       6.98013564041\t       2.37768445454\n",
        "          11\t        -5.5\t-139312339.166\t    39916800\t       -3.4900678202\t      -1.11238336566\n",
        "          12\t        -5.5\t766217865.41\t   479001600\t       1.59961441759\t      0.487231051929\n",
        "          13\t        -5.5\t-4214198259.76\t  6227020800\t     -0.676759945905\t     -0.189528893976\n",
        "          14\t        -5.5\t23178090428.7\t 87178291200\t      0.265869978748\t     0.0763410847723\n",
        "          15\t        -5.5\t-1.27479497358e+11\t1307674368000\t    -0.0974856588744\t    -0.0211445741022\n",
        "          16\t        -5.5\t7.01137235467e+11\t20922789888000\t     0.0335106952381\t     0.0123661211359\n",
        "          17\t        -5.5\t-3.85625479507e+12\t355687428096000\t    -0.0108416955182\t    0.00152442561772\n",
        "          18\t        -5.5\t2.12094013729e+13\t6402373705728000\t    0.00331274029723\t    0.00483716591495\n",
        "          19\t        -5.5\t-1.16651707551e+14\t121645100408832000\t  -0.000958951138671\t    0.00387821477628\n",
        "          20\t        -5.5\t6.4158439153e+14\t2432902008176640000\t   0.000263711563135\t    0.00414192633941\n",
        "          21\t        -5.5\t-3.52871415341e+15\t51090942171709440000\t  -6.90673141543e-05\t    0.00407285902526\n",
        "          22\t        -5.5\t1.94079278438e+16\t1124000727777607680000\t   1.72668285386e-05\t     0.0040901258538\n",
        "          23\t        -5.5\t-1.06743603141e+17\t25852016738884976640000\t  -4.12902421575e-06\t    0.00408599682958\n",
        "          24\t        -5.5\t5.87089817274e+17\t620448401733239439360000\t   9.46234716109e-07\t     0.0040869430643\n",
        "          25\t        -5.5\t-3.22899399501e+18\t15511210043330985984000000\t  -2.08171637544e-07\t    0.00408673489266\n",
        "          26\t        -5.5\t1.77594669725e+19\t403291461126605635584000000\t    4.4036307942e-08\t    0.00408677892897\n",
        "          27\t        -5.5\t-9.7677068349e+19\t10888869450418352160768000000\t  -8.97035902522e-09\t    0.00408676995861\n",
        "          28\t        -5.5\t5.37223875919e+20\t304888344611713860501504000000\t   1.76203480852e-09\t    0.00408677172064\n",
        "          29\t        -5.5\t-2.95473131756e+21\t8841761993739701954543616000000\t   -3.3417901541e-10\t    0.00408677138646\n",
        "          30\t        -5.5\t1.62510222466e+22\t265252859812191058636308480000000\t   6.12661528251e-11\t    0.00408677144773\n",
        "          31\t        -5.5\t-8.93806223561e+22\t8222838654177922817725562880000000\t  -1.08698013077e-11\t    0.00408677143686\n",
        "          32\t        -5.5\t4.91593422958e+23\t263130836933693530167218012160000000\t   1.86824709976e-12\t    0.00408677143873\n",
        "          33\t        -5.5\t-2.70376382627e+24\t8683317618811886495518194401280000000\t  -3.11374516626e-13\t    0.00408677143842\n",
        "          34\t        -5.5\t1.48707010445e+25\t295232799039604140847618609643520000000\t   5.03694071013e-14\t    0.00408677143847\n",
        "          35\t        -5.5\t-8.17888557447e+25\t10333147966386144929666651337523200000000\t   -7.9151925445e-15\t    0.00408677143846\n",
        "          36\t        -5.5\t4.49838706596e+26\t371993326789901217467999448150835200000000\t   1.20926552763e-15\t    0.00408677143846\n",
        "          37\t        -5.5\t-2.47411288628e+27\t13763753091226345046315979581580902400000000\t   -1.7975568654e-16\t    0.00408677143846\n",
        "          38\t        -5.5\t1.36076208745e+28\t523022617466601111760007224100074291200000000\t   2.60172704202e-17\t    0.00408677143846\n",
        "          39\t        -5.5\t-7.48419148099e+28\t20397882081197443358640281739902897356800000000\t  -3.66910223875e-18\t    0.00408677143846\n",
        "          40\t        -5.5\t4.11630531454e+29\t815915283247897734345611269596115894272000000000\t   5.04501557828e-19\t    0.00408677143846\n",
        "          41\t        -5.5\t-2.263967923e+30\t33452526613163807108170062053440751665152000000000\t  -6.76770382453e-20\t    0.00408677143846\n",
        "          42\t        -5.5\t1.24518235765e+31\t1405006117752879898543142606244511569936384000000000\t   8.86246929402e-21\t    0.00408677143846\n",
        "          43\t        -5.5\t-6.84850296707e+31\t60415263063373835637355132068513997507264512000000000\t  -1.13357165389e-21\t    0.00408677143846\n",
        "          44\t        -5.5\t3.76667663189e+32\t2658271574788448768043625811014615890319638528000000000\t   1.41696456736e-22\t    0.00408677143846\n",
        "          45\t        -5.5\t-2.07167214754e+33\t119622220865480194561963161495657715064383733760000000000\t  -1.73184558233e-23\t    0.00408677143846\n",
        "          46\t        -5.5\t1.13941968115e+34\t5502622159812088949850305428800254892961651752960000000000\t   2.07068493539e-24\t    0.00408677143846\n",
        "          47\t        -5.5\t-6.26680824631e+34\t258623241511168180642964355153611979969197632389120000000000\t  -2.42314194567e-25\t    0.00408677143846\n",
        "          48\t        -5.5\t3.44674453547e+35\t12413915592536072670862289047373375038521486354677760000000000\t   2.77651681275e-26\t    0.00408677143846\n",
        "          49\t        -5.5\t-1.89570949451e+36\t608281864034267560872252163321295376887552831379210240000000000\t  -3.11649846329e-27\t    0.00408677143846\n",
        "          50\t        -5.5\t1.04264022198e+37\t30414093201713378043612608166064768844377641568960512000000000000\t   3.42814830962e-28\t    0.00408677143846\n",
        "          51\t        -5.5\t-5.73452122089e+37\t1551118753287382280224243016469303211063259720016986112000000000000\t  -3.69702268684e-29\t    0.00408677143846\n",
        "          52\t        -5.5\t3.15398667149e+38\t80658175170943878571660636856403766975289505440883277824000000000000\t   3.91031245723e-30\t    0.00408677143846\n",
        "          53\t        -5.5\t-1.73469266932e+39\t4274883284060025564298013753389399649690343788366813724672000000000000\t  -4.05787141789e-31\t    0.00408677143846\n",
        "          54\t        -5.5\t9.54080968125e+39\t230843697339241380472092742683027581083278564571807941132288000000000000\t   4.13301718488e-32\t    0.00408677143846\n",
        "          55\t        -5.5\t-5.24744532469e+40\t12696403353658275925965100847566516959580321051449436762275840000000000000\t  -4.13301718488e-33\t    0.00408677143846\n",
        "          56\t        -5.5\t2.88609492858e+41\t710998587804863451854045647463724949736497978881168458687447040000000000000\t   4.05921330658e-34\t    0.00408677143846\n",
        "          57\t        -5.5\t-1.58735221072e+42\t40526919504877216755680601905432322134980384796226602145184481280000000000000\t  -3.91678476951e-35\t    0.00408677143846\n",
        "          58\t        -5.5\t8.73043715895e+42\t2350561331282878571829474910515074683828862318181142924420699914240000000000000\t   3.71419245384e-36\t    0.00408677143846\n",
        "          59\t        -5.5\t-4.80174043742e+43\t138683118545689835737939019720389406345902876772687432540821294940160000000000000\t  -3.46238279596e-37\t    0.00408677143846\n",
        "          60\t        -5.5\t2.64095724058e+44\t8320987112741390144276341183223364380754172606361245952449277696409600000000000000\t   3.17385089629e-38\t    0.00408677143846\n",
        "          61\t        -5.5\t-1.45252648232e+45\t507580213877224798800856812176625227226004528988036003099405939480985600000000000000\t  -2.86166884092e-39\t    0.00408677143846\n",
        "          62\t        -5.5\t7.98889565276e+45\t31469973260387937525653122354950764088012280797258232192163168247821107200000000000000\t   2.53857719759e-40\t    0.00408677143846\n",
        "          63\t        -5.5\t-4.39389260902e+46\t1982608315404440064116146708361898137544773690227268628106279599612729753600000000000000\t  -2.21621818837e-41\t    0.00408677143846\n",
        "          64\t        -5.5\t2.41664093496e+47\t126886932185884164103433389335161480802865516174545192198801894375214704230400000000000000\t   1.90456250563e-42\t    0.00408677143846\n",
        "          65\t        -5.5\t-1.32915251423e+48\t8247650592082470666723170306785496252186258551345437492922123134388955774976000000000000000\t  -1.61155288938e-43\t    0.00408677143846\n",
        "          66\t        -5.5\t7.31033882825e+48\t544344939077443064003729240247842752644293064388798874532860126869671081148416000000000000000\t   1.34296074115e-44\t    0.00408677143846\n",
        "          67\t        -5.5\t-4.02068635554e+49\t36471110918188685288249859096605464427167635314049524593701628500267962436943872000000000000000\t  -1.10243045915e-45\t    0.00408677143846\n",
        "          68\t        -5.5\t2.21137749555e+50\t2480035542436830599600990418569171581047399201355367672371710738018221445712183296000000000000000\t   8.91671694904e-47\t    0.00408677143846\n",
        "          69\t        -5.5\t-1.21625762255e+51\t171122452428141311372468338881272839092270544893520369393648040923257279754140647424000000000000000\t  -7.10752800286e-48\t    0.00408677143846\n",
        "          70\t        -5.5\t6.68941692403e+51\t11978571669969891796072783721689098736458938142546425857555362864628009582789845319680000000000000000\t   5.58448628796e-49\t    0.00408677143846\n"
       ]
      }
     ],
     "prompt_number": 125
    },
    {
     "cell_type": "markdown",
     "metadata": {},
     "source": [
      "<div class=\"alert alert-info\">\n",
      "**HINT** Recuerda las leyes de los exponentes\n",
      "</div>"
     ]
    },
    {
     "cell_type": "heading",
     "level": 2,
     "metadata": {},
     "source": [
      "Problema 10"
     ]
    },
    {
     "cell_type": "markdown",
     "metadata": {},
     "source": [
      "- \u00bfQu\u00e9 pasa si usas 16 bits, 32 bits o 64 bits?\n",
      "- Implementa el **problema 8** usando el otro lenguaje que no usaste \u00bfEl resultado es diferente? "
     ]
    },
    {
     "cell_type": "markdown",
     "metadata": {},
     "source": [
      "octave:1> x=[10000, 10001, 10002]\n",
      "x =\n",
      "\n",
      "   10000   10001   10002\n",
      "\n",
      "octave:2> n=length(x)\n",
      "n =  3\n",
      "octave:3> media=sum(x)/n\n",
      "media =  10001\n",
      "octave:4> y=x-media\n",
      "y =\n",
      "\n",
      "  -1   0   1\n",
      "\n",
      "octave:5> y2=y.^2\n",
      "y2 =\n",
      "\n",
      "   1   0   1\n",
      "\n",
      "octave:6> varianza=sum(y2)/(n-1)\n",
      "varianza =  1\n",
      "octave:7>"
     ]
    },
    {
     "cell_type": "markdown",
     "metadata": {},
     "source": [
      "octave:7> x\n",
      "x =\n",
      "\n",
      "   10000   10001   10002\n",
      "\n",
      "octave:8> x2=x.^2\n",
      "x2 =\n",
      "\n",
      "   100000000   100020001   100040004\n",
      "\n",
      "octave:9> varianza=(sum(x2)-((sum(x)^2)/n))/(n-1)\n",
      "varianza =  1\n",
      "octave:10>"
     ]
    }
   ],
   "metadata": {}
  }
 ]
}