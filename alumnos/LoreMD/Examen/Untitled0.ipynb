{
 "metadata": {
  "name": "",
  "signature": "sha256:16ea00514a929ae8e61196e985b9ee11d0afcaa24d8b20daf083ce271537ec06"
 },
 "nbformat": 3,
 "nbformat_minor": 0,
 "worksheets": []
}