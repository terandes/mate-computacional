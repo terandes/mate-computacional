{
 "metadata": {
  "name": "",
  "signature": "sha256:403df5bda95ea2594b7b61564ba1f4944b4ed5820f721b65900426902d4e4384"
 },
 "nbformat": 3,
 "nbformat_minor": 0,
 "worksheets": [
  {
   "cells": [
    {
     "cell_type": "code",
     "collapsed": false,
     "input": [
      "from sympy.interactive import printing\n",
      "printing.init_printing(use_latex=True)"
     ],
     "language": "python",
     "metadata": {},
     "outputs": [],
     "prompt_number": 188
    },
    {
     "cell_type": "heading",
     "level": 3,
     "metadata": {},
     "source": [
      "Problema 7"
     ]
    },
    {
     "cell_type": "code",
     "collapsed": false,
     "input": [
      "x = single(77777.0)\n",
      "y = single(7.0)\n",
      "inv_y = 1.0 / y\n",
      "\n",
      "z = x / y\n",
      "z1 = x * inv_y\n",
      "\n",
      "if (z != z1)\n",
      "  sprintf(\"%1.3f != %1.3f\", z, z1)\n",
      "  sprintf(\"%1.30f != %1.30f\", z, z1)\n",
      "else\n",
      "  sprintf(\"%1.3f == %1.3f\", z, z1)\n",
      "  sprintf(\"%1.30f == %1.30f\", z, z1)\n",
      "endif"
     ],
     "language": "python",
     "metadata": {},
     "outputs": [
      {
       "ename": "SyntaxError",
       "evalue": "invalid syntax (<ipython-input-20-14dbd1e1a55b>, line 8)",
       "output_type": "pyerr",
       "traceback": [
        "\u001b[1;36m  File \u001b[1;32m\"<ipython-input-20-14dbd1e1a55b>\"\u001b[1;36m, line \u001b[1;32m8\u001b[0m\n\u001b[1;33m    if (z != z1)\u001b[0m\n\u001b[1;37m                ^\u001b[0m\n\u001b[1;31mSyntaxError\u001b[0m\u001b[1;31m:\u001b[0m invalid syntax\n"
       ]
      }
     ],
     "prompt_number": 20
    },
    {
     "cell_type": "markdown",
     "metadata": {},
     "source": [
      "El codigo verifica que si z es distinto a z1 entonces imprime z y z1 con 3 decimales, despues los imprime con 30 decimales,\n",
      "si son iguales los imprime a 3 decimales y luego a 30 decimales. En este caso vemos que no son iguales y que tanto z como z1 es SP."
     ]
    },
    {
     "cell_type": "code",
     "collapsed": false,
     "input": [
      "x = 77777.0\n",
      "y = 7.0\n",
      "inv_y = 1.0 / y\n",
      "\n",
      "z = x / y\n",
      "z1 = x * inv_y\n",
      "\n",
      "if (z != z1)\n",
      "  sprintf(\"%1.3f != %1.3f\", z, z1)\n",
      "  sprintf(\"%1.30f != %1.30f\", z, z1)\n",
      "else\n",
      "  sprintf(\"%1.3f == %1.3f\", z, z1)\n",
      "  sprintf(\"%1.30f == %1.30f\", z, z1)\n",
      "endif"
     ],
     "language": "python",
     "metadata": {},
     "outputs": []
    },
    {
     "cell_type": "markdown",
     "metadata": {},
     "source": [
      "En este programa tanto z como z1 son DP lo que le da a la computadora m\u00e1s decimales\n",
      "con los cuales trabajar y acercarse a el resultado correcto."
     ]
    },
    {
     "cell_type": "heading",
     "level": 3,
     "metadata": {},
     "source": [
      "Problema 8"
     ]
    },
    {
     "cell_type": "code",
     "collapsed": false,
     "input": [
      "f = lambda x,y,z: (x+y+z)/3.0\n",
      "g = lambda x,y,z: ((x-f(x,y,z))**2+(y-f(x,y,z))**2+(z-f(x,y,z))**2)/3.0"
     ],
     "language": "python",
     "metadata": {},
     "outputs": [],
     "prompt_number": 125
    },
    {
     "cell_type": "code",
     "collapsed": false,
     "input": [
      "g(1000,1001,1002)"
     ],
     "language": "python",
     "metadata": {},
     "outputs": [
      {
       "latex": [
        "$$0.666666666667$$"
       ],
       "metadata": {},
       "output_type": "pyout",
       "png": "[encoded data removed]",
       "prompt_number": 126,
       "text": [
        "0.666666666667"
       ]
      }
     ],
     "prompt_number": 126
    },
    {
     "cell_type": "code",
     "collapsed": false,
     "input": [
      "h = lambda x,y,z: ((x**2+y**2+z**2)/3.0)-(f(x,y,z)**2)"
     ],
     "language": "python",
     "metadata": {},
     "outputs": [],
     "prompt_number": 127
    },
    {
     "cell_type": "code",
     "collapsed": false,
     "input": [
      "h(1000,1001,1002)"
     ],
     "language": "python",
     "metadata": {},
     "outputs": [
      {
       "latex": [
        "$$0.666666666628$$"
       ],
       "metadata": {},
       "output_type": "pyout",
       "png": "[encoded data removed]",
       "prompt_number": 128,
       "text": [
        "0.666666666628"
       ]
      }
     ],
     "prompt_number": 128
    },
    {
     "cell_type": "heading",
     "level": 3,
     "metadata": {},
     "source": [
      "Problema 9"
     ]
    },
    {
     "cell_type": "code",
     "collapsed": false,
     "input": [
      "def factorial(i):\n",
      "    if i == 0:\n",
      "        return 1\n",
      "    else:\n",
      "        return i * factorial(i-1)\n",
      "def exp_maclaurin(x,i):\n",
      "    if i==0:\n",
      "        return 1\n",
      "    else:\n",
      "         return (x**i)/factorial(i)+exp_maclaurin(x,i-1)"
     ],
     "language": "python",
     "metadata": {},
     "outputs": [],
     "prompt_number": 179
    },
    {
     "cell_type": "code",
     "collapsed": false,
     "input": [
      "exp_maclaurin(0.1,20)"
     ],
     "language": "python",
     "metadata": {},
     "outputs": [
      {
       "latex": [
        "$$1.10517091808$$"
       ],
       "metadata": {},
       "output_type": "pyout",
       "png": "[encoded data removed]",
       "prompt_number": 197,
       "text": [
        "1.10517091808"
       ]
      }
     ],
     "prompt_number": 197
    },
    {
     "cell_type": "code",
     "collapsed": false,
     "input": [
      "exp_maclaurin(5.5,20)"
     ],
     "language": "python",
     "metadata": {},
     "outputs": [
      {
       "latex": [
        "$$244.691840591$$"
       ],
       "metadata": {},
       "output_type": "pyout",
       "png": "[encoded data removed]",
       "prompt_number": 190,
       "text": [
        "244.691840591"
       ]
      }
     ],
     "prompt_number": 190
    },
    {
     "cell_type": "code",
     "collapsed": false,
     "input": [
      "exp_maclaurin(-5.5,20)"
     ],
     "language": "python",
     "metadata": {},
     "outputs": [
      {
       "latex": [
        "$$0.00408677143846$$"
       ],
       "metadata": {},
       "output_type": "pyout",
       "png": "[encoded data removed]",
       "prompt_number": 198,
       "text": [
        "0.00408677143846"
       ]
      }
     ],
     "prompt_number": 198
    },
    {
     "cell_type": "markdown",
     "metadata": {},
     "source": [
      "La segunda aproximaci\u00f3n es la menos acertada seguida de la tercera, debido a el n\u00famero de iteraciones, ya que al utilizar 100, e resultado se aproxima mejor, aunque hay un error inherente a las operaciones"
     ]
    }
   ],
   "metadata": {}
  }
 ]
}