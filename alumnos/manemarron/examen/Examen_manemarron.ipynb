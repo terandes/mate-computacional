{
 "metadata": {
  "name": "",
  "signature": "sha256:bbeca9fceaebe021d19399c0bca297f29f5a0682e1b6e26f130b555bc58ff9e8"
 },
 "nbformat": 3,
 "nbformat_minor": 0,
 "worksheets": [
  {
   "cells": [
    {
     "cell_type": "heading",
     "level": 1,
     "metadata": {},
     "source": [
      "Examen"
     ]
    },
    {
     "cell_type": "code",
     "collapsed": false,
     "input": [
      "%matplotlib inline\n",
      "import numpy as np\n",
      "import matplotlib.pyplot as plt"
     ],
     "language": "python",
     "metadata": {},
     "outputs": [],
     "prompt_number": 1
    },
    {
     "cell_type": "heading",
     "level": 3,
     "metadata": {},
     "source": [
      "Pregunta 6"
     ]
    },
    {
     "cell_type": "code",
     "collapsed": false,
     "input": [
      "def num_8bits():\n",
      "    enteros=[]\n",
      "    binades=[]\n",
      "    print \"%s\\t\\t\\t%s\\t\\t%s\"%(\"Real\",\"Representacion\",\"Flotante\")\n",
      "    for i in xrange(2**8):\n",
      "        repr=str(format(i,\"#010b\"))[2:]\n",
      "        f1=1\n",
      "        for j in xrange(4):\n",
      "            f1+=int(repr[j+1:j+2])*2**-(j+1)\n",
      "        exp=0\n",
      "        for j in xrange(3):\n",
      "            exp+=int(repr[j+5:j+6])*2**(2-j)\n",
      "        exp-=3\n",
      "        binades.append(exp)\n",
      "        real=str(f1)+\" x 2^\"+str(exp)\n",
      "        if(int(repr[0])==1): real=\"-\"+real\n",
      "        flot=f1*2**(exp)*(-1)**int(repr[0])\n",
      "        enteros.append(int(flot))\n",
      "        print \"%s\\t\\t%s\\t\\t%s\"%(repr,real,flot)\n",
      "    return enteros,binades"
     ],
     "language": "python",
     "metadata": {},
     "outputs": [],
     "prompt_number": 317
    },
    {
     "cell_type": "code",
     "collapsed": false,
     "input": [
      "enteros,binades=num_8bits()"
     ],
     "language": "python",
     "metadata": {},
     "outputs": [
      {
       "output_type": "stream",
       "stream": "stdout",
       "text": [
        "Real\t\t\tRepresentacion\t\tFlotante\n",
        "00000000\t\t1.0 x 2^-3\t\t0.125\n",
        "00000001\t\t1.0 x 2^-2\t\t0.25\n",
        "00000010\t\t1.0 x 2^-1\t\t0.5\n",
        "00000011\t\t1.0 x 2^0\t\t1.0\n",
        "00000100\t\t1.0 x 2^1\t\t2.0\n",
        "00000101\t\t1.0 x 2^2\t\t4.0\n",
        "00000110\t\t1.0 x 2^3\t\t8.0\n",
        "00000111\t\t1.0 x 2^4\t\t16.0\n",
        "00001000\t\t1.0625 x 2^-3\t\t0.1328125\n",
        "00001001\t\t1.0625 x 2^-2\t\t0.265625\n",
        "00001010\t\t1.0625 x 2^-1\t\t0.53125\n",
        "00001011\t\t1.0625 x 2^0\t\t1.0625\n",
        "00001100\t\t1.0625 x 2^1\t\t2.125\n",
        "00001101\t\t1.0625 x 2^2\t\t4.25\n",
        "00001110\t\t1.0625 x 2^3\t\t8.5\n",
        "00001111\t\t1.0625 x 2^4\t\t17.0\n",
        "00010000\t\t1.125 x 2^-3\t\t0.140625\n",
        "00010001\t\t1.125 x 2^-2\t\t0.28125\n",
        "00010010\t\t1.125 x 2^-1\t\t0.5625\n",
        "00010011\t\t1.125 x 2^0\t\t1.125\n",
        "00010100\t\t1.125 x 2^1\t\t2.25\n",
        "00010101\t\t1.125 x 2^2\t\t4.5\n",
        "00010110\t\t1.125 x 2^3\t\t9.0\n",
        "00010111\t\t1.125 x 2^4\t\t18.0\n",
        "00011000\t\t1.1875 x 2^-3\t\t0.1484375\n",
        "00011001\t\t1.1875 x 2^-2\t\t0.296875\n",
        "00011010\t\t1.1875 x 2^-1\t\t0.59375\n",
        "00011011\t\t1.1875 x 2^0\t\t1.1875\n",
        "00011100\t\t1.1875 x 2^1\t\t2.375\n",
        "00011101\t\t1.1875 x 2^2\t\t4.75\n",
        "00011110\t\t1.1875 x 2^3\t\t9.5\n",
        "00011111\t\t1.1875 x 2^4\t\t19.0\n",
        "00100000\t\t1.25 x 2^-3\t\t0.15625\n",
        "00100001\t\t1.25 x 2^-2\t\t0.3125\n",
        "00100010\t\t1.25 x 2^-1\t\t0.625\n",
        "00100011\t\t1.25 x 2^0\t\t1.25\n",
        "00100100\t\t1.25 x 2^1\t\t2.5\n",
        "00100101\t\t1.25 x 2^2\t\t5.0\n",
        "00100110\t\t1.25 x 2^3\t\t10.0\n",
        "00100111\t\t1.25 x 2^4\t\t20.0\n",
        "00101000\t\t1.3125 x 2^-3\t\t0.1640625\n",
        "00101001\t\t1.3125 x 2^-2\t\t0.328125\n",
        "00101010\t\t1.3125 x 2^-1\t\t0.65625\n",
        "00101011\t\t1.3125 x 2^0\t\t1.3125\n",
        "00101100\t\t1.3125 x 2^1\t\t2.625\n",
        "00101101\t\t1.3125 x 2^2\t\t5.25\n",
        "00101110\t\t1.3125 x 2^3\t\t10.5\n",
        "00101111\t\t1.3125 x 2^4\t\t21.0\n",
        "00110000\t\t1.375 x 2^-3\t\t0.171875\n",
        "00110001\t\t1.375 x 2^-2\t\t0.34375\n",
        "00110010\t\t1.375 x 2^-1\t\t0.6875\n",
        "00110011\t\t1.375 x 2^0\t\t1.375\n",
        "00110100\t\t1.375 x 2^1\t\t2.75\n",
        "00110101\t\t1.375 x 2^2\t\t5.5\n",
        "00110110\t\t1.375 x 2^3\t\t11.0\n",
        "00110111\t\t1.375 x 2^4\t\t22.0\n",
        "00111000\t\t1.4375 x 2^-3\t\t0.1796875\n",
        "00111001\t\t1.4375 x 2^-2\t\t0.359375\n",
        "00111010\t\t1.4375 x 2^-1\t\t0.71875\n",
        "00111011\t\t1.4375 x 2^0\t\t1.4375\n",
        "00111100\t\t1.4375 x 2^1\t\t2.875\n",
        "00111101\t\t1.4375 x 2^2\t\t5.75\n",
        "00111110\t\t1.4375 x 2^3\t\t11.5\n",
        "00111111\t\t1.4375 x 2^4\t\t23.0\n",
        "01000000\t\t1.5 x 2^-3\t\t0.1875\n",
        "01000001\t\t1.5 x 2^-2\t\t0.375\n",
        "01000010\t\t1.5 x 2^-1\t\t0.75\n",
        "01000011\t\t1.5 x 2^0\t\t1.5\n",
        "01000100\t\t1.5 x 2^1\t\t3.0\n",
        "01000101\t\t1.5 x 2^2\t\t6.0\n",
        "01000110\t\t1.5 x 2^3\t\t12.0\n",
        "01000111\t\t1.5 x 2^4\t\t24.0\n",
        "01001000\t\t1.5625 x 2^-3\t\t0.1953125\n",
        "01001001\t\t1.5625 x 2^-2\t\t0.390625\n",
        "01001010\t\t1.5625 x 2^-1\t\t0.78125\n",
        "01001011\t\t1.5625 x 2^0\t\t1.5625\n",
        "01001100\t\t1.5625 x 2^1\t\t3.125\n",
        "01001101\t\t1.5625 x 2^2\t\t6.25\n",
        "01001110\t\t1.5625 x 2^3\t\t12.5\n",
        "01001111\t\t1.5625 x 2^4\t\t25.0\n",
        "01010000\t\t1.625 x 2^-3\t\t0.203125\n",
        "01010001\t\t1.625 x 2^-2\t\t0.40625\n",
        "01010010\t\t1.625 x 2^-1\t\t0.8125\n",
        "01010011\t\t1.625 x 2^0\t\t1.625\n",
        "01010100\t\t1.625 x 2^1\t\t3.25\n",
        "01010101\t\t1.625 x 2^2\t\t6.5\n",
        "01010110\t\t1.625 x 2^3\t\t13.0\n",
        "01010111\t\t1.625 x 2^4\t\t26.0\n",
        "01011000\t\t1.6875 x 2^-3\t\t0.2109375\n",
        "01011001\t\t1.6875 x 2^-2\t\t0.421875\n",
        "01011010\t\t1.6875 x 2^-1\t\t0.84375\n",
        "01011011\t\t1.6875 x 2^0\t\t1.6875\n",
        "01011100\t\t1.6875 x 2^1\t\t3.375\n",
        "01011101\t\t1.6875 x 2^2\t\t6.75\n",
        "01011110\t\t1.6875 x 2^3\t\t13.5\n",
        "01011111\t\t1.6875 x 2^4\t\t27.0\n",
        "01100000\t\t1.75 x 2^-3\t\t0.21875\n",
        "01100001\t\t1.75 x 2^-2\t\t0.4375\n",
        "01100010\t\t1.75 x 2^-1\t\t0.875\n",
        "01100011\t\t1.75 x 2^0\t\t1.75\n",
        "01100100\t\t1.75 x 2^1\t\t3.5\n",
        "01100101\t\t1.75 x 2^2\t\t7.0\n",
        "01100110\t\t1.75 x 2^3\t\t14.0\n",
        "01100111\t\t1.75 x 2^4\t\t28.0\n",
        "01101000\t\t1.8125 x 2^-3\t\t0.2265625\n",
        "01101001\t\t1.8125 x 2^-2\t\t0.453125\n",
        "01101010\t\t1.8125 x 2^-1\t\t0.90625\n",
        "01101011\t\t1.8125 x 2^0\t\t1.8125\n",
        "01101100\t\t1.8125 x 2^1\t\t3.625\n",
        "01101101\t\t1.8125 x 2^2\t\t7.25\n",
        "01101110\t\t1.8125 x 2^3\t\t14.5\n",
        "01101111\t\t1.8125 x 2^4\t\t29.0\n",
        "01110000\t\t1.875 x 2^-3\t\t0.234375\n",
        "01110001\t\t1.875 x 2^-2\t\t0.46875\n",
        "01110010\t\t1.875 x 2^-1\t\t0.9375\n",
        "01110011\t\t1.875 x 2^0\t\t1.875\n",
        "01110100\t\t1.875 x 2^1\t\t3.75\n",
        "01110101\t\t1.875 x 2^2\t\t7.5\n",
        "01110110\t\t1.875 x 2^3\t\t15.0\n",
        "01110111\t\t1.875 x 2^4\t\t30.0\n",
        "01111000\t\t1.9375 x 2^-3\t\t0.2421875\n",
        "01111001\t\t1.9375 x 2^-2\t\t0.484375\n",
        "01111010\t\t1.9375 x 2^-1\t\t0.96875\n",
        "01111011\t\t1.9375 x 2^0\t\t1.9375\n",
        "01111100\t\t1.9375 x 2^1\t\t3.875\n",
        "01111101\t\t1.9375 x 2^2\t\t7.75\n",
        "01111110\t\t1.9375 x 2^3\t\t15.5\n",
        "01111111\t\t1.9375 x 2^4\t\t31.0\n",
        "10000000\t\t-1.0 x 2^-3\t\t-0.125\n",
        "10000001\t\t-1.0 x 2^-2\t\t-0.25\n",
        "10000010\t\t-1.0 x 2^-1\t\t-0.5\n",
        "10000011\t\t-1.0 x 2^0\t\t-1.0\n",
        "10000100\t\t-1.0 x 2^1\t\t-2.0\n",
        "10000101\t\t-1.0 x 2^2\t\t-4.0\n",
        "10000110\t\t-1.0 x 2^3\t\t-8.0\n",
        "10000111\t\t-1.0 x 2^4\t\t-16.0\n",
        "10001000\t\t-1.0625 x 2^-3\t\t-0.1328125\n",
        "10001001\t\t-1.0625 x 2^-2\t\t-0.265625\n",
        "10001010\t\t-1.0625 x 2^-1\t\t-0.53125\n",
        "10001011\t\t-1.0625 x 2^0\t\t-1.0625\n",
        "10001100\t\t-1.0625 x 2^1\t\t-2.125\n",
        "10001101\t\t-1.0625 x 2^2\t\t-4.25\n",
        "10001110\t\t-1.0625 x 2^3\t\t-8.5\n",
        "10001111\t\t-1.0625 x 2^4\t\t-17.0\n",
        "10010000\t\t-1.125 x 2^-3\t\t-0.140625\n",
        "10010001\t\t-1.125 x 2^-2\t\t-0.28125\n",
        "10010010\t\t-1.125 x 2^-1\t\t-0.5625\n",
        "10010011\t\t-1.125 x 2^0\t\t-1.125\n",
        "10010100\t\t-1.125 x 2^1\t\t-2.25\n",
        "10010101\t\t-1.125 x 2^2\t\t-4.5\n",
        "10010110\t\t-1.125 x 2^3\t\t-9.0\n",
        "10010111\t\t-1.125 x 2^4\t\t-18.0\n",
        "10011000\t\t-1.1875 x 2^-3\t\t-0.1484375\n",
        "10011001\t\t-1.1875 x 2^-2\t\t-0.296875\n",
        "10011010\t\t-1.1875 x 2^-1\t\t-0.59375\n",
        "10011011\t\t-1.1875 x 2^0\t\t-1.1875\n",
        "10011100\t\t-1.1875 x 2^1\t\t-2.375\n",
        "10011101\t\t-1.1875 x 2^2\t\t-4.75\n",
        "10011110\t\t-1.1875 x 2^3\t\t-9.5\n",
        "10011111\t\t-1.1875 x 2^4\t\t-19.0\n",
        "10100000\t\t-1.25 x 2^-3\t\t-0.15625\n",
        "10100001\t\t-1.25 x 2^-2\t\t-0.3125\n",
        "10100010\t\t-1.25 x 2^-1\t\t-0.625\n",
        "10100011\t\t-1.25 x 2^0\t\t-1.25\n",
        "10100100\t\t-1.25 x 2^1\t\t-2.5\n",
        "10100101\t\t-1.25 x 2^2\t\t-5.0\n",
        "10100110\t\t-1.25 x 2^3\t\t-10.0\n",
        "10100111\t\t-1.25 x 2^4\t\t-20.0\n",
        "10101000\t\t-1.3125 x 2^-3\t\t-0.1640625\n",
        "10101001\t\t-1.3125 x 2^-2\t\t-0.328125\n",
        "10101010\t\t-1.3125 x 2^-1\t\t-0.65625\n",
        "10101011\t\t-1.3125 x 2^0\t\t-1.3125\n",
        "10101100\t\t-1.3125 x 2^1\t\t-2.625\n",
        "10101101\t\t-1.3125 x 2^2\t\t-5.25\n",
        "10101110\t\t-1.3125 x 2^3\t\t-10.5\n",
        "10101111\t\t-1.3125 x 2^4\t\t-21.0\n",
        "10110000\t\t-1.375 x 2^-3\t\t-0.171875\n",
        "10110001\t\t-1.375 x 2^-2\t\t-0.34375\n",
        "10110010\t\t-1.375 x 2^-1\t\t-0.6875\n",
        "10110011\t\t-1.375 x 2^0\t\t-1.375\n",
        "10110100\t\t-1.375 x 2^1\t\t-2.75\n",
        "10110101\t\t-1.375 x 2^2\t\t-5.5\n",
        "10110110\t\t-1.375 x 2^3\t\t-11.0\n",
        "10110111\t\t-1.375 x 2^4\t\t-22.0\n",
        "10111000\t\t-1.4375 x 2^-3\t\t-0.1796875\n",
        "10111001\t\t-1.4375 x 2^-2\t\t-0.359375\n",
        "10111010\t\t-1.4375 x 2^-1\t\t-0.71875\n",
        "10111011\t\t-1.4375 x 2^0\t\t-1.4375\n",
        "10111100\t\t-1.4375 x 2^1\t\t-2.875\n",
        "10111101\t\t-1.4375 x 2^2\t\t-5.75\n",
        "10111110\t\t-1.4375 x 2^3\t\t-11.5\n",
        "10111111\t\t-1.4375 x 2^4\t\t-23.0\n",
        "11000000\t\t-1.5 x 2^-3\t\t-0.1875\n",
        "11000001\t\t-1.5 x 2^-2\t\t-0.375\n",
        "11000010\t\t-1.5 x 2^-1\t\t-0.75\n",
        "11000011\t\t-1.5 x 2^0\t\t-1.5\n",
        "11000100\t\t-1.5 x 2^1\t\t-3.0\n",
        "11000101\t\t-1.5 x 2^2\t\t-6.0\n",
        "11000110\t\t-1.5 x 2^3\t\t-12.0\n",
        "11000111\t\t-1.5 x 2^4\t\t-24.0\n",
        "11001000\t\t-1.5625 x 2^-3\t\t-0.1953125\n",
        "11001001\t\t-1.5625 x 2^-2\t\t-0.390625\n",
        "11001010\t\t-1.5625 x 2^-1\t\t-0.78125\n",
        "11001011\t\t-1.5625 x 2^0\t\t-1.5625\n",
        "11001100\t\t-1.5625 x 2^1\t\t-3.125\n",
        "11001101\t\t-1.5625 x 2^2\t\t-6.25\n",
        "11001110\t\t-1.5625 x 2^3\t\t-12.5\n",
        "11001111\t\t-1.5625 x 2^4\t\t-25.0\n",
        "11010000\t\t-1.625 x 2^-3\t\t-0.203125\n",
        "11010001\t\t-1.625 x 2^-2\t\t-0.40625\n",
        "11010010\t\t-1.625 x 2^-1\t\t-0.8125\n",
        "11010011\t\t-1.625 x 2^0\t\t-1.625\n",
        "11010100\t\t-1.625 x 2^1\t\t-3.25\n",
        "11010101\t\t-1.625 x 2^2\t\t-6.5\n",
        "11010110\t\t-1.625 x 2^3\t\t-13.0\n",
        "11010111\t\t-1.625 x 2^4\t\t-26.0\n",
        "11011000\t\t-1.6875 x 2^-3\t\t-0.2109375\n",
        "11011001\t\t-1.6875 x 2^-2\t\t-0.421875\n",
        "11011010\t\t-1.6875 x 2^-1\t\t-0.84375\n",
        "11011011\t\t-1.6875 x 2^0\t\t-1.6875\n",
        "11011100\t\t-1.6875 x 2^1\t\t-3.375\n",
        "11011101\t\t-1.6875 x 2^2\t\t-6.75\n",
        "11011110\t\t-1.6875 x 2^3\t\t-13.5\n",
        "11011111\t\t-1.6875 x 2^4\t\t-27.0\n",
        "11100000\t\t-1.75 x 2^-3\t\t-0.21875\n",
        "11100001\t\t-1.75 x 2^-2\t\t-0.4375\n",
        "11100010\t\t-1.75 x 2^-1\t\t-0.875\n",
        "11100011\t\t-1.75 x 2^0\t\t-1.75\n",
        "11100100\t\t-1.75 x 2^1\t\t-3.5\n",
        "11100101\t\t-1.75 x 2^2\t\t-7.0\n",
        "11100110\t\t-1.75 x 2^3\t\t-14.0\n",
        "11100111\t\t-1.75 x 2^4\t\t-28.0\n",
        "11101000\t\t-1.8125 x 2^-3\t\t-0.2265625\n",
        "11101001\t\t-1.8125 x 2^-2\t\t-0.453125\n",
        "11101010\t\t-1.8125 x 2^-1\t\t-0.90625\n",
        "11101011\t\t-1.8125 x 2^0\t\t-1.8125\n",
        "11101100\t\t-1.8125 x 2^1\t\t-3.625\n",
        "11101101\t\t-1.8125 x 2^2\t\t-7.25\n",
        "11101110\t\t-1.8125 x 2^3\t\t-14.5\n",
        "11101111\t\t-1.8125 x 2^4\t\t-29.0\n",
        "11110000\t\t-1.875 x 2^-3\t\t-0.234375\n",
        "11110001\t\t-1.875 x 2^-2\t\t-0.46875\n",
        "11110010\t\t-1.875 x 2^-1\t\t-0.9375\n",
        "11110011\t\t-1.875 x 2^0\t\t-1.875\n",
        "11110100\t\t-1.875 x 2^1\t\t-3.75\n",
        "11110101\t\t-1.875 x 2^2\t\t-7.5\n",
        "11110110\t\t-1.875 x 2^3\t\t-15.0\n",
        "11110111\t\t-1.875 x 2^4\t\t-30.0\n",
        "11111000\t\t-1.9375 x 2^-3\t\t-0.2421875\n",
        "11111001\t\t-1.9375 x 2^-2\t\t-0.484375\n",
        "11111010\t\t-1.9375 x 2^-1\t\t-0.96875\n",
        "11111011\t\t-1.9375 x 2^0\t\t-1.9375\n",
        "11111100\t\t-1.9375 x 2^1\t\t-3.875\n",
        "11111101\t\t-1.9375 x 2^2\t\t-7.75\n",
        "11111110\t\t-1.9375 x 2^3\t\t-15.5\n",
        "11111111\t\t-1.9375 x 2^4\t\t-31.0\n"
       ]
      }
     ],
     "prompt_number": 319
    },
    {
     "cell_type": "code",
     "collapsed": false,
     "input": [
      "# Histograma de los datos\n",
      "plt.hist(binades,8,normed=1, facecolor='g', alpha=0.75)\n",
      "\n",
      "plt.xlabel(u'Binade',fontsize=20)\n",
      "plt.ylabel('Digitos',fontsize=20)\n",
      "plt.title('Histograma de digitos por binade',fontsize=20)\n",
      "\n",
      "plt.axis([-4, 5, 0, 0.15])\n",
      "plt.grid();"
     ],
     "language": "python",
     "metadata": {},
     "outputs": [
      {
       "metadata": {},
       "output_type": "display_data",
       "png": "[encoded data removed]",
       "text": [
        "<matplotlib.figure.Figure at 0x7f69954198d0>"
       ]
      }
     ],
     "prompt_number": 322
    },
    {
     "cell_type": "code",
     "collapsed": false,
     "input": [
      "# Histograma de los datos\n",
      "plt.hist(enteros,62,normed=1, facecolor='g', alpha=0.75)\n",
      "\n",
      "plt.xlabel(u'Entero',fontsize=20)\n",
      "plt.ylabel('Densidad de digitos',fontsize=20)\n",
      "plt.title('Histograma de densidad de digitos por entero',fontsize=20)\n",
      "\n",
      "plt.axis([-32, 32, 0, 0.4])\n",
      "plt.grid();"
     ],
     "language": "python",
     "metadata": {},
     "outputs": [
      {
       "metadata": {},
       "output_type": "display_data",
       "png": "[encoded data removed]",
       "text": [
        "<matplotlib.figure.Figure at 0x7f6995a44390>"
       ]
      }
     ],
     "prompt_number": 316
    },
    {
     "cell_type": "code",
     "collapsed": false,
     "input": [
      "plt.hist?"
     ],
     "language": "python",
     "metadata": {},
     "outputs": [],
     "prompt_number": 230
    },
    {
     "cell_type": "heading",
     "level": 3,
     "metadata": {},
     "source": [
      "Problema 7"
     ]
    },
    {
     "cell_type": "markdown",
     "metadata": {},
     "source": [
      "El c\u00f3digo primero convierte el n\u00famero 77777 a un flotante de precisi\u00f3n simple y el n\u00famero 7 a un flotante de precisi\u00f3n simple. Luego calcula el inverso multiplicativo de 7. Luego calcula la divisi\u00f3n entre 77777 y 7, y calcula la multiplicaci\u00f3n entre 77777 y el inverso multiplicativo de 7. Imprime los resultados de las 2 \u00faltimas operaciones."
     ]
    },
    {
     "cell_type": "code",
     "collapsed": false,
     "input": [
      "!octave strange_floats_sp.m"
     ],
     "language": "python",
     "metadata": {},
     "outputs": [
      {
       "output_type": "stream",
       "stream": "stdout",
       "text": [
        "GNU Octave, version 3.8.1\r\n",
        "Copyright (C) 2014 John W. Eaton and others.\r\n",
        "This is free software; see the source code for copying conditions.\r\n",
        "There is ABSOLUTELY NO WARRANTY; not even for MERCHANTABILITY or\r\n",
        "FITNESS FOR A PARTICULAR PURPOSE.  For details, type 'warranty'.\r\n",
        "\r\n",
        "Octave was configured for \"x86_64-pc-linux-gnu\".\r\n",
        "\r\n",
        "Additional information about Octave is available at http://www.octave.org.\r\n",
        "\r\n",
        "Please contribute if you find this software useful.\r\n",
        "For more information, visit http://www.octave.org/get-involved.html\r\n",
        "\r\n",
        "Read http://www.octave.org/bugs.html to learn how to submit bug reports.\r\n",
        "For information about changes from previous versions, type 'news'.\r\n",
        "\r\n",
        "x =  77777\r\n",
        "y =  7\r\n",
        "inv_y =  0.14286\r\n",
        "z =  11111\r\n",
        "z1 =    1.1111e+04\r\n",
        "ans = 11111.000 != 11111.001\r\n",
        "ans = 11111.000000000000000000000000000000 != 11111.000976562500000000000000000000\r\n"
       ]
      }
     ],
     "prompt_number": 48
    },
    {
     "cell_type": "markdown",
     "metadata": {},
     "source": [
      "<b>z es SP, porque se est\u00e1n diviendo dos n\u00fameros en precisi\u00f3n simple.<br/>\n",
      "z1 es DP, porque inv_y es DP ya que se divide 1.0 (que es DP) entre y (que es SP)</b>"
     ]
    },
    {
     "cell_type": "code",
     "collapsed": true,
     "input": [
      "!octave strange_floats_dp.m"
     ],
     "language": "python",
     "metadata": {},
     "outputs": [
      {
       "output_type": "stream",
       "stream": "stdout",
       "text": [
        "GNU Octave, version 3.8.1\r\n",
        "Copyright (C) 2014 John W. Eaton and others.\r\n",
        "This is free software; see the source code for copying conditions.\r\n",
        "There is ABSOLUTELY NO WARRANTY; not even for MERCHANTABILITY or\r\n",
        "FITNESS FOR A PARTICULAR PURPOSE.  For details, type 'warranty'.\r\n",
        "\r\n",
        "Octave was configured for \"x86_64-pc-linux-gnu\".\r\n",
        "\r\n",
        "Additional information about Octave is available at http://www.octave.org.\r\n",
        "\r\n",
        "Please contribute if you find this software useful.\r\n",
        "For more information, visit http://www.octave.org/get-involved.html\r\n",
        "\r\n",
        "Read http://www.octave.org/bugs.html to learn how to submit bug reports.\r\n",
        "For information about changes from previous versions, type 'news'.\r\n",
        "\r\n",
        "x =  77777\r\n",
        "y =  7\r\n",
        "inv_y =  0.14286\r\n",
        "z =  11111\r\n",
        "z1 =  11111\r\n",
        "ans = 11111.000 == 11111.000\r\n",
        "ans = 11111.000000000000000000000000000000 == 11111.000000000000000000000000000000\r\n"
       ]
      }
     ],
     "prompt_number": 204
    },
    {
     "cell_type": "markdown",
     "metadata": {},
     "source": [
      "<b>z es DP, porque se est\u00e1n diviendo dos n\u00fameros en precisi\u00f3n doble (que es el default de octave).<br/>\n",
      "z1 es DP, porque inv_y es DP ya que se divide 1.0 (que es DP) entre y (que es DP)</b>"
     ]
    },
    {
     "cell_type": "heading",
     "level": 3,
     "metadata": {},
     "source": [
      "Problema 8"
     ]
    },
    {
     "cell_type": "code",
     "collapsed": false,
     "input": [
      "s2=lambda x: np.sum((x-(np.sum(x)/(len(x))))**2)/(len(x)-1)"
     ],
     "language": "python",
     "metadata": {},
     "outputs": [],
     "prompt_number": 205
    },
    {
     "cell_type": "code",
     "collapsed": false,
     "input": [
      "print s2(np.array([1000,1001,1002]))\n",
      "print s2(np.arange(10))"
     ],
     "language": "python",
     "metadata": {},
     "outputs": [
      {
       "output_type": "stream",
       "stream": "stdout",
       "text": [
        "1\n",
        "9\n"
       ]
      }
     ],
     "prompt_number": 197
    },
    {
     "cell_type": "code",
     "collapsed": false,
     "input": [
      "s2_mejorada = lambda x: (np.sum(x**2)-(np.sum(x)**2)/len(x))/(len(x)-1)"
     ],
     "language": "python",
     "metadata": {},
     "outputs": [],
     "prompt_number": 198
    },
    {
     "cell_type": "code",
     "collapsed": false,
     "input": [
      "print s2_mejorada(np.array([1000,1001,1002]))\n",
      "print s2_mejorada(np.arange(10))"
     ],
     "language": "python",
     "metadata": {},
     "outputs": [
      {
       "output_type": "stream",
       "stream": "stdout",
       "text": [
        "1\n",
        "9\n"
       ]
      }
     ],
     "prompt_number": 199
    },
    {
     "cell_type": "markdown",
     "metadata": {},
     "source": [
      "La varianza del arreglo de datos [1000,1001,1002] es 1, y la obtenida por el m\u00e9todo num\u00e9rico tambi\u00e9n es 1, por lo que coincide el resultado te\u00f3rico al resultado num\u00e9rico. [Notar que la funci\u00f3n presenta un error inherente en el que se pierde precisi\u00f3n por hacer divisiones enteras. Esto lo arreglar\u00e9 en la siguiente funci\u00f3n.]"
     ]
    },
    {
     "cell_type": "code",
     "collapsed": false,
     "input": [
      "s2_corr=lambda x: np.sum((x-(np.sum(x)/float(len(x))))**2)/(len(x)-1)\n",
      "s2_mejorada_corr = lambda x: (np.sum(x**2)-(np.sum(x)**2)/float(len(x)))/(len(x)-1)"
     ],
     "language": "python",
     "metadata": {},
     "outputs": [],
     "prompt_number": 201
    },
    {
     "cell_type": "code",
     "collapsed": false,
     "input": [
      "print s2_corr(np.array([1000,1001,1002]))\n",
      "print s2_corr(np.arange(10))\n",
      "print s2_mejorada_corr(np.array([1000,1001,1002]))\n",
      "print s2_mejorada_corr(np.arange(10))"
     ],
     "language": "python",
     "metadata": {},
     "outputs": [
      {
       "output_type": "stream",
       "stream": "stdout",
       "text": [
        "1.0\n",
        "9.16666666667\n",
        "1.0\n",
        "9.16666666667\n"
       ]
      }
     ],
     "prompt_number": 203
    },
    {
     "cell_type": "heading",
     "level": 3,
     "metadata": {},
     "source": [
      "Problema 9"
     ]
    },
    {
     "cell_type": "code",
     "collapsed": false,
     "input": [
      "%load factorial.py"
     ],
     "language": "python",
     "metadata": {},
     "outputs": [],
     "prompt_number": 167
    },
    {
     "cell_type": "code",
     "collapsed": false,
     "input": [
      "def factorial(n):\n",
      "    if n == 0:\n",
      "        return 1\n",
      "    elif n == 1:\n",
      "        return 1\n",
      "    else:\n",
      "        return factorial(n-1)*n\n"
     ],
     "language": "python",
     "metadata": {},
     "outputs": [],
     "prompt_number": 168
    },
    {
     "cell_type": "code",
     "collapsed": false,
     "input": [
      "def exp_maclaurin(x,n):\n",
      "    suma=0\n",
      "    for i in xrange(n):\n",
      "        suma += x**i/factorial(i)\n",
      "        print \"%12s\\t%12s\\t%12s\\t%12s\\t%20s\\t%20s\" % (i, x, x**i, factorial(i), x**i/factorial(i), suma)"
     ],
     "language": "python",
     "metadata": {},
     "outputs": [],
     "prompt_number": 185
    },
    {
     "cell_type": "code",
     "collapsed": false,
     "input": [
      "print np.exp(0)\n",
      "print np.exp(1)\n",
      "print np.exp(5.5)\n",
      "print np.exp(-5.5)"
     ],
     "language": "python",
     "metadata": {},
     "outputs": [
      {
       "output_type": "stream",
       "stream": "stdout",
       "text": [
        "1.0\n",
        "2.71828182846\n",
        "244.691932264\n",
        "0.00408677143846\n"
       ]
      }
     ],
     "prompt_number": 186
    },
    {
     "cell_type": "code",
     "collapsed": false,
     "input": [
      "exp_maclaurin(0,20)\n",
      "exp_maclaurin(1,20)\n",
      "exp_maclaurin(5.5,20)\n",
      "exp_maclaurin(-5.5,20)"
     ],
     "language": "python",
     "metadata": {},
     "outputs": [
      {
       "output_type": "stream",
       "stream": "stdout",
       "text": [
        "           0\t           0\t           1\t           1\t                   1\t                   1\n",
        "           1\t           0\t           0\t           1\t                   0\t                   1\n",
        "           2\t           0\t           0\t           2\t                   0\t                   1\n",
        "           3\t           0\t           0\t           6\t                   0\t                   1\n",
        "           4\t           0\t           0\t          24\t                   0\t                   1\n",
        "           5\t           0\t           0\t         120\t                   0\t                   1\n",
        "           6\t           0\t           0\t         720\t                   0\t                   1\n",
        "           7\t           0\t           0\t        5040\t                   0\t                   1\n",
        "           8\t           0\t           0\t       40320\t                   0\t                   1\n",
        "           9\t           0\t           0\t      362880\t                   0\t                   1\n",
        "          10\t           0\t           0\t     3628800\t                   0\t                   1\n",
        "          11\t           0\t           0\t    39916800\t                   0\t                   1\n",
        "          12\t           0\t           0\t   479001600\t                   0\t                   1\n",
        "          13\t           0\t           0\t  6227020800\t                   0\t                   1\n",
        "          14\t           0\t           0\t 87178291200\t                   0\t                   1\n",
        "          15\t           0\t           0\t1307674368000\t                   0\t                   1\n",
        "          16\t           0\t           0\t20922789888000\t                   0\t                   1\n",
        "          17\t           0\t           0\t355687428096000\t                   0\t                   1\n",
        "          18\t           0\t           0\t6402373705728000\t                   0\t                   1\n",
        "          19\t           0\t           0\t121645100408832000\t                   0\t                   1\n",
        "           0\t           1\t           1\t           1\t                   1\t                   1\n",
        "           1\t           1\t           1\t           1\t                   1\t                   2\n",
        "           2\t           1\t           1\t           2\t                   0\t                   2\n",
        "           3\t           1\t           1\t           6\t                   0\t                   2\n",
        "           4\t           1\t           1\t          24\t                   0\t                   2\n",
        "           5\t           1\t           1\t         120\t                   0\t                   2\n",
        "           6\t           1\t           1\t         720\t                   0\t                   2\n",
        "           7\t           1\t           1\t        5040\t                   0\t                   2\n",
        "           8\t           1\t           1\t       40320\t                   0\t                   2\n",
        "           9\t           1\t           1\t      362880\t                   0\t                   2\n",
        "          10\t           1\t           1\t     3628800\t                   0\t                   2\n",
        "          11\t           1\t           1\t    39916800\t                   0\t                   2\n",
        "          12\t           1\t           1\t   479001600\t                   0\t                   2\n",
        "          13\t           1\t           1\t  6227020800\t                   0\t                   2\n",
        "          14\t           1\t           1\t 87178291200\t                   0\t                   2\n",
        "          15\t           1\t           1\t1307674368000\t                   0\t                   2\n",
        "          16\t           1\t           1\t20922789888000\t                   0\t                   2\n",
        "          17\t           1\t           1\t355687428096000\t                   0\t                   2\n",
        "          18\t           1\t           1\t6402373705728000\t                   0\t                   2\n",
        "          19\t           1\t           1\t121645100408832000\t                   0\t                   2\n",
        "           0\t         5.5\t         1.0\t           1\t                 1.0\t                 1.0\n",
        "           1\t         5.5\t         5.5\t           1\t                 5.5\t                 6.5\n",
        "           2\t         5.5\t       30.25\t           2\t              15.125\t              21.625\n",
        "           3\t         5.5\t     166.375\t           6\t       27.7291666667\t       49.3541666667\n",
        "           4\t         5.5\t    915.0625\t          24\t       38.1276041667\t       87.4817708333\n",
        "           5\t         5.5\t  5032.84375\t         120\t       41.9403645833\t       129.422135417\n",
        "           6\t         5.5\t27680.640625\t         720\t       38.4453342014\t       167.867469618\n",
        "           7\t         5.5\t152243.523438\t        5040\t       30.2070483011\t       198.074517919\n",
        "           8\t         5.5\t837339.378906\t       40320\t        20.767345707\t       218.841863626\n",
        "           9\t         5.5\t4605366.58398\t      362880\t       12.6911557098\t       231.533019336\n",
        "          10\t         5.5\t25329516.2119\t     3628800\t       6.98013564041\t       238.513154976\n",
        "          11\t         5.5\t139312339.166\t    39916800\t        3.4900678202\t       242.003222797\n",
        "          12\t         5.5\t766217865.41\t   479001600\t       1.59961441759\t       243.602837214\n",
        "          13\t         5.5\t4214198259.76\t  6227020800\t      0.676759945905\t        244.27959716\n",
        "          14\t         5.5\t23178090428.7\t 87178291200\t      0.265869978748\t       244.545467139\n",
        "          15\t         5.5\t1.27479497358e+11\t1307674368000\t     0.0974856588744\t       244.642952798\n",
        "          16\t         5.5\t7.01137235467e+11\t20922789888000\t     0.0335106952381\t       244.676463493\n",
        "          17\t         5.5\t3.85625479507e+12\t355687428096000\t     0.0108416955182\t       244.687305188\n",
        "          18\t         5.5\t2.12094013729e+13\t6402373705728000\t    0.00331274029723\t       244.690617929\n",
        "          19\t         5.5\t1.16651707551e+14\t121645100408832000\t   0.000958951138671\t        244.69157688\n",
        "           0\t        -5.5\t         1.0\t           1\t                 1.0\t                 1.0\n",
        "           1\t        -5.5\t        -5.5\t           1\t                -5.5\t                -4.5\n",
        "           2\t        -5.5\t       30.25\t           2\t              15.125\t              10.625\n",
        "           3\t        -5.5\t    -166.375\t           6\t      -27.7291666667\t      -17.1041666667\n",
        "           4\t        -5.5\t    915.0625\t          24\t       38.1276041667\t          21.0234375\n",
        "           5\t        -5.5\t -5032.84375\t         120\t      -41.9403645833\t      -20.9169270833\n",
        "           6\t        -5.5\t27680.640625\t         720\t       38.4453342014\t       17.5284071181\n",
        "           7\t        -5.5\t-152243.523438\t        5040\t      -30.2070483011\t       -12.678641183\n",
        "           8\t        -5.5\t837339.378906\t       40320\t        20.767345707\t       8.08870452396\n",
        "           9\t        -5.5\t-4605366.58398\t      362880\t      -12.6911557098\t      -4.60245118587\n",
        "          10\t        -5.5\t25329516.2119\t     3628800\t       6.98013564041\t       2.37768445454\n",
        "          11\t        -5.5\t-139312339.166\t    39916800\t       -3.4900678202\t      -1.11238336566\n",
        "          12\t        -5.5\t766217865.41\t   479001600\t       1.59961441759\t      0.487231051929\n",
        "          13\t        -5.5\t-4214198259.76\t  6227020800\t     -0.676759945905\t     -0.189528893976\n",
        "          14\t        -5.5\t23178090428.7\t 87178291200\t      0.265869978748\t     0.0763410847723\n",
        "          15\t        -5.5\t-1.27479497358e+11\t1307674368000\t    -0.0974856588744\t    -0.0211445741022\n",
        "          16\t        -5.5\t7.01137235467e+11\t20922789888000\t     0.0335106952381\t     0.0123661211359\n",
        "          17\t        -5.5\t-3.85625479507e+12\t355687428096000\t    -0.0108416955182\t    0.00152442561772\n",
        "          18\t        -5.5\t2.12094013729e+13\t6402373705728000\t    0.00331274029723\t    0.00483716591495\n",
        "          19\t        -5.5\t-1.16651707551e+14\t121645100408832000\t  -0.000958951138671\t    0.00387821477628\n"
       ]
      }
     ],
     "prompt_number": 187
    },
    {
     "cell_type": "markdown",
     "metadata": {},
     "source": [
      "Falla en el x=1 porque est\u00e1 haciendo divisiones enteras y por ende se pierden todos los decimales. "
     ]
    },
    {
     "cell_type": "code",
     "collapsed": false,
     "input": [
      "def exp_maclaurin_corr(x,n):\n",
      "    suma=0\n",
      "    for i in xrange(n):\n",
      "        suma += x**i/float(factorial(i))\n",
      "        print \"%12s\\t%12s\\t%12s\\t%12s\\t%20s\\t%20s\" % (i, x, x**i, factorial(i), x**i/float(factorial(i)), suma)"
     ],
     "language": "python",
     "metadata": {},
     "outputs": [],
     "prompt_number": 189
    },
    {
     "cell_type": "code",
     "collapsed": false,
     "input": [
      "exp_maclaurin_corr(1,20)"
     ],
     "language": "python",
     "metadata": {},
     "outputs": [
      {
       "output_type": "stream",
       "stream": "stdout",
       "text": [
        "           0\t           1\t           1\t           1\t                 1.0\t                 1.0\n",
        "           1\t           1\t           1\t           1\t                 1.0\t                 2.0\n",
        "           2\t           1\t           1\t           2\t                 0.5\t                 2.5\n",
        "           3\t           1\t           1\t           6\t      0.166666666667\t       2.66666666667\n",
        "           4\t           1\t           1\t          24\t     0.0416666666667\t       2.70833333333\n",
        "           5\t           1\t           1\t         120\t    0.00833333333333\t       2.71666666667\n",
        "           6\t           1\t           1\t         720\t    0.00138888888889\t       2.71805555556\n",
        "           7\t           1\t           1\t        5040\t   0.000198412698413\t       2.71825396825\n",
        "           8\t           1\t           1\t       40320\t   2.48015873016e-05\t       2.71827876984\n",
        "           9\t           1\t           1\t      362880\t    2.7557319224e-06\t       2.71828152557\n",
        "          10\t           1\t           1\t     3628800\t    2.7557319224e-07\t       2.71828180115\n",
        "          11\t           1\t           1\t    39916800\t   2.50521083854e-08\t        2.7182818262\n",
        "          12\t           1\t           1\t   479001600\t   2.08767569879e-09\t       2.71828182829\n",
        "          13\t           1\t           1\t  6227020800\t   1.60590438368e-10\t       2.71828182845\n",
        "          14\t           1\t           1\t 87178291200\t   1.14707455977e-11\t       2.71828182846\n",
        "          15\t           1\t           1\t1307674368000\t   7.64716373182e-13\t       2.71828182846\n",
        "          16\t           1\t           1\t20922789888000\t   4.77947733239e-14\t       2.71828182846\n",
        "          17\t           1\t           1\t355687428096000\t   2.81145725435e-15\t       2.71828182846\n",
        "          18\t           1\t           1\t6402373705728000\t   1.56192069686e-16\t       2.71828182846\n",
        "          19\t           1\t           1\t121645100408832000\t   8.22063524662e-18\t       2.71828182846\n"
       ]
      }
     ],
     "prompt_number": 190
    },
    {
     "cell_type": "heading",
     "level": 3,
     "metadata": {},
     "source": [
      "Problema 10"
     ]
    },
    {
     "cell_type": "code",
     "collapsed": false,
     "input": [
      "l=[1000,1001,1002]\n",
      "x=np.array(l,dtype=np.float16)\n",
      "y=np.array(l,dtype=np.float32)\n",
      "z=np.array(l,dtype=np.float64)\n",
      "w=np.array(l,dtype=np.float128)"
     ],
     "language": "python",
     "metadata": {},
     "outputs": [],
     "prompt_number": 191
    },
    {
     "cell_type": "code",
     "collapsed": false,
     "input": [
      "print s2(x)\n",
      "print s2(y)\n",
      "print s2(z)\n",
      "print s2(w)"
     ],
     "language": "python",
     "metadata": {},
     "outputs": [
      {
       "output_type": "stream",
       "stream": "stdout",
       "text": [
        "1.375\n",
        "1.0\n",
        "1.0\n",
        "1.0\n"
       ]
      }
     ],
     "prompt_number": 192
    },
    {
     "cell_type": "code",
     "collapsed": false,
     "input": [
      "print s2_mejorada(x)\n",
      "print s2_mejorada(y)\n",
      "print s2_mejorada(z)\n",
      "print s2_mejorada(w)"
     ],
     "language": "python",
     "metadata": {},
     "outputs": [
      {
       "output_type": "stream",
       "stream": "stdout",
       "text": [
        "inf\n",
        "1.0\n",
        "1.0\n",
        "1.0\n"
       ]
      }
     ],
     "prompt_number": 194
    },
    {
     "cell_type": "markdown",
     "metadata": {},
     "source": [
      "Los c\u00e1lculos en el flotante de 16 bits pierden precisi\u00f3n muy r\u00e1pidamente, por lo que los c\u00e1lculos son incorrectos. En la primera varianza de un n\u00famero que no es, mientras que en la segunda varianza se pasa del l\u00edmite de un flotante de 16 bits."
     ]
    }
   ],
   "metadata": {}
  }
 ]
}