{
 "metadata": {
  "name": "",
  "signature": "sha256:ae71f4a639a059cad33a41148c50e6848dbad87a0a75345691c49424afcecb80"
 },
 "nbformat": 3,
 "nbformat_minor": 0,
 "worksheets": [
  {
   "cells": [
    {
     "cell_type": "heading",
     "level": 1,
     "metadata": {},
     "source": [
      "Examen Parcial"
     ]
    },
    {
     "cell_type": "heading",
     "level": 6,
     "metadata": {},
     "source": [
      "5 de marzo, 2015"
     ]
    },
    {
     "cell_type": "heading",
     "level": 2,
     "metadata": {},
     "source": [
      "Instrucciones"
     ]
    },
    {
     "cell_type": "markdown",
     "metadata": {},
     "source": [
      "- Crea una carpeta en tu directorio llamada `examen`.\n",
      "- Copia este examen a esa carpeta reci\u00e9n creada.\n",
      "- Copia los archivos con extensi\u00f3n `.m` de la misma manera."
     ]
    },
    {
     "cell_type": "heading",
     "level": 3,
     "metadata": {},
     "source": [
      "Definiciones"
     ]
    },
    {
     "cell_type": "markdown",
     "metadata": {},
     "source": [
      "- **Precisi\u00f3n** es el n\u00famero m\u00e1ximo de _bits_ diferentes de cero que es representable.\n",
      "- **Rango** es la diferencia entre el n\u00famero m\u00e1s negativo representable y el n\u00famero m\u00e1s positivo representable.\n",
      "- **Resoluci\u00f3n** es la magnitud m\u00e1s preque\u00f1a diferente de cero representable.\n",
      "- **Exactitud** es la magnitud e la m\u00e1xima diferencia entre el valor real y su representaci\u00f3n."
     ]
    },
    {
     "cell_type": "markdown",
     "metadata": {},
     "source": [
      "- Un n\u00famero $x$ en _single precision_ en el est\u00e1ndar **IEEE 754** se escribe:"
     ]
    },
    {
     "cell_type": "markdown",
     "metadata": {},
     "source": [
      "$$\n",
      "x = s 1.mmm \\ldots mmm \\times 2^{mmm \\ldots mmm}\n",
      "$$"
     ]
    },
    {
     "cell_type": "markdown",
     "metadata": {},
     "source": [
      "con un _bias_ de "
     ]
    },
    {
     "cell_type": "heading",
     "level": 1,
     "metadata": {},
     "source": [
      "Parte escrita"
     ]
    },
    {
     "cell_type": "heading",
     "level": 2,
     "metadata": {},
     "source": [
      "Problema 1"
     ]
    },
    {
     "cell_type": "markdown",
     "metadata": {},
     "source": [
      "* Escribir los siguientes n\u00fameros reales de manera _normalizada_"
     ]
    },
    {
     "cell_type": "markdown",
     "metadata": {},
     "source": [
      "    - $123.45$\n",
      "    - $6.3789 \\times 10^{5}$\n",
      "    - $5432.1987 \\times 10^{3}$\n",
      "    - $6.02 \\times 10^{23}$\n",
      "    - $0.000001$\n",
      "    - $1.0$"
     ]
    },
    {
     "cell_type": "heading",
     "level": 2,
     "metadata": {},
     "source": [
      "Problema 2"
     ]
    },
    {
     "cell_type": "markdown",
     "metadata": {},
     "source": [
      "- Escriba los siguientes n\u00fameros en su expansi\u00f3n en base $2$ y calcule su valor en base $10$ (suponga que no est\u00e1n signados)"
     ]
    },
    {
     "cell_type": "markdown",
     "metadata": {},
     "source": [
      "    - `1101`\n",
      "    - `11010`\n",
      "    - `00110011`"
     ]
    },
    {
     "cell_type": "heading",
     "level": 2,
     "metadata": {},
     "source": [
      "Problema 3"
     ]
    },
    {
     "cell_type": "markdown",
     "metadata": {},
     "source": [
      "- Escribe de forma normalizada a $y = + 1000.100111$ ."
     ]
    },
    {
     "cell_type": "markdown",
     "metadata": {},
     "source": [
      "- Escribe el mismo n\u00famero en formato **IEEE 754** en _single precision_."
     ]
    },
    {
     "cell_type": "markdown",
     "metadata": {},
     "source": [
      "- Escribe los siguientes n\u00fameros en el est\u00e1ndar **IEEE 754** a _double precision_"
     ]
    },
    {
     "cell_type": "markdown",
     "metadata": {},
     "source": [
      "- `1.0`\n",
      "- `1.5`\n",
      "- `-1.5`"
     ]
    },
    {
     "cell_type": "markdown",
     "metadata": {},
     "source": [
      "- \u00bfQu\u00e9 n\u00famero representa el siguiente flotante **IEEE 754** _double precision_?"
     ]
    },
    {
     "cell_type": "heading",
     "level": 2,
     "metadata": {},
     "source": [
      "Problema 4"
     ]
    },
    {
     "cell_type": "markdown",
     "metadata": {},
     "source": [
      "* Representa $1$ en lo siguiente:\n",
      "\n",
      "    - En 8 bits con signo\n",
      "    - En 8 bits sin signo\n",
      "    - En 16 bits sin signo\n",
      "    - En 32 bits en el est\u00e1ndar **IEEE 754**\n",
      "    - En 64 bits en el est\u00e1ndar **IEEE 754**"
     ]
    },
    {
     "cell_type": "markdown",
     "metadata": {},
     "source": [
      "* Las siguientes dos cadenas binarias"
     ]
    },
    {
     "cell_type": "markdown",
     "metadata": {},
     "source": [
      "    - `0000 0000 0010 1010`\n",
      "    - `1000 0000 0010 1010`"
     ]
    },
    {
     "cell_type": "markdown",
     "metadata": {},
     "source": [
      "\u00bfQu\u00e9 n\u00famero representan s\u00ed ...\n",
      "\n",
      "    - ... son 16 bits sin signo?\n",
      "    - ... son 16 bits con signo?\n",
      "    - ... 2 cadenas de 8 bits sin signo?\n",
      "    - ... 2 cadenas de 8 bits con signo?"
     ]
    },
    {
     "cell_type": "heading",
     "level": 2,
     "metadata": {},
     "source": [
      "Problema 5"
     ]
    },
    {
     "cell_type": "heading",
     "level": 3,
     "metadata": {},
     "source": [
      "El mundo del Nintendo: 8 bits"
     ]
    },
    {
     "cell_type": "markdown",
     "metadata": {},
     "source": [
      "Supongamos que vamos a trabajar con `8 bits`"
     ]
    },
    {
     "cell_type": "markdown",
     "metadata": {},
     "source": [
      "$$\n",
      "x = \\pm 1.mmmm \\times 2^{bbb}\n",
      "$$"
     ]
    },
    {
     "cell_type": "markdown",
     "metadata": {},
     "source": [
      "donde el _bias_ $= 3$."
     ]
    },
    {
     "cell_type": "markdown",
     "metadata": {},
     "source": [
      "- \u00bfCu\u00e1l es el rango? \n",
      "- \u00bfCu\u00e1l es la precisi\u00f3n?\n",
      "- \u00bfCu\u00e1l es la resoluci\u00f3n?\n",
      "- \u00bfCu\u00e1ntos b\u00ednades hay?\n",
      "- \u00bfCu\u00e1ntos n\u00fameros por b\u00ednade hay?"
     ]
    },
    {
     "cell_type": "heading",
     "level": 1,
     "metadata": {},
     "source": [
      "Computadora"
     ]
    },
    {
     "cell_type": "heading",
     "level": 2,
     "metadata": {},
     "source": [
      "Problema 6"
     ]
    },
    {
     "cell_type": "heading",
     "level": 2,
     "metadata": {},
     "source": [
      "El mundo de Nintendo: 8 bits"
     ]
    },
    {
     "cell_type": "markdown",
     "metadata": {},
     "source": [
      "* Crea un programa en `python` o `GNU Octave` imprima todos los n\u00fameros que se pueden almacenar en `8 bits` (ver ejercicio anterior). "
     ]
    },
    {
     "cell_type": "markdown",
     "metadata": {},
     "source": [
      "La tabla debe de tener el siguiente formato:"
     ]
    },
    {
     "cell_type": "markdown",
     "metadata": {},
     "source": [
      "| representaci\u00f3n almacenada | real | flotante |\n",
      "|---------------------------|------|----------|"
     ]
    },
    {
     "cell_type": "code",
     "collapsed": false,
     "input": [
      "# Para la representaci\u00f3n\n",
      "# Para el signo\n",
      "signoString=['0','1']"
     ],
     "language": "python",
     "metadata": {},
     "outputs": [],
     "prompt_number": 43
    },
    {
     "cell_type": "code",
     "collapsed": false,
     "input": [
      "# Para el exponente\n",
      "exponente=np.zeros((8,3)).astype(int) # Los posibles valores del exponente 2x2x2\n",
      "# Para llenar con unos\n",
      "exponente[4:,0]=1\n",
      "exponente[2:4,1]=1\n",
      "exponente[6:,1]=1\n",
      "for i in (1,3,5,7):\n",
      "    exponente[i,2]=1\n",
      "# Convirtiendo a cadenas\n",
      "exponenteString=[]\n",
      "for i in range(0,8):\n",
      "    exponenteString.append(str(exponente[i][0])+str(exponente[i][1])+str(exponente[i][2]))\n",
      "exponenteString"
     ],
     "language": "python",
     "metadata": {},
     "outputs": [
      {
       "metadata": {},
       "output_type": "pyout",
       "prompt_number": 44,
       "text": [
        "['000', '001', '010', '011', '100', '101', '110', '111']"
       ]
      }
     ],
     "prompt_number": 44
    },
    {
     "cell_type": "code",
     "collapsed": false,
     "input": [
      "# Para la mantisa\n",
      "mantisa=np.zeros((16,4)).astype(int) # Los posibles valores de la mantisa 2x2x2x2\n",
      "mantisa[8:,0]=1\n",
      "for i in (4,12):\n",
      "    mantisa[i:i+4,1]=1\n",
      "for i in (2,6,10,14):\n",
      "    mantisa[i:i+2,2]=1\n",
      "for i in range(1,16,2):\n",
      "    mantisa[i,3]=1\n",
      "# Convirtiendo a cadenas\n",
      "mantisaString=[]\n",
      "for i in range(0,16):\n",
      "    mantisaString.append(str(mantisa[i][0])+str(mantisa[i][1])+str(mantisa[i][2])+str(mantisa[i][3]))\n",
      "mantisaString"
     ],
     "language": "python",
     "metadata": {},
     "outputs": [
      {
       "metadata": {},
       "output_type": "pyout",
       "prompt_number": 45,
       "text": [
        "['0000',\n",
        " '0001',\n",
        " '0010',\n",
        " '0011',\n",
        " '0100',\n",
        " '0101',\n",
        " '0110',\n",
        " '0111',\n",
        " '1000',\n",
        " '1001',\n",
        " '1010',\n",
        " '1011',\n",
        " '1100',\n",
        " '1101',\n",
        " '1110',\n",
        " '1111']"
       ]
      }
     ],
     "prompt_number": 45
    },
    {
     "cell_type": "code",
     "collapsed": false,
     "input": [
      "representacion=[]\n",
      "for signo in signoString:\n",
      "    for exponente in exponenteString:\n",
      "        for mantisa in mantisaString:\n",
      "            representacion.append(signo+exponente+mantisa)"
     ],
     "language": "python",
     "metadata": {},
     "outputs": [],
     "prompt_number": 46
    },
    {
     "cell_type": "code",
     "collapsed": false,
     "input": [
      "# Ahora tenemos que crear funciones para el flotante\n",
      "# Para regresar el exponente\n",
      "def funcionSigno(x):\n",
      "    x=int(x)\n",
      "    if x==1:\n",
      "        return '-'\n",
      "    else:\n",
      "        return '+'"
     ],
     "language": "python",
     "metadata": {},
     "outputs": [],
     "prompt_number": 47
    },
    {
     "cell_type": "code",
     "collapsed": false,
     "input": [
      "# Ahora para el exponente\n",
      "def funcionExponente(x):\n",
      "    return int(x,2)-3"
     ],
     "language": "python",
     "metadata": {},
     "outputs": [],
     "prompt_number": 48
    },
    {
     "cell_type": "code",
     "collapsed": false,
     "input": [
      "# Ahora para la mantisa\n",
      "def funcionMantisa(x):\n",
      "    fraccion=0\n",
      "    for i in range(0,len(x)):\n",
      "        fraccion+=float(int(x[i]))/(2**(i+1)) # Empezamos con 2**i\n",
      "    return fraccion"
     ],
     "language": "python",
     "metadata": {},
     "outputs": [],
     "prompt_number": 49
    },
    {
     "cell_type": "code",
     "collapsed": false,
     "input": [
      "# Flotante\n",
      "flotante=[]\n",
      "for signo in signoString:\n",
      "    for exponente in exponenteString:\n",
      "        for mantisa in mantisaString:\n",
      "            flotante.append(funcionSigno(signo)+str(1+funcionMantisa(mantisa))+'x2^'+str(funcionExponente(exponente)))"
     ],
     "language": "python",
     "metadata": {},
     "outputs": [],
     "prompt_number": 50
    },
    {
     "cell_type": "code",
     "collapsed": false,
     "input": [
      "# Real\n",
      "real=[]\n",
      "for signo in signoString:\n",
      "    for exponente in exponenteString:\n",
      "        for mantisa in mantisaString:\n",
      "            real.append(funcionSigno(signo)+str((1+funcionMantisa(mantisa))*(2**funcionExponente(exponente))))"
     ],
     "language": "python",
     "metadata": {},
     "outputs": [],
     "prompt_number": 51
    },
    {
     "cell_type": "code",
     "collapsed": false,
     "input": [
      "print len(representacion)==len(flotante)\n",
      "print len(flotante)==len(real)"
     ],
     "language": "python",
     "metadata": {},
     "outputs": [
      {
       "output_type": "stream",
       "stream": "stdout",
       "text": [
        "True\n",
        "True\n"
       ]
      }
     ],
     "prompt_number": 52
    },
    {
     "cell_type": "code",
     "collapsed": false,
     "input": [
      "for i in range(0,len(real)):\n",
      "    print \"%12s\\t%12s\\t%12s\" % (representacion[i], flotante[i], real[i])"
     ],
     "language": "python",
     "metadata": {},
     "outputs": [
      {
       "output_type": "stream",
       "stream": "stdout",
       "text": [
        "    00000000\t   +1.0x2^-3\t      +0.125\n",
        "    00000001\t+1.0625x2^-3\t  +0.1328125\n",
        "    00000010\t +1.125x2^-3\t   +0.140625\n",
        "    00000011\t+1.1875x2^-3\t  +0.1484375\n",
        "    00000100\t  +1.25x2^-3\t    +0.15625\n",
        "    00000101\t+1.3125x2^-3\t  +0.1640625\n",
        "    00000110\t +1.375x2^-3\t   +0.171875\n",
        "    00000111\t+1.4375x2^-3\t  +0.1796875\n",
        "    00001000\t   +1.5x2^-3\t     +0.1875\n",
        "    00001001\t+1.5625x2^-3\t  +0.1953125\n",
        "    00001010\t +1.625x2^-3\t   +0.203125\n",
        "    00001011\t+1.6875x2^-3\t  +0.2109375\n",
        "    00001100\t  +1.75x2^-3\t    +0.21875\n",
        "    00001101\t+1.8125x2^-3\t  +0.2265625\n",
        "    00001110\t +1.875x2^-3\t   +0.234375\n",
        "    00001111\t+1.9375x2^-3\t  +0.2421875\n",
        "    00010000\t   +1.0x2^-2\t       +0.25\n",
        "    00010001\t+1.0625x2^-2\t   +0.265625\n",
        "    00010010\t +1.125x2^-2\t    +0.28125\n",
        "    00010011\t+1.1875x2^-2\t   +0.296875\n",
        "    00010100\t  +1.25x2^-2\t     +0.3125\n",
        "    00010101\t+1.3125x2^-2\t   +0.328125\n",
        "    00010110\t +1.375x2^-2\t    +0.34375\n",
        "    00010111\t+1.4375x2^-2\t   +0.359375\n",
        "    00011000\t   +1.5x2^-2\t      +0.375\n",
        "    00011001\t+1.5625x2^-2\t   +0.390625\n",
        "    00011010\t +1.625x2^-2\t    +0.40625\n",
        "    00011011\t+1.6875x2^-2\t   +0.421875\n",
        "    00011100\t  +1.75x2^-2\t     +0.4375\n",
        "    00011101\t+1.8125x2^-2\t   +0.453125\n",
        "    00011110\t +1.875x2^-2\t    +0.46875\n",
        "    00011111\t+1.9375x2^-2\t   +0.484375\n",
        "    00100000\t   +1.0x2^-1\t        +0.5\n",
        "    00100001\t+1.0625x2^-1\t    +0.53125\n",
        "    00100010\t +1.125x2^-1\t     +0.5625\n",
        "    00100011\t+1.1875x2^-1\t    +0.59375\n",
        "    00100100\t  +1.25x2^-1\t      +0.625\n",
        "    00100101\t+1.3125x2^-1\t    +0.65625\n",
        "    00100110\t +1.375x2^-1\t     +0.6875\n",
        "    00100111\t+1.4375x2^-1\t    +0.71875\n",
        "    00101000\t   +1.5x2^-1\t       +0.75\n",
        "    00101001\t+1.5625x2^-1\t    +0.78125\n",
        "    00101010\t +1.625x2^-1\t     +0.8125\n",
        "    00101011\t+1.6875x2^-1\t    +0.84375\n",
        "    00101100\t  +1.75x2^-1\t      +0.875\n",
        "    00101101\t+1.8125x2^-1\t    +0.90625\n",
        "    00101110\t +1.875x2^-1\t     +0.9375\n",
        "    00101111\t+1.9375x2^-1\t    +0.96875\n",
        "    00110000\t    +1.0x2^0\t        +1.0\n",
        "    00110001\t +1.0625x2^0\t     +1.0625\n",
        "    00110010\t  +1.125x2^0\t      +1.125\n",
        "    00110011\t +1.1875x2^0\t     +1.1875\n",
        "    00110100\t   +1.25x2^0\t       +1.25\n",
        "    00110101\t +1.3125x2^0\t     +1.3125\n",
        "    00110110\t  +1.375x2^0\t      +1.375\n",
        "    00110111\t +1.4375x2^0\t     +1.4375\n",
        "    00111000\t    +1.5x2^0\t        +1.5\n",
        "    00111001\t +1.5625x2^0\t     +1.5625\n",
        "    00111010\t  +1.625x2^0\t      +1.625\n",
        "    00111011\t +1.6875x2^0\t     +1.6875\n",
        "    00111100\t   +1.75x2^0\t       +1.75\n",
        "    00111101\t +1.8125x2^0\t     +1.8125\n",
        "    00111110\t  +1.875x2^0\t      +1.875\n",
        "    00111111\t +1.9375x2^0\t     +1.9375\n",
        "    01000000\t    +1.0x2^1\t        +2.0\n",
        "    01000001\t +1.0625x2^1\t      +2.125\n",
        "    01000010\t  +1.125x2^1\t       +2.25\n",
        "    01000011\t +1.1875x2^1\t      +2.375\n",
        "    01000100\t   +1.25x2^1\t        +2.5\n",
        "    01000101\t +1.3125x2^1\t      +2.625\n",
        "    01000110\t  +1.375x2^1\t       +2.75\n",
        "    01000111\t +1.4375x2^1\t      +2.875\n",
        "    01001000\t    +1.5x2^1\t        +3.0\n",
        "    01001001\t +1.5625x2^1\t      +3.125\n",
        "    01001010\t  +1.625x2^1\t       +3.25\n",
        "    01001011\t +1.6875x2^1\t      +3.375\n",
        "    01001100\t   +1.75x2^1\t        +3.5\n",
        "    01001101\t +1.8125x2^1\t      +3.625\n",
        "    01001110\t  +1.875x2^1\t       +3.75\n",
        "    01001111\t +1.9375x2^1\t      +3.875\n",
        "    01010000\t    +1.0x2^2\t        +4.0\n",
        "    01010001\t +1.0625x2^2\t       +4.25\n",
        "    01010010\t  +1.125x2^2\t        +4.5\n",
        "    01010011\t +1.1875x2^2\t       +4.75\n",
        "    01010100\t   +1.25x2^2\t        +5.0\n",
        "    01010101\t +1.3125x2^2\t       +5.25\n",
        "    01010110\t  +1.375x2^2\t        +5.5\n",
        "    01010111\t +1.4375x2^2\t       +5.75\n",
        "    01011000\t    +1.5x2^2\t        +6.0\n",
        "    01011001\t +1.5625x2^2\t       +6.25\n",
        "    01011010\t  +1.625x2^2\t        +6.5\n",
        "    01011011\t +1.6875x2^2\t       +6.75\n",
        "    01011100\t   +1.75x2^2\t        +7.0\n",
        "    01011101\t +1.8125x2^2\t       +7.25\n",
        "    01011110\t  +1.875x2^2\t        +7.5\n",
        "    01011111\t +1.9375x2^2\t       +7.75\n",
        "    01100000\t    +1.0x2^3\t        +8.0\n",
        "    01100001\t +1.0625x2^3\t        +8.5\n",
        "    01100010\t  +1.125x2^3\t        +9.0\n",
        "    01100011\t +1.1875x2^3\t        +9.5\n",
        "    01100100\t   +1.25x2^3\t       +10.0\n",
        "    01100101\t +1.3125x2^3\t       +10.5\n",
        "    01100110\t  +1.375x2^3\t       +11.0\n",
        "    01100111\t +1.4375x2^3\t       +11.5\n",
        "    01101000\t    +1.5x2^3\t       +12.0\n",
        "    01101001\t +1.5625x2^3\t       +12.5\n",
        "    01101010\t  +1.625x2^3\t       +13.0\n",
        "    01101011\t +1.6875x2^3\t       +13.5\n",
        "    01101100\t   +1.75x2^3\t       +14.0\n",
        "    01101101\t +1.8125x2^3\t       +14.5\n",
        "    01101110\t  +1.875x2^3\t       +15.0\n",
        "    01101111\t +1.9375x2^3\t       +15.5\n",
        "    01110000\t    +1.0x2^4\t       +16.0\n",
        "    01110001\t +1.0625x2^4\t       +17.0\n",
        "    01110010\t  +1.125x2^4\t       +18.0\n",
        "    01110011\t +1.1875x2^4\t       +19.0\n",
        "    01110100\t   +1.25x2^4\t       +20.0\n",
        "    01110101\t +1.3125x2^4\t       +21.0\n",
        "    01110110\t  +1.375x2^4\t       +22.0\n",
        "    01110111\t +1.4375x2^4\t       +23.0\n",
        "    01111000\t    +1.5x2^4\t       +24.0\n",
        "    01111001\t +1.5625x2^4\t       +25.0\n",
        "    01111010\t  +1.625x2^4\t       +26.0\n",
        "    01111011\t +1.6875x2^4\t       +27.0\n",
        "    01111100\t   +1.75x2^4\t       +28.0\n",
        "    01111101\t +1.8125x2^4\t       +29.0\n",
        "    01111110\t  +1.875x2^4\t       +30.0\n",
        "    01111111\t +1.9375x2^4\t       +31.0\n",
        "    10000000\t   -1.0x2^-3\t      -0.125\n",
        "    10000001\t-1.0625x2^-3\t  -0.1328125\n",
        "    10000010\t -1.125x2^-3\t   -0.140625\n",
        "    10000011\t-1.1875x2^-3\t  -0.1484375\n",
        "    10000100\t  -1.25x2^-3\t    -0.15625\n",
        "    10000101\t-1.3125x2^-3\t  -0.1640625\n",
        "    10000110\t -1.375x2^-3\t   -0.171875\n",
        "    10000111\t-1.4375x2^-3\t  -0.1796875\n",
        "    10001000\t   -1.5x2^-3\t     -0.1875\n",
        "    10001001\t-1.5625x2^-3\t  -0.1953125\n",
        "    10001010\t -1.625x2^-3\t   -0.203125\n",
        "    10001011\t-1.6875x2^-3\t  -0.2109375\n",
        "    10001100\t  -1.75x2^-3\t    -0.21875\n",
        "    10001101\t-1.8125x2^-3\t  -0.2265625\n",
        "    10001110\t -1.875x2^-3\t   -0.234375\n",
        "    10001111\t-1.9375x2^-3\t  -0.2421875\n",
        "    10010000\t   -1.0x2^-2\t       -0.25\n",
        "    10010001\t-1.0625x2^-2\t   -0.265625\n",
        "    10010010\t -1.125x2^-2\t    -0.28125\n",
        "    10010011\t-1.1875x2^-2\t   -0.296875\n",
        "    10010100\t  -1.25x2^-2\t     -0.3125\n",
        "    10010101\t-1.3125x2^-2\t   -0.328125\n",
        "    10010110\t -1.375x2^-2\t    -0.34375\n",
        "    10010111\t-1.4375x2^-2\t   -0.359375\n",
        "    10011000\t   -1.5x2^-2\t      -0.375\n",
        "    10011001\t-1.5625x2^-2\t   -0.390625\n",
        "    10011010\t -1.625x2^-2\t    -0.40625\n",
        "    10011011\t-1.6875x2^-2\t   -0.421875\n",
        "    10011100\t  -1.75x2^-2\t     -0.4375\n",
        "    10011101\t-1.8125x2^-2\t   -0.453125\n",
        "    10011110\t -1.875x2^-2\t    -0.46875\n",
        "    10011111\t-1.9375x2^-2\t   -0.484375\n",
        "    10100000\t   -1.0x2^-1\t        -0.5\n",
        "    10100001\t-1.0625x2^-1\t    -0.53125\n",
        "    10100010\t -1.125x2^-1\t     -0.5625\n",
        "    10100011\t-1.1875x2^-1\t    -0.59375\n",
        "    10100100\t  -1.25x2^-1\t      -0.625\n",
        "    10100101\t-1.3125x2^-1\t    -0.65625\n",
        "    10100110\t -1.375x2^-1\t     -0.6875\n",
        "    10100111\t-1.4375x2^-1\t    -0.71875\n",
        "    10101000\t   -1.5x2^-1\t       -0.75\n",
        "    10101001\t-1.5625x2^-1\t    -0.78125\n",
        "    10101010\t -1.625x2^-1\t     -0.8125\n",
        "    10101011\t-1.6875x2^-1\t    -0.84375\n",
        "    10101100\t  -1.75x2^-1\t      -0.875\n",
        "    10101101\t-1.8125x2^-1\t    -0.90625\n",
        "    10101110\t -1.875x2^-1\t     -0.9375\n",
        "    10101111\t-1.9375x2^-1\t    -0.96875\n",
        "    10110000\t    -1.0x2^0\t        -1.0\n",
        "    10110001\t -1.0625x2^0\t     -1.0625\n",
        "    10110010\t  -1.125x2^0\t      -1.125\n",
        "    10110011\t -1.1875x2^0\t     -1.1875\n",
        "    10110100\t   -1.25x2^0\t       -1.25\n",
        "    10110101\t -1.3125x2^0\t     -1.3125\n",
        "    10110110\t  -1.375x2^0\t      -1.375\n",
        "    10110111\t -1.4375x2^0\t     -1.4375\n",
        "    10111000\t    -1.5x2^0\t        -1.5\n",
        "    10111001\t -1.5625x2^0\t     -1.5625\n",
        "    10111010\t  -1.625x2^0\t      -1.625\n",
        "    10111011\t -1.6875x2^0\t     -1.6875\n",
        "    10111100\t   -1.75x2^0\t       -1.75\n",
        "    10111101\t -1.8125x2^0\t     -1.8125\n",
        "    10111110\t  -1.875x2^0\t      -1.875\n",
        "    10111111\t -1.9375x2^0\t     -1.9375\n",
        "    11000000\t    -1.0x2^1\t        -2.0\n",
        "    11000001\t -1.0625x2^1\t      -2.125\n",
        "    11000010\t  -1.125x2^1\t       -2.25\n",
        "    11000011\t -1.1875x2^1\t      -2.375\n",
        "    11000100\t   -1.25x2^1\t        -2.5\n",
        "    11000101\t -1.3125x2^1\t      -2.625\n",
        "    11000110\t  -1.375x2^1\t       -2.75\n",
        "    11000111\t -1.4375x2^1\t      -2.875\n",
        "    11001000\t    -1.5x2^1\t        -3.0\n",
        "    11001001\t -1.5625x2^1\t      -3.125\n",
        "    11001010\t  -1.625x2^1\t       -3.25\n",
        "    11001011\t -1.6875x2^1\t      -3.375\n",
        "    11001100\t   -1.75x2^1\t        -3.5\n",
        "    11001101\t -1.8125x2^1\t      -3.625\n",
        "    11001110\t  -1.875x2^1\t       -3.75\n",
        "    11001111\t -1.9375x2^1\t      -3.875\n",
        "    11010000\t    -1.0x2^2\t        -4.0\n",
        "    11010001\t -1.0625x2^2\t       -4.25\n",
        "    11010010\t  -1.125x2^2\t        -4.5\n",
        "    11010011\t -1.1875x2^2\t       -4.75\n",
        "    11010100\t   -1.25x2^2\t        -5.0\n",
        "    11010101\t -1.3125x2^2\t       -5.25\n",
        "    11010110\t  -1.375x2^2\t        -5.5\n",
        "    11010111\t -1.4375x2^2\t       -5.75\n",
        "    11011000\t    -1.5x2^2\t        -6.0\n",
        "    11011001\t -1.5625x2^2\t       -6.25\n",
        "    11011010\t  -1.625x2^2\t        -6.5\n",
        "    11011011\t -1.6875x2^2\t       -6.75\n",
        "    11011100\t   -1.75x2^2\t        -7.0\n",
        "    11011101\t -1.8125x2^2\t       -7.25\n",
        "    11011110\t  -1.875x2^2\t        -7.5\n",
        "    11011111\t -1.9375x2^2\t       -7.75\n",
        "    11100000\t    -1.0x2^3\t        -8.0\n",
        "    11100001\t -1.0625x2^3\t        -8.5\n",
        "    11100010\t  -1.125x2^3\t        -9.0\n",
        "    11100011\t -1.1875x2^3\t        -9.5\n",
        "    11100100\t   -1.25x2^3\t       -10.0\n",
        "    11100101\t -1.3125x2^3\t       -10.5\n",
        "    11100110\t  -1.375x2^3\t       -11.0\n",
        "    11100111\t -1.4375x2^3\t       -11.5\n",
        "    11101000\t    -1.5x2^3\t       -12.0\n",
        "    11101001\t -1.5625x2^3\t       -12.5\n",
        "    11101010\t  -1.625x2^3\t       -13.0\n",
        "    11101011\t -1.6875x2^3\t       -13.5\n",
        "    11101100\t   -1.75x2^3\t       -14.0\n",
        "    11101101\t -1.8125x2^3\t       -14.5\n",
        "    11101110\t  -1.875x2^3\t       -15.0\n",
        "    11101111\t -1.9375x2^3\t       -15.5\n",
        "    11110000\t    -1.0x2^4\t       -16.0\n",
        "    11110001\t -1.0625x2^4\t       -17.0\n",
        "    11110010\t  -1.125x2^4\t       -18.0\n",
        "    11110011\t -1.1875x2^4\t       -19.0\n",
        "    11110100\t   -1.25x2^4\t       -20.0\n",
        "    11110101\t -1.3125x2^4\t       -21.0\n",
        "    11110110\t  -1.375x2^4\t       -22.0\n",
        "    11110111\t -1.4375x2^4\t       -23.0\n",
        "    11111000\t    -1.5x2^4\t       -24.0\n",
        "    11111001\t -1.5625x2^4\t       -25.0\n",
        "    11111010\t  -1.625x2^4\t       -26.0\n",
        "    11111011\t -1.6875x2^4\t       -27.0\n",
        "    11111100\t   -1.75x2^4\t       -28.0\n",
        "    11111101\t -1.8125x2^4\t       -29.0\n",
        "    11111110\t  -1.875x2^4\t       -30.0\n",
        "    11111111\t -1.9375x2^4\t       -31.0\n"
       ]
      }
     ],
     "prompt_number": 53
    },
    {
     "cell_type": "markdown",
     "metadata": {},
     "source": [
      "* Grafica el n\u00famero de d\u00edgitos en un `b\u00ednade` usando un histograma."
     ]
    },
    {
     "cell_type": "code",
     "collapsed": false,
     "input": [
      "%matplotlib inline\n",
      "import numpy as np\n",
      "import matplotlib.pyplot as plt"
     ],
     "language": "python",
     "metadata": {},
     "outputs": [],
     "prompt_number": 54
    },
    {
     "cell_type": "code",
     "collapsed": false,
     "input": [
      "# Escogemos binades c\u00f3mo las binades, hay 8 b\u00ednades y por cada b\u00ednade hay 2**4 mantisas y cada mantisa tiene a lo mas 4 d\u00edgitos\n",
      "binades=np.zeros(9).astype(int)+4\n",
      "plt.hist(binades,9)\n",
      "plt.xlabel(u'B\u00ednades',fontsize=10)\n",
      "plt.ylabel(u'D\u00edgitos',fontsize=10)\n",
      "plt.title(u'Histograma de b\u00ednades vs d\u00edgitos',fontsize=10)\n",
      "plt.xlim(-5,5)\n",
      "plt.ylim(0,10)"
     ],
     "language": "python",
     "metadata": {},
     "outputs": [
      {
       "metadata": {},
       "output_type": "pyout",
       "prompt_number": 68,
       "text": [
        "(0, 10)"
       ]
      },
      {
       "metadata": {},
       "output_type": "display_data",
       "png": "[encoded data removed]",
       "text": [
        "<matplotlib.figure.Figure at 0x7f8a9f35da10>"
       ]
      }
     ],
     "prompt_number": 68
    },
    {
     "cell_type": "markdown",
     "metadata": {},
     "source": [
      "* Grafica en un histograma la **densidad** de d\u00edgitos que existen por cada entero."
     ]
    },
    {
     "cell_type": "code",
     "collapsed": false,
     "input": [
      "# \u00bfEs el n\u00famero de enteros por cada b\u00ednade?\n",
      "# Primero ordeno los n\u00fameros que hay de acuerdo al b\u00ednade\n",
      "numero=[]\n",
      "for signo in signoString:\n",
      "    for exponente in exponenteString:\n",
      "        for mantisa in mantisaString:\n",
      "            for i in range(-4,5,1): # Los exponentes\n",
      "                if funcionExponente(exponente)==i:\n",
      "                    if funcionSigno(signo)=='-':\n",
      "                        numero.append((-1)*(1+funcionMantisa(mantisa))*(2**funcionExponente(exponente)))\n",
      "                    else:\n",
      "                        numero.append((1+funcionMantisa(mantisa))*(2**funcionExponente(exponente)))\n",
      "\n",
      "plt.hist(numero,9)\n",
      "plt.xlabel(u'B\u00ednade',fontsize=10)\n",
      "plt.ylabel(u'N\u00famero',fontsize=10)\n",
      "plt.title(u'Histograma de b\u00ednades vs n\u00fameros',fontsize=10)\n",
      "plt.xlim(-5,5)\n",
      "plt.ylim(0,10)\n",
      "\n",
      "# No me sali\u00f3 graficar; es claro que a diferencia del primero, las barras tendr\u00e1n distintos niveles conforme se acercan al cero.\n",
      "# Esto es como lo que nos hab\u00eda explicado en clases anteriores: son mayores las representaciones de n\u00fameros cercanos al cero."
     ],
     "language": "python",
     "metadata": {},
     "outputs": [
      {
       "metadata": {},
       "output_type": "pyout",
       "prompt_number": 67,
       "text": [
        "(0, 10)"
       ]
      },
      {
       "metadata": {},
       "output_type": "display_data",
       "png": "[encoded data removed]",
       "text": [
        "<matplotlib.figure.Figure at 0x7f8a9f9dc390>"
       ]
      }
     ],
     "prompt_number": 67
    },
    {
     "cell_type": "heading",
     "level": 2,
     "metadata": {},
     "source": [
      "Problema 7"
     ]
    },
    {
     "cell_type": "markdown",
     "metadata": {},
     "source": [
      "Observa el c\u00f3digo de `GNU Octave` siguiente:"
     ]
    },
    {
     "cell_type": "code",
     "collapsed": false,
     "input": [
      "!cat strange_floats_sp.m"
     ],
     "language": "python",
     "metadata": {},
     "outputs": [
      {
       "output_type": "stream",
       "stream": "stdout",
       "text": [
        "x = single(77777.0)\r\n",
        "y = single(7.0)\r\n",
        "inv_y = 1.0 / y\r\n",
        "\r\n",
        "z = x / y\r\n",
        "z1 = x * inv_y\r\n",
        "\r\n",
        "if (z != z1)\r\n",
        "  sprintf(\"%1.3f != %1.3f\", z, z1)\r\n",
        "  sprintf(\"%1.30f != %1.30f\", z, z1)\r\n",
        "else\r\n",
        "  sprintf(\"%1.3f == %1.3f\", z, z1)\r\n",
        "  sprintf(\"%1.30f == %1.30f\", z, z1)\r\n",
        "endif\r\n"
       ]
      }
     ],
     "prompt_number": 10
    },
    {
     "cell_type": "markdown",
     "metadata": {},
     "source": [
      "- \u00bfQu\u00e9 hace este c\u00f3digo?\n",
      "\n",
      "**RESPUESTA:** \n",
      "\n",
      "Convierte los n\u00fameros correspondientes, x,y, a single precision. Luego, saca el inverso de y. Z es la divisi\u00f3n de x entre y y z1 \"emula\" esta multiplicaci\u00f3n pero considerando el inverso de y.\n",
      "Muestra si son iguales o distintos primero con 3 decimales; luego con 30.\n",
      "\n",
      "- Abre el programa `GNU Octave` y ejec\u00fatalo en la consola. \u00bfResult\u00f3 lo que esperabas?\n",
      "\n",
      "S\u00ed esperaba que fueran distintos por la p\u00e9rdida de precisi\u00f3n.\n",
      "\n",
      "- `z`,  `z1` \u00bfSon `SP` o `DP`?\n",
      "\n",
      "Por como se definieron x,y, son SP."
     ]
    },
    {
     "cell_type": "markdown",
     "metadata": {},
     "source": [
      "<div class=\"alert alert-info\">\n",
      "**NOTA** `single` en `GNU Octave` y `Matlab` es la instrucci\u00f3n para indicarle al programa que trabaje en _single precision_.\n",
      "</div>"
     ]
    },
    {
     "cell_type": "markdown",
     "metadata": {},
     "source": [
      "<div class=\"alert alert-info\">\n",
      "**NOTA** Para ejecutar un _script_ en `GNU Octave` solo debes de teclear su nombre (obvio si lo tienes en tu carpeta)\n",
      "</div>"
     ]
    },
    {
     "cell_type": "markdown",
     "metadata": {},
     "source": [
      "- Comp\u00e1ralo con el _script_ `strange_floats_dp.m` \u00bfPor qu\u00e9 es la diferencia? Explica la salida de ambos programas.\n",
      "\n",
      "**RESPUESTA:**\n",
      "\n",
      "La diferencia estriba en que el segundo c\u00f3digo no especifica que x, y son SP."
     ]
    },
    {
     "cell_type": "code",
     "collapsed": false,
     "input": [
      "!cat strange_floats_dp.m"
     ],
     "language": "python",
     "metadata": {},
     "outputs": [
      {
       "output_type": "stream",
       "stream": "stdout",
       "text": [
        "x = 77777.0\r\n",
        "y = 7.0\r\n",
        "inv_y = 1.0 / y\r\n",
        "\r\n",
        "z = x / y\r\n",
        "z1 = x * inv_y\r\n",
        "\r\n",
        "if (z != z1)\r\n",
        "  sprintf(\"%1.3f != %1.3f\", z, z1)\r\n",
        "  sprintf(\"%1.30f != %1.30f\", z, z1)\r\n",
        "else\r\n",
        "  sprintf(\"%1.3f == %1.3f\", z, z1)\r\n",
        "  sprintf(\"%1.30f == %1.30f\", z, z1)\r\n",
        "endif\r\n"
       ]
      }
     ],
     "prompt_number": 11
    },
    {
     "cell_type": "markdown",
     "metadata": {},
     "source": [
      "- `z`,  `z1` \u00bfSon `SP` o `DP`?\n",
      "\n",
      "Son DP."
     ]
    },
    {
     "cell_type": "heading",
     "level": 2,
     "metadata": {},
     "source": [
      "Problema 8"
     ]
    },
    {
     "cell_type": "code",
     "collapsed": false,
     "input": [
      "import numpy as np"
     ],
     "language": "python",
     "metadata": {},
     "outputs": [],
     "prompt_number": 4
    },
    {
     "cell_type": "markdown",
     "metadata": {},
     "source": [
      "La _varianza_ de $n$ datos se define como"
     ]
    },
    {
     "cell_type": "markdown",
     "metadata": {},
     "source": [
      "$$\n",
      "\n",
      "s_n^2 = \\frac{1}{n - 1} \\sum^n_{i=1} (x_i - \\bar{x})^2\n",
      "\n",
      "$$"
     ]
    },
    {
     "cell_type": "markdown",
     "metadata": {},
     "source": [
      "donde $\\bar{x}$"
     ]
    },
    {
     "cell_type": "markdown",
     "metadata": {},
     "source": [
      "$$\n",
      "\\bar{x} = \\frac{1}{n} \\sum^n_{i = 1} x_i\n",
      "$$"
     ]
    },
    {
     "cell_type": "markdown",
     "metadata": {},
     "source": [
      "Esta definici\u00f3n es poco eficiente ya que requiere dos pasadas a los datos para calcular la _varianza_."
     ]
    },
    {
     "cell_type": "markdown",
     "metadata": {},
     "source": [
      "* Crea una funci\u00f3n an\u00f3nima en `numpy` o `GNU/Octave` que reproduzca este algoritmo."
     ]
    },
    {
     "cell_type": "code",
     "collapsed": false,
     "input": [
      "X= lambda arr: arr.sum()/len(arr) "
     ],
     "language": "python",
     "metadata": {},
     "outputs": [],
     "prompt_number": 16
    },
    {
     "cell_type": "code",
     "collapsed": false,
     "input": [
      "S= lambda arr:(1/float(len(arr)-1))*((arr-X(arr))**2).sum()"
     ],
     "language": "python",
     "metadata": {},
     "outputs": [],
     "prompt_number": 25
    },
    {
     "cell_type": "markdown",
     "metadata": {},
     "source": [
      "En los libros de texto se recomienda (o se reescribe) la definici\u00f3n de la siguiente manera:"
     ]
    },
    {
     "cell_type": "markdown",
     "metadata": {},
     "source": [
      "$$\n",
      "s_n^2 = \\frac{1}{n-1} \\left( \\sum^n_{i=1} x_i^2 -  \\frac{1}{n}\\left(\\sum^n_{i=1} x_i\\right)^2\\right)\n",
      "$$"
     ]
    },
    {
     "cell_type": "markdown",
     "metadata": {},
     "source": [
      "El cual es m\u00e1s eficiente computacionalmente hablando"
     ]
    },
    {
     "cell_type": "markdown",
     "metadata": {},
     "source": [
      "* Crea un programa en `numpy` o `GNU/Octave` que reproduzca este algoritmo."
     ]
    },
    {
     "cell_type": "code",
     "collapsed": false,
     "input": [
      "S2= lambda arr: (1/float(len(arr)-1))*((arr*arr).sum() - (1/float(len(arr))*((arr.sum())**2)))"
     ],
     "language": "python",
     "metadata": {},
     "outputs": [],
     "prompt_number": 28
    },
    {
     "cell_type": "markdown",
     "metadata": {},
     "source": [
      "* Sean los datos $10000, 10001, 10002$, Realiza el c\u00e1lculo a mano y comp\u00e1ralo con los dos algoritmos. Expl\u00edca las diferencias y el posible error."
     ]
    },
    {
     "cell_type": "code",
     "collapsed": false,
     "input": [
      "datos=np.array([10000,10001,10002])"
     ],
     "language": "python",
     "metadata": {},
     "outputs": [],
     "prompt_number": 29
    },
    {
     "cell_type": "code",
     "collapsed": false,
     "input": [
      "S(datos) # Posible ineficiente porque requiere dos funciones"
     ],
     "language": "python",
     "metadata": {},
     "outputs": [
      {
       "metadata": {},
       "output_type": "pyout",
       "prompt_number": 30,
       "text": [
        "1.0"
       ]
      }
     ],
     "prompt_number": 30
    },
    {
     "cell_type": "code",
     "collapsed": false,
     "input": [
      "S2(datos) # Ambos me dan igual \u00bfQu\u00e9 estoy haciendo mal, Dios pentadimensional? Colapso... a diferencia del programa )':\n",
      "          # Ya supe que no deb\u00eda explotar pero a\u00fan as\u00ed estoy colapsando\n",
      "        # S\u00ed estuvo dif\u00edcil, prof. #SufroComoItamita"
     ],
     "language": "python",
     "metadata": {},
     "outputs": [
      {
       "metadata": {},
       "output_type": "pyout",
       "prompt_number": 66,
       "text": [
        "1.0"
       ]
      }
     ],
     "prompt_number": 66
    },
    {
     "cell_type": "heading",
     "level": 2,
     "metadata": {},
     "source": [
      "Problema 9"
     ]
    },
    {
     "cell_type": "markdown",
     "metadata": {},
     "source": [
      "* Carga la funci\u00f3n `factorial` definida en el archivo `factorial.py`"
     ]
    },
    {
     "cell_type": "code",
     "collapsed": false,
     "input": [
      "from factorial import factorial"
     ],
     "language": "python",
     "metadata": {},
     "outputs": [],
     "prompt_number": 3
    },
    {
     "cell_type": "markdown",
     "metadata": {},
     "source": [
      "La serie de Maclaurin es un caso especial de la serie de Taylor de una funci\u00f3n $f$ alrededor de $0$"
     ]
    },
    {
     "cell_type": "markdown",
     "metadata": {},
     "source": [
      "$$\n",
      "f(x) = f(0) + f'(0) + \\frac{f''(0)}{2!} + \\ldots = \\sum^\\infty_{i=0}\\frac{1}{n\\!}f^{(n)}(0)\n",
      "$$"
     ]
    },
    {
     "cell_type": "markdown",
     "metadata": {},
     "source": [
      "En particular, la funci\u00f3n exponencial tiene la siguiente forma:"
     ]
    },
    {
     "cell_type": "markdown",
     "metadata": {},
     "source": [
      "$$\n",
      "e^x = 1 + x + \\frac{x^2}{2} + \\ldots = \\sum^\\infty_{i=0} \\frac{x^i}{i\\!}\n",
      "$$"
     ]
    },
    {
     "cell_type": "markdown",
     "metadata": {},
     "source": [
      "* Usando la funci\u00f3n `factorial` crea la funci\u00f3n `exp_maclaurin(x,n)`, que imprima lo siguiente:"
     ]
    },
    {
     "cell_type": "markdown",
     "metadata": {},
     "source": [
      "    print \"%12s\\t%12s\\t%12s\\t%12s\\t%20s\\t%20s\" % (\"i\", \"x\", \"x^i\", \"factorial(i)\", \"x^i/factorial(i)\", \"suma\")"
     ]
    },
    {
     "cell_type": "code",
     "collapsed": false,
     "input": [
      "def exp_maclaurin(x,n):\n",
      "    exp=0\n",
      "    for i in range(0,n+1):\n",
      "        exp+=x**i/factorial(i)\n",
      "        i+=1\n",
      "        print \"%12s\\t%12s\\t%12s\\t%12s\\t%20s\\t%20s\" % (i, x, x**i, factorial(i), (x**i)/factorial(i), exp)\n",
      "        # Prof en este problema me tard\u00e9 porque no hab\u00eda visto que se requiere un par\u00e9tesis en (x**i) para evitar errores de tipo\n",
      "        # Adem\u00e1s no se podr\u00eda copiar totalmete la l\u00ednea de print, faltar\u00eda quitar las comillas..."
     ],
     "language": "python",
     "metadata": {},
     "outputs": [],
     "prompt_number": 22
    },
    {
     "cell_type": "markdown",
     "metadata": {},
     "source": [
      "* Usando la funci\u00f3n `np.exp` calcula `0`, `1`, `5.5` y `-5.5`"
     ]
    },
    {
     "cell_type": "code",
     "collapsed": false,
     "input": [
      "for i in (0,1,5.5,-5.5):\n",
      "    print np.exp(i)\n",
      "    "
     ],
     "language": "python",
     "metadata": {},
     "outputs": [
      {
       "output_type": "stream",
       "stream": "stdout",
       "text": [
        "1.0\n",
        "2.71828182846\n",
        "244.691932264\n",
        "0.00408677143846\n"
       ]
      }
     ],
     "prompt_number": 23
    },
    {
     "cell_type": "markdown",
     "metadata": {},
     "source": [
      "* Usando tu funci\u00f3n, calcula los mismos valores a orden 20 \u00bfEn cu\u00e1l falla? \u00bfPor qu\u00e9 crees que sea?"
     ]
    },
    {
     "cell_type": "code",
     "collapsed": false,
     "input": [
      "for i in (0,1,5.5,-5.5): \n",
      "    print exp_maclaurin(i,20)"
     ],
     "language": "python",
     "metadata": {},
     "outputs": [
      {
       "output_type": "stream",
       "stream": "stdout",
       "text": [
        "           1\t           0\t           0\t           1\t                   0\t                   1\n",
        "           2\t           0\t           0\t           2\t                   0\t                   1\n",
        "           3\t           0\t           0\t           6\t                   0\t                   1\n",
        "           4\t           0\t           0\t          24\t                   0\t                   1\n",
        "           5\t           0\t           0\t         120\t                   0\t                   1\n",
        "           6\t           0\t           0\t         720\t                   0\t                   1\n",
        "           7\t           0\t           0\t        5040\t                   0\t                   1\n",
        "           8\t           0\t           0\t       40320\t                   0\t                   1\n",
        "           9\t           0\t           0\t      362880\t                   0\t                   1\n",
        "          10\t           0\t           0\t     3628800\t                   0\t                   1\n",
        "          11\t           0\t           0\t    39916800\t                   0\t                   1\n",
        "          12\t           0\t           0\t   479001600\t                   0\t                   1\n",
        "          13\t           0\t           0\t  6227020800\t                   0\t                   1\n",
        "          14\t           0\t           0\t 87178291200\t                   0\t                   1\n",
        "          15\t           0\t           0\t1307674368000\t                   0\t                   1\n",
        "          16\t           0\t           0\t20922789888000\t                   0\t                   1\n",
        "          17\t           0\t           0\t355687428096000\t                   0\t                   1\n",
        "          18\t           0\t           0\t6402373705728000\t                   0\t                   1\n",
        "          19\t           0\t           0\t121645100408832000\t                   0\t                   1\n",
        "          20\t           0\t           0\t2432902008176640000\t                   0\t                   1\n",
        "          21\t           0\t           0\t51090942171709440000\t                   0\t                   1\n",
        "None\n",
        "           1\t           1\t           1\t           1\t                   1\t                   1\n",
        "           2\t           1\t           1\t           2\t                   0\t                   2\n",
        "           3\t           1\t           1\t           6\t                   0\t                   2\n",
        "           4\t           1\t           1\t          24\t                   0\t                   2\n",
        "           5\t           1\t           1\t         120\t                   0\t                   2\n",
        "           6\t           1\t           1\t         720\t                   0\t                   2\n",
        "           7\t           1\t           1\t        5040\t                   0\t                   2\n",
        "           8\t           1\t           1\t       40320\t                   0\t                   2\n",
        "           9\t           1\t           1\t      362880\t                   0\t                   2\n",
        "          10\t           1\t           1\t     3628800\t                   0\t                   2\n",
        "          11\t           1\t           1\t    39916800\t                   0\t                   2\n",
        "          12\t           1\t           1\t   479001600\t                   0\t                   2\n",
        "          13\t           1\t           1\t  6227020800\t                   0\t                   2\n",
        "          14\t           1\t           1\t 87178291200\t                   0\t                   2\n",
        "          15\t           1\t           1\t1307674368000\t                   0\t                   2\n",
        "          16\t           1\t           1\t20922789888000\t                   0\t                   2\n",
        "          17\t           1\t           1\t355687428096000\t                   0\t                   2\n",
        "          18\t           1\t           1\t6402373705728000\t                   0\t                   2\n",
        "          19\t           1\t           1\t121645100408832000\t                   0\t                   2\n",
        "          20\t           1\t           1\t2432902008176640000\t                   0\t                   2\n",
        "          21\t           1\t           1\t51090942171709440000\t                   0\t                   2\n",
        "None\n",
        "           1\t         5.5\t         5.5\t           1\t                 5.5\t                 1.0\n",
        "           2\t         5.5\t       30.25\t           2\t              15.125\t                 6.5\n",
        "           3\t         5.5\t     166.375\t           6\t       27.7291666667\t              21.625\n",
        "           4\t         5.5\t    915.0625\t          24\t       38.1276041667\t       49.3541666667\n",
        "           5\t         5.5\t  5032.84375\t         120\t       41.9403645833\t       87.4817708333\n",
        "           6\t         5.5\t27680.640625\t         720\t       38.4453342014\t       129.422135417\n",
        "           7\t         5.5\t152243.523438\t        5040\t       30.2070483011\t       167.867469618\n",
        "           8\t         5.5\t837339.378906\t       40320\t        20.767345707\t       198.074517919\n",
        "           9\t         5.5\t4605366.58398\t      362880\t       12.6911557098\t       218.841863626\n",
        "          10\t         5.5\t25329516.2119\t     3628800\t       6.98013564041\t       231.533019336\n",
        "          11\t         5.5\t139312339.166\t    39916800\t        3.4900678202\t       238.513154976\n",
        "          12\t         5.5\t766217865.41\t   479001600\t       1.59961441759\t       242.003222797\n",
        "          13\t         5.5\t4214198259.76\t  6227020800\t      0.676759945905\t       243.602837214\n",
        "          14\t         5.5\t23178090428.7\t 87178291200\t      0.265869978748\t        244.27959716\n",
        "          15\t         5.5\t1.27479497358e+11\t1307674368000\t     0.0974856588744\t       244.545467139\n",
        "          16\t         5.5\t7.01137235467e+11\t20922789888000\t     0.0335106952381\t       244.642952798\n",
        "          17\t         5.5\t3.85625479507e+12\t355687428096000\t     0.0108416955182\t       244.676463493\n",
        "          18\t         5.5\t2.12094013729e+13\t6402373705728000\t    0.00331274029723\t       244.687305188\n",
        "          19\t         5.5\t1.16651707551e+14\t121645100408832000\t   0.000958951138671\t       244.690617929\n",
        "          20\t         5.5\t6.4158439153e+14\t2432902008176640000\t   0.000263711563135\t        244.69157688\n",
        "          21\t         5.5\t3.52871415341e+15\t51090942171709440000\t   6.90673141543e-05\t       244.691840591\n",
        "None\n",
        "           1\t        -5.5\t        -5.5\t           1\t                -5.5\t                 1.0\n",
        "           2\t        -5.5\t       30.25\t           2\t              15.125\t                -4.5\n",
        "           3\t        -5.5\t    -166.375\t           6\t      -27.7291666667\t              10.625\n",
        "           4\t        -5.5\t    915.0625\t          24\t       38.1276041667\t      -17.1041666667\n",
        "           5\t        -5.5\t -5032.84375\t         120\t      -41.9403645833\t          21.0234375\n",
        "           6\t        -5.5\t27680.640625\t         720\t       38.4453342014\t      -20.9169270833\n",
        "           7\t        -5.5\t-152243.523438\t        5040\t      -30.2070483011\t       17.5284071181\n",
        "           8\t        -5.5\t837339.378906\t       40320\t        20.767345707\t       -12.678641183\n",
        "           9\t        -5.5\t-4605366.58398\t      362880\t      -12.6911557098\t       8.08870452396\n",
        "          10\t        -5.5\t25329516.2119\t     3628800\t       6.98013564041\t      -4.60245118587\n",
        "          11\t        -5.5\t-139312339.166\t    39916800\t       -3.4900678202\t       2.37768445454\n",
        "          12\t        -5.5\t766217865.41\t   479001600\t       1.59961441759\t      -1.11238336566\n",
        "          13\t        -5.5\t-4214198259.76\t  6227020800\t     -0.676759945905\t      0.487231051929\n",
        "          14\t        -5.5\t23178090428.7\t 87178291200\t      0.265869978748\t     -0.189528893976\n",
        "          15\t        -5.5\t-1.27479497358e+11\t1307674368000\t    -0.0974856588744\t     0.0763410847723\n",
        "          16\t        -5.5\t7.01137235467e+11\t20922789888000\t     0.0335106952381\t    -0.0211445741022\n",
        "          17\t        -5.5\t-3.85625479507e+12\t355687428096000\t    -0.0108416955182\t     0.0123661211359\n",
        "          18\t        -5.5\t2.12094013729e+13\t6402373705728000\t    0.00331274029723\t    0.00152442561772\n",
        "          19\t        -5.5\t-1.16651707551e+14\t121645100408832000\t  -0.000958951138671\t    0.00483716591495\n",
        "          20\t        -5.5\t6.4158439153e+14\t2432902008176640000\t   0.000263711563135\t    0.00387821477628\n",
        "          21\t        -5.5\t-3.52871415341e+15\t51090942171709440000\t  -6.90673141543e-05\t    0.00414192633941\n",
        "None\n"
       ]
      }
     ],
     "prompt_number": 24
    },
    {
     "cell_type": "markdown",
     "metadata": {},
     "source": [
      "**RESPUESTA:**\n",
      "\n",
      "En general los valores son muy similares. Solamente cambia para exp(1). El problema es que x es que no es float."
     ]
    },
    {
     "cell_type": "markdown",
     "metadata": {},
     "source": [
      "* \u00bfC\u00f3mo resolver\u00edas este problema? Implementa tu soluci\u00f3n."
     ]
    },
    {
     "cell_type": "code",
     "collapsed": false,
     "input": [
      "def exp_maclaurin(x,n):\n",
      "    exp=0\n",
      "    x=float(x)\n",
      "    for i in range(0,n+1):\n",
      "        exp+=x**i/factorial(i)\n",
      "        i+=1\n",
      "        print \"%12s\\t%12s\\t%12s\\t%12s\\t%20s\\t%20s\" % (i, x, x**i, factorial(i), (x**i)/factorial(i), exp)\n",
      "        # Prof en este problema me tard\u00e9 porque no hab\u00eda visto que se requiere un par\u00e9tesis en (x**i) para evitar errores de tipo\n",
      "        # Adem\u00e1s no se podr\u00eda copiar totalmete la l\u00ednea de print, faltar\u00eda quitar las comillas..."
     ],
     "language": "python",
     "metadata": {},
     "outputs": [],
     "prompt_number": 26
    },
    {
     "cell_type": "code",
     "collapsed": false,
     "input": [
      "for i in (0,1,5.5,-5.5): \n",
      "    print exp_maclaurin(i,20)"
     ],
     "language": "python",
     "metadata": {},
     "outputs": [
      {
       "output_type": "stream",
       "stream": "stdout",
       "text": [
        "           1\t         0.0\t         0.0\t           1\t                 0.0\t                 1.0\n",
        "           2\t         0.0\t         0.0\t           2\t                 0.0\t                 1.0\n",
        "           3\t         0.0\t         0.0\t           6\t                 0.0\t                 1.0\n",
        "           4\t         0.0\t         0.0\t          24\t                 0.0\t                 1.0\n",
        "           5\t         0.0\t         0.0\t         120\t                 0.0\t                 1.0\n",
        "           6\t         0.0\t         0.0\t         720\t                 0.0\t                 1.0\n",
        "           7\t         0.0\t         0.0\t        5040\t                 0.0\t                 1.0\n",
        "           8\t         0.0\t         0.0\t       40320\t                 0.0\t                 1.0\n",
        "           9\t         0.0\t         0.0\t      362880\t                 0.0\t                 1.0\n",
        "          10\t         0.0\t         0.0\t     3628800\t                 0.0\t                 1.0\n",
        "          11\t         0.0\t         0.0\t    39916800\t                 0.0\t                 1.0\n",
        "          12\t         0.0\t         0.0\t   479001600\t                 0.0\t                 1.0\n",
        "          13\t         0.0\t         0.0\t  6227020800\t                 0.0\t                 1.0\n",
        "          14\t         0.0\t         0.0\t 87178291200\t                 0.0\t                 1.0\n",
        "          15\t         0.0\t         0.0\t1307674368000\t                 0.0\t                 1.0\n",
        "          16\t         0.0\t         0.0\t20922789888000\t                 0.0\t                 1.0\n",
        "          17\t         0.0\t         0.0\t355687428096000\t                 0.0\t                 1.0\n",
        "          18\t         0.0\t         0.0\t6402373705728000\t                 0.0\t                 1.0\n",
        "          19\t         0.0\t         0.0\t121645100408832000\t                 0.0\t                 1.0\n",
        "          20\t         0.0\t         0.0\t2432902008176640000\t                 0.0\t                 1.0\n",
        "          21\t         0.0\t         0.0\t51090942171709440000\t                 0.0\t                 1.0\n",
        "None\n",
        "           1\t         1.0\t         1.0\t           1\t                 1.0\t                 1.0\n",
        "           2\t         1.0\t         1.0\t           2\t                 0.5\t                 2.0\n",
        "           3\t         1.0\t         1.0\t           6\t      0.166666666667\t                 2.5\n",
        "           4\t         1.0\t         1.0\t          24\t     0.0416666666667\t       2.66666666667\n",
        "           5\t         1.0\t         1.0\t         120\t    0.00833333333333\t       2.70833333333\n",
        "           6\t         1.0\t         1.0\t         720\t    0.00138888888889\t       2.71666666667\n",
        "           7\t         1.0\t         1.0\t        5040\t   0.000198412698413\t       2.71805555556\n",
        "           8\t         1.0\t         1.0\t       40320\t   2.48015873016e-05\t       2.71825396825\n",
        "           9\t         1.0\t         1.0\t      362880\t    2.7557319224e-06\t       2.71827876984\n",
        "          10\t         1.0\t         1.0\t     3628800\t    2.7557319224e-07\t       2.71828152557\n",
        "          11\t         1.0\t         1.0\t    39916800\t   2.50521083854e-08\t       2.71828180115\n",
        "          12\t         1.0\t         1.0\t   479001600\t   2.08767569879e-09\t        2.7182818262\n",
        "          13\t         1.0\t         1.0\t  6227020800\t   1.60590438368e-10\t       2.71828182829\n",
        "          14\t         1.0\t         1.0\t 87178291200\t   1.14707455977e-11\t       2.71828182845\n",
        "          15\t         1.0\t         1.0\t1307674368000\t   7.64716373182e-13\t       2.71828182846\n",
        "          16\t         1.0\t         1.0\t20922789888000\t   4.77947733239e-14\t       2.71828182846\n",
        "          17\t         1.0\t         1.0\t355687428096000\t   2.81145725435e-15\t       2.71828182846\n",
        "          18\t         1.0\t         1.0\t6402373705728000\t   1.56192069686e-16\t       2.71828182846\n",
        "          19\t         1.0\t         1.0\t121645100408832000\t   8.22063524662e-18\t       2.71828182846\n",
        "          20\t         1.0\t         1.0\t2432902008176640000\t   4.11031762331e-19\t       2.71828182846\n",
        "          21\t         1.0\t         1.0\t51090942171709440000\t   1.95729410634e-20\t       2.71828182846\n",
        "None\n",
        "           1\t         5.5\t         5.5\t           1\t                 5.5\t                 1.0\n",
        "           2\t         5.5\t       30.25\t           2\t              15.125\t                 6.5\n",
        "           3\t         5.5\t     166.375\t           6\t       27.7291666667\t              21.625\n",
        "           4\t         5.5\t    915.0625\t          24\t       38.1276041667\t       49.3541666667\n",
        "           5\t         5.5\t  5032.84375\t         120\t       41.9403645833\t       87.4817708333\n",
        "           6\t         5.5\t27680.640625\t         720\t       38.4453342014\t       129.422135417\n",
        "           7\t         5.5\t152243.523438\t        5040\t       30.2070483011\t       167.867469618\n",
        "           8\t         5.5\t837339.378906\t       40320\t        20.767345707\t       198.074517919\n",
        "           9\t         5.5\t4605366.58398\t      362880\t       12.6911557098\t       218.841863626\n",
        "          10\t         5.5\t25329516.2119\t     3628800\t       6.98013564041\t       231.533019336\n",
        "          11\t         5.5\t139312339.166\t    39916800\t        3.4900678202\t       238.513154976\n",
        "          12\t         5.5\t766217865.41\t   479001600\t       1.59961441759\t       242.003222797\n",
        "          13\t         5.5\t4214198259.76\t  6227020800\t      0.676759945905\t       243.602837214\n",
        "          14\t         5.5\t23178090428.7\t 87178291200\t      0.265869978748\t        244.27959716\n",
        "          15\t         5.5\t1.27479497358e+11\t1307674368000\t     0.0974856588744\t       244.545467139\n",
        "          16\t         5.5\t7.01137235467e+11\t20922789888000\t     0.0335106952381\t       244.642952798\n",
        "          17\t         5.5\t3.85625479507e+12\t355687428096000\t     0.0108416955182\t       244.676463493\n",
        "          18\t         5.5\t2.12094013729e+13\t6402373705728000\t    0.00331274029723\t       244.687305188\n",
        "          19\t         5.5\t1.16651707551e+14\t121645100408832000\t   0.000958951138671\t       244.690617929\n",
        "          20\t         5.5\t6.4158439153e+14\t2432902008176640000\t   0.000263711563135\t        244.69157688\n",
        "          21\t         5.5\t3.52871415341e+15\t51090942171709440000\t   6.90673141543e-05\t       244.691840591\n",
        "None\n",
        "           1\t        -5.5\t        -5.5\t           1\t                -5.5\t                 1.0\n",
        "           2\t        -5.5\t       30.25\t           2\t              15.125\t                -4.5\n",
        "           3\t        -5.5\t    -166.375\t           6\t      -27.7291666667\t              10.625\n",
        "           4\t        -5.5\t    915.0625\t          24\t       38.1276041667\t      -17.1041666667\n",
        "           5\t        -5.5\t -5032.84375\t         120\t      -41.9403645833\t          21.0234375\n",
        "           6\t        -5.5\t27680.640625\t         720\t       38.4453342014\t      -20.9169270833\n",
        "           7\t        -5.5\t-152243.523438\t        5040\t      -30.2070483011\t       17.5284071181\n",
        "           8\t        -5.5\t837339.378906\t       40320\t        20.767345707\t       -12.678641183\n",
        "           9\t        -5.5\t-4605366.58398\t      362880\t      -12.6911557098\t       8.08870452396\n",
        "          10\t        -5.5\t25329516.2119\t     3628800\t       6.98013564041\t      -4.60245118587\n",
        "          11\t        -5.5\t-139312339.166\t    39916800\t       -3.4900678202\t       2.37768445454\n",
        "          12\t        -5.5\t766217865.41\t   479001600\t       1.59961441759\t      -1.11238336566\n",
        "          13\t        -5.5\t-4214198259.76\t  6227020800\t     -0.676759945905\t      0.487231051929\n",
        "          14\t        -5.5\t23178090428.7\t 87178291200\t      0.265869978748\t     -0.189528893976\n",
        "          15\t        -5.5\t-1.27479497358e+11\t1307674368000\t    -0.0974856588744\t     0.0763410847723\n",
        "          16\t        -5.5\t7.01137235467e+11\t20922789888000\t     0.0335106952381\t    -0.0211445741022\n",
        "          17\t        -5.5\t-3.85625479507e+12\t355687428096000\t    -0.0108416955182\t     0.0123661211359\n",
        "          18\t        -5.5\t2.12094013729e+13\t6402373705728000\t    0.00331274029723\t    0.00152442561772\n",
        "          19\t        -5.5\t-1.16651707551e+14\t121645100408832000\t  -0.000958951138671\t    0.00483716591495\n",
        "          20\t        -5.5\t6.4158439153e+14\t2432902008176640000\t   0.000263711563135\t    0.00387821477628\n",
        "          21\t        -5.5\t-3.52871415341e+15\t51090942171709440000\t  -6.90673141543e-05\t    0.00414192633941\n",
        "None\n"
       ]
      }
     ],
     "prompt_number": 27
    },
    {
     "cell_type": "markdown",
     "metadata": {},
     "source": [
      "<div class=\"alert alert-info\">\n",
      "**HINT** Recuerda las leyes de los exponentes\n",
      "</div>"
     ]
    },
    {
     "cell_type": "markdown",
     "metadata": {},
     "source": [
      "**RESPUESTA:**\n",
      "\n",
      "Y los errores ahora s\u00f3lo son muy peque\u00f1os por redondeo.\n"
     ]
    },
    {
     "cell_type": "heading",
     "level": 2,
     "metadata": {},
     "source": [
      "Problema 10"
     ]
    },
    {
     "cell_type": "markdown",
     "metadata": {},
     "source": [
      "- \u00bfQu\u00e9 pasa si usas 16 bits, 32 bits o 64 bits?\n",
      "- Implementa el **problema 8** usando el otro lenguaje que no usaste \u00bfEl resultado es diferente? "
     ]
    },
    {
     "cell_type": "markdown",
     "metadata": {},
     "source": [
      "**RESPUESTA:**\n",
      "\n",
      "Hay un *script* de octave (Problema10.m) en la carpeta de mi examen: en efecto truena horible *solo* en el segundo algor\u00edtmo a *single precision*. \n",
      "\n",
      "*Checar el* script *.*"
     ]
    },
    {
     "cell_type": "markdown",
     "metadata": {},
     "source": [
      "**Esto es todo.**"
     ]
    },
    {
     "cell_type": "code",
     "collapsed": false,
     "input": [],
     "language": "python",
     "metadata": {},
     "outputs": []
    }
   ],
   "metadata": {}
  }
 ]
}