{
 "metadata": {
  "name": "",
  "signature": "sha256:e4dc51e993f0a4fdb93953cfac6a7057e389a7e2226c436595012beb33a774c8"
 },
 "nbformat": 3,
 "nbformat_minor": 0,
 "worksheets": [
  {
   "cells": [
    {
     "cell_type": "code",
     "collapsed": false,
     "input": [
      "2**32"
     ],
     "language": "python",
     "metadata": {},
     "outputs": [
      {
       "metadata": {},
       "output_type": "pyout",
       "prompt_number": 1,
       "text": [
        "4294967296"
       ]
      }
     ],
     "prompt_number": 1
    },
    {
     "cell_type": "code",
     "collapsed": false,
     "input": [
      "[-2**32/2,2**32/2]"
     ],
     "language": "python",
     "metadata": {},
     "outputs": [
      {
       "metadata": {},
       "output_type": "pyout",
       "prompt_number": 2,
       "text": [
        "[-2147483648, 2147483648]"
       ]
      }
     ],
     "prompt_number": 2
    },
    {
     "cell_type": "code",
     "collapsed": false,
     "input": [
      "import sys\n",
      "sys.maxint"
     ],
     "language": "python",
     "metadata": {},
     "outputs": [
      {
       "metadata": {},
       "output_type": "pyout",
       "prompt_number": 3,
       "text": [
        "9223372036854775807"
       ]
      }
     ],
     "prompt_number": 3
    },
    {
     "cell_type": "code",
     "collapsed": false,
     "input": [
      "x=1\n",
      "print x\n",
      "type(x)"
     ],
     "language": "python",
     "metadata": {},
     "outputs": [
      {
       "output_type": "stream",
       "stream": "stdout",
       "text": [
        "1\n"
       ]
      },
      {
       "metadata": {},
       "output_type": "pyout",
       "prompt_number": 4,
       "text": [
        "int"
       ]
      }
     ],
     "prompt_number": 4
    },
    {
     "cell_type": "code",
     "collapsed": false,
     "input": [
      "x=1L\n",
      "print x\n",
      "type(x)"
     ],
     "language": "python",
     "metadata": {},
     "outputs": [
      {
       "output_type": "stream",
       "stream": "stdout",
       "text": [
        "1\n"
       ]
      },
      {
       "metadata": {},
       "output_type": "pyout",
       "prompt_number": 5,
       "text": [
        "long"
       ]
      }
     ],
     "prompt_number": 5
    },
    {
     "cell_type": "code",
     "collapsed": false,
     "input": [
      "x=10000000\n",
      "type(x)"
     ],
     "language": "python",
     "metadata": {},
     "outputs": [
      {
       "metadata": {},
       "output_type": "pyout",
       "prompt_number": 6,
       "text": [
        "int"
       ]
      }
     ],
     "prompt_number": 6
    },
    {
     "cell_type": "code",
     "collapsed": false,
     "input": [
      "type(x*x*x)"
     ],
     "language": "python",
     "metadata": {},
     "outputs": [
      {
       "metadata": {},
       "output_type": "pyout",
       "prompt_number": 7,
       "text": [
        "long"
       ]
      }
     ],
     "prompt_number": 7
    },
    {
     "cell_type": "code",
     "collapsed": false,
     "input": [
      "type(sys.maxint)"
     ],
     "language": "python",
     "metadata": {},
     "outputs": [
      {
       "metadata": {},
       "output_type": "pyout",
       "prompt_number": 8,
       "text": [
        "int"
       ]
      }
     ],
     "prompt_number": 8
    },
    {
     "cell_type": "code",
     "collapsed": false,
     "input": [
      "type(sys.maxint+1)"
     ],
     "language": "python",
     "metadata": {},
     "outputs": [
      {
       "metadata": {},
       "output_type": "pyout",
       "prompt_number": 9,
       "text": [
        "long"
       ]
      }
     ],
     "prompt_number": 9
    },
    {
     "cell_type": "code",
     "collapsed": false,
     "input": [
      "bin(123)"
     ],
     "language": "python",
     "metadata": {},
     "outputs": [
      {
       "metadata": {},
       "output_type": "pyout",
       "prompt_number": 10,
       "text": [
        "'0b1111011'"
       ]
      }
     ],
     "prompt_number": 10
    },
    {
     "cell_type": "code",
     "collapsed": false,
     "input": [
      "for i in range(0,256):\n",
      "    print str(i)+\" \"+bin(i)"
     ],
     "language": "python",
     "metadata": {},
     "outputs": [
      {
       "output_type": "stream",
       "stream": "stdout",
       "text": [
        "0 0b0\n",
        "1 0b1\n",
        "2 0b10\n",
        "3 0b11\n",
        "4 0b100\n",
        "5 0b101\n",
        "6 0b110\n",
        "7 0b111\n",
        "8 0b1000\n",
        "9 0b1001\n",
        "10 0b1010\n",
        "11 0b1011\n",
        "12 0b1100\n",
        "13 0b1101\n",
        "14 0b1110\n",
        "15 0b1111\n",
        "16 0b10000\n",
        "17 0b10001\n",
        "18 0b10010\n",
        "19 0b10011\n",
        "20 0b10100\n",
        "21 0b10101\n",
        "22 0b10110\n",
        "23 0b10111\n",
        "24 0b11000\n",
        "25 0b11001\n",
        "26 0b11010\n",
        "27 0b11011\n",
        "28 0b11100\n",
        "29 0b11101\n",
        "30 0b11110\n",
        "31 0b11111\n",
        "32 0b100000\n",
        "33 0b100001\n",
        "34 0b100010\n",
        "35 0b100011\n",
        "36 0b100100\n",
        "37 0b100101\n",
        "38 0b100110\n",
        "39 0b100111\n",
        "40 0b101000\n",
        "41 0b101001\n",
        "42 0b101010\n",
        "43 0b101011\n",
        "44 0b101100\n",
        "45 0b101101\n",
        "46 0b101110\n",
        "47 0b101111\n",
        "48 0b110000\n",
        "49 0b110001\n",
        "50 0b110010\n",
        "51 0b110011\n",
        "52 0b110100\n",
        "53 0b110101\n",
        "54 0b110110\n",
        "55 0b110111\n",
        "56 0b111000\n",
        "57 0b111001\n",
        "58 0b111010\n",
        "59 0b111011\n",
        "60 0b111100\n",
        "61 0b111101\n",
        "62 0b111110\n",
        "63 0b111111\n",
        "64 0b1000000\n",
        "65 0b1000001\n",
        "66 0b1000010\n",
        "67 0b1000011\n",
        "68 0b1000100\n",
        "69 0b1000101\n",
        "70 0b1000110\n",
        "71 0b1000111\n",
        "72 0b1001000\n",
        "73 0b1001001\n",
        "74 0b1001010\n",
        "75 0b1001011\n",
        "76 0b1001100\n",
        "77 0b1001101\n",
        "78 0b1001110\n",
        "79 0b1001111\n",
        "80 0b1010000\n",
        "81 0b1010001\n",
        "82 0b1010010\n",
        "83 0b1010011\n",
        "84 0b1010100\n",
        "85 0b1010101\n",
        "86 0b1010110\n",
        "87 0b1010111\n",
        "88 0b1011000\n",
        "89 0b1011001\n",
        "90 0b1011010\n",
        "91 0b1011011\n",
        "92 0b1011100\n",
        "93 0b1011101\n",
        "94 0b1011110\n",
        "95 0b1011111\n",
        "96 0b1100000\n",
        "97 0b1100001\n",
        "98 0b1100010\n",
        "99 0b1100011\n",
        "100 0b1100100\n",
        "101 0b1100101\n",
        "102 0b1100110\n",
        "103 0b1100111\n",
        "104 0b1101000\n",
        "105 0b1101001\n",
        "106 0b1101010\n",
        "107 0b1101011\n",
        "108 0b1101100\n",
        "109 0b1101101\n",
        "110 0b1101110\n",
        "111 0b1101111\n",
        "112 0b1110000\n",
        "113 0b1110001\n",
        "114 0b1110010\n",
        "115 0b1110011\n",
        "116 0b1110100\n",
        "117 0b1110101\n",
        "118 0b1110110\n",
        "119 0b1110111\n",
        "120 0b1111000\n",
        "121 0b1111001\n",
        "122 0b1111010\n",
        "123 0b1111011\n",
        "124 0b1111100\n",
        "125 0b1111101\n",
        "126 0b1111110\n",
        "127 0b1111111\n",
        "128 0b10000000\n",
        "129 0b10000001\n",
        "130 0b10000010\n",
        "131 0b10000011\n",
        "132 0b10000100\n",
        "133 0b10000101\n",
        "134 0b10000110\n",
        "135 0b10000111\n",
        "136 0b10001000\n",
        "137 0b10001001\n",
        "138 0b10001010\n",
        "139 0b10001011\n",
        "140 0b10001100\n",
        "141 0b10001101\n",
        "142 0b10001110\n",
        "143 0b10001111\n",
        "144 0b10010000\n",
        "145 0b10010001\n",
        "146 0b10010010\n",
        "147 0b10010011\n",
        "148 0b10010100\n",
        "149 0b10010101\n",
        "150 0b10010110\n",
        "151 0b10010111\n",
        "152 0b10011000\n",
        "153 0b10011001\n",
        "154 0b10011010\n",
        "155 0b10011011\n",
        "156 0b10011100\n",
        "157 0b10011101\n",
        "158 0b10011110\n",
        "159 0b10011111\n",
        "160 0b10100000\n",
        "161 0b10100001\n",
        "162 0b10100010\n",
        "163 0b10100011\n",
        "164 0b10100100\n",
        "165 0b10100101\n",
        "166 0b10100110\n",
        "167 0b10100111\n",
        "168 0b10101000\n",
        "169 0b10101001\n",
        "170 0b10101010\n",
        "171 0b10101011\n",
        "172 0b10101100\n",
        "173 0b10101101\n",
        "174 0b10101110\n",
        "175 0b10101111\n",
        "176 0b10110000\n",
        "177 0b10110001\n",
        "178 0b10110010\n",
        "179 0b10110011\n",
        "180 0b10110100\n",
        "181 0b10110101\n",
        "182 0b10110110\n",
        "183 0b10110111\n",
        "184 0b10111000\n",
        "185 0b10111001\n",
        "186 0b10111010\n",
        "187 0b10111011\n",
        "188 0b10111100\n",
        "189 0b10111101\n",
        "190 0b10111110\n",
        "191 0b10111111\n",
        "192 0b11000000\n",
        "193 0b11000001\n",
        "194 0b11000010\n",
        "195 0b11000011\n",
        "196 0b11000100\n",
        "197 0b11000101\n",
        "198 0b11000110\n",
        "199 0b11000111\n",
        "200 0b11001000\n",
        "201 0b11001001\n",
        "202 0b11001010\n",
        "203 0b11001011\n",
        "204 0b11001100\n",
        "205 0b11001101\n",
        "206 0b11001110\n",
        "207 0b11001111\n",
        "208 0b11010000\n",
        "209 0b11010001\n",
        "210 0b11010010\n",
        "211 0b11010011\n",
        "212 0b11010100\n",
        "213 0b11010101\n",
        "214 0b11010110\n",
        "215 0b11010111\n",
        "216 0b11011000\n",
        "217 0b11011001\n",
        "218 0b11011010\n",
        "219 0b11011011\n",
        "220 0b11011100\n",
        "221 0b11011101\n",
        "222 0b11011110\n",
        "223 0b11011111\n",
        "224 0b11100000\n",
        "225 0b11100001\n",
        "226 0b11100010\n",
        "227 0b11100011\n",
        "228 0b11100100\n",
        "229 0b11100101\n",
        "230 0b11100110\n",
        "231 0b11100111\n",
        "232 0b11101000\n",
        "233 0b11101001\n",
        "234 0b11101010\n",
        "235 0b11101011\n",
        "236 0b11101100\n",
        "237 0b11101101\n",
        "238 0b11101110\n",
        "239 0b11101111\n",
        "240 0b11110000\n",
        "241 0b11110001\n",
        "242 0b11110010\n",
        "243 0b11110011\n",
        "244 0b11110100\n",
        "245 0b11110101\n",
        "246 0b11110110\n",
        "247 0b11110111\n",
        "248 0b11111000\n",
        "249 0b11111001\n",
        "250 0b11111010\n",
        "251 0b11111011\n",
        "252 0b11111100\n",
        "253 0b11111101\n",
        "254 0b11111110\n",
        "255 0b11111111\n"
       ]
      }
     ],
     "prompt_number": 13
    },
    {
     "cell_type": "code",
     "collapsed": false,
     "input": [
      "bin(0.125)"
     ],
     "language": "python",
     "metadata": {},
     "outputs": [
      {
       "ename": "TypeError",
       "evalue": "'float' object cannot be interpreted as an index",
       "output_type": "pyerr",
       "traceback": [
        "\u001b[1;31m---------------------------------------------------------------------------\u001b[0m\n\u001b[1;31mTypeError\u001b[0m                                 Traceback (most recent call last)",
        "\u001b[1;32m<ipython-input-19-d9ebbdf47ef4>\u001b[0m in \u001b[0;36m<module>\u001b[1;34m()\u001b[0m\n\u001b[1;32m----> 1\u001b[1;33m \u001b[0mbin\u001b[0m\u001b[1;33m(\u001b[0m\u001b[1;36m0.125\u001b[0m\u001b[1;33m)\u001b[0m\u001b[1;33m\u001b[0m\u001b[0m\n\u001b[0m",
        "\u001b[1;31mTypeError\u001b[0m: 'float' object cannot be interpreted as an index"
       ]
      }
     ],
     "prompt_number": 19
    },
    {
     "cell_type": "code",
     "collapsed": false,
     "input": [
      "float.hex(0.125)"
     ],
     "language": "python",
     "metadata": {},
     "outputs": [
      {
       "metadata": {},
       "output_type": "pyout",
       "prompt_number": 20,
       "text": [
        "'0x1.0000000000000p-3'"
       ]
      }
     ],
     "prompt_number": 20
    },
    {
     "cell_type": "code",
     "collapsed": false,
     "input": [
      "0.1"
     ],
     "language": "python",
     "metadata": {},
     "outputs": [
      {
       "metadata": {},
       "output_type": "pyout",
       "prompt_number": 21,
       "text": [
        "0.1"
       ]
      }
     ],
     "prompt_number": 21
    },
    {
     "cell_type": "code",
     "collapsed": false,
     "input": [
      "0.1+0.2"
     ],
     "language": "python",
     "metadata": {},
     "outputs": [
      {
       "metadata": {},
       "output_type": "pyout",
       "prompt_number": 25,
       "text": [
        "0.30000000000000004"
       ]
      }
     ],
     "prompt_number": 25
    },
    {
     "cell_type": "code",
     "collapsed": false,
     "input": [
      "round(2.675,2)"
     ],
     "language": "python",
     "metadata": {},
     "outputs": [
      {
       "metadata": {},
       "output_type": "pyout",
       "prompt_number": 26,
       "text": [
        "2.67"
       ]
      }
     ],
     "prompt_number": 26
    },
    {
     "cell_type": "code",
     "collapsed": false,
     "input": [
      "from decimal import Decimal\n",
      "Decimal(2.675)"
     ],
     "language": "python",
     "metadata": {},
     "outputs": [
      {
       "metadata": {},
       "output_type": "pyout",
       "prompt_number": 27,
       "text": [
        "Decimal('2.67499999999999982236431605997495353221893310546875')"
       ]
      }
     ],
     "prompt_number": 27
    },
    {
     "cell_type": "code",
     "collapsed": false,
     "input": [
      "Decimal(0.1)"
     ],
     "language": "python",
     "metadata": {},
     "outputs": [
      {
       "metadata": {},
       "output_type": "pyout",
       "prompt_number": 28,
       "text": [
        "Decimal('0.1000000000000000055511151231257827021181583404541015625')"
       ]
      }
     ],
     "prompt_number": 28
    },
    {
     "cell_type": "code",
     "collapsed": false,
     "input": [
      "Decimal(0.2)"
     ],
     "language": "python",
     "metadata": {},
     "outputs": [
      {
       "metadata": {},
       "output_type": "pyout",
       "prompt_number": 29,
       "text": [
        "Decimal('0.200000000000000011102230246251565404236316680908203125')"
       ]
      }
     ],
     "prompt_number": 29
    },
    {
     "cell_type": "code",
     "collapsed": false,
     "input": [
      "Decimal(0.1)+Decimal(0.2)"
     ],
     "language": "python",
     "metadata": {},
     "outputs": [
      {
       "metadata": {},
       "output_type": "pyout",
       "prompt_number": 31,
       "text": [
        "Decimal('0.3000000000000000166533453694')"
       ]
      }
     ],
     "prompt_number": 31
    },
    {
     "cell_type": "code",
     "collapsed": false,
     "input": [
      "Decimal(float(1)/3)"
     ],
     "language": "python",
     "metadata": {},
     "outputs": [
      {
       "metadata": {},
       "output_type": "pyout",
       "prompt_number": 32,
       "text": [
        "Decimal('0.333333333333333314829616256247390992939472198486328125')"
       ]
      }
     ],
     "prompt_number": 32
    },
    {
     "cell_type": "markdown",
     "metadata": {},
     "source": [
      "Representar binariamente 0.125 con el estandar:\n",
      "0 (signo)\n",
      "11111111100 (exp)\n",
      "0...01000 (f) (en 0...0 hay 28, es 0)\n",
      "\n",
      "(-1)ala(s)2ala(e-1023) 1.f\n",
      "\n",
      "Luego,\n",
      "\n",
      "1(2\u207b\u00b3)(1.0)=1(1/8)(1)=0.125\n"
     ]
    },
    {
     "cell_type": "code",
     "collapsed": false,
     "input": [
      "8*10**9/float(8)"
     ],
     "language": "python",
     "metadata": {},
     "outputs": [
      {
       "metadata": {},
       "output_type": "pyout",
       "prompt_number": 36,
       "text": [
        "1000000000.0"
       ]
      }
     ],
     "prompt_number": 36
    },
    {
     "cell_type": "markdown",
     "metadata": {},
     "source": [
      "\u00bfCu\u00e1ntos flotantes caben en 1 Gb?\n",
      "Redondeando 8 bytes a 10 bytes, tenemos que hay 10\u2079/10 flotantes.\n",
      "\n",
      "Multiplicando 3.2 por 1.0 nos 'chutamos' tres n\u00fameros: los primeros y el resultado.\n",
      "\n",
      "\u00bfCu\u00e1ntos bytes se requieren para representar un n\u00famero complejo? \n",
      "F\u00e1cil, se requieren 2 flotantes para representar a un n\u00famero complejo; luego, se necesitan 16 bytes, 8 por cada uno."
     ]
    },
    {
     "cell_type": "code",
     "collapsed": false,
     "input": [
      "suma=0.0\n",
      "for x in range(10):\n",
      "    suma+=0.1\n",
      "suma"
     ],
     "language": "python",
     "metadata": {},
     "outputs": [
      {
       "metadata": {},
       "output_type": "pyout",
       "prompt_number": 37,
       "text": [
        "0.9999999999999999"
       ]
      }
     ],
     "prompt_number": 37
    },
    {
     "cell_type": "markdown",
     "metadata": {},
     "source": [
      "Para evitar errores:"
     ]
    },
    {
     "cell_type": "code",
     "collapsed": false,
     "input": [
      "x=0.0\n",
      "while abs(x-1.0)>1e-8:\n",
      "    x=x+0.1\n",
      "    print (\"x=%19.17g\" % (x))"
     ],
     "language": "python",
     "metadata": {},
     "outputs": [
      {
       "output_type": "stream",
       "stream": "stdout",
       "text": [
        "x=0.10000000000000001\n",
        "x=0.20000000000000001\n",
        "x=0.30000000000000004\n",
        "x=0.40000000000000002\n",
        "x=                0.5\n",
        "x=0.59999999999999998\n",
        "x=0.69999999999999996\n",
        "x=0.79999999999999993\n",
        "x=0.89999999999999991\n",
        "x=0.99999999999999989\n"
       ]
      }
     ],
     "prompt_number": 39
    },
    {
     "cell_type": "markdown",
     "metadata": {},
     "source": [
      "El n\u00famero m\u00e1ximo en IEEE-754:\n",
      "\n",
      "s=0, e=11111..., f=111111\n"
     ]
    },
    {
     "cell_type": "code",
     "collapsed": false,
     "input": [
      "x=1e200\n",
      "x"
     ],
     "language": "python",
     "metadata": {},
     "outputs": [
      {
       "metadata": {},
       "output_type": "pyout",
       "prompt_number": 45,
       "text": [
        "1e+200"
       ]
      }
     ],
     "prompt_number": 45
    },
    {
     "cell_type": "code",
     "collapsed": false,
     "input": [
      "type(x)"
     ],
     "language": "python",
     "metadata": {},
     "outputs": [
      {
       "metadata": {},
       "output_type": "pyout",
       "prompt_number": 46,
       "text": [
        "float"
       ]
      }
     ],
     "prompt_number": 46
    },
    {
     "cell_type": "code",
     "collapsed": false,
     "input": [
      "y=x*x\n",
      "y"
     ],
     "language": "python",
     "metadata": {},
     "outputs": [
      {
       "metadata": {},
       "output_type": "pyout",
       "prompt_number": 48,
       "text": [
        "inf"
       ]
      }
     ],
     "prompt_number": 48
    },
    {
     "cell_type": "code",
     "collapsed": false,
     "input": [
      "type(y)"
     ],
     "language": "python",
     "metadata": {},
     "outputs": [
      {
       "metadata": {},
       "output_type": "pyout",
       "prompt_number": 49,
       "text": [
        "float"
       ]
      }
     ],
     "prompt_number": 49
    },
    {
     "cell_type": "markdown",
     "metadata": {},
     "source": [
      "Infinito es un n\u00famero en los n\u00famero flotantes. No n\u00famero no es un n\u00famero."
     ]
    },
    {
     "cell_type": "code",
     "collapsed": false,
     "input": [
      "x=10**200\n",
      "x"
     ],
     "language": "python",
     "metadata": {},
     "outputs": [
      {
       "metadata": {},
       "output_type": "pyout",
       "prompt_number": 51,
       "text": [
        "100000000000000000000000000000000000000000000000000000000000000000000000000000000000000000000000000000000000000000000000000000000000000000000000000000000000000000000000000000000000000000000000000000000L"
       ]
      }
     ],
     "prompt_number": 51
    },
    {
     "cell_type": "code",
     "collapsed": false,
     "input": [
      "type(x)"
     ],
     "language": "python",
     "metadata": {},
     "outputs": [
      {
       "metadata": {},
       "output_type": "pyout",
       "prompt_number": 52,
       "text": [
        "long"
       ]
      }
     ],
     "prompt_number": 52
    },
    {
     "cell_type": "code",
     "collapsed": false,
     "input": [
      "y=x*x\n",
      "y"
     ],
     "language": "python",
     "metadata": {},
     "outputs": [
      {
       "metadata": {},
       "output_type": "pyout",
       "prompt_number": 54,
       "text": [
        "10000000000000000000000000000000000000000000000000000000000000000000000000000000000000000000000000000000000000000000000000000000000000000000000000000000000000000000000000000000000000000000000000000000000000000000000000000000000000000000000000000000000000000000000000000000000000000000000000000000000000000000000000000000000000000000000000000000000000000000000000000000000000000000000000000000000000000L"
       ]
      }
     ],
     "prompt_number": 54
    },
    {
     "cell_type": "code",
     "collapsed": false,
     "input": [
      "type(y)"
     ],
     "language": "python",
     "metadata": {},
     "outputs": [
      {
       "metadata": {},
       "output_type": "pyout",
       "prompt_number": 55,
       "text": [
        "long"
       ]
      }
     ],
     "prompt_number": 55
    },
    {
     "cell_type": "code",
     "collapsed": false,
     "input": [
      "(x+0.4)*x"
     ],
     "language": "python",
     "metadata": {},
     "outputs": [
      {
       "metadata": {},
       "output_type": "pyout",
       "prompt_number": 56,
       "text": [
        "inf"
       ]
      }
     ],
     "prompt_number": 56
    },
    {
     "cell_type": "code",
     "collapsed": false,
     "input": [
      "x*x+0.4"
     ],
     "language": "python",
     "metadata": {},
     "outputs": [
      {
       "ename": "OverflowError",
       "evalue": "long int too large to convert to float",
       "output_type": "pyerr",
       "traceback": [
        "\u001b[1;31m---------------------------------------------------------------------------\u001b[0m\n\u001b[1;31mOverflowError\u001b[0m                             Traceback (most recent call last)",
        "\u001b[1;32m<ipython-input-58-3e5d93e88644>\u001b[0m in \u001b[0;36m<module>\u001b[1;34m()\u001b[0m\n\u001b[1;32m----> 1\u001b[1;33m \u001b[0mx\u001b[0m\u001b[1;33m*\u001b[0m\u001b[0mx\u001b[0m\u001b[1;33m+\u001b[0m\u001b[1;36m0.4\u001b[0m\u001b[1;33m\u001b[0m\u001b[0m\n\u001b[0m",
        "\u001b[1;31mOverflowError\u001b[0m: long int too large to convert to float"
       ]
      }
     ],
     "prompt_number": 58
    },
    {
     "cell_type": "markdown",
     "metadata": {},
     "source": [
      "Por eso es importante hacer primero **c\u00e1lculo simb\u00f3lico**. Alternativa a Mathematica o Maple: **Maxima**.\n",
      "\n",
      "Importamos:"
     ]
    },
    {
     "cell_type": "code",
     "collapsed": false,
     "input": [
      "from sympy.interactive import printing\n",
      "printing.init_printing(use_latex=True)"
     ],
     "language": "python",
     "metadata": {},
     "outputs": [],
     "prompt_number": 68
    },
    {
     "cell_type": "code",
     "collapsed": false,
     "input": [
      "from sympy import Symbol\n",
      "x=Symbol('x') #Convertimos x a s\u00edmbolo"
     ],
     "language": "python",
     "metadata": {},
     "outputs": [],
     "prompt_number": 69
    },
    {
     "cell_type": "code",
     "collapsed": false,
     "input": [
      "x"
     ],
     "language": "python",
     "metadata": {},
     "outputs": [
      {
       "latex": [
        "$$x$$"
       ],
       "metadata": {},
       "output_type": "pyout",
       "png": "[encoded data removed]",
       "prompt_number": 70,
       "text": [
        "x"
       ]
      }
     ],
     "prompt_number": 70
    },
    {
     "cell_type": "code",
     "collapsed": false,
     "input": [
      "type(x)"
     ],
     "language": "python",
     "metadata": {},
     "outputs": [
      {
       "metadata": {},
       "output_type": "pyout",
       "prompt_number": 71,
       "text": [
        "sympy.core.symbol.Symbol"
       ]
      }
     ],
     "prompt_number": 71
    },
    {
     "cell_type": "code",
     "collapsed": false,
     "input": [
      "2*x-x"
     ],
     "language": "python",
     "metadata": {},
     "outputs": [
      {
       "latex": [
        "$$x$$"
       ],
       "metadata": {},
       "output_type": "pyout",
       "png": "[encoded data removed]",
       "prompt_number": 72,
       "text": [
        "x"
       ]
      }
     ],
     "prompt_number": 72
    },
    {
     "cell_type": "code",
     "collapsed": false,
     "input": [
      "import sympy as sym\n",
      "x,y,z=sym.symbols('x,y,z') #Definiendo varios s\u00edmbolos\n",
      "x+2*y+3*z-x"
     ],
     "language": "python",
     "metadata": {},
     "outputs": [
      {
       "latex": [
        "$$2 y + 3 z$$"
       ],
       "metadata": {},
       "output_type": "pyout",
       "png": "[encoded data removed]",
       "prompt_number": 73,
       "text": [
        "2\u22c5y + 3\u22c5z"
       ]
      }
     ],
     "prompt_number": 73
    },
    {
     "cell_type": "code",
     "collapsed": false,
     "input": [
      "a=sym.Rational(1,10) #Representando racionales\n",
      "a"
     ],
     "language": "python",
     "metadata": {},
     "outputs": [
      {
       "latex": [
        "$$\\frac{1}{10}$$"
       ],
       "metadata": {},
       "output_type": "pyout",
       "png": "[encoded data removed]",
       "prompt_number": 75,
       "text": [
        "1/10"
       ]
      }
     ],
     "prompt_number": 75
    },
    {
     "cell_type": "code",
     "collapsed": false,
     "input": [
      "b=sym.Rational(45,65)\n",
      "b"
     ],
     "language": "python",
     "metadata": {},
     "outputs": [
      {
       "latex": [
        "$$\\frac{9}{13}$$"
       ],
       "metadata": {},
       "output_type": "pyout",
       "png": "[encoded data removed]",
       "prompt_number": 76,
       "text": [
        "9/13"
       ]
      }
     ],
     "prompt_number": 76
    },
    {
     "cell_type": "code",
     "collapsed": false,
     "input": [
      "a*b #Se pueden hacer operaciones"
     ],
     "language": "python",
     "metadata": {},
     "outputs": [
      {
       "latex": [
        "$$\\frac{9}{130}$$"
       ],
       "metadata": {},
       "output_type": "pyout",
       "png": "[encoded data removed]",
       "prompt_number": 79,
       "text": [
        "9/130"
       ]
      }
     ],
     "prompt_number": 79
    },
    {
     "cell_type": "code",
     "collapsed": false,
     "input": [
      "float(b) #N\u00fam floante"
     ],
     "language": "python",
     "metadata": {},
     "outputs": [
      {
       "latex": [
        "$$0.692307692308$$"
       ],
       "metadata": {},
       "output_type": "pyout",
       "png": "[encoded data removed]",
       "prompt_number": 81,
       "text": [
        "0.692307692308"
       ]
      }
     ],
     "prompt_number": 81
    },
    {
     "cell_type": "code",
     "collapsed": false,
     "input": [
      "b"
     ],
     "language": "python",
     "metadata": {},
     "outputs": [
      {
       "latex": [
        "$$\\frac{9}{13}$$"
       ],
       "metadata": {},
       "output_type": "pyout",
       "png": "[encoded data removed]",
       "prompt_number": 82,
       "text": [
        "9/13"
       ]
      }
     ],
     "prompt_number": 82
    },
    {
     "cell_type": "code",
     "collapsed": false,
     "input": [
      "b.evalf() #Como se guarda"
     ],
     "language": "python",
     "metadata": {},
     "outputs": [
      {
       "latex": [
        "$$0.692307692307692$$"
       ],
       "metadata": {},
       "output_type": "pyout",
       "png": "[encoded data removed]",
       "prompt_number": 83,
       "text": [
        "0.692307692307692"
       ]
      }
     ],
     "prompt_number": 83
    },
    {
     "cell_type": "code",
     "collapsed": false,
     "input": [
      "b.evalf(30) #30 decimales, forzar c\u00e1lculo  de m\u00e1s decimales"
     ],
     "language": "python",
     "metadata": {},
     "outputs": [
      {
       "latex": [
        "$$0.692307692307692307692307692308$$"
       ],
       "metadata": {},
       "output_type": "pyout",
       "png": "[encoded data removed]",
       "prompt_number": 85,
       "text": [
        "0.692307692307692307692307692308"
       ]
      }
     ],
     "prompt_number": 85
    },
    {
     "cell_type": "code",
     "collapsed": false,
     "input": [
      "from sympy import *"
     ],
     "language": "python",
     "metadata": {},
     "outputs": [],
     "prompt_number": 86
    },
    {
     "cell_type": "code",
     "collapsed": false,
     "input": [
      "diff(sin(x),x) #derivando respecto a x"
     ],
     "language": "python",
     "metadata": {},
     "outputs": [
      {
       "latex": [
        "$$\\cos{\\left (x \\right )}$$"
       ],
       "metadata": {},
       "output_type": "pyout",
       "png": "[encoded data removed]",
       "prompt_number": 88,
       "text": [
        "cos(x)"
       ]
      }
     ],
     "prompt_number": 88
    },
    {
     "cell_type": "code",
     "collapsed": false,
     "input": [
      "diff(x+y,x,y) #Derivando respecto a x, y"
     ],
     "language": "python",
     "metadata": {},
     "outputs": [
      {
       "latex": [
        "$$0$$"
       ],
       "metadata": {},
       "output_type": "pyout",
       "png": "[encoded data removed]",
       "prompt_number": 89,
       "text": [
        "0"
       ]
      }
     ],
     "prompt_number": 89
    },
    {
     "cell_type": "code",
     "collapsed": false,
     "input": [
      "integrate(sin(x),x) #Tambi\u00e9n integra"
     ],
     "language": "python",
     "metadata": {},
     "outputs": [
      {
       "latex": [
        "$$- \\cos{\\left (x \\right )}$$"
       ],
       "metadata": {},
       "output_type": "pyout",
       "png": "[encoded data removed]",
       "prompt_number": 92,
       "text": [
        "-cos(x)"
       ]
      }
     ],
     "prompt_number": 92
    },
    {
     "cell_type": "code",
     "collapsed": false,
     "input": [
      "y=Function('y') #Una funci\u00f3n\n",
      "x=Symbol('x') #Un s\u00edmbolo\n",
      "y_=Derivative(y(x),x) #Definiendo y'"
     ],
     "language": "python",
     "metadata": {},
     "outputs": [],
     "prompt_number": 94
    },
    {
     "cell_type": "code",
     "collapsed": true,
     "input": [
      "ode=y_+10*y(x)+3*y(x)**2 #Nuestra ec diferencial igualada a 0\n",
      "ode"
     ],
     "language": "python",
     "metadata": {},
     "outputs": [
      {
       "latex": [
        "$$3 y^{2}{\\left (x \\right )} + 10 y{\\left (x \\right )} + \\frac{d}{d x} y{\\left (x \\right )}$$"
       ],
       "metadata": {},
       "output_type": "pyout",
       "png": "[encoded data removed]",
       "prompt_number": 99,
       "text": [
        "   2                d       \n",
        "3\u22c5y (x) + 10\u22c5y(x) + \u2500\u2500(y(x))\n",
        "                    dx      "
       ]
      }
     ],
     "prompt_number": 99
    },
    {
     "cell_type": "code",
     "collapsed": true,
     "input": [
      "sol=dsolve(ode,y(x)) #Resolviendo la ecuaci\u00f3n\n",
      "sol"
     ],
     "language": "python",
     "metadata": {},
     "outputs": [
      {
       "latex": [
        "$$y{\\left (x \\right )} = - \\frac{10 C_{1}}{3 C_{1} - 3 e^{10 x}}$$"
       ],
       "metadata": {},
       "output_type": "pyout",
       "png": "[encoded data removed]",
       "prompt_number": 100,
       "text": [
        "          -10\u22c5C\u2081     \n",
        "y(x) = \u2500\u2500\u2500\u2500\u2500\u2500\u2500\u2500\u2500\u2500\u2500\u2500\u2500\u2500\n",
        "         \u239b      10\u22c5x\u239e\n",
        "       3\u22c5\u239dC\u2081 - \u212f    \u23a0"
       ]
      }
     ],
     "prompt_number": 100
    },
    {
     "cell_type": "code",
     "collapsed": false,
     "input": [
      "type(sol)"
     ],
     "language": "python",
     "metadata": {},
     "outputs": [
      {
       "metadata": {},
       "output_type": "pyout",
       "prompt_number": 101,
       "text": [
        "sympy.core.relational.Equality"
       ]
      }
     ],
     "prompt_number": 101
    },
    {
     "cell_type": "code",
     "collapsed": false,
     "input": [
      "sin(x).series(x,0) #Expandir seno en serie de Taylor (alrededor de 0) "
     ],
     "language": "python",
     "metadata": {},
     "outputs": [
      {
       "latex": [
        "$$x - \\frac{x^{3}}{6} + \\frac{x^{5}}{120} + \\mathcal{O}\\left(x^{6}\\right)$$"
       ],
       "metadata": {},
       "output_type": "pyout",
       "png": "[encoded data removed]",
       "prompt_number": 102,
       "text": [
        "     3     5        \n",
        "    x     x     \u239b 6\u239e\n",
        "x - \u2500\u2500 + \u2500\u2500\u2500 + O\u239dx \u23a0\n",
        "    6    120        "
       ]
      }
     ],
     "prompt_number": 102
    },
    {
     "cell_type": "code",
     "collapsed": false,
     "input": [
      "dx=Rational(1,10) #Para resolver el problema de los flotantes\n",
      "dx"
     ],
     "language": "python",
     "metadata": {},
     "outputs": [
      {
       "latex": [
        "$$\\frac{1}{10}$$"
       ],
       "metadata": {},
       "output_type": "pyout",
       "png": "[encoded data removed]",
       "prompt_number": 103,
       "text": [
        "1/10"
       ]
      }
     ],
     "prompt_number": 103
    },
    {
     "cell_type": "code",
     "collapsed": false,
     "input": [
      "x=0"
     ],
     "language": "python",
     "metadata": {},
     "outputs": [],
     "prompt_number": 108
    },
    {
     "cell_type": "code",
     "collapsed": false,
     "input": [
      "while x != 1.0: #No se atora\n",
      "    x = x+dx\n",
      "    print \"x=%4s = %3.1f\" % (x, x.evalf())"
     ],
     "language": "python",
     "metadata": {},
     "outputs": [
      {
       "output_type": "stream",
       "stream": "stdout",
       "text": [
        "x=1/10 = 0.1\n",
        "x= 1/5 = 0.2\n",
        "x=3/10 = 0.3\n",
        "x= 2/5 = 0.4\n",
        "x= 1/2 = 0.5\n",
        "x= 3/5 = 0.6\n",
        "x=7/10 = 0.7\n",
        "x= 4/5 = 0.8\n",
        "x=9/10 = 0.9\n",
        "x=   1 = 1.0\n"
       ]
      }
     ],
     "prompt_number": 109
    },
    {
     "cell_type": "code",
     "collapsed": false,
     "input": [
      "dx_symbolic = Rational(1,10) #Bucle simb\u00f3lico\n",
      "\n",
      "def bucle_sympy(n):\n",
      "    x = 0\n",
      "    for i in xrange(n):\n",
      "        x = x + dx_symbolic\n",
      "    return x"
     ],
     "language": "python",
     "metadata": {},
     "outputs": [],
     "prompt_number": 110
    },
    {
     "cell_type": "code",
     "collapsed": false,
     "input": [
      "dx = 0.1 #Bucle flotante\n",
      "def bucle_float(n):\n",
      "    x = 0\n",
      "    for i in xrange(n):\n",
      "        x = x + dx\n",
      "    return x"
     ],
     "language": "python",
     "metadata": {},
     "outputs": [],
     "prompt_number": 111
    },
    {
     "cell_type": "code",
     "collapsed": false,
     "input": [
      "n = 100000"
     ],
     "language": "python",
     "metadata": {},
     "outputs": [],
     "prompt_number": 112
    },
    {
     "cell_type": "code",
     "collapsed": false,
     "input": [
      "%timeit bucle_sympy(n) #Se repite el bloque simb\u00f3lico n veces y se calcula el tiempo de ejecuci\u00f3n"
     ],
     "language": "python",
     "metadata": {},
     "outputs": [
      {
       "output_type": "stream",
       "stream": "stdout",
       "text": [
        "1 loops, best of 3: 8.84 s per loop\n"
       ]
      }
     ],
     "prompt_number": 113
    },
    {
     "cell_type": "code",
     "collapsed": false,
     "input": [
      "%timeit bucle_float(n) #Se repite el bloque flotante n veces y se calcula el tiempo de ejecuci\u00f3n"
     ],
     "language": "python",
     "metadata": {},
     "outputs": [
      {
       "output_type": "stream",
       "stream": "stdout",
       "text": [
        "100 loops, best of 3: 7.16 ms per loop\n"
       ]
      }
     ],
     "prompt_number": 114
    },
    {
     "cell_type": "code",
     "collapsed": false,
     "input": [
      "#Machine epsilon\n",
      "e=1\n",
      "while 1+e!=1:\n",
      "    e=.1*e\n",
      "print e\n",
      "    "
     ],
     "language": "python",
     "metadata": {},
     "outputs": [
      {
       "output_type": "stream",
       "stream": "stdout",
       "text": [
        "1e-16\n"
       ]
      }
     ],
     "prompt_number": 33
    },
    {
     "cell_type": "code",
     "collapsed": false,
     "input": [
      "#La computadora soporta 15 n\u00fameros despu\u00e9s del punto decimal... En cada operaci\u00f3n, se pierde la precisi\u00f3n"
     ],
     "language": "python",
     "metadata": {},
     "outputs": [],
     "prompt_number": 34
    },
    {
     "cell_type": "code",
     "collapsed": false,
     "input": [
      "import math\n",
      "-16*math.log(10)/math.log(2)"
     ],
     "language": "python",
     "metadata": {},
     "outputs": [
      {
       "metadata": {},
       "output_type": "pyout",
       "prompt_number": 39,
       "text": [
        "-53.1508495181978"
       ]
      }
     ],
     "prompt_number": 39
    },
    {
     "cell_type": "code",
     "collapsed": false,
     "input": [
      "#Tenemos 52 bits despu\u00e9s del punto. <"
     ],
     "language": "python",
     "metadata": {},
     "outputs": [],
     "prompt_number": 1
    },
    {
     "cell_type": "code",
     "collapsed": false,
     "input": [
      "bin(int('805c000',16))"
     ],
     "language": "python",
     "metadata": {},
     "outputs": [
      {
       "metadata": {},
       "output_type": "pyout",
       "prompt_number": 9,
       "text": [
        "'0b1000000001011100000000000000'"
       ]
      }
     ],
     "prompt_number": 9
    },
    {
     "cell_type": "code",
     "collapsed": false,
     "input": [
      "hex(26)"
     ],
     "language": "python",
     "metadata": {},
     "outputs": [
      {
       "metadata": {},
       "output_type": "pyout",
       "prompt_number": 6,
       "text": [
        "'0x1a'"
       ]
      }
     ],
     "prompt_number": 6
    },
    {
     "cell_type": "code",
     "collapsed": false,
     "input": [
      "int('805c000',16)"
     ],
     "language": "python",
     "metadata": {},
     "outputs": [
      {
       "metadata": {},
       "output_type": "pyout",
       "prompt_number": 10,
       "text": [
        "134594560"
       ]
      }
     ],
     "prompt_number": 10
    },
    {
     "cell_type": "code",
     "collapsed": false,
     "input": [],
     "language": "python",
     "metadata": {},
     "outputs": []
    }
   ],
   "metadata": {}
  }
 ]
}