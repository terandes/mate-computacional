{
 "metadata": {
  "name": "",
  "signature": "sha256:668739f98230f73d78ed8b4876df2481fda58ce4a48446f68e968338fe6f0916"
 },
 "nbformat": 3,
 "nbformat_minor": 0,
 "worksheets": [
  {
   "cells": [
    {
     "cell_type": "heading",
     "level": 1,
     "metadata": {},
     "source": [
      "Tareas"
     ]
    },
    {
     "cell_type": "heading",
     "level": 2,
     "metadata": {},
     "source": [
      "Problema 1"
     ]
    },
    {
     "cell_type": "markdown",
     "metadata": {},
     "source": [
      "**(a)** Usando **SimPy** demostrar que \n",
      "\n",
      "$$\n",
      "\\frac{\\partial}{\\partial \\beta_j} \\textbf{J}(\\beta) = \\frac{1}{m}\\sum_{i=1}^{m}\\left(\\hat{y}(x^{(i)}) - y(x^{(i)})\\right) \\cdot x^{(i)}_j\n",
      "$$"
     ]
    },
    {
     "cell_type": "heading",
     "level": 2,
     "metadata": {},
     "source": [
      "Problema 2"
     ]
    },
    {
     "cell_type": "markdown",
     "metadata": {},
     "source": [
      "**(a)**  Usando los datos de `chirps.txt`"
     ]
    },
    {
     "cell_type": "code",
     "collapsed": false,
     "input": [
      "%cat data/chirps.txt"
     ],
     "language": "python",
     "metadata": {},
     "outputs": [
      {
       "output_type": "stream",
       "stream": "stdout",
       "text": [
        "#Chirps/Second \tTemperature (\ufffd\ufffd F)\r\n",
        "20.0 \t88.6\r\n",
        "16.0 \t71.6\r\n",
        "19.8 \t93.3\r\n",
        "18.4 \t84.3\r\n",
        "17.1 \t80.6\r\n",
        "15.5 \t75.2\r\n",
        "14.7 \t69.7\r\n",
        "15.7 \t71.6\r\n",
        "15.4 \t69.4\r\n",
        "16.3 \t83.3\r\n",
        "15.0 \t79.6\r\n",
        "17.2 \t82.6\r\n",
        "16.0 \t80.6\r\n",
        "17.0 \t83.5\r\n",
        "14.4 \t76.3\r\n"
       ]
      }
     ],
     "prompt_number": 1
    },
    {
     "cell_type": "markdown",
     "metadata": {},
     "source": [
      "Entrenar una regresi\u00f3n lineal. Grafique los datos y el mejor modelo. Explique como lleg\u00f3 a los valores de $\\alpha$. \u00bfCoinciden con los mostrados en la p\u00e1gina web?"
     ]
    },
    {
     "cell_type": "markdown",
     "metadata": {},
     "source": [
      "<div class=\"alert alert-warning\">\n",
      "**NOTA**: Datos obtenidos de [aqu\u00ed](http://mathbits.com/MathBits/TISection/Statistics2/linearREAL.htm)\n",
      "</div>"
     ]
    },
    {
     "cell_type": "heading",
     "level": 2,
     "metadata": {},
     "source": [
      "Problema 3"
     ]
    },
    {
     "cell_type": "markdown",
     "metadata": {},
     "source": [
      "**(a)** Usando los datos del [cuarteto de Anscombe](http://en.wikipedia.org/wiki/Anscombe%27s_quartet) Calcule la regresi\u00f3n lineal \u00bfQu\u00e9 sucede?"
     ]
    },
    {
     "cell_type": "heading",
     "level": 2,
     "metadata": {},
     "source": [
      "Problema 4"
     ]
    },
    {
     "cell_type": "markdown",
     "metadata": {},
     "source": [
      "Use el archivo `radioactive_decay.dat`"
     ]
    },
    {
     "cell_type": "code",
     "collapsed": false,
     "input": [
      "%cat data/radioactive_decay.txt"
     ],
     "language": "python",
     "metadata": {},
     "outputs": [
      {
       "output_type": "stream",
       "stream": "stdout",
       "text": [
        "#time   N_(remaining)\r\n",
        "0.0\t10.48\r\n",
        "1.0\t7.54\r\n",
        "2.0\t5.49\r\n",
        "3.0\t4.02\r\n",
        "4.0\t2.74\r\n",
        "5.0\t2.02\r\n",
        "6.0\t1.50\r\n",
        "7.0\t1.09\r\n",
        "8.0\t0.68\r\n",
        "9.0\t0.57\r\n",
        "10.0\t0.37\r\n",
        "11.0\t0.31\r\n",
        "12.0\t0.19\r\n",
        "13.0\t0.15\r\n",
        "14.0\t0.13\r\n",
        "15.0\t0.11\r\n"
       ]
      }
     ],
     "prompt_number": 2
    },
    {
     "cell_type": "markdown",
     "metadata": {},
     "source": [
      "**(a)** Grafique los datos \u00bfQu\u00e9 forma tienen?"
     ]
    },
    {
     "cell_type": "markdown",
     "metadata": {},
     "source": [
      "**(b)** \u00bfQu\u00e9 transformaci\u00f3n se le ocurre para linearizarlos? Explique y grafique de nuevo. Guarde los datos transformados en un archivo llamado `transform_radioactive_decay.txt`"
     ]
    },
    {
     "cell_type": "markdown",
     "metadata": {},
     "source": [
      "**(c)** Aplique la regresi\u00f3n lineal a este conjunto de datos transformado, leyendo los datos del archivo reci\u00e9n creado."
     ]
    },
    {
     "cell_type": "markdown",
     "metadata": {},
     "source": [
      "**(d)** \u00bfCu\u00e1les son los valores de $\\beta$ que mejor ajustan? \u00bfCu\u00e1les son el espacio sin transformar? Explique."
     ]
    }
   ],
   "metadata": {}
  }
 ]
}